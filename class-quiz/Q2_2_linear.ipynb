{
  "cells": [
    {
      "cell_type": "markdown",
      "metadata": {
        "id": "ApJ-Ca_N7hkH"
      },
      "source": [
        "# Motivation\n",
        "Modeling the sale price of a home could be valuable for multiple reasons:\n",
        "- To a real estate investor, understanding the future value of a property can guide purchasing strategies.\n",
        "- To a home buyer, a model could help inform them which house, in a set of potential purchases, is reasonably priced.\n",
        "- From the perspective of a governing entity, understanding the determinants of sales price can inform policy that seeks to create affordable housing or highlight and respond to volatility in housing markets.\n",
        "\n",
        "# Overview\n",
        "In this assignment, we will apply linear regression, polynomial regression, and\n",
        "regularization techniques to predict the sale price of houses. The [dataset](https://www.kaggle.com/competitions/house-prices-advanced-regression-techniques/data) we use contains a rich set of features: 79 explanatory variables describing various  aspects of residential homes in Ames, Iowa.\n",
        "\n",
        "\n",
        "# Goals\n",
        "\n",
        "1) Predict the sales price of a home using a real-world dataset\n",
        "\n",
        "2) Use regularization to avoid overfitting and improve model performance\n",
        "\n",
        "3) Explain how machine learning help us better understand variation in housing prices\n"
      ]
    },
    {
      "cell_type": "code",
      "execution_count": 112,
      "metadata": {
        "id": "4YbHDi96Yrqs"
      },
      "outputs": [],
      "source": [
        "import os\n",
        "import matplotlib.pyplot as plt\n",
        "import seaborn as sns\n",
        "import numpy as np\n",
        "import pandas as pd\n",
        "from sklearn.linear_model import LinearRegression, Ridge, Lasso\n",
        "from sklearn.preprocessing import PolynomialFeatures\n",
        "from sklearn.model_selection import train_test_split\n",
        "from sklearn.preprocessing import OneHotEncoder"
      ]
    },
    {
      "cell_type": "markdown",
      "metadata": {
        "id": "cTlXBMT_aEaw"
      },
      "source": [
        "# Exploratory Data Analysis (EDA)"
      ]
    },
    {
      "cell_type": "code",
      "execution_count": 113,
      "metadata": {
        "colab": {
          "base_uri": "https://localhost:8080/"
        },
        "id": "J9yWkJ6mZCst",
        "outputId": "fe2790ab-6c4b-4525-905b-e3a9384017e0"
      },
      "outputs": [
        {
          "output_type": "execute_result",
          "data": {
            "text/plain": [
              "(2919, 81)"
            ]
          },
          "metadata": {},
          "execution_count": 113
        }
      ],
      "source": [
        "# Import data and check basic information\n",
        "# Note: please use the dataset we provided on Canvas, do not use the one posted on Kaggle\n",
        "df = pd.read_csv('house_data.csv')\n",
        "df.shape"
      ]
    },
    {
      "cell_type": "code",
      "execution_count": 114,
      "metadata": {
        "colab": {
          "base_uri": "https://localhost:8080/"
        },
        "id": "uq-debBEZDFf",
        "outputId": "cd0cad99-45c4-4d9c-a02a-bc9dad883933"
      },
      "outputs": [
        {
          "output_type": "execute_result",
          "data": {
            "text/plain": [
              "Index(['Id', 'MSSubClass', 'MSZoning', 'LotFrontage', 'LotArea', 'Street',\n",
              "       'Alley', 'LotShape', 'LandContour', 'Utilities', 'LotConfig',\n",
              "       'LandSlope', 'Neighborhood', 'Condition1', 'Condition2', 'BldgType',\n",
              "       'HouseStyle', 'OverallQual', 'OverallCond', 'YearBuilt', 'YearRemodAdd',\n",
              "       'RoofStyle', 'RoofMatl', 'Exterior1st', 'Exterior2nd', 'MasVnrType',\n",
              "       'MasVnrArea', 'ExterQual', 'ExterCond', 'Foundation', 'BsmtQual',\n",
              "       'BsmtCond', 'BsmtExposure', 'BsmtFinType1', 'BsmtFinSF1',\n",
              "       'BsmtFinType2', 'BsmtFinSF2', 'BsmtUnfSF', 'TotalBsmtSF', 'Heating',\n",
              "       'HeatingQC', 'CentralAir', 'Electrical', '1stFlrSF', '2ndFlrSF',\n",
              "       'LowQualFinSF', 'GrLivArea', 'BsmtFullBath', 'BsmtHalfBath', 'FullBath',\n",
              "       'HalfBath', 'BedroomAbvGr', 'KitchenAbvGr', 'KitchenQual',\n",
              "       'TotRmsAbvGrd', 'Functional', 'Fireplaces', 'FireplaceQu', 'GarageType',\n",
              "       'GarageYrBlt', 'GarageFinish', 'GarageCars', 'GarageArea', 'GarageQual',\n",
              "       'GarageCond', 'PavedDrive', 'WoodDeckSF', 'OpenPorchSF',\n",
              "       'EnclosedPorch', '3SsnPorch', 'ScreenPorch', 'PoolArea', 'PoolQC',\n",
              "       'Fence', 'MiscFeature', 'MiscVal', 'MoSold', 'YrSold', 'SaleType',\n",
              "       'SaleCondition', 'SalePrice'],\n",
              "      dtype='object')"
            ]
          },
          "metadata": {},
          "execution_count": 114
        }
      ],
      "source": [
        "# View variables\n",
        "df.columns"
      ]
    },
    {
      "cell_type": "code",
      "execution_count": 115,
      "metadata": {
        "colab": {
          "base_uri": "https://localhost:8080/",
          "height": 256
        },
        "id": "4X60_EbGad7l",
        "outputId": "6d98ac16-6b51-4bec-84e0-c818f2a41596"
      },
      "outputs": [
        {
          "output_type": "execute_result",
          "data": {
            "text/plain": [
              "   Id  MSSubClass MSZoning  LotFrontage  LotArea Street Alley LotShape  \\\n",
              "0   1          60       RL         65.0     8450   Pave   NaN      Reg   \n",
              "1   2          20       RL         80.0     9600   Pave   NaN      Reg   \n",
              "2   3          60       RL         68.0    11250   Pave   NaN      IR1   \n",
              "3   4          70       RL         60.0     9550   Pave   NaN      IR1   \n",
              "4   5          60       RL         84.0    14260   Pave   NaN      IR1   \n",
              "\n",
              "  LandContour Utilities  ... PoolArea PoolQC Fence MiscFeature MiscVal MoSold  \\\n",
              "0         Lvl    AllPub  ...        0    NaN   NaN         NaN       0      2   \n",
              "1         Lvl    AllPub  ...        0    NaN   NaN         NaN       0      5   \n",
              "2         Lvl    AllPub  ...        0    NaN   NaN         NaN       0      9   \n",
              "3         Lvl    AllPub  ...        0    NaN   NaN         NaN       0      2   \n",
              "4         Lvl    AllPub  ...        0    NaN   NaN         NaN       0     12   \n",
              "\n",
              "  YrSold  SaleType  SaleCondition  SalePrice  \n",
              "0   2008        WD         Normal   208500.0  \n",
              "1   2007        WD         Normal   181500.0  \n",
              "2   2008        WD         Normal   223500.0  \n",
              "3   2006        WD        Abnorml   140000.0  \n",
              "4   2008        WD         Normal   250000.0  \n",
              "\n",
              "[5 rows x 81 columns]"
            ],
            "text/html": [
              "\n",
              "  <div id=\"df-41fba93e-a3e1-4e66-b60e-5368ddae0e86\" class=\"colab-df-container\">\n",
              "    <div>\n",
              "<style scoped>\n",
              "    .dataframe tbody tr th:only-of-type {\n",
              "        vertical-align: middle;\n",
              "    }\n",
              "\n",
              "    .dataframe tbody tr th {\n",
              "        vertical-align: top;\n",
              "    }\n",
              "\n",
              "    .dataframe thead th {\n",
              "        text-align: right;\n",
              "    }\n",
              "</style>\n",
              "<table border=\"1\" class=\"dataframe\">\n",
              "  <thead>\n",
              "    <tr style=\"text-align: right;\">\n",
              "      <th></th>\n",
              "      <th>Id</th>\n",
              "      <th>MSSubClass</th>\n",
              "      <th>MSZoning</th>\n",
              "      <th>LotFrontage</th>\n",
              "      <th>LotArea</th>\n",
              "      <th>Street</th>\n",
              "      <th>Alley</th>\n",
              "      <th>LotShape</th>\n",
              "      <th>LandContour</th>\n",
              "      <th>Utilities</th>\n",
              "      <th>...</th>\n",
              "      <th>PoolArea</th>\n",
              "      <th>PoolQC</th>\n",
              "      <th>Fence</th>\n",
              "      <th>MiscFeature</th>\n",
              "      <th>MiscVal</th>\n",
              "      <th>MoSold</th>\n",
              "      <th>YrSold</th>\n",
              "      <th>SaleType</th>\n",
              "      <th>SaleCondition</th>\n",
              "      <th>SalePrice</th>\n",
              "    </tr>\n",
              "  </thead>\n",
              "  <tbody>\n",
              "    <tr>\n",
              "      <th>0</th>\n",
              "      <td>1</td>\n",
              "      <td>60</td>\n",
              "      <td>RL</td>\n",
              "      <td>65.0</td>\n",
              "      <td>8450</td>\n",
              "      <td>Pave</td>\n",
              "      <td>NaN</td>\n",
              "      <td>Reg</td>\n",
              "      <td>Lvl</td>\n",
              "      <td>AllPub</td>\n",
              "      <td>...</td>\n",
              "      <td>0</td>\n",
              "      <td>NaN</td>\n",
              "      <td>NaN</td>\n",
              "      <td>NaN</td>\n",
              "      <td>0</td>\n",
              "      <td>2</td>\n",
              "      <td>2008</td>\n",
              "      <td>WD</td>\n",
              "      <td>Normal</td>\n",
              "      <td>208500.0</td>\n",
              "    </tr>\n",
              "    <tr>\n",
              "      <th>1</th>\n",
              "      <td>2</td>\n",
              "      <td>20</td>\n",
              "      <td>RL</td>\n",
              "      <td>80.0</td>\n",
              "      <td>9600</td>\n",
              "      <td>Pave</td>\n",
              "      <td>NaN</td>\n",
              "      <td>Reg</td>\n",
              "      <td>Lvl</td>\n",
              "      <td>AllPub</td>\n",
              "      <td>...</td>\n",
              "      <td>0</td>\n",
              "      <td>NaN</td>\n",
              "      <td>NaN</td>\n",
              "      <td>NaN</td>\n",
              "      <td>0</td>\n",
              "      <td>5</td>\n",
              "      <td>2007</td>\n",
              "      <td>WD</td>\n",
              "      <td>Normal</td>\n",
              "      <td>181500.0</td>\n",
              "    </tr>\n",
              "    <tr>\n",
              "      <th>2</th>\n",
              "      <td>3</td>\n",
              "      <td>60</td>\n",
              "      <td>RL</td>\n",
              "      <td>68.0</td>\n",
              "      <td>11250</td>\n",
              "      <td>Pave</td>\n",
              "      <td>NaN</td>\n",
              "      <td>IR1</td>\n",
              "      <td>Lvl</td>\n",
              "      <td>AllPub</td>\n",
              "      <td>...</td>\n",
              "      <td>0</td>\n",
              "      <td>NaN</td>\n",
              "      <td>NaN</td>\n",
              "      <td>NaN</td>\n",
              "      <td>0</td>\n",
              "      <td>9</td>\n",
              "      <td>2008</td>\n",
              "      <td>WD</td>\n",
              "      <td>Normal</td>\n",
              "      <td>223500.0</td>\n",
              "    </tr>\n",
              "    <tr>\n",
              "      <th>3</th>\n",
              "      <td>4</td>\n",
              "      <td>70</td>\n",
              "      <td>RL</td>\n",
              "      <td>60.0</td>\n",
              "      <td>9550</td>\n",
              "      <td>Pave</td>\n",
              "      <td>NaN</td>\n",
              "      <td>IR1</td>\n",
              "      <td>Lvl</td>\n",
              "      <td>AllPub</td>\n",
              "      <td>...</td>\n",
              "      <td>0</td>\n",
              "      <td>NaN</td>\n",
              "      <td>NaN</td>\n",
              "      <td>NaN</td>\n",
              "      <td>0</td>\n",
              "      <td>2</td>\n",
              "      <td>2006</td>\n",
              "      <td>WD</td>\n",
              "      <td>Abnorml</td>\n",
              "      <td>140000.0</td>\n",
              "    </tr>\n",
              "    <tr>\n",
              "      <th>4</th>\n",
              "      <td>5</td>\n",
              "      <td>60</td>\n",
              "      <td>RL</td>\n",
              "      <td>84.0</td>\n",
              "      <td>14260</td>\n",
              "      <td>Pave</td>\n",
              "      <td>NaN</td>\n",
              "      <td>IR1</td>\n",
              "      <td>Lvl</td>\n",
              "      <td>AllPub</td>\n",
              "      <td>...</td>\n",
              "      <td>0</td>\n",
              "      <td>NaN</td>\n",
              "      <td>NaN</td>\n",
              "      <td>NaN</td>\n",
              "      <td>0</td>\n",
              "      <td>12</td>\n",
              "      <td>2008</td>\n",
              "      <td>WD</td>\n",
              "      <td>Normal</td>\n",
              "      <td>250000.0</td>\n",
              "    </tr>\n",
              "  </tbody>\n",
              "</table>\n",
              "<p>5 rows × 81 columns</p>\n",
              "</div>\n",
              "    <div class=\"colab-df-buttons\">\n",
              "\n",
              "  <div class=\"colab-df-container\">\n",
              "    <button class=\"colab-df-convert\" onclick=\"convertToInteractive('df-41fba93e-a3e1-4e66-b60e-5368ddae0e86')\"\n",
              "            title=\"Convert this dataframe to an interactive table.\"\n",
              "            style=\"display:none;\">\n",
              "\n",
              "  <svg xmlns=\"http://www.w3.org/2000/svg\" height=\"24px\" viewBox=\"0 -960 960 960\">\n",
              "    <path d=\"M120-120v-720h720v720H120Zm60-500h600v-160H180v160Zm220 220h160v-160H400v160Zm0 220h160v-160H400v160ZM180-400h160v-160H180v160Zm440 0h160v-160H620v160ZM180-180h160v-160H180v160Zm440 0h160v-160H620v160Z\"/>\n",
              "  </svg>\n",
              "    </button>\n",
              "\n",
              "  <style>\n",
              "    .colab-df-container {\n",
              "      display:flex;\n",
              "      gap: 12px;\n",
              "    }\n",
              "\n",
              "    .colab-df-convert {\n",
              "      background-color: #E8F0FE;\n",
              "      border: none;\n",
              "      border-radius: 50%;\n",
              "      cursor: pointer;\n",
              "      display: none;\n",
              "      fill: #1967D2;\n",
              "      height: 32px;\n",
              "      padding: 0 0 0 0;\n",
              "      width: 32px;\n",
              "    }\n",
              "\n",
              "    .colab-df-convert:hover {\n",
              "      background-color: #E2EBFA;\n",
              "      box-shadow: 0px 1px 2px rgba(60, 64, 67, 0.3), 0px 1px 3px 1px rgba(60, 64, 67, 0.15);\n",
              "      fill: #174EA6;\n",
              "    }\n",
              "\n",
              "    .colab-df-buttons div {\n",
              "      margin-bottom: 4px;\n",
              "    }\n",
              "\n",
              "    [theme=dark] .colab-df-convert {\n",
              "      background-color: #3B4455;\n",
              "      fill: #D2E3FC;\n",
              "    }\n",
              "\n",
              "    [theme=dark] .colab-df-convert:hover {\n",
              "      background-color: #434B5C;\n",
              "      box-shadow: 0px 1px 3px 1px rgba(0, 0, 0, 0.15);\n",
              "      filter: drop-shadow(0px 1px 2px rgba(0, 0, 0, 0.3));\n",
              "      fill: #FFFFFF;\n",
              "    }\n",
              "  </style>\n",
              "\n",
              "    <script>\n",
              "      const buttonEl =\n",
              "        document.querySelector('#df-41fba93e-a3e1-4e66-b60e-5368ddae0e86 button.colab-df-convert');\n",
              "      buttonEl.style.display =\n",
              "        google.colab.kernel.accessAllowed ? 'block' : 'none';\n",
              "\n",
              "      async function convertToInteractive(key) {\n",
              "        const element = document.querySelector('#df-41fba93e-a3e1-4e66-b60e-5368ddae0e86');\n",
              "        const dataTable =\n",
              "          await google.colab.kernel.invokeFunction('convertToInteractive',\n",
              "                                                    [key], {});\n",
              "        if (!dataTable) return;\n",
              "\n",
              "        const docLinkHtml = 'Like what you see? Visit the ' +\n",
              "          '<a target=\"_blank\" href=https://colab.research.google.com/notebooks/data_table.ipynb>data table notebook</a>'\n",
              "          + ' to learn more about interactive tables.';\n",
              "        element.innerHTML = '';\n",
              "        dataTable['output_type'] = 'display_data';\n",
              "        await google.colab.output.renderOutput(dataTable, element);\n",
              "        const docLink = document.createElement('div');\n",
              "        docLink.innerHTML = docLinkHtml;\n",
              "        element.appendChild(docLink);\n",
              "      }\n",
              "    </script>\n",
              "  </div>\n",
              "\n",
              "\n",
              "<div id=\"df-8545c284-197b-4aa0-9c86-0121e71a6c13\">\n",
              "  <button class=\"colab-df-quickchart\" onclick=\"quickchart('df-8545c284-197b-4aa0-9c86-0121e71a6c13')\"\n",
              "            title=\"Suggest charts\"\n",
              "            style=\"display:none;\">\n",
              "\n",
              "<svg xmlns=\"http://www.w3.org/2000/svg\" height=\"24px\"viewBox=\"0 0 24 24\"\n",
              "     width=\"24px\">\n",
              "    <g>\n",
              "        <path d=\"M19 3H5c-1.1 0-2 .9-2 2v14c0 1.1.9 2 2 2h14c1.1 0 2-.9 2-2V5c0-1.1-.9-2-2-2zM9 17H7v-7h2v7zm4 0h-2V7h2v10zm4 0h-2v-4h2v4z\"/>\n",
              "    </g>\n",
              "</svg>\n",
              "  </button>\n",
              "\n",
              "<style>\n",
              "  .colab-df-quickchart {\n",
              "      --bg-color: #E8F0FE;\n",
              "      --fill-color: #1967D2;\n",
              "      --hover-bg-color: #E2EBFA;\n",
              "      --hover-fill-color: #174EA6;\n",
              "      --disabled-fill-color: #AAA;\n",
              "      --disabled-bg-color: #DDD;\n",
              "  }\n",
              "\n",
              "  [theme=dark] .colab-df-quickchart {\n",
              "      --bg-color: #3B4455;\n",
              "      --fill-color: #D2E3FC;\n",
              "      --hover-bg-color: #434B5C;\n",
              "      --hover-fill-color: #FFFFFF;\n",
              "      --disabled-bg-color: #3B4455;\n",
              "      --disabled-fill-color: #666;\n",
              "  }\n",
              "\n",
              "  .colab-df-quickchart {\n",
              "    background-color: var(--bg-color);\n",
              "    border: none;\n",
              "    border-radius: 50%;\n",
              "    cursor: pointer;\n",
              "    display: none;\n",
              "    fill: var(--fill-color);\n",
              "    height: 32px;\n",
              "    padding: 0;\n",
              "    width: 32px;\n",
              "  }\n",
              "\n",
              "  .colab-df-quickchart:hover {\n",
              "    background-color: var(--hover-bg-color);\n",
              "    box-shadow: 0 1px 2px rgba(60, 64, 67, 0.3), 0 1px 3px 1px rgba(60, 64, 67, 0.15);\n",
              "    fill: var(--button-hover-fill-color);\n",
              "  }\n",
              "\n",
              "  .colab-df-quickchart-complete:disabled,\n",
              "  .colab-df-quickchart-complete:disabled:hover {\n",
              "    background-color: var(--disabled-bg-color);\n",
              "    fill: var(--disabled-fill-color);\n",
              "    box-shadow: none;\n",
              "  }\n",
              "\n",
              "  .colab-df-spinner {\n",
              "    border: 2px solid var(--fill-color);\n",
              "    border-color: transparent;\n",
              "    border-bottom-color: var(--fill-color);\n",
              "    animation:\n",
              "      spin 1s steps(1) infinite;\n",
              "  }\n",
              "\n",
              "  @keyframes spin {\n",
              "    0% {\n",
              "      border-color: transparent;\n",
              "      border-bottom-color: var(--fill-color);\n",
              "      border-left-color: var(--fill-color);\n",
              "    }\n",
              "    20% {\n",
              "      border-color: transparent;\n",
              "      border-left-color: var(--fill-color);\n",
              "      border-top-color: var(--fill-color);\n",
              "    }\n",
              "    30% {\n",
              "      border-color: transparent;\n",
              "      border-left-color: var(--fill-color);\n",
              "      border-top-color: var(--fill-color);\n",
              "      border-right-color: var(--fill-color);\n",
              "    }\n",
              "    40% {\n",
              "      border-color: transparent;\n",
              "      border-right-color: var(--fill-color);\n",
              "      border-top-color: var(--fill-color);\n",
              "    }\n",
              "    60% {\n",
              "      border-color: transparent;\n",
              "      border-right-color: var(--fill-color);\n",
              "    }\n",
              "    80% {\n",
              "      border-color: transparent;\n",
              "      border-right-color: var(--fill-color);\n",
              "      border-bottom-color: var(--fill-color);\n",
              "    }\n",
              "    90% {\n",
              "      border-color: transparent;\n",
              "      border-bottom-color: var(--fill-color);\n",
              "    }\n",
              "  }\n",
              "</style>\n",
              "\n",
              "  <script>\n",
              "    async function quickchart(key) {\n",
              "      const quickchartButtonEl =\n",
              "        document.querySelector('#' + key + ' button');\n",
              "      quickchartButtonEl.disabled = true;  // To prevent multiple clicks.\n",
              "      quickchartButtonEl.classList.add('colab-df-spinner');\n",
              "      try {\n",
              "        const charts = await google.colab.kernel.invokeFunction(\n",
              "            'suggestCharts', [key], {});\n",
              "      } catch (error) {\n",
              "        console.error('Error during call to suggestCharts:', error);\n",
              "      }\n",
              "      quickchartButtonEl.classList.remove('colab-df-spinner');\n",
              "      quickchartButtonEl.classList.add('colab-df-quickchart-complete');\n",
              "    }\n",
              "    (() => {\n",
              "      let quickchartButtonEl =\n",
              "        document.querySelector('#df-8545c284-197b-4aa0-9c86-0121e71a6c13 button');\n",
              "      quickchartButtonEl.style.display =\n",
              "        google.colab.kernel.accessAllowed ? 'block' : 'none';\n",
              "    })();\n",
              "  </script>\n",
              "</div>\n",
              "    </div>\n",
              "  </div>\n"
            ]
          },
          "metadata": {},
          "execution_count": 115
        }
      ],
      "source": [
        "df.head()"
      ]
    },
    {
      "cell_type": "markdown",
      "metadata": {
        "id": "CrfswGiAUz5J"
      },
      "source": [
        "## Explore target variable\n",
        "\n",
        "The variable: SalePrice - the property's sale price in dollars\n",
        "\n",
        "The aim here is to better understand our target and verify its integrity. We will look at some summary statistics, empirical distribution and missing values."
      ]
    },
    {
      "cell_type": "code",
      "execution_count": 116,
      "metadata": {
        "colab": {
          "base_uri": "https://localhost:8080/"
        },
        "id": "K8n1cc1kk2Sa",
        "outputId": "e030ee94-bb02-4ce1-ac0c-848be17fab74"
      },
      "outputs": [
        {
          "output_type": "stream",
          "name": "stdout",
          "text": [
            "count      1460.000000\n",
            "mean     180921.195890\n",
            "std       79442.502883\n",
            "min       34900.000000\n",
            "25%      129975.000000\n",
            "50%      163000.000000\n",
            "75%      214000.000000\n",
            "max      755000.000000\n",
            "Name: SalePrice, dtype: float64\n",
            "\n",
            "Number of missing values: 1459\n",
            "Proportion of missing values: 0.4998\n"
          ]
        }
      ],
      "source": [
        "print(df.SalePrice.describe()) # Look at summary statistics\n",
        "print()\n",
        "print(\"Number of missing values: {}\".format(df.SalePrice.isna().sum()))\n",
        "print(\"Proportion of missing values: {:.4f}\".format(df.SalePrice.isna().sum()/len(df)))"
      ]
    },
    {
      "cell_type": "code",
      "execution_count": 117,
      "metadata": {
        "colab": {
          "base_uri": "https://localhost:8080/",
          "height": 472
        },
        "id": "sxNdLepmlIFV",
        "outputId": "9a70bef3-bef3-4c16-e110-7a55d8f0e90b"
      },
      "outputs": [
        {
          "output_type": "display_data",
          "data": {
            "text/plain": [
              "<Figure size 640x480 with 1 Axes>"
            ],
            "image/png": "[encoded data removed]"
          },
          "metadata": {}
        }
      ],
      "source": [
        "# Visualize the distribution\n",
        "plt.hist(df.SalePrice, rwidth=0.9)\n",
        "plt.xlabel('Price')\n",
        "plt.title('Sale Price Histogram');"
      ]
    },
    {
      "cell_type": "markdown",
      "metadata": {
        "id": "sdEaFfhimbet"
      },
      "source": [
        "We gain some helpful informatino from all of this:\n",
        "- First, we see that there are a significant amount of missing values -- we need to deal with these.\n",
        "- Furthermore, we see that there are outliers on the upper end of the distribution, i.e., some houses are sold for extremely high prices."
      ]
    },
    {
      "cell_type": "code",
      "execution_count": 118,
      "metadata": {
        "colab": {
          "base_uri": "https://localhost:8080/",
          "height": 524
        },
        "id": "mKtZWUDyRsan",
        "outputId": "04a0befa-7d33-4bf7-8785-512a37b37b0f"
      },
      "outputs": [
        {
          "output_type": "stream",
          "name": "stdout",
          "text": [
            "Shape of data before dropping: (2919, 81)\n",
            "Shape of data after dropping: (1460, 81)\n",
            "\n"
          ]
        },
        {
          "output_type": "display_data",
          "data": {
            "text/plain": [
              "<Figure size 640x480 with 1 Axes>"
            ],
            "image/png": "[encoded data removed]"
          },
          "metadata": {}
        }
      ],
      "source": [
        "# Drop missing values\n",
        "print('Shape of data before dropping: {}'.format(df.shape))\n",
        "df_clean = df.drop(df[df['SalePrice'].isna()].index, axis=0)\n",
        "print('Shape of data after dropping: {}'.format(df_clean.shape))\n",
        "print()\n",
        "\n",
        "# Data transformation: take log of the target variable, to reduce the range of the prices\n",
        "df_clean['lg_SalePrice'] = np.log(df['SalePrice'])\n",
        "\n",
        "# Visualize the transformed distribution\n",
        "plt.hist(df_clean.lg_SalePrice, rwidth=0.9)\n",
        "plt.xlabel('Log Price')\n",
        "plt.title('Log Sale Price Histogram');"
      ]
    },
    {
      "cell_type": "markdown",
      "metadata": {
        "id": "-26OcCRnhhof"
      },
      "source": [
        "## Explore feature variables\n",
        "\n",
        "We will now apply a similar approach to explore our features:\n",
        "\n",
        "1) Check for and deal with missing values\n",
        "\n",
        "2) Determine feature types\n",
        "\n",
        "3) Clean features based on their type\n",
        "\n"
      ]
    },
    {
      "cell_type": "markdown",
      "metadata": {
        "id": "886Vs4fqCTJn"
      },
      "source": [
        "## Missing values"
      ]
    },
    {
      "cell_type": "code",
      "execution_count": 119,
      "metadata": {
        "colab": {
          "base_uri": "https://localhost:8080/"
        },
        "id": "KalCxajBakqC",
        "outputId": "fa59304c-b6d1-4610-83c8-e56d212efc77"
      },
      "outputs": [
        {
          "output_type": "execute_result",
          "data": {
            "text/plain": [
              "LotFrontage     0.177397\n",
              "Alley           0.937671\n",
              "MasVnrType      0.005479\n",
              "MasVnrArea      0.005479\n",
              "BsmtQual        0.025342\n",
              "BsmtCond        0.025342\n",
              "BsmtExposure    0.026027\n",
              "BsmtFinType1    0.025342\n",
              "BsmtFinType2    0.026027\n",
              "Electrical      0.000685\n",
              "FireplaceQu     0.472603\n",
              "GarageType      0.055479\n",
              "GarageYrBlt     0.055479\n",
              "GarageFinish    0.055479\n",
              "GarageQual      0.055479\n",
              "GarageCond      0.055479\n",
              "PoolQC          0.995205\n",
              "Fence           0.807534\n",
              "MiscFeature     0.963014\n",
              "dtype: float64"
            ]
          },
          "metadata": {},
          "execution_count": 119
        }
      ],
      "source": [
        "# Check missing values\n",
        "null_perct = df_clean.isna().sum()/len(df_clean)\n",
        "null_perct[null_perct>0]"
      ]
    },
    {
      "cell_type": "code",
      "execution_count": 120,
      "metadata": {
        "colab": {
          "base_uri": "https://localhost:8080/"
        },
        "id": "uw_ZYcEhhoK6",
        "outputId": "6110040e-2b92-4b75-df41-5d1b18ef7b4c"
      },
      "outputs": [
        {
          "output_type": "stream",
          "name": "stdout",
          "text": [
            "(1460, 82)\n",
            "(1460, 77)\n"
          ]
        }
      ],
      "source": [
        "# Note that some features have a large portion of missing observations (e.g., PoolQC).\n",
        "# In response, we will drop columns that have more than 30% missing values.\n",
        "# Recall that there are other potential ways to deal with missing values, such as imputation, but this is not the focus of this assignment.\n",
        "\n",
        "print(df_clean.shape)\n",
        "df_clean = df_clean.drop(columns=df_clean.columns[null_perct > 0.3])\n",
        "print(df_clean.shape)\n",
        "\n",
        "# feature size reduced from 82 to 77"
      ]
    },
    {
      "cell_type": "code",
      "execution_count": 121,
      "metadata": {
        "colab": {
          "base_uri": "https://localhost:8080/"
        },
        "id": "dkav-bLHfW-i",
        "outputId": "fa16196d-e6aa-4222-ca45-3266255d5c70"
      },
      "outputs": [
        {
          "output_type": "stream",
          "name": "stdout",
          "text": [
            "(1460, 77)\n",
            "(1094, 77)\n"
          ]
        }
      ],
      "source": [
        "# Next, we will drop samples with any remaining missing values.\n",
        "print(df_clean.shape)\n",
        "df_final = df_clean.dropna().reset_index(drop=True)\n",
        "print(df_final.shape)\n",
        "\n",
        "# sample size reduced from 1460 to 1094"
      ]
    },
    {
      "cell_type": "markdown",
      "metadata": {
        "id": "yQgsl2toCa2P"
      },
      "source": [
        "## Explore feature types\n",
        "\n",
        "What kind of feature types do we have? Organize features into types."
      ]
    },
    {
      "cell_type": "markdown",
      "metadata": {
        "id": "mpY-aBLuRQ3_"
      },
      "source": [
        "### Begin with numeric variables"
      ]
    },
    {
      "cell_type": "code",
      "execution_count": 122,
      "metadata": {
        "colab": {
          "base_uri": "https://localhost:8080/"
        },
        "id": "sdepiazzkRld",
        "outputId": "15c17a0f-472a-451e-c0f9-5df2212e5f08"
      },
      "outputs": [
        {
          "output_type": "execute_result",
          "data": {
            "text/plain": [
              "Id                 int64\n",
              "MSSubClass         int64\n",
              "LotFrontage      float64\n",
              "LotArea            int64\n",
              "OverallQual        int64\n",
              "OverallCond        int64\n",
              "YearBuilt          int64\n",
              "YearRemodAdd       int64\n",
              "MasVnrArea       float64\n",
              "BsmtFinSF1       float64\n",
              "BsmtFinSF2       float64\n",
              "BsmtUnfSF        float64\n",
              "TotalBsmtSF      float64\n",
              "1stFlrSF           int64\n",
              "2ndFlrSF           int64\n",
              "LowQualFinSF       int64\n",
              "GrLivArea          int64\n",
              "BsmtFullBath     float64\n",
              "BsmtHalfBath     float64\n",
              "FullBath           int64\n",
              "HalfBath           int64\n",
              "BedroomAbvGr       int64\n",
              "KitchenAbvGr       int64\n",
              "TotRmsAbvGrd       int64\n",
              "Fireplaces         int64\n",
              "GarageYrBlt      float64\n",
              "GarageCars       float64\n",
              "GarageArea       float64\n",
              "WoodDeckSF         int64\n",
              "OpenPorchSF        int64\n",
              "EnclosedPorch      int64\n",
              "3SsnPorch          int64\n",
              "ScreenPorch        int64\n",
              "PoolArea           int64\n",
              "MiscVal            int64\n",
              "MoSold             int64\n",
              "YrSold             int64\n",
              "SalePrice        float64\n",
              "lg_SalePrice     float64\n",
              "dtype: object"
            ]
          },
          "metadata": {},
          "execution_count": 122
        }
      ],
      "source": [
        "# Identify numeric types\n",
        "df_final.select_dtypes(['int', 'float']).dtypes"
      ]
    },
    {
      "cell_type": "code",
      "execution_count": 123,
      "metadata": {
        "colab": {
          "base_uri": "https://localhost:8080/",
          "height": 350
        },
        "id": "pbTrBkoNVMYL",
        "outputId": "4aa0f852-3a33-4e0a-9649-0e8504e88670"
      },
      "outputs": [
        {
          "output_type": "execute_result",
          "data": {
            "text/plain": [
              "                Id   MSSubClass  LotFrontage        LotArea  OverallQual  \\\n",
              "count  1094.000000  1094.000000  1094.000000    1094.000000  1094.000000   \n",
              "mean    727.375686    56.128885    70.759598   10132.346435     6.247715   \n",
              "std     420.955488    41.976345    24.508859    8212.249621     1.366797   \n",
              "min       1.000000    20.000000    21.000000    1300.000000     2.000000   \n",
              "25%     366.500000    20.000000    60.000000    7606.750000     5.000000   \n",
              "50%     723.500000    50.000000    70.000000    9444.500000     6.000000   \n",
              "75%    1093.750000    70.000000    80.000000   11387.250000     7.000000   \n",
              "max    1460.000000   190.000000   313.000000  215245.000000    10.000000   \n",
              "\n",
              "       OverallCond    YearBuilt  YearRemodAdd   MasVnrArea   BsmtFinSF1  ...  \\\n",
              "count  1094.000000  1094.000000   1094.000000  1094.000000  1094.000000  ...   \n",
              "mean      5.575868  1972.412249   1985.915905   109.855576   448.191956  ...   \n",
              "std       1.066500    31.189752     20.930772   190.667459   468.728095  ...   \n",
              "min       2.000000  1880.000000   1950.000000     0.000000     0.000000  ...   \n",
              "25%       5.000000  1953.000000   1967.000000     0.000000     0.000000  ...   \n",
              "50%       5.000000  1975.000000   1995.000000     0.000000   384.500000  ...   \n",
              "75%       6.000000  2003.000000   2005.000000   171.750000   712.750000  ...   \n",
              "max       9.000000  2010.000000   2010.000000  1600.000000  5644.000000  ...   \n",
              "\n",
              "       OpenPorchSF  EnclosedPorch    3SsnPorch  ScreenPorch     PoolArea  \\\n",
              "count  1094.000000    1094.000000  1094.000000  1094.000000  1094.000000   \n",
              "mean     46.946984      22.053016     3.266910    16.498172     3.007313   \n",
              "std      64.820019      61.570502    29.655973    58.455303    40.713175   \n",
              "min       0.000000       0.000000     0.000000     0.000000     0.000000   \n",
              "25%       0.000000       0.000000     0.000000     0.000000     0.000000   \n",
              "50%      28.000000       0.000000     0.000000     0.000000     0.000000   \n",
              "75%      68.000000       0.000000     0.000000     0.000000     0.000000   \n",
              "max     547.000000     552.000000   508.000000   480.000000   648.000000   \n",
              "\n",
              "           MiscVal       MoSold       YrSold      SalePrice  lg_SalePrice  \n",
              "count  1094.000000  1094.000000  1094.000000    1094.000000   1094.000000  \n",
              "mean     23.550274     6.335466  2007.786106  187033.263254     12.057513  \n",
              "std     167.135237     2.694558     1.334307   83165.332151      0.394847  \n",
              "min       0.000000     1.000000  2006.000000   35311.000000     10.471950  \n",
              "25%       0.000000     5.000000  2007.000000  132500.000000     11.794338  \n",
              "50%       0.000000     6.000000  2008.000000  165750.000000     12.018235  \n",
              "75%       0.000000     8.000000  2009.000000  221000.000000     12.305918  \n",
              "max    2500.000000    12.000000  2010.000000  755000.000000     13.534473  \n",
              "\n",
              "[8 rows x 39 columns]"
            ],
            "text/html": [
              "\n",
              "  <div id=\"df-08cfdd8a-5b8e-4e77-8f51-3f83d81b0280\" class=\"colab-df-container\">\n",
              "    <div>\n",
              "<style scoped>\n",
              "    .dataframe tbody tr th:only-of-type {\n",
              "        vertical-align: middle;\n",
              "    }\n",
              "\n",
              "    .dataframe tbody tr th {\n",
              "        vertical-align: top;\n",
              "    }\n",
              "\n",
              "    .dataframe thead th {\n",
              "        text-align: right;\n",
              "    }\n",
              "</style>\n",
              "<table border=\"1\" class=\"dataframe\">\n",
              "  <thead>\n",
              "    <tr style=\"text-align: right;\">\n",
              "      <th></th>\n",
              "      <th>Id</th>\n",
              "      <th>MSSubClass</th>\n",
              "      <th>LotFrontage</th>\n",
              "      <th>LotArea</th>\n",
              "      <th>OverallQual</th>\n",
              "      <th>OverallCond</th>\n",
              "      <th>YearBuilt</th>\n",
              "      <th>YearRemodAdd</th>\n",
              "      <th>MasVnrArea</th>\n",
              "      <th>BsmtFinSF1</th>\n",
              "      <th>...</th>\n",
              "      <th>OpenPorchSF</th>\n",
              "      <th>EnclosedPorch</th>\n",
              "      <th>3SsnPorch</th>\n",
              "      <th>ScreenPorch</th>\n",
              "      <th>PoolArea</th>\n",
              "      <th>MiscVal</th>\n",
              "      <th>MoSold</th>\n",
              "      <th>YrSold</th>\n",
              "      <th>SalePrice</th>\n",
              "      <th>lg_SalePrice</th>\n",
              "    </tr>\n",
              "  </thead>\n",
              "  <tbody>\n",
              "    <tr>\n",
              "      <th>count</th>\n",
              "      <td>1094.000000</td>\n",
              "      <td>1094.000000</td>\n",
              "      <td>1094.000000</td>\n",
              "      <td>1094.000000</td>\n",
              "      <td>1094.000000</td>\n",
              "      <td>1094.000000</td>\n",
              "      <td>1094.000000</td>\n",
              "      <td>1094.000000</td>\n",
              "      <td>1094.000000</td>\n",
              "      <td>1094.000000</td>\n",
              "      <td>...</td>\n",
              "      <td>1094.000000</td>\n",
              "      <td>1094.000000</td>\n",
              "      <td>1094.000000</td>\n",
              "      <td>1094.000000</td>\n",
              "      <td>1094.000000</td>\n",
              "      <td>1094.000000</td>\n",
              "      <td>1094.000000</td>\n",
              "      <td>1094.000000</td>\n",
              "      <td>1094.000000</td>\n",
              "      <td>1094.000000</td>\n",
              "    </tr>\n",
              "    <tr>\n",
              "      <th>mean</th>\n",
              "      <td>727.375686</td>\n",
              "      <td>56.128885</td>\n",
              "      <td>70.759598</td>\n",
              "      <td>10132.346435</td>\n",
              "      <td>6.247715</td>\n",
              "      <td>5.575868</td>\n",
              "      <td>1972.412249</td>\n",
              "      <td>1985.915905</td>\n",
              "      <td>109.855576</td>\n",
              "      <td>448.191956</td>\n",
              "      <td>...</td>\n",
              "      <td>46.946984</td>\n",
              "      <td>22.053016</td>\n",
              "      <td>3.266910</td>\n",
              "      <td>16.498172</td>\n",
              "      <td>3.007313</td>\n",
              "      <td>23.550274</td>\n",
              "      <td>6.335466</td>\n",
              "      <td>2007.786106</td>\n",
              "      <td>187033.263254</td>\n",
              "      <td>12.057513</td>\n",
              "    </tr>\n",
              "    <tr>\n",
              "      <th>std</th>\n",
              "      <td>420.955488</td>\n",
              "      <td>41.976345</td>\n",
              "      <td>24.508859</td>\n",
              "      <td>8212.249621</td>\n",
              "      <td>1.366797</td>\n",
              "      <td>1.066500</td>\n",
              "      <td>31.189752</td>\n",
              "      <td>20.930772</td>\n",
              "      <td>190.667459</td>\n",
              "      <td>468.728095</td>\n",
              "      <td>...</td>\n",
              "      <td>64.820019</td>\n",
              "      <td>61.570502</td>\n",
              "      <td>29.655973</td>\n",
              "      <td>58.455303</td>\n",
              "      <td>40.713175</td>\n",
              "      <td>167.135237</td>\n",
              "      <td>2.694558</td>\n",
              "      <td>1.334307</td>\n",
              "      <td>83165.332151</td>\n",
              "      <td>0.394847</td>\n",
              "    </tr>\n",
              "    <tr>\n",
              "      <th>min</th>\n",
              "      <td>1.000000</td>\n",
              "      <td>20.000000</td>\n",
              "      <td>21.000000</td>\n",
              "      <td>1300.000000</td>\n",
              "      <td>2.000000</td>\n",
              "      <td>2.000000</td>\n",
              "      <td>1880.000000</td>\n",
              "      <td>1950.000000</td>\n",
              "      <td>0.000000</td>\n",
              "      <td>0.000000</td>\n",
              "      <td>...</td>\n",
              "      <td>0.000000</td>\n",
              "      <td>0.000000</td>\n",
              "      <td>0.000000</td>\n",
              "      <td>0.000000</td>\n",
              "      <td>0.000000</td>\n",
              "      <td>0.000000</td>\n",
              "      <td>1.000000</td>\n",
              "      <td>2006.000000</td>\n",
              "      <td>35311.000000</td>\n",
              "      <td>10.471950</td>\n",
              "    </tr>\n",
              "    <tr>\n",
              "      <th>25%</th>\n",
              "      <td>366.500000</td>\n",
              "      <td>20.000000</td>\n",
              "      <td>60.000000</td>\n",
              "      <td>7606.750000</td>\n",
              "      <td>5.000000</td>\n",
              "      <td>5.000000</td>\n",
              "      <td>1953.000000</td>\n",
              "      <td>1967.000000</td>\n",
              "      <td>0.000000</td>\n",
              "      <td>0.000000</td>\n",
              "      <td>...</td>\n",
              "      <td>0.000000</td>\n",
              "      <td>0.000000</td>\n",
              "      <td>0.000000</td>\n",
              "      <td>0.000000</td>\n",
              "      <td>0.000000</td>\n",
              "      <td>0.000000</td>\n",
              "      <td>5.000000</td>\n",
              "      <td>2007.000000</td>\n",
              "      <td>132500.000000</td>\n",
              "      <td>11.794338</td>\n",
              "    </tr>\n",
              "    <tr>\n",
              "      <th>50%</th>\n",
              "      <td>723.500000</td>\n",
              "      <td>50.000000</td>\n",
              "      <td>70.000000</td>\n",
              "      <td>9444.500000</td>\n",
              "      <td>6.000000</td>\n",
              "      <td>5.000000</td>\n",
              "      <td>1975.000000</td>\n",
              "      <td>1995.000000</td>\n",
              "      <td>0.000000</td>\n",
              "      <td>384.500000</td>\n",
              "      <td>...</td>\n",
              "      <td>28.000000</td>\n",
              "      <td>0.000000</td>\n",
              "      <td>0.000000</td>\n",
              "      <td>0.000000</td>\n",
              "      <td>0.000000</td>\n",
              "      <td>0.000000</td>\n",
              "      <td>6.000000</td>\n",
              "      <td>2008.000000</td>\n",
              "      <td>165750.000000</td>\n",
              "      <td>12.018235</td>\n",
              "    </tr>\n",
              "    <tr>\n",
              "      <th>75%</th>\n",
              "      <td>1093.750000</td>\n",
              "      <td>70.000000</td>\n",
              "      <td>80.000000</td>\n",
              "      <td>11387.250000</td>\n",
              "      <td>7.000000</td>\n",
              "      <td>6.000000</td>\n",
              "      <td>2003.000000</td>\n",
              "      <td>2005.000000</td>\n",
              "      <td>171.750000</td>\n",
              "      <td>712.750000</td>\n",
              "      <td>...</td>\n",
              "      <td>68.000000</td>\n",
              "      <td>0.000000</td>\n",
              "      <td>0.000000</td>\n",
              "      <td>0.000000</td>\n",
              "      <td>0.000000</td>\n",
              "      <td>0.000000</td>\n",
              "      <td>8.000000</td>\n",
              "      <td>2009.000000</td>\n",
              "      <td>221000.000000</td>\n",
              "      <td>12.305918</td>\n",
              "    </tr>\n",
              "    <tr>\n",
              "      <th>max</th>\n",
              "      <td>1460.000000</td>\n",
              "      <td>190.000000</td>\n",
              "      <td>313.000000</td>\n",
              "      <td>215245.000000</td>\n",
              "      <td>10.000000</td>\n",
              "      <td>9.000000</td>\n",
              "      <td>2010.000000</td>\n",
              "      <td>2010.000000</td>\n",
              "      <td>1600.000000</td>\n",
              "      <td>5644.000000</td>\n",
              "      <td>...</td>\n",
              "      <td>547.000000</td>\n",
              "      <td>552.000000</td>\n",
              "      <td>508.000000</td>\n",
              "      <td>480.000000</td>\n",
              "      <td>648.000000</td>\n",
              "      <td>2500.000000</td>\n",
              "      <td>12.000000</td>\n",
              "      <td>2010.000000</td>\n",
              "      <td>755000.000000</td>\n",
              "      <td>13.534473</td>\n",
              "    </tr>\n",
              "  </tbody>\n",
              "</table>\n",
              "<p>8 rows × 39 columns</p>\n",
              "</div>\n",
              "    <div class=\"colab-df-buttons\">\n",
              "\n",
              "  <div class=\"colab-df-container\">\n",
              "    <button class=\"colab-df-convert\" onclick=\"convertToInteractive('df-08cfdd8a-5b8e-4e77-8f51-3f83d81b0280')\"\n",
              "            title=\"Convert this dataframe to an interactive table.\"\n",
              "            style=\"display:none;\">\n",
              "\n",
              "  <svg xmlns=\"http://www.w3.org/2000/svg\" height=\"24px\" viewBox=\"0 -960 960 960\">\n",
              "    <path d=\"M120-120v-720h720v720H120Zm60-500h600v-160H180v160Zm220 220h160v-160H400v160Zm0 220h160v-160H400v160ZM180-400h160v-160H180v160Zm440 0h160v-160H620v160ZM180-180h160v-160H180v160Zm440 0h160v-160H620v160Z\"/>\n",
              "  </svg>\n",
              "    </button>\n",
              "\n",
              "  <style>\n",
              "    .colab-df-container {\n",
              "      display:flex;\n",
              "      gap: 12px;\n",
              "    }\n",
              "\n",
              "    .colab-df-convert {\n",
              "      background-color: #E8F0FE;\n",
              "      border: none;\n",
              "      border-radius: 50%;\n",
              "      cursor: pointer;\n",
              "      display: none;\n",
              "      fill: #1967D2;\n",
              "      height: 32px;\n",
              "      padding: 0 0 0 0;\n",
              "      width: 32px;\n",
              "    }\n",
              "\n",
              "    .colab-df-convert:hover {\n",
              "      background-color: #E2EBFA;\n",
              "      box-shadow: 0px 1px 2px rgba(60, 64, 67, 0.3), 0px 1px 3px 1px rgba(60, 64, 67, 0.15);\n",
              "      fill: #174EA6;\n",
              "    }\n",
              "\n",
              "    .colab-df-buttons div {\n",
              "      margin-bottom: 4px;\n",
              "    }\n",
              "\n",
              "    [theme=dark] .colab-df-convert {\n",
              "      background-color: #3B4455;\n",
              "      fill: #D2E3FC;\n",
              "    }\n",
              "\n",
              "    [theme=dark] .colab-df-convert:hover {\n",
              "      background-color: #434B5C;\n",
              "      box-shadow: 0px 1px 3px 1px rgba(0, 0, 0, 0.15);\n",
              "      filter: drop-shadow(0px 1px 2px rgba(0, 0, 0, 0.3));\n",
              "      fill: #FFFFFF;\n",
              "    }\n",
              "  </style>\n",
              "\n",
              "    <script>\n",
              "      const buttonEl =\n",
              "        document.querySelector('#df-08cfdd8a-5b8e-4e77-8f51-3f83d81b0280 button.colab-df-convert');\n",
              "      buttonEl.style.display =\n",
              "        google.colab.kernel.accessAllowed ? 'block' : 'none';\n",
              "\n",
              "      async function convertToInteractive(key) {\n",
              "        const element = document.querySelector('#df-08cfdd8a-5b8e-4e77-8f51-3f83d81b0280');\n",
              "        const dataTable =\n",
              "          await google.colab.kernel.invokeFunction('convertToInteractive',\n",
              "                                                    [key], {});\n",
              "        if (!dataTable) return;\n",
              "\n",
              "        const docLinkHtml = 'Like what you see? Visit the ' +\n",
              "          '<a target=\"_blank\" href=https://colab.research.google.com/notebooks/data_table.ipynb>data table notebook</a>'\n",
              "          + ' to learn more about interactive tables.';\n",
              "        element.innerHTML = '';\n",
              "        dataTable['output_type'] = 'display_data';\n",
              "        await google.colab.output.renderOutput(dataTable, element);\n",
              "        const docLink = document.createElement('div');\n",
              "        docLink.innerHTML = docLinkHtml;\n",
              "        element.appendChild(docLink);\n",
              "      }\n",
              "    </script>\n",
              "  </div>\n",
              "\n",
              "\n",
              "<div id=\"df-70a38ad1-033e-45b9-a935-93001746d662\">\n",
              "  <button class=\"colab-df-quickchart\" onclick=\"quickchart('df-70a38ad1-033e-45b9-a935-93001746d662')\"\n",
              "            title=\"Suggest charts\"\n",
              "            style=\"display:none;\">\n",
              "\n",
              "<svg xmlns=\"http://www.w3.org/2000/svg\" height=\"24px\"viewBox=\"0 0 24 24\"\n",
              "     width=\"24px\">\n",
              "    <g>\n",
              "        <path d=\"M19 3H5c-1.1 0-2 .9-2 2v14c0 1.1.9 2 2 2h14c1.1 0 2-.9 2-2V5c0-1.1-.9-2-2-2zM9 17H7v-7h2v7zm4 0h-2V7h2v10zm4 0h-2v-4h2v4z\"/>\n",
              "    </g>\n",
              "</svg>\n",
              "  </button>\n",
              "\n",
              "<style>\n",
              "  .colab-df-quickchart {\n",
              "      --bg-color: #E8F0FE;\n",
              "      --fill-color: #1967D2;\n",
              "      --hover-bg-color: #E2EBFA;\n",
              "      --hover-fill-color: #174EA6;\n",
              "      --disabled-fill-color: #AAA;\n",
              "      --disabled-bg-color: #DDD;\n",
              "  }\n",
              "\n",
              "  [theme=dark] .colab-df-quickchart {\n",
              "      --bg-color: #3B4455;\n",
              "      --fill-color: #D2E3FC;\n",
              "      --hover-bg-color: #434B5C;\n",
              "      --hover-fill-color: #FFFFFF;\n",
              "      --disabled-bg-color: #3B4455;\n",
              "      --disabled-fill-color: #666;\n",
              "  }\n",
              "\n",
              "  .colab-df-quickchart {\n",
              "    background-color: var(--bg-color);\n",
              "    border: none;\n",
              "    border-radius: 50%;\n",
              "    cursor: pointer;\n",
              "    display: none;\n",
              "    fill: var(--fill-color);\n",
              "    height: 32px;\n",
              "    padding: 0;\n",
              "    width: 32px;\n",
              "  }\n",
              "\n",
              "  .colab-df-quickchart:hover {\n",
              "    background-color: var(--hover-bg-color);\n",
              "    box-shadow: 0 1px 2px rgba(60, 64, 67, 0.3), 0 1px 3px 1px rgba(60, 64, 67, 0.15);\n",
              "    fill: var(--button-hover-fill-color);\n",
              "  }\n",
              "\n",
              "  .colab-df-quickchart-complete:disabled,\n",
              "  .colab-df-quickchart-complete:disabled:hover {\n",
              "    background-color: var(--disabled-bg-color);\n",
              "    fill: var(--disabled-fill-color);\n",
              "    box-shadow: none;\n",
              "  }\n",
              "\n",
              "  .colab-df-spinner {\n",
              "    border: 2px solid var(--fill-color);\n",
              "    border-color: transparent;\n",
              "    border-bottom-color: var(--fill-color);\n",
              "    animation:\n",
              "      spin 1s steps(1) infinite;\n",
              "  }\n",
              "\n",
              "  @keyframes spin {\n",
              "    0% {\n",
              "      border-color: transparent;\n",
              "      border-bottom-color: var(--fill-color);\n",
              "      border-left-color: var(--fill-color);\n",
              "    }\n",
              "    20% {\n",
              "      border-color: transparent;\n",
              "      border-left-color: var(--fill-color);\n",
              "      border-top-color: var(--fill-color);\n",
              "    }\n",
              "    30% {\n",
              "      border-color: transparent;\n",
              "      border-left-color: var(--fill-color);\n",
              "      border-top-color: var(--fill-color);\n",
              "      border-right-color: var(--fill-color);\n",
              "    }\n",
              "    40% {\n",
              "      border-color: transparent;\n",
              "      border-right-color: var(--fill-color);\n",
              "      border-top-color: var(--fill-color);\n",
              "    }\n",
              "    60% {\n",
              "      border-color: transparent;\n",
              "      border-right-color: var(--fill-color);\n",
              "    }\n",
              "    80% {\n",
              "      border-color: transparent;\n",
              "      border-right-color: var(--fill-color);\n",
              "      border-bottom-color: var(--fill-color);\n",
              "    }\n",
              "    90% {\n",
              "      border-color: transparent;\n",
              "      border-bottom-color: var(--fill-color);\n",
              "    }\n",
              "  }\n",
              "</style>\n",
              "\n",
              "  <script>\n",
              "    async function quickchart(key) {\n",
              "      const quickchartButtonEl =\n",
              "        document.querySelector('#' + key + ' button');\n",
              "      quickchartButtonEl.disabled = true;  // To prevent multiple clicks.\n",
              "      quickchartButtonEl.classList.add('colab-df-spinner');\n",
              "      try {\n",
              "        const charts = await google.colab.kernel.invokeFunction(\n",
              "            'suggestCharts', [key], {});\n",
              "      } catch (error) {\n",
              "        console.error('Error during call to suggestCharts:', error);\n",
              "      }\n",
              "      quickchartButtonEl.classList.remove('colab-df-spinner');\n",
              "      quickchartButtonEl.classList.add('colab-df-quickchart-complete');\n",
              "    }\n",
              "    (() => {\n",
              "      let quickchartButtonEl =\n",
              "        document.querySelector('#df-70a38ad1-033e-45b9-a935-93001746d662 button');\n",
              "      quickchartButtonEl.style.display =\n",
              "        google.colab.kernel.accessAllowed ? 'block' : 'none';\n",
              "    })();\n",
              "  </script>\n",
              "</div>\n",
              "    </div>\n",
              "  </div>\n"
            ]
          },
          "metadata": {},
          "execution_count": 123
        }
      ],
      "source": [
        "# Generate descriptive statistics for numeric variables\n",
        "df_final.select_dtypes(['int', 'float']).describe()"
      ]
    },
    {
      "cell_type": "markdown",
      "metadata": {
        "id": "uiQl9RH0C3T7"
      },
      "source": [
        "Note that we have both integer (e.g., YearBuilt, YrSold) and float (e.g., LotFrontage) variables.\n",
        "\n",
        "While there are some integers such as MSSubClas, that one may want to treat differently, perhaps by one-hot encoding, here we will let them enter the regression as integer features."
      ]
    },
    {
      "cell_type": "code",
      "execution_count": 124,
      "metadata": {
        "colab": {
          "base_uri": "https://localhost:8080/"
        },
        "id": "i_dF27GxXhel",
        "outputId": "fac36dd1-ef5d-4423-e24e-bd4057189fee"
      },
      "outputs": [
        {
          "output_type": "stream",
          "name": "stdout",
          "text": [
            "(1094, 36)\n"
          ]
        }
      ],
      "source": [
        "# Collect numeric features to be included in later analysis\n",
        "all_num_cols = df_final.select_dtypes(['int', 'float']).columns\n",
        "num_cols = all_num_cols[1:len(all_num_cols)-2] # Collect numeric features, exclude ID and target variable\n",
        "df_num = df_final[num_cols] # Exclude ID and target variable\n",
        "print(df_num.shape)"
      ]
    },
    {
      "cell_type": "markdown",
      "metadata": {
        "id": "KobqpBFeL8lN"
      },
      "source": [
        "### Check text/string variables"
      ]
    },
    {
      "cell_type": "code",
      "execution_count": 125,
      "metadata": {
        "colab": {
          "base_uri": "https://localhost:8080/"
        },
        "id": "4ZtCZJ4TkRiI",
        "outputId": "9dc814ad-626e-44cf-ebd1-e533896642ea"
      },
      "outputs": [
        {
          "output_type": "execute_result",
          "data": {
            "text/plain": [
              "MSZoning         object\n",
              "Street           object\n",
              "LotShape         object\n",
              "LandContour      object\n",
              "Utilities        object\n",
              "LotConfig        object\n",
              "LandSlope        object\n",
              "Neighborhood     object\n",
              "Condition1       object\n",
              "Condition2       object\n",
              "BldgType         object\n",
              "HouseStyle       object\n",
              "RoofStyle        object\n",
              "RoofMatl         object\n",
              "Exterior1st      object\n",
              "Exterior2nd      object\n",
              "MasVnrType       object\n",
              "ExterQual        object\n",
              "ExterCond        object\n",
              "Foundation       object\n",
              "BsmtQual         object\n",
              "BsmtCond         object\n",
              "BsmtExposure     object\n",
              "BsmtFinType1     object\n",
              "BsmtFinType2     object\n",
              "Heating          object\n",
              "HeatingQC        object\n",
              "CentralAir       object\n",
              "Electrical       object\n",
              "KitchenQual      object\n",
              "Functional       object\n",
              "GarageType       object\n",
              "GarageFinish     object\n",
              "GarageQual       object\n",
              "GarageCond       object\n",
              "PavedDrive       object\n",
              "SaleType         object\n",
              "SaleCondition    object\n",
              "dtype: object"
            ]
          },
          "metadata": {},
          "execution_count": 125
        }
      ],
      "source": [
        "# Pandas strings\n",
        "df_final.select_dtypes(['object']).dtypes"
      ]
    },
    {
      "cell_type": "code",
      "execution_count": 126,
      "metadata": {
        "colab": {
          "base_uri": "https://localhost:8080/"
        },
        "id": "rQul6wD22a0W",
        "outputId": "217206c1-fd14-414d-deb9-2fa1022858c7"
      },
      "outputs": [
        {
          "output_type": "stream",
          "name": "stdout",
          "text": [
            "RL         850\n",
            "RM         173\n",
            "FV          54\n",
            "RH           9\n",
            "C (all)      8\n",
            "Name: MSZoning, dtype: int64 \n",
            "\n",
            "Pave    1090\n",
            "Grvl       4\n",
            "Name: Street, dtype: int64 \n",
            "\n",
            "Reg    760\n",
            "IR1    301\n",
            "IR2     26\n",
            "IR3      7\n",
            "Name: LotShape, dtype: int64 \n",
            "\n",
            "Lvl    991\n",
            "Bnk     45\n",
            "HLS     44\n",
            "Low     14\n",
            "Name: LandContour, dtype: int64 \n",
            "\n",
            "AllPub    1094\n",
            "Name: Utilities, dtype: int64 \n",
            "\n",
            "Inside     830\n",
            "Corner     187\n",
            "CulDSac     44\n",
            "FR2         29\n",
            "FR3          4\n",
            "Name: LotConfig, dtype: int64 \n",
            "\n",
            "Gtl    1045\n",
            "Mod      44\n",
            "Sev       5\n",
            "Name: LandSlope, dtype: int64 \n",
            "\n",
            "NAmes      173\n",
            "CollgCr    122\n",
            "OldTown     96\n",
            "Somerst     75\n",
            "NridgHt     74\n",
            "Edwards     65\n",
            "Gilbert     49\n",
            "NWAmes      45\n",
            "Sawyer      44\n",
            "SawyerW     44\n",
            "BrkSide     42\n",
            "Crawfor     41\n",
            "NoRidge     33\n",
            "Mitchel     30\n",
            "Timber      29\n",
            "IDOTRR      27\n",
            "StoneBr     20\n",
            "SWISU       19\n",
            "BrDale      15\n",
            "Blmngtn     14\n",
            "ClearCr     11\n",
            "MeadowV     10\n",
            "Veenker      7\n",
            "NPkVill      7\n",
            "Blueste      2\n",
            "Name: Neighborhood, dtype: int64 \n",
            "\n",
            "Norm      950\n",
            "Feedr      52\n",
            "Artery     42\n",
            "RRAn       24\n",
            "PosN        9\n",
            "RRAe        8\n",
            "RRNn        4\n",
            "PosA        4\n",
            "RRNe        1\n",
            "Name: Condition1, dtype: int64 \n",
            "\n",
            "Norm      1082\n",
            "Feedr        5\n",
            "Artery       2\n",
            "RRNn         2\n",
            "PosN         2\n",
            "PosA         1\n",
            "Name: Condition2, dtype: int64 \n",
            "\n",
            "1Fam      925\n",
            "TwnhsE     90\n",
            "Twnhs      35\n",
            "Duplex     24\n",
            "2fmCon     20\n",
            "Name: BldgType, dtype: int64 \n",
            "\n",
            "1Story    540\n",
            "2Story    346\n",
            "1.5Fin    117\n",
            "SLvl       43\n",
            "SFoyer     23\n",
            "1.5Unf     10\n",
            "2.5Unf      9\n",
            "2.5Fin      6\n",
            "Name: HouseStyle, dtype: int64 \n",
            "\n",
            "Gable      843\n",
            "Hip        230\n",
            "Gambrel     10\n",
            "Mansard      6\n",
            "Flat         5\n",
            "Name: RoofStyle, dtype: int64 \n",
            "\n",
            "CompShg    1078\n",
            "WdShngl       6\n",
            "Tar&Grv       5\n",
            "WdShake       2\n",
            "Membran       1\n",
            "Roll          1\n",
            "ClyTile       1\n",
            "Name: RoofMatl, dtype: int64 \n",
            "\n",
            "VinylSd    421\n",
            "MetalSd    172\n",
            "HdBoard    151\n",
            "Wd Sdng    149\n",
            "Plywood     64\n",
            "CemntBd     45\n",
            "BrkFace     36\n",
            "WdShing     20\n",
            "Stucco      18\n",
            "AsbShng     14\n",
            "BrkComm      1\n",
            "Stone        1\n",
            "ImStucc      1\n",
            "CBlock       1\n",
            "Name: Exterior1st, dtype: int64 \n",
            "\n",
            "VinylSd    412\n",
            "MetalSd    169\n",
            "Wd Sdng    145\n",
            "HdBoard    138\n",
            "Plywood     82\n",
            "CmentBd     45\n",
            "Wd Shng     28\n",
            "Stucco      20\n",
            "BrkFace     19\n",
            "AsbShng     15\n",
            "ImStucc      9\n",
            "Brk Cmn      6\n",
            "AsphShn      2\n",
            "Stone        2\n",
            "Other        1\n",
            "CBlock       1\n",
            "Name: Exterior2nd, dtype: int64 \n",
            "\n",
            "None       639\n",
            "BrkFace    327\n",
            "Stone      119\n",
            "BrkCmn       9\n",
            "Name: MasVnrType, dtype: int64 \n",
            "\n",
            "TA    646\n",
            "Gd    395\n",
            "Ex     46\n",
            "Fa      7\n",
            "Name: ExterQual, dtype: int64 \n",
            "\n",
            "TA    973\n",
            "Gd    104\n",
            "Fa     15\n",
            "Ex      2\n",
            "Name: ExterCond, dtype: int64 \n",
            "\n",
            "PConc     518\n",
            "CBlock    446\n",
            "BrkTil    122\n",
            "Stone       6\n",
            "Wood        2\n",
            "Name: Foundation, dtype: int64 \n",
            "\n",
            "TA    486\n",
            "Gd    463\n",
            "Ex    113\n",
            "Fa     32\n",
            "Name: BsmtQual, dtype: int64 \n",
            "\n",
            "TA    1006\n",
            "Gd      51\n",
            "Fa      36\n",
            "Po       1\n",
            "Name: BsmtCond, dtype: int64 \n",
            "\n",
            "No    734\n",
            "Av    174\n",
            "Gd     97\n",
            "Mn     89\n",
            "Name: BsmtExposure, dtype: int64 \n",
            "\n",
            "Unf    343\n",
            "GLQ    323\n",
            "ALQ    162\n",
            "Rec    105\n",
            "BLQ    105\n",
            "LwQ     56\n",
            "Name: BsmtFinType1, dtype: int64 \n",
            "\n",
            "Unf    972\n",
            "Rec     37\n",
            "LwQ     35\n",
            "BLQ     25\n",
            "ALQ     13\n",
            "GLQ     12\n",
            "Name: BsmtFinType2, dtype: int64 \n",
            "\n",
            "GasA    1075\n",
            "GasW      16\n",
            "Grav       2\n",
            "OthW       1\n",
            "Name: Heating, dtype: int64 \n",
            "\n",
            "Ex    594\n",
            "TA    298\n",
            "Gd    174\n",
            "Fa     27\n",
            "Po      1\n",
            "Name: HeatingQC, dtype: int64 \n",
            "\n",
            "Y    1036\n",
            "N      58\n",
            "Name: CentralAir, dtype: int64 \n",
            "\n",
            "SBrkr    1009\n",
            "FuseA      67\n",
            "FuseF      15\n",
            "FuseP       2\n",
            "Mix         1\n",
            "Name: Electrical, dtype: int64 \n",
            "\n",
            "TA    528\n",
            "Gd    454\n",
            "Ex     91\n",
            "Fa     21\n",
            "Name: KitchenQual, dtype: int64 \n",
            "\n",
            "Typ     1024\n",
            "Min2      25\n",
            "Min1      21\n",
            "Maj1      10\n",
            "Mod       10\n",
            "Maj2       4\n",
            "Name: Functional, dtype: int64 \n",
            "\n",
            "Attchd     680\n",
            "Detchd     325\n",
            "BuiltIn     63\n",
            "Basment     15\n",
            "CarPort      6\n",
            "2Types       5\n",
            "Name: GarageType, dtype: int64 \n",
            "\n",
            "Unf    485\n",
            "RFn    333\n",
            "Fin    276\n",
            "Name: GarageFinish, dtype: int64 \n",
            "\n",
            "TA    1031\n",
            "Fa      46\n",
            "Gd      11\n",
            "Ex       3\n",
            "Po       3\n",
            "Name: GarageQual, dtype: int64 \n",
            "\n",
            "TA    1050\n",
            "Fa      31\n",
            "Po       6\n",
            "Gd       5\n",
            "Ex       2\n",
            "Name: GarageCond, dtype: int64 \n",
            "\n",
            "Y    1023\n",
            "N      48\n",
            "P      23\n",
            "Name: PavedDrive, dtype: int64 \n",
            "\n",
            "WD       928\n",
            "New      116\n",
            "COD       31\n",
            "ConLD      5\n",
            "CWD        4\n",
            "ConLw      4\n",
            "ConLI      3\n",
            "Con        2\n",
            "Oth        1\n",
            "Name: SaleType, dtype: int64 \n",
            "\n",
            "Normal     880\n",
            "Partial    119\n",
            "Abnorml     70\n",
            "Family      18\n",
            "Alloca       6\n",
            "AdjLand      1\n",
            "Name: SaleCondition, dtype: int64 \n",
            "\n"
          ]
        }
      ],
      "source": [
        "# Tabulate variables to better understand their content\n",
        "for col in df_final.select_dtypes(['object']).columns:\n",
        "    print(df_final[col].value_counts(),'\\n')"
      ]
    },
    {
      "cell_type": "markdown",
      "metadata": {
        "id": "3WtSOOf4Rn0N"
      },
      "source": [
        "We see that these variables are categorical in nature. The next step will be to engineer these into many indicator variables using sklearn.preprocessing's OneHotEncoder."
      ]
    },
    {
      "cell_type": "code",
      "execution_count": 127,
      "metadata": {
        "colab": {
          "base_uri": "https://localhost:8080/",
          "height": 92
        },
        "id": "5VA_C_JC1Tl5",
        "outputId": "eaddd4bb-459b-4735-f606-a54c061c8588"
      },
      "outputs": [
        {
          "output_type": "execute_result",
          "data": {
            "text/plain": [
              "OneHotEncoder(drop='first', dtype=<class 'numpy.int64'>,\n",
              "              handle_unknown='ignore')"
            ],
            "text/html": [
              "<style>#sk-container-id-7 {color: black;background-color: white;}#sk-container-id-7 pre{padding: 0;}#sk-container-id-7 div.sk-toggleable {background-color: white;}#sk-container-id-7 label.sk-toggleable__label {cursor: pointer;display: block;width: 100%;margin-bottom: 0;padding: 0.3em;box-sizing: border-box;text-align: center;}#sk-container-id-7 label.sk-toggleable__label-arrow:before {content: \"▸\";float: left;margin-right: 0.25em;color: #696969;}#sk-container-id-7 label.sk-toggleable__label-arrow:hover:before {color: black;}#sk-container-id-7 div.sk-estimator:hover label.sk-toggleable__label-arrow:before {color: black;}#sk-container-id-7 div.sk-toggleable__content {max-height: 0;max-width: 0;overflow: hidden;text-align: left;background-color: #f0f8ff;}#sk-container-id-7 div.sk-toggleable__content pre {margin: 0.2em;color: black;border-radius: 0.25em;background-color: #f0f8ff;}#sk-container-id-7 input.sk-toggleable__control:checked~div.sk-toggleable__content {max-height: 200px;max-width: 100%;overflow: auto;}#sk-container-id-7 input.sk-toggleable__control:checked~label.sk-toggleable__label-arrow:before {content: \"▾\";}#sk-container-id-7 div.sk-estimator input.sk-toggleable__control:checked~label.sk-toggleable__label {background-color: #d4ebff;}#sk-container-id-7 div.sk-label input.sk-toggleable__control:checked~label.sk-toggleable__label {background-color: #d4ebff;}#sk-container-id-7 input.sk-hidden--visually {border: 0;clip: rect(1px 1px 1px 1px);clip: rect(1px, 1px, 1px, 1px);height: 1px;margin: -1px;overflow: hidden;padding: 0;position: absolute;width: 1px;}#sk-container-id-7 div.sk-estimator {font-family: monospace;background-color: #f0f8ff;border: 1px dotted black;border-radius: 0.25em;box-sizing: border-box;margin-bottom: 0.5em;}#sk-container-id-7 div.sk-estimator:hover {background-color: #d4ebff;}#sk-container-id-7 div.sk-parallel-item::after {content: \"\";width: 100%;border-bottom: 1px solid gray;flex-grow: 1;}#sk-container-id-7 div.sk-label:hover label.sk-toggleable__label {background-color: #d4ebff;}#sk-container-id-7 div.sk-serial::before {content: \"\";position: absolute;border-left: 1px solid gray;box-sizing: border-box;top: 0;bottom: 0;left: 50%;z-index: 0;}#sk-container-id-7 div.sk-serial {display: flex;flex-direction: column;align-items: center;background-color: white;padding-right: 0.2em;padding-left: 0.2em;position: relative;}#sk-container-id-7 div.sk-item {position: relative;z-index: 1;}#sk-container-id-7 div.sk-parallel {display: flex;align-items: stretch;justify-content: center;background-color: white;position: relative;}#sk-container-id-7 div.sk-item::before, #sk-container-id-7 div.sk-parallel-item::before {content: \"\";position: absolute;border-left: 1px solid gray;box-sizing: border-box;top: 0;bottom: 0;left: 50%;z-index: -1;}#sk-container-id-7 div.sk-parallel-item {display: flex;flex-direction: column;z-index: 1;position: relative;background-color: white;}#sk-container-id-7 div.sk-parallel-item:first-child::after {align-self: flex-end;width: 50%;}#sk-container-id-7 div.sk-parallel-item:last-child::after {align-self: flex-start;width: 50%;}#sk-container-id-7 div.sk-parallel-item:only-child::after {width: 0;}#sk-container-id-7 div.sk-dashed-wrapped {border: 1px dashed gray;margin: 0 0.4em 0.5em 0.4em;box-sizing: border-box;padding-bottom: 0.4em;background-color: white;}#sk-container-id-7 div.sk-label label {font-family: monospace;font-weight: bold;display: inline-block;line-height: 1.2em;}#sk-container-id-7 div.sk-label-container {text-align: center;}#sk-container-id-7 div.sk-container {/* jupyter's `normalize.less` sets `[hidden] { display: none; }` but bootstrap.min.css set `[hidden] { display: none !important; }` so we also need the `!important` here to be able to override the default hidden behavior on the sphinx rendered scikit-learn.org. See: https://github.com/scikit-learn/scikit-learn/issues/21755 */display: inline-block !important;position: relative;}#sk-container-id-7 div.sk-text-repr-fallback {display: none;}</style><div id=\"sk-container-id-7\" class=\"sk-top-container\"><div class=\"sk-text-repr-fallback\"><pre>OneHotEncoder(drop=&#x27;first&#x27;, dtype=&lt;class &#x27;numpy.int64&#x27;&gt;,\n",
              "              handle_unknown=&#x27;ignore&#x27;)</pre><b>In a Jupyter environment, please rerun this cell to show the HTML representation or trust the notebook. <br />On GitHub, the HTML representation is unable to render, please try loading this page with nbviewer.org.</b></div><div class=\"sk-container\" hidden><div class=\"sk-item\"><div class=\"sk-estimator sk-toggleable\"><input class=\"sk-toggleable__control sk-hidden--visually\" id=\"sk-estimator-id-7\" type=\"checkbox\" checked><label for=\"sk-estimator-id-7\" class=\"sk-toggleable__label sk-toggleable__label-arrow\">OneHotEncoder</label><div class=\"sk-toggleable__content\"><pre>OneHotEncoder(drop=&#x27;first&#x27;, dtype=&lt;class &#x27;numpy.int64&#x27;&gt;,\n",
              "              handle_unknown=&#x27;ignore&#x27;)</pre></div></div></div></div></div>"
            ]
          },
          "metadata": {},
          "execution_count": 127
        }
      ],
      "source": [
        "# Collect text (i.e., object) variables\n",
        "text_cols = df_final.select_dtypes(['object']).columns.to_list()\n",
        "\n",
        "# Initiate OHE instance\n",
        "ohe = OneHotEncoder(handle_unknown='ignore', drop='first', dtype = np.int64) # Set drop to 'first' to aviod collinearity\n",
        "\n",
        "# Fit OHE to the categorical features\n",
        "ohe.fit(df_final[text_cols])"
      ]
    },
    {
      "cell_type": "code",
      "execution_count": 128,
      "metadata": {
        "colab": {
          "base_uri": "https://localhost:8080/"
        },
        "id": "vy_O7Cfn28sL",
        "outputId": "e7680bc7-5f09-4820-a3fe-9f3e977584cf"
      },
      "outputs": [
        {
          "output_type": "execute_result",
          "data": {
            "text/plain": [
              "[array(['C (all)', 'FV', 'RH', 'RL', 'RM'], dtype=object),\n",
              " array(['Grvl', 'Pave'], dtype=object),\n",
              " array(['IR1', 'IR2', 'IR3', 'Reg'], dtype=object),\n",
              " array(['Bnk', 'HLS', 'Low', 'Lvl'], dtype=object),\n",
              " array(['AllPub'], dtype=object),\n",
              " array(['Corner', 'CulDSac', 'FR2', 'FR3', 'Inside'], dtype=object),\n",
              " array(['Gtl', 'Mod', 'Sev'], dtype=object),\n",
              " array(['Blmngtn', 'Blueste', 'BrDale', 'BrkSide', 'ClearCr', 'CollgCr',\n",
              "        'Crawfor', 'Edwards', 'Gilbert', 'IDOTRR', 'MeadowV', 'Mitchel',\n",
              "        'NAmes', 'NPkVill', 'NWAmes', 'NoRidge', 'NridgHt', 'OldTown',\n",
              "        'SWISU', 'Sawyer', 'SawyerW', 'Somerst', 'StoneBr', 'Timber',\n",
              "        'Veenker'], dtype=object),\n",
              " array(['Artery', 'Feedr', 'Norm', 'PosA', 'PosN', 'RRAe', 'RRAn', 'RRNe',\n",
              "        'RRNn'], dtype=object),\n",
              " array(['Artery', 'Feedr', 'Norm', 'PosA', 'PosN', 'RRNn'], dtype=object),\n",
              " array(['1Fam', '2fmCon', 'Duplex', 'Twnhs', 'TwnhsE'], dtype=object),\n",
              " array(['1.5Fin', '1.5Unf', '1Story', '2.5Fin', '2.5Unf', '2Story',\n",
              "        'SFoyer', 'SLvl'], dtype=object),\n",
              " array(['Flat', 'Gable', 'Gambrel', 'Hip', 'Mansard'], dtype=object),\n",
              " array(['ClyTile', 'CompShg', 'Membran', 'Roll', 'Tar&Grv', 'WdShake',\n",
              "        'WdShngl'], dtype=object),\n",
              " array(['AsbShng', 'BrkComm', 'BrkFace', 'CBlock', 'CemntBd', 'HdBoard',\n",
              "        'ImStucc', 'MetalSd', 'Plywood', 'Stone', 'Stucco', 'VinylSd',\n",
              "        'Wd Sdng', 'WdShing'], dtype=object),\n",
              " array(['AsbShng', 'AsphShn', 'Brk Cmn', 'BrkFace', 'CBlock', 'CmentBd',\n",
              "        'HdBoard', 'ImStucc', 'MetalSd', 'Other', 'Plywood', 'Stone',\n",
              "        'Stucco', 'VinylSd', 'Wd Sdng', 'Wd Shng'], dtype=object),\n",
              " array(['BrkCmn', 'BrkFace', 'None', 'Stone'], dtype=object),\n",
              " array(['Ex', 'Fa', 'Gd', 'TA'], dtype=object),\n",
              " array(['Ex', 'Fa', 'Gd', 'TA'], dtype=object),\n",
              " array(['BrkTil', 'CBlock', 'PConc', 'Stone', 'Wood'], dtype=object),\n",
              " array(['Ex', 'Fa', 'Gd', 'TA'], dtype=object),\n",
              " array(['Fa', 'Gd', 'Po', 'TA'], dtype=object),\n",
              " array(['Av', 'Gd', 'Mn', 'No'], dtype=object),\n",
              " array(['ALQ', 'BLQ', 'GLQ', 'LwQ', 'Rec', 'Unf'], dtype=object),\n",
              " array(['ALQ', 'BLQ', 'GLQ', 'LwQ', 'Rec', 'Unf'], dtype=object),\n",
              " array(['GasA', 'GasW', 'Grav', 'OthW'], dtype=object),\n",
              " array(['Ex', 'Fa', 'Gd', 'Po', 'TA'], dtype=object),\n",
              " array(['N', 'Y'], dtype=object),\n",
              " array(['FuseA', 'FuseF', 'FuseP', 'Mix', 'SBrkr'], dtype=object),\n",
              " array(['Ex', 'Fa', 'Gd', 'TA'], dtype=object),\n",
              " array(['Maj1', 'Maj2', 'Min1', 'Min2', 'Mod', 'Typ'], dtype=object),\n",
              " array(['2Types', 'Attchd', 'Basment', 'BuiltIn', 'CarPort', 'Detchd'],\n",
              "       dtype=object),\n",
              " array(['Fin', 'RFn', 'Unf'], dtype=object),\n",
              " array(['Ex', 'Fa', 'Gd', 'Po', 'TA'], dtype=object),\n",
              " array(['Ex', 'Fa', 'Gd', 'Po', 'TA'], dtype=object),\n",
              " array(['N', 'P', 'Y'], dtype=object),\n",
              " array(['COD', 'CWD', 'Con', 'ConLD', 'ConLI', 'ConLw', 'New', 'Oth', 'WD'],\n",
              "       dtype=object),\n",
              " array(['Abnorml', 'AdjLand', 'Alloca', 'Family', 'Normal', 'Partial'],\n",
              "       dtype=object)]"
            ]
          },
          "metadata": {},
          "execution_count": 128
        }
      ],
      "source": [
        "# View categories\n",
        "ohe.categories_"
      ]
    },
    {
      "cell_type": "code",
      "execution_count": 129,
      "metadata": {
        "colab": {
          "base_uri": "https://localhost:8080/"
        },
        "id": "ZpBioDOTbvGV",
        "outputId": "53dd3f4c-9f52-47de-ba56-fa10b560079f"
      },
      "outputs": [
        {
          "output_type": "stream",
          "name": "stdout",
          "text": [
            "(1094, 185)\n"
          ]
        }
      ],
      "source": [
        "# Note: Many of the original features contain similar values.\n",
        "# we will relabel these as FeatureName_value to make it self-explainable\n",
        "new_col_names = []\n",
        "index = 0\n",
        "for arr, col_name in zip(ohe.categories_, text_cols):\n",
        "    for ele in arr[1:]: # Skipping the first value label because our OHE model is set to drop the first feature value\n",
        "        new_col_name = col_name + '_' + ele.strip(' ')\n",
        "        new_col_names.append(new_col_name)\n",
        "\n",
        "# Create dataset of binary features\n",
        "df_ohe = pd.DataFrame(ohe.transform(df_final[text_cols]).toarray(), columns=new_col_names)\n",
        "print(df_ohe.shape)"
      ]
    },
    {
      "cell_type": "markdown",
      "metadata": {
        "id": "gQPiCJRCYOT4"
      },
      "source": [
        "# Finalize feature matrix and target variable, and create train-test split"
      ]
    },
    {
      "cell_type": "code",
      "execution_count": 130,
      "metadata": {
        "colab": {
          "base_uri": "https://localhost:8080/"
        },
        "id": "4rQeEKCBX-w_",
        "outputId": "8240a3ff-17dc-4bf6-8d44-32d19d010019"
      },
      "outputs": [
        {
          "output_type": "execute_result",
          "data": {
            "text/plain": [
              "(1094, 221)"
            ]
          },
          "metadata": {},
          "execution_count": 130
        }
      ],
      "source": [
        "# Create feature matrix by concatenating numeric and OHE dataframe\n",
        "df_X = pd.concat([df_num, df_ohe], axis = 1)\n",
        "feature_names = df_X.columns.to_list()\n",
        "df_X.shape"
      ]
    },
    {
      "cell_type": "code",
      "execution_count": 131,
      "metadata": {
        "colab": {
          "base_uri": "https://localhost:8080/"
        },
        "id": "XwOotAE_5YSh",
        "outputId": "601c5321-f133-47f7-9a4f-9c9d4a026924"
      },
      "outputs": [
        {
          "output_type": "execute_result",
          "data": {
            "text/plain": [
              "(1094, 1)"
            ]
          },
          "metadata": {},
          "execution_count": 131
        }
      ],
      "source": [
        "# Create target variable\n",
        "target = 'lg_SalePrice'\n",
        "df_y = df_final[[target]]\n",
        "df_y.shape"
      ]
    },
    {
      "cell_type": "code",
      "execution_count": 132,
      "metadata": {
        "colab": {
          "base_uri": "https://localhost:8080/"
        },
        "id": "xtq3z-aL53Yj",
        "outputId": "a0aa8ce9-844a-4649-a93f-4cd81087fc98"
      },
      "outputs": [
        {
          "output_type": "execute_result",
          "data": {
            "text/plain": [
              "((765, 221), (329, 221))"
            ]
          },
          "metadata": {},
          "execution_count": 132
        }
      ],
      "source": [
        "# Split data into train/test set\n",
        "df_X_train, df_X_test, df_y_train, df_y_test  = train_test_split(df_X, df_y, test_size = 0.3, random_state = 42)\n",
        "\n",
        "df_X_train.shape, df_X_test.shape\n",
        "# created 765 training samples and 329 testing samples, each sample is represented with 221 features"
      ]
    },
    {
      "cell_type": "markdown",
      "metadata": {
        "id": "9_vHckhHYpXA"
      },
      "source": [
        "# Finally... regression time\n",
        "\n",
        "In this subsection we will train and test the following models:\n",
        "\n",
        "i) Linear Regression\n",
        "\n",
        "ii) Polynomial Regression\n",
        "\n",
        "iii) Lasso Regression (with L1 regularization)\n",
        "\n",
        "iv) Ridge Regression (with L2 regularization)\n",
        "\n"
      ]
    },
    {
      "cell_type": "markdown",
      "metadata": {
        "id": "uMS60OgwY4Gi"
      },
      "source": [
        "## Linear Regression\n",
        "\n",
        "Fit the linear regression model on the training set and evaluate model performance on the testing set (use the *score* function)\n",
        "> Documentation: https://scikit-learn.org/stable/modules/generated/sklearn.linear_model.LinearRegression.html"
      ]
    },
    {
      "cell_type": "code",
      "execution_count": 133,
      "metadata": {
        "colab": {
          "base_uri": "https://localhost:8080/"
        },
        "id": "pZyA-u1R51st",
        "outputId": "3358f295-ec31-4ec9-f29e-dc3184905a1a"
      },
      "outputs": [
        {
          "output_type": "execute_result",
          "data": {
            "text/plain": [
              "0.762"
            ]
          },
          "metadata": {},
          "execution_count": 133
        }
      ],
      "source": [
        "# Fit on the training data\n",
        "reg = LinearRegression().fit(df_X_train, df_y_train)\n",
        "\n",
        "# Evaluate\n",
        "reg.score(df_X_test, df_y_test).round(3)"
      ]
    },
    {
      "cell_type": "markdown",
      "metadata": {
        "id": "FoSZ3hdmlJyb"
      },
      "source": [
        "**Check the model coefficients and intercept**\n",
        "\n",
        "- What are the largest positive and negative coefficients?\n",
        "- Commnet on some feature-coefficients in the context of the value of a house. Are they what you would expect?\n",
        "\n",
        "Refer to the [data fields on Kaggle](https://www.kaggle.com/competitions/house-prices-advanced-regression-techniques/data) to get more info of each feature. Remember, the OHE features are named according to the following schema: *FeatureName_value*"
      ]
    },
    {
      "cell_type": "code",
      "execution_count": 134,
      "metadata": {
        "colab": {
          "base_uri": "https://localhost:8080/",
          "height": 726
        },
        "id": "rO0n8qejlo42",
        "outputId": "41097013-0c52-440f-e071-bb4d58ece5a2"
      },
      "outputs": [
        {
          "output_type": "display_data",
          "data": {
            "text/plain": [
              "                features  coefficients\n",
              "106     RoofMatl_Membran         3.230\n",
              "110     RoofMatl_WdShngl         2.756\n",
              "108     RoofMatl_Tar&Grv         2.735\n",
              "105     RoofMatl_CompShg         2.648\n",
              "109     RoofMatl_WdShake         2.447\n",
              "37           MSZoning_RH         0.465\n",
              "36           MSZoning_FV         0.432\n",
              "39           MSZoning_RM         0.390\n",
              "38           MSZoning_RL         0.369\n",
              "128  Exterior2nd_CmentBd         0.318"
            ],
            "text/html": [
              "\n",
              "  <div id=\"df-4dcacd39-9a4b-4d36-a884-012925334c9b\" class=\"colab-df-container\">\n",
              "    <div>\n",
              "<style scoped>\n",
              "    .dataframe tbody tr th:only-of-type {\n",
              "        vertical-align: middle;\n",
              "    }\n",
              "\n",
              "    .dataframe tbody tr th {\n",
              "        vertical-align: top;\n",
              "    }\n",
              "\n",
              "    .dataframe thead th {\n",
              "        text-align: right;\n",
              "    }\n",
              "</style>\n",
              "<table border=\"1\" class=\"dataframe\">\n",
              "  <thead>\n",
              "    <tr style=\"text-align: right;\">\n",
              "      <th></th>\n",
              "      <th>features</th>\n",
              "      <th>coefficients</th>\n",
              "    </tr>\n",
              "  </thead>\n",
              "  <tbody>\n",
              "    <tr>\n",
              "      <th>106</th>\n",
              "      <td>RoofMatl_Membran</td>\n",
              "      <td>3.230</td>\n",
              "    </tr>\n",
              "    <tr>\n",
              "      <th>110</th>\n",
              "      <td>RoofMatl_WdShngl</td>\n",
              "      <td>2.756</td>\n",
              "    </tr>\n",
              "    <tr>\n",
              "      <th>108</th>\n",
              "      <td>RoofMatl_Tar&amp;Grv</td>\n",
              "      <td>2.735</td>\n",
              "    </tr>\n",
              "    <tr>\n",
              "      <th>105</th>\n",
              "      <td>RoofMatl_CompShg</td>\n",
              "      <td>2.648</td>\n",
              "    </tr>\n",
              "    <tr>\n",
              "      <th>109</th>\n",
              "      <td>RoofMatl_WdShake</td>\n",
              "      <td>2.447</td>\n",
              "    </tr>\n",
              "    <tr>\n",
              "      <th>37</th>\n",
              "      <td>MSZoning_RH</td>\n",
              "      <td>0.465</td>\n",
              "    </tr>\n",
              "    <tr>\n",
              "      <th>36</th>\n",
              "      <td>MSZoning_FV</td>\n",
              "      <td>0.432</td>\n",
              "    </tr>\n",
              "    <tr>\n",
              "      <th>39</th>\n",
              "      <td>MSZoning_RM</td>\n",
              "      <td>0.390</td>\n",
              "    </tr>\n",
              "    <tr>\n",
              "      <th>38</th>\n",
              "      <td>MSZoning_RL</td>\n",
              "      <td>0.369</td>\n",
              "    </tr>\n",
              "    <tr>\n",
              "      <th>128</th>\n",
              "      <td>Exterior2nd_CmentBd</td>\n",
              "      <td>0.318</td>\n",
              "    </tr>\n",
              "  </tbody>\n",
              "</table>\n",
              "</div>\n",
              "    <div class=\"colab-df-buttons\">\n",
              "\n",
              "  <div class=\"colab-df-container\">\n",
              "    <button class=\"colab-df-convert\" onclick=\"convertToInteractive('df-4dcacd39-9a4b-4d36-a884-012925334c9b')\"\n",
              "            title=\"Convert this dataframe to an interactive table.\"\n",
              "            style=\"display:none;\">\n",
              "\n",
              "  <svg xmlns=\"http://www.w3.org/2000/svg\" height=\"24px\" viewBox=\"0 -960 960 960\">\n",
              "    <path d=\"M120-120v-720h720v720H120Zm60-500h600v-160H180v160Zm220 220h160v-160H400v160Zm0 220h160v-160H400v160ZM180-400h160v-160H180v160Zm440 0h160v-160H620v160ZM180-180h160v-160H180v160Zm440 0h160v-160H620v160Z\"/>\n",
              "  </svg>\n",
              "    </button>\n",
              "\n",
              "  <style>\n",
              "    .colab-df-container {\n",
              "      display:flex;\n",
              "      gap: 12px;\n",
              "    }\n",
              "\n",
              "    .colab-df-convert {\n",
              "      background-color: #E8F0FE;\n",
              "      border: none;\n",
              "      border-radius: 50%;\n",
              "      cursor: pointer;\n",
              "      display: none;\n",
              "      fill: #1967D2;\n",
              "      height: 32px;\n",
              "      padding: 0 0 0 0;\n",
              "      width: 32px;\n",
              "    }\n",
              "\n",
              "    .colab-df-convert:hover {\n",
              "      background-color: #E2EBFA;\n",
              "      box-shadow: 0px 1px 2px rgba(60, 64, 67, 0.3), 0px 1px 3px 1px rgba(60, 64, 67, 0.15);\n",
              "      fill: #174EA6;\n",
              "    }\n",
              "\n",
              "    .colab-df-buttons div {\n",
              "      margin-bottom: 4px;\n",
              "    }\n",
              "\n",
              "    [theme=dark] .colab-df-convert {\n",
              "      background-color: #3B4455;\n",
              "      fill: #D2E3FC;\n",
              "    }\n",
              "\n",
              "    [theme=dark] .colab-df-convert:hover {\n",
              "      background-color: #434B5C;\n",
              "      box-shadow: 0px 1px 3px 1px rgba(0, 0, 0, 0.15);\n",
              "      filter: drop-shadow(0px 1px 2px rgba(0, 0, 0, 0.3));\n",
              "      fill: #FFFFFF;\n",
              "    }\n",
              "  </style>\n",
              "\n",
              "    <script>\n",
              "      const buttonEl =\n",
              "        document.querySelector('#df-4dcacd39-9a4b-4d36-a884-012925334c9b button.colab-df-convert');\n",
              "      buttonEl.style.display =\n",
              "        google.colab.kernel.accessAllowed ? 'block' : 'none';\n",
              "\n",
              "      async function convertToInteractive(key) {\n",
              "        const element = document.querySelector('#df-4dcacd39-9a4b-4d36-a884-012925334c9b');\n",
              "        const dataTable =\n",
              "          await google.colab.kernel.invokeFunction('convertToInteractive',\n",
              "                                                    [key], {});\n",
              "        if (!dataTable) return;\n",
              "\n",
              "        const docLinkHtml = 'Like what you see? Visit the ' +\n",
              "          '<a target=\"_blank\" href=https://colab.research.google.com/notebooks/data_table.ipynb>data table notebook</a>'\n",
              "          + ' to learn more about interactive tables.';\n",
              "        element.innerHTML = '';\n",
              "        dataTable['output_type'] = 'display_data';\n",
              "        await google.colab.output.renderOutput(dataTable, element);\n",
              "        const docLink = document.createElement('div');\n",
              "        docLink.innerHTML = docLinkHtml;\n",
              "        element.appendChild(docLink);\n",
              "      }\n",
              "    </script>\n",
              "  </div>\n",
              "\n",
              "\n",
              "<div id=\"df-1a0d964f-6917-4733-875c-d25fa1e400bc\">\n",
              "  <button class=\"colab-df-quickchart\" onclick=\"quickchart('df-1a0d964f-6917-4733-875c-d25fa1e400bc')\"\n",
              "            title=\"Suggest charts\"\n",
              "            style=\"display:none;\">\n",
              "\n",
              "<svg xmlns=\"http://www.w3.org/2000/svg\" height=\"24px\"viewBox=\"0 0 24 24\"\n",
              "     width=\"24px\">\n",
              "    <g>\n",
              "        <path d=\"M19 3H5c-1.1 0-2 .9-2 2v14c0 1.1.9 2 2 2h14c1.1 0 2-.9 2-2V5c0-1.1-.9-2-2-2zM9 17H7v-7h2v7zm4 0h-2V7h2v10zm4 0h-2v-4h2v4z\"/>\n",
              "    </g>\n",
              "</svg>\n",
              "  </button>\n",
              "\n",
              "<style>\n",
              "  .colab-df-quickchart {\n",
              "      --bg-color: #E8F0FE;\n",
              "      --fill-color: #1967D2;\n",
              "      --hover-bg-color: #E2EBFA;\n",
              "      --hover-fill-color: #174EA6;\n",
              "      --disabled-fill-color: #AAA;\n",
              "      --disabled-bg-color: #DDD;\n",
              "  }\n",
              "\n",
              "  [theme=dark] .colab-df-quickchart {\n",
              "      --bg-color: #3B4455;\n",
              "      --fill-color: #D2E3FC;\n",
              "      --hover-bg-color: #434B5C;\n",
              "      --hover-fill-color: #FFFFFF;\n",
              "      --disabled-bg-color: #3B4455;\n",
              "      --disabled-fill-color: #666;\n",
              "  }\n",
              "\n",
              "  .colab-df-quickchart {\n",
              "    background-color: var(--bg-color);\n",
              "    border: none;\n",
              "    border-radius: 50%;\n",
              "    cursor: pointer;\n",
              "    display: none;\n",
              "    fill: var(--fill-color);\n",
              "    height: 32px;\n",
              "    padding: 0;\n",
              "    width: 32px;\n",
              "  }\n",
              "\n",
              "  .colab-df-quickchart:hover {\n",
              "    background-color: var(--hover-bg-color);\n",
              "    box-shadow: 0 1px 2px rgba(60, 64, 67, 0.3), 0 1px 3px 1px rgba(60, 64, 67, 0.15);\n",
              "    fill: var(--button-hover-fill-color);\n",
              "  }\n",
              "\n",
              "  .colab-df-quickchart-complete:disabled,\n",
              "  .colab-df-quickchart-complete:disabled:hover {\n",
              "    background-color: var(--disabled-bg-color);\n",
              "    fill: var(--disabled-fill-color);\n",
              "    box-shadow: none;\n",
              "  }\n",
              "\n",
              "  .colab-df-spinner {\n",
              "    border: 2px solid var(--fill-color);\n",
              "    border-color: transparent;\n",
              "    border-bottom-color: var(--fill-color);\n",
              "    animation:\n",
              "      spin 1s steps(1) infinite;\n",
              "  }\n",
              "\n",
              "  @keyframes spin {\n",
              "    0% {\n",
              "      border-color: transparent;\n",
              "      border-bottom-color: var(--fill-color);\n",
              "      border-left-color: var(--fill-color);\n",
              "    }\n",
              "    20% {\n",
              "      border-color: transparent;\n",
              "      border-left-color: var(--fill-color);\n",
              "      border-top-color: var(--fill-color);\n",
              "    }\n",
              "    30% {\n",
              "      border-color: transparent;\n",
              "      border-left-color: var(--fill-color);\n",
              "      border-top-color: var(--fill-color);\n",
              "      border-right-color: var(--fill-color);\n",
              "    }\n",
              "    40% {\n",
              "      border-color: transparent;\n",
              "      border-right-color: var(--fill-color);\n",
              "      border-top-color: var(--fill-color);\n",
              "    }\n",
              "    60% {\n",
              "      border-color: transparent;\n",
              "      border-right-color: var(--fill-color);\n",
              "    }\n",
              "    80% {\n",
              "      border-color: transparent;\n",
              "      border-right-color: var(--fill-color);\n",
              "      border-bottom-color: var(--fill-color);\n",
              "    }\n",
              "    90% {\n",
              "      border-color: transparent;\n",
              "      border-bottom-color: var(--fill-color);\n",
              "    }\n",
              "  }\n",
              "</style>\n",
              "\n",
              "  <script>\n",
              "    async function quickchart(key) {\n",
              "      const quickchartButtonEl =\n",
              "        document.querySelector('#' + key + ' button');\n",
              "      quickchartButtonEl.disabled = true;  // To prevent multiple clicks.\n",
              "      quickchartButtonEl.classList.add('colab-df-spinner');\n",
              "      try {\n",
              "        const charts = await google.colab.kernel.invokeFunction(\n",
              "            'suggestCharts', [key], {});\n",
              "      } catch (error) {\n",
              "        console.error('Error during call to suggestCharts:', error);\n",
              "      }\n",
              "      quickchartButtonEl.classList.remove('colab-df-spinner');\n",
              "      quickchartButtonEl.classList.add('colab-df-quickchart-complete');\n",
              "    }\n",
              "    (() => {\n",
              "      let quickchartButtonEl =\n",
              "        document.querySelector('#df-1a0d964f-6917-4733-875c-d25fa1e400bc button');\n",
              "      quickchartButtonEl.style.display =\n",
              "        google.colab.kernel.accessAllowed ? 'block' : 'none';\n",
              "    })();\n",
              "  </script>\n",
              "</div>\n",
              "    </div>\n",
              "  </div>\n"
            ]
          },
          "metadata": {}
        },
        {
          "output_type": "stream",
          "name": "stdout",
          "text": [
            "\n"
          ]
        },
        {
          "output_type": "display_data",
          "data": {
            "text/plain": [
              "                 features  coefficients\n",
              "88        Condition2_PosN        -0.882\n",
              "200         GarageQual_Po        -0.269\n",
              "114   Exterior1st_CemntBd        -0.218\n",
              "198         GarageQual_Fa        -0.212\n",
              "62   Neighborhood_MeadowV        -0.198\n",
              "186       Functional_Maj2        -0.194\n",
              "52          LandSlope_Sev        -0.193\n",
              "199         GarageQual_Gd        -0.192\n",
              "201         GarageQual_TA        -0.177\n",
              "176          HeatingQC_Po        -0.176"
            ],
            "text/html": [
              "\n",
              "  <div id=\"df-224e79c3-7aa4-484d-893c-95138bf7482a\" class=\"colab-df-container\">\n",
              "    <div>\n",
              "<style scoped>\n",
              "    .dataframe tbody tr th:only-of-type {\n",
              "        vertical-align: middle;\n",
              "    }\n",
              "\n",
              "    .dataframe tbody tr th {\n",
              "        vertical-align: top;\n",
              "    }\n",
              "\n",
              "    .dataframe thead th {\n",
              "        text-align: right;\n",
              "    }\n",
              "</style>\n",
              "<table border=\"1\" class=\"dataframe\">\n",
              "  <thead>\n",
              "    <tr style=\"text-align: right;\">\n",
              "      <th></th>\n",
              "      <th>features</th>\n",
              "      <th>coefficients</th>\n",
              "    </tr>\n",
              "  </thead>\n",
              "  <tbody>\n",
              "    <tr>\n",
              "      <th>88</th>\n",
              "      <td>Condition2_PosN</td>\n",
              "      <td>-0.882</td>\n",
              "    </tr>\n",
              "    <tr>\n",
              "      <th>200</th>\n",
              "      <td>GarageQual_Po</td>\n",
              "      <td>-0.269</td>\n",
              "    </tr>\n",
              "    <tr>\n",
              "      <th>114</th>\n",
              "      <td>Exterior1st_CemntBd</td>\n",
              "      <td>-0.218</td>\n",
              "    </tr>\n",
              "    <tr>\n",
              "      <th>198</th>\n",
              "      <td>GarageQual_Fa</td>\n",
              "      <td>-0.212</td>\n",
              "    </tr>\n",
              "    <tr>\n",
              "      <th>62</th>\n",
              "      <td>Neighborhood_MeadowV</td>\n",
              "      <td>-0.198</td>\n",
              "    </tr>\n",
              "    <tr>\n",
              "      <th>186</th>\n",
              "      <td>Functional_Maj2</td>\n",
              "      <td>-0.194</td>\n",
              "    </tr>\n",
              "    <tr>\n",
              "      <th>52</th>\n",
              "      <td>LandSlope_Sev</td>\n",
              "      <td>-0.193</td>\n",
              "    </tr>\n",
              "    <tr>\n",
              "      <th>199</th>\n",
              "      <td>GarageQual_Gd</td>\n",
              "      <td>-0.192</td>\n",
              "    </tr>\n",
              "    <tr>\n",
              "      <th>201</th>\n",
              "      <td>GarageQual_TA</td>\n",
              "      <td>-0.177</td>\n",
              "    </tr>\n",
              "    <tr>\n",
              "      <th>176</th>\n",
              "      <td>HeatingQC_Po</td>\n",
              "      <td>-0.176</td>\n",
              "    </tr>\n",
              "  </tbody>\n",
              "</table>\n",
              "</div>\n",
              "    <div class=\"colab-df-buttons\">\n",
              "\n",
              "  <div class=\"colab-df-container\">\n",
              "    <button class=\"colab-df-convert\" onclick=\"convertToInteractive('df-224e79c3-7aa4-484d-893c-95138bf7482a')\"\n",
              "            title=\"Convert this dataframe to an interactive table.\"\n",
              "            style=\"display:none;\">\n",
              "\n",
              "  <svg xmlns=\"http://www.w3.org/2000/svg\" height=\"24px\" viewBox=\"0 -960 960 960\">\n",
              "    <path d=\"M120-120v-720h720v720H120Zm60-500h600v-160H180v160Zm220 220h160v-160H400v160Zm0 220h160v-160H400v160ZM180-400h160v-160H180v160Zm440 0h160v-160H620v160ZM180-180h160v-160H180v160Zm440 0h160v-160H620v160Z\"/>\n",
              "  </svg>\n",
              "    </button>\n",
              "\n",
              "  <style>\n",
              "    .colab-df-container {\n",
              "      display:flex;\n",
              "      gap: 12px;\n",
              "    }\n",
              "\n",
              "    .colab-df-convert {\n",
              "      background-color: #E8F0FE;\n",
              "      border: none;\n",
              "      border-radius: 50%;\n",
              "      cursor: pointer;\n",
              "      display: none;\n",
              "      fill: #1967D2;\n",
              "      height: 32px;\n",
              "      padding: 0 0 0 0;\n",
              "      width: 32px;\n",
              "    }\n",
              "\n",
              "    .colab-df-convert:hover {\n",
              "      background-color: #E2EBFA;\n",
              "      box-shadow: 0px 1px 2px rgba(60, 64, 67, 0.3), 0px 1px 3px 1px rgba(60, 64, 67, 0.15);\n",
              "      fill: #174EA6;\n",
              "    }\n",
              "\n",
              "    .colab-df-buttons div {\n",
              "      margin-bottom: 4px;\n",
              "    }\n",
              "\n",
              "    [theme=dark] .colab-df-convert {\n",
              "      background-color: #3B4455;\n",
              "      fill: #D2E3FC;\n",
              "    }\n",
              "\n",
              "    [theme=dark] .colab-df-convert:hover {\n",
              "      background-color: #434B5C;\n",
              "      box-shadow: 0px 1px 3px 1px rgba(0, 0, 0, 0.15);\n",
              "      filter: drop-shadow(0px 1px 2px rgba(0, 0, 0, 0.3));\n",
              "      fill: #FFFFFF;\n",
              "    }\n",
              "  </style>\n",
              "\n",
              "    <script>\n",
              "      const buttonEl =\n",
              "        document.querySelector('#df-224e79c3-7aa4-484d-893c-95138bf7482a button.colab-df-convert');\n",
              "      buttonEl.style.display =\n",
              "        google.colab.kernel.accessAllowed ? 'block' : 'none';\n",
              "\n",
              "      async function convertToInteractive(key) {\n",
              "        const element = document.querySelector('#df-224e79c3-7aa4-484d-893c-95138bf7482a');\n",
              "        const dataTable =\n",
              "          await google.colab.kernel.invokeFunction('convertToInteractive',\n",
              "                                                    [key], {});\n",
              "        if (!dataTable) return;\n",
              "\n",
              "        const docLinkHtml = 'Like what you see? Visit the ' +\n",
              "          '<a target=\"_blank\" href=https://colab.research.google.com/notebooks/data_table.ipynb>data table notebook</a>'\n",
              "          + ' to learn more about interactive tables.';\n",
              "        element.innerHTML = '';\n",
              "        dataTable['output_type'] = 'display_data';\n",
              "        await google.colab.output.renderOutput(dataTable, element);\n",
              "        const docLink = document.createElement('div');\n",
              "        docLink.innerHTML = docLinkHtml;\n",
              "        element.appendChild(docLink);\n",
              "      }\n",
              "    </script>\n",
              "  </div>\n",
              "\n",
              "\n",
              "<div id=\"df-b005dc0e-87d6-45ac-8fba-b8f5ed09771e\">\n",
              "  <button class=\"colab-df-quickchart\" onclick=\"quickchart('df-b005dc0e-87d6-45ac-8fba-b8f5ed09771e')\"\n",
              "            title=\"Suggest charts\"\n",
              "            style=\"display:none;\">\n",
              "\n",
              "<svg xmlns=\"http://www.w3.org/2000/svg\" height=\"24px\"viewBox=\"0 0 24 24\"\n",
              "     width=\"24px\">\n",
              "    <g>\n",
              "        <path d=\"M19 3H5c-1.1 0-2 .9-2 2v14c0 1.1.9 2 2 2h14c1.1 0 2-.9 2-2V5c0-1.1-.9-2-2-2zM9 17H7v-7h2v7zm4 0h-2V7h2v10zm4 0h-2v-4h2v4z\"/>\n",
              "    </g>\n",
              "</svg>\n",
              "  </button>\n",
              "\n",
              "<style>\n",
              "  .colab-df-quickchart {\n",
              "      --bg-color: #E8F0FE;\n",
              "      --fill-color: #1967D2;\n",
              "      --hover-bg-color: #E2EBFA;\n",
              "      --hover-fill-color: #174EA6;\n",
              "      --disabled-fill-color: #AAA;\n",
              "      --disabled-bg-color: #DDD;\n",
              "  }\n",
              "\n",
              "  [theme=dark] .colab-df-quickchart {\n",
              "      --bg-color: #3B4455;\n",
              "      --fill-color: #D2E3FC;\n",
              "      --hover-bg-color: #434B5C;\n",
              "      --hover-fill-color: #FFFFFF;\n",
              "      --disabled-bg-color: #3B4455;\n",
              "      --disabled-fill-color: #666;\n",
              "  }\n",
              "\n",
              "  .colab-df-quickchart {\n",
              "    background-color: var(--bg-color);\n",
              "    border: none;\n",
              "    border-radius: 50%;\n",
              "    cursor: pointer;\n",
              "    display: none;\n",
              "    fill: var(--fill-color);\n",
              "    height: 32px;\n",
              "    padding: 0;\n",
              "    width: 32px;\n",
              "  }\n",
              "\n",
              "  .colab-df-quickchart:hover {\n",
              "    background-color: var(--hover-bg-color);\n",
              "    box-shadow: 0 1px 2px rgba(60, 64, 67, 0.3), 0 1px 3px 1px rgba(60, 64, 67, 0.15);\n",
              "    fill: var(--button-hover-fill-color);\n",
              "  }\n",
              "\n",
              "  .colab-df-quickchart-complete:disabled,\n",
              "  .colab-df-quickchart-complete:disabled:hover {\n",
              "    background-color: var(--disabled-bg-color);\n",
              "    fill: var(--disabled-fill-color);\n",
              "    box-shadow: none;\n",
              "  }\n",
              "\n",
              "  .colab-df-spinner {\n",
              "    border: 2px solid var(--fill-color);\n",
              "    border-color: transparent;\n",
              "    border-bottom-color: var(--fill-color);\n",
              "    animation:\n",
              "      spin 1s steps(1) infinite;\n",
              "  }\n",
              "\n",
              "  @keyframes spin {\n",
              "    0% {\n",
              "      border-color: transparent;\n",
              "      border-bottom-color: var(--fill-color);\n",
              "      border-left-color: var(--fill-color);\n",
              "    }\n",
              "    20% {\n",
              "      border-color: transparent;\n",
              "      border-left-color: var(--fill-color);\n",
              "      border-top-color: var(--fill-color);\n",
              "    }\n",
              "    30% {\n",
              "      border-color: transparent;\n",
              "      border-left-color: var(--fill-color);\n",
              "      border-top-color: var(--fill-color);\n",
              "      border-right-color: var(--fill-color);\n",
              "    }\n",
              "    40% {\n",
              "      border-color: transparent;\n",
              "      border-right-color: var(--fill-color);\n",
              "      border-top-color: var(--fill-color);\n",
              "    }\n",
              "    60% {\n",
              "      border-color: transparent;\n",
              "      border-right-color: var(--fill-color);\n",
              "    }\n",
              "    80% {\n",
              "      border-color: transparent;\n",
              "      border-right-color: var(--fill-color);\n",
              "      border-bottom-color: var(--fill-color);\n",
              "    }\n",
              "    90% {\n",
              "      border-color: transparent;\n",
              "      border-bottom-color: var(--fill-color);\n",
              "    }\n",
              "  }\n",
              "</style>\n",
              "\n",
              "  <script>\n",
              "    async function quickchart(key) {\n",
              "      const quickchartButtonEl =\n",
              "        document.querySelector('#' + key + ' button');\n",
              "      quickchartButtonEl.disabled = true;  // To prevent multiple clicks.\n",
              "      quickchartButtonEl.classList.add('colab-df-spinner');\n",
              "      try {\n",
              "        const charts = await google.colab.kernel.invokeFunction(\n",
              "            'suggestCharts', [key], {});\n",
              "      } catch (error) {\n",
              "        console.error('Error during call to suggestCharts:', error);\n",
              "      }\n",
              "      quickchartButtonEl.classList.remove('colab-df-spinner');\n",
              "      quickchartButtonEl.classList.add('colab-df-quickchart-complete');\n",
              "    }\n",
              "    (() => {\n",
              "      let quickchartButtonEl =\n",
              "        document.querySelector('#df-b005dc0e-87d6-45ac-8fba-b8f5ed09771e button');\n",
              "      quickchartButtonEl.style.display =\n",
              "        google.colab.kernel.accessAllowed ? 'block' : 'none';\n",
              "    })();\n",
              "  </script>\n",
              "</div>\n",
              "    </div>\n",
              "  </div>\n"
            ]
          },
          "metadata": {}
        }
      ],
      "source": [
        "df_linear_coef = pd.DataFrame({'features':reg.feature_names_in_, 'coefficients':np.round(reg.coef_[0],3)})\n",
        "\n",
        "display(df_linear_coef.sort_values(['coefficients'], ascending=False).iloc[:10])\n",
        "print()\n",
        "display(df_linear_coef.sort_values(['coefficients'], ascending=True).iloc[:10])"
      ]
    },
    {
      "cell_type": "markdown",
      "source": [
        "+ The largest positive coefficients are for the features related to the type of roofing material:\n",
        " + RoofMatl_Membran: 3.230\n",
        " + RoofMatl_WdShngl: 2.756\n",
        " + RoofMatl_Tar&Grv: 2.735\n",
        " + RoofMatl_CompShg: 2.648\n",
        " + RoofMatl_WdShake: 2.447\n",
        "+ The largest negative coefficient is for the feature:\n",
        " + Condition2_PosN: -0.882\n",
        " + GarageQual_Po: -0.269\n",
        "\n",
        "+ The roofing material features have the highest positive coefficients, indicating that these materials are associated with higher house values. This might be expected as certain roofing materials like membrane or wood shingles are typically more expensive and may be indicative of a higher overall quality of construction or luxury status.\n",
        "+ The MSZoning features also have positive coefficients, but they are much lower than those for roofing materials. These features represent different zoning classifications of the property, like RH (Residential High Density), FV (Floating Village Residential), and RL (Residential Low Density). The positive coefficients suggest that houses in these zoning areas are priced higher, which might correspond to the desirability of the neighborhood, local amenities, or other location-related factors."
      ],
      "metadata": {
        "id": "D5gqqGXMuORC"
      }
    },
    {
      "cell_type": "markdown",
      "metadata": {
        "id": "J6ZioBC0HBnD"
      },
      "source": [
        "## Polynomial regression\n",
        "\n",
        "Let's now add some new polynomial features constructed from our numerical features\n",
        "- Documentation: https://scikit-learn.org/stable/modules/generated/sklearn.preprocessing.PolynomialFeatures.html\n",
        "- Note that we are using the same training and testing dataset from the above steps"
      ]
    },
    {
      "cell_type": "markdown",
      "metadata": {
        "id": "zCwS5MuHmYHL"
      },
      "source": [
        "**First**, we will pick some numerical features to do polynomial transformation on the **training data**"
      ]
    },
    {
      "cell_type": "code",
      "execution_count": 135,
      "metadata": {
        "id": "AYmJb0eTmYHM"
      },
      "outputs": [],
      "source": [
        "# We will apply the polynomial transform to our float variables\n",
        "poly_cols = df_X_train.select_dtypes(['float']).columns"
      ]
    },
    {
      "cell_type": "code",
      "execution_count": 136,
      "metadata": {
        "id": "3qMpLQ7omYHM"
      },
      "outputs": [],
      "source": [
        "# We start with second degree polynomial features\n",
        "poly2 = PolynomialFeatures(degree=2, include_bias=True)\n",
        "\n",
        "# Fit and transform selected features of traning data to polynomial representation\n",
        "poly2_features_train = pd.DataFrame(poly2.fit_transform(df_X_train[poly_cols]),\n",
        "                                    columns = poly2.get_feature_names_out(poly_cols))\n"
      ]
    },
    {
      "cell_type": "code",
      "execution_count": 137,
      "metadata": {
        "colab": {
          "base_uri": "https://localhost:8080/"
        },
        "id": "6qIT6_C2mYHM",
        "outputId": "ee64a1af-b1ce-4d7d-b414-5c6cc9ab78d4"
      },
      "outputs": [
        {
          "output_type": "execute_result",
          "data": {
            "text/plain": [
              "(765, 288)"
            ]
          },
          "metadata": {},
          "execution_count": 137
        }
      ],
      "source": [
        "# Add the ploynomial features to the other remaining features in our training data\n",
        "# Exclude ~ original selected columns that are contained in poly2_features_train\n",
        "poly2_train = pd.concat([df_X_train.loc[:,  ~df_X_train.columns.isin(poly_cols)].reset_index(),\n",
        "                         poly2_features_train], axis=1)\n",
        "\n",
        "# Set index back to the original train data (when created, poly2_features_train has its indexed reset)\n",
        "poly2_train = poly2_train.set_index(['index'])\n",
        "\n",
        "poly2_train.shape"
      ]
    },
    {
      "cell_type": "markdown",
      "metadata": {
        "id": "bb3UziUOmYHM"
      },
      "source": [
        "**Think about why** do we do reset_index() and set_index(['indes']) in the above code?"
      ]
    },
    {
      "cell_type": "markdown",
      "source": [
        "+ reset_index() is used to simplify the DataFrame index to allow easy concatenation of the new polynomial features with the original features.\n",
        "\n",
        "+ set_index(['index']) is then used to re-align the new concatenated DataFrame with the original DataFrame's indexing system. This ensures that the new features are correctly associated with the corresponding entries from the original dataset (and there might be some important info in the index)"
      ],
      "metadata": {
        "id": "_wnsf27cwKQa"
      }
    },
    {
      "cell_type": "markdown",
      "metadata": {
        "id": "LMcwOhjkmYHM"
      },
      "source": [
        "**Second**, we will apply the polynomial transformation to those selected features on the **testing data**\n",
        "- **think about why** we do \"fit_transform\" on training data but only do \"transform\" on testing data?\n"
      ]
    },
    {
      "cell_type": "markdown",
      "source": [
        "We apply 'fit_transform' to the training data because this process both calculates the necessary transformation parameters and then applies them to the training data, which is essential for building the model. In contrast, we only use 'transform' on the testing data because the testing set should be subjected to the same transformation parameters established by the training set, not its own. This ensures that the model is evaluated on a consistent basis. If we were to use 'fit_transform' on the testing data, it would lead to an incorrect assessment of the model’s performance, potentially inflating the model's metrics due to it being influenced by the specifics of the test set, which is not indicative of its performance on unseen data."
      ],
      "metadata": {
        "id": "qB2HnKzDxqL1"
      }
    },
    {
      "cell_type": "code",
      "execution_count": 138,
      "metadata": {
        "colab": {
          "base_uri": "https://localhost:8080/"
        },
        "id": "cnzWxSX0mYHM",
        "outputId": "48012755-6372-402e-c91f-e4b19b823e30"
      },
      "outputs": [
        {
          "output_type": "execute_result",
          "data": {
            "text/plain": [
              "(329, 288)"
            ]
          },
          "metadata": {},
          "execution_count": 138
        }
      ],
      "source": [
        "# Transform on test data\n",
        "\n",
        "poly2_features_test = pd.DataFrame(poly2.transform(df_X_test[poly_cols]),\n",
        "                                   columns = poly2.get_feature_names_out(poly_cols))\n",
        "\n",
        "# Add the ploynomial features to the other remaining features in our testing data\n",
        "# Exclude ~ original selected columns that are contained in poly2_features_train\n",
        "poly2_test = pd.concat([df_X_test.loc[:,  ~df_X_test.columns.isin(poly_cols)].reset_index(),\n",
        "                        poly2_features_test],axis=1)\n",
        "\n",
        "# Set index back to the original train data (when created, poly2_features_train has its indexed reset)\n",
        "poly2_test = poly2_test.set_index(['index'])\n",
        "\n",
        "poly2_test.shape"
      ]
    },
    {
      "cell_type": "markdown",
      "metadata": {
        "id": "6LV9dZQwmYHM"
      },
      "source": [
        "**Third**, we will fit and evaluate the regression model with the newly generated polynomial feature matrix"
      ]
    },
    {
      "cell_type": "code",
      "execution_count": 139,
      "metadata": {
        "colab": {
          "base_uri": "https://localhost:8080/"
        },
        "id": "6pgvaDtdrY6E",
        "outputId": "2eac310b-6109-4b50-a534-4178fab46d38"
      },
      "outputs": [
        {
          "output_type": "execute_result",
          "data": {
            "text/plain": [
              "0.872"
            ]
          },
          "metadata": {},
          "execution_count": 139
        }
      ],
      "source": [
        "# fit a regression model with the newly generated polynomial training feature matrix\n",
        "poly2_reg = LinearRegression().fit(poly2_train, df_y_train)\n",
        "\n",
        "# evaluate model performance on the polynomial testing feature matrix\n",
        "poly2_reg.score(poly2_test, df_y_test).round(3)"
      ]
    },
    {
      "cell_type": "markdown",
      "metadata": {
        "id": "m3PkKiNfjC5e"
      },
      "source": [
        "Note the **test score improvment**! Presumably, our more complex model has learned to explain more variation in sales price that is generalizable to test data.\n",
        "\n",
        "Let's see what happens if we do polynomial degree=3."
      ]
    },
    {
      "cell_type": "markdown",
      "metadata": {
        "id": "AY1jiuUVmYHN"
      },
      "source": [
        "## Your task:  implement polynomial degree=3\n",
        "- please follow the above logics of degree=2 to write your own code for degree=3"
      ]
    },
    {
      "cell_type": "markdown",
      "metadata": {
        "id": "OqCzdLvFmYHN"
      },
      "source": [
        "**First**, do polynomial transformation on the poly_cols of the **training data**"
      ]
    },
    {
      "cell_type": "code",
      "execution_count": 140,
      "metadata": {
        "id": "G-ud1wcUmYHN"
      },
      "outputs": [],
      "source": [
        "poly_cols = df_X_train.select_dtypes(['float']).columns\n",
        "poly3 = PolynomialFeatures(degree=3, include_bias=True)\n",
        "\n",
        "# Fit and transform selected features of traning data to polynomial representation\n",
        "poly3_features_train = pd.DataFrame(poly3.fit_transform(df_X_train[poly_cols]),\n",
        "                                    columns = poly3.get_feature_names_out(poly_cols))\n"
      ]
    },
    {
      "cell_type": "code",
      "source": [
        "# Add the ploynomial features to the other remaining features in our training data\n",
        "# Exclude ~ original selected columns that are contained in poly3_features_train\n",
        "poly3_train = pd.concat([df_X_train.loc[:,  ~df_X_train.columns.isin(poly_cols)].reset_index(),\n",
        "                         poly3_features_train], axis=1)\n",
        "\n",
        "# Set index back to the original train data (when created, poly3_features_train has its indexed reset)\n",
        "poly3_train = poly3_train.set_index(['index'])\n",
        "\n",
        "poly3_train.shape"
      ],
      "metadata": {
        "colab": {
          "base_uri": "https://localhost:8080/"
        },
        "id": "d_7wfNhuyecJ",
        "outputId": "4a7fc4cd-a9b6-4a43-8769-9fa2415532f3"
      },
      "execution_count": 141,
      "outputs": [
        {
          "output_type": "execute_result",
          "data": {
            "text/plain": [
              "(765, 574)"
            ]
          },
          "metadata": {},
          "execution_count": 141
        }
      ]
    },
    {
      "cell_type": "markdown",
      "metadata": {
        "id": "7VWL6sMYmYHN"
      },
      "source": [
        "**Second**, apply the polynomial transformation to the poly_cols of the **testing data**"
      ]
    },
    {
      "cell_type": "code",
      "execution_count": 142,
      "metadata": {
        "colab": {
          "base_uri": "https://localhost:8080/"
        },
        "id": "wBEev34YmYHN",
        "outputId": "4100b0ac-c2d7-4d3e-c24a-5e219349f392"
      },
      "outputs": [
        {
          "output_type": "execute_result",
          "data": {
            "text/plain": [
              "(329, 574)"
            ]
          },
          "metadata": {},
          "execution_count": 142
        }
      ],
      "source": [
        "# Transform on test data\n",
        "\n",
        "poly3_features_test = pd.DataFrame(poly3.transform(df_X_test[poly_cols]),\n",
        "                                   columns = poly3.get_feature_names_out(poly_cols))\n",
        "\n",
        "# Add the ploynomial features to the other remaining features in our testing data\n",
        "# Exclude ~ original selected columns that are contained in poly3_features_train\n",
        "poly3_test = pd.concat([df_X_test.loc[:,  ~df_X_test.columns.isin(poly_cols)].reset_index(),\n",
        "                        poly3_features_test],axis=1)\n",
        "\n",
        "# Set index back to the original train data (when created, poly3_features_train has its indexed reset)\n",
        "poly3_test = poly3_test.set_index(['index'])\n",
        "\n",
        "poly3_test.shape"
      ]
    },
    {
      "cell_type": "markdown",
      "metadata": {
        "id": "dHML3sSymYHN"
      },
      "source": [
        "**Third**, fit and evaluate the regression model with the newly generated polynomial feature matrix"
      ]
    },
    {
      "cell_type": "code",
      "execution_count": 143,
      "metadata": {
        "colab": {
          "base_uri": "https://localhost:8080/"
        },
        "id": "hs66r_USmYHN",
        "outputId": "25accdb7-0899-4077-da83-b9eca53cd791"
      },
      "outputs": [
        {
          "output_type": "execute_result",
          "data": {
            "text/plain": [
              "-142.465"
            ]
          },
          "metadata": {},
          "execution_count": 143
        }
      ],
      "source": [
        "# Fit a regression model with the newly generated polynomial training feature matrix\n",
        "poly3_reg = LinearRegression().fit(poly3_train, df_y_train)\n",
        "\n",
        "# Evaluate model performance on the polynomial testing feature matrix\n",
        "poly3_reg.score(poly3_test, df_y_test).round(3)"
      ]
    },
    {
      "cell_type": "markdown",
      "metadata": {
        "id": "djWusf8zs-N5"
      },
      "source": [
        "**Discussion**: based on what we learned in class about polynomial features, why the evaluation score is negative? what could be happening here?"
      ]
    },
    {
      "cell_type": "markdown",
      "source": [
        "The negative score on the test data likely indicates that the model is overfitting, which means it's fitting the noise in the training data rather than the underlying relationship. This can happen with higher-degree polynomials that create overly complex models. Additionally, numerical instability from large coefficient values in high-degree polynomials could also be contributing to the poor performance on the test data."
      ],
      "metadata": {
        "id": "7tmodnvAzmlK"
      }
    },
    {
      "cell_type": "markdown",
      "metadata": {
        "id": "lVjggW7Cnj4x"
      },
      "source": [
        "## Your task: Lasso Regression\n",
        "\n",
        "Let's now fit and evaluate a Lasso regression model using the feature matrix that you just generated from polynomial **degree=3**\n",
        "- you can try parameter settings with alpha=.0006, tol=10e-2"
      ]
    },
    {
      "cell_type": "code",
      "execution_count": 164,
      "metadata": {
        "colab": {
          "base_uri": "https://localhost:8080/",
          "height": 75
        },
        "id": "xgRBPL5ZmYHN",
        "outputId": "1e1f6dab-0925-4eaf-8bea-3b9fda1a23cc"
      },
      "outputs": [
        {
          "output_type": "execute_result",
          "data": {
            "text/plain": [
              "Lasso(alpha=0.0006, tol=0.1)"
            ],
            "text/html": [
              "<style>#sk-container-id-12 {color: black;background-color: white;}#sk-container-id-12 pre{padding: 0;}#sk-container-id-12 div.sk-toggleable {background-color: white;}#sk-container-id-12 label.sk-toggleable__label {cursor: pointer;display: block;width: 100%;margin-bottom: 0;padding: 0.3em;box-sizing: border-box;text-align: center;}#sk-container-id-12 label.sk-toggleable__label-arrow:before {content: \"▸\";float: left;margin-right: 0.25em;color: #696969;}#sk-container-id-12 label.sk-toggleable__label-arrow:hover:before {color: black;}#sk-container-id-12 div.sk-estimator:hover label.sk-toggleable__label-arrow:before {color: black;}#sk-container-id-12 div.sk-toggleable__content {max-height: 0;max-width: 0;overflow: hidden;text-align: left;background-color: #f0f8ff;}#sk-container-id-12 div.sk-toggleable__content pre {margin: 0.2em;color: black;border-radius: 0.25em;background-color: #f0f8ff;}#sk-container-id-12 input.sk-toggleable__control:checked~div.sk-toggleable__content {max-height: 200px;max-width: 100%;overflow: auto;}#sk-container-id-12 input.sk-toggleable__control:checked~label.sk-toggleable__label-arrow:before {content: \"▾\";}#sk-container-id-12 div.sk-estimator input.sk-toggleable__control:checked~label.sk-toggleable__label {background-color: #d4ebff;}#sk-container-id-12 div.sk-label input.sk-toggleable__control:checked~label.sk-toggleable__label {background-color: #d4ebff;}#sk-container-id-12 input.sk-hidden--visually {border: 0;clip: rect(1px 1px 1px 1px);clip: rect(1px, 1px, 1px, 1px);height: 1px;margin: -1px;overflow: hidden;padding: 0;position: absolute;width: 1px;}#sk-container-id-12 div.sk-estimator {font-family: monospace;background-color: #f0f8ff;border: 1px dotted black;border-radius: 0.25em;box-sizing: border-box;margin-bottom: 0.5em;}#sk-container-id-12 div.sk-estimator:hover {background-color: #d4ebff;}#sk-container-id-12 div.sk-parallel-item::after {content: \"\";width: 100%;border-bottom: 1px solid gray;flex-grow: 1;}#sk-container-id-12 div.sk-label:hover label.sk-toggleable__label {background-color: #d4ebff;}#sk-container-id-12 div.sk-serial::before {content: \"\";position: absolute;border-left: 1px solid gray;box-sizing: border-box;top: 0;bottom: 0;left: 50%;z-index: 0;}#sk-container-id-12 div.sk-serial {display: flex;flex-direction: column;align-items: center;background-color: white;padding-right: 0.2em;padding-left: 0.2em;position: relative;}#sk-container-id-12 div.sk-item {position: relative;z-index: 1;}#sk-container-id-12 div.sk-parallel {display: flex;align-items: stretch;justify-content: center;background-color: white;position: relative;}#sk-container-id-12 div.sk-item::before, #sk-container-id-12 div.sk-parallel-item::before {content: \"\";position: absolute;border-left: 1px solid gray;box-sizing: border-box;top: 0;bottom: 0;left: 50%;z-index: -1;}#sk-container-id-12 div.sk-parallel-item {display: flex;flex-direction: column;z-index: 1;position: relative;background-color: white;}#sk-container-id-12 div.sk-parallel-item:first-child::after {align-self: flex-end;width: 50%;}#sk-container-id-12 div.sk-parallel-item:last-child::after {align-self: flex-start;width: 50%;}#sk-container-id-12 div.sk-parallel-item:only-child::after {width: 0;}#sk-container-id-12 div.sk-dashed-wrapped {border: 1px dashed gray;margin: 0 0.4em 0.5em 0.4em;box-sizing: border-box;padding-bottom: 0.4em;background-color: white;}#sk-container-id-12 div.sk-label label {font-family: monospace;font-weight: bold;display: inline-block;line-height: 1.2em;}#sk-container-id-12 div.sk-label-container {text-align: center;}#sk-container-id-12 div.sk-container {/* jupyter's `normalize.less` sets `[hidden] { display: none; }` but bootstrap.min.css set `[hidden] { display: none !important; }` so we also need the `!important` here to be able to override the default hidden behavior on the sphinx rendered scikit-learn.org. See: https://github.com/scikit-learn/scikit-learn/issues/21755 */display: inline-block !important;position: relative;}#sk-container-id-12 div.sk-text-repr-fallback {display: none;}</style><div id=\"sk-container-id-12\" class=\"sk-top-container\"><div class=\"sk-text-repr-fallback\"><pre>Lasso(alpha=0.0006, tol=0.1)</pre><b>In a Jupyter environment, please rerun this cell to show the HTML representation or trust the notebook. <br />On GitHub, the HTML representation is unable to render, please try loading this page with nbviewer.org.</b></div><div class=\"sk-container\" hidden><div class=\"sk-item\"><div class=\"sk-estimator sk-toggleable\"><input class=\"sk-toggleable__control sk-hidden--visually\" id=\"sk-estimator-id-12\" type=\"checkbox\" checked><label for=\"sk-estimator-id-12\" class=\"sk-toggleable__label sk-toggleable__label-arrow\">Lasso</label><div class=\"sk-toggleable__content\"><pre>Lasso(alpha=0.0006, tol=0.1)</pre></div></div></div></div></div>"
            ]
          },
          "metadata": {},
          "execution_count": 164
        }
      ],
      "source": [
        "# Fit the model\n",
        "lasso = Lasso(alpha=.0006, tol=10e-2)\n",
        "lasso.fit(poly3_train, df_y_train)"
      ]
    },
    {
      "cell_type": "code",
      "source": [
        "# Get the score\n",
        "lasso_score = np.round(lasso.score(poly3_test, df_y_test), 3)\n",
        "print(lasso_score)"
      ],
      "metadata": {
        "colab": {
          "base_uri": "https://localhost:8080/"
        },
        "id": "1t4Y9C4J0sIM",
        "outputId": "8eac5a1c-3b94-4268-b0c2-957b1e7f2a84"
      },
      "execution_count": 165,
      "outputs": [
        {
          "output_type": "stream",
          "name": "stdout",
          "text": [
            "0.891\n"
          ]
        }
      ]
    },
    {
      "cell_type": "markdown",
      "metadata": {
        "id": "IpZsxQ6cpv8l"
      },
      "source": [
        "## Your task: Ridge regression\n",
        "Let's now fit and evaluate a Ridge regression model using the polynomial features of **degree=3**"
      ]
    },
    {
      "cell_type": "code",
      "execution_count": 166,
      "metadata": {
        "colab": {
          "base_uri": "https://localhost:8080/",
          "height": 75
        },
        "id": "KFZVjqUXmYHN",
        "outputId": "c2477842-d7e7-42e6-ce67-8525d6fe082e"
      },
      "outputs": [
        {
          "output_type": "execute_result",
          "data": {
            "text/plain": [
              "Ridge()"
            ],
            "text/html": [
              "<style>#sk-container-id-13 {color: black;background-color: white;}#sk-container-id-13 pre{padding: 0;}#sk-container-id-13 div.sk-toggleable {background-color: white;}#sk-container-id-13 label.sk-toggleable__label {cursor: pointer;display: block;width: 100%;margin-bottom: 0;padding: 0.3em;box-sizing: border-box;text-align: center;}#sk-container-id-13 label.sk-toggleable__label-arrow:before {content: \"▸\";float: left;margin-right: 0.25em;color: #696969;}#sk-container-id-13 label.sk-toggleable__label-arrow:hover:before {color: black;}#sk-container-id-13 div.sk-estimator:hover label.sk-toggleable__label-arrow:before {color: black;}#sk-container-id-13 div.sk-toggleable__content {max-height: 0;max-width: 0;overflow: hidden;text-align: left;background-color: #f0f8ff;}#sk-container-id-13 div.sk-toggleable__content pre {margin: 0.2em;color: black;border-radius: 0.25em;background-color: #f0f8ff;}#sk-container-id-13 input.sk-toggleable__control:checked~div.sk-toggleable__content {max-height: 200px;max-width: 100%;overflow: auto;}#sk-container-id-13 input.sk-toggleable__control:checked~label.sk-toggleable__label-arrow:before {content: \"▾\";}#sk-container-id-13 div.sk-estimator input.sk-toggleable__control:checked~label.sk-toggleable__label {background-color: #d4ebff;}#sk-container-id-13 div.sk-label input.sk-toggleable__control:checked~label.sk-toggleable__label {background-color: #d4ebff;}#sk-container-id-13 input.sk-hidden--visually {border: 0;clip: rect(1px 1px 1px 1px);clip: rect(1px, 1px, 1px, 1px);height: 1px;margin: -1px;overflow: hidden;padding: 0;position: absolute;width: 1px;}#sk-container-id-13 div.sk-estimator {font-family: monospace;background-color: #f0f8ff;border: 1px dotted black;border-radius: 0.25em;box-sizing: border-box;margin-bottom: 0.5em;}#sk-container-id-13 div.sk-estimator:hover {background-color: #d4ebff;}#sk-container-id-13 div.sk-parallel-item::after {content: \"\";width: 100%;border-bottom: 1px solid gray;flex-grow: 1;}#sk-container-id-13 div.sk-label:hover label.sk-toggleable__label {background-color: #d4ebff;}#sk-container-id-13 div.sk-serial::before {content: \"\";position: absolute;border-left: 1px solid gray;box-sizing: border-box;top: 0;bottom: 0;left: 50%;z-index: 0;}#sk-container-id-13 div.sk-serial {display: flex;flex-direction: column;align-items: center;background-color: white;padding-right: 0.2em;padding-left: 0.2em;position: relative;}#sk-container-id-13 div.sk-item {position: relative;z-index: 1;}#sk-container-id-13 div.sk-parallel {display: flex;align-items: stretch;justify-content: center;background-color: white;position: relative;}#sk-container-id-13 div.sk-item::before, #sk-container-id-13 div.sk-parallel-item::before {content: \"\";position: absolute;border-left: 1px solid gray;box-sizing: border-box;top: 0;bottom: 0;left: 50%;z-index: -1;}#sk-container-id-13 div.sk-parallel-item {display: flex;flex-direction: column;z-index: 1;position: relative;background-color: white;}#sk-container-id-13 div.sk-parallel-item:first-child::after {align-self: flex-end;width: 50%;}#sk-container-id-13 div.sk-parallel-item:last-child::after {align-self: flex-start;width: 50%;}#sk-container-id-13 div.sk-parallel-item:only-child::after {width: 0;}#sk-container-id-13 div.sk-dashed-wrapped {border: 1px dashed gray;margin: 0 0.4em 0.5em 0.4em;box-sizing: border-box;padding-bottom: 0.4em;background-color: white;}#sk-container-id-13 div.sk-label label {font-family: monospace;font-weight: bold;display: inline-block;line-height: 1.2em;}#sk-container-id-13 div.sk-label-container {text-align: center;}#sk-container-id-13 div.sk-container {/* jupyter's `normalize.less` sets `[hidden] { display: none; }` but bootstrap.min.css set `[hidden] { display: none !important; }` so we also need the `!important` here to be able to override the default hidden behavior on the sphinx rendered scikit-learn.org. See: https://github.com/scikit-learn/scikit-learn/issues/21755 */display: inline-block !important;position: relative;}#sk-container-id-13 div.sk-text-repr-fallback {display: none;}</style><div id=\"sk-container-id-13\" class=\"sk-top-container\"><div class=\"sk-text-repr-fallback\"><pre>Ridge()</pre><b>In a Jupyter environment, please rerun this cell to show the HTML representation or trust the notebook. <br />On GitHub, the HTML representation is unable to render, please try loading this page with nbviewer.org.</b></div><div class=\"sk-container\" hidden><div class=\"sk-item\"><div class=\"sk-estimator sk-toggleable\"><input class=\"sk-toggleable__control sk-hidden--visually\" id=\"sk-estimator-id-13\" type=\"checkbox\" checked><label for=\"sk-estimator-id-13\" class=\"sk-toggleable__label sk-toggleable__label-arrow\">Ridge</label><div class=\"sk-toggleable__content\"><pre>Ridge()</pre></div></div></div></div></div>"
            ]
          },
          "metadata": {},
          "execution_count": 166
        }
      ],
      "source": [
        "# Fit the model\n",
        "ridge = Ridge()\n",
        "ridge.fit(poly3_train, df_y_train)"
      ]
    },
    {
      "cell_type": "code",
      "source": [
        "# Get the score\n",
        "ridge_score = np.round(ridge.score(poly3_test, df_y_test), 3)\n",
        "print(ridge_score)"
      ],
      "metadata": {
        "colab": {
          "base_uri": "https://localhost:8080/"
        },
        "id": "Urs75M-g1L9a",
        "outputId": "3ce769ec-7e78-4f86-8856-5669f12a4b15"
      },
      "execution_count": 167,
      "outputs": [
        {
          "output_type": "stream",
          "name": "stdout",
          "text": [
            "-9.937\n"
          ]
        }
      ]
    },
    {
      "cell_type": "markdown",
      "metadata": {
        "id": "4-fO9XYkn0qI"
      },
      "source": [
        "## Your task: compare the polynomial/ridge/lasso regression models\n",
        "- write code to compare the three models we fit\n",
        "    - specifically, print the top-10 features with highest coefficients in each model\n",
        "    - expected running results are shown below"
      ]
    },
    {
      "cell_type": "code",
      "execution_count": 188,
      "metadata": {
        "colab": {
          "base_uri": "https://localhost:8080/"
        },
        "id": "i35EIOUoq3th",
        "outputId": "cf5b5c01-9359-4950-d317-d62b2c19fd6e"
      },
      "outputs": [
        {
          "output_type": "stream",
          "name": "stdout",
          "text": [
            "Top-10 Features in Polynomial Regression:\n",
            "                       feature  coefficient\n",
            "217              BsmtFullBath       22.291\n",
            "273            BsmtFullBath^2       22.240\n",
            "539            BsmtFullBath^3       22.136\n",
            "285              GarageCars^2        5.582\n",
            "219               GarageYrBlt        4.445\n",
            "211               LotFrontage        4.023\n",
            "206      SaleCondition_Alloca        1.846\n",
            "518             TotalBsmtSF^3        1.790\n",
            "426    BsmtFinSF1 BsmtUnfSF^2        1.289\n",
            "523  TotalBsmtSF^2 GarageArea        1.125 \n",
            "\n",
            "Top-10 Features in Ridge Regression:\n",
            "                   feature  coefficient\n",
            "26            MSZoning_RH        0.203\n",
            "63   Neighborhood_StoneBr        0.138\n",
            "47   Neighborhood_Crawfor        0.117\n",
            "25            MSZoning_FV        0.110\n",
            "101   Exterior1st_BrkFace        0.107\n",
            "141           BsmtQual_Fa        0.106\n",
            "114   Exterior2nd_Brk Cmn        0.100\n",
            "28            MSZoning_RM        0.098\n",
            "179        Functional_Typ        0.098\n",
            "106   Exterior1st_MetalSd        0.097 \n",
            "\n",
            "Top-10 Features in Lasso Regression:\n",
            "                   feature  coefficient\n",
            "63   Neighborhood_StoneBr        0.124\n",
            "47   Neighborhood_Crawfor        0.117\n",
            "57   Neighborhood_NridgHt        0.096\n",
            "44   Neighborhood_BrkSide        0.082\n",
            "179        Functional_Typ        0.072\n",
            "202          SaleType_New        0.065\n",
            "25            MSZoning_FV        0.065\n",
            "167          CentralAir_Y        0.053\n",
            "2             OverallQual        0.053\n",
            "67        Condition1_Norm        0.053 \n",
            "\n"
          ]
        }
      ],
      "source": [
        "# Extract coefficients for the Polynomial Regression model\n",
        "poly_coefs = pd.DataFrame({'feature': poly3_train.columns, 'coefficient': poly3_reg.coef_.flatten()})\n",
        "top_poly_coefs = poly_coefs.reindex(poly_coefs.coefficient.sort_values(ascending=False).index).head(10)\n",
        "top_poly_coefs['coefficient'] = top_poly_coefs['coefficient'].round(3)\n",
        "\n",
        "# Extract coefficients for the Ridge Regression model\n",
        "ridge_coefs = pd.DataFrame({'feature': poly3_train.columns, 'coefficient': ridge.coef_.flatten()})\n",
        "top_ridge_coefs = ridge_coefs.reindex(ridge_coefs.coefficient.sort_values(ascending=False).index).head(10)\n",
        "top_ridge_coefs['coefficient'] = top_ridge_coefs['coefficient'].round(3)\n",
        "\n",
        "# Extract coefficients for the Lasso Regression model\n",
        "lasso_coefs = pd.DataFrame({'feature': poly3_train.columns, 'coefficient': lasso.coef_.flatten()})\n",
        "top_lasso_coefs = lasso_coefs.reindex(lasso_coefs.coefficient.sort_values(ascending=False).index).head(10)\n",
        "top_lasso_coefs['coefficient'] = top_lasso_coefs['coefficient'].round(3)\n",
        "\n",
        "# Print the results\n",
        "print(\"Top-10 Features in Polynomial Regression:\\n\", top_poly_coefs, \"\\n\")\n",
        "print(\"Top-10 Features in Ridge Regression:\\n\", top_ridge_coefs, \"\\n\")\n",
        "print(\"Top-10 Features in Lasso Regression:\\n\", top_lasso_coefs, \"\\n\")"
      ]
    },
    {
      "cell_type": "markdown",
      "metadata": {
        "id": "54MwnhIkmYHN"
      },
      "source": [
        "## Your task: results interpretation and discussion"
      ]
    },
    {
      "cell_type": "markdown",
      "metadata": {
        "id": "b4NMJi2CoUPK"
      },
      "source": [
        "Write down your observations and thoughts after comparing the three models:\n",
        "- hint:\n",
        "    - what is the difference between ridge (L2 penalty) and Lasso (L1 penalty)?\n",
        "    - explain how the two types of regularization affect coefficients and model performance"
      ]
    },
    {
      "cell_type": "markdown",
      "source": [
        "+ The key difference between Ridge and Lasso regression lies in their approaches to regularization: Ridge (L2 penalty) shrinks coefficients evenly, never setting them to zero, which is beneficial when most features influence the target. Lasso (L1 penalty) can set coefficients to zero, effectively performing feature selection, which is useful when some features are irrelevant.\n",
        "\n",
        "+ From the provided top-10 features, it appears that location-related variables are significant in both models. However, Lasso selects a sparser set of features, which may provide a more interpretable model if some predictors are truly irrelevant, while Ridge adjusts the influence of all predictors without excluding any.\n",
        "\n",
        "+ Lasso's high score suggests it's effectively isolating important features, while Ridge's negative score could indicate overfitting or poor hyperparameter choices."
      ],
      "metadata": {
        "id": "-eWtYStqC2mA"
      }
    },
    {
      "cell_type": "markdown",
      "metadata": {
        "id": "rcRROondn2ZO"
      },
      "source": [
        "When looking at the Lasso coefficients, which coefficients make the biggest change of decreading to 0. Does this make sense in the context of the housing prices? Please write down your code to produce the given data frame."
      ]
    },
    {
      "cell_type": "code",
      "execution_count": 189,
      "metadata": {
        "colab": {
          "base_uri": "https://localhost:8080/",
          "height": 762
        },
        "id": "wHQIdYFD1J3X",
        "outputId": "5aa8010a-83f4-4c5c-8d83-65f19fd55157"
      },
      "outputs": [
        {
          "output_type": "stream",
          "name": "stderr",
          "text": [
            "<ipython-input-189-11d71a9a5885>:23: SettingWithCopyWarning: \n",
            "A value is trying to be set on a copy of a slice from a DataFrame\n",
            "\n",
            "See the caveats in the documentation: https://pandas.pydata.org/pandas-docs/stable/user_guide/indexing.html#returning-a-view-versus-a-copy\n",
            "  top_coefs.drop('change', axis=1, inplace=True)\n",
            "<ipython-input-189-11d71a9a5885>:25: SettingWithCopyWarning: \n",
            "A value is trying to be set on a copy of a slice from a DataFrame.\n",
            "Try using .loc[row_indexer,col_indexer] = value instead\n",
            "\n",
            "See the caveats in the documentation: https://pandas.pydata.org/pandas-docs/stable/user_guide/indexing.html#returning-a-view-versus-a-copy\n",
            "  top_coefs['poly3_coef'] = top_coefs['poly3_coef'].round(3)\n",
            "<ipython-input-189-11d71a9a5885>:26: SettingWithCopyWarning: \n",
            "A value is trying to be set on a copy of a slice from a DataFrame.\n",
            "Try using .loc[row_indexer,col_indexer] = value instead\n",
            "\n",
            "See the caveats in the documentation: https://pandas.pydata.org/pandas-docs/stable/user_guide/indexing.html#returning-a-view-versus-a-copy\n",
            "  top_coefs['l1_coef'] = top_coefs['l1_coef'].round(3)\n",
            "<ipython-input-189-11d71a9a5885>:27: SettingWithCopyWarning: \n",
            "A value is trying to be set on a copy of a slice from a DataFrame.\n",
            "Try using .loc[row_indexer,col_indexer] = value instead\n",
            "\n",
            "See the caveats in the documentation: https://pandas.pydata.org/pandas-docs/stable/user_guide/indexing.html#returning-a-view-versus-a-copy\n",
            "  top_coefs['l2_coef'] = top_coefs['l2_coef'].round(3)\n"
          ]
        },
        {
          "output_type": "display_data",
          "data": {
            "text/plain": [
              "                      feature  poly3_coef  l1_coef  l2_coef\n",
              "217              BsmtFullBath      22.291    0.000    0.000\n",
              "273            BsmtFullBath^2      22.240   -0.000   -0.000\n",
              "539            BsmtFullBath^3      22.136   -0.012   -0.001\n",
              "285              GarageCars^2       5.582    0.002    0.001\n",
              "219               GarageYrBlt       4.445    0.000    0.000\n",
              "211               LotFrontage       4.023   -0.000    0.003\n",
              "206      SaleCondition_Alloca       1.846   -0.000    0.020\n",
              "518             TotalBsmtSF^3       1.790   -0.000    0.000\n",
              "426    BsmtFinSF1 BsmtUnfSF^2       1.289    0.000   -0.000\n",
              "523  TotalBsmtSF^2 GarageArea       1.125    0.000    0.000"
            ],
            "text/html": [
              "\n",
              "  <div id=\"df-6aa620f0-7553-461c-974e-e8aebd6de304\" class=\"colab-df-container\">\n",
              "    <div>\n",
              "<style scoped>\n",
              "    .dataframe tbody tr th:only-of-type {\n",
              "        vertical-align: middle;\n",
              "    }\n",
              "\n",
              "    .dataframe tbody tr th {\n",
              "        vertical-align: top;\n",
              "    }\n",
              "\n",
              "    .dataframe thead th {\n",
              "        text-align: right;\n",
              "    }\n",
              "</style>\n",
              "<table border=\"1\" class=\"dataframe\">\n",
              "  <thead>\n",
              "    <tr style=\"text-align: right;\">\n",
              "      <th></th>\n",
              "      <th>feature</th>\n",
              "      <th>poly3_coef</th>\n",
              "      <th>l1_coef</th>\n",
              "      <th>l2_coef</th>\n",
              "    </tr>\n",
              "  </thead>\n",
              "  <tbody>\n",
              "    <tr>\n",
              "      <th>217</th>\n",
              "      <td>BsmtFullBath</td>\n",
              "      <td>22.291</td>\n",
              "      <td>0.000</td>\n",
              "      <td>0.000</td>\n",
              "    </tr>\n",
              "    <tr>\n",
              "      <th>273</th>\n",
              "      <td>BsmtFullBath^2</td>\n",
              "      <td>22.240</td>\n",
              "      <td>-0.000</td>\n",
              "      <td>-0.000</td>\n",
              "    </tr>\n",
              "    <tr>\n",
              "      <th>539</th>\n",
              "      <td>BsmtFullBath^3</td>\n",
              "      <td>22.136</td>\n",
              "      <td>-0.012</td>\n",
              "      <td>-0.001</td>\n",
              "    </tr>\n",
              "    <tr>\n",
              "      <th>285</th>\n",
              "      <td>GarageCars^2</td>\n",
              "      <td>5.582</td>\n",
              "      <td>0.002</td>\n",
              "      <td>0.001</td>\n",
              "    </tr>\n",
              "    <tr>\n",
              "      <th>219</th>\n",
              "      <td>GarageYrBlt</td>\n",
              "      <td>4.445</td>\n",
              "      <td>0.000</td>\n",
              "      <td>0.000</td>\n",
              "    </tr>\n",
              "    <tr>\n",
              "      <th>211</th>\n",
              "      <td>LotFrontage</td>\n",
              "      <td>4.023</td>\n",
              "      <td>-0.000</td>\n",
              "      <td>0.003</td>\n",
              "    </tr>\n",
              "    <tr>\n",
              "      <th>206</th>\n",
              "      <td>SaleCondition_Alloca</td>\n",
              "      <td>1.846</td>\n",
              "      <td>-0.000</td>\n",
              "      <td>0.020</td>\n",
              "    </tr>\n",
              "    <tr>\n",
              "      <th>518</th>\n",
              "      <td>TotalBsmtSF^3</td>\n",
              "      <td>1.790</td>\n",
              "      <td>-0.000</td>\n",
              "      <td>0.000</td>\n",
              "    </tr>\n",
              "    <tr>\n",
              "      <th>426</th>\n",
              "      <td>BsmtFinSF1 BsmtUnfSF^2</td>\n",
              "      <td>1.289</td>\n",
              "      <td>0.000</td>\n",
              "      <td>-0.000</td>\n",
              "    </tr>\n",
              "    <tr>\n",
              "      <th>523</th>\n",
              "      <td>TotalBsmtSF^2 GarageArea</td>\n",
              "      <td>1.125</td>\n",
              "      <td>0.000</td>\n",
              "      <td>0.000</td>\n",
              "    </tr>\n",
              "  </tbody>\n",
              "</table>\n",
              "</div>\n",
              "    <div class=\"colab-df-buttons\">\n",
              "\n",
              "  <div class=\"colab-df-container\">\n",
              "    <button class=\"colab-df-convert\" onclick=\"convertToInteractive('df-6aa620f0-7553-461c-974e-e8aebd6de304')\"\n",
              "            title=\"Convert this dataframe to an interactive table.\"\n",
              "            style=\"display:none;\">\n",
              "\n",
              "  <svg xmlns=\"http://www.w3.org/2000/svg\" height=\"24px\" viewBox=\"0 -960 960 960\">\n",
              "    <path d=\"M120-120v-720h720v720H120Zm60-500h600v-160H180v160Zm220 220h160v-160H400v160Zm0 220h160v-160H400v160ZM180-400h160v-160H180v160Zm440 0h160v-160H620v160ZM180-180h160v-160H180v160Zm440 0h160v-160H620v160Z\"/>\n",
              "  </svg>\n",
              "    </button>\n",
              "\n",
              "  <style>\n",
              "    .colab-df-container {\n",
              "      display:flex;\n",
              "      gap: 12px;\n",
              "    }\n",
              "\n",
              "    .colab-df-convert {\n",
              "      background-color: #E8F0FE;\n",
              "      border: none;\n",
              "      border-radius: 50%;\n",
              "      cursor: pointer;\n",
              "      display: none;\n",
              "      fill: #1967D2;\n",
              "      height: 32px;\n",
              "      padding: 0 0 0 0;\n",
              "      width: 32px;\n",
              "    }\n",
              "\n",
              "    .colab-df-convert:hover {\n",
              "      background-color: #E2EBFA;\n",
              "      box-shadow: 0px 1px 2px rgba(60, 64, 67, 0.3), 0px 1px 3px 1px rgba(60, 64, 67, 0.15);\n",
              "      fill: #174EA6;\n",
              "    }\n",
              "\n",
              "    .colab-df-buttons div {\n",
              "      margin-bottom: 4px;\n",
              "    }\n",
              "\n",
              "    [theme=dark] .colab-df-convert {\n",
              "      background-color: #3B4455;\n",
              "      fill: #D2E3FC;\n",
              "    }\n",
              "\n",
              "    [theme=dark] .colab-df-convert:hover {\n",
              "      background-color: #434B5C;\n",
              "      box-shadow: 0px 1px 3px 1px rgba(0, 0, 0, 0.15);\n",
              "      filter: drop-shadow(0px 1px 2px rgba(0, 0, 0, 0.3));\n",
              "      fill: #FFFFFF;\n",
              "    }\n",
              "  </style>\n",
              "\n",
              "    <script>\n",
              "      const buttonEl =\n",
              "        document.querySelector('#df-6aa620f0-7553-461c-974e-e8aebd6de304 button.colab-df-convert');\n",
              "      buttonEl.style.display =\n",
              "        google.colab.kernel.accessAllowed ? 'block' : 'none';\n",
              "\n",
              "      async function convertToInteractive(key) {\n",
              "        const element = document.querySelector('#df-6aa620f0-7553-461c-974e-e8aebd6de304');\n",
              "        const dataTable =\n",
              "          await google.colab.kernel.invokeFunction('convertToInteractive',\n",
              "                                                    [key], {});\n",
              "        if (!dataTable) return;\n",
              "\n",
              "        const docLinkHtml = 'Like what you see? Visit the ' +\n",
              "          '<a target=\"_blank\" href=https://colab.research.google.com/notebooks/data_table.ipynb>data table notebook</a>'\n",
              "          + ' to learn more about interactive tables.';\n",
              "        element.innerHTML = '';\n",
              "        dataTable['output_type'] = 'display_data';\n",
              "        await google.colab.output.renderOutput(dataTable, element);\n",
              "        const docLink = document.createElement('div');\n",
              "        docLink.innerHTML = docLinkHtml;\n",
              "        element.appendChild(docLink);\n",
              "      }\n",
              "    </script>\n",
              "  </div>\n",
              "\n",
              "\n",
              "<div id=\"df-c329a191-9fea-4742-973a-7a0b7f95c3e6\">\n",
              "  <button class=\"colab-df-quickchart\" onclick=\"quickchart('df-c329a191-9fea-4742-973a-7a0b7f95c3e6')\"\n",
              "            title=\"Suggest charts\"\n",
              "            style=\"display:none;\">\n",
              "\n",
              "<svg xmlns=\"http://www.w3.org/2000/svg\" height=\"24px\"viewBox=\"0 0 24 24\"\n",
              "     width=\"24px\">\n",
              "    <g>\n",
              "        <path d=\"M19 3H5c-1.1 0-2 .9-2 2v14c0 1.1.9 2 2 2h14c1.1 0 2-.9 2-2V5c0-1.1-.9-2-2-2zM9 17H7v-7h2v7zm4 0h-2V7h2v10zm4 0h-2v-4h2v4z\"/>\n",
              "    </g>\n",
              "</svg>\n",
              "  </button>\n",
              "\n",
              "<style>\n",
              "  .colab-df-quickchart {\n",
              "      --bg-color: #E8F0FE;\n",
              "      --fill-color: #1967D2;\n",
              "      --hover-bg-color: #E2EBFA;\n",
              "      --hover-fill-color: #174EA6;\n",
              "      --disabled-fill-color: #AAA;\n",
              "      --disabled-bg-color: #DDD;\n",
              "  }\n",
              "\n",
              "  [theme=dark] .colab-df-quickchart {\n",
              "      --bg-color: #3B4455;\n",
              "      --fill-color: #D2E3FC;\n",
              "      --hover-bg-color: #434B5C;\n",
              "      --hover-fill-color: #FFFFFF;\n",
              "      --disabled-bg-color: #3B4455;\n",
              "      --disabled-fill-color: #666;\n",
              "  }\n",
              "\n",
              "  .colab-df-quickchart {\n",
              "    background-color: var(--bg-color);\n",
              "    border: none;\n",
              "    border-radius: 50%;\n",
              "    cursor: pointer;\n",
              "    display: none;\n",
              "    fill: var(--fill-color);\n",
              "    height: 32px;\n",
              "    padding: 0;\n",
              "    width: 32px;\n",
              "  }\n",
              "\n",
              "  .colab-df-quickchart:hover {\n",
              "    background-color: var(--hover-bg-color);\n",
              "    box-shadow: 0 1px 2px rgba(60, 64, 67, 0.3), 0 1px 3px 1px rgba(60, 64, 67, 0.15);\n",
              "    fill: var(--button-hover-fill-color);\n",
              "  }\n",
              "\n",
              "  .colab-df-quickchart-complete:disabled,\n",
              "  .colab-df-quickchart-complete:disabled:hover {\n",
              "    background-color: var(--disabled-bg-color);\n",
              "    fill: var(--disabled-fill-color);\n",
              "    box-shadow: none;\n",
              "  }\n",
              "\n",
              "  .colab-df-spinner {\n",
              "    border: 2px solid var(--fill-color);\n",
              "    border-color: transparent;\n",
              "    border-bottom-color: var(--fill-color);\n",
              "    animation:\n",
              "      spin 1s steps(1) infinite;\n",
              "  }\n",
              "\n",
              "  @keyframes spin {\n",
              "    0% {\n",
              "      border-color: transparent;\n",
              "      border-bottom-color: var(--fill-color);\n",
              "      border-left-color: var(--fill-color);\n",
              "    }\n",
              "    20% {\n",
              "      border-color: transparent;\n",
              "      border-left-color: var(--fill-color);\n",
              "      border-top-color: var(--fill-color);\n",
              "    }\n",
              "    30% {\n",
              "      border-color: transparent;\n",
              "      border-left-color: var(--fill-color);\n",
              "      border-top-color: var(--fill-color);\n",
              "      border-right-color: var(--fill-color);\n",
              "    }\n",
              "    40% {\n",
              "      border-color: transparent;\n",
              "      border-right-color: var(--fill-color);\n",
              "      border-top-color: var(--fill-color);\n",
              "    }\n",
              "    60% {\n",
              "      border-color: transparent;\n",
              "      border-right-color: var(--fill-color);\n",
              "    }\n",
              "    80% {\n",
              "      border-color: transparent;\n",
              "      border-right-color: var(--fill-color);\n",
              "      border-bottom-color: var(--fill-color);\n",
              "    }\n",
              "    90% {\n",
              "      border-color: transparent;\n",
              "      border-bottom-color: var(--fill-color);\n",
              "    }\n",
              "  }\n",
              "</style>\n",
              "\n",
              "  <script>\n",
              "    async function quickchart(key) {\n",
              "      const quickchartButtonEl =\n",
              "        document.querySelector('#' + key + ' button');\n",
              "      quickchartButtonEl.disabled = true;  // To prevent multiple clicks.\n",
              "      quickchartButtonEl.classList.add('colab-df-spinner');\n",
              "      try {\n",
              "        const charts = await google.colab.kernel.invokeFunction(\n",
              "            'suggestCharts', [key], {});\n",
              "      } catch (error) {\n",
              "        console.error('Error during call to suggestCharts:', error);\n",
              "      }\n",
              "      quickchartButtonEl.classList.remove('colab-df-spinner');\n",
              "      quickchartButtonEl.classList.add('colab-df-quickchart-complete');\n",
              "    }\n",
              "    (() => {\n",
              "      let quickchartButtonEl =\n",
              "        document.querySelector('#df-c329a191-9fea-4742-973a-7a0b7f95c3e6 button');\n",
              "      quickchartButtonEl.style.display =\n",
              "        google.colab.kernel.accessAllowed ? 'block' : 'none';\n",
              "    })();\n",
              "  </script>\n",
              "</div>\n",
              "    </div>\n",
              "  </div>\n"
            ]
          },
          "metadata": {}
        }
      ],
      "source": [
        "# Concatenate the coefficients into one dataframe\n",
        "combined_coefs = pd.concat([\n",
        "    poly_coefs['feature'],\n",
        "    poly_coefs['coefficient'],\n",
        "    lasso_coefs['coefficient'],\n",
        "    ridge_coefs['coefficient']\n",
        "], axis=1)\n",
        "\n",
        "combined_coefs.set_index('feature', inplace=True)\n",
        "combined_coefs.columns = ['poly3_coef', 'l1_coef', 'l2_coef']\n",
        "\n",
        "# Turn the feature names into a regular column\n",
        "combined_coefs.reset_index(inplace=True)\n",
        "\n",
        "# Calculate the change from polynomial to Lasso\n",
        "combined_coefs['change'] = combined_coefs['poly3_coef'] - combined_coefs['l1_coef']\n",
        "\n",
        "# Sort the dataframe to get the biggest 10 changes\n",
        "combined_coefs = combined_coefs.sort_values(by='change', ascending=False)\n",
        "top_coefs = combined_coefs.head(10)\n",
        "\n",
        "# Drop the 'change' column\n",
        "top_coefs.drop('change', axis=1, inplace=True)\n",
        "\n",
        "top_coefs['poly3_coef'] = top_coefs['poly3_coef'].round(3)\n",
        "top_coefs['l1_coef'] = top_coefs['l1_coef'].round(3)\n",
        "top_coefs['l2_coef'] = top_coefs['l2_coef'].round(3)\n",
        "\n",
        "# Display the DataFrame\n",
        "display(top_coefs)"
      ]
    },
    {
      "cell_type": "markdown",
      "source": [
        "Yes it makes sense as different factors have different impacts on house price.\n",
        "\n",
        "Considering BsmtFullBath, BsmtFullBath^2 and BsmtFullBath^3, these represent the number of full bathrooms in the basement and its squared and cubed terms. It's possible that after the first bathroom, additional bathrooms in the basement have diminishing returns on the house price."
      ],
      "metadata": {
        "id": "RInGfwfoJ6Lk"
      }
    },
    {
      "cell_type": "markdown",
      "metadata": {
        "id": "STMkEEiV3UsQ"
      },
      "source": [
        "# Conclusion\n",
        "\n",
        "Now at the end of this problem set, you've sucessfully applied regression classification to model the sale price of homes.\n",
        "- First, you began by cleaning and engineering the feature and target variables.\n",
        "- Next, you modeled the data using various techniques (polynomial transformation), including two commonly used regularization methods (L1 and L2). In the best model, you should have achieved an accuracy of nearly 90%!\n",
        "- Lastly, this was all done in a social science setting.\n",
        "    - The results are meaningful in the sense that you're now better able to understand the determinants of housing prices in Ames, Iowa.\n",
        "    - Are these results generalizable to other housing markets in the US? That's beyond the scope of the data, but a question you could try to answer down the line using some of the skills developed from this work.\n"
      ]
    },
    {
      "cell_type": "markdown",
      "metadata": {
        "id": "30Y-RUh-mYHO"
      },
      "source": [
        "# [Optional challenge 1]\n",
        "- In the above process, we select a set of features with \"float\" data type, and apply polynomial transformation for them. However, there could be a more intelligent way to select features for polynomial transformation.\n",
        "- Please propose your strategy of selecting features and re-implement the above process to see if model performance change.\n",
        "- E.g., you can select a set of features based on your sense of their potential correlations with the target variable. Please provide your reasoning."
      ]
    },
    {
      "cell_type": "code",
      "execution_count": null,
      "metadata": {
        "id": "AlWR5kc9mYHO"
      },
      "outputs": [],
      "source": []
    },
    {
      "cell_type": "markdown",
      "metadata": {
        "id": "4uXmGeOKyP_W"
      },
      "source": [
        "# [Optional challenge 2]\n",
        "- In the above code of generating polynomial feature matrix with degree=2 and degree=3, there are multiple repeated steps. From code efficiency perspective, we could write a function to better organize that. The following code provides a brief guide as a starting point, please fill in your implementation and feel free to make changes as needed, e.g.:\n",
        "    - change input parameters\n",
        "    - write extra helper functions"
      ]
    },
    {
      "cell_type": "code",
      "execution_count": null,
      "metadata": {
        "id": "eh-jXoFcmYHO"
      },
      "outputs": [],
      "source": [
        "def gen_poly_features(poly_cols, degree):\n",
        "    \"\"\"\n",
        "    Generate polynomial features for the given poly_cols and degree\n",
        "\n",
        "    Inputs:\n",
        "        poly_cols: the columns/features selected for polynomial transformation\n",
        "        degree: the degree of polynomial transformation\n",
        "\n",
        "    Returns: the generated polynomial feature matrix of the training and testing data\n",
        "    \"\"\"\n",
        "\n",
        ""
      ]
    },
    {
      "cell_type": "markdown",
      "metadata": {
        "id": "d7PFSAsSmYHO"
      },
      "source": [
        "- After completing the above function, please apply it to re-implement the polynomial feature transformantion and model fitting, and confirm whether your new results are consistent with the existing results."
      ]
    },
    {
      "cell_type": "code",
      "execution_count": null,
      "metadata": {
        "id": "k6b9vzNDmYHO"
      },
      "outputs": [],
      "source": []
    },
    {
      "cell_type": "markdown",
      "metadata": {
        "id": "oVZ0xIQpmYHO"
      },
      "source": [
        "# [Optional challenge 3]\n",
        "- In this task, we practiced several regression models to predict the sale price of houses. Similarly, we can convert this task to a binary classification task (e.g., binarize the house price) and fit a LogisticRegression classifier. Please practice it for your own interest."
      ]
    },
    {
      "cell_type": "code",
      "execution_count": null,
      "metadata": {
        "id": "dtCnOOGNmYHO"
      },
      "outputs": [],
      "source": []
    },
    {
      "cell_type": "code",
      "execution_count": null,
      "metadata": {
        "id": "hSJKzZ6ZmYHO"
      },
      "outputs": [],
      "source": []
    },
    {
      "cell_type": "code",
      "execution_count": null,
      "metadata": {
        "id": "G355IH0umYHO"
      },
      "outputs": [],
      "source": []
    }
  ],
  "metadata": {
    "colab": {
      "provenance": []
    },
    "kernelspec": {
      "display_name": "Python 3",
      "language": "python",
      "name": "python3"
    },
    "language_info": {
      "codemirror_mode": {
        "name": "ipython",
        "version": 3
      },
      "file_extension": ".py",
      "mimetype": "text/x-python",
      "name": "python",
      "nbconvert_exporter": "python",
      "pygments_lexer": "ipython3",
      "version": "3.8.8"
    },
    "toc": {
      "base_numbering": 1,
      "nav_menu": {},
      "number_sections": true,
      "sideBar": true,
      "skip_h1_title": false,
      "title_cell": "Table of Contents",
      "title_sidebar": "Contents",
      "toc_cell": false,
      "toc_position": {},
      "toc_section_display": true,
      "toc_window_display": false
    }
  },
  "nbformat": 4,
  "nbformat_minor": 0
}