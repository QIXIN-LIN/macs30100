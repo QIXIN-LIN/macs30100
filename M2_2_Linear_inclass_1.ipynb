{
  "cells": [
    {
      "cell_type": "markdown",
      "id": "46eed391",
      "metadata": {
        "id": "46eed391"
      },
      "source": [
        "## Linear methods for regression and classification\n",
        "In this jupyter notebook, we will practice the topics covered in the lectures. Specially, we will do hands-on practice of:\n",
        "- load and prepare data for machine learning model training and testing\n",
        "- train and test linear models (linear regression (lasso/ridge), polynomial regression, and logistic regression)\n",
        "- compare and understand model performance\n",
        "\n",
        "For implementations that have fixed results, we provide running examples for your reference. *You might get slightly different results due to the sklearn version you are using, just leave a comment to indicate your version where you get different results.*<br>"
      ]
    },
    {
      "cell_type": "markdown",
      "id": "a5acb55f",
      "metadata": {
        "id": "a5acb55f"
      },
      "source": [
        "## Linear Regression and Polynomial Regression\n",
        "In this section, we will explore the diabetes dataset:\n",
        "- https://scikit-learn.org/stable/modules/generated/sklearn.datasets.load_diabetes.html#sklearn.datasets.load_diabetes <br>\n",
        "\n",
        "This dataset contains n = 442 diabetes patients' information of ten variables: age, sex, body mass index, average blood pressure, and six blood serum measurements. Each patient has a quantitative value of disease progression one year after baseline.\n",
        "\n",
        "\n",
        "We will fit different regression models to analyze this dataset:\n",
        "The steps include:\n",
        "1. Basic data exploration:\n",
        "    > what does the data look like (#samples, #features) <br>\n",
        "    > the feature matrix and description of each feature <br>\n",
        "    > the target variable <br>\n",
        "    \n",
        "2. Prepare data for model training and testing <br>\n",
        "\n",
        "3. Fit different regression models (linear/lasso/ridge) on the training set and evaluate model performance on the testing set <br>\n",
        "\n",
        "4. Compare and understand model performance through interpreting coefficients.\n",
        "\n",
        "**Note:** please always add comments to explain your observations/findings"
      ]
    },
    {
      "cell_type": "code",
      "execution_count": 1,
      "id": "eab86d6a",
      "metadata": {
        "id": "eab86d6a"
      },
      "outputs": [],
      "source": [
        "import numpy as np\n",
        "import pandas as pd\n",
        "from sklearn.linear_model import LinearRegression, Ridge, Lasso\n",
        "from sklearn.preprocessing import PolynomialFeatures\n",
        "from sklearn.model_selection import train_test_split\n",
        "import matplotlib.pyplot as plt\n",
        "\n",
        "%matplotlib inline"
      ]
    },
    {
      "cell_type": "code",
      "execution_count": 2,
      "id": "6253bf61",
      "metadata": {
        "id": "6253bf61"
      },
      "outputs": [],
      "source": [
        "from sklearn.datasets import load_diabetes"
      ]
    },
    {
      "cell_type": "code",
      "execution_count": 3,
      "id": "36fb790a",
      "metadata": {
        "id": "36fb790a"
      },
      "outputs": [],
      "source": [
        "# there are different ways to load the dataset, please make sure you understand the mechanism\n",
        "# reference: https://scikit-learn.org/stable/modules/generated/sklearn.datasets.load_diabetes.html\n",
        "data = load_diabetes(as_frame=True)"
      ]
    },
    {
      "cell_type": "markdown",
      "id": "db355e95",
      "metadata": {
        "id": "db355e95"
      },
      "source": [
        "### Basic dataset exploration"
      ]
    },
    {
      "cell_type": "code",
      "execution_count": 4,
      "id": "94e585c4",
      "metadata": {
        "colab": {
          "base_uri": "https://localhost:8080/"
        },
        "id": "94e585c4",
        "outputId": "3a3ab979-10a9-4d65-abae-d8959006f6f9"
      },
      "outputs": [
        {
          "output_type": "execute_result",
          "data": {
            "text/plain": [
              "((442, 10), (442,))"
            ]
          },
          "metadata": {},
          "execution_count": 4
        }
      ],
      "source": [
        "data.data.shape, data.target.shape"
      ]
    },
    {
      "cell_type": "code",
      "execution_count": 5,
      "id": "83f34331",
      "metadata": {
        "colab": {
          "base_uri": "https://localhost:8080/"
        },
        "id": "83f34331",
        "outputId": "f30cf602-701d-47dc-b4b4-f72fa9cf21ef"
      },
      "outputs": [
        {
          "output_type": "execute_result",
          "data": {
            "text/plain": [
              "['age', 'sex', 'bmi', 'bp', 's1', 's2', 's3', 's4', 's5', 's6']"
            ]
          },
          "metadata": {},
          "execution_count": 5
        }
      ],
      "source": [
        "data.feature_names"
      ]
    },
    {
      "cell_type": "code",
      "execution_count": 6,
      "id": "abcc0287",
      "metadata": {
        "colab": {
          "base_uri": "https://localhost:8080/",
          "height": 423
        },
        "id": "abcc0287",
        "outputId": "847767aa-4c60-4b3f-8bca-9eba6b881181"
      },
      "outputs": [
        {
          "output_type": "execute_result",
          "data": {
            "text/plain": [
              "          age       sex       bmi        bp        s1        s2        s3  \\\n",
              "0    0.038076  0.050680  0.061696  0.021872 -0.044223 -0.034821 -0.043401   \n",
              "1   -0.001882 -0.044642 -0.051474 -0.026328 -0.008449 -0.019163  0.074412   \n",
              "2    0.085299  0.050680  0.044451 -0.005670 -0.045599 -0.034194 -0.032356   \n",
              "3   -0.089063 -0.044642 -0.011595 -0.036656  0.012191  0.024991 -0.036038   \n",
              "4    0.005383 -0.044642 -0.036385  0.021872  0.003935  0.015596  0.008142   \n",
              "..        ...       ...       ...       ...       ...       ...       ...   \n",
              "437  0.041708  0.050680  0.019662  0.059744 -0.005697 -0.002566 -0.028674   \n",
              "438 -0.005515  0.050680 -0.015906 -0.067642  0.049341  0.079165 -0.028674   \n",
              "439  0.041708  0.050680 -0.015906  0.017293 -0.037344 -0.013840 -0.024993   \n",
              "440 -0.045472 -0.044642  0.039062  0.001215  0.016318  0.015283 -0.028674   \n",
              "441 -0.045472 -0.044642 -0.073030 -0.081413  0.083740  0.027809  0.173816   \n",
              "\n",
              "           s4        s5        s6  target  \n",
              "0   -0.002592  0.019907 -0.017646   151.0  \n",
              "1   -0.039493 -0.068332 -0.092204    75.0  \n",
              "2   -0.002592  0.002861 -0.025930   141.0  \n",
              "3    0.034309  0.022688 -0.009362   206.0  \n",
              "4   -0.002592 -0.031988 -0.046641   135.0  \n",
              "..        ...       ...       ...     ...  \n",
              "437 -0.002592  0.031193  0.007207   178.0  \n",
              "438  0.034309 -0.018114  0.044485   104.0  \n",
              "439 -0.011080 -0.046883  0.015491   132.0  \n",
              "440  0.026560  0.044529 -0.025930   220.0  \n",
              "441 -0.039493 -0.004222  0.003064    57.0  \n",
              "\n",
              "[442 rows x 11 columns]"
            ],
            "text/html": [
              "\n",
              "  <div id=\"df-f9cb79af-90bf-471e-99df-00a5d499e339\" class=\"colab-df-container\">\n",
              "    <div>\n",
              "<style scoped>\n",
              "    .dataframe tbody tr th:only-of-type {\n",
              "        vertical-align: middle;\n",
              "    }\n",
              "\n",
              "    .dataframe tbody tr th {\n",
              "        vertical-align: top;\n",
              "    }\n",
              "\n",
              "    .dataframe thead th {\n",
              "        text-align: right;\n",
              "    }\n",
              "</style>\n",
              "<table border=\"1\" class=\"dataframe\">\n",
              "  <thead>\n",
              "    <tr style=\"text-align: right;\">\n",
              "      <th></th>\n",
              "      <th>age</th>\n",
              "      <th>sex</th>\n",
              "      <th>bmi</th>\n",
              "      <th>bp</th>\n",
              "      <th>s1</th>\n",
              "      <th>s2</th>\n",
              "      <th>s3</th>\n",
              "      <th>s4</th>\n",
              "      <th>s5</th>\n",
              "      <th>s6</th>\n",
              "      <th>target</th>\n",
              "    </tr>\n",
              "  </thead>\n",
              "  <tbody>\n",
              "    <tr>\n",
              "      <th>0</th>\n",
              "      <td>0.038076</td>\n",
              "      <td>0.050680</td>\n",
              "      <td>0.061696</td>\n",
              "      <td>0.021872</td>\n",
              "      <td>-0.044223</td>\n",
              "      <td>-0.034821</td>\n",
              "      <td>-0.043401</td>\n",
              "      <td>-0.002592</td>\n",
              "      <td>0.019907</td>\n",
              "      <td>-0.017646</td>\n",
              "      <td>151.0</td>\n",
              "    </tr>\n",
              "    <tr>\n",
              "      <th>1</th>\n",
              "      <td>-0.001882</td>\n",
              "      <td>-0.044642</td>\n",
              "      <td>-0.051474</td>\n",
              "      <td>-0.026328</td>\n",
              "      <td>-0.008449</td>\n",
              "      <td>-0.019163</td>\n",
              "      <td>0.074412</td>\n",
              "      <td>-0.039493</td>\n",
              "      <td>-0.068332</td>\n",
              "      <td>-0.092204</td>\n",
              "      <td>75.0</td>\n",
              "    </tr>\n",
              "    <tr>\n",
              "      <th>2</th>\n",
              "      <td>0.085299</td>\n",
              "      <td>0.050680</td>\n",
              "      <td>0.044451</td>\n",
              "      <td>-0.005670</td>\n",
              "      <td>-0.045599</td>\n",
              "      <td>-0.034194</td>\n",
              "      <td>-0.032356</td>\n",
              "      <td>-0.002592</td>\n",
              "      <td>0.002861</td>\n",
              "      <td>-0.025930</td>\n",
              "      <td>141.0</td>\n",
              "    </tr>\n",
              "    <tr>\n",
              "      <th>3</th>\n",
              "      <td>-0.089063</td>\n",
              "      <td>-0.044642</td>\n",
              "      <td>-0.011595</td>\n",
              "      <td>-0.036656</td>\n",
              "      <td>0.012191</td>\n",
              "      <td>0.024991</td>\n",
              "      <td>-0.036038</td>\n",
              "      <td>0.034309</td>\n",
              "      <td>0.022688</td>\n",
              "      <td>-0.009362</td>\n",
              "      <td>206.0</td>\n",
              "    </tr>\n",
              "    <tr>\n",
              "      <th>4</th>\n",
              "      <td>0.005383</td>\n",
              "      <td>-0.044642</td>\n",
              "      <td>-0.036385</td>\n",
              "      <td>0.021872</td>\n",
              "      <td>0.003935</td>\n",
              "      <td>0.015596</td>\n",
              "      <td>0.008142</td>\n",
              "      <td>-0.002592</td>\n",
              "      <td>-0.031988</td>\n",
              "      <td>-0.046641</td>\n",
              "      <td>135.0</td>\n",
              "    </tr>\n",
              "    <tr>\n",
              "      <th>...</th>\n",
              "      <td>...</td>\n",
              "      <td>...</td>\n",
              "      <td>...</td>\n",
              "      <td>...</td>\n",
              "      <td>...</td>\n",
              "      <td>...</td>\n",
              "      <td>...</td>\n",
              "      <td>...</td>\n",
              "      <td>...</td>\n",
              "      <td>...</td>\n",
              "      <td>...</td>\n",
              "    </tr>\n",
              "    <tr>\n",
              "      <th>437</th>\n",
              "      <td>0.041708</td>\n",
              "      <td>0.050680</td>\n",
              "      <td>0.019662</td>\n",
              "      <td>0.059744</td>\n",
              "      <td>-0.005697</td>\n",
              "      <td>-0.002566</td>\n",
              "      <td>-0.028674</td>\n",
              "      <td>-0.002592</td>\n",
              "      <td>0.031193</td>\n",
              "      <td>0.007207</td>\n",
              "      <td>178.0</td>\n",
              "    </tr>\n",
              "    <tr>\n",
              "      <th>438</th>\n",
              "      <td>-0.005515</td>\n",
              "      <td>0.050680</td>\n",
              "      <td>-0.015906</td>\n",
              "      <td>-0.067642</td>\n",
              "      <td>0.049341</td>\n",
              "      <td>0.079165</td>\n",
              "      <td>-0.028674</td>\n",
              "      <td>0.034309</td>\n",
              "      <td>-0.018114</td>\n",
              "      <td>0.044485</td>\n",
              "      <td>104.0</td>\n",
              "    </tr>\n",
              "    <tr>\n",
              "      <th>439</th>\n",
              "      <td>0.041708</td>\n",
              "      <td>0.050680</td>\n",
              "      <td>-0.015906</td>\n",
              "      <td>0.017293</td>\n",
              "      <td>-0.037344</td>\n",
              "      <td>-0.013840</td>\n",
              "      <td>-0.024993</td>\n",
              "      <td>-0.011080</td>\n",
              "      <td>-0.046883</td>\n",
              "      <td>0.015491</td>\n",
              "      <td>132.0</td>\n",
              "    </tr>\n",
              "    <tr>\n",
              "      <th>440</th>\n",
              "      <td>-0.045472</td>\n",
              "      <td>-0.044642</td>\n",
              "      <td>0.039062</td>\n",
              "      <td>0.001215</td>\n",
              "      <td>0.016318</td>\n",
              "      <td>0.015283</td>\n",
              "      <td>-0.028674</td>\n",
              "      <td>0.026560</td>\n",
              "      <td>0.044529</td>\n",
              "      <td>-0.025930</td>\n",
              "      <td>220.0</td>\n",
              "    </tr>\n",
              "    <tr>\n",
              "      <th>441</th>\n",
              "      <td>-0.045472</td>\n",
              "      <td>-0.044642</td>\n",
              "      <td>-0.073030</td>\n",
              "      <td>-0.081413</td>\n",
              "      <td>0.083740</td>\n",
              "      <td>0.027809</td>\n",
              "      <td>0.173816</td>\n",
              "      <td>-0.039493</td>\n",
              "      <td>-0.004222</td>\n",
              "      <td>0.003064</td>\n",
              "      <td>57.0</td>\n",
              "    </tr>\n",
              "  </tbody>\n",
              "</table>\n",
              "<p>442 rows × 11 columns</p>\n",
              "</div>\n",
              "    <div class=\"colab-df-buttons\">\n",
              "\n",
              "  <div class=\"colab-df-container\">\n",
              "    <button class=\"colab-df-convert\" onclick=\"convertToInteractive('df-f9cb79af-90bf-471e-99df-00a5d499e339')\"\n",
              "            title=\"Convert this dataframe to an interactive table.\"\n",
              "            style=\"display:none;\">\n",
              "\n",
              "  <svg xmlns=\"http://www.w3.org/2000/svg\" height=\"24px\" viewBox=\"0 -960 960 960\">\n",
              "    <path d=\"M120-120v-720h720v720H120Zm60-500h600v-160H180v160Zm220 220h160v-160H400v160Zm0 220h160v-160H400v160ZM180-400h160v-160H180v160Zm440 0h160v-160H620v160ZM180-180h160v-160H180v160Zm440 0h160v-160H620v160Z\"/>\n",
              "  </svg>\n",
              "    </button>\n",
              "\n",
              "  <style>\n",
              "    .colab-df-container {\n",
              "      display:flex;\n",
              "      gap: 12px;\n",
              "    }\n",
              "\n",
              "    .colab-df-convert {\n",
              "      background-color: #E8F0FE;\n",
              "      border: none;\n",
              "      border-radius: 50%;\n",
              "      cursor: pointer;\n",
              "      display: none;\n",
              "      fill: #1967D2;\n",
              "      height: 32px;\n",
              "      padding: 0 0 0 0;\n",
              "      width: 32px;\n",
              "    }\n",
              "\n",
              "    .colab-df-convert:hover {\n",
              "      background-color: #E2EBFA;\n",
              "      box-shadow: 0px 1px 2px rgba(60, 64, 67, 0.3), 0px 1px 3px 1px rgba(60, 64, 67, 0.15);\n",
              "      fill: #174EA6;\n",
              "    }\n",
              "\n",
              "    .colab-df-buttons div {\n",
              "      margin-bottom: 4px;\n",
              "    }\n",
              "\n",
              "    [theme=dark] .colab-df-convert {\n",
              "      background-color: #3B4455;\n",
              "      fill: #D2E3FC;\n",
              "    }\n",
              "\n",
              "    [theme=dark] .colab-df-convert:hover {\n",
              "      background-color: #434B5C;\n",
              "      box-shadow: 0px 1px 3px 1px rgba(0, 0, 0, 0.15);\n",
              "      filter: drop-shadow(0px 1px 2px rgba(0, 0, 0, 0.3));\n",
              "      fill: #FFFFFF;\n",
              "    }\n",
              "  </style>\n",
              "\n",
              "    <script>\n",
              "      const buttonEl =\n",
              "        document.querySelector('#df-f9cb79af-90bf-471e-99df-00a5d499e339 button.colab-df-convert');\n",
              "      buttonEl.style.display =\n",
              "        google.colab.kernel.accessAllowed ? 'block' : 'none';\n",
              "\n",
              "      async function convertToInteractive(key) {\n",
              "        const element = document.querySelector('#df-f9cb79af-90bf-471e-99df-00a5d499e339');\n",
              "        const dataTable =\n",
              "          await google.colab.kernel.invokeFunction('convertToInteractive',\n",
              "                                                    [key], {});\n",
              "        if (!dataTable) return;\n",
              "\n",
              "        const docLinkHtml = 'Like what you see? Visit the ' +\n",
              "          '<a target=\"_blank\" href=https://colab.research.google.com/notebooks/data_table.ipynb>data table notebook</a>'\n",
              "          + ' to learn more about interactive tables.';\n",
              "        element.innerHTML = '';\n",
              "        dataTable['output_type'] = 'display_data';\n",
              "        await google.colab.output.renderOutput(dataTable, element);\n",
              "        const docLink = document.createElement('div');\n",
              "        docLink.innerHTML = docLinkHtml;\n",
              "        element.appendChild(docLink);\n",
              "      }\n",
              "    </script>\n",
              "  </div>\n",
              "\n",
              "\n",
              "<div id=\"df-bc8afba7-8e6d-4724-a840-7510e7e6284d\">\n",
              "  <button class=\"colab-df-quickchart\" onclick=\"quickchart('df-bc8afba7-8e6d-4724-a840-7510e7e6284d')\"\n",
              "            title=\"Suggest charts\"\n",
              "            style=\"display:none;\">\n",
              "\n",
              "<svg xmlns=\"http://www.w3.org/2000/svg\" height=\"24px\"viewBox=\"0 0 24 24\"\n",
              "     width=\"24px\">\n",
              "    <g>\n",
              "        <path d=\"M19 3H5c-1.1 0-2 .9-2 2v14c0 1.1.9 2 2 2h14c1.1 0 2-.9 2-2V5c0-1.1-.9-2-2-2zM9 17H7v-7h2v7zm4 0h-2V7h2v10zm4 0h-2v-4h2v4z\"/>\n",
              "    </g>\n",
              "</svg>\n",
              "  </button>\n",
              "\n",
              "<style>\n",
              "  .colab-df-quickchart {\n",
              "      --bg-color: #E8F0FE;\n",
              "      --fill-color: #1967D2;\n",
              "      --hover-bg-color: #E2EBFA;\n",
              "      --hover-fill-color: #174EA6;\n",
              "      --disabled-fill-color: #AAA;\n",
              "      --disabled-bg-color: #DDD;\n",
              "  }\n",
              "\n",
              "  [theme=dark] .colab-df-quickchart {\n",
              "      --bg-color: #3B4455;\n",
              "      --fill-color: #D2E3FC;\n",
              "      --hover-bg-color: #434B5C;\n",
              "      --hover-fill-color: #FFFFFF;\n",
              "      --disabled-bg-color: #3B4455;\n",
              "      --disabled-fill-color: #666;\n",
              "  }\n",
              "\n",
              "  .colab-df-quickchart {\n",
              "    background-color: var(--bg-color);\n",
              "    border: none;\n",
              "    border-radius: 50%;\n",
              "    cursor: pointer;\n",
              "    display: none;\n",
              "    fill: var(--fill-color);\n",
              "    height: 32px;\n",
              "    padding: 0;\n",
              "    width: 32px;\n",
              "  }\n",
              "\n",
              "  .colab-df-quickchart:hover {\n",
              "    background-color: var(--hover-bg-color);\n",
              "    box-shadow: 0 1px 2px rgba(60, 64, 67, 0.3), 0 1px 3px 1px rgba(60, 64, 67, 0.15);\n",
              "    fill: var(--button-hover-fill-color);\n",
              "  }\n",
              "\n",
              "  .colab-df-quickchart-complete:disabled,\n",
              "  .colab-df-quickchart-complete:disabled:hover {\n",
              "    background-color: var(--disabled-bg-color);\n",
              "    fill: var(--disabled-fill-color);\n",
              "    box-shadow: none;\n",
              "  }\n",
              "\n",
              "  .colab-df-spinner {\n",
              "    border: 2px solid var(--fill-color);\n",
              "    border-color: transparent;\n",
              "    border-bottom-color: var(--fill-color);\n",
              "    animation:\n",
              "      spin 1s steps(1) infinite;\n",
              "  }\n",
              "\n",
              "  @keyframes spin {\n",
              "    0% {\n",
              "      border-color: transparent;\n",
              "      border-bottom-color: var(--fill-color);\n",
              "      border-left-color: var(--fill-color);\n",
              "    }\n",
              "    20% {\n",
              "      border-color: transparent;\n",
              "      border-left-color: var(--fill-color);\n",
              "      border-top-color: var(--fill-color);\n",
              "    }\n",
              "    30% {\n",
              "      border-color: transparent;\n",
              "      border-left-color: var(--fill-color);\n",
              "      border-top-color: var(--fill-color);\n",
              "      border-right-color: var(--fill-color);\n",
              "    }\n",
              "    40% {\n",
              "      border-color: transparent;\n",
              "      border-right-color: var(--fill-color);\n",
              "      border-top-color: var(--fill-color);\n",
              "    }\n",
              "    60% {\n",
              "      border-color: transparent;\n",
              "      border-right-color: var(--fill-color);\n",
              "    }\n",
              "    80% {\n",
              "      border-color: transparent;\n",
              "      border-right-color: var(--fill-color);\n",
              "      border-bottom-color: var(--fill-color);\n",
              "    }\n",
              "    90% {\n",
              "      border-color: transparent;\n",
              "      border-bottom-color: var(--fill-color);\n",
              "    }\n",
              "  }\n",
              "</style>\n",
              "\n",
              "  <script>\n",
              "    async function quickchart(key) {\n",
              "      const quickchartButtonEl =\n",
              "        document.querySelector('#' + key + ' button');\n",
              "      quickchartButtonEl.disabled = true;  // To prevent multiple clicks.\n",
              "      quickchartButtonEl.classList.add('colab-df-spinner');\n",
              "      try {\n",
              "        const charts = await google.colab.kernel.invokeFunction(\n",
              "            'suggestCharts', [key], {});\n",
              "      } catch (error) {\n",
              "        console.error('Error during call to suggestCharts:', error);\n",
              "      }\n",
              "      quickchartButtonEl.classList.remove('colab-df-spinner');\n",
              "      quickchartButtonEl.classList.add('colab-df-quickchart-complete');\n",
              "    }\n",
              "    (() => {\n",
              "      let quickchartButtonEl =\n",
              "        document.querySelector('#df-bc8afba7-8e6d-4724-a840-7510e7e6284d button');\n",
              "      quickchartButtonEl.style.display =\n",
              "        google.colab.kernel.accessAllowed ? 'block' : 'none';\n",
              "    })();\n",
              "  </script>\n",
              "</div>\n",
              "    </div>\n",
              "  </div>\n"
            ]
          },
          "metadata": {},
          "execution_count": 6
        }
      ],
      "source": [
        "data.frame"
      ]
    },
    {
      "cell_type": "code",
      "execution_count": 7,
      "id": "8fe381e5",
      "metadata": {
        "colab": {
          "base_uri": "https://localhost:8080/",
          "height": 300
        },
        "id": "8fe381e5",
        "outputId": "d901c876-0282-450b-fee8-0f10fdfb65b4"
      },
      "outputs": [
        {
          "output_type": "execute_result",
          "data": {
            "text/plain": [
              "           age      sex      bmi       bp       s1       s2       s3       s4  \\\n",
              "count  442.000  442.000  442.000  442.000  442.000  442.000  442.000  442.000   \n",
              "mean    -0.000    0.000   -0.000   -0.000   -0.000    0.000   -0.000   -0.000   \n",
              "std      0.048    0.048    0.048    0.048    0.048    0.048    0.048    0.048   \n",
              "min     -0.107   -0.045   -0.090   -0.112   -0.127   -0.116   -0.102   -0.076   \n",
              "25%     -0.037   -0.045   -0.034   -0.037   -0.034   -0.030   -0.035   -0.039   \n",
              "50%      0.005   -0.045   -0.007   -0.006   -0.004   -0.004   -0.007   -0.003   \n",
              "75%      0.038    0.051    0.031    0.036    0.028    0.030    0.029    0.034   \n",
              "max      0.111    0.051    0.171    0.132    0.154    0.199    0.181    0.185   \n",
              "\n",
              "            s5       s6   target  \n",
              "count  442.000  442.000  442.000  \n",
              "mean     0.000    0.000  152.133  \n",
              "std      0.048    0.048   77.093  \n",
              "min     -0.126   -0.138   25.000  \n",
              "25%     -0.033   -0.033   87.000  \n",
              "50%     -0.002   -0.001  140.500  \n",
              "75%      0.032    0.028  211.500  \n",
              "max      0.134    0.136  346.000  "
            ],
            "text/html": [
              "\n",
              "  <div id=\"df-8c43cb69-6572-4a3b-868b-6949c28caf81\" class=\"colab-df-container\">\n",
              "    <div>\n",
              "<style scoped>\n",
              "    .dataframe tbody tr th:only-of-type {\n",
              "        vertical-align: middle;\n",
              "    }\n",
              "\n",
              "    .dataframe tbody tr th {\n",
              "        vertical-align: top;\n",
              "    }\n",
              "\n",
              "    .dataframe thead th {\n",
              "        text-align: right;\n",
              "    }\n",
              "</style>\n",
              "<table border=\"1\" class=\"dataframe\">\n",
              "  <thead>\n",
              "    <tr style=\"text-align: right;\">\n",
              "      <th></th>\n",
              "      <th>age</th>\n",
              "      <th>sex</th>\n",
              "      <th>bmi</th>\n",
              "      <th>bp</th>\n",
              "      <th>s1</th>\n",
              "      <th>s2</th>\n",
              "      <th>s3</th>\n",
              "      <th>s4</th>\n",
              "      <th>s5</th>\n",
              "      <th>s6</th>\n",
              "      <th>target</th>\n",
              "    </tr>\n",
              "  </thead>\n",
              "  <tbody>\n",
              "    <tr>\n",
              "      <th>count</th>\n",
              "      <td>442.000</td>\n",
              "      <td>442.000</td>\n",
              "      <td>442.000</td>\n",
              "      <td>442.000</td>\n",
              "      <td>442.000</td>\n",
              "      <td>442.000</td>\n",
              "      <td>442.000</td>\n",
              "      <td>442.000</td>\n",
              "      <td>442.000</td>\n",
              "      <td>442.000</td>\n",
              "      <td>442.000</td>\n",
              "    </tr>\n",
              "    <tr>\n",
              "      <th>mean</th>\n",
              "      <td>-0.000</td>\n",
              "      <td>0.000</td>\n",
              "      <td>-0.000</td>\n",
              "      <td>-0.000</td>\n",
              "      <td>-0.000</td>\n",
              "      <td>0.000</td>\n",
              "      <td>-0.000</td>\n",
              "      <td>-0.000</td>\n",
              "      <td>0.000</td>\n",
              "      <td>0.000</td>\n",
              "      <td>152.133</td>\n",
              "    </tr>\n",
              "    <tr>\n",
              "      <th>std</th>\n",
              "      <td>0.048</td>\n",
              "      <td>0.048</td>\n",
              "      <td>0.048</td>\n",
              "      <td>0.048</td>\n",
              "      <td>0.048</td>\n",
              "      <td>0.048</td>\n",
              "      <td>0.048</td>\n",
              "      <td>0.048</td>\n",
              "      <td>0.048</td>\n",
              "      <td>0.048</td>\n",
              "      <td>77.093</td>\n",
              "    </tr>\n",
              "    <tr>\n",
              "      <th>min</th>\n",
              "      <td>-0.107</td>\n",
              "      <td>-0.045</td>\n",
              "      <td>-0.090</td>\n",
              "      <td>-0.112</td>\n",
              "      <td>-0.127</td>\n",
              "      <td>-0.116</td>\n",
              "      <td>-0.102</td>\n",
              "      <td>-0.076</td>\n",
              "      <td>-0.126</td>\n",
              "      <td>-0.138</td>\n",
              "      <td>25.000</td>\n",
              "    </tr>\n",
              "    <tr>\n",
              "      <th>25%</th>\n",
              "      <td>-0.037</td>\n",
              "      <td>-0.045</td>\n",
              "      <td>-0.034</td>\n",
              "      <td>-0.037</td>\n",
              "      <td>-0.034</td>\n",
              "      <td>-0.030</td>\n",
              "      <td>-0.035</td>\n",
              "      <td>-0.039</td>\n",
              "      <td>-0.033</td>\n",
              "      <td>-0.033</td>\n",
              "      <td>87.000</td>\n",
              "    </tr>\n",
              "    <tr>\n",
              "      <th>50%</th>\n",
              "      <td>0.005</td>\n",
              "      <td>-0.045</td>\n",
              "      <td>-0.007</td>\n",
              "      <td>-0.006</td>\n",
              "      <td>-0.004</td>\n",
              "      <td>-0.004</td>\n",
              "      <td>-0.007</td>\n",
              "      <td>-0.003</td>\n",
              "      <td>-0.002</td>\n",
              "      <td>-0.001</td>\n",
              "      <td>140.500</td>\n",
              "    </tr>\n",
              "    <tr>\n",
              "      <th>75%</th>\n",
              "      <td>0.038</td>\n",
              "      <td>0.051</td>\n",
              "      <td>0.031</td>\n",
              "      <td>0.036</td>\n",
              "      <td>0.028</td>\n",
              "      <td>0.030</td>\n",
              "      <td>0.029</td>\n",
              "      <td>0.034</td>\n",
              "      <td>0.032</td>\n",
              "      <td>0.028</td>\n",
              "      <td>211.500</td>\n",
              "    </tr>\n",
              "    <tr>\n",
              "      <th>max</th>\n",
              "      <td>0.111</td>\n",
              "      <td>0.051</td>\n",
              "      <td>0.171</td>\n",
              "      <td>0.132</td>\n",
              "      <td>0.154</td>\n",
              "      <td>0.199</td>\n",
              "      <td>0.181</td>\n",
              "      <td>0.185</td>\n",
              "      <td>0.134</td>\n",
              "      <td>0.136</td>\n",
              "      <td>346.000</td>\n",
              "    </tr>\n",
              "  </tbody>\n",
              "</table>\n",
              "</div>\n",
              "    <div class=\"colab-df-buttons\">\n",
              "\n",
              "  <div class=\"colab-df-container\">\n",
              "    <button class=\"colab-df-convert\" onclick=\"convertToInteractive('df-8c43cb69-6572-4a3b-868b-6949c28caf81')\"\n",
              "            title=\"Convert this dataframe to an interactive table.\"\n",
              "            style=\"display:none;\">\n",
              "\n",
              "  <svg xmlns=\"http://www.w3.org/2000/svg\" height=\"24px\" viewBox=\"0 -960 960 960\">\n",
              "    <path d=\"M120-120v-720h720v720H120Zm60-500h600v-160H180v160Zm220 220h160v-160H400v160Zm0 220h160v-160H400v160ZM180-400h160v-160H180v160Zm440 0h160v-160H620v160ZM180-180h160v-160H180v160Zm440 0h160v-160H620v160Z\"/>\n",
              "  </svg>\n",
              "    </button>\n",
              "\n",
              "  <style>\n",
              "    .colab-df-container {\n",
              "      display:flex;\n",
              "      gap: 12px;\n",
              "    }\n",
              "\n",
              "    .colab-df-convert {\n",
              "      background-color: #E8F0FE;\n",
              "      border: none;\n",
              "      border-radius: 50%;\n",
              "      cursor: pointer;\n",
              "      display: none;\n",
              "      fill: #1967D2;\n",
              "      height: 32px;\n",
              "      padding: 0 0 0 0;\n",
              "      width: 32px;\n",
              "    }\n",
              "\n",
              "    .colab-df-convert:hover {\n",
              "      background-color: #E2EBFA;\n",
              "      box-shadow: 0px 1px 2px rgba(60, 64, 67, 0.3), 0px 1px 3px 1px rgba(60, 64, 67, 0.15);\n",
              "      fill: #174EA6;\n",
              "    }\n",
              "\n",
              "    .colab-df-buttons div {\n",
              "      margin-bottom: 4px;\n",
              "    }\n",
              "\n",
              "    [theme=dark] .colab-df-convert {\n",
              "      background-color: #3B4455;\n",
              "      fill: #D2E3FC;\n",
              "    }\n",
              "\n",
              "    [theme=dark] .colab-df-convert:hover {\n",
              "      background-color: #434B5C;\n",
              "      box-shadow: 0px 1px 3px 1px rgba(0, 0, 0, 0.15);\n",
              "      filter: drop-shadow(0px 1px 2px rgba(0, 0, 0, 0.3));\n",
              "      fill: #FFFFFF;\n",
              "    }\n",
              "  </style>\n",
              "\n",
              "    <script>\n",
              "      const buttonEl =\n",
              "        document.querySelector('#df-8c43cb69-6572-4a3b-868b-6949c28caf81 button.colab-df-convert');\n",
              "      buttonEl.style.display =\n",
              "        google.colab.kernel.accessAllowed ? 'block' : 'none';\n",
              "\n",
              "      async function convertToInteractive(key) {\n",
              "        const element = document.querySelector('#df-8c43cb69-6572-4a3b-868b-6949c28caf81');\n",
              "        const dataTable =\n",
              "          await google.colab.kernel.invokeFunction('convertToInteractive',\n",
              "                                                    [key], {});\n",
              "        if (!dataTable) return;\n",
              "\n",
              "        const docLinkHtml = 'Like what you see? Visit the ' +\n",
              "          '<a target=\"_blank\" href=https://colab.research.google.com/notebooks/data_table.ipynb>data table notebook</a>'\n",
              "          + ' to learn more about interactive tables.';\n",
              "        element.innerHTML = '';\n",
              "        dataTable['output_type'] = 'display_data';\n",
              "        await google.colab.output.renderOutput(dataTable, element);\n",
              "        const docLink = document.createElement('div');\n",
              "        docLink.innerHTML = docLinkHtml;\n",
              "        element.appendChild(docLink);\n",
              "      }\n",
              "    </script>\n",
              "  </div>\n",
              "\n",
              "\n",
              "<div id=\"df-84a5abd7-5457-4f52-a3b7-784c1e7cca60\">\n",
              "  <button class=\"colab-df-quickchart\" onclick=\"quickchart('df-84a5abd7-5457-4f52-a3b7-784c1e7cca60')\"\n",
              "            title=\"Suggest charts\"\n",
              "            style=\"display:none;\">\n",
              "\n",
              "<svg xmlns=\"http://www.w3.org/2000/svg\" height=\"24px\"viewBox=\"0 0 24 24\"\n",
              "     width=\"24px\">\n",
              "    <g>\n",
              "        <path d=\"M19 3H5c-1.1 0-2 .9-2 2v14c0 1.1.9 2 2 2h14c1.1 0 2-.9 2-2V5c0-1.1-.9-2-2-2zM9 17H7v-7h2v7zm4 0h-2V7h2v10zm4 0h-2v-4h2v4z\"/>\n",
              "    </g>\n",
              "</svg>\n",
              "  </button>\n",
              "\n",
              "<style>\n",
              "  .colab-df-quickchart {\n",
              "      --bg-color: #E8F0FE;\n",
              "      --fill-color: #1967D2;\n",
              "      --hover-bg-color: #E2EBFA;\n",
              "      --hover-fill-color: #174EA6;\n",
              "      --disabled-fill-color: #AAA;\n",
              "      --disabled-bg-color: #DDD;\n",
              "  }\n",
              "\n",
              "  [theme=dark] .colab-df-quickchart {\n",
              "      --bg-color: #3B4455;\n",
              "      --fill-color: #D2E3FC;\n",
              "      --hover-bg-color: #434B5C;\n",
              "      --hover-fill-color: #FFFFFF;\n",
              "      --disabled-bg-color: #3B4455;\n",
              "      --disabled-fill-color: #666;\n",
              "  }\n",
              "\n",
              "  .colab-df-quickchart {\n",
              "    background-color: var(--bg-color);\n",
              "    border: none;\n",
              "    border-radius: 50%;\n",
              "    cursor: pointer;\n",
              "    display: none;\n",
              "    fill: var(--fill-color);\n",
              "    height: 32px;\n",
              "    padding: 0;\n",
              "    width: 32px;\n",
              "  }\n",
              "\n",
              "  .colab-df-quickchart:hover {\n",
              "    background-color: var(--hover-bg-color);\n",
              "    box-shadow: 0 1px 2px rgba(60, 64, 67, 0.3), 0 1px 3px 1px rgba(60, 64, 67, 0.15);\n",
              "    fill: var(--button-hover-fill-color);\n",
              "  }\n",
              "\n",
              "  .colab-df-quickchart-complete:disabled,\n",
              "  .colab-df-quickchart-complete:disabled:hover {\n",
              "    background-color: var(--disabled-bg-color);\n",
              "    fill: var(--disabled-fill-color);\n",
              "    box-shadow: none;\n",
              "  }\n",
              "\n",
              "  .colab-df-spinner {\n",
              "    border: 2px solid var(--fill-color);\n",
              "    border-color: transparent;\n",
              "    border-bottom-color: var(--fill-color);\n",
              "    animation:\n",
              "      spin 1s steps(1) infinite;\n",
              "  }\n",
              "\n",
              "  @keyframes spin {\n",
              "    0% {\n",
              "      border-color: transparent;\n",
              "      border-bottom-color: var(--fill-color);\n",
              "      border-left-color: var(--fill-color);\n",
              "    }\n",
              "    20% {\n",
              "      border-color: transparent;\n",
              "      border-left-color: var(--fill-color);\n",
              "      border-top-color: var(--fill-color);\n",
              "    }\n",
              "    30% {\n",
              "      border-color: transparent;\n",
              "      border-left-color: var(--fill-color);\n",
              "      border-top-color: var(--fill-color);\n",
              "      border-right-color: var(--fill-color);\n",
              "    }\n",
              "    40% {\n",
              "      border-color: transparent;\n",
              "      border-right-color: var(--fill-color);\n",
              "      border-top-color: var(--fill-color);\n",
              "    }\n",
              "    60% {\n",
              "      border-color: transparent;\n",
              "      border-right-color: var(--fill-color);\n",
              "    }\n",
              "    80% {\n",
              "      border-color: transparent;\n",
              "      border-right-color: var(--fill-color);\n",
              "      border-bottom-color: var(--fill-color);\n",
              "    }\n",
              "    90% {\n",
              "      border-color: transparent;\n",
              "      border-bottom-color: var(--fill-color);\n",
              "    }\n",
              "  }\n",
              "</style>\n",
              "\n",
              "  <script>\n",
              "    async function quickchart(key) {\n",
              "      const quickchartButtonEl =\n",
              "        document.querySelector('#' + key + ' button');\n",
              "      quickchartButtonEl.disabled = true;  // To prevent multiple clicks.\n",
              "      quickchartButtonEl.classList.add('colab-df-spinner');\n",
              "      try {\n",
              "        const charts = await google.colab.kernel.invokeFunction(\n",
              "            'suggestCharts', [key], {});\n",
              "      } catch (error) {\n",
              "        console.error('Error during call to suggestCharts:', error);\n",
              "      }\n",
              "      quickchartButtonEl.classList.remove('colab-df-spinner');\n",
              "      quickchartButtonEl.classList.add('colab-df-quickchart-complete');\n",
              "    }\n",
              "    (() => {\n",
              "      let quickchartButtonEl =\n",
              "        document.querySelector('#df-84a5abd7-5457-4f52-a3b7-784c1e7cca60 button');\n",
              "      quickchartButtonEl.style.display =\n",
              "        google.colab.kernel.accessAllowed ? 'block' : 'none';\n",
              "    })();\n",
              "  </script>\n",
              "</div>\n",
              "    </div>\n",
              "  </div>\n"
            ]
          },
          "metadata": {},
          "execution_count": 7
        }
      ],
      "source": [
        "np.round(data.frame.describe(),3)"
      ]
    },
    {
      "cell_type": "code",
      "execution_count": 8,
      "id": "5b3e48c5",
      "metadata": {
        "colab": {
          "base_uri": "https://localhost:8080/",
          "height": 472
        },
        "id": "5b3e48c5",
        "outputId": "f19ac445-1f82-440b-b991-8e76185f0d2d"
      },
      "outputs": [
        {
          "output_type": "display_data",
          "data": {
            "text/plain": [
              "<Figure size 640x480 with 1 Axes>"
            ],
            "image/png": "[encoded data removed]"
          },
          "metadata": {}
        }
      ],
      "source": [
        "# plot a histogram to visualize the distribution of the \"target\" value\n",
        "plt.hist(data.frame['target'], rwidth=0.9)\n",
        "plt.title(\"Target value distribution\")\n",
        "plt.xlabel(\"target value\")\n",
        "plt.ylabel(\"#samples\");"
      ]
    },
    {
      "cell_type": "markdown",
      "id": "e0964e70",
      "metadata": {
        "id": "e0964e70"
      },
      "source": [
        "### Prepare data for model training and testing"
      ]
    },
    {
      "cell_type": "code",
      "execution_count": 9,
      "id": "73f1b21f",
      "metadata": {
        "id": "73f1b21f"
      },
      "outputs": [],
      "source": [
        "# Split the data into 70% training and 30% testing\n",
        "# Documentation: https://scikit-learn.org/stable/modules/generated/sklearn.model_selection.train_test_split.html\n",
        "# Remember to set random_state to control for the randomness\n",
        "\n",
        "X_train, X_test, y_train, y_test = train_test_split(data.data, data.target, test_size=0.3, random_state=42)"
      ]
    },
    {
      "cell_type": "code",
      "execution_count": 10,
      "id": "5172c982",
      "metadata": {
        "colab": {
          "base_uri": "https://localhost:8080/"
        },
        "id": "5172c982",
        "outputId": "220c3ff0-7473-42bb-c8a0-ccdc0ee9bde2"
      },
      "outputs": [
        {
          "output_type": "execute_result",
          "data": {
            "text/plain": [
              "((309, 10), (133, 10))"
            ]
          },
          "metadata": {},
          "execution_count": 10
        }
      ],
      "source": [
        "# check feature matrix\n",
        "X_train.shape, X_test.shape"
      ]
    },
    {
      "cell_type": "markdown",
      "id": "a796cd9b",
      "metadata": {
        "id": "a796cd9b"
      },
      "source": [
        "### Fit the linear regression model on the training set and evaluate model performance on the testing set\n",
        "> Documentation: https://scikit-learn.org/stable/modules/generated/sklearn.linear_model.LinearRegression.html"
      ]
    },
    {
      "cell_type": "code",
      "execution_count": 11,
      "id": "3ca436c7",
      "metadata": {
        "colab": {
          "base_uri": "https://localhost:8080/"
        },
        "id": "3ca436c7",
        "outputId": "9ce8353e-f1a3-4416-fa2f-35ae81ded34b"
      },
      "outputs": [
        {
          "output_type": "execute_result",
          "data": {
            "text/plain": [
              "0.477"
            ]
          },
          "metadata": {},
          "execution_count": 11
        }
      ],
      "source": [
        "reg = LinearRegression() # check the documentation to understand the default parameters\n",
        "reg.fit(X_train, y_train)\n",
        "reg_score = reg.score(X_test, y_test)\n",
        "np.round(reg_score,3)"
      ]
    },
    {
      "cell_type": "markdown",
      "id": "92373e7b",
      "metadata": {
        "id": "92373e7b"
      },
      "source": [
        "**Interpret model coefficients and intercept**"
      ]
    },
    {
      "cell_type": "code",
      "execution_count": 12,
      "id": "9f93ce14",
      "metadata": {
        "colab": {
          "base_uri": "https://localhost:8080/"
        },
        "id": "9f93ce14",
        "outputId": "1058bfc6-7dc2-4496-9c6e-1ce8a2a82034"
      },
      "outputs": [
        {
          "output_type": "execute_result",
          "data": {
            "text/plain": [
              "array([  29.254, -261.706,  546.3  ,  388.398, -901.96 ,  506.763,\n",
              "        121.154,  288.035,  659.269,   41.377])"
            ]
          },
          "metadata": {},
          "execution_count": 12
        }
      ],
      "source": [
        "np.round(reg.coef_,3)"
      ]
    },
    {
      "cell_type": "code",
      "execution_count": 13,
      "id": "f66d6311",
      "metadata": {
        "colab": {
          "base_uri": "https://localhost:8080/"
        },
        "id": "f66d6311",
        "outputId": "9acd1530-6940-409d-fdab-05f1d41b65dc"
      },
      "outputs": [
        {
          "output_type": "execute_result",
          "data": {
            "text/plain": [
              "151.008"
            ]
          },
          "metadata": {},
          "execution_count": 13
        }
      ],
      "source": [
        "np.round(reg.intercept_,3)"
      ]
    },
    {
      "cell_type": "markdown",
      "id": "91a97b88",
      "metadata": {
        "id": "91a97b88"
      },
      "source": [
        "**Your task**: write down the linear regression model with the above coefficients and intercept"
      ]
    },
    {
      "cell_type": "markdown",
      "source": [
        "y = 29.254 * age - 261.706 * sex + 546.3 * bmi + 388.398 * bp - 901.96 * s1 + 506.763 * s2 + 121.154 * s3 + 288.035 * s4 + 659.269 * s5 + 41.377 * s6 + 151.008"
      ],
      "metadata": {
        "id": "M_WSESBWKAeQ"
      },
      "id": "M_WSESBWKAeQ"
    },
    {
      "cell_type": "markdown",
      "id": "8baf4c48",
      "metadata": {
        "id": "8baf4c48"
      },
      "source": [
        "**Your task**: explore other parameters/attributes/methods\n",
        "- fit_intercept\n",
        "- feature_names_in_, n_features_in_\n",
        "Write your exploration code and results below"
      ]
    },
    {
      "cell_type": "code",
      "execution_count": 14,
      "id": "13242258",
      "metadata": {
        "colab": {
          "base_uri": "https://localhost:8080/"
        },
        "id": "13242258",
        "outputId": "af154724-526b-4c5a-ebd8-cd0caf7527dc"
      },
      "outputs": [
        {
          "output_type": "execute_result",
          "data": {
            "text/plain": [
              "-4.102"
            ]
          },
          "metadata": {},
          "execution_count": 14
        }
      ],
      "source": [
        "reg = LinearRegression(fit_intercept=False)\n",
        "reg.fit(X_train, y_train)\n",
        "reg_score = reg.score(X_test, y_test)\n",
        "np.round(reg_score,3)"
      ]
    },
    {
      "cell_type": "markdown",
      "source": [
        "After setting the fit_intercept=False, the score becomes a minus score. It shows that it's important to use intercept in the model!"
      ],
      "metadata": {
        "id": "LxqzYgN9NCA7"
      },
      "id": "LxqzYgN9NCA7"
    },
    {
      "cell_type": "code",
      "source": [
        "reg.feature_names_in_"
      ],
      "metadata": {
        "colab": {
          "base_uri": "https://localhost:8080/"
        },
        "id": "iCUtJ-rNI5_m",
        "outputId": "abeaa2e5-2b6a-4806-c72c-6466f51eb2b6"
      },
      "id": "iCUtJ-rNI5_m",
      "execution_count": 15,
      "outputs": [
        {
          "output_type": "execute_result",
          "data": {
            "text/plain": [
              "array(['age', 'sex', 'bmi', 'bp', 's1', 's2', 's3', 's4', 's5', 's6'],\n",
              "      dtype=object)"
            ]
          },
          "metadata": {},
          "execution_count": 15
        }
      ]
    },
    {
      "cell_type": "markdown",
      "source": [
        "This code shows the names of all features in the model."
      ],
      "metadata": {
        "id": "i8zCgRzaNoz_"
      },
      "id": "i8zCgRzaNoz_"
    },
    {
      "cell_type": "code",
      "source": [
        "reg.n_features_in_"
      ],
      "metadata": {
        "colab": {
          "base_uri": "https://localhost:8080/"
        },
        "id": "KzVGkD2CI7Wf",
        "outputId": "c0e32370-aaab-4d31-e57c-e3aa0a7137c8"
      },
      "id": "KzVGkD2CI7Wf",
      "execution_count": 16,
      "outputs": [
        {
          "output_type": "execute_result",
          "data": {
            "text/plain": [
              "10"
            ]
          },
          "metadata": {},
          "execution_count": 16
        }
      ]
    },
    {
      "cell_type": "markdown",
      "source": [
        "This code shows the number of features in the model (intercept not included!)"
      ],
      "metadata": {
        "id": "5EFv6pxGN2Xt"
      },
      "id": "5EFv6pxGN2Xt"
    },
    {
      "cell_type": "code",
      "source": [
        "np.round(reg.singular_)"
      ],
      "metadata": {
        "colab": {
          "base_uri": "https://localhost:8080/"
        },
        "id": "mW05uiyEI-qd",
        "outputId": "4f5130ae-012b-4f59-979a-d9e5f3627aea"
      },
      "id": "mW05uiyEI-qd",
      "execution_count": 17,
      "outputs": [
        {
          "output_type": "execute_result",
          "data": {
            "text/plain": [
              "array([2., 1., 1., 1., 1., 1., 1., 1., 0., 0.])"
            ]
          },
          "metadata": {},
          "execution_count": 17
        }
      ]
    },
    {
      "cell_type": "code",
      "source": [
        "np.round(reg.rank_)"
      ],
      "metadata": {
        "colab": {
          "base_uri": "https://localhost:8080/"
        },
        "id": "qxMXLOxiJDwu",
        "outputId": "0ac5a1d5-fcab-4caa-f833-4da8d69a1f28"
      },
      "id": "qxMXLOxiJDwu",
      "execution_count": 18,
      "outputs": [
        {
          "output_type": "execute_result",
          "data": {
            "text/plain": [
              "10"
            ]
          },
          "metadata": {},
          "execution_count": 18
        }
      ]
    },
    {
      "cell_type": "markdown",
      "id": "fc280db1",
      "metadata": {
        "id": "fc280db1"
      },
      "source": [
        "### Fit and evaluate a Ridge regression model (with the same train/test data)\n",
        "> Documentation: https://scikit-learn.org/stable/modules/generated/sklearn.linear_model.Ridge.html"
      ]
    },
    {
      "cell_type": "code",
      "execution_count": 19,
      "id": "71a8d3a3",
      "metadata": {
        "colab": {
          "base_uri": "https://localhost:8080/"
        },
        "id": "71a8d3a3",
        "outputId": "3ae00930-9dc0-4aee-d81a-bc56ab251ee1"
      },
      "outputs": [
        {
          "output_type": "execute_result",
          "data": {
            "text/plain": [
              "0.423"
            ]
          },
          "metadata": {},
          "execution_count": 19
        }
      ],
      "source": [
        "rg_reg = Ridge()\n",
        "rg_reg.fit(X_train, y_train)\n",
        "rg_reg_score = rg_reg.score(X_test, y_test)\n",
        "np.round(rg_reg_score,3)"
      ]
    },
    {
      "cell_type": "code",
      "execution_count": 20,
      "id": "3c783ca4",
      "metadata": {
        "colab": {
          "base_uri": "https://localhost:8080/"
        },
        "id": "3c783ca4",
        "outputId": "987960b7-541c-4869-b474-c3cba6dbb979"
      },
      "outputs": [
        {
          "output_type": "execute_result",
          "data": {
            "text/plain": [
              "array([  45.054,  -71.947,  280.716,  195.213,   -2.229,  -17.541,\n",
              "       -148.689,  120.467,  198.614,  106.935])"
            ]
          },
          "metadata": {},
          "execution_count": 20
        }
      ],
      "source": [
        "np.round(rg_reg.coef_,3)"
      ]
    },
    {
      "cell_type": "code",
      "execution_count": 21,
      "id": "a4deaa4e",
      "metadata": {
        "colab": {
          "base_uri": "https://localhost:8080/"
        },
        "id": "a4deaa4e",
        "outputId": "ea267554-dc56-446a-a64f-41a3e5c01a05"
      },
      "outputs": [
        {
          "output_type": "execute_result",
          "data": {
            "text/plain": [
              "151.867"
            ]
          },
          "metadata": {},
          "execution_count": 21
        }
      ],
      "source": [
        "np.round(rg_reg.intercept_,3)"
      ]
    },
    {
      "cell_type": "markdown",
      "id": "39b58d2f",
      "metadata": {
        "id": "39b58d2f"
      },
      "source": [
        "### Your task: fit and evaluate a Lasso regression model (with the same train/test data)\n",
        "> Documentation: https://scikit-learn.org/stable/modules/generated/sklearn.linear_model.Lasso.html"
      ]
    },
    {
      "cell_type": "code",
      "execution_count": 22,
      "id": "1c416398",
      "metadata": {
        "colab": {
          "base_uri": "https://localhost:8080/",
          "height": 74
        },
        "id": "1c416398",
        "outputId": "b669d261-80a5-4db9-a639-a2a3bf9b750b"
      },
      "outputs": [
        {
          "output_type": "execute_result",
          "data": {
            "text/plain": [
              "Lasso()"
            ],
            "text/html": [
              "<style>#sk-container-id-1 {color: black;background-color: white;}#sk-container-id-1 pre{padding: 0;}#sk-container-id-1 div.sk-toggleable {background-color: white;}#sk-container-id-1 label.sk-toggleable__label {cursor: pointer;display: block;width: 100%;margin-bottom: 0;padding: 0.3em;box-sizing: border-box;text-align: center;}#sk-container-id-1 label.sk-toggleable__label-arrow:before {content: \"▸\";float: left;margin-right: 0.25em;color: #696969;}#sk-container-id-1 label.sk-toggleable__label-arrow:hover:before {color: black;}#sk-container-id-1 div.sk-estimator:hover label.sk-toggleable__label-arrow:before {color: black;}#sk-container-id-1 div.sk-toggleable__content {max-height: 0;max-width: 0;overflow: hidden;text-align: left;background-color: #f0f8ff;}#sk-container-id-1 div.sk-toggleable__content pre {margin: 0.2em;color: black;border-radius: 0.25em;background-color: #f0f8ff;}#sk-container-id-1 input.sk-toggleable__control:checked~div.sk-toggleable__content {max-height: 200px;max-width: 100%;overflow: auto;}#sk-container-id-1 input.sk-toggleable__control:checked~label.sk-toggleable__label-arrow:before {content: \"▾\";}#sk-container-id-1 div.sk-estimator input.sk-toggleable__control:checked~label.sk-toggleable__label {background-color: #d4ebff;}#sk-container-id-1 div.sk-label input.sk-toggleable__control:checked~label.sk-toggleable__label {background-color: #d4ebff;}#sk-container-id-1 input.sk-hidden--visually {border: 0;clip: rect(1px 1px 1px 1px);clip: rect(1px, 1px, 1px, 1px);height: 1px;margin: -1px;overflow: hidden;padding: 0;position: absolute;width: 1px;}#sk-container-id-1 div.sk-estimator {font-family: monospace;background-color: #f0f8ff;border: 1px dotted black;border-radius: 0.25em;box-sizing: border-box;margin-bottom: 0.5em;}#sk-container-id-1 div.sk-estimator:hover {background-color: #d4ebff;}#sk-container-id-1 div.sk-parallel-item::after {content: \"\";width: 100%;border-bottom: 1px solid gray;flex-grow: 1;}#sk-container-id-1 div.sk-label:hover label.sk-toggleable__label {background-color: #d4ebff;}#sk-container-id-1 div.sk-serial::before {content: \"\";position: absolute;border-left: 1px solid gray;box-sizing: border-box;top: 0;bottom: 0;left: 50%;z-index: 0;}#sk-container-id-1 div.sk-serial {display: flex;flex-direction: column;align-items: center;background-color: white;padding-right: 0.2em;padding-left: 0.2em;position: relative;}#sk-container-id-1 div.sk-item {position: relative;z-index: 1;}#sk-container-id-1 div.sk-parallel {display: flex;align-items: stretch;justify-content: center;background-color: white;position: relative;}#sk-container-id-1 div.sk-item::before, #sk-container-id-1 div.sk-parallel-item::before {content: \"\";position: absolute;border-left: 1px solid gray;box-sizing: border-box;top: 0;bottom: 0;left: 50%;z-index: -1;}#sk-container-id-1 div.sk-parallel-item {display: flex;flex-direction: column;z-index: 1;position: relative;background-color: white;}#sk-container-id-1 div.sk-parallel-item:first-child::after {align-self: flex-end;width: 50%;}#sk-container-id-1 div.sk-parallel-item:last-child::after {align-self: flex-start;width: 50%;}#sk-container-id-1 div.sk-parallel-item:only-child::after {width: 0;}#sk-container-id-1 div.sk-dashed-wrapped {border: 1px dashed gray;margin: 0 0.4em 0.5em 0.4em;box-sizing: border-box;padding-bottom: 0.4em;background-color: white;}#sk-container-id-1 div.sk-label label {font-family: monospace;font-weight: bold;display: inline-block;line-height: 1.2em;}#sk-container-id-1 div.sk-label-container {text-align: center;}#sk-container-id-1 div.sk-container {/* jupyter's `normalize.less` sets `[hidden] { display: none; }` but bootstrap.min.css set `[hidden] { display: none !important; }` so we also need the `!important` here to be able to override the default hidden behavior on the sphinx rendered scikit-learn.org. See: https://github.com/scikit-learn/scikit-learn/issues/21755 */display: inline-block !important;position: relative;}#sk-container-id-1 div.sk-text-repr-fallback {display: none;}</style><div id=\"sk-container-id-1\" class=\"sk-top-container\"><div class=\"sk-text-repr-fallback\"><pre>Lasso()</pre><b>In a Jupyter environment, please rerun this cell to show the HTML representation or trust the notebook. <br />On GitHub, the HTML representation is unable to render, please try loading this page with nbviewer.org.</b></div><div class=\"sk-container\" hidden><div class=\"sk-item\"><div class=\"sk-estimator sk-toggleable\"><input class=\"sk-toggleable__control sk-hidden--visually\" id=\"sk-estimator-id-1\" type=\"checkbox\" checked><label for=\"sk-estimator-id-1\" class=\"sk-toggleable__label sk-toggleable__label-arrow\">Lasso</label><div class=\"sk-toggleable__content\"><pre>Lasso()</pre></div></div></div></div></div>"
            ]
          },
          "metadata": {},
          "execution_count": 22
        }
      ],
      "source": [
        "# Fit model\n",
        "rg_reg = Lasso()\n",
        "rg_reg.fit(X_train, y_train)"
      ]
    },
    {
      "cell_type": "code",
      "execution_count": 23,
      "id": "71c90cb7",
      "metadata": {
        "colab": {
          "base_uri": "https://localhost:8080/"
        },
        "id": "71c90cb7",
        "outputId": "5f47fa1f-58df-4f9e-be30-50a595e16f02"
      },
      "outputs": [
        {
          "output_type": "execute_result",
          "data": {
            "text/plain": [
              "0.362"
            ]
          },
          "metadata": {},
          "execution_count": 23
        }
      ],
      "source": [
        "# Evaluate model performance\n",
        "rg_reg_score = rg_reg.score(X_test, y_test)\n",
        "np.round(rg_reg_score,3)"
      ]
    },
    {
      "cell_type": "code",
      "execution_count": 24,
      "id": "2c5dea51",
      "metadata": {
        "colab": {
          "base_uri": "https://localhost:8080/"
        },
        "id": "2c5dea51",
        "outputId": "86c7a0ad-6cc2-4f84-dd39-53259593e115"
      },
      "outputs": [
        {
          "output_type": "execute_result",
          "data": {
            "text/plain": [
              "array([  0.   ,  -0.   , 443.703,  51.601,   0.   ,   0.   ,  -0.   ,\n",
              "         0.   , 201.966,   0.   ])"
            ]
          },
          "metadata": {},
          "execution_count": 24
        }
      ],
      "source": [
        "# Interpret model coefficients and intercept\n",
        "np.round(rg_reg.coef_,3)"
      ]
    },
    {
      "cell_type": "code",
      "source": [
        "np.round(rg_reg.intercept_,3)"
      ],
      "metadata": {
        "colab": {
          "base_uri": "https://localhost:8080/"
        },
        "id": "UThjsEbIJTmo",
        "outputId": "4d1fb45e-7d59-49c7-ebea-00131a2c367a"
      },
      "id": "UThjsEbIJTmo",
      "execution_count": 25,
      "outputs": [
        {
          "output_type": "execute_result",
          "data": {
            "text/plain": [
              "152.166"
            ]
          },
          "metadata": {},
          "execution_count": 25
        }
      ]
    },
    {
      "cell_type": "markdown",
      "id": "c950962e",
      "metadata": {
        "id": "c950962e"
      },
      "source": [
        "### Your task: compare the linear/ridge/lasso regression models\n",
        "- write down your code to create and display the given dataframe"
      ]
    },
    {
      "cell_type": "code",
      "execution_count": 26,
      "id": "92e90c64",
      "metadata": {
        "colab": {
          "base_uri": "https://localhost:8080/",
          "height": 425
        },
        "id": "92e90c64",
        "outputId": "5940a2fc-e713-4c28-fc14-dbba4a5e9676"
      },
      "outputs": [
        {
          "output_type": "display_data",
          "data": {
            "text/plain": [
              "            Linear    Ridge    Lasso\n",
              "age         29.254   45.054    0.000\n",
              "sex       -261.706  -71.947   -0.000\n",
              "bmi        546.300  280.716  443.703\n",
              "bp         388.398  195.213   51.601\n",
              "s1        -901.960   -2.229    0.000\n",
              "s2         506.763  -17.541    0.000\n",
              "s3         121.154 -148.689   -0.000\n",
              "s4         288.035  120.467    0.000\n",
              "s5         659.269  198.614  201.966\n",
              "s6          41.377  106.935    0.000\n",
              "Intercept  151.008  151.867  152.166\n",
              "Score        0.477    0.423    0.362"
            ],
            "text/html": [
              "\n",
              "  <div id=\"df-ac8754e3-0802-458d-a3d8-38c74072f4eb\" class=\"colab-df-container\">\n",
              "    <div>\n",
              "<style scoped>\n",
              "    .dataframe tbody tr th:only-of-type {\n",
              "        vertical-align: middle;\n",
              "    }\n",
              "\n",
              "    .dataframe tbody tr th {\n",
              "        vertical-align: top;\n",
              "    }\n",
              "\n",
              "    .dataframe thead th {\n",
              "        text-align: right;\n",
              "    }\n",
              "</style>\n",
              "<table border=\"1\" class=\"dataframe\">\n",
              "  <thead>\n",
              "    <tr style=\"text-align: right;\">\n",
              "      <th></th>\n",
              "      <th>Linear</th>\n",
              "      <th>Ridge</th>\n",
              "      <th>Lasso</th>\n",
              "    </tr>\n",
              "  </thead>\n",
              "  <tbody>\n",
              "    <tr>\n",
              "      <th>age</th>\n",
              "      <td>29.254</td>\n",
              "      <td>45.054</td>\n",
              "      <td>0.000</td>\n",
              "    </tr>\n",
              "    <tr>\n",
              "      <th>sex</th>\n",
              "      <td>-261.706</td>\n",
              "      <td>-71.947</td>\n",
              "      <td>-0.000</td>\n",
              "    </tr>\n",
              "    <tr>\n",
              "      <th>bmi</th>\n",
              "      <td>546.300</td>\n",
              "      <td>280.716</td>\n",
              "      <td>443.703</td>\n",
              "    </tr>\n",
              "    <tr>\n",
              "      <th>bp</th>\n",
              "      <td>388.398</td>\n",
              "      <td>195.213</td>\n",
              "      <td>51.601</td>\n",
              "    </tr>\n",
              "    <tr>\n",
              "      <th>s1</th>\n",
              "      <td>-901.960</td>\n",
              "      <td>-2.229</td>\n",
              "      <td>0.000</td>\n",
              "    </tr>\n",
              "    <tr>\n",
              "      <th>s2</th>\n",
              "      <td>506.763</td>\n",
              "      <td>-17.541</td>\n",
              "      <td>0.000</td>\n",
              "    </tr>\n",
              "    <tr>\n",
              "      <th>s3</th>\n",
              "      <td>121.154</td>\n",
              "      <td>-148.689</td>\n",
              "      <td>-0.000</td>\n",
              "    </tr>\n",
              "    <tr>\n",
              "      <th>s4</th>\n",
              "      <td>288.035</td>\n",
              "      <td>120.467</td>\n",
              "      <td>0.000</td>\n",
              "    </tr>\n",
              "    <tr>\n",
              "      <th>s5</th>\n",
              "      <td>659.269</td>\n",
              "      <td>198.614</td>\n",
              "      <td>201.966</td>\n",
              "    </tr>\n",
              "    <tr>\n",
              "      <th>s6</th>\n",
              "      <td>41.377</td>\n",
              "      <td>106.935</td>\n",
              "      <td>0.000</td>\n",
              "    </tr>\n",
              "    <tr>\n",
              "      <th>Intercept</th>\n",
              "      <td>151.008</td>\n",
              "      <td>151.867</td>\n",
              "      <td>152.166</td>\n",
              "    </tr>\n",
              "    <tr>\n",
              "      <th>Score</th>\n",
              "      <td>0.477</td>\n",
              "      <td>0.423</td>\n",
              "      <td>0.362</td>\n",
              "    </tr>\n",
              "  </tbody>\n",
              "</table>\n",
              "</div>\n",
              "    <div class=\"colab-df-buttons\">\n",
              "\n",
              "  <div class=\"colab-df-container\">\n",
              "    <button class=\"colab-df-convert\" onclick=\"convertToInteractive('df-ac8754e3-0802-458d-a3d8-38c74072f4eb')\"\n",
              "            title=\"Convert this dataframe to an interactive table.\"\n",
              "            style=\"display:none;\">\n",
              "\n",
              "  <svg xmlns=\"http://www.w3.org/2000/svg\" height=\"24px\" viewBox=\"0 -960 960 960\">\n",
              "    <path d=\"M120-120v-720h720v720H120Zm60-500h600v-160H180v160Zm220 220h160v-160H400v160Zm0 220h160v-160H400v160ZM180-400h160v-160H180v160Zm440 0h160v-160H620v160ZM180-180h160v-160H180v160Zm440 0h160v-160H620v160Z\"/>\n",
              "  </svg>\n",
              "    </button>\n",
              "\n",
              "  <style>\n",
              "    .colab-df-container {\n",
              "      display:flex;\n",
              "      gap: 12px;\n",
              "    }\n",
              "\n",
              "    .colab-df-convert {\n",
              "      background-color: #E8F0FE;\n",
              "      border: none;\n",
              "      border-radius: 50%;\n",
              "      cursor: pointer;\n",
              "      display: none;\n",
              "      fill: #1967D2;\n",
              "      height: 32px;\n",
              "      padding: 0 0 0 0;\n",
              "      width: 32px;\n",
              "    }\n",
              "\n",
              "    .colab-df-convert:hover {\n",
              "      background-color: #E2EBFA;\n",
              "      box-shadow: 0px 1px 2px rgba(60, 64, 67, 0.3), 0px 1px 3px 1px rgba(60, 64, 67, 0.15);\n",
              "      fill: #174EA6;\n",
              "    }\n",
              "\n",
              "    .colab-df-buttons div {\n",
              "      margin-bottom: 4px;\n",
              "    }\n",
              "\n",
              "    [theme=dark] .colab-df-convert {\n",
              "      background-color: #3B4455;\n",
              "      fill: #D2E3FC;\n",
              "    }\n",
              "\n",
              "    [theme=dark] .colab-df-convert:hover {\n",
              "      background-color: #434B5C;\n",
              "      box-shadow: 0px 1px 3px 1px rgba(0, 0, 0, 0.15);\n",
              "      filter: drop-shadow(0px 1px 2px rgba(0, 0, 0, 0.3));\n",
              "      fill: #FFFFFF;\n",
              "    }\n",
              "  </style>\n",
              "\n",
              "    <script>\n",
              "      const buttonEl =\n",
              "        document.querySelector('#df-ac8754e3-0802-458d-a3d8-38c74072f4eb button.colab-df-convert');\n",
              "      buttonEl.style.display =\n",
              "        google.colab.kernel.accessAllowed ? 'block' : 'none';\n",
              "\n",
              "      async function convertToInteractive(key) {\n",
              "        const element = document.querySelector('#df-ac8754e3-0802-458d-a3d8-38c74072f4eb');\n",
              "        const dataTable =\n",
              "          await google.colab.kernel.invokeFunction('convertToInteractive',\n",
              "                                                    [key], {});\n",
              "        if (!dataTable) return;\n",
              "\n",
              "        const docLinkHtml = 'Like what you see? Visit the ' +\n",
              "          '<a target=\"_blank\" href=https://colab.research.google.com/notebooks/data_table.ipynb>data table notebook</a>'\n",
              "          + ' to learn more about interactive tables.';\n",
              "        element.innerHTML = '';\n",
              "        dataTable['output_type'] = 'display_data';\n",
              "        await google.colab.output.renderOutput(dataTable, element);\n",
              "        const docLink = document.createElement('div');\n",
              "        docLink.innerHTML = docLinkHtml;\n",
              "        element.appendChild(docLink);\n",
              "      }\n",
              "    </script>\n",
              "  </div>\n",
              "\n",
              "\n",
              "<div id=\"df-eea3b8ae-340a-424a-b493-b678257b81d4\">\n",
              "  <button class=\"colab-df-quickchart\" onclick=\"quickchart('df-eea3b8ae-340a-424a-b493-b678257b81d4')\"\n",
              "            title=\"Suggest charts\"\n",
              "            style=\"display:none;\">\n",
              "\n",
              "<svg xmlns=\"http://www.w3.org/2000/svg\" height=\"24px\"viewBox=\"0 0 24 24\"\n",
              "     width=\"24px\">\n",
              "    <g>\n",
              "        <path d=\"M19 3H5c-1.1 0-2 .9-2 2v14c0 1.1.9 2 2 2h14c1.1 0 2-.9 2-2V5c0-1.1-.9-2-2-2zM9 17H7v-7h2v7zm4 0h-2V7h2v10zm4 0h-2v-4h2v4z\"/>\n",
              "    </g>\n",
              "</svg>\n",
              "  </button>\n",
              "\n",
              "<style>\n",
              "  .colab-df-quickchart {\n",
              "      --bg-color: #E8F0FE;\n",
              "      --fill-color: #1967D2;\n",
              "      --hover-bg-color: #E2EBFA;\n",
              "      --hover-fill-color: #174EA6;\n",
              "      --disabled-fill-color: #AAA;\n",
              "      --disabled-bg-color: #DDD;\n",
              "  }\n",
              "\n",
              "  [theme=dark] .colab-df-quickchart {\n",
              "      --bg-color: #3B4455;\n",
              "      --fill-color: #D2E3FC;\n",
              "      --hover-bg-color: #434B5C;\n",
              "      --hover-fill-color: #FFFFFF;\n",
              "      --disabled-bg-color: #3B4455;\n",
              "      --disabled-fill-color: #666;\n",
              "  }\n",
              "\n",
              "  .colab-df-quickchart {\n",
              "    background-color: var(--bg-color);\n",
              "    border: none;\n",
              "    border-radius: 50%;\n",
              "    cursor: pointer;\n",
              "    display: none;\n",
              "    fill: var(--fill-color);\n",
              "    height: 32px;\n",
              "    padding: 0;\n",
              "    width: 32px;\n",
              "  }\n",
              "\n",
              "  .colab-df-quickchart:hover {\n",
              "    background-color: var(--hover-bg-color);\n",
              "    box-shadow: 0 1px 2px rgba(60, 64, 67, 0.3), 0 1px 3px 1px rgba(60, 64, 67, 0.15);\n",
              "    fill: var(--button-hover-fill-color);\n",
              "  }\n",
              "\n",
              "  .colab-df-quickchart-complete:disabled,\n",
              "  .colab-df-quickchart-complete:disabled:hover {\n",
              "    background-color: var(--disabled-bg-color);\n",
              "    fill: var(--disabled-fill-color);\n",
              "    box-shadow: none;\n",
              "  }\n",
              "\n",
              "  .colab-df-spinner {\n",
              "    border: 2px solid var(--fill-color);\n",
              "    border-color: transparent;\n",
              "    border-bottom-color: var(--fill-color);\n",
              "    animation:\n",
              "      spin 1s steps(1) infinite;\n",
              "  }\n",
              "\n",
              "  @keyframes spin {\n",
              "    0% {\n",
              "      border-color: transparent;\n",
              "      border-bottom-color: var(--fill-color);\n",
              "      border-left-color: var(--fill-color);\n",
              "    }\n",
              "    20% {\n",
              "      border-color: transparent;\n",
              "      border-left-color: var(--fill-color);\n",
              "      border-top-color: var(--fill-color);\n",
              "    }\n",
              "    30% {\n",
              "      border-color: transparent;\n",
              "      border-left-color: var(--fill-color);\n",
              "      border-top-color: var(--fill-color);\n",
              "      border-right-color: var(--fill-color);\n",
              "    }\n",
              "    40% {\n",
              "      border-color: transparent;\n",
              "      border-right-color: var(--fill-color);\n",
              "      border-top-color: var(--fill-color);\n",
              "    }\n",
              "    60% {\n",
              "      border-color: transparent;\n",
              "      border-right-color: var(--fill-color);\n",
              "    }\n",
              "    80% {\n",
              "      border-color: transparent;\n",
              "      border-right-color: var(--fill-color);\n",
              "      border-bottom-color: var(--fill-color);\n",
              "    }\n",
              "    90% {\n",
              "      border-color: transparent;\n",
              "      border-bottom-color: var(--fill-color);\n",
              "    }\n",
              "  }\n",
              "</style>\n",
              "\n",
              "  <script>\n",
              "    async function quickchart(key) {\n",
              "      const quickchartButtonEl =\n",
              "        document.querySelector('#' + key + ' button');\n",
              "      quickchartButtonEl.disabled = true;  // To prevent multiple clicks.\n",
              "      quickchartButtonEl.classList.add('colab-df-spinner');\n",
              "      try {\n",
              "        const charts = await google.colab.kernel.invokeFunction(\n",
              "            'suggestCharts', [key], {});\n",
              "      } catch (error) {\n",
              "        console.error('Error during call to suggestCharts:', error);\n",
              "      }\n",
              "      quickchartButtonEl.classList.remove('colab-df-spinner');\n",
              "      quickchartButtonEl.classList.add('colab-df-quickchart-complete');\n",
              "    }\n",
              "    (() => {\n",
              "      let quickchartButtonEl =\n",
              "        document.querySelector('#df-eea3b8ae-340a-424a-b493-b678257b81d4 button');\n",
              "      quickchartButtonEl.style.display =\n",
              "        google.colab.kernel.accessAllowed ? 'block' : 'none';\n",
              "    })();\n",
              "  </script>\n",
              "</div>\n",
              "    </div>\n",
              "  </div>\n"
            ]
          },
          "metadata": {}
        }
      ],
      "source": [
        "# hint: the following dataframe shows the expected way to organize and display the information\n",
        "# make sure to:\n",
        "# - round to 3 digits after the decimal point\n",
        "# - rename the column names\n",
        "# - include intercept and score in the last two rows\n",
        "\n",
        "# Initialize the models\n",
        "linear_reg = LinearRegression()\n",
        "ridge_reg = Ridge()\n",
        "lasso_reg = Lasso()\n",
        "\n",
        "# Fit the models\n",
        "linear_reg.fit(X_train, y_train)\n",
        "ridge_reg.fit(X_train, y_train)\n",
        "lasso_reg.fit(X_train, y_train)\n",
        "\n",
        "# Get the coefficients and intercepts\n",
        "linear_coef = np.round(linear_reg.coef_, 3)\n",
        "ridge_coef = np.round(ridge_reg.coef_, 3)\n",
        "lasso_coef = np.round(lasso_reg.coef_, 3)\n",
        "\n",
        "linear_intercept = np.round(linear_reg.intercept_, 3)\n",
        "ridge_intercept = np.round(ridge_reg.intercept_, 3)\n",
        "lasso_intercept = np.round(lasso_reg.intercept_, 3)\n",
        "\n",
        "# Get the scores\n",
        "linear_score = np.round(linear_reg.score(X_test, y_test), 3)\n",
        "ridge_score = np.round(ridge_reg.score(X_test, y_test), 3)\n",
        "lasso_score = np.round(lasso_reg.score(X_test, y_test), 3)\n",
        "\n",
        "# Create a dataframe\n",
        "df = pd.DataFrame({\n",
        "    'Linear': np.append(linear_coef, [linear_intercept, linear_score]),\n",
        "    'Ridge': np.append(ridge_coef, [ridge_intercept, ridge_score]),\n",
        "    'Lasso': np.append(lasso_coef, [lasso_intercept, lasso_score])\n",
        "    })\n",
        "\n",
        "# Rename the rows to match feature names, with the last two being 'Intercept' and 'Score'\n",
        "feature_names = ['age', 'sex', 'bmi', 'bp', 's1', 's2', 's3', 's4', 's5', 's6']\n",
        "df.index = feature_names + ['Intercept', 'Score']\n",
        "\n",
        "# Display the dataframe\n",
        "display(df)"
      ]
    },
    {
      "cell_type": "markdown",
      "id": "a2d7e638",
      "metadata": {
        "id": "a2d7e638"
      },
      "source": [
        "**Your observations and thoughts of comparing the three models**\n",
        "- hint: connect this with what we discussed in the lectures, e.g.\n",
        "    - how does regularization affect coefficients and model performance\n",
        "    - what is the difference between ridge (L2 penalty) and Lasso (L1 penalty)"
      ]
    },
    {
      "cell_type": "markdown",
      "source": [
        "When comparing linear, ridge, and lasso regression models:\n",
        "\n",
        "1. Regularization Impact: Ridge (L2 penalty) and Lasso (L1 penalty) apply regularization to reduce overfitting, with Ridge shrinking coefficients toward zero and Lasso potentially setting some coefficients to exactly zero, thus performing feature selection.\n",
        "\n",
        "2. Coefficients Comparison: The linear model tends to have larger coefficients, while ridge and lasso have smaller ones due to their regularization penalties.\n",
        "\n",
        "3. Model Performance: The linear model has the highest R-squared score, suggesting the best fit on the training data. However, this might not translate to better predictive performance on unseen data compared to regularized models.\n",
        "\n",
        "4. Ridge vs. Lasso: Ridge regression maintains all features but with reduced coefficients; lasso can eliminate some features entirely by setting their coefficients to zero, which helps in cases where we seek a simpler model or suspect irrelevant features.\n",
        "\n",
        "5. Model Selection: The choice between models depends on the dataset and goals. Lasso is useful for feature reduction and simplicity, ridge for when all features are expected to influence the outcome, and linear regression when the dataset is well-understood and there is low risk of overfitting."
      ],
      "metadata": {
        "id": "ZbPfGSTcOk0W"
      },
      "id": "ZbPfGSTcOk0W"
    },
    {
      "cell_type": "markdown",
      "id": "7cca80a6",
      "metadata": {
        "id": "7cca80a6"
      },
      "source": [
        "## Polynomial regression\n",
        "- Use the diabetes data with the same train and test set to fit several **Polynomial regression** models\n",
        "- documentation: https://scikit-learn.org/stable/modules/generated/sklearn.preprocessing.PolynomialFeatures.html"
      ]
    },
    {
      "cell_type": "markdown",
      "id": "61aaa8fc",
      "metadata": {
        "id": "61aaa8fc"
      },
      "source": [
        "### Fit a polynomail regression model with degree=2"
      ]
    },
    {
      "cell_type": "code",
      "execution_count": 27,
      "id": "5c660e65",
      "metadata": {
        "colab": {
          "base_uri": "https://localhost:8080/"
        },
        "id": "5c660e65",
        "outputId": "da3d91ad-b770-475d-9180-0d87eb5fd0c9"
      },
      "outputs": [
        {
          "output_type": "execute_result",
          "data": {
            "text/plain": [
              "(309, 66)"
            ]
          },
          "metadata": {},
          "execution_count": 27
        }
      ],
      "source": [
        "# generate the new polynomial feature matrix for the training data\n",
        "# \"fit_transform\" on the original training data\n",
        "\n",
        "poly2 = PolynomialFeatures(2)\n",
        "X_train_poly2 = poly2.fit_transform(X_train)\n",
        "X_train_poly2.shape"
      ]
    },
    {
      "cell_type": "code",
      "execution_count": 28,
      "id": "da88debb",
      "metadata": {
        "id": "da88debb",
        "outputId": "a32a14e9-eaf5-49d9-e07d-86f5954022df",
        "colab": {
          "base_uri": "https://localhost:8080/"
        }
      },
      "outputs": [
        {
          "output_type": "execute_result",
          "data": {
            "text/plain": [
              "(133, 66)"
            ]
          },
          "metadata": {},
          "execution_count": 28
        }
      ],
      "source": [
        "# generate the new polynomial feature matrix for the testing data\n",
        "# only do \"transform\" on the original testing feature matrix\n",
        "# why do we do \"fit_transform\" on training data but only do \"transform\" on testing data?\n",
        "\n",
        "X_test_poly2 = poly2.transform(X_test)\n",
        "X_test_poly2.shape"
      ]
    },
    {
      "cell_type": "code",
      "execution_count": 29,
      "id": "de488def",
      "metadata": {
        "id": "de488def",
        "outputId": "89b088d1-b667-4674-da1e-ac174f92e2fd",
        "colab": {
          "base_uri": "https://localhost:8080/"
        }
      },
      "outputs": [
        {
          "output_type": "execute_result",
          "data": {
            "text/plain": [
              "0.413"
            ]
          },
          "metadata": {},
          "execution_count": 29
        }
      ],
      "source": [
        "# fit a regression model with the newly generated polynomial feature matrix\n",
        "# evaluate model performance\n",
        "\n",
        "poly2_reg = LinearRegression()\n",
        "poly2_reg.fit(X_train_poly2, y_train)\n",
        "poly2_score = poly2_reg.score(X_test_poly2, y_test)\n",
        "np.round(poly2_score,3)"
      ]
    },
    {
      "cell_type": "markdown",
      "id": "72079596",
      "metadata": {
        "id": "72079596"
      },
      "source": [
        "### Your task: fit a polynomail regression model with degree=1\n",
        "- Follow the previous steps of fitting a polynomial regression model with degree=2 to **fit a new model with degree=1** (name it as $poly1\\_reg$)"
      ]
    },
    {
      "cell_type": "code",
      "source": [
        "# Generate the new polynomial feature matrix with degree=1 for the training data\n",
        "poly1 = PolynomialFeatures(1)  # This will actually just return the original features\n",
        "X_train_poly1 = poly1.fit_transform(X_train)\n",
        "\n",
        "# Generate the new polynomial feature matrix for the testing data\n",
        "X_test_poly1 = poly1.transform(X_test)\n",
        "\n",
        "# Fit a regression model with the newly generated polynomial feature matrix\n",
        "poly1_reg = LinearRegression()\n",
        "poly1_reg.fit(X_train_poly1, y_train)\n",
        "\n",
        "# Evaluate model performance\n",
        "poly1_score = poly1_reg.score(X_test_poly1, y_test)\n",
        "np.round(poly1_score,3)"
      ],
      "metadata": {
        "colab": {
          "base_uri": "https://localhost:8080/"
        },
        "id": "wrbFPzhBOw5R",
        "outputId": "4047f117-3936-47fb-a93f-faf54bb76756"
      },
      "id": "wrbFPzhBOw5R",
      "execution_count": 30,
      "outputs": [
        {
          "output_type": "execute_result",
          "data": {
            "text/plain": [
              "0.477"
            ]
          },
          "metadata": {},
          "execution_count": 30
        }
      ]
    },
    {
      "cell_type": "markdown",
      "id": "ae2b9642",
      "metadata": {
        "id": "ae2b9642"
      },
      "source": [
        "### Your task: fit a polynomail regression model with degree=3\n",
        "- Follow the previous steps of fitting a polynomial regression model with degree=2 to **fit a new model with degree=3** (name it as $poly3\\_reg$)"
      ]
    },
    {
      "cell_type": "code",
      "execution_count": 31,
      "id": "8760be74",
      "metadata": {
        "colab": {
          "base_uri": "https://localhost:8080/"
        },
        "id": "8760be74",
        "outputId": "927e4353-1403-4ec5-d2a2-348e08a6fc66"
      },
      "outputs": [
        {
          "output_type": "execute_result",
          "data": {
            "text/plain": [
              "-92.118"
            ]
          },
          "metadata": {},
          "execution_count": 31
        }
      ],
      "source": [
        "# Generate the new polynomial feature matrix with degree=3 for the training data\n",
        "poly3 = PolynomialFeatures(3)\n",
        "X_train_poly3 = poly3.fit_transform(X_train)\n",
        "\n",
        "# Generate the new polynomial feature matrix for the testing data\n",
        "X_test_poly3 = poly3.transform(X_test)\n",
        "\n",
        "# Fit a regression model with the newly generated polynomial feature matrix\n",
        "poly3_reg = LinearRegression()\n",
        "poly3_reg.fit(X_train_poly3, y_train)\n",
        "\n",
        "# Evaluate model performance\n",
        "poly3_score = poly3_reg.score(X_test_poly3, y_test)\n",
        "np.round(poly3_score,3)"
      ]
    },
    {
      "cell_type": "markdown",
      "id": "efc159ab",
      "metadata": {
        "id": "efc159ab"
      },
      "source": [
        "### Your task: compare the polynomial regression models with degree=1/2/3 and the original linear regression model\n",
        "- please write code to create and display the given data frame"
      ]
    },
    {
      "cell_type": "code",
      "execution_count": 32,
      "id": "44f9e382",
      "metadata": {
        "colab": {
          "base_uri": "https://localhost:8080/",
          "height": 112
        },
        "id": "44f9e382",
        "outputId": "516bca9c-b5f3-4ab0-85a7-8aa078b47742"
      },
      "outputs": [
        {
          "output_type": "display_data",
          "data": {
            "text/plain": [
              "            linear  poly_d1  poly_d2       poly_d3\n",
              "Intercept  151.008  151.008 -360.919  2.371637e+16\n",
              "Score        0.477    0.477    0.413 -9.211800e+01"
            ],
            "text/html": [
              "\n",
              "  <div id=\"df-c35e5aa4-5b71-44e1-9632-44d5c4ee866e\" class=\"colab-df-container\">\n",
              "    <div>\n",
              "<style scoped>\n",
              "    .dataframe tbody tr th:only-of-type {\n",
              "        vertical-align: middle;\n",
              "    }\n",
              "\n",
              "    .dataframe tbody tr th {\n",
              "        vertical-align: top;\n",
              "    }\n",
              "\n",
              "    .dataframe thead th {\n",
              "        text-align: right;\n",
              "    }\n",
              "</style>\n",
              "<table border=\"1\" class=\"dataframe\">\n",
              "  <thead>\n",
              "    <tr style=\"text-align: right;\">\n",
              "      <th></th>\n",
              "      <th>linear</th>\n",
              "      <th>poly_d1</th>\n",
              "      <th>poly_d2</th>\n",
              "      <th>poly_d3</th>\n",
              "    </tr>\n",
              "  </thead>\n",
              "  <tbody>\n",
              "    <tr>\n",
              "      <th>Intercept</th>\n",
              "      <td>151.008</td>\n",
              "      <td>151.008</td>\n",
              "      <td>-360.919</td>\n",
              "      <td>2.371637e+16</td>\n",
              "    </tr>\n",
              "    <tr>\n",
              "      <th>Score</th>\n",
              "      <td>0.477</td>\n",
              "      <td>0.477</td>\n",
              "      <td>0.413</td>\n",
              "      <td>-9.211800e+01</td>\n",
              "    </tr>\n",
              "  </tbody>\n",
              "</table>\n",
              "</div>\n",
              "    <div class=\"colab-df-buttons\">\n",
              "\n",
              "  <div class=\"colab-df-container\">\n",
              "    <button class=\"colab-df-convert\" onclick=\"convertToInteractive('df-c35e5aa4-5b71-44e1-9632-44d5c4ee866e')\"\n",
              "            title=\"Convert this dataframe to an interactive table.\"\n",
              "            style=\"display:none;\">\n",
              "\n",
              "  <svg xmlns=\"http://www.w3.org/2000/svg\" height=\"24px\" viewBox=\"0 -960 960 960\">\n",
              "    <path d=\"M120-120v-720h720v720H120Zm60-500h600v-160H180v160Zm220 220h160v-160H400v160Zm0 220h160v-160H400v160ZM180-400h160v-160H180v160Zm440 0h160v-160H620v160ZM180-180h160v-160H180v160Zm440 0h160v-160H620v160Z\"/>\n",
              "  </svg>\n",
              "    </button>\n",
              "\n",
              "  <style>\n",
              "    .colab-df-container {\n",
              "      display:flex;\n",
              "      gap: 12px;\n",
              "    }\n",
              "\n",
              "    .colab-df-convert {\n",
              "      background-color: #E8F0FE;\n",
              "      border: none;\n",
              "      border-radius: 50%;\n",
              "      cursor: pointer;\n",
              "      display: none;\n",
              "      fill: #1967D2;\n",
              "      height: 32px;\n",
              "      padding: 0 0 0 0;\n",
              "      width: 32px;\n",
              "    }\n",
              "\n",
              "    .colab-df-convert:hover {\n",
              "      background-color: #E2EBFA;\n",
              "      box-shadow: 0px 1px 2px rgba(60, 64, 67, 0.3), 0px 1px 3px 1px rgba(60, 64, 67, 0.15);\n",
              "      fill: #174EA6;\n",
              "    }\n",
              "\n",
              "    .colab-df-buttons div {\n",
              "      margin-bottom: 4px;\n",
              "    }\n",
              "\n",
              "    [theme=dark] .colab-df-convert {\n",
              "      background-color: #3B4455;\n",
              "      fill: #D2E3FC;\n",
              "    }\n",
              "\n",
              "    [theme=dark] .colab-df-convert:hover {\n",
              "      background-color: #434B5C;\n",
              "      box-shadow: 0px 1px 3px 1px rgba(0, 0, 0, 0.15);\n",
              "      filter: drop-shadow(0px 1px 2px rgba(0, 0, 0, 0.3));\n",
              "      fill: #FFFFFF;\n",
              "    }\n",
              "  </style>\n",
              "\n",
              "    <script>\n",
              "      const buttonEl =\n",
              "        document.querySelector('#df-c35e5aa4-5b71-44e1-9632-44d5c4ee866e button.colab-df-convert');\n",
              "      buttonEl.style.display =\n",
              "        google.colab.kernel.accessAllowed ? 'block' : 'none';\n",
              "\n",
              "      async function convertToInteractive(key) {\n",
              "        const element = document.querySelector('#df-c35e5aa4-5b71-44e1-9632-44d5c4ee866e');\n",
              "        const dataTable =\n",
              "          await google.colab.kernel.invokeFunction('convertToInteractive',\n",
              "                                                    [key], {});\n",
              "        if (!dataTable) return;\n",
              "\n",
              "        const docLinkHtml = 'Like what you see? Visit the ' +\n",
              "          '<a target=\"_blank\" href=https://colab.research.google.com/notebooks/data_table.ipynb>data table notebook</a>'\n",
              "          + ' to learn more about interactive tables.';\n",
              "        element.innerHTML = '';\n",
              "        dataTable['output_type'] = 'display_data';\n",
              "        await google.colab.output.renderOutput(dataTable, element);\n",
              "        const docLink = document.createElement('div');\n",
              "        docLink.innerHTML = docLinkHtml;\n",
              "        element.appendChild(docLink);\n",
              "      }\n",
              "    </script>\n",
              "  </div>\n",
              "\n",
              "\n",
              "<div id=\"df-e4ab2c96-97b3-4cc8-bd0d-a52ae57d5339\">\n",
              "  <button class=\"colab-df-quickchart\" onclick=\"quickchart('df-e4ab2c96-97b3-4cc8-bd0d-a52ae57d5339')\"\n",
              "            title=\"Suggest charts\"\n",
              "            style=\"display:none;\">\n",
              "\n",
              "<svg xmlns=\"http://www.w3.org/2000/svg\" height=\"24px\"viewBox=\"0 0 24 24\"\n",
              "     width=\"24px\">\n",
              "    <g>\n",
              "        <path d=\"M19 3H5c-1.1 0-2 .9-2 2v14c0 1.1.9 2 2 2h14c1.1 0 2-.9 2-2V5c0-1.1-.9-2-2-2zM9 17H7v-7h2v7zm4 0h-2V7h2v10zm4 0h-2v-4h2v4z\"/>\n",
              "    </g>\n",
              "</svg>\n",
              "  </button>\n",
              "\n",
              "<style>\n",
              "  .colab-df-quickchart {\n",
              "      --bg-color: #E8F0FE;\n",
              "      --fill-color: #1967D2;\n",
              "      --hover-bg-color: #E2EBFA;\n",
              "      --hover-fill-color: #174EA6;\n",
              "      --disabled-fill-color: #AAA;\n",
              "      --disabled-bg-color: #DDD;\n",
              "  }\n",
              "\n",
              "  [theme=dark] .colab-df-quickchart {\n",
              "      --bg-color: #3B4455;\n",
              "      --fill-color: #D2E3FC;\n",
              "      --hover-bg-color: #434B5C;\n",
              "      --hover-fill-color: #FFFFFF;\n",
              "      --disabled-bg-color: #3B4455;\n",
              "      --disabled-fill-color: #666;\n",
              "  }\n",
              "\n",
              "  .colab-df-quickchart {\n",
              "    background-color: var(--bg-color);\n",
              "    border: none;\n",
              "    border-radius: 50%;\n",
              "    cursor: pointer;\n",
              "    display: none;\n",
              "    fill: var(--fill-color);\n",
              "    height: 32px;\n",
              "    padding: 0;\n",
              "    width: 32px;\n",
              "  }\n",
              "\n",
              "  .colab-df-quickchart:hover {\n",
              "    background-color: var(--hover-bg-color);\n",
              "    box-shadow: 0 1px 2px rgba(60, 64, 67, 0.3), 0 1px 3px 1px rgba(60, 64, 67, 0.15);\n",
              "    fill: var(--button-hover-fill-color);\n",
              "  }\n",
              "\n",
              "  .colab-df-quickchart-complete:disabled,\n",
              "  .colab-df-quickchart-complete:disabled:hover {\n",
              "    background-color: var(--disabled-bg-color);\n",
              "    fill: var(--disabled-fill-color);\n",
              "    box-shadow: none;\n",
              "  }\n",
              "\n",
              "  .colab-df-spinner {\n",
              "    border: 2px solid var(--fill-color);\n",
              "    border-color: transparent;\n",
              "    border-bottom-color: var(--fill-color);\n",
              "    animation:\n",
              "      spin 1s steps(1) infinite;\n",
              "  }\n",
              "\n",
              "  @keyframes spin {\n",
              "    0% {\n",
              "      border-color: transparent;\n",
              "      border-bottom-color: var(--fill-color);\n",
              "      border-left-color: var(--fill-color);\n",
              "    }\n",
              "    20% {\n",
              "      border-color: transparent;\n",
              "      border-left-color: var(--fill-color);\n",
              "      border-top-color: var(--fill-color);\n",
              "    }\n",
              "    30% {\n",
              "      border-color: transparent;\n",
              "      border-left-color: var(--fill-color);\n",
              "      border-top-color: var(--fill-color);\n",
              "      border-right-color: var(--fill-color);\n",
              "    }\n",
              "    40% {\n",
              "      border-color: transparent;\n",
              "      border-right-color: var(--fill-color);\n",
              "      border-top-color: var(--fill-color);\n",
              "    }\n",
              "    60% {\n",
              "      border-color: transparent;\n",
              "      border-right-color: var(--fill-color);\n",
              "    }\n",
              "    80% {\n",
              "      border-color: transparent;\n",
              "      border-right-color: var(--fill-color);\n",
              "      border-bottom-color: var(--fill-color);\n",
              "    }\n",
              "    90% {\n",
              "      border-color: transparent;\n",
              "      border-bottom-color: var(--fill-color);\n",
              "    }\n",
              "  }\n",
              "</style>\n",
              "\n",
              "  <script>\n",
              "    async function quickchart(key) {\n",
              "      const quickchartButtonEl =\n",
              "        document.querySelector('#' + key + ' button');\n",
              "      quickchartButtonEl.disabled = true;  // To prevent multiple clicks.\n",
              "      quickchartButtonEl.classList.add('colab-df-spinner');\n",
              "      try {\n",
              "        const charts = await google.colab.kernel.invokeFunction(\n",
              "            'suggestCharts', [key], {});\n",
              "      } catch (error) {\n",
              "        console.error('Error during call to suggestCharts:', error);\n",
              "      }\n",
              "      quickchartButtonEl.classList.remove('colab-df-spinner');\n",
              "      quickchartButtonEl.classList.add('colab-df-quickchart-complete');\n",
              "    }\n",
              "    (() => {\n",
              "      let quickchartButtonEl =\n",
              "        document.querySelector('#df-e4ab2c96-97b3-4cc8-bd0d-a52ae57d5339 button');\n",
              "      quickchartButtonEl.style.display =\n",
              "        google.colab.kernel.accessAllowed ? 'block' : 'none';\n",
              "    })();\n",
              "  </script>\n",
              "</div>\n",
              "    </div>\n",
              "  </div>\n"
            ]
          },
          "metadata": {}
        }
      ],
      "source": [
        "# Initialize a DataFrame to store the results\n",
        "comparison_df = pd.DataFrame(index=['Intercept', 'Score'],\n",
        "                             columns=['linear', 'poly_d1', 'poly_d2', 'poly_d3'])\n",
        "\n",
        "# Fit the original linear regression model (degree 1)\n",
        "linear_reg = LinearRegression()\n",
        "linear_reg.fit(X_train, y_train)\n",
        "comparison_df.loc['Intercept', 'linear'] = linear_reg.intercept_\n",
        "comparison_df.loc['Score', 'linear'] = linear_reg.score(X_test, y_test)\n",
        "\n",
        "# Create and fit polynomial models for degrees 1, 2, and 3\n",
        "for degree in [1, 2, 3]:\n",
        "    poly = PolynomialFeatures(degree)\n",
        "    X_train_poly = poly.fit_transform(X_train)\n",
        "    X_test_poly = poly.transform(X_test)\n",
        "\n",
        "    poly_reg = LinearRegression()\n",
        "    poly_reg.fit(X_train_poly, y_train)\n",
        "\n",
        "    # Store the results\n",
        "    comparison_df.loc['Intercept', f'poly_d{degree}'] = poly_reg.intercept_\n",
        "    comparison_df.loc['Score', f'poly_d{degree}'] = poly_reg.score(X_test_poly, y_test)\n",
        "\n",
        "# Round the results for better readability\n",
        "comparison_df = comparison_df.astype(float).round(decimals=3)\n",
        "\n",
        "# Display the DataFrame\n",
        "display(comparison_df)"
      ]
    },
    {
      "cell_type": "markdown",
      "id": "051b17b2",
      "metadata": {
        "id": "051b17b2"
      },
      "source": [
        "### Your task: observations and thoughts of comparing the above four models\n",
        "- hint: connect this with overfitting/underfitting we discussed in class"
      ]
    },
    {
      "cell_type": "markdown",
      "source": [
        "1. The linear and degree-1 polynomial models perform similarly, as expected, and likely represent a good balance between bias and variance, avoiding overfitting and underfitting.\n",
        "2. The degree-2 polynomial model does not improve upon the linear model, potentially indicating that quadratic terms do not capture the complexity of the data.\n",
        "3. The degree-3 polynomial model's negative score indicates overfitting, where the model is too complex and captures noise instead of the underlying data pattern."
      ],
      "metadata": {
        "id": "ux4QVSu2PIvk"
      },
      "id": "ux4QVSu2PIvk"
    },
    {
      "cell_type": "markdown",
      "id": "8e005bd8",
      "metadata": {
        "id": "8e005bd8"
      },
      "source": [
        "### Your task: interpret the model performance wrt the task itself\n",
        "- how does each feature relate with diabetes\n",
        "- which factors contribute positively/negatively/most/least to diabetes\n",
        "- does these statistical correlations make sense from biological perspective?"
      ]
    },
    {
      "cell_type": "markdown",
      "source": [
        "### Q1: Feature Relationship with Diabetes\n",
        "+ Age: Not significant in the lasso model, variably significant in others.\n",
        "+ Sex: Generally insignificant in the lasso model, negative in others.\n",
        "+ BMI: Strongly and positively associated across all models.\n",
        "+ BP: Positively associated in linear and ridge models, less so in lasso.\n",
        "\n",
        "###Q2: Factors Contributing Most to Diabetes\n",
        "+ BMI is the most influential factor.\n",
        "+ S5 is also a significant contributor according to linear and ridge models.\n",
        "\n",
        "###Q3: Biological Sense of Statistical Correlations\n",
        "+ BMI: Yes, higher BMI is a known risk factor for diabetes.\n",
        "+ BP: Yes, there's a known link between high blood pressure and diabetes.\n",
        "+ Age and Sex: Partially. Age is a known factor, but its absence in the lasso model is counterintuitive. Sex's insignificance in the lasso model may not reflect known gender-related risks."
      ],
      "metadata": {
        "id": "9ud8F0qYPNV6"
      },
      "id": "9ud8F0qYPNV6"
    },
    {
      "cell_type": "markdown",
      "id": "3ef82f53",
      "metadata": {
        "id": "3ef82f53"
      },
      "source": [
        "## Linear models for classification: LogisticRegression\n",
        "In this section, we will work on a banknote authentication dataset:\n",
        "- Original data source: https://archive.ics.uci.edu/ml/datasets/banknote+authentication <br>\n",
        "\n",
        "This dataset contains n = 1372 images of genuine and forged banknote-like specimens. Each image is represented by four features extracted from Wavelet Transform tool:\n",
        "    1. variance (continuous)\n",
        "    2. skewness (continuous)\n",
        "    3. curtosis (continuous)\n",
        "    4. entropy of image (continuous)\n",
        "\n",
        "And each image has a binary label of 0/1 indicating whether the banknote is forged or genuine.\n",
        "\n",
        "We will fit several logistic regression models with different parameter settings to analyze this dataset:\n",
        "The steps include:\n",
        "1. Basic data exploration:\n",
        "    > what does the data look like (#samples, #features) <br>\n",
        "    > the feature matrix and description of each feature <br>\n",
        "    > the target values <br>\n",
        "    \n",
        "2. Prepare data for model training and testing <br>\n",
        "\n",
        "3. Fit different logistic regression models (vary by parameter settings) on the training set and evaluate model performance on the testing set <br>\n",
        "\n",
        "4. Compare and understand model performance through interpreting coefficients."
      ]
    },
    {
      "cell_type": "code",
      "execution_count": 33,
      "id": "574468b2",
      "metadata": {
        "id": "574468b2"
      },
      "outputs": [],
      "source": [
        "import pickle\n",
        "import numpy as np\n",
        "import pandas as pd\n",
        "from collections import Counter\n",
        "from sklearn.linear_model import LogisticRegression\n",
        "from sklearn.model_selection import train_test_split\n",
        "import matplotlib.pyplot as plt\n",
        "\n",
        "%matplotlib inline"
      ]
    },
    {
      "cell_type": "code",
      "execution_count": 36,
      "id": "cf817f24",
      "metadata": {
        "id": "cf817f24"
      },
      "outputs": [],
      "source": [
        "# please change to your file path\n",
        "df_data = pickle.load(open('/content/drive/MyDrive/UChi/MACS-30100/in-class notebook/banknote_authentication_dataframe.pickle','rb'))"
      ]
    },
    {
      "cell_type": "code",
      "source": [
        "from google.colab import drive\n",
        "drive.mount('/content/drive')"
      ],
      "metadata": {
        "colab": {
          "base_uri": "https://localhost:8080/"
        },
        "id": "Ul5ifvqHxTsQ",
        "outputId": "e96f9dd8-f6b7-42ed-dae3-dcf41b636708"
      },
      "id": "Ul5ifvqHxTsQ",
      "execution_count": 34,
      "outputs": [
        {
          "output_type": "stream",
          "name": "stdout",
          "text": [
            "Mounted at /content/drive\n"
          ]
        }
      ]
    },
    {
      "cell_type": "markdown",
      "id": "1a442ec9",
      "metadata": {
        "id": "1a442ec9"
      },
      "source": [
        "### Basic dataset exploration"
      ]
    },
    {
      "cell_type": "code",
      "execution_count": 37,
      "id": "a876742b",
      "metadata": {
        "id": "a876742b",
        "outputId": "4b5dc654-334f-44d3-cd38-00681ad0d3fb",
        "colab": {
          "base_uri": "https://localhost:8080/",
          "height": 423
        }
      },
      "outputs": [
        {
          "output_type": "execute_result",
          "data": {
            "text/plain": [
              "      variance  skewness  curtosis  entropy  class\n",
              "0      3.62160   8.66610   -2.8073 -0.44699    0.0\n",
              "1      4.54590   8.16740   -2.4586 -1.46210    0.0\n",
              "2      3.86600  -2.63830    1.9242  0.10645    0.0\n",
              "3      3.45660   9.52280   -4.0112 -3.59440    0.0\n",
              "4      0.32924  -4.45520    4.5718 -0.98880    0.0\n",
              "...        ...       ...       ...      ...    ...\n",
              "1367   0.40614   1.34920   -1.4501 -0.55949    1.0\n",
              "1368  -1.38870  -4.87730    6.4774  0.34179    1.0\n",
              "1369  -3.75030 -13.45860   17.5932 -2.77710    1.0\n",
              "1370  -3.56370  -8.38270   12.3930 -1.28230    1.0\n",
              "1371  -2.54190  -0.65804    2.6842  1.19520    1.0\n",
              "\n",
              "[1372 rows x 5 columns]"
            ],
            "text/html": [
              "\n",
              "  <div id=\"df-a0ec530c-882d-4547-93e3-882f1af42812\" class=\"colab-df-container\">\n",
              "    <div>\n",
              "<style scoped>\n",
              "    .dataframe tbody tr th:only-of-type {\n",
              "        vertical-align: middle;\n",
              "    }\n",
              "\n",
              "    .dataframe tbody tr th {\n",
              "        vertical-align: top;\n",
              "    }\n",
              "\n",
              "    .dataframe thead th {\n",
              "        text-align: right;\n",
              "    }\n",
              "</style>\n",
              "<table border=\"1\" class=\"dataframe\">\n",
              "  <thead>\n",
              "    <tr style=\"text-align: right;\">\n",
              "      <th></th>\n",
              "      <th>variance</th>\n",
              "      <th>skewness</th>\n",
              "      <th>curtosis</th>\n",
              "      <th>entropy</th>\n",
              "      <th>class</th>\n",
              "    </tr>\n",
              "  </thead>\n",
              "  <tbody>\n",
              "    <tr>\n",
              "      <th>0</th>\n",
              "      <td>3.62160</td>\n",
              "      <td>8.66610</td>\n",
              "      <td>-2.8073</td>\n",
              "      <td>-0.44699</td>\n",
              "      <td>0.0</td>\n",
              "    </tr>\n",
              "    <tr>\n",
              "      <th>1</th>\n",
              "      <td>4.54590</td>\n",
              "      <td>8.16740</td>\n",
              "      <td>-2.4586</td>\n",
              "      <td>-1.46210</td>\n",
              "      <td>0.0</td>\n",
              "    </tr>\n",
              "    <tr>\n",
              "      <th>2</th>\n",
              "      <td>3.86600</td>\n",
              "      <td>-2.63830</td>\n",
              "      <td>1.9242</td>\n",
              "      <td>0.10645</td>\n",
              "      <td>0.0</td>\n",
              "    </tr>\n",
              "    <tr>\n",
              "      <th>3</th>\n",
              "      <td>3.45660</td>\n",
              "      <td>9.52280</td>\n",
              "      <td>-4.0112</td>\n",
              "      <td>-3.59440</td>\n",
              "      <td>0.0</td>\n",
              "    </tr>\n",
              "    <tr>\n",
              "      <th>4</th>\n",
              "      <td>0.32924</td>\n",
              "      <td>-4.45520</td>\n",
              "      <td>4.5718</td>\n",
              "      <td>-0.98880</td>\n",
              "      <td>0.0</td>\n",
              "    </tr>\n",
              "    <tr>\n",
              "      <th>...</th>\n",
              "      <td>...</td>\n",
              "      <td>...</td>\n",
              "      <td>...</td>\n",
              "      <td>...</td>\n",
              "      <td>...</td>\n",
              "    </tr>\n",
              "    <tr>\n",
              "      <th>1367</th>\n",
              "      <td>0.40614</td>\n",
              "      <td>1.34920</td>\n",
              "      <td>-1.4501</td>\n",
              "      <td>-0.55949</td>\n",
              "      <td>1.0</td>\n",
              "    </tr>\n",
              "    <tr>\n",
              "      <th>1368</th>\n",
              "      <td>-1.38870</td>\n",
              "      <td>-4.87730</td>\n",
              "      <td>6.4774</td>\n",
              "      <td>0.34179</td>\n",
              "      <td>1.0</td>\n",
              "    </tr>\n",
              "    <tr>\n",
              "      <th>1369</th>\n",
              "      <td>-3.75030</td>\n",
              "      <td>-13.45860</td>\n",
              "      <td>17.5932</td>\n",
              "      <td>-2.77710</td>\n",
              "      <td>1.0</td>\n",
              "    </tr>\n",
              "    <tr>\n",
              "      <th>1370</th>\n",
              "      <td>-3.56370</td>\n",
              "      <td>-8.38270</td>\n",
              "      <td>12.3930</td>\n",
              "      <td>-1.28230</td>\n",
              "      <td>1.0</td>\n",
              "    </tr>\n",
              "    <tr>\n",
              "      <th>1371</th>\n",
              "      <td>-2.54190</td>\n",
              "      <td>-0.65804</td>\n",
              "      <td>2.6842</td>\n",
              "      <td>1.19520</td>\n",
              "      <td>1.0</td>\n",
              "    </tr>\n",
              "  </tbody>\n",
              "</table>\n",
              "<p>1372 rows × 5 columns</p>\n",
              "</div>\n",
              "    <div class=\"colab-df-buttons\">\n",
              "\n",
              "  <div class=\"colab-df-container\">\n",
              "    <button class=\"colab-df-convert\" onclick=\"convertToInteractive('df-a0ec530c-882d-4547-93e3-882f1af42812')\"\n",
              "            title=\"Convert this dataframe to an interactive table.\"\n",
              "            style=\"display:none;\">\n",
              "\n",
              "  <svg xmlns=\"http://www.w3.org/2000/svg\" height=\"24px\" viewBox=\"0 -960 960 960\">\n",
              "    <path d=\"M120-120v-720h720v720H120Zm60-500h600v-160H180v160Zm220 220h160v-160H400v160Zm0 220h160v-160H400v160ZM180-400h160v-160H180v160Zm440 0h160v-160H620v160ZM180-180h160v-160H180v160Zm440 0h160v-160H620v160Z\"/>\n",
              "  </svg>\n",
              "    </button>\n",
              "\n",
              "  <style>\n",
              "    .colab-df-container {\n",
              "      display:flex;\n",
              "      gap: 12px;\n",
              "    }\n",
              "\n",
              "    .colab-df-convert {\n",
              "      background-color: #E8F0FE;\n",
              "      border: none;\n",
              "      border-radius: 50%;\n",
              "      cursor: pointer;\n",
              "      display: none;\n",
              "      fill: #1967D2;\n",
              "      height: 32px;\n",
              "      padding: 0 0 0 0;\n",
              "      width: 32px;\n",
              "    }\n",
              "\n",
              "    .colab-df-convert:hover {\n",
              "      background-color: #E2EBFA;\n",
              "      box-shadow: 0px 1px 2px rgba(60, 64, 67, 0.3), 0px 1px 3px 1px rgba(60, 64, 67, 0.15);\n",
              "      fill: #174EA6;\n",
              "    }\n",
              "\n",
              "    .colab-df-buttons div {\n",
              "      margin-bottom: 4px;\n",
              "    }\n",
              "\n",
              "    [theme=dark] .colab-df-convert {\n",
              "      background-color: #3B4455;\n",
              "      fill: #D2E3FC;\n",
              "    }\n",
              "\n",
              "    [theme=dark] .colab-df-convert:hover {\n",
              "      background-color: #434B5C;\n",
              "      box-shadow: 0px 1px 3px 1px rgba(0, 0, 0, 0.15);\n",
              "      filter: drop-shadow(0px 1px 2px rgba(0, 0, 0, 0.3));\n",
              "      fill: #FFFFFF;\n",
              "    }\n",
              "  </style>\n",
              "\n",
              "    <script>\n",
              "      const buttonEl =\n",
              "        document.querySelector('#df-a0ec530c-882d-4547-93e3-882f1af42812 button.colab-df-convert');\n",
              "      buttonEl.style.display =\n",
              "        google.colab.kernel.accessAllowed ? 'block' : 'none';\n",
              "\n",
              "      async function convertToInteractive(key) {\n",
              "        const element = document.querySelector('#df-a0ec530c-882d-4547-93e3-882f1af42812');\n",
              "        const dataTable =\n",
              "          await google.colab.kernel.invokeFunction('convertToInteractive',\n",
              "                                                    [key], {});\n",
              "        if (!dataTable) return;\n",
              "\n",
              "        const docLinkHtml = 'Like what you see? Visit the ' +\n",
              "          '<a target=\"_blank\" href=https://colab.research.google.com/notebooks/data_table.ipynb>data table notebook</a>'\n",
              "          + ' to learn more about interactive tables.';\n",
              "        element.innerHTML = '';\n",
              "        dataTable['output_type'] = 'display_data';\n",
              "        await google.colab.output.renderOutput(dataTable, element);\n",
              "        const docLink = document.createElement('div');\n",
              "        docLink.innerHTML = docLinkHtml;\n",
              "        element.appendChild(docLink);\n",
              "      }\n",
              "    </script>\n",
              "  </div>\n",
              "\n",
              "\n",
              "<div id=\"df-aae068d4-d350-4d47-b42e-7d9ae9901cf5\">\n",
              "  <button class=\"colab-df-quickchart\" onclick=\"quickchart('df-aae068d4-d350-4d47-b42e-7d9ae9901cf5')\"\n",
              "            title=\"Suggest charts\"\n",
              "            style=\"display:none;\">\n",
              "\n",
              "<svg xmlns=\"http://www.w3.org/2000/svg\" height=\"24px\"viewBox=\"0 0 24 24\"\n",
              "     width=\"24px\">\n",
              "    <g>\n",
              "        <path d=\"M19 3H5c-1.1 0-2 .9-2 2v14c0 1.1.9 2 2 2h14c1.1 0 2-.9 2-2V5c0-1.1-.9-2-2-2zM9 17H7v-7h2v7zm4 0h-2V7h2v10zm4 0h-2v-4h2v4z\"/>\n",
              "    </g>\n",
              "</svg>\n",
              "  </button>\n",
              "\n",
              "<style>\n",
              "  .colab-df-quickchart {\n",
              "      --bg-color: #E8F0FE;\n",
              "      --fill-color: #1967D2;\n",
              "      --hover-bg-color: #E2EBFA;\n",
              "      --hover-fill-color: #174EA6;\n",
              "      --disabled-fill-color: #AAA;\n",
              "      --disabled-bg-color: #DDD;\n",
              "  }\n",
              "\n",
              "  [theme=dark] .colab-df-quickchart {\n",
              "      --bg-color: #3B4455;\n",
              "      --fill-color: #D2E3FC;\n",
              "      --hover-bg-color: #434B5C;\n",
              "      --hover-fill-color: #FFFFFF;\n",
              "      --disabled-bg-color: #3B4455;\n",
              "      --disabled-fill-color: #666;\n",
              "  }\n",
              "\n",
              "  .colab-df-quickchart {\n",
              "    background-color: var(--bg-color);\n",
              "    border: none;\n",
              "    border-radius: 50%;\n",
              "    cursor: pointer;\n",
              "    display: none;\n",
              "    fill: var(--fill-color);\n",
              "    height: 32px;\n",
              "    padding: 0;\n",
              "    width: 32px;\n",
              "  }\n",
              "\n",
              "  .colab-df-quickchart:hover {\n",
              "    background-color: var(--hover-bg-color);\n",
              "    box-shadow: 0 1px 2px rgba(60, 64, 67, 0.3), 0 1px 3px 1px rgba(60, 64, 67, 0.15);\n",
              "    fill: var(--button-hover-fill-color);\n",
              "  }\n",
              "\n",
              "  .colab-df-quickchart-complete:disabled,\n",
              "  .colab-df-quickchart-complete:disabled:hover {\n",
              "    background-color: var(--disabled-bg-color);\n",
              "    fill: var(--disabled-fill-color);\n",
              "    box-shadow: none;\n",
              "  }\n",
              "\n",
              "  .colab-df-spinner {\n",
              "    border: 2px solid var(--fill-color);\n",
              "    border-color: transparent;\n",
              "    border-bottom-color: var(--fill-color);\n",
              "    animation:\n",
              "      spin 1s steps(1) infinite;\n",
              "  }\n",
              "\n",
              "  @keyframes spin {\n",
              "    0% {\n",
              "      border-color: transparent;\n",
              "      border-bottom-color: var(--fill-color);\n",
              "      border-left-color: var(--fill-color);\n",
              "    }\n",
              "    20% {\n",
              "      border-color: transparent;\n",
              "      border-left-color: var(--fill-color);\n",
              "      border-top-color: var(--fill-color);\n",
              "    }\n",
              "    30% {\n",
              "      border-color: transparent;\n",
              "      border-left-color: var(--fill-color);\n",
              "      border-top-color: var(--fill-color);\n",
              "      border-right-color: var(--fill-color);\n",
              "    }\n",
              "    40% {\n",
              "      border-color: transparent;\n",
              "      border-right-color: var(--fill-color);\n",
              "      border-top-color: var(--fill-color);\n",
              "    }\n",
              "    60% {\n",
              "      border-color: transparent;\n",
              "      border-right-color: var(--fill-color);\n",
              "    }\n",
              "    80% {\n",
              "      border-color: transparent;\n",
              "      border-right-color: var(--fill-color);\n",
              "      border-bottom-color: var(--fill-color);\n",
              "    }\n",
              "    90% {\n",
              "      border-color: transparent;\n",
              "      border-bottom-color: var(--fill-color);\n",
              "    }\n",
              "  }\n",
              "</style>\n",
              "\n",
              "  <script>\n",
              "    async function quickchart(key) {\n",
              "      const quickchartButtonEl =\n",
              "        document.querySelector('#' + key + ' button');\n",
              "      quickchartButtonEl.disabled = true;  // To prevent multiple clicks.\n",
              "      quickchartButtonEl.classList.add('colab-df-spinner');\n",
              "      try {\n",
              "        const charts = await google.colab.kernel.invokeFunction(\n",
              "            'suggestCharts', [key], {});\n",
              "      } catch (error) {\n",
              "        console.error('Error during call to suggestCharts:', error);\n",
              "      }\n",
              "      quickchartButtonEl.classList.remove('colab-df-spinner');\n",
              "      quickchartButtonEl.classList.add('colab-df-quickchart-complete');\n",
              "    }\n",
              "    (() => {\n",
              "      let quickchartButtonEl =\n",
              "        document.querySelector('#df-aae068d4-d350-4d47-b42e-7d9ae9901cf5 button');\n",
              "      quickchartButtonEl.style.display =\n",
              "        google.colab.kernel.accessAllowed ? 'block' : 'none';\n",
              "    })();\n",
              "  </script>\n",
              "</div>\n",
              "    </div>\n",
              "  </div>\n"
            ]
          },
          "metadata": {},
          "execution_count": 37
        }
      ],
      "source": [
        "# display the dataset\n",
        "df_data"
      ]
    },
    {
      "cell_type": "code",
      "execution_count": 38,
      "id": "222a148c",
      "metadata": {
        "id": "222a148c",
        "outputId": "6b8fee54-8066-4954-b5b0-200d8702d983",
        "colab": {
          "base_uri": "https://localhost:8080/",
          "height": 300
        }
      },
      "outputs": [
        {
          "output_type": "execute_result",
          "data": {
            "text/plain": [
              "          variance     skewness     curtosis      entropy        class\n",
              "count  1372.000000  1372.000000  1372.000000  1372.000000  1372.000000\n",
              "mean      0.433735     1.922353     1.397627    -1.191657     0.444606\n",
              "std       2.842763     5.869047     4.310030     2.101013     0.497103\n",
              "min      -7.042100   -13.773100    -5.286100    -8.548200     0.000000\n",
              "25%      -1.773000    -1.708200    -1.574975    -2.413450     0.000000\n",
              "50%       0.496180     2.319650     0.616630    -0.586650     0.000000\n",
              "75%       2.821475     6.814625     3.179250     0.394810     1.000000\n",
              "max       6.824800    12.951600    17.927400     2.449500     1.000000"
            ],
            "text/html": [
              "\n",
              "  <div id=\"df-086f5c15-1f80-43ea-8243-7fba040bb31f\" class=\"colab-df-container\">\n",
              "    <div>\n",
              "<style scoped>\n",
              "    .dataframe tbody tr th:only-of-type {\n",
              "        vertical-align: middle;\n",
              "    }\n",
              "\n",
              "    .dataframe tbody tr th {\n",
              "        vertical-align: top;\n",
              "    }\n",
              "\n",
              "    .dataframe thead th {\n",
              "        text-align: right;\n",
              "    }\n",
              "</style>\n",
              "<table border=\"1\" class=\"dataframe\">\n",
              "  <thead>\n",
              "    <tr style=\"text-align: right;\">\n",
              "      <th></th>\n",
              "      <th>variance</th>\n",
              "      <th>skewness</th>\n",
              "      <th>curtosis</th>\n",
              "      <th>entropy</th>\n",
              "      <th>class</th>\n",
              "    </tr>\n",
              "  </thead>\n",
              "  <tbody>\n",
              "    <tr>\n",
              "      <th>count</th>\n",
              "      <td>1372.000000</td>\n",
              "      <td>1372.000000</td>\n",
              "      <td>1372.000000</td>\n",
              "      <td>1372.000000</td>\n",
              "      <td>1372.000000</td>\n",
              "    </tr>\n",
              "    <tr>\n",
              "      <th>mean</th>\n",
              "      <td>0.433735</td>\n",
              "      <td>1.922353</td>\n",
              "      <td>1.397627</td>\n",
              "      <td>-1.191657</td>\n",
              "      <td>0.444606</td>\n",
              "    </tr>\n",
              "    <tr>\n",
              "      <th>std</th>\n",
              "      <td>2.842763</td>\n",
              "      <td>5.869047</td>\n",
              "      <td>4.310030</td>\n",
              "      <td>2.101013</td>\n",
              "      <td>0.497103</td>\n",
              "    </tr>\n",
              "    <tr>\n",
              "      <th>min</th>\n",
              "      <td>-7.042100</td>\n",
              "      <td>-13.773100</td>\n",
              "      <td>-5.286100</td>\n",
              "      <td>-8.548200</td>\n",
              "      <td>0.000000</td>\n",
              "    </tr>\n",
              "    <tr>\n",
              "      <th>25%</th>\n",
              "      <td>-1.773000</td>\n",
              "      <td>-1.708200</td>\n",
              "      <td>-1.574975</td>\n",
              "      <td>-2.413450</td>\n",
              "      <td>0.000000</td>\n",
              "    </tr>\n",
              "    <tr>\n",
              "      <th>50%</th>\n",
              "      <td>0.496180</td>\n",
              "      <td>2.319650</td>\n",
              "      <td>0.616630</td>\n",
              "      <td>-0.586650</td>\n",
              "      <td>0.000000</td>\n",
              "    </tr>\n",
              "    <tr>\n",
              "      <th>75%</th>\n",
              "      <td>2.821475</td>\n",
              "      <td>6.814625</td>\n",
              "      <td>3.179250</td>\n",
              "      <td>0.394810</td>\n",
              "      <td>1.000000</td>\n",
              "    </tr>\n",
              "    <tr>\n",
              "      <th>max</th>\n",
              "      <td>6.824800</td>\n",
              "      <td>12.951600</td>\n",
              "      <td>17.927400</td>\n",
              "      <td>2.449500</td>\n",
              "      <td>1.000000</td>\n",
              "    </tr>\n",
              "  </tbody>\n",
              "</table>\n",
              "</div>\n",
              "    <div class=\"colab-df-buttons\">\n",
              "\n",
              "  <div class=\"colab-df-container\">\n",
              "    <button class=\"colab-df-convert\" onclick=\"convertToInteractive('df-086f5c15-1f80-43ea-8243-7fba040bb31f')\"\n",
              "            title=\"Convert this dataframe to an interactive table.\"\n",
              "            style=\"display:none;\">\n",
              "\n",
              "  <svg xmlns=\"http://www.w3.org/2000/svg\" height=\"24px\" viewBox=\"0 -960 960 960\">\n",
              "    <path d=\"M120-120v-720h720v720H120Zm60-500h600v-160H180v160Zm220 220h160v-160H400v160Zm0 220h160v-160H400v160ZM180-400h160v-160H180v160Zm440 0h160v-160H620v160ZM180-180h160v-160H180v160Zm440 0h160v-160H620v160Z\"/>\n",
              "  </svg>\n",
              "    </button>\n",
              "\n",
              "  <style>\n",
              "    .colab-df-container {\n",
              "      display:flex;\n",
              "      gap: 12px;\n",
              "    }\n",
              "\n",
              "    .colab-df-convert {\n",
              "      background-color: #E8F0FE;\n",
              "      border: none;\n",
              "      border-radius: 50%;\n",
              "      cursor: pointer;\n",
              "      display: none;\n",
              "      fill: #1967D2;\n",
              "      height: 32px;\n",
              "      padding: 0 0 0 0;\n",
              "      width: 32px;\n",
              "    }\n",
              "\n",
              "    .colab-df-convert:hover {\n",
              "      background-color: #E2EBFA;\n",
              "      box-shadow: 0px 1px 2px rgba(60, 64, 67, 0.3), 0px 1px 3px 1px rgba(60, 64, 67, 0.15);\n",
              "      fill: #174EA6;\n",
              "    }\n",
              "\n",
              "    .colab-df-buttons div {\n",
              "      margin-bottom: 4px;\n",
              "    }\n",
              "\n",
              "    [theme=dark] .colab-df-convert {\n",
              "      background-color: #3B4455;\n",
              "      fill: #D2E3FC;\n",
              "    }\n",
              "\n",
              "    [theme=dark] .colab-df-convert:hover {\n",
              "      background-color: #434B5C;\n",
              "      box-shadow: 0px 1px 3px 1px rgba(0, 0, 0, 0.15);\n",
              "      filter: drop-shadow(0px 1px 2px rgba(0, 0, 0, 0.3));\n",
              "      fill: #FFFFFF;\n",
              "    }\n",
              "  </style>\n",
              "\n",
              "    <script>\n",
              "      const buttonEl =\n",
              "        document.querySelector('#df-086f5c15-1f80-43ea-8243-7fba040bb31f button.colab-df-convert');\n",
              "      buttonEl.style.display =\n",
              "        google.colab.kernel.accessAllowed ? 'block' : 'none';\n",
              "\n",
              "      async function convertToInteractive(key) {\n",
              "        const element = document.querySelector('#df-086f5c15-1f80-43ea-8243-7fba040bb31f');\n",
              "        const dataTable =\n",
              "          await google.colab.kernel.invokeFunction('convertToInteractive',\n",
              "                                                    [key], {});\n",
              "        if (!dataTable) return;\n",
              "\n",
              "        const docLinkHtml = 'Like what you see? Visit the ' +\n",
              "          '<a target=\"_blank\" href=https://colab.research.google.com/notebooks/data_table.ipynb>data table notebook</a>'\n",
              "          + ' to learn more about interactive tables.';\n",
              "        element.innerHTML = '';\n",
              "        dataTable['output_type'] = 'display_data';\n",
              "        await google.colab.output.renderOutput(dataTable, element);\n",
              "        const docLink = document.createElement('div');\n",
              "        docLink.innerHTML = docLinkHtml;\n",
              "        element.appendChild(docLink);\n",
              "      }\n",
              "    </script>\n",
              "  </div>\n",
              "\n",
              "\n",
              "<div id=\"df-4ab39aec-4337-45b6-b6a8-02711182ca06\">\n",
              "  <button class=\"colab-df-quickchart\" onclick=\"quickchart('df-4ab39aec-4337-45b6-b6a8-02711182ca06')\"\n",
              "            title=\"Suggest charts\"\n",
              "            style=\"display:none;\">\n",
              "\n",
              "<svg xmlns=\"http://www.w3.org/2000/svg\" height=\"24px\"viewBox=\"0 0 24 24\"\n",
              "     width=\"24px\">\n",
              "    <g>\n",
              "        <path d=\"M19 3H5c-1.1 0-2 .9-2 2v14c0 1.1.9 2 2 2h14c1.1 0 2-.9 2-2V5c0-1.1-.9-2-2-2zM9 17H7v-7h2v7zm4 0h-2V7h2v10zm4 0h-2v-4h2v4z\"/>\n",
              "    </g>\n",
              "</svg>\n",
              "  </button>\n",
              "\n",
              "<style>\n",
              "  .colab-df-quickchart {\n",
              "      --bg-color: #E8F0FE;\n",
              "      --fill-color: #1967D2;\n",
              "      --hover-bg-color: #E2EBFA;\n",
              "      --hover-fill-color: #174EA6;\n",
              "      --disabled-fill-color: #AAA;\n",
              "      --disabled-bg-color: #DDD;\n",
              "  }\n",
              "\n",
              "  [theme=dark] .colab-df-quickchart {\n",
              "      --bg-color: #3B4455;\n",
              "      --fill-color: #D2E3FC;\n",
              "      --hover-bg-color: #434B5C;\n",
              "      --hover-fill-color: #FFFFFF;\n",
              "      --disabled-bg-color: #3B4455;\n",
              "      --disabled-fill-color: #666;\n",
              "  }\n",
              "\n",
              "  .colab-df-quickchart {\n",
              "    background-color: var(--bg-color);\n",
              "    border: none;\n",
              "    border-radius: 50%;\n",
              "    cursor: pointer;\n",
              "    display: none;\n",
              "    fill: var(--fill-color);\n",
              "    height: 32px;\n",
              "    padding: 0;\n",
              "    width: 32px;\n",
              "  }\n",
              "\n",
              "  .colab-df-quickchart:hover {\n",
              "    background-color: var(--hover-bg-color);\n",
              "    box-shadow: 0 1px 2px rgba(60, 64, 67, 0.3), 0 1px 3px 1px rgba(60, 64, 67, 0.15);\n",
              "    fill: var(--button-hover-fill-color);\n",
              "  }\n",
              "\n",
              "  .colab-df-quickchart-complete:disabled,\n",
              "  .colab-df-quickchart-complete:disabled:hover {\n",
              "    background-color: var(--disabled-bg-color);\n",
              "    fill: var(--disabled-fill-color);\n",
              "    box-shadow: none;\n",
              "  }\n",
              "\n",
              "  .colab-df-spinner {\n",
              "    border: 2px solid var(--fill-color);\n",
              "    border-color: transparent;\n",
              "    border-bottom-color: var(--fill-color);\n",
              "    animation:\n",
              "      spin 1s steps(1) infinite;\n",
              "  }\n",
              "\n",
              "  @keyframes spin {\n",
              "    0% {\n",
              "      border-color: transparent;\n",
              "      border-bottom-color: var(--fill-color);\n",
              "      border-left-color: var(--fill-color);\n",
              "    }\n",
              "    20% {\n",
              "      border-color: transparent;\n",
              "      border-left-color: var(--fill-color);\n",
              "      border-top-color: var(--fill-color);\n",
              "    }\n",
              "    30% {\n",
              "      border-color: transparent;\n",
              "      border-left-color: var(--fill-color);\n",
              "      border-top-color: var(--fill-color);\n",
              "      border-right-color: var(--fill-color);\n",
              "    }\n",
              "    40% {\n",
              "      border-color: transparent;\n",
              "      border-right-color: var(--fill-color);\n",
              "      border-top-color: var(--fill-color);\n",
              "    }\n",
              "    60% {\n",
              "      border-color: transparent;\n",
              "      border-right-color: var(--fill-color);\n",
              "    }\n",
              "    80% {\n",
              "      border-color: transparent;\n",
              "      border-right-color: var(--fill-color);\n",
              "      border-bottom-color: var(--fill-color);\n",
              "    }\n",
              "    90% {\n",
              "      border-color: transparent;\n",
              "      border-bottom-color: var(--fill-color);\n",
              "    }\n",
              "  }\n",
              "</style>\n",
              "\n",
              "  <script>\n",
              "    async function quickchart(key) {\n",
              "      const quickchartButtonEl =\n",
              "        document.querySelector('#' + key + ' button');\n",
              "      quickchartButtonEl.disabled = true;  // To prevent multiple clicks.\n",
              "      quickchartButtonEl.classList.add('colab-df-spinner');\n",
              "      try {\n",
              "        const charts = await google.colab.kernel.invokeFunction(\n",
              "            'suggestCharts', [key], {});\n",
              "      } catch (error) {\n",
              "        console.error('Error during call to suggestCharts:', error);\n",
              "      }\n",
              "      quickchartButtonEl.classList.remove('colab-df-spinner');\n",
              "      quickchartButtonEl.classList.add('colab-df-quickchart-complete');\n",
              "    }\n",
              "    (() => {\n",
              "      let quickchartButtonEl =\n",
              "        document.querySelector('#df-4ab39aec-4337-45b6-b6a8-02711182ca06 button');\n",
              "      quickchartButtonEl.style.display =\n",
              "        google.colab.kernel.accessAllowed ? 'block' : 'none';\n",
              "    })();\n",
              "  </script>\n",
              "</div>\n",
              "    </div>\n",
              "  </div>\n"
            ]
          },
          "metadata": {},
          "execution_count": 38
        }
      ],
      "source": [
        "# describe the data\n",
        "df_data.describe()"
      ]
    },
    {
      "cell_type": "markdown",
      "id": "0dcbafff",
      "metadata": {
        "id": "0dcbafff"
      },
      "source": [
        "### Prepara data for model training and testing"
      ]
    },
    {
      "cell_type": "code",
      "execution_count": 39,
      "id": "1fbc714a",
      "metadata": {
        "id": "1fbc714a",
        "outputId": "3d143bc2-49d7-4ab9-8110-9180b3916391",
        "colab": {
          "base_uri": "https://localhost:8080/"
        }
      },
      "outputs": [
        {
          "output_type": "execute_result",
          "data": {
            "text/plain": [
              "((1372, 4), (1372,), Counter({0.0: 762, 1.0: 610}))"
            ]
          },
          "metadata": {},
          "execution_count": 39
        }
      ],
      "source": [
        "feature_names = ['variance','skewness','curtosis','entropy']\n",
        "\n",
        "# Construct feature matrix from the data frame\n",
        "X_data = df_data[feature_names]\n",
        "y_data = df_data['class']\n",
        "X_data.shape, y_data.shape, Counter(y_data)"
      ]
    },
    {
      "cell_type": "code",
      "execution_count": 40,
      "id": "98dc3fbe",
      "metadata": {
        "id": "98dc3fbe"
      },
      "outputs": [],
      "source": [
        "# split the data into 70% training and 30% testing using train_test_split()\n",
        "X_train, X_test, y_train, y_test = train_test_split(X_data, y_data, test_size=0.3, random_state=42)"
      ]
    },
    {
      "cell_type": "markdown",
      "id": "8d3bb9b2",
      "metadata": {
        "id": "8d3bb9b2"
      },
      "source": [
        "### Fit LogisticRegression models with different parameter settings\n",
        "- L1 VS L2 penalty\n",
        "- C values (inverse of regularization strength)"
      ]
    },
    {
      "cell_type": "code",
      "execution_count": 41,
      "id": "2e206acf",
      "metadata": {
        "id": "2e206acf"
      },
      "outputs": [],
      "source": [
        "clf = LogisticRegression(random_state=0, solver='liblinear', penalty='l1', C=1.0).fit(X_train, y_train)"
      ]
    },
    {
      "cell_type": "code",
      "execution_count": 42,
      "id": "cb8b57ed",
      "metadata": {
        "id": "cb8b57ed",
        "outputId": "0d6a9416-3304-40f7-8fb0-080aae274df0",
        "colab": {
          "base_uri": "https://localhost:8080/"
        }
      },
      "outputs": [
        {
          "output_type": "execute_result",
          "data": {
            "text/plain": [
              "0.9878640776699029"
            ]
          },
          "metadata": {},
          "execution_count": 42
        }
      ],
      "source": [
        "clf.score(X_test, y_test)"
      ]
    },
    {
      "cell_type": "code",
      "execution_count": 43,
      "id": "0baa21e8",
      "metadata": {
        "id": "0baa21e8",
        "outputId": "dc4390f7-7bf8-45fc-f6a6-49cbd1845eaa",
        "colab": {
          "base_uri": "https://localhost:8080/"
        }
      },
      "outputs": [
        {
          "output_type": "execute_result",
          "data": {
            "text/plain": [
              "array([0., 0., 0.])"
            ]
          },
          "metadata": {},
          "execution_count": 43
        }
      ],
      "source": [
        "clf.predict(X_test[:3])"
      ]
    },
    {
      "cell_type": "code",
      "execution_count": 44,
      "id": "2525662f",
      "metadata": {
        "id": "2525662f",
        "outputId": "25569b35-b1be-487a-a5e2-3ecad9726ccf",
        "colab": {
          "base_uri": "https://localhost:8080/"
        }
      },
      "outputs": [
        {
          "output_type": "execute_result",
          "data": {
            "text/plain": [
              "array([[1.   , 0.   ],\n",
              "       [0.982, 0.018],\n",
              "       [0.996, 0.004]])"
            ]
          },
          "metadata": {},
          "execution_count": 44
        }
      ],
      "source": [
        "np.round(clf.predict_proba(X_test[:3]),3)"
      ]
    },
    {
      "cell_type": "markdown",
      "id": "fc8ff19c",
      "metadata": {
        "id": "fc8ff19c"
      },
      "source": [
        "**Your task**: explore at least one different set of parameters to re-fit the model: solver, penalty, C"
      ]
    },
    {
      "cell_type": "code",
      "execution_count": 49,
      "id": "598e50e3",
      "metadata": {
        "id": "598e50e3"
      },
      "outputs": [],
      "source": [
        "clf = LogisticRegression(random_state=0, solver='lbfgs', penalty='l2', C=0.5).fit(X_train, y_train)"
      ]
    },
    {
      "cell_type": "code",
      "source": [
        "clf.score(X_test, y_test)"
      ],
      "metadata": {
        "colab": {
          "base_uri": "https://localhost:8080/"
        },
        "id": "TG_7wKJjyNj4",
        "outputId": "b55e6486-8ff9-42a7-e082-5407a3be88bd"
      },
      "id": "TG_7wKJjyNj4",
      "execution_count": 53,
      "outputs": [
        {
          "output_type": "execute_result",
          "data": {
            "text/plain": [
              "0.9878640776699029"
            ]
          },
          "metadata": {},
          "execution_count": 53
        }
      ]
    },
    {
      "cell_type": "markdown",
      "source": [
        "The score didn't change!"
      ],
      "metadata": {
        "id": "AP-PJz4tybOz"
      },
      "id": "AP-PJz4tybOz"
    },
    {
      "cell_type": "code",
      "source": [
        "clf.predict(X_test[:3])"
      ],
      "metadata": {
        "colab": {
          "base_uri": "https://localhost:8080/"
        },
        "id": "FWtBVYCTyQ7d",
        "outputId": "2b0cf0ca-b569-4964-e070-6cc10bd6305d"
      },
      "id": "FWtBVYCTyQ7d",
      "execution_count": 51,
      "outputs": [
        {
          "output_type": "execute_result",
          "data": {
            "text/plain": [
              "array([0., 0., 0.])"
            ]
          },
          "metadata": {},
          "execution_count": 51
        }
      ]
    },
    {
      "cell_type": "code",
      "source": [
        "np.round(clf.predict_proba(X_test[:3]),3)"
      ],
      "metadata": {
        "colab": {
          "base_uri": "https://localhost:8080/"
        },
        "id": "DyTSdb77ySfZ",
        "outputId": "519ce1b8-0137-4d2e-ee47-053fa710a057"
      },
      "id": "DyTSdb77ySfZ",
      "execution_count": 52,
      "outputs": [
        {
          "output_type": "execute_result",
          "data": {
            "text/plain": [
              "array([[1.   , 0.   ],\n",
              "       [0.935, 0.065],\n",
              "       [0.976, 0.024]])"
            ]
          },
          "metadata": {},
          "execution_count": 52
        }
      ]
    },
    {
      "cell_type": "markdown",
      "id": "16c5d0d1",
      "metadata": {
        "id": "16c5d0d1"
      },
      "source": [
        "### Compare model performance with different c values and different penalties"
      ]
    },
    {
      "cell_type": "code",
      "execution_count": 60,
      "id": "9160ab01",
      "metadata": {
        "id": "9160ab01"
      },
      "outputs": [],
      "source": [
        "from statistics import mean\n",
        "\n",
        "def compare_c(X_train, y_train, X_test, y_test, p):\n",
        "    \"\"\"\n",
        "    X_train/test: 2D feature matrix of training/testing data\n",
        "    y_train/test: 1D array of training/testing labels\n",
        "    p: the penalty parameter setting in LogisticRegression\n",
        "\n",
        "    return:\n",
        "        a list of classifiers fitted with different c values\n",
        "        a dataframe that is shown in the running example below\n",
        "    \"\"\"\n",
        "\n",
        "    # set the model parameter c to different values and train the model\n",
        "    # for c in [0.001, 0.01, 0.1, 1, 10, 100]:\n",
        "    #    fit a LogisticRegression model with: the current c value, the given penalty p, set random_state=42, max_iter=1000, solver='liblinear', and use default setting for other parameters\n",
        "    #    test and record the model performance\n",
        "    #    get the statistical information about the model coefficients:\n",
        "    #        min: minimum coefficient\n",
        "    #        max: minimum coefficient\n",
        "    #        mean(abs(coef)): average over the absolute coefficient values\n",
        "    #        n_zero: number of coefficients equal to zero\n",
        "\n",
        "    ### Your code starts from here\n",
        "    C_values = [0.001, 0.01, 0.1, 1, 10, 100]\n",
        "    classifiers = []\n",
        "\n",
        "    metrics = pd.DataFrame(columns=['C', 'Penalty', 'Min_Coefficient', 'Max_Coefficient', 'Mean_Abs_Coefficient', 'N_Zero', 'Accuracy'])\n",
        "\n",
        "    for c in C_values:\n",
        "        clf = LogisticRegression(C=c, penalty=p, solver='liblinear')\n",
        "        clf.fit(X_train, y_train)\n",
        "\n",
        "        # Make predictions and calculate accuracy\n",
        "        predictions = clf.predict(X_test)\n",
        "\n",
        "        # Get coefficients and compute metrics\n",
        "        coef = clf.coef_[0]\n",
        "        min_coef = min(coef)\n",
        "        max_coef = max(coef)\n",
        "        mean_abs_coef = mean(abs(coef))\n",
        "        n_zero = sum(coef == 0)\n",
        "\n",
        "        # Add the classifier and its metrics to the lists\n",
        "        classifiers.append(clf)\n",
        "        metrics = metrics.append({'C': c,\n",
        "                                  'Penalty': p,\n",
        "                                  'Min_Coefficient': min_coef,\n",
        "                                  'Max_Coefficient': max_coef,\n",
        "                                  'Mean_Abs_Coefficient': mean_abs_coef,\n",
        "                                  'N_Zero': n_zero}, ignore_index=True)\n",
        "\n",
        "    return classifiers, metrics\n",
        "\n"
      ]
    },
    {
      "cell_type": "code",
      "execution_count": 61,
      "id": "d7fb1b3d",
      "metadata": {
        "id": "d7fb1b3d",
        "outputId": "55b893dd-c471-4675-a58c-f5a132ba98fb",
        "colab": {
          "base_uri": "https://localhost:8080/",
          "height": 465
        }
      },
      "outputs": [
        {
          "output_type": "stream",
          "name": "stderr",
          "text": [
            "<ipython-input-60-de944d58a924>:46: FutureWarning: The frame.append method is deprecated and will be removed from pandas in a future version. Use pandas.concat instead.\n",
            "  metrics = metrics.append({'C': c,\n",
            "<ipython-input-60-de944d58a924>:46: FutureWarning: The frame.append method is deprecated and will be removed from pandas in a future version. Use pandas.concat instead.\n",
            "  metrics = metrics.append({'C': c,\n",
            "<ipython-input-60-de944d58a924>:46: FutureWarning: The frame.append method is deprecated and will be removed from pandas in a future version. Use pandas.concat instead.\n",
            "  metrics = metrics.append({'C': c,\n",
            "<ipython-input-60-de944d58a924>:46: FutureWarning: The frame.append method is deprecated and will be removed from pandas in a future version. Use pandas.concat instead.\n",
            "  metrics = metrics.append({'C': c,\n",
            "<ipython-input-60-de944d58a924>:46: FutureWarning: The frame.append method is deprecated and will be removed from pandas in a future version. Use pandas.concat instead.\n",
            "  metrics = metrics.append({'C': c,\n",
            "<ipython-input-60-de944d58a924>:46: FutureWarning: The frame.append method is deprecated and will be removed from pandas in a future version. Use pandas.concat instead.\n",
            "  metrics = metrics.append({'C': c,\n"
          ]
        },
        {
          "output_type": "execute_result",
          "data": {
            "text/plain": [
              "         C Penalty  Min_Coefficient  Max_Coefficient  Mean_Abs_Coefficient  \\\n",
              "0    0.001      l2        -0.357242        -0.074218              0.189712   \n",
              "1    0.010      l2        -0.860815        -0.172662              0.485241   \n",
              "2    0.100      l2        -1.580581        -0.162763              0.915028   \n",
              "3    1.000      l2        -2.834711        -0.166099              1.645101   \n",
              "4   10.000      l2        -5.171020        -0.289579              2.936961   \n",
              "5  100.000      l2        -7.647564        -0.437990              4.297064   \n",
              "\n",
              "  N_Zero Accuracy  \n",
              "0      0      NaN  \n",
              "1      0      NaN  \n",
              "2      0      NaN  \n",
              "3      0      NaN  \n",
              "4      0      NaN  \n",
              "5      0      NaN  "
            ],
            "text/html": [
              "\n",
              "  <div id=\"df-11bd7a3d-015d-43a7-b073-19a4dc31f130\" class=\"colab-df-container\">\n",
              "    <div>\n",
              "<style scoped>\n",
              "    .dataframe tbody tr th:only-of-type {\n",
              "        vertical-align: middle;\n",
              "    }\n",
              "\n",
              "    .dataframe tbody tr th {\n",
              "        vertical-align: top;\n",
              "    }\n",
              "\n",
              "    .dataframe thead th {\n",
              "        text-align: right;\n",
              "    }\n",
              "</style>\n",
              "<table border=\"1\" class=\"dataframe\">\n",
              "  <thead>\n",
              "    <tr style=\"text-align: right;\">\n",
              "      <th></th>\n",
              "      <th>C</th>\n",
              "      <th>Penalty</th>\n",
              "      <th>Min_Coefficient</th>\n",
              "      <th>Max_Coefficient</th>\n",
              "      <th>Mean_Abs_Coefficient</th>\n",
              "      <th>N_Zero</th>\n",
              "      <th>Accuracy</th>\n",
              "    </tr>\n",
              "  </thead>\n",
              "  <tbody>\n",
              "    <tr>\n",
              "      <th>0</th>\n",
              "      <td>0.001</td>\n",
              "      <td>l2</td>\n",
              "      <td>-0.357242</td>\n",
              "      <td>-0.074218</td>\n",
              "      <td>0.189712</td>\n",
              "      <td>0</td>\n",
              "      <td>NaN</td>\n",
              "    </tr>\n",
              "    <tr>\n",
              "      <th>1</th>\n",
              "      <td>0.010</td>\n",
              "      <td>l2</td>\n",
              "      <td>-0.860815</td>\n",
              "      <td>-0.172662</td>\n",
              "      <td>0.485241</td>\n",
              "      <td>0</td>\n",
              "      <td>NaN</td>\n",
              "    </tr>\n",
              "    <tr>\n",
              "      <th>2</th>\n",
              "      <td>0.100</td>\n",
              "      <td>l2</td>\n",
              "      <td>-1.580581</td>\n",
              "      <td>-0.162763</td>\n",
              "      <td>0.915028</td>\n",
              "      <td>0</td>\n",
              "      <td>NaN</td>\n",
              "    </tr>\n",
              "    <tr>\n",
              "      <th>3</th>\n",
              "      <td>1.000</td>\n",
              "      <td>l2</td>\n",
              "      <td>-2.834711</td>\n",
              "      <td>-0.166099</td>\n",
              "      <td>1.645101</td>\n",
              "      <td>0</td>\n",
              "      <td>NaN</td>\n",
              "    </tr>\n",
              "    <tr>\n",
              "      <th>4</th>\n",
              "      <td>10.000</td>\n",
              "      <td>l2</td>\n",
              "      <td>-5.171020</td>\n",
              "      <td>-0.289579</td>\n",
              "      <td>2.936961</td>\n",
              "      <td>0</td>\n",
              "      <td>NaN</td>\n",
              "    </tr>\n",
              "    <tr>\n",
              "      <th>5</th>\n",
              "      <td>100.000</td>\n",
              "      <td>l2</td>\n",
              "      <td>-7.647564</td>\n",
              "      <td>-0.437990</td>\n",
              "      <td>4.297064</td>\n",
              "      <td>0</td>\n",
              "      <td>NaN</td>\n",
              "    </tr>\n",
              "  </tbody>\n",
              "</table>\n",
              "</div>\n",
              "    <div class=\"colab-df-buttons\">\n",
              "\n",
              "  <div class=\"colab-df-container\">\n",
              "    <button class=\"colab-df-convert\" onclick=\"convertToInteractive('df-11bd7a3d-015d-43a7-b073-19a4dc31f130')\"\n",
              "            title=\"Convert this dataframe to an interactive table.\"\n",
              "            style=\"display:none;\">\n",
              "\n",
              "  <svg xmlns=\"http://www.w3.org/2000/svg\" height=\"24px\" viewBox=\"0 -960 960 960\">\n",
              "    <path d=\"M120-120v-720h720v720H120Zm60-500h600v-160H180v160Zm220 220h160v-160H400v160Zm0 220h160v-160H400v160ZM180-400h160v-160H180v160Zm440 0h160v-160H620v160ZM180-180h160v-160H180v160Zm440 0h160v-160H620v160Z\"/>\n",
              "  </svg>\n",
              "    </button>\n",
              "\n",
              "  <style>\n",
              "    .colab-df-container {\n",
              "      display:flex;\n",
              "      gap: 12px;\n",
              "    }\n",
              "\n",
              "    .colab-df-convert {\n",
              "      background-color: #E8F0FE;\n",
              "      border: none;\n",
              "      border-radius: 50%;\n",
              "      cursor: pointer;\n",
              "      display: none;\n",
              "      fill: #1967D2;\n",
              "      height: 32px;\n",
              "      padding: 0 0 0 0;\n",
              "      width: 32px;\n",
              "    }\n",
              "\n",
              "    .colab-df-convert:hover {\n",
              "      background-color: #E2EBFA;\n",
              "      box-shadow: 0px 1px 2px rgba(60, 64, 67, 0.3), 0px 1px 3px 1px rgba(60, 64, 67, 0.15);\n",
              "      fill: #174EA6;\n",
              "    }\n",
              "\n",
              "    .colab-df-buttons div {\n",
              "      margin-bottom: 4px;\n",
              "    }\n",
              "\n",
              "    [theme=dark] .colab-df-convert {\n",
              "      background-color: #3B4455;\n",
              "      fill: #D2E3FC;\n",
              "    }\n",
              "\n",
              "    [theme=dark] .colab-df-convert:hover {\n",
              "      background-color: #434B5C;\n",
              "      box-shadow: 0px 1px 3px 1px rgba(0, 0, 0, 0.15);\n",
              "      filter: drop-shadow(0px 1px 2px rgba(0, 0, 0, 0.3));\n",
              "      fill: #FFFFFF;\n",
              "    }\n",
              "  </style>\n",
              "\n",
              "    <script>\n",
              "      const buttonEl =\n",
              "        document.querySelector('#df-11bd7a3d-015d-43a7-b073-19a4dc31f130 button.colab-df-convert');\n",
              "      buttonEl.style.display =\n",
              "        google.colab.kernel.accessAllowed ? 'block' : 'none';\n",
              "\n",
              "      async function convertToInteractive(key) {\n",
              "        const element = document.querySelector('#df-11bd7a3d-015d-43a7-b073-19a4dc31f130');\n",
              "        const dataTable =\n",
              "          await google.colab.kernel.invokeFunction('convertToInteractive',\n",
              "                                                    [key], {});\n",
              "        if (!dataTable) return;\n",
              "\n",
              "        const docLinkHtml = 'Like what you see? Visit the ' +\n",
              "          '<a target=\"_blank\" href=https://colab.research.google.com/notebooks/data_table.ipynb>data table notebook</a>'\n",
              "          + ' to learn more about interactive tables.';\n",
              "        element.innerHTML = '';\n",
              "        dataTable['output_type'] = 'display_data';\n",
              "        await google.colab.output.renderOutput(dataTable, element);\n",
              "        const docLink = document.createElement('div');\n",
              "        docLink.innerHTML = docLinkHtml;\n",
              "        element.appendChild(docLink);\n",
              "      }\n",
              "    </script>\n",
              "  </div>\n",
              "\n",
              "\n",
              "<div id=\"df-859495f2-c9a2-4ca0-90c7-c85ccd94fad1\">\n",
              "  <button class=\"colab-df-quickchart\" onclick=\"quickchart('df-859495f2-c9a2-4ca0-90c7-c85ccd94fad1')\"\n",
              "            title=\"Suggest charts\"\n",
              "            style=\"display:none;\">\n",
              "\n",
              "<svg xmlns=\"http://www.w3.org/2000/svg\" height=\"24px\"viewBox=\"0 0 24 24\"\n",
              "     width=\"24px\">\n",
              "    <g>\n",
              "        <path d=\"M19 3H5c-1.1 0-2 .9-2 2v14c0 1.1.9 2 2 2h14c1.1 0 2-.9 2-2V5c0-1.1-.9-2-2-2zM9 17H7v-7h2v7zm4 0h-2V7h2v10zm4 0h-2v-4h2v4z\"/>\n",
              "    </g>\n",
              "</svg>\n",
              "  </button>\n",
              "\n",
              "<style>\n",
              "  .colab-df-quickchart {\n",
              "      --bg-color: #E8F0FE;\n",
              "      --fill-color: #1967D2;\n",
              "      --hover-bg-color: #E2EBFA;\n",
              "      --hover-fill-color: #174EA6;\n",
              "      --disabled-fill-color: #AAA;\n",
              "      --disabled-bg-color: #DDD;\n",
              "  }\n",
              "\n",
              "  [theme=dark] .colab-df-quickchart {\n",
              "      --bg-color: #3B4455;\n",
              "      --fill-color: #D2E3FC;\n",
              "      --hover-bg-color: #434B5C;\n",
              "      --hover-fill-color: #FFFFFF;\n",
              "      --disabled-bg-color: #3B4455;\n",
              "      --disabled-fill-color: #666;\n",
              "  }\n",
              "\n",
              "  .colab-df-quickchart {\n",
              "    background-color: var(--bg-color);\n",
              "    border: none;\n",
              "    border-radius: 50%;\n",
              "    cursor: pointer;\n",
              "    display: none;\n",
              "    fill: var(--fill-color);\n",
              "    height: 32px;\n",
              "    padding: 0;\n",
              "    width: 32px;\n",
              "  }\n",
              "\n",
              "  .colab-df-quickchart:hover {\n",
              "    background-color: var(--hover-bg-color);\n",
              "    box-shadow: 0 1px 2px rgba(60, 64, 67, 0.3), 0 1px 3px 1px rgba(60, 64, 67, 0.15);\n",
              "    fill: var(--button-hover-fill-color);\n",
              "  }\n",
              "\n",
              "  .colab-df-quickchart-complete:disabled,\n",
              "  .colab-df-quickchart-complete:disabled:hover {\n",
              "    background-color: var(--disabled-bg-color);\n",
              "    fill: var(--disabled-fill-color);\n",
              "    box-shadow: none;\n",
              "  }\n",
              "\n",
              "  .colab-df-spinner {\n",
              "    border: 2px solid var(--fill-color);\n",
              "    border-color: transparent;\n",
              "    border-bottom-color: var(--fill-color);\n",
              "    animation:\n",
              "      spin 1s steps(1) infinite;\n",
              "  }\n",
              "\n",
              "  @keyframes spin {\n",
              "    0% {\n",
              "      border-color: transparent;\n",
              "      border-bottom-color: var(--fill-color);\n",
              "      border-left-color: var(--fill-color);\n",
              "    }\n",
              "    20% {\n",
              "      border-color: transparent;\n",
              "      border-left-color: var(--fill-color);\n",
              "      border-top-color: var(--fill-color);\n",
              "    }\n",
              "    30% {\n",
              "      border-color: transparent;\n",
              "      border-left-color: var(--fill-color);\n",
              "      border-top-color: var(--fill-color);\n",
              "      border-right-color: var(--fill-color);\n",
              "    }\n",
              "    40% {\n",
              "      border-color: transparent;\n",
              "      border-right-color: var(--fill-color);\n",
              "      border-top-color: var(--fill-color);\n",
              "    }\n",
              "    60% {\n",
              "      border-color: transparent;\n",
              "      border-right-color: var(--fill-color);\n",
              "    }\n",
              "    80% {\n",
              "      border-color: transparent;\n",
              "      border-right-color: var(--fill-color);\n",
              "      border-bottom-color: var(--fill-color);\n",
              "    }\n",
              "    90% {\n",
              "      border-color: transparent;\n",
              "      border-bottom-color: var(--fill-color);\n",
              "    }\n",
              "  }\n",
              "</style>\n",
              "\n",
              "  <script>\n",
              "    async function quickchart(key) {\n",
              "      const quickchartButtonEl =\n",
              "        document.querySelector('#' + key + ' button');\n",
              "      quickchartButtonEl.disabled = true;  // To prevent multiple clicks.\n",
              "      quickchartButtonEl.classList.add('colab-df-spinner');\n",
              "      try {\n",
              "        const charts = await google.colab.kernel.invokeFunction(\n",
              "            'suggestCharts', [key], {});\n",
              "      } catch (error) {\n",
              "        console.error('Error during call to suggestCharts:', error);\n",
              "      }\n",
              "      quickchartButtonEl.classList.remove('colab-df-spinner');\n",
              "      quickchartButtonEl.classList.add('colab-df-quickchart-complete');\n",
              "    }\n",
              "    (() => {\n",
              "      let quickchartButtonEl =\n",
              "        document.querySelector('#df-859495f2-c9a2-4ca0-90c7-c85ccd94fad1 button');\n",
              "      quickchartButtonEl.style.display =\n",
              "        google.colab.kernel.accessAllowed ? 'block' : 'none';\n",
              "    })();\n",
              "  </script>\n",
              "</div>\n",
              "    </div>\n",
              "  </div>\n"
            ]
          },
          "metadata": {},
          "execution_count": 61
        }
      ],
      "source": [
        "# running example\n",
        "l2_clfs, c_effect_l2 = compare_c(X_train, y_train, X_test, y_test, p='l2')\n",
        "c_effect_l2"
      ]
    },
    {
      "cell_type": "code",
      "execution_count": 62,
      "id": "7bd278a1",
      "metadata": {
        "id": "7bd278a1",
        "outputId": "9a7505d6-9e92-4ff8-a0dd-9647c0b28045",
        "colab": {
          "base_uri": "https://localhost:8080/",
          "height": 465
        }
      },
      "outputs": [
        {
          "output_type": "stream",
          "name": "stderr",
          "text": [
            "<ipython-input-60-de944d58a924>:46: FutureWarning: The frame.append method is deprecated and will be removed from pandas in a future version. Use pandas.concat instead.\n",
            "  metrics = metrics.append({'C': c,\n",
            "<ipython-input-60-de944d58a924>:46: FutureWarning: The frame.append method is deprecated and will be removed from pandas in a future version. Use pandas.concat instead.\n",
            "  metrics = metrics.append({'C': c,\n",
            "<ipython-input-60-de944d58a924>:46: FutureWarning: The frame.append method is deprecated and will be removed from pandas in a future version. Use pandas.concat instead.\n",
            "  metrics = metrics.append({'C': c,\n",
            "<ipython-input-60-de944d58a924>:46: FutureWarning: The frame.append method is deprecated and will be removed from pandas in a future version. Use pandas.concat instead.\n",
            "  metrics = metrics.append({'C': c,\n",
            "<ipython-input-60-de944d58a924>:46: FutureWarning: The frame.append method is deprecated and will be removed from pandas in a future version. Use pandas.concat instead.\n",
            "  metrics = metrics.append({'C': c,\n",
            "<ipython-input-60-de944d58a924>:46: FutureWarning: The frame.append method is deprecated and will be removed from pandas in a future version. Use pandas.concat instead.\n",
            "  metrics = metrics.append({'C': c,\n"
          ]
        },
        {
          "output_type": "execute_result",
          "data": {
            "text/plain": [
              "         C Penalty  Min_Coefficient  Max_Coefficient  Mean_Abs_Coefficient  \\\n",
              "0    0.001      l1        -0.041928         0.000000              0.010482   \n",
              "1    0.010      l1        -0.807195         0.000000              0.327754   \n",
              "2    0.100      l1        -1.748996         0.000000              0.935085   \n",
              "3    1.000      l1        -3.848814        -0.132879              2.169977   \n",
              "4   10.000      l1        -7.098438        -0.387857              3.986521   \n",
              "5  100.000      l1        -8.199988        -0.464398              4.597967   \n",
              "\n",
              "  N_Zero Accuracy  \n",
              "0      3      NaN  \n",
              "1      1      NaN  \n",
              "2      1      NaN  \n",
              "3      0      NaN  \n",
              "4      0      NaN  \n",
              "5      0      NaN  "
            ],
            "text/html": [
              "\n",
              "  <div id=\"df-baa713de-7c09-4f35-a788-9be2feaca0c3\" class=\"colab-df-container\">\n",
              "    <div>\n",
              "<style scoped>\n",
              "    .dataframe tbody tr th:only-of-type {\n",
              "        vertical-align: middle;\n",
              "    }\n",
              "\n",
              "    .dataframe tbody tr th {\n",
              "        vertical-align: top;\n",
              "    }\n",
              "\n",
              "    .dataframe thead th {\n",
              "        text-align: right;\n",
              "    }\n",
              "</style>\n",
              "<table border=\"1\" class=\"dataframe\">\n",
              "  <thead>\n",
              "    <tr style=\"text-align: right;\">\n",
              "      <th></th>\n",
              "      <th>C</th>\n",
              "      <th>Penalty</th>\n",
              "      <th>Min_Coefficient</th>\n",
              "      <th>Max_Coefficient</th>\n",
              "      <th>Mean_Abs_Coefficient</th>\n",
              "      <th>N_Zero</th>\n",
              "      <th>Accuracy</th>\n",
              "    </tr>\n",
              "  </thead>\n",
              "  <tbody>\n",
              "    <tr>\n",
              "      <th>0</th>\n",
              "      <td>0.001</td>\n",
              "      <td>l1</td>\n",
              "      <td>-0.041928</td>\n",
              "      <td>0.000000</td>\n",
              "      <td>0.010482</td>\n",
              "      <td>3</td>\n",
              "      <td>NaN</td>\n",
              "    </tr>\n",
              "    <tr>\n",
              "      <th>1</th>\n",
              "      <td>0.010</td>\n",
              "      <td>l1</td>\n",
              "      <td>-0.807195</td>\n",
              "      <td>0.000000</td>\n",
              "      <td>0.327754</td>\n",
              "      <td>1</td>\n",
              "      <td>NaN</td>\n",
              "    </tr>\n",
              "    <tr>\n",
              "      <th>2</th>\n",
              "      <td>0.100</td>\n",
              "      <td>l1</td>\n",
              "      <td>-1.748996</td>\n",
              "      <td>0.000000</td>\n",
              "      <td>0.935085</td>\n",
              "      <td>1</td>\n",
              "      <td>NaN</td>\n",
              "    </tr>\n",
              "    <tr>\n",
              "      <th>3</th>\n",
              "      <td>1.000</td>\n",
              "      <td>l1</td>\n",
              "      <td>-3.848814</td>\n",
              "      <td>-0.132879</td>\n",
              "      <td>2.169977</td>\n",
              "      <td>0</td>\n",
              "      <td>NaN</td>\n",
              "    </tr>\n",
              "    <tr>\n",
              "      <th>4</th>\n",
              "      <td>10.000</td>\n",
              "      <td>l1</td>\n",
              "      <td>-7.098438</td>\n",
              "      <td>-0.387857</td>\n",
              "      <td>3.986521</td>\n",
              "      <td>0</td>\n",
              "      <td>NaN</td>\n",
              "    </tr>\n",
              "    <tr>\n",
              "      <th>5</th>\n",
              "      <td>100.000</td>\n",
              "      <td>l1</td>\n",
              "      <td>-8.199988</td>\n",
              "      <td>-0.464398</td>\n",
              "      <td>4.597967</td>\n",
              "      <td>0</td>\n",
              "      <td>NaN</td>\n",
              "    </tr>\n",
              "  </tbody>\n",
              "</table>\n",
              "</div>\n",
              "    <div class=\"colab-df-buttons\">\n",
              "\n",
              "  <div class=\"colab-df-container\">\n",
              "    <button class=\"colab-df-convert\" onclick=\"convertToInteractive('df-baa713de-7c09-4f35-a788-9be2feaca0c3')\"\n",
              "            title=\"Convert this dataframe to an interactive table.\"\n",
              "            style=\"display:none;\">\n",
              "\n",
              "  <svg xmlns=\"http://www.w3.org/2000/svg\" height=\"24px\" viewBox=\"0 -960 960 960\">\n",
              "    <path d=\"M120-120v-720h720v720H120Zm60-500h600v-160H180v160Zm220 220h160v-160H400v160Zm0 220h160v-160H400v160ZM180-400h160v-160H180v160Zm440 0h160v-160H620v160ZM180-180h160v-160H180v160Zm440 0h160v-160H620v160Z\"/>\n",
              "  </svg>\n",
              "    </button>\n",
              "\n",
              "  <style>\n",
              "    .colab-df-container {\n",
              "      display:flex;\n",
              "      gap: 12px;\n",
              "    }\n",
              "\n",
              "    .colab-df-convert {\n",
              "      background-color: #E8F0FE;\n",
              "      border: none;\n",
              "      border-radius: 50%;\n",
              "      cursor: pointer;\n",
              "      display: none;\n",
              "      fill: #1967D2;\n",
              "      height: 32px;\n",
              "      padding: 0 0 0 0;\n",
              "      width: 32px;\n",
              "    }\n",
              "\n",
              "    .colab-df-convert:hover {\n",
              "      background-color: #E2EBFA;\n",
              "      box-shadow: 0px 1px 2px rgba(60, 64, 67, 0.3), 0px 1px 3px 1px rgba(60, 64, 67, 0.15);\n",
              "      fill: #174EA6;\n",
              "    }\n",
              "\n",
              "    .colab-df-buttons div {\n",
              "      margin-bottom: 4px;\n",
              "    }\n",
              "\n",
              "    [theme=dark] .colab-df-convert {\n",
              "      background-color: #3B4455;\n",
              "      fill: #D2E3FC;\n",
              "    }\n",
              "\n",
              "    [theme=dark] .colab-df-convert:hover {\n",
              "      background-color: #434B5C;\n",
              "      box-shadow: 0px 1px 3px 1px rgba(0, 0, 0, 0.15);\n",
              "      filter: drop-shadow(0px 1px 2px rgba(0, 0, 0, 0.3));\n",
              "      fill: #FFFFFF;\n",
              "    }\n",
              "  </style>\n",
              "\n",
              "    <script>\n",
              "      const buttonEl =\n",
              "        document.querySelector('#df-baa713de-7c09-4f35-a788-9be2feaca0c3 button.colab-df-convert');\n",
              "      buttonEl.style.display =\n",
              "        google.colab.kernel.accessAllowed ? 'block' : 'none';\n",
              "\n",
              "      async function convertToInteractive(key) {\n",
              "        const element = document.querySelector('#df-baa713de-7c09-4f35-a788-9be2feaca0c3');\n",
              "        const dataTable =\n",
              "          await google.colab.kernel.invokeFunction('convertToInteractive',\n",
              "                                                    [key], {});\n",
              "        if (!dataTable) return;\n",
              "\n",
              "        const docLinkHtml = 'Like what you see? Visit the ' +\n",
              "          '<a target=\"_blank\" href=https://colab.research.google.com/notebooks/data_table.ipynb>data table notebook</a>'\n",
              "          + ' to learn more about interactive tables.';\n",
              "        element.innerHTML = '';\n",
              "        dataTable['output_type'] = 'display_data';\n",
              "        await google.colab.output.renderOutput(dataTable, element);\n",
              "        const docLink = document.createElement('div');\n",
              "        docLink.innerHTML = docLinkHtml;\n",
              "        element.appendChild(docLink);\n",
              "      }\n",
              "    </script>\n",
              "  </div>\n",
              "\n",
              "\n",
              "<div id=\"df-fcb3bfb0-755a-40f1-bda6-401f903ac414\">\n",
              "  <button class=\"colab-df-quickchart\" onclick=\"quickchart('df-fcb3bfb0-755a-40f1-bda6-401f903ac414')\"\n",
              "            title=\"Suggest charts\"\n",
              "            style=\"display:none;\">\n",
              "\n",
              "<svg xmlns=\"http://www.w3.org/2000/svg\" height=\"24px\"viewBox=\"0 0 24 24\"\n",
              "     width=\"24px\">\n",
              "    <g>\n",
              "        <path d=\"M19 3H5c-1.1 0-2 .9-2 2v14c0 1.1.9 2 2 2h14c1.1 0 2-.9 2-2V5c0-1.1-.9-2-2-2zM9 17H7v-7h2v7zm4 0h-2V7h2v10zm4 0h-2v-4h2v4z\"/>\n",
              "    </g>\n",
              "</svg>\n",
              "  </button>\n",
              "\n",
              "<style>\n",
              "  .colab-df-quickchart {\n",
              "      --bg-color: #E8F0FE;\n",
              "      --fill-color: #1967D2;\n",
              "      --hover-bg-color: #E2EBFA;\n",
              "      --hover-fill-color: #174EA6;\n",
              "      --disabled-fill-color: #AAA;\n",
              "      --disabled-bg-color: #DDD;\n",
              "  }\n",
              "\n",
              "  [theme=dark] .colab-df-quickchart {\n",
              "      --bg-color: #3B4455;\n",
              "      --fill-color: #D2E3FC;\n",
              "      --hover-bg-color: #434B5C;\n",
              "      --hover-fill-color: #FFFFFF;\n",
              "      --disabled-bg-color: #3B4455;\n",
              "      --disabled-fill-color: #666;\n",
              "  }\n",
              "\n",
              "  .colab-df-quickchart {\n",
              "    background-color: var(--bg-color);\n",
              "    border: none;\n",
              "    border-radius: 50%;\n",
              "    cursor: pointer;\n",
              "    display: none;\n",
              "    fill: var(--fill-color);\n",
              "    height: 32px;\n",
              "    padding: 0;\n",
              "    width: 32px;\n",
              "  }\n",
              "\n",
              "  .colab-df-quickchart:hover {\n",
              "    background-color: var(--hover-bg-color);\n",
              "    box-shadow: 0 1px 2px rgba(60, 64, 67, 0.3), 0 1px 3px 1px rgba(60, 64, 67, 0.15);\n",
              "    fill: var(--button-hover-fill-color);\n",
              "  }\n",
              "\n",
              "  .colab-df-quickchart-complete:disabled,\n",
              "  .colab-df-quickchart-complete:disabled:hover {\n",
              "    background-color: var(--disabled-bg-color);\n",
              "    fill: var(--disabled-fill-color);\n",
              "    box-shadow: none;\n",
              "  }\n",
              "\n",
              "  .colab-df-spinner {\n",
              "    border: 2px solid var(--fill-color);\n",
              "    border-color: transparent;\n",
              "    border-bottom-color: var(--fill-color);\n",
              "    animation:\n",
              "      spin 1s steps(1) infinite;\n",
              "  }\n",
              "\n",
              "  @keyframes spin {\n",
              "    0% {\n",
              "      border-color: transparent;\n",
              "      border-bottom-color: var(--fill-color);\n",
              "      border-left-color: var(--fill-color);\n",
              "    }\n",
              "    20% {\n",
              "      border-color: transparent;\n",
              "      border-left-color: var(--fill-color);\n",
              "      border-top-color: var(--fill-color);\n",
              "    }\n",
              "    30% {\n",
              "      border-color: transparent;\n",
              "      border-left-color: var(--fill-color);\n",
              "      border-top-color: var(--fill-color);\n",
              "      border-right-color: var(--fill-color);\n",
              "    }\n",
              "    40% {\n",
              "      border-color: transparent;\n",
              "      border-right-color: var(--fill-color);\n",
              "      border-top-color: var(--fill-color);\n",
              "    }\n",
              "    60% {\n",
              "      border-color: transparent;\n",
              "      border-right-color: var(--fill-color);\n",
              "    }\n",
              "    80% {\n",
              "      border-color: transparent;\n",
              "      border-right-color: var(--fill-color);\n",
              "      border-bottom-color: var(--fill-color);\n",
              "    }\n",
              "    90% {\n",
              "      border-color: transparent;\n",
              "      border-bottom-color: var(--fill-color);\n",
              "    }\n",
              "  }\n",
              "</style>\n",
              "\n",
              "  <script>\n",
              "    async function quickchart(key) {\n",
              "      const quickchartButtonEl =\n",
              "        document.querySelector('#' + key + ' button');\n",
              "      quickchartButtonEl.disabled = true;  // To prevent multiple clicks.\n",
              "      quickchartButtonEl.classList.add('colab-df-spinner');\n",
              "      try {\n",
              "        const charts = await google.colab.kernel.invokeFunction(\n",
              "            'suggestCharts', [key], {});\n",
              "      } catch (error) {\n",
              "        console.error('Error during call to suggestCharts:', error);\n",
              "      }\n",
              "      quickchartButtonEl.classList.remove('colab-df-spinner');\n",
              "      quickchartButtonEl.classList.add('colab-df-quickchart-complete');\n",
              "    }\n",
              "    (() => {\n",
              "      let quickchartButtonEl =\n",
              "        document.querySelector('#df-fcb3bfb0-755a-40f1-bda6-401f903ac414 button');\n",
              "      quickchartButtonEl.style.display =\n",
              "        google.colab.kernel.accessAllowed ? 'block' : 'none';\n",
              "    })();\n",
              "  </script>\n",
              "</div>\n",
              "    </div>\n",
              "  </div>\n"
            ]
          },
          "metadata": {},
          "execution_count": 62
        }
      ],
      "source": [
        "# running example\n",
        "l1_clfs, c_effect_l1 = compare_c(X_train, y_train, X_test, y_test, p='l1')\n",
        "c_effect_l1"
      ]
    },
    {
      "cell_type": "markdown",
      "id": "934a8855",
      "metadata": {
        "id": "934a8855"
      },
      "source": [
        "**Your thoughts and observations:**\n",
        "  - explain model performance from the perspective of under-fitting VS over-fitting\n",
        "  - compare the two tables and indicate the difference between L1 and L2 penalty\n",
        "  - how does c affect coefficients and model performance in each table"
      ]
    },
    {
      "cell_type": "markdown",
      "source": [
        "+ Model Performance: Underfitting vs Overfitting\n",
        " + Models with lower C values are likely to underfit as they show stronger regularization, pushing coefficients towards zero and potentially ignoring subtle patterns in the data.\n",
        "Models with higher C values may overfit as they have weaker regularization, allowing the coefficients to grow and potentially fit noise in the training data.\n",
        "\n",
        "+ Difference between L1 and L2 Penalty\n",
        " + L1 penalty leads to sparsity in the model with some coefficients set to zero, which could be beneficial for feature selection.\n",
        " + L2 penalty does not encourage sparsity but rather shrinks the coefficients towards zero evenly (but not zero), which can help in cases where all features have small contributions to the outcome.\n",
        "\n",
        "+ Effect of C on Coefficients and Model Performance\n",
        " + As C increases, the mean absolute coefficient values increase, indicating a less restricted model. Conversely, as C decreases, the model becomes more restricted and more coefficients are driven to zero."
      ],
      "metadata": {
        "id": "oKPvUHi14v4U"
      },
      "id": "oKPvUHi14v4U"
    },
    {
      "cell_type": "markdown",
      "id": "8cd39d68",
      "metadata": {
        "id": "8cd39d68"
      },
      "source": [
        "### Interpret the model performance wrt the banknote authentication task\n",
        "- how does each feature relate with the identification of genuine and forged banknote\n",
        "- does these statistical correlations make sense from the perspective of image recognition"
      ]
    },
    {
      "cell_type": "markdown",
      "source": [
        "+ Feature Relevance\n",
        " + Variance: Indicates consistency in textural features like ink dispersion on paper. Authentic notes typically have a consistent variance due to high-quality control.\n",
        " + Skewness: Reflects asymmetry in the distribution of pixel values. Genuine notes may have a standard skewness due to uniform printing processes.\n",
        " + Kurtosis: Measures the 'tailedness' of the pixel value distribution. Real banknotes could have a specific kurtosis range, indicating controlled print quality.\n",
        " + Entropy: Assesses the level of disorder or complexity in the image, with forged notes potentially exhibiting higher entropy due to less precise manufacturing.\n",
        "\n",
        "+ Statistical Correlations\n",
        " + Yes, it makes sense from the perspective of image recognition. The logistic regression model seems to effectively use statistical correlations between these features and the class label to distinguish between genuine and forged banknotes. These correlations are sensible from an image recognition standpoint, as they correspond to observable differences in the physical characteristics of the notes.\n",
        "\n",
        "\n",
        "\n",
        "\n",
        "\n"
      ],
      "metadata": {
        "id": "mdrnPuzU5_0e"
      },
      "id": "mdrnPuzU5_0e"
    },
    {
      "cell_type": "markdown",
      "id": "29bcb91b",
      "metadata": {
        "id": "29bcb91b"
      },
      "source": [
        "## Summary\n",
        "Congratulations for completing this exercise! In this notebook, with hands-on practice of linear models for regression and classification tasks, we gain deep understanding of:\n",
        "- overfitting VS underfitting\n",
        "- difference between l1 and l2 regularizations\n",
        "- the effect of regularization strength on model performance"
      ]
    },
    {
      "cell_type": "markdown",
      "id": "327df471",
      "metadata": {
        "id": "327df471"
      },
      "source": [
        "## Which part(s) you find most interesting/chanlleging?"
      ]
    },
    {
      "cell_type": "markdown",
      "source": [
        "I take some time to fully learn the concept of L1 & L2 regularizations, and I believe it would be rewarding as it's very useful in the future study!"
      ],
      "metadata": {
        "id": "jkONmJJy7q3n"
      },
      "id": "jkONmJJy7q3n"
    }
  ],
  "metadata": {
    "kernelspec": {
      "display_name": "Python 3",
      "language": "python",
      "name": "python3"
    },
    "language_info": {
      "codemirror_mode": {
        "name": "ipython",
        "version": 3
      },
      "file_extension": ".py",
      "mimetype": "text/x-python",
      "name": "python",
      "nbconvert_exporter": "python",
      "pygments_lexer": "ipython3",
      "version": "3.8.8"
    },
    "toc": {
      "base_numbering": 1,
      "nav_menu": {},
      "number_sections": true,
      "sideBar": true,
      "skip_h1_title": false,
      "title_cell": "Table of Contents",
      "title_sidebar": "Contents",
      "toc_cell": false,
      "toc_position": {},
      "toc_section_display": true,
      "toc_window_display": false
    },
    "colab": {
      "provenance": []
    }
  },
  "nbformat": 4,
  "nbformat_minor": 5
}