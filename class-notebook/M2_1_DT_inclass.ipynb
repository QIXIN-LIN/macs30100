{
  "cells": [
    {
      "cell_type": "markdown",
      "id": "ab634878",
      "metadata": {
        "id": "ab634878"
      },
      "source": [
        "### Tree-based Machine Learning Models\n",
        "In this jupyter notebook, we will practice the topics covered in the lectures. Specifically, we will do hands-on practice of:\n",
        "- load and prepare data for machine learning model training\n",
        "- train and test tree-based models (decision tree classifier/regressor, randomforest classifier/regressor)\n",
        "- visualize and interpret model performance"
      ]
    },
    {
      "cell_type": "code",
      "execution_count": 1,
      "id": "332a14f7",
      "metadata": {
        "id": "332a14f7"
      },
      "outputs": [],
      "source": [
        "# packages for data\n",
        "import numpy as np\n",
        "import pandas as pd\n",
        "from collections import Counter\n",
        "\n",
        "# packages for machine learning\n",
        "import sklearn\n",
        "from sklearn import tree\n",
        "from sklearn.model_selection import train_test_split\n",
        "import graphviz\n",
        "\n",
        "# packages for plot and visualization\n",
        "import matplotlib.pyplot as plt\n",
        "from matplotlib import pylab\n",
        "import graphviz\n",
        "pylab.rcParams[\"figure.figsize\"] = (5.0, 4.0)\n",
        "%matplotlib inline"
      ]
    },
    {
      "cell_type": "markdown",
      "id": "95b05a19",
      "metadata": {
        "id": "95b05a19"
      },
      "source": [
        "In the following tasks, we will implement several tree-based models using Python3 and scikit-learn: https://scikit-learn.org/stable/. Let's first check the version of python and sklearn."
      ]
    },
    {
      "cell_type": "code",
      "execution_count": 2,
      "id": "342c5ce3",
      "metadata": {
        "colab": {
          "base_uri": "https://localhost:8080/"
        },
        "id": "342c5ce3",
        "outputId": "0b808c16-7255-4a29-8ff6-37d9f17eef53"
      },
      "outputs": [
        {
          "output_type": "stream",
          "name": "stdout",
          "text": [
            "3.10.12\n"
          ]
        }
      ],
      "source": [
        "# Check your python version, we need Python3 to run the following code\n",
        "from platform import python_version\n",
        "print(python_version())"
      ]
    },
    {
      "cell_type": "code",
      "execution_count": 3,
      "id": "45794121",
      "metadata": {
        "colab": {
          "base_uri": "https://localhost:8080/",
          "height": 36
        },
        "id": "45794121",
        "outputId": "218c3f50-3ea3-41b7-ccd9-9efd8cf68bb5"
      },
      "outputs": [
        {
          "output_type": "execute_result",
          "data": {
            "text/plain": [
              "'1.2.2'"
            ],
            "application/vnd.google.colaboratory.intrinsic+json": {
              "type": "string"
            }
          },
          "metadata": {},
          "execution_count": 3
        }
      ],
      "source": [
        "# Check the version of your sklearn package\n",
        "# In coding and debugging, make sure you refer to the **correct version of the documentation**\n",
        "sklearn.__version__"
      ]
    },
    {
      "cell_type": "markdown",
      "id": "530882b1",
      "metadata": {
        "id": "530882b1"
      },
      "source": [
        "### Train and Test a Decision Tree classifier"
      ]
    },
    {
      "cell_type": "markdown",
      "id": "712cde84",
      "metadata": {
        "id": "712cde84"
      },
      "source": [
        "In this task, we will load a dataset, train a decision tree classifier on the training set, and test the classifier performance on the testing set. Here are the suggested steps: <br>\n",
        "1. Import the necessary packages. <br>\n",
        "\n",
        "**Prepare data**<br><br>\n",
        "2. <u>_Load_</u> the iris dataset. <br>\n",
        "    ---> More information about the dataset can be found here: https://scikit-learn.org/stable/auto_examples/datasets/plot_iris_dataset.html.<br>\n",
        "3. Prepare the <u>_input feature matrix and the target variable_</u>. Then, split data into training and testing set.\n",
        "<br><br>\n",
        "\n",
        "**Model training and evaluation**<br>\n",
        "4. Create a DecisionTreeClassifier object. <br>\n",
        "    ---> Documentation: https://scikit-learn.org/stable/modules/generated/sklearn.tree.DecisionTreeClassifier.html. <br>\n",
        "    ---> Let's set criterion = \"entropy\" and random_state = 42, and keep all the other parameters with the default value.<br>\n",
        "5. <u>_Fit_</u> the DecisionTreeClassifier on the training set.<br>\n",
        "6. <u>_Evaluate_</u> the DecisionTreeClassifier performance using the \"score\" function on the testing set.\n",
        "<br><br>\n",
        "\n",
        "**Visualization and result analysis** <br>\n",
        "7. Visualize the fitted DecisionTreeClassifier and interpret its performance. <br>\n",
        "    ---> More information on plotting decision trees can be found here: https://scikit-learn.org/stable/modules/tree.html\n",
        "<br><br>\n",
        "\n",
        "**Exploration**<br>\n",
        "8. Finally, play with different values of model parameters. Explore how the model performance change with different parameter settings and how the visualized trees change.<br>"
      ]
    },
    {
      "cell_type": "code",
      "execution_count": 4,
      "id": "cf31395a",
      "metadata": {
        "id": "cf31395a"
      },
      "outputs": [],
      "source": [
        "# 1. import related packages\n",
        "from sklearn.datasets import load_iris"
      ]
    },
    {
      "cell_type": "markdown",
      "id": "e5f415ac",
      "metadata": {
        "id": "e5f415ac"
      },
      "source": [
        "#### Prepare data"
      ]
    },
    {
      "cell_type": "code",
      "execution_count": 5,
      "id": "f456ab4d",
      "metadata": {
        "id": "f456ab4d"
      },
      "outputs": [],
      "source": [
        "# 2. load the dataset\n",
        "iris = load_iris()"
      ]
    },
    {
      "cell_type": "code",
      "execution_count": 6,
      "id": "fcec5991",
      "metadata": {
        "colab": {
          "base_uri": "https://localhost:8080/",
          "height": 424
        },
        "id": "fcec5991",
        "outputId": "1a348ea0-077a-4df9-dc9c-e1f9479332c2"
      },
      "outputs": [
        {
          "output_type": "execute_result",
          "data": {
            "text/plain": [
              "     sepal length (cm)  sepal width (cm)  petal length (cm)  petal width (cm)  \\\n",
              "0                  5.1               3.5                1.4               0.2   \n",
              "1                  4.9               3.0                1.4               0.2   \n",
              "2                  4.7               3.2                1.3               0.2   \n",
              "3                  4.6               3.1                1.5               0.2   \n",
              "4                  5.0               3.6                1.4               0.2   \n",
              "..                 ...               ...                ...               ...   \n",
              "145                6.7               3.0                5.2               2.3   \n",
              "146                6.3               2.5                5.0               1.9   \n",
              "147                6.5               3.0                5.2               2.0   \n",
              "148                6.2               3.4                5.4               2.3   \n",
              "149                5.9               3.0                5.1               1.8   \n",
              "\n",
              "     target  \n",
              "0         0  \n",
              "1         0  \n",
              "2         0  \n",
              "3         0  \n",
              "4         0  \n",
              "..      ...  \n",
              "145       2  \n",
              "146       2  \n",
              "147       2  \n",
              "148       2  \n",
              "149       2  \n",
              "\n",
              "[150 rows x 5 columns]"
            ],
            "text/html": [
              "\n",
              "  <div id=\"df-4d5984e4-da88-4458-acde-33b7f9ead06b\" class=\"colab-df-container\">\n",
              "    <div>\n",
              "<style scoped>\n",
              "    .dataframe tbody tr th:only-of-type {\n",
              "        vertical-align: middle;\n",
              "    }\n",
              "\n",
              "    .dataframe tbody tr th {\n",
              "        vertical-align: top;\n",
              "    }\n",
              "\n",
              "    .dataframe thead th {\n",
              "        text-align: right;\n",
              "    }\n",
              "</style>\n",
              "<table border=\"1\" class=\"dataframe\">\n",
              "  <thead>\n",
              "    <tr style=\"text-align: right;\">\n",
              "      <th></th>\n",
              "      <th>sepal length (cm)</th>\n",
              "      <th>sepal width (cm)</th>\n",
              "      <th>petal length (cm)</th>\n",
              "      <th>petal width (cm)</th>\n",
              "      <th>target</th>\n",
              "    </tr>\n",
              "  </thead>\n",
              "  <tbody>\n",
              "    <tr>\n",
              "      <th>0</th>\n",
              "      <td>5.1</td>\n",
              "      <td>3.5</td>\n",
              "      <td>1.4</td>\n",
              "      <td>0.2</td>\n",
              "      <td>0</td>\n",
              "    </tr>\n",
              "    <tr>\n",
              "      <th>1</th>\n",
              "      <td>4.9</td>\n",
              "      <td>3.0</td>\n",
              "      <td>1.4</td>\n",
              "      <td>0.2</td>\n",
              "      <td>0</td>\n",
              "    </tr>\n",
              "    <tr>\n",
              "      <th>2</th>\n",
              "      <td>4.7</td>\n",
              "      <td>3.2</td>\n",
              "      <td>1.3</td>\n",
              "      <td>0.2</td>\n",
              "      <td>0</td>\n",
              "    </tr>\n",
              "    <tr>\n",
              "      <th>3</th>\n",
              "      <td>4.6</td>\n",
              "      <td>3.1</td>\n",
              "      <td>1.5</td>\n",
              "      <td>0.2</td>\n",
              "      <td>0</td>\n",
              "    </tr>\n",
              "    <tr>\n",
              "      <th>4</th>\n",
              "      <td>5.0</td>\n",
              "      <td>3.6</td>\n",
              "      <td>1.4</td>\n",
              "      <td>0.2</td>\n",
              "      <td>0</td>\n",
              "    </tr>\n",
              "    <tr>\n",
              "      <th>...</th>\n",
              "      <td>...</td>\n",
              "      <td>...</td>\n",
              "      <td>...</td>\n",
              "      <td>...</td>\n",
              "      <td>...</td>\n",
              "    </tr>\n",
              "    <tr>\n",
              "      <th>145</th>\n",
              "      <td>6.7</td>\n",
              "      <td>3.0</td>\n",
              "      <td>5.2</td>\n",
              "      <td>2.3</td>\n",
              "      <td>2</td>\n",
              "    </tr>\n",
              "    <tr>\n",
              "      <th>146</th>\n",
              "      <td>6.3</td>\n",
              "      <td>2.5</td>\n",
              "      <td>5.0</td>\n",
              "      <td>1.9</td>\n",
              "      <td>2</td>\n",
              "    </tr>\n",
              "    <tr>\n",
              "      <th>147</th>\n",
              "      <td>6.5</td>\n",
              "      <td>3.0</td>\n",
              "      <td>5.2</td>\n",
              "      <td>2.0</td>\n",
              "      <td>2</td>\n",
              "    </tr>\n",
              "    <tr>\n",
              "      <th>148</th>\n",
              "      <td>6.2</td>\n",
              "      <td>3.4</td>\n",
              "      <td>5.4</td>\n",
              "      <td>2.3</td>\n",
              "      <td>2</td>\n",
              "    </tr>\n",
              "    <tr>\n",
              "      <th>149</th>\n",
              "      <td>5.9</td>\n",
              "      <td>3.0</td>\n",
              "      <td>5.1</td>\n",
              "      <td>1.8</td>\n",
              "      <td>2</td>\n",
              "    </tr>\n",
              "  </tbody>\n",
              "</table>\n",
              "<p>150 rows × 5 columns</p>\n",
              "</div>\n",
              "    <div class=\"colab-df-buttons\">\n",
              "\n",
              "  <div class=\"colab-df-container\">\n",
              "    <button class=\"colab-df-convert\" onclick=\"convertToInteractive('df-4d5984e4-da88-4458-acde-33b7f9ead06b')\"\n",
              "            title=\"Convert this dataframe to an interactive table.\"\n",
              "            style=\"display:none;\">\n",
              "\n",
              "  <svg xmlns=\"http://www.w3.org/2000/svg\" height=\"24px\" viewBox=\"0 -960 960 960\">\n",
              "    <path d=\"M120-120v-720h720v720H120Zm60-500h600v-160H180v160Zm220 220h160v-160H400v160Zm0 220h160v-160H400v160ZM180-400h160v-160H180v160Zm440 0h160v-160H620v160ZM180-180h160v-160H180v160Zm440 0h160v-160H620v160Z\"/>\n",
              "  </svg>\n",
              "    </button>\n",
              "\n",
              "  <style>\n",
              "    .colab-df-container {\n",
              "      display:flex;\n",
              "      gap: 12px;\n",
              "    }\n",
              "\n",
              "    .colab-df-convert {\n",
              "      background-color: #E8F0FE;\n",
              "      border: none;\n",
              "      border-radius: 50%;\n",
              "      cursor: pointer;\n",
              "      display: none;\n",
              "      fill: #1967D2;\n",
              "      height: 32px;\n",
              "      padding: 0 0 0 0;\n",
              "      width: 32px;\n",
              "    }\n",
              "\n",
              "    .colab-df-convert:hover {\n",
              "      background-color: #E2EBFA;\n",
              "      box-shadow: 0px 1px 2px rgba(60, 64, 67, 0.3), 0px 1px 3px 1px rgba(60, 64, 67, 0.15);\n",
              "      fill: #174EA6;\n",
              "    }\n",
              "\n",
              "    .colab-df-buttons div {\n",
              "      margin-bottom: 4px;\n",
              "    }\n",
              "\n",
              "    [theme=dark] .colab-df-convert {\n",
              "      background-color: #3B4455;\n",
              "      fill: #D2E3FC;\n",
              "    }\n",
              "\n",
              "    [theme=dark] .colab-df-convert:hover {\n",
              "      background-color: #434B5C;\n",
              "      box-shadow: 0px 1px 3px 1px rgba(0, 0, 0, 0.15);\n",
              "      filter: drop-shadow(0px 1px 2px rgba(0, 0, 0, 0.3));\n",
              "      fill: #FFFFFF;\n",
              "    }\n",
              "  </style>\n",
              "\n",
              "    <script>\n",
              "      const buttonEl =\n",
              "        document.querySelector('#df-4d5984e4-da88-4458-acde-33b7f9ead06b button.colab-df-convert');\n",
              "      buttonEl.style.display =\n",
              "        google.colab.kernel.accessAllowed ? 'block' : 'none';\n",
              "\n",
              "      async function convertToInteractive(key) {\n",
              "        const element = document.querySelector('#df-4d5984e4-da88-4458-acde-33b7f9ead06b');\n",
              "        const dataTable =\n",
              "          await google.colab.kernel.invokeFunction('convertToInteractive',\n",
              "                                                    [key], {});\n",
              "        if (!dataTable) return;\n",
              "\n",
              "        const docLinkHtml = 'Like what you see? Visit the ' +\n",
              "          '<a target=\"_blank\" href=https://colab.research.google.com/notebooks/data_table.ipynb>data table notebook</a>'\n",
              "          + ' to learn more about interactive tables.';\n",
              "        element.innerHTML = '';\n",
              "        dataTable['output_type'] = 'display_data';\n",
              "        await google.colab.output.renderOutput(dataTable, element);\n",
              "        const docLink = document.createElement('div');\n",
              "        docLink.innerHTML = docLinkHtml;\n",
              "        element.appendChild(docLink);\n",
              "      }\n",
              "    </script>\n",
              "  </div>\n",
              "\n",
              "\n",
              "<div id=\"df-24a4c96f-6830-4793-9b26-df471a4d4539\">\n",
              "  <button class=\"colab-df-quickchart\" onclick=\"quickchart('df-24a4c96f-6830-4793-9b26-df471a4d4539')\"\n",
              "            title=\"Suggest charts\"\n",
              "            style=\"display:none;\">\n",
              "\n",
              "<svg xmlns=\"http://www.w3.org/2000/svg\" height=\"24px\"viewBox=\"0 0 24 24\"\n",
              "     width=\"24px\">\n",
              "    <g>\n",
              "        <path d=\"M19 3H5c-1.1 0-2 .9-2 2v14c0 1.1.9 2 2 2h14c1.1 0 2-.9 2-2V5c0-1.1-.9-2-2-2zM9 17H7v-7h2v7zm4 0h-2V7h2v10zm4 0h-2v-4h2v4z\"/>\n",
              "    </g>\n",
              "</svg>\n",
              "  </button>\n",
              "\n",
              "<style>\n",
              "  .colab-df-quickchart {\n",
              "      --bg-color: #E8F0FE;\n",
              "      --fill-color: #1967D2;\n",
              "      --hover-bg-color: #E2EBFA;\n",
              "      --hover-fill-color: #174EA6;\n",
              "      --disabled-fill-color: #AAA;\n",
              "      --disabled-bg-color: #DDD;\n",
              "  }\n",
              "\n",
              "  [theme=dark] .colab-df-quickchart {\n",
              "      --bg-color: #3B4455;\n",
              "      --fill-color: #D2E3FC;\n",
              "      --hover-bg-color: #434B5C;\n",
              "      --hover-fill-color: #FFFFFF;\n",
              "      --disabled-bg-color: #3B4455;\n",
              "      --disabled-fill-color: #666;\n",
              "  }\n",
              "\n",
              "  .colab-df-quickchart {\n",
              "    background-color: var(--bg-color);\n",
              "    border: none;\n",
              "    border-radius: 50%;\n",
              "    cursor: pointer;\n",
              "    display: none;\n",
              "    fill: var(--fill-color);\n",
              "    height: 32px;\n",
              "    padding: 0;\n",
              "    width: 32px;\n",
              "  }\n",
              "\n",
              "  .colab-df-quickchart:hover {\n",
              "    background-color: var(--hover-bg-color);\n",
              "    box-shadow: 0 1px 2px rgba(60, 64, 67, 0.3), 0 1px 3px 1px rgba(60, 64, 67, 0.15);\n",
              "    fill: var(--button-hover-fill-color);\n",
              "  }\n",
              "\n",
              "  .colab-df-quickchart-complete:disabled,\n",
              "  .colab-df-quickchart-complete:disabled:hover {\n",
              "    background-color: var(--disabled-bg-color);\n",
              "    fill: var(--disabled-fill-color);\n",
              "    box-shadow: none;\n",
              "  }\n",
              "\n",
              "  .colab-df-spinner {\n",
              "    border: 2px solid var(--fill-color);\n",
              "    border-color: transparent;\n",
              "    border-bottom-color: var(--fill-color);\n",
              "    animation:\n",
              "      spin 1s steps(1) infinite;\n",
              "  }\n",
              "\n",
              "  @keyframes spin {\n",
              "    0% {\n",
              "      border-color: transparent;\n",
              "      border-bottom-color: var(--fill-color);\n",
              "      border-left-color: var(--fill-color);\n",
              "    }\n",
              "    20% {\n",
              "      border-color: transparent;\n",
              "      border-left-color: var(--fill-color);\n",
              "      border-top-color: var(--fill-color);\n",
              "    }\n",
              "    30% {\n",
              "      border-color: transparent;\n",
              "      border-left-color: var(--fill-color);\n",
              "      border-top-color: var(--fill-color);\n",
              "      border-right-color: var(--fill-color);\n",
              "    }\n",
              "    40% {\n",
              "      border-color: transparent;\n",
              "      border-right-color: var(--fill-color);\n",
              "      border-top-color: var(--fill-color);\n",
              "    }\n",
              "    60% {\n",
              "      border-color: transparent;\n",
              "      border-right-color: var(--fill-color);\n",
              "    }\n",
              "    80% {\n",
              "      border-color: transparent;\n",
              "      border-right-color: var(--fill-color);\n",
              "      border-bottom-color: var(--fill-color);\n",
              "    }\n",
              "    90% {\n",
              "      border-color: transparent;\n",
              "      border-bottom-color: var(--fill-color);\n",
              "    }\n",
              "  }\n",
              "</style>\n",
              "\n",
              "  <script>\n",
              "    async function quickchart(key) {\n",
              "      const quickchartButtonEl =\n",
              "        document.querySelector('#' + key + ' button');\n",
              "      quickchartButtonEl.disabled = true;  // To prevent multiple clicks.\n",
              "      quickchartButtonEl.classList.add('colab-df-spinner');\n",
              "      try {\n",
              "        const charts = await google.colab.kernel.invokeFunction(\n",
              "            'suggestCharts', [key], {});\n",
              "      } catch (error) {\n",
              "        console.error('Error during call to suggestCharts:', error);\n",
              "      }\n",
              "      quickchartButtonEl.classList.remove('colab-df-spinner');\n",
              "      quickchartButtonEl.classList.add('colab-df-quickchart-complete');\n",
              "    }\n",
              "    (() => {\n",
              "      let quickchartButtonEl =\n",
              "        document.querySelector('#df-24a4c96f-6830-4793-9b26-df471a4d4539 button');\n",
              "      quickchartButtonEl.style.display =\n",
              "        google.colab.kernel.accessAllowed ? 'block' : 'none';\n",
              "    })();\n",
              "  </script>\n",
              "</div>\n",
              "    </div>\n",
              "  </div>\n"
            ]
          },
          "metadata": {},
          "execution_count": 6
        }
      ],
      "source": [
        "# 2. display the dataset as a pandas dataframe\n",
        "df_iris = pd.DataFrame(iris.data, columns=iris.feature_names)\n",
        "df_iris['target'] = iris.target\n",
        "df_iris"
      ]
    },
    {
      "cell_type": "code",
      "execution_count": 7,
      "id": "5f5bb935",
      "metadata": {
        "colab": {
          "base_uri": "https://localhost:8080/"
        },
        "id": "5f5bb935",
        "outputId": "25a39eee-1fd8-49a2-d093-9f61592c4443"
      },
      "outputs": [
        {
          "output_type": "execute_result",
          "data": {
            "text/plain": [
              "Counter({0: 50, 1: 50, 2: 50})"
            ]
          },
          "metadata": {},
          "execution_count": 7
        }
      ],
      "source": [
        "# if the target variable is discrete, check the label distribution of the target variable\n",
        "Counter(df_iris.target)"
      ]
    },
    {
      "cell_type": "code",
      "execution_count": 8,
      "id": "2493590c",
      "metadata": {
        "colab": {
          "base_uri": "https://localhost:8080/"
        },
        "id": "2493590c",
        "outputId": "8aa28bfa-0d2e-4624-e2c6-ea4966728c7e"
      },
      "outputs": [
        {
          "output_type": "execute_result",
          "data": {
            "text/plain": [
              "((150, 4), (150,))"
            ]
          },
          "metadata": {},
          "execution_count": 8
        }
      ],
      "source": [
        "# 3. Get the input feature matrix and target variable, prepare for model fitting\n",
        "X,y = iris.data, iris.target\n",
        "X.shape, y.shape"
      ]
    },
    {
      "cell_type": "code",
      "execution_count": 9,
      "id": "ba14da41",
      "metadata": {
        "colab": {
          "base_uri": "https://localhost:8080/"
        },
        "id": "ba14da41",
        "outputId": "4487239d-77d4-4af2-fe71-80e933c14d47"
      },
      "outputs": [
        {
          "output_type": "execute_result",
          "data": {
            "text/plain": [
              "((105, 4), (45, 4))"
            ]
          },
          "metadata": {},
          "execution_count": 9
        }
      ],
      "source": [
        "# 3. split the data into training and testing set\n",
        "X_train, X_test, y_train, y_test = train_test_split(X, y, test_size=0.3, random_state=42)\n",
        "X_train.shape, X_test.shape"
      ]
    },
    {
      "cell_type": "markdown",
      "id": "5f1670b5",
      "metadata": {
        "id": "5f1670b5"
      },
      "source": [
        "#### Model training and evaluation"
      ]
    },
    {
      "cell_type": "code",
      "execution_count": 10,
      "id": "edeed738",
      "metadata": {
        "id": "edeed738"
      },
      "outputs": [],
      "source": [
        "from sklearn.tree import DecisionTreeClassifier"
      ]
    },
    {
      "cell_type": "code",
      "execution_count": 11,
      "id": "f208ee58",
      "metadata": {
        "id": "f208ee58"
      },
      "outputs": [],
      "source": [
        "# 4. Create a DecisionTreeClassifier object.\n",
        "# set criterion = \"entropy\" and random_state = 42, and keep all the other parameters with the default value.\n",
        "dt_clf = DecisionTreeClassifier(random_state=42,criterion='entropy')"
      ]
    },
    {
      "cell_type": "code",
      "execution_count": 12,
      "id": "f267d016",
      "metadata": {
        "id": "f267d016"
      },
      "outputs": [],
      "source": [
        "# 5. \"fit\" the DecisionTreeClassifier on the training set\n",
        "dt_clf = dt_clf.fit(X_train, y_train)"
      ]
    },
    {
      "cell_type": "code",
      "execution_count": 13,
      "id": "cfacbbf1",
      "metadata": {
        "colab": {
          "base_uri": "https://localhost:8080/"
        },
        "id": "cfacbbf1",
        "outputId": "1d0074ff-ab52-479f-b84b-c0586273435e"
      },
      "outputs": [
        {
          "output_type": "execute_result",
          "data": {
            "text/plain": [
              "0.978"
            ]
          },
          "metadata": {},
          "execution_count": 13
        }
      ],
      "source": [
        "# 6. Evaluate the DecisionTreeClassifier performance on the testing set\n",
        "# Round it to the 3rd decimal (e.g., 0.800, 0.850, 0.862).\n",
        "np.round(dt_clf.score(X_test,y_test),3)"
      ]
    },
    {
      "cell_type": "markdown",
      "id": "9876d944",
      "metadata": {
        "id": "9876d944"
      },
      "source": [
        "#### Visualization and result analysis"
      ]
    },
    {
      "cell_type": "code",
      "execution_count": 14,
      "id": "3b4c5328",
      "metadata": {
        "colab": {
          "base_uri": "https://localhost:8080/",
          "height": 1000
        },
        "id": "3b4c5328",
        "outputId": "87fc6f0c-26a6-4db8-f6e0-9440aabab9f9"
      },
      "outputs": [
        {
          "output_type": "execute_result",
          "data": {
            "image/svg+xml": "<?xml version=\"1.0\" encoding=\"UTF-8\" standalone=\"no\"?>\n<!DOCTYPE svg PUBLIC \"-//W3C//DTD SVG 1.1//EN\"\n \"http://www.w3.org/Graphics/SVG/1.1/DTD/svg11.dtd\">\n<!-- Generated by graphviz version 2.43.0 (0)\n -->\n<!-- Title: Tree Pages: 1 -->\n<svg width=\"642pt\" height=\"909pt\"\n viewBox=\"0.00 0.00 642.00 909.00\" xmlns=\"http://www.w3.org/2000/svg\" xmlns:xlink=\"http://www.w3.org/1999/xlink\">\n<g id=\"graph0\" class=\"graph\" transform=\"scale(1 1) rotate(0) translate(4 905)\">\n<title>Tree</title>\n<polygon fill=\"white\" stroke=\"transparent\" points=\"-4,4 -4,-905 638,-905 638,4 -4,4\"/>\n<!-- 0 -->\n<g id=\"node1\" class=\"node\">\n<title>0</title>\n<path fill=\"#ffffff\" stroke=\"black\" d=\"M265,-901C265,-901 130,-901 130,-901 124,-901 118,-895 118,-889 118,-889 118,-830 118,-830 118,-824 124,-818 130,-818 130,-818 265,-818 265,-818 271,-818 277,-824 277,-830 277,-830 277,-889 277,-889 277,-895 271,-901 265,-901\"/>\n<text text-anchor=\"start\" x=\"126\" y=\"-885.8\" font-family=\"Helvetica,sans-Serif\" font-size=\"14.00\">petal length (cm) ≤ 2.45</text>\n<text text-anchor=\"start\" x=\"153.5\" y=\"-870.8\" font-family=\"Helvetica,sans-Serif\" font-size=\"14.00\">entropy = 1.58</text>\n<text text-anchor=\"start\" x=\"152.5\" y=\"-855.8\" font-family=\"Helvetica,sans-Serif\" font-size=\"14.00\">samples = 105</text>\n<text text-anchor=\"start\" x=\"139.5\" y=\"-840.8\" font-family=\"Helvetica,sans-Serif\" font-size=\"14.00\">value = [31, 37, 37]</text>\n<text text-anchor=\"start\" x=\"145\" y=\"-825.8\" font-family=\"Helvetica,sans-Serif\" font-size=\"14.00\">class = versicolor</text>\n</g>\n<!-- 1 -->\n<g id=\"node2\" class=\"node\">\n<title>1</title>\n<path fill=\"#e58139\" stroke=\"black\" d=\"M166,-774.5C166,-774.5 73,-774.5 73,-774.5 67,-774.5 61,-768.5 61,-762.5 61,-762.5 61,-718.5 61,-718.5 61,-712.5 67,-706.5 73,-706.5 73,-706.5 166,-706.5 166,-706.5 172,-706.5 178,-712.5 178,-718.5 178,-718.5 178,-762.5 178,-762.5 178,-768.5 172,-774.5 166,-774.5\"/>\n<text text-anchor=\"start\" x=\"79.5\" y=\"-759.3\" font-family=\"Helvetica,sans-Serif\" font-size=\"14.00\">entropy = 0.0</text>\n<text text-anchor=\"start\" x=\"78.5\" y=\"-744.3\" font-family=\"Helvetica,sans-Serif\" font-size=\"14.00\">samples = 31</text>\n<text text-anchor=\"start\" x=\"69\" y=\"-729.3\" font-family=\"Helvetica,sans-Serif\" font-size=\"14.00\">value = [31, 0, 0]</text>\n<text text-anchor=\"start\" x=\"76\" y=\"-714.3\" font-family=\"Helvetica,sans-Serif\" font-size=\"14.00\">class = setosa</text>\n</g>\n<!-- 0&#45;&gt;1 -->\n<g id=\"edge1\" class=\"edge\">\n<title>0&#45;&gt;1</title>\n<path fill=\"none\" stroke=\"black\" d=\"M170.44,-817.91C162.93,-806.65 154.78,-794.42 147.24,-783.11\"/>\n<polygon fill=\"black\" stroke=\"black\" points=\"150.07,-781.05 141.61,-774.67 144.25,-784.93 150.07,-781.05\"/>\n<text text-anchor=\"middle\" x=\"136.71\" y=\"-795.48\" font-family=\"Helvetica,sans-Serif\" font-size=\"14.00\">True</text>\n</g>\n<!-- 2 -->\n<g id=\"node3\" class=\"node\">\n<title>2</title>\n<path fill=\"#ffffff\" stroke=\"black\" d=\"M343,-782C343,-782 208,-782 208,-782 202,-782 196,-776 196,-770 196,-770 196,-711 196,-711 196,-705 202,-699 208,-699 208,-699 343,-699 343,-699 349,-699 355,-705 355,-711 355,-711 355,-770 355,-770 355,-776 349,-782 343,-782\"/>\n<text text-anchor=\"start\" x=\"204\" y=\"-766.8\" font-family=\"Helvetica,sans-Serif\" font-size=\"14.00\">petal length (cm) ≤ 4.75</text>\n<text text-anchor=\"start\" x=\"235.5\" y=\"-751.8\" font-family=\"Helvetica,sans-Serif\" font-size=\"14.00\">entropy = 1.0</text>\n<text text-anchor=\"start\" x=\"234.5\" y=\"-736.8\" font-family=\"Helvetica,sans-Serif\" font-size=\"14.00\">samples = 74</text>\n<text text-anchor=\"start\" x=\"221\" y=\"-721.8\" font-family=\"Helvetica,sans-Serif\" font-size=\"14.00\">value = [0, 37, 37]</text>\n<text text-anchor=\"start\" x=\"223\" y=\"-706.8\" font-family=\"Helvetica,sans-Serif\" font-size=\"14.00\">class = versicolor</text>\n</g>\n<!-- 0&#45;&gt;2 -->\n<g id=\"edge2\" class=\"edge\">\n<title>0&#45;&gt;2</title>\n<path fill=\"none\" stroke=\"black\" d=\"M224.56,-817.91C230.43,-809.1 236.7,-799.7 242.76,-790.61\"/>\n<polygon fill=\"black\" stroke=\"black\" points=\"245.85,-792.28 248.49,-782.02 240.03,-788.4 245.85,-792.28\"/>\n<text text-anchor=\"middle\" x=\"253.39\" y=\"-802.84\" font-family=\"Helvetica,sans-Serif\" font-size=\"14.00\">False</text>\n</g>\n<!-- 3 -->\n<g id=\"node4\" class=\"node\">\n<title>3</title>\n<path fill=\"#3fe685\" stroke=\"black\" d=\"M251.5,-663C251.5,-663 129.5,-663 129.5,-663 123.5,-663 117.5,-657 117.5,-651 117.5,-651 117.5,-592 117.5,-592 117.5,-586 123.5,-580 129.5,-580 129.5,-580 251.5,-580 251.5,-580 257.5,-580 263.5,-586 263.5,-592 263.5,-592 263.5,-651 263.5,-651 263.5,-657 257.5,-663 251.5,-663\"/>\n<text text-anchor=\"start\" x=\"125.5\" y=\"-647.8\" font-family=\"Helvetica,sans-Serif\" font-size=\"14.00\">petal width (cm) ≤ 1.6</text>\n<text text-anchor=\"start\" x=\"143\" y=\"-632.8\" font-family=\"Helvetica,sans-Serif\" font-size=\"14.00\">entropy = 0.196</text>\n<text text-anchor=\"start\" x=\"149.5\" y=\"-617.8\" font-family=\"Helvetica,sans-Serif\" font-size=\"14.00\">samples = 33</text>\n<text text-anchor=\"start\" x=\"140\" y=\"-602.8\" font-family=\"Helvetica,sans-Serif\" font-size=\"14.00\">value = [0, 32, 1]</text>\n<text text-anchor=\"start\" x=\"138\" y=\"-587.8\" font-family=\"Helvetica,sans-Serif\" font-size=\"14.00\">class = versicolor</text>\n</g>\n<!-- 2&#45;&gt;3 -->\n<g id=\"edge3\" class=\"edge\">\n<title>2&#45;&gt;3</title>\n<path fill=\"none\" stroke=\"black\" d=\"M246.01,-698.91C239.55,-690.01 232.64,-680.51 225.98,-671.33\"/>\n<polygon fill=\"black\" stroke=\"black\" points=\"228.65,-669.05 219.94,-663.02 222.98,-673.17 228.65,-669.05\"/>\n</g>\n<!-- 6 -->\n<g id=\"node7\" class=\"node\">\n<title>6</title>\n<path fill=\"#9254e9\" stroke=\"black\" d=\"M429,-663C429,-663 294,-663 294,-663 288,-663 282,-657 282,-651 282,-651 282,-592 282,-592 282,-586 288,-580 294,-580 294,-580 429,-580 429,-580 435,-580 441,-586 441,-592 441,-592 441,-651 441,-651 441,-657 435,-663 429,-663\"/>\n<text text-anchor=\"start\" x=\"290\" y=\"-647.8\" font-family=\"Helvetica,sans-Serif\" font-size=\"14.00\">petal length (cm) ≤ 5.15</text>\n<text text-anchor=\"start\" x=\"314\" y=\"-632.8\" font-family=\"Helvetica,sans-Serif\" font-size=\"14.00\">entropy = 0.535</text>\n<text text-anchor=\"start\" x=\"320.5\" y=\"-617.8\" font-family=\"Helvetica,sans-Serif\" font-size=\"14.00\">samples = 41</text>\n<text text-anchor=\"start\" x=\"311\" y=\"-602.8\" font-family=\"Helvetica,sans-Serif\" font-size=\"14.00\">value = [0, 5, 36]</text>\n<text text-anchor=\"start\" x=\"313\" y=\"-587.8\" font-family=\"Helvetica,sans-Serif\" font-size=\"14.00\">class = virginica</text>\n</g>\n<!-- 2&#45;&gt;6 -->\n<g id=\"edge6\" class=\"edge\">\n<title>2&#45;&gt;6</title>\n<path fill=\"none\" stroke=\"black\" d=\"M305.34,-698.91C311.87,-690.01 318.86,-680.51 325.61,-671.33\"/>\n<polygon fill=\"black\" stroke=\"black\" points=\"328.61,-673.15 331.72,-663.02 322.97,-669.01 328.61,-673.15\"/>\n</g>\n<!-- 4 -->\n<g id=\"node5\" class=\"node\">\n<title>4</title>\n<path fill=\"#39e581\" stroke=\"black\" d=\"M109,-536.5C109,-536.5 12,-536.5 12,-536.5 6,-536.5 0,-530.5 0,-524.5 0,-524.5 0,-480.5 0,-480.5 0,-474.5 6,-468.5 12,-468.5 12,-468.5 109,-468.5 109,-468.5 115,-468.5 121,-474.5 121,-480.5 121,-480.5 121,-524.5 121,-524.5 121,-530.5 115,-536.5 109,-536.5\"/>\n<text text-anchor=\"start\" x=\"20.5\" y=\"-521.3\" font-family=\"Helvetica,sans-Serif\" font-size=\"14.00\">entropy = 0.0</text>\n<text text-anchor=\"start\" x=\"19.5\" y=\"-506.3\" font-family=\"Helvetica,sans-Serif\" font-size=\"14.00\">samples = 32</text>\n<text text-anchor=\"start\" x=\"10\" y=\"-491.3\" font-family=\"Helvetica,sans-Serif\" font-size=\"14.00\">value = [0, 32, 0]</text>\n<text text-anchor=\"start\" x=\"8\" y=\"-476.3\" font-family=\"Helvetica,sans-Serif\" font-size=\"14.00\">class = versicolor</text>\n</g>\n<!-- 3&#45;&gt;4 -->\n<g id=\"edge4\" class=\"edge\">\n<title>3&#45;&gt;4</title>\n<path fill=\"none\" stroke=\"black\" d=\"M145.4,-579.91C132.28,-568.1 117.96,-555.22 104.89,-543.45\"/>\n<polygon fill=\"black\" stroke=\"black\" points=\"107.13,-540.76 97.35,-536.67 102.44,-545.96 107.13,-540.76\"/>\n</g>\n<!-- 5 -->\n<g id=\"node6\" class=\"node\">\n<title>5</title>\n<path fill=\"#8139e5\" stroke=\"black\" d=\"M240,-536.5C240,-536.5 151,-536.5 151,-536.5 145,-536.5 139,-530.5 139,-524.5 139,-524.5 139,-480.5 139,-480.5 139,-474.5 145,-468.5 151,-468.5 151,-468.5 240,-468.5 240,-468.5 246,-468.5 252,-474.5 252,-480.5 252,-480.5 252,-524.5 252,-524.5 252,-530.5 246,-536.5 240,-536.5\"/>\n<text text-anchor=\"start\" x=\"155.5\" y=\"-521.3\" font-family=\"Helvetica,sans-Serif\" font-size=\"14.00\">entropy = 0.0</text>\n<text text-anchor=\"start\" x=\"158\" y=\"-506.3\" font-family=\"Helvetica,sans-Serif\" font-size=\"14.00\">samples = 1</text>\n<text text-anchor=\"start\" x=\"148.5\" y=\"-491.3\" font-family=\"Helvetica,sans-Serif\" font-size=\"14.00\">value = [0, 0, 1]</text>\n<text text-anchor=\"start\" x=\"147\" y=\"-476.3\" font-family=\"Helvetica,sans-Serif\" font-size=\"14.00\">class = virginica</text>\n</g>\n<!-- 3&#45;&gt;5 -->\n<g id=\"edge5\" class=\"edge\">\n<title>3&#45;&gt;5</title>\n<path fill=\"none\" stroke=\"black\" d=\"M192.23,-579.91C192.69,-569.2 193.19,-557.62 193.65,-546.78\"/>\n<polygon fill=\"black\" stroke=\"black\" points=\"197.15,-546.81 194.08,-536.67 190.16,-546.51 197.15,-546.81\"/>\n</g>\n<!-- 7 -->\n<g id=\"node8\" class=\"node\">\n<title>7</title>\n<path fill=\"#c09cf2\" stroke=\"black\" d=\"M421.5,-544C421.5,-544 291.5,-544 291.5,-544 285.5,-544 279.5,-538 279.5,-532 279.5,-532 279.5,-473 279.5,-473 279.5,-467 285.5,-461 291.5,-461 291.5,-461 421.5,-461 421.5,-461 427.5,-461 433.5,-467 433.5,-473 433.5,-473 433.5,-532 433.5,-532 433.5,-538 427.5,-544 421.5,-544\"/>\n<text text-anchor=\"start\" x=\"287.5\" y=\"-528.8\" font-family=\"Helvetica,sans-Serif\" font-size=\"14.00\">petal width (cm) ≤ 1.75</text>\n<text text-anchor=\"start\" x=\"309\" y=\"-513.8\" font-family=\"Helvetica,sans-Serif\" font-size=\"14.00\">entropy = 0.918</text>\n<text text-anchor=\"start\" x=\"315.5\" y=\"-498.8\" font-family=\"Helvetica,sans-Serif\" font-size=\"14.00\">samples = 15</text>\n<text text-anchor=\"start\" x=\"306\" y=\"-483.8\" font-family=\"Helvetica,sans-Serif\" font-size=\"14.00\">value = [0, 5, 10]</text>\n<text text-anchor=\"start\" x=\"308\" y=\"-468.8\" font-family=\"Helvetica,sans-Serif\" font-size=\"14.00\">class = virginica</text>\n</g>\n<!-- 6&#45;&gt;7 -->\n<g id=\"edge7\" class=\"edge\">\n<title>6&#45;&gt;7</title>\n<path fill=\"none\" stroke=\"black\" d=\"M359.77,-579.91C359.41,-571.56 359.03,-562.67 358.66,-554.02\"/>\n<polygon fill=\"black\" stroke=\"black\" points=\"362.16,-553.86 358.23,-544.02 355.16,-554.16 362.16,-553.86\"/>\n</g>\n<!-- 18 -->\n<g id=\"node19\" class=\"node\">\n<title>18</title>\n<path fill=\"#8139e5\" stroke=\"black\" d=\"M557,-536.5C557,-536.5 464,-536.5 464,-536.5 458,-536.5 452,-530.5 452,-524.5 452,-524.5 452,-480.5 452,-480.5 452,-474.5 458,-468.5 464,-468.5 464,-468.5 557,-468.5 557,-468.5 563,-468.5 569,-474.5 569,-480.5 569,-480.5 569,-524.5 569,-524.5 569,-530.5 563,-536.5 557,-536.5\"/>\n<text text-anchor=\"start\" x=\"470.5\" y=\"-521.3\" font-family=\"Helvetica,sans-Serif\" font-size=\"14.00\">entropy = 0.0</text>\n<text text-anchor=\"start\" x=\"469.5\" y=\"-506.3\" font-family=\"Helvetica,sans-Serif\" font-size=\"14.00\">samples = 26</text>\n<text text-anchor=\"start\" x=\"460\" y=\"-491.3\" font-family=\"Helvetica,sans-Serif\" font-size=\"14.00\">value = [0, 0, 26]</text>\n<text text-anchor=\"start\" x=\"462\" y=\"-476.3\" font-family=\"Helvetica,sans-Serif\" font-size=\"14.00\">class = virginica</text>\n</g>\n<!-- 6&#45;&gt;18 -->\n<g id=\"edge18\" class=\"edge\">\n<title>6&#45;&gt;18</title>\n<path fill=\"none\" stroke=\"black\" d=\"M413.19,-579.91C428.37,-567.99 444.95,-554.98 460.04,-543.12\"/>\n<polygon fill=\"black\" stroke=\"black\" points=\"462.56,-545.6 468.26,-536.67 458.24,-540.09 462.56,-545.6\"/>\n</g>\n<!-- 8 -->\n<g id=\"node9\" class=\"node\">\n<title>8</title>\n<path fill=\"#9cf2c0\" stroke=\"black\" d=\"M338,-425C338,-425 205,-425 205,-425 199,-425 193,-419 193,-413 193,-413 193,-354 193,-354 193,-348 199,-342 205,-342 205,-342 338,-342 338,-342 344,-342 350,-348 350,-354 350,-354 350,-413 350,-413 350,-419 344,-425 338,-425\"/>\n<text text-anchor=\"start\" x=\"201\" y=\"-409.8\" font-family=\"Helvetica,sans-Serif\" font-size=\"14.00\">sepal width (cm) ≤ 2.35</text>\n<text text-anchor=\"start\" x=\"224\" y=\"-394.8\" font-family=\"Helvetica,sans-Serif\" font-size=\"14.00\">entropy = 0.918</text>\n<text text-anchor=\"start\" x=\"234\" y=\"-379.8\" font-family=\"Helvetica,sans-Serif\" font-size=\"14.00\">samples = 6</text>\n<text text-anchor=\"start\" x=\"224.5\" y=\"-364.8\" font-family=\"Helvetica,sans-Serif\" font-size=\"14.00\">value = [0, 4, 2]</text>\n<text text-anchor=\"start\" x=\"219\" y=\"-349.8\" font-family=\"Helvetica,sans-Serif\" font-size=\"14.00\">class = versicolor</text>\n</g>\n<!-- 7&#45;&gt;8 -->\n<g id=\"edge8\" class=\"edge\">\n<title>7&#45;&gt;8</title>\n<path fill=\"none\" stroke=\"black\" d=\"M327.01,-460.91C320.55,-452.01 313.64,-442.51 306.98,-433.33\"/>\n<polygon fill=\"black\" stroke=\"black\" points=\"309.65,-431.05 300.94,-425.02 303.98,-435.17 309.65,-431.05\"/>\n</g>\n<!-- 15 -->\n<g id=\"node16\" class=\"node\">\n<title>15</title>\n<path fill=\"#9152e8\" stroke=\"black\" d=\"M505,-425C505,-425 380,-425 380,-425 374,-425 368,-419 368,-413 368,-413 368,-354 368,-354 368,-348 374,-342 380,-342 380,-342 505,-342 505,-342 511,-342 517,-348 517,-354 517,-354 517,-413 517,-413 517,-419 511,-425 505,-425\"/>\n<text text-anchor=\"start\" x=\"376\" y=\"-409.8\" font-family=\"Helvetica,sans-Serif\" font-size=\"14.00\">sepal width (cm) ≤ 3.1</text>\n<text text-anchor=\"start\" x=\"395\" y=\"-394.8\" font-family=\"Helvetica,sans-Serif\" font-size=\"14.00\">entropy = 0.503</text>\n<text text-anchor=\"start\" x=\"405\" y=\"-379.8\" font-family=\"Helvetica,sans-Serif\" font-size=\"14.00\">samples = 9</text>\n<text text-anchor=\"start\" x=\"395.5\" y=\"-364.8\" font-family=\"Helvetica,sans-Serif\" font-size=\"14.00\">value = [0, 1, 8]</text>\n<text text-anchor=\"start\" x=\"394\" y=\"-349.8\" font-family=\"Helvetica,sans-Serif\" font-size=\"14.00\">class = virginica</text>\n</g>\n<!-- 7&#45;&gt;15 -->\n<g id=\"edge15\" class=\"edge\">\n<title>7&#45;&gt;15</title>\n<path fill=\"none\" stroke=\"black\" d=\"M386.34,-460.91C392.87,-452.01 399.86,-442.51 406.61,-433.33\"/>\n<polygon fill=\"black\" stroke=\"black\" points=\"409.61,-435.15 412.72,-425.02 403.97,-431.01 409.61,-435.15\"/>\n</g>\n<!-- 9 -->\n<g id=\"node10\" class=\"node\">\n<title>9</title>\n<path fill=\"#8139e5\" stroke=\"black\" d=\"M167,-298.5C167,-298.5 78,-298.5 78,-298.5 72,-298.5 66,-292.5 66,-286.5 66,-286.5 66,-242.5 66,-242.5 66,-236.5 72,-230.5 78,-230.5 78,-230.5 167,-230.5 167,-230.5 173,-230.5 179,-236.5 179,-242.5 179,-242.5 179,-286.5 179,-286.5 179,-292.5 173,-298.5 167,-298.5\"/>\n<text text-anchor=\"start\" x=\"82.5\" y=\"-283.3\" font-family=\"Helvetica,sans-Serif\" font-size=\"14.00\">entropy = 0.0</text>\n<text text-anchor=\"start\" x=\"85\" y=\"-268.3\" font-family=\"Helvetica,sans-Serif\" font-size=\"14.00\">samples = 1</text>\n<text text-anchor=\"start\" x=\"75.5\" y=\"-253.3\" font-family=\"Helvetica,sans-Serif\" font-size=\"14.00\">value = [0, 0, 1]</text>\n<text text-anchor=\"start\" x=\"74\" y=\"-238.3\" font-family=\"Helvetica,sans-Serif\" font-size=\"14.00\">class = virginica</text>\n</g>\n<!-- 8&#45;&gt;9 -->\n<g id=\"edge9\" class=\"edge\">\n<title>8&#45;&gt;9</title>\n<path fill=\"none\" stroke=\"black\" d=\"M219.81,-341.91C204.63,-329.99 188.05,-316.98 172.96,-305.12\"/>\n<polygon fill=\"black\" stroke=\"black\" points=\"174.76,-302.09 164.74,-298.67 170.44,-307.6 174.76,-302.09\"/>\n</g>\n<!-- 10 -->\n<g id=\"node11\" class=\"node\">\n<title>10</title>\n<path fill=\"#6aeca0\" stroke=\"black\" d=\"M344,-306C344,-306 209,-306 209,-306 203,-306 197,-300 197,-294 197,-294 197,-235 197,-235 197,-229 203,-223 209,-223 209,-223 344,-223 344,-223 350,-223 356,-229 356,-235 356,-235 356,-294 356,-294 356,-300 350,-306 344,-306\"/>\n<text text-anchor=\"start\" x=\"205\" y=\"-290.8\" font-family=\"Helvetica,sans-Serif\" font-size=\"14.00\">petal length (cm) ≤ 5.05</text>\n<text text-anchor=\"start\" x=\"229\" y=\"-275.8\" font-family=\"Helvetica,sans-Serif\" font-size=\"14.00\">entropy = 0.722</text>\n<text text-anchor=\"start\" x=\"239\" y=\"-260.8\" font-family=\"Helvetica,sans-Serif\" font-size=\"14.00\">samples = 5</text>\n<text text-anchor=\"start\" x=\"229.5\" y=\"-245.8\" font-family=\"Helvetica,sans-Serif\" font-size=\"14.00\">value = [0, 4, 1]</text>\n<text text-anchor=\"start\" x=\"224\" y=\"-230.8\" font-family=\"Helvetica,sans-Serif\" font-size=\"14.00\">class = versicolor</text>\n</g>\n<!-- 8&#45;&gt;10 -->\n<g id=\"edge10\" class=\"edge\">\n<title>8&#45;&gt;10</title>\n<path fill=\"none\" stroke=\"black\" d=\"M273.23,-341.91C273.59,-333.56 273.97,-324.67 274.34,-316.02\"/>\n<polygon fill=\"black\" stroke=\"black\" points=\"277.84,-316.16 274.77,-306.02 270.84,-315.86 277.84,-316.16\"/>\n</g>\n<!-- 11 -->\n<g id=\"node12\" class=\"node\">\n<title>11</title>\n<path fill=\"#39e581\" stroke=\"black\" d=\"M245,-179.5C245,-179.5 148,-179.5 148,-179.5 142,-179.5 136,-173.5 136,-167.5 136,-167.5 136,-123.5 136,-123.5 136,-117.5 142,-111.5 148,-111.5 148,-111.5 245,-111.5 245,-111.5 251,-111.5 257,-117.5 257,-123.5 257,-123.5 257,-167.5 257,-167.5 257,-173.5 251,-179.5 245,-179.5\"/>\n<text text-anchor=\"start\" x=\"156.5\" y=\"-164.3\" font-family=\"Helvetica,sans-Serif\" font-size=\"14.00\">entropy = 0.0</text>\n<text text-anchor=\"start\" x=\"159\" y=\"-149.3\" font-family=\"Helvetica,sans-Serif\" font-size=\"14.00\">samples = 3</text>\n<text text-anchor=\"start\" x=\"149.5\" y=\"-134.3\" font-family=\"Helvetica,sans-Serif\" font-size=\"14.00\">value = [0, 3, 0]</text>\n<text text-anchor=\"start\" x=\"144\" y=\"-119.3\" font-family=\"Helvetica,sans-Serif\" font-size=\"14.00\">class = versicolor</text>\n</g>\n<!-- 10&#45;&gt;11 -->\n<g id=\"edge11\" class=\"edge\">\n<title>10&#45;&gt;11</title>\n<path fill=\"none\" stroke=\"black\" d=\"M248.74,-222.91C241.05,-211.65 232.68,-199.42 224.95,-188.11\"/>\n<polygon fill=\"black\" stroke=\"black\" points=\"227.71,-185.95 219.18,-179.67 221.93,-189.9 227.71,-185.95\"/>\n</g>\n<!-- 12 -->\n<g id=\"node13\" class=\"node\">\n<title>12</title>\n<path fill=\"#ffffff\" stroke=\"black\" d=\"M425.5,-187C425.5,-187 287.5,-187 287.5,-187 281.5,-187 275.5,-181 275.5,-175 275.5,-175 275.5,-116 275.5,-116 275.5,-110 281.5,-104 287.5,-104 287.5,-104 425.5,-104 425.5,-104 431.5,-104 437.5,-110 437.5,-116 437.5,-116 437.5,-175 437.5,-175 437.5,-181 431.5,-187 425.5,-187\"/>\n<text text-anchor=\"start\" x=\"283.5\" y=\"-171.8\" font-family=\"Helvetica,sans-Serif\" font-size=\"14.00\">sepal length (cm) ≤ 6.15</text>\n<text text-anchor=\"start\" x=\"316.5\" y=\"-156.8\" font-family=\"Helvetica,sans-Serif\" font-size=\"14.00\">entropy = 1.0</text>\n<text text-anchor=\"start\" x=\"319\" y=\"-141.8\" font-family=\"Helvetica,sans-Serif\" font-size=\"14.00\">samples = 2</text>\n<text text-anchor=\"start\" x=\"309.5\" y=\"-126.8\" font-family=\"Helvetica,sans-Serif\" font-size=\"14.00\">value = [0, 1, 1]</text>\n<text text-anchor=\"start\" x=\"304\" y=\"-111.8\" font-family=\"Helvetica,sans-Serif\" font-size=\"14.00\">class = versicolor</text>\n</g>\n<!-- 10&#45;&gt;12 -->\n<g id=\"edge12\" class=\"edge\">\n<title>10&#45;&gt;12</title>\n<path fill=\"none\" stroke=\"black\" d=\"M304.26,-222.91C310.34,-214.01 316.84,-204.51 323.11,-195.33\"/>\n<polygon fill=\"black\" stroke=\"black\" points=\"326.04,-197.25 328.79,-187.02 320.26,-193.3 326.04,-197.25\"/>\n</g>\n<!-- 13 -->\n<g id=\"node14\" class=\"node\">\n<title>13</title>\n<path fill=\"#39e581\" stroke=\"black\" d=\"M337,-68C337,-68 240,-68 240,-68 234,-68 228,-62 228,-56 228,-56 228,-12 228,-12 228,-6 234,0 240,0 240,0 337,0 337,0 343,0 349,-6 349,-12 349,-12 349,-56 349,-56 349,-62 343,-68 337,-68\"/>\n<text text-anchor=\"start\" x=\"248.5\" y=\"-52.8\" font-family=\"Helvetica,sans-Serif\" font-size=\"14.00\">entropy = 0.0</text>\n<text text-anchor=\"start\" x=\"251\" y=\"-37.8\" font-family=\"Helvetica,sans-Serif\" font-size=\"14.00\">samples = 1</text>\n<text text-anchor=\"start\" x=\"241.5\" y=\"-22.8\" font-family=\"Helvetica,sans-Serif\" font-size=\"14.00\">value = [0, 1, 0]</text>\n<text text-anchor=\"start\" x=\"236\" y=\"-7.8\" font-family=\"Helvetica,sans-Serif\" font-size=\"14.00\">class = versicolor</text>\n</g>\n<!-- 12&#45;&gt;13 -->\n<g id=\"edge13\" class=\"edge\">\n<title>12&#45;&gt;13</title>\n<path fill=\"none\" stroke=\"black\" d=\"M331.18,-103.73C325.74,-94.97 319.99,-85.7 314.52,-76.91\"/>\n<polygon fill=\"black\" stroke=\"black\" points=\"317.43,-74.95 309.18,-68.3 311.48,-78.64 317.43,-74.95\"/>\n</g>\n<!-- 14 -->\n<g id=\"node15\" class=\"node\">\n<title>14</title>\n<path fill=\"#8139e5\" stroke=\"black\" d=\"M468,-68C468,-68 379,-68 379,-68 373,-68 367,-62 367,-56 367,-56 367,-12 367,-12 367,-6 373,0 379,0 379,0 468,0 468,0 474,0 480,-6 480,-12 480,-12 480,-56 480,-56 480,-62 474,-68 468,-68\"/>\n<text text-anchor=\"start\" x=\"383.5\" y=\"-52.8\" font-family=\"Helvetica,sans-Serif\" font-size=\"14.00\">entropy = 0.0</text>\n<text text-anchor=\"start\" x=\"386\" y=\"-37.8\" font-family=\"Helvetica,sans-Serif\" font-size=\"14.00\">samples = 1</text>\n<text text-anchor=\"start\" x=\"376.5\" y=\"-22.8\" font-family=\"Helvetica,sans-Serif\" font-size=\"14.00\">value = [0, 0, 1]</text>\n<text text-anchor=\"start\" x=\"375\" y=\"-7.8\" font-family=\"Helvetica,sans-Serif\" font-size=\"14.00\">class = virginica</text>\n</g>\n<!-- 12&#45;&gt;14 -->\n<g id=\"edge14\" class=\"edge\">\n<title>12&#45;&gt;14</title>\n<path fill=\"none\" stroke=\"black\" d=\"M381.45,-103.73C386.81,-94.97 392.48,-85.7 397.86,-76.91\"/>\n<polygon fill=\"black\" stroke=\"black\" points=\"400.89,-78.66 403.12,-68.3 394.92,-75 400.89,-78.66\"/>\n</g>\n<!-- 16 -->\n<g id=\"node17\" class=\"node\">\n<title>16</title>\n<path fill=\"#8139e5\" stroke=\"black\" d=\"M483,-298.5C483,-298.5 394,-298.5 394,-298.5 388,-298.5 382,-292.5 382,-286.5 382,-286.5 382,-242.5 382,-242.5 382,-236.5 388,-230.5 394,-230.5 394,-230.5 483,-230.5 483,-230.5 489,-230.5 495,-236.5 495,-242.5 495,-242.5 495,-286.5 495,-286.5 495,-292.5 489,-298.5 483,-298.5\"/>\n<text text-anchor=\"start\" x=\"398.5\" y=\"-283.3\" font-family=\"Helvetica,sans-Serif\" font-size=\"14.00\">entropy = 0.0</text>\n<text text-anchor=\"start\" x=\"401\" y=\"-268.3\" font-family=\"Helvetica,sans-Serif\" font-size=\"14.00\">samples = 8</text>\n<text text-anchor=\"start\" x=\"391.5\" y=\"-253.3\" font-family=\"Helvetica,sans-Serif\" font-size=\"14.00\">value = [0, 0, 8]</text>\n<text text-anchor=\"start\" x=\"390\" y=\"-238.3\" font-family=\"Helvetica,sans-Serif\" font-size=\"14.00\">class = virginica</text>\n</g>\n<!-- 15&#45;&gt;16 -->\n<g id=\"edge16\" class=\"edge\">\n<title>15&#45;&gt;16</title>\n<path fill=\"none\" stroke=\"black\" d=\"M441.11,-341.91C440.75,-331.2 440.35,-319.62 439.98,-308.78\"/>\n<polygon fill=\"black\" stroke=\"black\" points=\"443.47,-308.54 439.63,-298.67 436.48,-308.78 443.47,-308.54\"/>\n</g>\n<!-- 17 -->\n<g id=\"node18\" class=\"node\">\n<title>17</title>\n<path fill=\"#39e581\" stroke=\"black\" d=\"M622,-298.5C622,-298.5 525,-298.5 525,-298.5 519,-298.5 513,-292.5 513,-286.5 513,-286.5 513,-242.5 513,-242.5 513,-236.5 519,-230.5 525,-230.5 525,-230.5 622,-230.5 622,-230.5 628,-230.5 634,-236.5 634,-242.5 634,-242.5 634,-286.5 634,-286.5 634,-292.5 628,-298.5 622,-298.5\"/>\n<text text-anchor=\"start\" x=\"533.5\" y=\"-283.3\" font-family=\"Helvetica,sans-Serif\" font-size=\"14.00\">entropy = 0.0</text>\n<text text-anchor=\"start\" x=\"536\" y=\"-268.3\" font-family=\"Helvetica,sans-Serif\" font-size=\"14.00\">samples = 1</text>\n<text text-anchor=\"start\" x=\"526.5\" y=\"-253.3\" font-family=\"Helvetica,sans-Serif\" font-size=\"14.00\">value = [0, 1, 0]</text>\n<text text-anchor=\"start\" x=\"521\" y=\"-238.3\" font-family=\"Helvetica,sans-Serif\" font-size=\"14.00\">class = versicolor</text>\n</g>\n<!-- 15&#45;&gt;17 -->\n<g id=\"edge17\" class=\"edge\">\n<title>15&#45;&gt;17</title>\n<path fill=\"none\" stroke=\"black\" d=\"M487.95,-341.91C501.17,-330.1 515.6,-317.22 528.77,-305.45\"/>\n<polygon fill=\"black\" stroke=\"black\" points=\"531.24,-307.94 536.36,-298.67 526.57,-302.72 531.24,-307.94\"/>\n</g>\n</g>\n</svg>\n",
            "text/plain": [
              "<graphviz.sources.Source at 0x78ec7beeb2e0>"
            ]
          },
          "metadata": {},
          "execution_count": 14
        }
      ],
      "source": [
        "# 7. Visualize the fitted DecisionTreeClassifier\n",
        "# conda install python-graphviz\n",
        "dot_data = tree.export_graphviz(dt_clf, out_file=None,\n",
        "                                feature_names=iris.feature_names,\n",
        "                                class_names=iris.target_names,\n",
        "                                filled=True, rounded=True,\n",
        "                                special_characters=True)\n",
        "graph = graphviz.Source(dot_data)\n",
        "graph"
      ]
    },
    {
      "cell_type": "code",
      "execution_count": 15,
      "id": "19d51f85",
      "metadata": {
        "colab": {
          "base_uri": "https://localhost:8080/",
          "height": 81
        },
        "id": "19d51f85",
        "outputId": "d6c8cb8d-303b-47cf-adf3-c2421ff640dc"
      },
      "outputs": [
        {
          "output_type": "execute_result",
          "data": {
            "text/plain": [
              "   sepal length (cm)  sepal width (cm)  petal length (cm)  petal width (cm)\n",
              "0               0.01              0.04               0.89              0.06"
            ],
            "text/html": [
              "\n",
              "  <div id=\"df-3f4a5f1e-9319-40f8-adbe-1c911bd596fa\" class=\"colab-df-container\">\n",
              "    <div>\n",
              "<style scoped>\n",
              "    .dataframe tbody tr th:only-of-type {\n",
              "        vertical-align: middle;\n",
              "    }\n",
              "\n",
              "    .dataframe tbody tr th {\n",
              "        vertical-align: top;\n",
              "    }\n",
              "\n",
              "    .dataframe thead th {\n",
              "        text-align: right;\n",
              "    }\n",
              "</style>\n",
              "<table border=\"1\" class=\"dataframe\">\n",
              "  <thead>\n",
              "    <tr style=\"text-align: right;\">\n",
              "      <th></th>\n",
              "      <th>sepal length (cm)</th>\n",
              "      <th>sepal width (cm)</th>\n",
              "      <th>petal length (cm)</th>\n",
              "      <th>petal width (cm)</th>\n",
              "    </tr>\n",
              "  </thead>\n",
              "  <tbody>\n",
              "    <tr>\n",
              "      <th>0</th>\n",
              "      <td>0.01</td>\n",
              "      <td>0.04</td>\n",
              "      <td>0.89</td>\n",
              "      <td>0.06</td>\n",
              "    </tr>\n",
              "  </tbody>\n",
              "</table>\n",
              "</div>\n",
              "    <div class=\"colab-df-buttons\">\n",
              "\n",
              "  <div class=\"colab-df-container\">\n",
              "    <button class=\"colab-df-convert\" onclick=\"convertToInteractive('df-3f4a5f1e-9319-40f8-adbe-1c911bd596fa')\"\n",
              "            title=\"Convert this dataframe to an interactive table.\"\n",
              "            style=\"display:none;\">\n",
              "\n",
              "  <svg xmlns=\"http://www.w3.org/2000/svg\" height=\"24px\" viewBox=\"0 -960 960 960\">\n",
              "    <path d=\"M120-120v-720h720v720H120Zm60-500h600v-160H180v160Zm220 220h160v-160H400v160Zm0 220h160v-160H400v160ZM180-400h160v-160H180v160Zm440 0h160v-160H620v160ZM180-180h160v-160H180v160Zm440 0h160v-160H620v160Z\"/>\n",
              "  </svg>\n",
              "    </button>\n",
              "\n",
              "  <style>\n",
              "    .colab-df-container {\n",
              "      display:flex;\n",
              "      gap: 12px;\n",
              "    }\n",
              "\n",
              "    .colab-df-convert {\n",
              "      background-color: #E8F0FE;\n",
              "      border: none;\n",
              "      border-radius: 50%;\n",
              "      cursor: pointer;\n",
              "      display: none;\n",
              "      fill: #1967D2;\n",
              "      height: 32px;\n",
              "      padding: 0 0 0 0;\n",
              "      width: 32px;\n",
              "    }\n",
              "\n",
              "    .colab-df-convert:hover {\n",
              "      background-color: #E2EBFA;\n",
              "      box-shadow: 0px 1px 2px rgba(60, 64, 67, 0.3), 0px 1px 3px 1px rgba(60, 64, 67, 0.15);\n",
              "      fill: #174EA6;\n",
              "    }\n",
              "\n",
              "    .colab-df-buttons div {\n",
              "      margin-bottom: 4px;\n",
              "    }\n",
              "\n",
              "    [theme=dark] .colab-df-convert {\n",
              "      background-color: #3B4455;\n",
              "      fill: #D2E3FC;\n",
              "    }\n",
              "\n",
              "    [theme=dark] .colab-df-convert:hover {\n",
              "      background-color: #434B5C;\n",
              "      box-shadow: 0px 1px 3px 1px rgba(0, 0, 0, 0.15);\n",
              "      filter: drop-shadow(0px 1px 2px rgba(0, 0, 0, 0.3));\n",
              "      fill: #FFFFFF;\n",
              "    }\n",
              "  </style>\n",
              "\n",
              "    <script>\n",
              "      const buttonEl =\n",
              "        document.querySelector('#df-3f4a5f1e-9319-40f8-adbe-1c911bd596fa button.colab-df-convert');\n",
              "      buttonEl.style.display =\n",
              "        google.colab.kernel.accessAllowed ? 'block' : 'none';\n",
              "\n",
              "      async function convertToInteractive(key) {\n",
              "        const element = document.querySelector('#df-3f4a5f1e-9319-40f8-adbe-1c911bd596fa');\n",
              "        const dataTable =\n",
              "          await google.colab.kernel.invokeFunction('convertToInteractive',\n",
              "                                                    [key], {});\n",
              "        if (!dataTable) return;\n",
              "\n",
              "        const docLinkHtml = 'Like what you see? Visit the ' +\n",
              "          '<a target=\"_blank\" href=https://colab.research.google.com/notebooks/data_table.ipynb>data table notebook</a>'\n",
              "          + ' to learn more about interactive tables.';\n",
              "        element.innerHTML = '';\n",
              "        dataTable['output_type'] = 'display_data';\n",
              "        await google.colab.output.renderOutput(dataTable, element);\n",
              "        const docLink = document.createElement('div');\n",
              "        docLink.innerHTML = docLinkHtml;\n",
              "        element.appendChild(docLink);\n",
              "      }\n",
              "    </script>\n",
              "  </div>\n",
              "\n",
              "    </div>\n",
              "  </div>\n"
            ]
          },
          "metadata": {},
          "execution_count": 15
        }
      ],
      "source": [
        "# check and interpret feature importance\n",
        "pd.DataFrame([np.round(dt_clf.feature_importances_,2)], columns=iris.feature_names)"
      ]
    },
    {
      "cell_type": "code",
      "execution_count": 16,
      "id": "f74ea897",
      "metadata": {
        "colab": {
          "base_uri": "https://localhost:8080/"
        },
        "id": "f74ea897",
        "outputId": "7bd8f1c9-91f0-40da-9e85-dd2ec246225e"
      },
      "outputs": [
        {
          "output_type": "execute_result",
          "data": {
            "text/plain": [
              "7"
            ]
          },
          "metadata": {},
          "execution_count": 16
        }
      ],
      "source": [
        "# depth of the fitted tree\n",
        "dt_clf.get_depth()"
      ]
    },
    {
      "cell_type": "code",
      "execution_count": 17,
      "id": "de743fb4",
      "metadata": {
        "colab": {
          "base_uri": "https://localhost:8080/"
        },
        "id": "de743fb4",
        "outputId": "87e5f01b-ba72-4ab8-b224-c4bdee592c27"
      },
      "outputs": [
        {
          "output_type": "execute_result",
          "data": {
            "text/plain": [
              "10"
            ]
          },
          "metadata": {},
          "execution_count": 17
        }
      ],
      "source": [
        "# number of leaves in the fitted tree\n",
        "dt_clf.get_n_leaves()"
      ]
    },
    {
      "cell_type": "code",
      "execution_count": 18,
      "id": "4cc7322a",
      "metadata": {
        "colab": {
          "base_uri": "https://localhost:8080/"
        },
        "id": "4cc7322a",
        "outputId": "141ec15a-941f-4d47-b0d3-05740e6f49a7"
      },
      "outputs": [
        {
          "output_type": "execute_result",
          "data": {
            "text/plain": [
              "array([1, 0, 2, 1, 1, 0, 1, 2, 1, 1])"
            ]
          },
          "metadata": {},
          "execution_count": 18
        }
      ],
      "source": [
        "# predict the class labels for the given samples\n",
        "dt_clf.predict(X_test[:10])"
      ]
    },
    {
      "cell_type": "code",
      "execution_count": 19,
      "id": "a3e73156",
      "metadata": {
        "colab": {
          "base_uri": "https://localhost:8080/"
        },
        "id": "a3e73156",
        "outputId": "f3e012f5-e5b0-488b-882a-b1966d59587d"
      },
      "outputs": [
        {
          "output_type": "execute_result",
          "data": {
            "text/plain": [
              "array([[0., 1., 0.],\n",
              "       [1., 0., 0.],\n",
              "       [0., 0., 1.],\n",
              "       [0., 1., 0.],\n",
              "       [0., 1., 0.],\n",
              "       [1., 0., 0.],\n",
              "       [0., 1., 0.],\n",
              "       [0., 0., 1.],\n",
              "       [0., 1., 0.],\n",
              "       [0., 1., 0.]])"
            ]
          },
          "metadata": {},
          "execution_count": 19
        }
      ],
      "source": [
        "# predict the class probabilities for the given samples\n",
        "dt_clf.predict_proba(X_test[:10])"
      ]
    },
    {
      "cell_type": "code",
      "execution_count": null,
      "id": "5afa6ee6",
      "metadata": {
        "colab": {
          "base_uri": "https://localhost:8080/"
        },
        "id": "5afa6ee6",
        "outputId": "389bdfcf-5272-48b6-dad0-855d2867e08e"
      },
      "outputs": [
        {
          "output_type": "execute_result",
          "data": {
            "text/plain": [
              "array([[1, 0, 1, 1, 1, 0, 0, 0, 0, 0, 0, 0, 0, 0, 0, 0, 0, 0, 0]])"
            ]
          },
          "metadata": {},
          "execution_count": 20
        }
      ],
      "source": [
        "dt_clf.decision_path(X_test[:1]).toarray()"
      ]
    },
    {
      "cell_type": "markdown",
      "id": "5e61972e",
      "metadata": {
        "id": "5e61972e"
      },
      "source": [
        "#### Exploration"
      ]
    },
    {
      "cell_type": "code",
      "execution_count": 27,
      "id": "2567cd04",
      "metadata": {
        "id": "2567cd04",
        "colab": {
          "base_uri": "https://localhost:8080/",
          "height": 1000
        },
        "outputId": "7ddb6945-85d6-4617-bcba-71a3436a08ba"
      },
      "outputs": [
        {
          "output_type": "execute_result",
          "data": {
            "image/svg+xml": "<?xml version=\"1.0\" encoding=\"UTF-8\" standalone=\"no\"?>\n<!DOCTYPE svg PUBLIC \"-//W3C//DTD SVG 1.1//EN\"\n \"http://www.w3.org/Graphics/SVG/1.1/DTD/svg11.dtd\">\n<!-- Generated by graphviz version 2.43.0 (0)\n -->\n<!-- Title: Tree Pages: 1 -->\n<svg width=\"749pt\" height=\"790pt\"\n viewBox=\"0.00 0.00 749.00 790.00\" xmlns=\"http://www.w3.org/2000/svg\" xmlns:xlink=\"http://www.w3.org/1999/xlink\">\n<g id=\"graph0\" class=\"graph\" transform=\"scale(1 1) rotate(0) translate(4 786)\">\n<title>Tree</title>\n<polygon fill=\"white\" stroke=\"transparent\" points=\"-4,4 -4,-786 745,-786 745,4 -4,4\"/>\n<!-- 0 -->\n<g id=\"node1\" class=\"node\">\n<title>0</title>\n<path fill=\"#ffffff\" stroke=\"black\" d=\"M265,-782C265,-782 130,-782 130,-782 124,-782 118,-776 118,-770 118,-770 118,-711 118,-711 118,-705 124,-699 130,-699 130,-699 265,-699 265,-699 271,-699 277,-705 277,-711 277,-711 277,-770 277,-770 277,-776 271,-782 265,-782\"/>\n<text text-anchor=\"start\" x=\"126\" y=\"-766.8\" font-family=\"Helvetica,sans-Serif\" font-size=\"14.00\">petal length (cm) ≤ 2.45</text>\n<text text-anchor=\"start\" x=\"162\" y=\"-751.8\" font-family=\"Helvetica,sans-Serif\" font-size=\"14.00\">gini = 0.664</text>\n<text text-anchor=\"start\" x=\"152.5\" y=\"-736.8\" font-family=\"Helvetica,sans-Serif\" font-size=\"14.00\">samples = 105</text>\n<text text-anchor=\"start\" x=\"139.5\" y=\"-721.8\" font-family=\"Helvetica,sans-Serif\" font-size=\"14.00\">value = [31, 37, 37]</text>\n<text text-anchor=\"start\" x=\"145\" y=\"-706.8\" font-family=\"Helvetica,sans-Serif\" font-size=\"14.00\">class = versicolor</text>\n</g>\n<!-- 1 -->\n<g id=\"node2\" class=\"node\">\n<title>1</title>\n<path fill=\"#e58139\" stroke=\"black\" d=\"M166,-655.5C166,-655.5 73,-655.5 73,-655.5 67,-655.5 61,-649.5 61,-643.5 61,-643.5 61,-599.5 61,-599.5 61,-593.5 67,-587.5 73,-587.5 73,-587.5 166,-587.5 166,-587.5 172,-587.5 178,-593.5 178,-599.5 178,-599.5 178,-643.5 178,-643.5 178,-649.5 172,-655.5 166,-655.5\"/>\n<text text-anchor=\"start\" x=\"91.5\" y=\"-640.3\" font-family=\"Helvetica,sans-Serif\" font-size=\"14.00\">gini = 0.0</text>\n<text text-anchor=\"start\" x=\"78.5\" y=\"-625.3\" font-family=\"Helvetica,sans-Serif\" font-size=\"14.00\">samples = 31</text>\n<text text-anchor=\"start\" x=\"69\" y=\"-610.3\" font-family=\"Helvetica,sans-Serif\" font-size=\"14.00\">value = [31, 0, 0]</text>\n<text text-anchor=\"start\" x=\"76\" y=\"-595.3\" font-family=\"Helvetica,sans-Serif\" font-size=\"14.00\">class = setosa</text>\n</g>\n<!-- 0&#45;&gt;1 -->\n<g id=\"edge1\" class=\"edge\">\n<title>0&#45;&gt;1</title>\n<path fill=\"none\" stroke=\"black\" d=\"M170.44,-698.91C162.93,-687.65 154.78,-675.42 147.24,-664.11\"/>\n<polygon fill=\"black\" stroke=\"black\" points=\"150.07,-662.05 141.61,-655.67 144.25,-665.93 150.07,-662.05\"/>\n<text text-anchor=\"middle\" x=\"136.71\" y=\"-676.48\" font-family=\"Helvetica,sans-Serif\" font-size=\"14.00\">True</text>\n</g>\n<!-- 2 -->\n<g id=\"node3\" class=\"node\">\n<title>2</title>\n<path fill=\"#ffffff\" stroke=\"black\" d=\"M343,-663C343,-663 208,-663 208,-663 202,-663 196,-657 196,-651 196,-651 196,-592 196,-592 196,-586 202,-580 208,-580 208,-580 343,-580 343,-580 349,-580 355,-586 355,-592 355,-592 355,-651 355,-651 355,-657 349,-663 343,-663\"/>\n<text text-anchor=\"start\" x=\"204\" y=\"-647.8\" font-family=\"Helvetica,sans-Serif\" font-size=\"14.00\">petal length (cm) ≤ 4.75</text>\n<text text-anchor=\"start\" x=\"247.5\" y=\"-632.8\" font-family=\"Helvetica,sans-Serif\" font-size=\"14.00\">gini = 0.5</text>\n<text text-anchor=\"start\" x=\"234.5\" y=\"-617.8\" font-family=\"Helvetica,sans-Serif\" font-size=\"14.00\">samples = 74</text>\n<text text-anchor=\"start\" x=\"221\" y=\"-602.8\" font-family=\"Helvetica,sans-Serif\" font-size=\"14.00\">value = [0, 37, 37]</text>\n<text text-anchor=\"start\" x=\"223\" y=\"-587.8\" font-family=\"Helvetica,sans-Serif\" font-size=\"14.00\">class = versicolor</text>\n</g>\n<!-- 0&#45;&gt;2 -->\n<g id=\"edge2\" class=\"edge\">\n<title>0&#45;&gt;2</title>\n<path fill=\"none\" stroke=\"black\" d=\"M224.56,-698.91C230.43,-690.1 236.7,-680.7 242.76,-671.61\"/>\n<polygon fill=\"black\" stroke=\"black\" points=\"245.85,-673.28 248.49,-663.02 240.03,-669.4 245.85,-673.28\"/>\n<text text-anchor=\"middle\" x=\"253.39\" y=\"-683.84\" font-family=\"Helvetica,sans-Serif\" font-size=\"14.00\">False</text>\n</g>\n<!-- 3 -->\n<g id=\"node4\" class=\"node\">\n<title>3</title>\n<path fill=\"#3fe685\" stroke=\"black\" d=\"M252.5,-544C252.5,-544 130.5,-544 130.5,-544 124.5,-544 118.5,-538 118.5,-532 118.5,-532 118.5,-473 118.5,-473 118.5,-467 124.5,-461 130.5,-461 130.5,-461 252.5,-461 252.5,-461 258.5,-461 264.5,-467 264.5,-473 264.5,-473 264.5,-532 264.5,-532 264.5,-538 258.5,-544 252.5,-544\"/>\n<text text-anchor=\"start\" x=\"126.5\" y=\"-528.8\" font-family=\"Helvetica,sans-Serif\" font-size=\"14.00\">petal width (cm) ≤ 1.6</text>\n<text text-anchor=\"start\" x=\"156\" y=\"-513.8\" font-family=\"Helvetica,sans-Serif\" font-size=\"14.00\">gini = 0.059</text>\n<text text-anchor=\"start\" x=\"150.5\" y=\"-498.8\" font-family=\"Helvetica,sans-Serif\" font-size=\"14.00\">samples = 33</text>\n<text text-anchor=\"start\" x=\"141\" y=\"-483.8\" font-family=\"Helvetica,sans-Serif\" font-size=\"14.00\">value = [0, 32, 1]</text>\n<text text-anchor=\"start\" x=\"139\" y=\"-468.8\" font-family=\"Helvetica,sans-Serif\" font-size=\"14.00\">class = versicolor</text>\n</g>\n<!-- 2&#45;&gt;3 -->\n<g id=\"edge3\" class=\"edge\">\n<title>2&#45;&gt;3</title>\n<path fill=\"none\" stroke=\"black\" d=\"M246.36,-579.91C239.97,-571.01 233.15,-561.51 226.56,-552.33\"/>\n<polygon fill=\"black\" stroke=\"black\" points=\"229.27,-550.1 220.59,-544.02 223.58,-554.19 229.27,-550.1\"/>\n</g>\n<!-- 6 -->\n<g id=\"node7\" class=\"node\">\n<title>6</title>\n<path fill=\"#9254e9\" stroke=\"black\" d=\"M424.5,-544C424.5,-544 294.5,-544 294.5,-544 288.5,-544 282.5,-538 282.5,-532 282.5,-532 282.5,-473 282.5,-473 282.5,-467 288.5,-461 294.5,-461 294.5,-461 424.5,-461 424.5,-461 430.5,-461 436.5,-467 436.5,-473 436.5,-473 436.5,-532 436.5,-532 436.5,-538 430.5,-544 424.5,-544\"/>\n<text text-anchor=\"start\" x=\"290.5\" y=\"-528.8\" font-family=\"Helvetica,sans-Serif\" font-size=\"14.00\">petal width (cm) ≤ 1.75</text>\n<text text-anchor=\"start\" x=\"324\" y=\"-513.8\" font-family=\"Helvetica,sans-Serif\" font-size=\"14.00\">gini = 0.214</text>\n<text text-anchor=\"start\" x=\"318.5\" y=\"-498.8\" font-family=\"Helvetica,sans-Serif\" font-size=\"14.00\">samples = 41</text>\n<text text-anchor=\"start\" x=\"309\" y=\"-483.8\" font-family=\"Helvetica,sans-Serif\" font-size=\"14.00\">value = [0, 5, 36]</text>\n<text text-anchor=\"start\" x=\"311\" y=\"-468.8\" font-family=\"Helvetica,sans-Serif\" font-size=\"14.00\">class = virginica</text>\n</g>\n<!-- 2&#45;&gt;6 -->\n<g id=\"edge6\" class=\"edge\">\n<title>2&#45;&gt;6</title>\n<path fill=\"none\" stroke=\"black\" d=\"M304.64,-579.91C311.03,-571.01 317.85,-561.51 324.44,-552.33\"/>\n<polygon fill=\"black\" stroke=\"black\" points=\"327.42,-554.19 330.41,-544.02 321.73,-550.1 327.42,-554.19\"/>\n</g>\n<!-- 4 -->\n<g id=\"node5\" class=\"node\">\n<title>4</title>\n<path fill=\"#39e581\" stroke=\"black\" d=\"M109,-417.5C109,-417.5 12,-417.5 12,-417.5 6,-417.5 0,-411.5 0,-405.5 0,-405.5 0,-361.5 0,-361.5 0,-355.5 6,-349.5 12,-349.5 12,-349.5 109,-349.5 109,-349.5 115,-349.5 121,-355.5 121,-361.5 121,-361.5 121,-405.5 121,-405.5 121,-411.5 115,-417.5 109,-417.5\"/>\n<text text-anchor=\"start\" x=\"32.5\" y=\"-402.3\" font-family=\"Helvetica,sans-Serif\" font-size=\"14.00\">gini = 0.0</text>\n<text text-anchor=\"start\" x=\"19.5\" y=\"-387.3\" font-family=\"Helvetica,sans-Serif\" font-size=\"14.00\">samples = 32</text>\n<text text-anchor=\"start\" x=\"10\" y=\"-372.3\" font-family=\"Helvetica,sans-Serif\" font-size=\"14.00\">value = [0, 32, 0]</text>\n<text text-anchor=\"start\" x=\"8\" y=\"-357.3\" font-family=\"Helvetica,sans-Serif\" font-size=\"14.00\">class = versicolor</text>\n</g>\n<!-- 3&#45;&gt;4 -->\n<g id=\"edge4\" class=\"edge\">\n<title>3&#45;&gt;4</title>\n<path fill=\"none\" stroke=\"black\" d=\"M146.05,-460.91C132.83,-449.1 118.4,-436.22 105.23,-424.45\"/>\n<polygon fill=\"black\" stroke=\"black\" points=\"107.43,-421.72 97.64,-417.67 102.76,-426.94 107.43,-421.72\"/>\n</g>\n<!-- 5 -->\n<g id=\"node6\" class=\"node\">\n<title>5</title>\n<path fill=\"#8139e5\" stroke=\"black\" d=\"M240,-417.5C240,-417.5 151,-417.5 151,-417.5 145,-417.5 139,-411.5 139,-405.5 139,-405.5 139,-361.5 139,-361.5 139,-355.5 145,-349.5 151,-349.5 151,-349.5 240,-349.5 240,-349.5 246,-349.5 252,-355.5 252,-361.5 252,-361.5 252,-405.5 252,-405.5 252,-411.5 246,-417.5 240,-417.5\"/>\n<text text-anchor=\"start\" x=\"167.5\" y=\"-402.3\" font-family=\"Helvetica,sans-Serif\" font-size=\"14.00\">gini = 0.0</text>\n<text text-anchor=\"start\" x=\"158\" y=\"-387.3\" font-family=\"Helvetica,sans-Serif\" font-size=\"14.00\">samples = 1</text>\n<text text-anchor=\"start\" x=\"148.5\" y=\"-372.3\" font-family=\"Helvetica,sans-Serif\" font-size=\"14.00\">value = [0, 0, 1]</text>\n<text text-anchor=\"start\" x=\"147\" y=\"-357.3\" font-family=\"Helvetica,sans-Serif\" font-size=\"14.00\">class = virginica</text>\n</g>\n<!-- 3&#45;&gt;5 -->\n<g id=\"edge5\" class=\"edge\">\n<title>3&#45;&gt;5</title>\n<path fill=\"none\" stroke=\"black\" d=\"M192.89,-460.91C193.25,-450.2 193.65,-438.62 194.02,-427.78\"/>\n<polygon fill=\"black\" stroke=\"black\" points=\"197.52,-427.78 194.37,-417.67 190.53,-427.54 197.52,-427.78\"/>\n</g>\n<!-- 7 -->\n<g id=\"node8\" class=\"node\">\n<title>7</title>\n<path fill=\"#ffffff\" stroke=\"black\" d=\"M424,-425C424,-425 289,-425 289,-425 283,-425 277,-419 277,-413 277,-413 277,-354 277,-354 277,-348 283,-342 289,-342 289,-342 424,-342 424,-342 430,-342 436,-348 436,-354 436,-354 436,-413 436,-413 436,-419 430,-425 424,-425\"/>\n<text text-anchor=\"start\" x=\"285\" y=\"-409.8\" font-family=\"Helvetica,sans-Serif\" font-size=\"14.00\">petal length (cm) ≤ 4.95</text>\n<text text-anchor=\"start\" x=\"328.5\" y=\"-394.8\" font-family=\"Helvetica,sans-Serif\" font-size=\"14.00\">gini = 0.5</text>\n<text text-anchor=\"start\" x=\"319\" y=\"-379.8\" font-family=\"Helvetica,sans-Serif\" font-size=\"14.00\">samples = 8</text>\n<text text-anchor=\"start\" x=\"309.5\" y=\"-364.8\" font-family=\"Helvetica,sans-Serif\" font-size=\"14.00\">value = [0, 4, 4]</text>\n<text text-anchor=\"start\" x=\"304\" y=\"-349.8\" font-family=\"Helvetica,sans-Serif\" font-size=\"14.00\">class = versicolor</text>\n</g>\n<!-- 6&#45;&gt;7 -->\n<g id=\"edge7\" class=\"edge\">\n<title>6&#45;&gt;7</title>\n<path fill=\"none\" stroke=\"black\" d=\"M358.46,-460.91C358.25,-452.56 358.02,-443.67 357.8,-435.02\"/>\n<polygon fill=\"black\" stroke=\"black\" points=\"361.29,-434.93 357.54,-425.02 354.3,-435.11 361.29,-434.93\"/>\n</g>\n<!-- 14 -->\n<g id=\"node15\" class=\"node\">\n<title>14</title>\n<path fill=\"#853fe6\" stroke=\"black\" d=\"M601,-425C601,-425 466,-425 466,-425 460,-425 454,-419 454,-413 454,-413 454,-354 454,-354 454,-348 460,-342 466,-342 466,-342 601,-342 601,-342 607,-342 613,-348 613,-354 613,-354 613,-413 613,-413 613,-419 607,-425 601,-425\"/>\n<text text-anchor=\"start\" x=\"462\" y=\"-409.8\" font-family=\"Helvetica,sans-Serif\" font-size=\"14.00\">petal length (cm) ≤ 4.85</text>\n<text text-anchor=\"start\" x=\"498\" y=\"-394.8\" font-family=\"Helvetica,sans-Serif\" font-size=\"14.00\">gini = 0.059</text>\n<text text-anchor=\"start\" x=\"492.5\" y=\"-379.8\" font-family=\"Helvetica,sans-Serif\" font-size=\"14.00\">samples = 33</text>\n<text text-anchor=\"start\" x=\"483\" y=\"-364.8\" font-family=\"Helvetica,sans-Serif\" font-size=\"14.00\">value = [0, 1, 32]</text>\n<text text-anchor=\"start\" x=\"485\" y=\"-349.8\" font-family=\"Helvetica,sans-Serif\" font-size=\"14.00\">class = virginica</text>\n</g>\n<!-- 6&#45;&gt;14 -->\n<g id=\"edge14\" class=\"edge\">\n<title>6&#45;&gt;14</title>\n<path fill=\"none\" stroke=\"black\" d=\"M419.87,-460.91C434.31,-451.2 449.83,-440.76 464.63,-430.81\"/>\n<polygon fill=\"black\" stroke=\"black\" points=\"466.89,-433.51 473.24,-425.02 462.99,-427.7 466.89,-433.51\"/>\n</g>\n<!-- 8 -->\n<g id=\"node9\" class=\"node\">\n<title>8</title>\n<path fill=\"#39e581\" stroke=\"black\" d=\"M252,-298.5C252,-298.5 155,-298.5 155,-298.5 149,-298.5 143,-292.5 143,-286.5 143,-286.5 143,-242.5 143,-242.5 143,-236.5 149,-230.5 155,-230.5 155,-230.5 252,-230.5 252,-230.5 258,-230.5 264,-236.5 264,-242.5 264,-242.5 264,-286.5 264,-286.5 264,-292.5 258,-298.5 252,-298.5\"/>\n<text text-anchor=\"start\" x=\"175.5\" y=\"-283.3\" font-family=\"Helvetica,sans-Serif\" font-size=\"14.00\">gini = 0.0</text>\n<text text-anchor=\"start\" x=\"166\" y=\"-268.3\" font-family=\"Helvetica,sans-Serif\" font-size=\"14.00\">samples = 2</text>\n<text text-anchor=\"start\" x=\"156.5\" y=\"-253.3\" font-family=\"Helvetica,sans-Serif\" font-size=\"14.00\">value = [0, 2, 0]</text>\n<text text-anchor=\"start\" x=\"151\" y=\"-238.3\" font-family=\"Helvetica,sans-Serif\" font-size=\"14.00\">class = versicolor</text>\n</g>\n<!-- 7&#45;&gt;8 -->\n<g id=\"edge8\" class=\"edge\">\n<title>7&#45;&gt;8</title>\n<path fill=\"none\" stroke=\"black\" d=\"M303.42,-341.91C287.69,-329.88 270.5,-316.73 254.88,-304.79\"/>\n<polygon fill=\"black\" stroke=\"black\" points=\"256.94,-301.96 246.87,-298.67 252.69,-307.52 256.94,-301.96\"/>\n</g>\n<!-- 9 -->\n<g id=\"node10\" class=\"node\">\n<title>9</title>\n<path fill=\"#c09cf2\" stroke=\"black\" d=\"M424.5,-306C424.5,-306 294.5,-306 294.5,-306 288.5,-306 282.5,-300 282.5,-294 282.5,-294 282.5,-235 282.5,-235 282.5,-229 288.5,-223 294.5,-223 294.5,-223 424.5,-223 424.5,-223 430.5,-223 436.5,-229 436.5,-235 436.5,-235 436.5,-294 436.5,-294 436.5,-300 430.5,-306 424.5,-306\"/>\n<text text-anchor=\"start\" x=\"290.5\" y=\"-290.8\" font-family=\"Helvetica,sans-Serif\" font-size=\"14.00\">petal width (cm) ≤ 1.55</text>\n<text text-anchor=\"start\" x=\"324\" y=\"-275.8\" font-family=\"Helvetica,sans-Serif\" font-size=\"14.00\">gini = 0.444</text>\n<text text-anchor=\"start\" x=\"322\" y=\"-260.8\" font-family=\"Helvetica,sans-Serif\" font-size=\"14.00\">samples = 6</text>\n<text text-anchor=\"start\" x=\"312.5\" y=\"-245.8\" font-family=\"Helvetica,sans-Serif\" font-size=\"14.00\">value = [0, 2, 4]</text>\n<text text-anchor=\"start\" x=\"311\" y=\"-230.8\" font-family=\"Helvetica,sans-Serif\" font-size=\"14.00\">class = virginica</text>\n</g>\n<!-- 7&#45;&gt;9 -->\n<g id=\"edge9\" class=\"edge\">\n<title>7&#45;&gt;9</title>\n<path fill=\"none\" stroke=\"black\" d=\"M357.54,-341.91C357.75,-333.56 357.98,-324.67 358.2,-316.02\"/>\n<polygon fill=\"black\" stroke=\"black\" points=\"361.7,-316.11 358.46,-306.02 354.71,-315.93 361.7,-316.11\"/>\n</g>\n<!-- 10 -->\n<g id=\"node11\" class=\"node\">\n<title>10</title>\n<path fill=\"#8139e5\" stroke=\"black\" d=\"M254,-179.5C254,-179.5 165,-179.5 165,-179.5 159,-179.5 153,-173.5 153,-167.5 153,-167.5 153,-123.5 153,-123.5 153,-117.5 159,-111.5 165,-111.5 165,-111.5 254,-111.5 254,-111.5 260,-111.5 266,-117.5 266,-123.5 266,-123.5 266,-167.5 266,-167.5 266,-173.5 260,-179.5 254,-179.5\"/>\n<text text-anchor=\"start\" x=\"181.5\" y=\"-164.3\" font-family=\"Helvetica,sans-Serif\" font-size=\"14.00\">gini = 0.0</text>\n<text text-anchor=\"start\" x=\"172\" y=\"-149.3\" font-family=\"Helvetica,sans-Serif\" font-size=\"14.00\">samples = 3</text>\n<text text-anchor=\"start\" x=\"162.5\" y=\"-134.3\" font-family=\"Helvetica,sans-Serif\" font-size=\"14.00\">value = [0, 0, 3]</text>\n<text text-anchor=\"start\" x=\"161\" y=\"-119.3\" font-family=\"Helvetica,sans-Serif\" font-size=\"14.00\">class = virginica</text>\n</g>\n<!-- 9&#45;&gt;10 -->\n<g id=\"edge10\" class=\"edge\">\n<title>9&#45;&gt;10</title>\n<path fill=\"none\" stroke=\"black\" d=\"M307.46,-222.91C292.18,-210.99 275.49,-197.98 260.29,-186.12\"/>\n<polygon fill=\"black\" stroke=\"black\" points=\"262.06,-183.06 252.02,-179.67 257.75,-188.58 262.06,-183.06\"/>\n</g>\n<!-- 11 -->\n<g id=\"node12\" class=\"node\">\n<title>11</title>\n<path fill=\"#9cf2c0\" stroke=\"black\" d=\"M431,-187C431,-187 296,-187 296,-187 290,-187 284,-181 284,-175 284,-175 284,-116 284,-116 284,-110 290,-104 296,-104 296,-104 431,-104 431,-104 437,-104 443,-110 443,-116 443,-116 443,-175 443,-175 443,-181 437,-187 431,-187\"/>\n<text text-anchor=\"start\" x=\"292\" y=\"-171.8\" font-family=\"Helvetica,sans-Serif\" font-size=\"14.00\">petal length (cm) ≤ 5.45</text>\n<text text-anchor=\"start\" x=\"328\" y=\"-156.8\" font-family=\"Helvetica,sans-Serif\" font-size=\"14.00\">gini = 0.444</text>\n<text text-anchor=\"start\" x=\"326\" y=\"-141.8\" font-family=\"Helvetica,sans-Serif\" font-size=\"14.00\">samples = 3</text>\n<text text-anchor=\"start\" x=\"316.5\" y=\"-126.8\" font-family=\"Helvetica,sans-Serif\" font-size=\"14.00\">value = [0, 2, 1]</text>\n<text text-anchor=\"start\" x=\"311\" y=\"-111.8\" font-family=\"Helvetica,sans-Serif\" font-size=\"14.00\">class = versicolor</text>\n</g>\n<!-- 9&#45;&gt;11 -->\n<g id=\"edge11\" class=\"edge\">\n<title>9&#45;&gt;11</title>\n<path fill=\"none\" stroke=\"black\" d=\"M360.89,-222.91C361.17,-214.56 361.48,-205.67 361.77,-197.02\"/>\n<polygon fill=\"black\" stroke=\"black\" points=\"365.27,-197.13 362.11,-187.02 358.27,-196.9 365.27,-197.13\"/>\n</g>\n<!-- 12 -->\n<g id=\"node13\" class=\"node\">\n<title>12</title>\n<path fill=\"#39e581\" stroke=\"black\" d=\"M345,-68C345,-68 248,-68 248,-68 242,-68 236,-62 236,-56 236,-56 236,-12 236,-12 236,-6 242,0 248,0 248,0 345,0 345,0 351,0 357,-6 357,-12 357,-12 357,-56 357,-56 357,-62 351,-68 345,-68\"/>\n<text text-anchor=\"start\" x=\"268.5\" y=\"-52.8\" font-family=\"Helvetica,sans-Serif\" font-size=\"14.00\">gini = 0.0</text>\n<text text-anchor=\"start\" x=\"259\" y=\"-37.8\" font-family=\"Helvetica,sans-Serif\" font-size=\"14.00\">samples = 2</text>\n<text text-anchor=\"start\" x=\"249.5\" y=\"-22.8\" font-family=\"Helvetica,sans-Serif\" font-size=\"14.00\">value = [0, 2, 0]</text>\n<text text-anchor=\"start\" x=\"244\" y=\"-7.8\" font-family=\"Helvetica,sans-Serif\" font-size=\"14.00\">class = versicolor</text>\n</g>\n<!-- 11&#45;&gt;12 -->\n<g id=\"edge12\" class=\"edge\">\n<title>11&#45;&gt;12</title>\n<path fill=\"none\" stroke=\"black\" d=\"M338.55,-103.73C333.19,-94.97 327.52,-85.7 322.14,-76.91\"/>\n<polygon fill=\"black\" stroke=\"black\" points=\"325.08,-75 316.88,-68.3 319.11,-78.66 325.08,-75\"/>\n</g>\n<!-- 13 -->\n<g id=\"node14\" class=\"node\">\n<title>13</title>\n<path fill=\"#8139e5\" stroke=\"black\" d=\"M476,-68C476,-68 387,-68 387,-68 381,-68 375,-62 375,-56 375,-56 375,-12 375,-12 375,-6 381,0 387,0 387,0 476,0 476,0 482,0 488,-6 488,-12 488,-12 488,-56 488,-56 488,-62 482,-68 476,-68\"/>\n<text text-anchor=\"start\" x=\"403.5\" y=\"-52.8\" font-family=\"Helvetica,sans-Serif\" font-size=\"14.00\">gini = 0.0</text>\n<text text-anchor=\"start\" x=\"394\" y=\"-37.8\" font-family=\"Helvetica,sans-Serif\" font-size=\"14.00\">samples = 1</text>\n<text text-anchor=\"start\" x=\"384.5\" y=\"-22.8\" font-family=\"Helvetica,sans-Serif\" font-size=\"14.00\">value = [0, 0, 1]</text>\n<text text-anchor=\"start\" x=\"383\" y=\"-7.8\" font-family=\"Helvetica,sans-Serif\" font-size=\"14.00\">class = virginica</text>\n</g>\n<!-- 11&#45;&gt;13 -->\n<g id=\"edge13\" class=\"edge\">\n<title>11&#45;&gt;13</title>\n<path fill=\"none\" stroke=\"black\" d=\"M388.82,-103.73C394.26,-94.97 400.01,-85.7 405.48,-76.91\"/>\n<polygon fill=\"black\" stroke=\"black\" points=\"408.52,-78.64 410.82,-68.3 402.57,-74.95 408.52,-78.64\"/>\n</g>\n<!-- 15 -->\n<g id=\"node16\" class=\"node\">\n<title>15</title>\n<path fill=\"#c09cf2\" stroke=\"black\" d=\"M594,-306C594,-306 469,-306 469,-306 463,-306 457,-300 457,-294 457,-294 457,-235 457,-235 457,-229 463,-223 469,-223 469,-223 594,-223 594,-223 600,-223 606,-229 606,-235 606,-235 606,-294 606,-294 606,-300 600,-306 594,-306\"/>\n<text text-anchor=\"start\" x=\"465\" y=\"-290.8\" font-family=\"Helvetica,sans-Serif\" font-size=\"14.00\">sepal width (cm) ≤ 3.1</text>\n<text text-anchor=\"start\" x=\"496\" y=\"-275.8\" font-family=\"Helvetica,sans-Serif\" font-size=\"14.00\">gini = 0.444</text>\n<text text-anchor=\"start\" x=\"494\" y=\"-260.8\" font-family=\"Helvetica,sans-Serif\" font-size=\"14.00\">samples = 3</text>\n<text text-anchor=\"start\" x=\"484.5\" y=\"-245.8\" font-family=\"Helvetica,sans-Serif\" font-size=\"14.00\">value = [0, 1, 2]</text>\n<text text-anchor=\"start\" x=\"483\" y=\"-230.8\" font-family=\"Helvetica,sans-Serif\" font-size=\"14.00\">class = virginica</text>\n</g>\n<!-- 14&#45;&gt;15 -->\n<g id=\"edge15\" class=\"edge\">\n<title>14&#45;&gt;15</title>\n<path fill=\"none\" stroke=\"black\" d=\"M532.81,-341.91C532.66,-333.56 532.51,-324.67 532.36,-316.02\"/>\n<polygon fill=\"black\" stroke=\"black\" points=\"535.86,-315.96 532.19,-306.02 528.86,-316.08 535.86,-315.96\"/>\n</g>\n<!-- 18 -->\n<g id=\"node19\" class=\"node\">\n<title>18</title>\n<path fill=\"#8139e5\" stroke=\"black\" d=\"M729,-298.5C729,-298.5 636,-298.5 636,-298.5 630,-298.5 624,-292.5 624,-286.5 624,-286.5 624,-242.5 624,-242.5 624,-236.5 630,-230.5 636,-230.5 636,-230.5 729,-230.5 729,-230.5 735,-230.5 741,-236.5 741,-242.5 741,-242.5 741,-286.5 741,-286.5 741,-292.5 735,-298.5 729,-298.5\"/>\n<text text-anchor=\"start\" x=\"654.5\" y=\"-283.3\" font-family=\"Helvetica,sans-Serif\" font-size=\"14.00\">gini = 0.0</text>\n<text text-anchor=\"start\" x=\"641.5\" y=\"-268.3\" font-family=\"Helvetica,sans-Serif\" font-size=\"14.00\">samples = 30</text>\n<text text-anchor=\"start\" x=\"632\" y=\"-253.3\" font-family=\"Helvetica,sans-Serif\" font-size=\"14.00\">value = [0, 0, 30]</text>\n<text text-anchor=\"start\" x=\"634\" y=\"-238.3\" font-family=\"Helvetica,sans-Serif\" font-size=\"14.00\">class = virginica</text>\n</g>\n<!-- 14&#45;&gt;18 -->\n<g id=\"edge18\" class=\"edge\">\n<title>14&#45;&gt;18</title>\n<path fill=\"none\" stroke=\"black\" d=\"M585.19,-341.91C600.37,-329.99 616.95,-316.98 632.04,-305.12\"/>\n<polygon fill=\"black\" stroke=\"black\" points=\"634.56,-307.6 640.26,-298.67 630.24,-302.09 634.56,-307.6\"/>\n</g>\n<!-- 16 -->\n<g id=\"node17\" class=\"node\">\n<title>16</title>\n<path fill=\"#8139e5\" stroke=\"black\" d=\"M573,-179.5C573,-179.5 484,-179.5 484,-179.5 478,-179.5 472,-173.5 472,-167.5 472,-167.5 472,-123.5 472,-123.5 472,-117.5 478,-111.5 484,-111.5 484,-111.5 573,-111.5 573,-111.5 579,-111.5 585,-117.5 585,-123.5 585,-123.5 585,-167.5 585,-167.5 585,-173.5 579,-179.5 573,-179.5\"/>\n<text text-anchor=\"start\" x=\"500.5\" y=\"-164.3\" font-family=\"Helvetica,sans-Serif\" font-size=\"14.00\">gini = 0.0</text>\n<text text-anchor=\"start\" x=\"491\" y=\"-149.3\" font-family=\"Helvetica,sans-Serif\" font-size=\"14.00\">samples = 2</text>\n<text text-anchor=\"start\" x=\"481.5\" y=\"-134.3\" font-family=\"Helvetica,sans-Serif\" font-size=\"14.00\">value = [0, 0, 2]</text>\n<text text-anchor=\"start\" x=\"480\" y=\"-119.3\" font-family=\"Helvetica,sans-Serif\" font-size=\"14.00\">class = virginica</text>\n</g>\n<!-- 15&#45;&gt;16 -->\n<g id=\"edge16\" class=\"edge\">\n<title>15&#45;&gt;16</title>\n<path fill=\"none\" stroke=\"black\" d=\"M530.46,-222.91C530.18,-212.2 529.89,-200.62 529.61,-189.78\"/>\n<polygon fill=\"black\" stroke=\"black\" points=\"533.11,-189.57 529.35,-179.67 526.11,-189.75 533.11,-189.57\"/>\n</g>\n<!-- 17 -->\n<g id=\"node18\" class=\"node\">\n<title>17</title>\n<path fill=\"#39e581\" stroke=\"black\" d=\"M712,-179.5C712,-179.5 615,-179.5 615,-179.5 609,-179.5 603,-173.5 603,-167.5 603,-167.5 603,-123.5 603,-123.5 603,-117.5 609,-111.5 615,-111.5 615,-111.5 712,-111.5 712,-111.5 718,-111.5 724,-117.5 724,-123.5 724,-123.5 724,-167.5 724,-167.5 724,-173.5 718,-179.5 712,-179.5\"/>\n<text text-anchor=\"start\" x=\"635.5\" y=\"-164.3\" font-family=\"Helvetica,sans-Serif\" font-size=\"14.00\">gini = 0.0</text>\n<text text-anchor=\"start\" x=\"626\" y=\"-149.3\" font-family=\"Helvetica,sans-Serif\" font-size=\"14.00\">samples = 1</text>\n<text text-anchor=\"start\" x=\"616.5\" y=\"-134.3\" font-family=\"Helvetica,sans-Serif\" font-size=\"14.00\">value = [0, 1, 0]</text>\n<text text-anchor=\"start\" x=\"611\" y=\"-119.3\" font-family=\"Helvetica,sans-Serif\" font-size=\"14.00\">class = versicolor</text>\n</g>\n<!-- 15&#45;&gt;17 -->\n<g id=\"edge17\" class=\"edge\">\n<title>15&#45;&gt;17</title>\n<path fill=\"none\" stroke=\"black\" d=\"M577.3,-222.91C590.62,-211.1 605.15,-198.22 618.43,-186.45\"/>\n<polygon fill=\"black\" stroke=\"black\" points=\"620.92,-188.92 626.08,-179.67 616.28,-183.68 620.92,-188.92\"/>\n</g>\n</g>\n</svg>\n",
            "text/plain": [
              "<graphviz.sources.Source at 0x78ecb2a61c60>"
            ]
          },
          "metadata": {},
          "execution_count": 27
        }
      ],
      "source": [
        "# 8. Finally, play with different parameter settings and explore how the model performance changes.\n",
        "# documentation: https://scikit-learn.org/stable/modules/generated/sklearn.tree.DecisionTreeClassifier.html\n",
        "# Visualize and compare different decision trees.\n",
        "\n",
        "dt_clf = DecisionTreeClassifier(random_state=42,criterion='gini')\n",
        "dt_clf = dt_clf.fit(X_train, y_train)\n",
        "np.round(dt_clf.score(X_test,y_test),3)\n",
        "\n",
        "dot_data = tree.export_graphviz(dt_clf, out_file=None,\n",
        "                                feature_names=iris.feature_names,\n",
        "                                class_names=iris.target_names,\n",
        "                                filled=True, rounded=True,\n",
        "                                special_characters=True)\n",
        "graph = graphviz.Source(dot_data)\n",
        "graph"
      ]
    },
    {
      "cell_type": "code",
      "source": [
        "dt_clf = DecisionTreeClassifier(random_state=42,splitter='random', max_depth=5)\n",
        "dt_clf = dt_clf.fit(X_train, y_train)\n",
        "np.round(dt_clf.score(X_test,y_test),3)\n",
        "\n",
        "dot_data = tree.export_graphviz(dt_clf, out_file=None,\n",
        "                                feature_names=iris.feature_names,\n",
        "                                class_names=iris.target_names,\n",
        "                                filled=True, rounded=True,\n",
        "                                special_characters=True)\n",
        "graph = graphviz.Source(dot_data)\n",
        "graph"
      ],
      "metadata": {
        "colab": {
          "base_uri": "https://localhost:8080/",
          "height": 917
        },
        "id": "3MnQcwS4OGTM",
        "outputId": "0d9c0cb4-c950-4fc8-ba8a-d09099799e38"
      },
      "id": "3MnQcwS4OGTM",
      "execution_count": 30,
      "outputs": [
        {
          "output_type": "execute_result",
          "data": {
            "image/svg+xml": "<?xml version=\"1.0\" encoding=\"UTF-8\" standalone=\"no\"?>\n<!DOCTYPE svg PUBLIC \"-//W3C//DTD SVG 1.1//EN\"\n \"http://www.w3.org/Graphics/SVG/1.1/DTD/svg11.dtd\">\n<!-- Generated by graphviz version 2.43.0 (0)\n -->\n<!-- Title: Tree Pages: 1 -->\n<svg width=\"862pt\" height=\"671pt\"\n viewBox=\"0.00 0.00 862.00 671.00\" xmlns=\"http://www.w3.org/2000/svg\" xmlns:xlink=\"http://www.w3.org/1999/xlink\">\n<g id=\"graph0\" class=\"graph\" transform=\"scale(1 1) rotate(0) translate(4 667)\">\n<title>Tree</title>\n<polygon fill=\"white\" stroke=\"transparent\" points=\"-4,4 -4,-667 858,-667 858,4 -4,4\"/>\n<!-- 0 -->\n<g id=\"node1\" class=\"node\">\n<title>0</title>\n<path fill=\"#ffffff\" stroke=\"black\" d=\"M444,-663C444,-663 307,-663 307,-663 301,-663 295,-657 295,-651 295,-651 295,-592 295,-592 295,-586 301,-580 307,-580 307,-580 444,-580 444,-580 450,-580 456,-586 456,-592 456,-592 456,-651 456,-651 456,-657 450,-663 444,-663\"/>\n<text text-anchor=\"start\" x=\"303\" y=\"-647.8\" font-family=\"Helvetica,sans-Serif\" font-size=\"14.00\">petal width (cm) ≤ 0.571</text>\n<text text-anchor=\"start\" x=\"340\" y=\"-632.8\" font-family=\"Helvetica,sans-Serif\" font-size=\"14.00\">gini = 0.664</text>\n<text text-anchor=\"start\" x=\"330.5\" y=\"-617.8\" font-family=\"Helvetica,sans-Serif\" font-size=\"14.00\">samples = 105</text>\n<text text-anchor=\"start\" x=\"317.5\" y=\"-602.8\" font-family=\"Helvetica,sans-Serif\" font-size=\"14.00\">value = [31, 37, 37]</text>\n<text text-anchor=\"start\" x=\"323\" y=\"-587.8\" font-family=\"Helvetica,sans-Serif\" font-size=\"14.00\">class = versicolor</text>\n</g>\n<!-- 1 -->\n<g id=\"node2\" class=\"node\">\n<title>1</title>\n<path fill=\"#e58139\" stroke=\"black\" d=\"M344,-536.5C344,-536.5 251,-536.5 251,-536.5 245,-536.5 239,-530.5 239,-524.5 239,-524.5 239,-480.5 239,-480.5 239,-474.5 245,-468.5 251,-468.5 251,-468.5 344,-468.5 344,-468.5 350,-468.5 356,-474.5 356,-480.5 356,-480.5 356,-524.5 356,-524.5 356,-530.5 350,-536.5 344,-536.5\"/>\n<text text-anchor=\"start\" x=\"269.5\" y=\"-521.3\" font-family=\"Helvetica,sans-Serif\" font-size=\"14.00\">gini = 0.0</text>\n<text text-anchor=\"start\" x=\"256.5\" y=\"-506.3\" font-family=\"Helvetica,sans-Serif\" font-size=\"14.00\">samples = 30</text>\n<text text-anchor=\"start\" x=\"247\" y=\"-491.3\" font-family=\"Helvetica,sans-Serif\" font-size=\"14.00\">value = [30, 0, 0]</text>\n<text text-anchor=\"start\" x=\"254\" y=\"-476.3\" font-family=\"Helvetica,sans-Serif\" font-size=\"14.00\">class = setosa</text>\n</g>\n<!-- 0&#45;&gt;1 -->\n<g id=\"edge1\" class=\"edge\">\n<title>0&#45;&gt;1</title>\n<path fill=\"none\" stroke=\"black\" d=\"M348.44,-579.91C340.93,-568.65 332.78,-556.42 325.24,-545.11\"/>\n<polygon fill=\"black\" stroke=\"black\" points=\"328.07,-543.05 319.61,-536.67 322.25,-546.93 328.07,-543.05\"/>\n<text text-anchor=\"middle\" x=\"314.71\" y=\"-557.48\" font-family=\"Helvetica,sans-Serif\" font-size=\"14.00\">True</text>\n</g>\n<!-- 2 -->\n<g id=\"node3\" class=\"node\">\n<title>2</title>\n<path fill=\"#ffffff\" stroke=\"black\" d=\"M523,-544C523,-544 386,-544 386,-544 380,-544 374,-538 374,-532 374,-532 374,-473 374,-473 374,-467 380,-461 386,-461 386,-461 523,-461 523,-461 529,-461 535,-467 535,-473 535,-473 535,-532 535,-532 535,-538 529,-544 523,-544\"/>\n<text text-anchor=\"start\" x=\"382\" y=\"-528.8\" font-family=\"Helvetica,sans-Serif\" font-size=\"14.00\">petal width (cm) ≤ 1.648</text>\n<text text-anchor=\"start\" x=\"419\" y=\"-513.8\" font-family=\"Helvetica,sans-Serif\" font-size=\"14.00\">gini = 0.513</text>\n<text text-anchor=\"start\" x=\"413.5\" y=\"-498.8\" font-family=\"Helvetica,sans-Serif\" font-size=\"14.00\">samples = 75</text>\n<text text-anchor=\"start\" x=\"400\" y=\"-483.8\" font-family=\"Helvetica,sans-Serif\" font-size=\"14.00\">value = [1, 37, 37]</text>\n<text text-anchor=\"start\" x=\"402\" y=\"-468.8\" font-family=\"Helvetica,sans-Serif\" font-size=\"14.00\">class = versicolor</text>\n</g>\n<!-- 0&#45;&gt;2 -->\n<g id=\"edge2\" class=\"edge\">\n<title>0&#45;&gt;2</title>\n<path fill=\"none\" stroke=\"black\" d=\"M402.91,-579.91C408.91,-571.01 415.33,-561.51 421.53,-552.33\"/>\n<polygon fill=\"black\" stroke=\"black\" points=\"424.44,-554.27 427.14,-544.02 418.64,-550.35 424.44,-554.27\"/>\n<text text-anchor=\"middle\" x=\"431.9\" y=\"-564.86\" font-family=\"Helvetica,sans-Serif\" font-size=\"14.00\">False</text>\n</g>\n<!-- 3 -->\n<g id=\"node4\" class=\"node\">\n<title>3</title>\n<path fill=\"#54e992\" stroke=\"black\" d=\"M434,-425C434,-425 291,-425 291,-425 285,-425 279,-419 279,-413 279,-413 279,-354 279,-354 279,-348 285,-342 291,-342 291,-342 434,-342 434,-342 440,-342 446,-348 446,-354 446,-354 446,-413 446,-413 446,-419 440,-425 434,-425\"/>\n<text text-anchor=\"start\" x=\"287\" y=\"-409.8\" font-family=\"Helvetica,sans-Serif\" font-size=\"14.00\">petal length (cm) ≤ 1.962</text>\n<text text-anchor=\"start\" x=\"327\" y=\"-394.8\" font-family=\"Helvetica,sans-Serif\" font-size=\"14.00\">gini = 0.224</text>\n<text text-anchor=\"start\" x=\"321.5\" y=\"-379.8\" font-family=\"Helvetica,sans-Serif\" font-size=\"14.00\">samples = 40</text>\n<text text-anchor=\"start\" x=\"312\" y=\"-364.8\" font-family=\"Helvetica,sans-Serif\" font-size=\"14.00\">value = [1, 35, 4]</text>\n<text text-anchor=\"start\" x=\"310\" y=\"-349.8\" font-family=\"Helvetica,sans-Serif\" font-size=\"14.00\">class = versicolor</text>\n</g>\n<!-- 2&#45;&gt;3 -->\n<g id=\"edge3\" class=\"edge\">\n<title>2&#45;&gt;3</title>\n<path fill=\"none\" stroke=\"black\" d=\"M422.58,-460.91C415.52,-451.92 407.96,-442.32 400.68,-433.05\"/>\n<polygon fill=\"black\" stroke=\"black\" points=\"403.3,-430.72 394.36,-425.02 397.79,-435.05 403.3,-430.72\"/>\n</g>\n<!-- 12 -->\n<g id=\"node13\" class=\"node\">\n<title>12</title>\n<path fill=\"#8945e7\" stroke=\"black\" d=\"M619,-425C619,-425 476,-425 476,-425 470,-425 464,-419 464,-413 464,-413 464,-354 464,-354 464,-348 470,-342 476,-342 476,-342 619,-342 619,-342 625,-342 631,-348 631,-354 631,-354 631,-413 631,-413 631,-419 625,-425 619,-425\"/>\n<text text-anchor=\"start\" x=\"472\" y=\"-409.8\" font-family=\"Helvetica,sans-Serif\" font-size=\"14.00\">petal length (cm) ≤ 5.743</text>\n<text text-anchor=\"start\" x=\"512\" y=\"-394.8\" font-family=\"Helvetica,sans-Serif\" font-size=\"14.00\">gini = 0.108</text>\n<text text-anchor=\"start\" x=\"506.5\" y=\"-379.8\" font-family=\"Helvetica,sans-Serif\" font-size=\"14.00\">samples = 35</text>\n<text text-anchor=\"start\" x=\"497\" y=\"-364.8\" font-family=\"Helvetica,sans-Serif\" font-size=\"14.00\">value = [0, 2, 33]</text>\n<text text-anchor=\"start\" x=\"499\" y=\"-349.8\" font-family=\"Helvetica,sans-Serif\" font-size=\"14.00\">class = virginica</text>\n</g>\n<!-- 2&#45;&gt;12 -->\n<g id=\"edge12\" class=\"edge\">\n<title>2&#45;&gt;12</title>\n<path fill=\"none\" stroke=\"black\" d=\"M486.77,-460.91C493.91,-451.92 501.54,-442.32 508.91,-433.05\"/>\n<polygon fill=\"black\" stroke=\"black\" points=\"511.81,-435.03 515.29,-425.02 506.33,-430.67 511.81,-435.03\"/>\n</g>\n<!-- 4 -->\n<g id=\"node5\" class=\"node\">\n<title>4</title>\n<path fill=\"#e58139\" stroke=\"black\" d=\"M253.5,-298.5C253.5,-298.5 167.5,-298.5 167.5,-298.5 161.5,-298.5 155.5,-292.5 155.5,-286.5 155.5,-286.5 155.5,-242.5 155.5,-242.5 155.5,-236.5 161.5,-230.5 167.5,-230.5 167.5,-230.5 253.5,-230.5 253.5,-230.5 259.5,-230.5 265.5,-236.5 265.5,-242.5 265.5,-242.5 265.5,-286.5 265.5,-286.5 265.5,-292.5 259.5,-298.5 253.5,-298.5\"/>\n<text text-anchor=\"start\" x=\"182.5\" y=\"-283.3\" font-family=\"Helvetica,sans-Serif\" font-size=\"14.00\">gini = 0.0</text>\n<text text-anchor=\"start\" x=\"173\" y=\"-268.3\" font-family=\"Helvetica,sans-Serif\" font-size=\"14.00\">samples = 1</text>\n<text text-anchor=\"start\" x=\"163.5\" y=\"-253.3\" font-family=\"Helvetica,sans-Serif\" font-size=\"14.00\">value = [1, 0, 0]</text>\n<text text-anchor=\"start\" x=\"167\" y=\"-238.3\" font-family=\"Helvetica,sans-Serif\" font-size=\"14.00\">class = setosa</text>\n</g>\n<!-- 3&#45;&gt;4 -->\n<g id=\"edge4\" class=\"edge\">\n<title>3&#45;&gt;4</title>\n<path fill=\"none\" stroke=\"black\" d=\"M309.76,-341.91C294.14,-329.88 277.06,-316.73 261.54,-304.79\"/>\n<polygon fill=\"black\" stroke=\"black\" points=\"263.65,-301.99 253.59,-298.67 259.38,-307.54 263.65,-301.99\"/>\n</g>\n<!-- 5 -->\n<g id=\"node6\" class=\"node\">\n<title>5</title>\n<path fill=\"#50e88f\" stroke=\"black\" d=\"M433,-306C433,-306 296,-306 296,-306 290,-306 284,-300 284,-294 284,-294 284,-235 284,-235 284,-229 290,-223 296,-223 296,-223 433,-223 433,-223 439,-223 445,-229 445,-235 445,-235 445,-294 445,-294 445,-300 439,-306 433,-306\"/>\n<text text-anchor=\"start\" x=\"292\" y=\"-290.8\" font-family=\"Helvetica,sans-Serif\" font-size=\"14.00\">petal width (cm) ≤ 1.432</text>\n<text text-anchor=\"start\" x=\"329\" y=\"-275.8\" font-family=\"Helvetica,sans-Serif\" font-size=\"14.00\">gini = 0.184</text>\n<text text-anchor=\"start\" x=\"323.5\" y=\"-260.8\" font-family=\"Helvetica,sans-Serif\" font-size=\"14.00\">samples = 39</text>\n<text text-anchor=\"start\" x=\"314\" y=\"-245.8\" font-family=\"Helvetica,sans-Serif\" font-size=\"14.00\">value = [0, 35, 4]</text>\n<text text-anchor=\"start\" x=\"312\" y=\"-230.8\" font-family=\"Helvetica,sans-Serif\" font-size=\"14.00\">class = versicolor</text>\n</g>\n<!-- 3&#45;&gt;5 -->\n<g id=\"edge5\" class=\"edge\">\n<title>3&#45;&gt;5</title>\n<path fill=\"none\" stroke=\"black\" d=\"M363.19,-341.91C363.34,-333.56 363.49,-324.67 363.64,-316.02\"/>\n<polygon fill=\"black\" stroke=\"black\" points=\"367.14,-316.08 363.81,-306.02 360.14,-315.96 367.14,-316.08\"/>\n</g>\n<!-- 6 -->\n<g id=\"node7\" class=\"node\">\n<title>6</title>\n<path fill=\"#40e686\" stroke=\"black\" d=\"M257,-187C257,-187 120,-187 120,-187 114,-187 108,-181 108,-175 108,-175 108,-116 108,-116 108,-110 114,-104 120,-104 120,-104 257,-104 257,-104 263,-104 269,-110 269,-116 269,-116 269,-175 269,-175 269,-181 263,-187 257,-187\"/>\n<text text-anchor=\"start\" x=\"116\" y=\"-171.8\" font-family=\"Helvetica,sans-Serif\" font-size=\"14.00\">petal width (cm) ≤ 1.173</text>\n<text text-anchor=\"start\" x=\"153\" y=\"-156.8\" font-family=\"Helvetica,sans-Serif\" font-size=\"14.00\">gini = 0.067</text>\n<text text-anchor=\"start\" x=\"147.5\" y=\"-141.8\" font-family=\"Helvetica,sans-Serif\" font-size=\"14.00\">samples = 29</text>\n<text text-anchor=\"start\" x=\"138\" y=\"-126.8\" font-family=\"Helvetica,sans-Serif\" font-size=\"14.00\">value = [0, 28, 1]</text>\n<text text-anchor=\"start\" x=\"136\" y=\"-111.8\" font-family=\"Helvetica,sans-Serif\" font-size=\"14.00\">class = versicolor</text>\n</g>\n<!-- 5&#45;&gt;6 -->\n<g id=\"edge6\" class=\"edge\">\n<title>5&#45;&gt;6</title>\n<path fill=\"none\" stroke=\"black\" d=\"M303.44,-222.91C288.83,-213.2 273.13,-202.76 258.16,-192.81\"/>\n<polygon fill=\"black\" stroke=\"black\" points=\"259.72,-189.64 249.45,-187.02 255.84,-195.47 259.72,-189.64\"/>\n</g>\n<!-- 9 -->\n<g id=\"node10\" class=\"node\">\n<title>9</title>\n<path fill=\"#8ef0b7\" stroke=\"black\" d=\"M442,-187C442,-187 299,-187 299,-187 293,-187 287,-181 287,-175 287,-175 287,-116 287,-116 287,-110 293,-104 299,-104 299,-104 442,-104 442,-104 448,-104 454,-110 454,-116 454,-116 454,-175 454,-175 454,-181 448,-187 442,-187\"/>\n<text text-anchor=\"start\" x=\"295\" y=\"-171.8\" font-family=\"Helvetica,sans-Serif\" font-size=\"14.00\">petal length (cm) ≤ 4.911</text>\n<text text-anchor=\"start\" x=\"338.5\" y=\"-156.8\" font-family=\"Helvetica,sans-Serif\" font-size=\"14.00\">gini = 0.42</text>\n<text text-anchor=\"start\" x=\"329.5\" y=\"-141.8\" font-family=\"Helvetica,sans-Serif\" font-size=\"14.00\">samples = 10</text>\n<text text-anchor=\"start\" x=\"323.5\" y=\"-126.8\" font-family=\"Helvetica,sans-Serif\" font-size=\"14.00\">value = [0, 7, 3]</text>\n<text text-anchor=\"start\" x=\"318\" y=\"-111.8\" font-family=\"Helvetica,sans-Serif\" font-size=\"14.00\">class = versicolor</text>\n</g>\n<!-- 5&#45;&gt;9 -->\n<g id=\"edge9\" class=\"edge\">\n<title>5&#45;&gt;9</title>\n<path fill=\"none\" stroke=\"black\" d=\"M366.58,-222.91C367.01,-214.56 367.47,-205.67 367.91,-197.02\"/>\n<polygon fill=\"black\" stroke=\"black\" points=\"371.41,-197.19 368.42,-187.02 364.41,-196.83 371.41,-197.19\"/>\n</g>\n<!-- 7 -->\n<g id=\"node8\" class=\"node\">\n<title>7</title>\n<path fill=\"#39e581\" stroke=\"black\" d=\"M109,-68C109,-68 12,-68 12,-68 6,-68 0,-62 0,-56 0,-56 0,-12 0,-12 0,-6 6,0 12,0 12,0 109,0 109,0 115,0 121,-6 121,-12 121,-12 121,-56 121,-56 121,-62 115,-68 109,-68\"/>\n<text text-anchor=\"start\" x=\"32.5\" y=\"-52.8\" font-family=\"Helvetica,sans-Serif\" font-size=\"14.00\">gini = 0.0</text>\n<text text-anchor=\"start\" x=\"23\" y=\"-37.8\" font-family=\"Helvetica,sans-Serif\" font-size=\"14.00\">samples = 9</text>\n<text text-anchor=\"start\" x=\"13.5\" y=\"-22.8\" font-family=\"Helvetica,sans-Serif\" font-size=\"14.00\">value = [0, 9, 0]</text>\n<text text-anchor=\"start\" x=\"8\" y=\"-7.8\" font-family=\"Helvetica,sans-Serif\" font-size=\"14.00\">class = versicolor</text>\n</g>\n<!-- 6&#45;&gt;7 -->\n<g id=\"edge7\" class=\"edge\">\n<title>6&#45;&gt;7</title>\n<path fill=\"none\" stroke=\"black\" d=\"M140.84,-103.73C129.86,-94.33 118.19,-84.35 107.24,-74.99\"/>\n<polygon fill=\"black\" stroke=\"black\" points=\"109.3,-72.14 99.43,-68.3 104.75,-77.46 109.3,-72.14\"/>\n</g>\n<!-- 8 -->\n<g id=\"node9\" class=\"node\">\n<title>8</title>\n<path fill=\"#43e688\" stroke=\"black\" d=\"M248,-68C248,-68 151,-68 151,-68 145,-68 139,-62 139,-56 139,-56 139,-12 139,-12 139,-6 145,0 151,0 151,0 248,0 248,0 254,0 260,-6 260,-12 260,-12 260,-56 260,-56 260,-62 254,-68 248,-68\"/>\n<text text-anchor=\"start\" x=\"164\" y=\"-52.8\" font-family=\"Helvetica,sans-Serif\" font-size=\"14.00\">gini = 0.095</text>\n<text text-anchor=\"start\" x=\"158.5\" y=\"-37.8\" font-family=\"Helvetica,sans-Serif\" font-size=\"14.00\">samples = 20</text>\n<text text-anchor=\"start\" x=\"149\" y=\"-22.8\" font-family=\"Helvetica,sans-Serif\" font-size=\"14.00\">value = [0, 19, 1]</text>\n<text text-anchor=\"start\" x=\"147\" y=\"-7.8\" font-family=\"Helvetica,sans-Serif\" font-size=\"14.00\">class = versicolor</text>\n</g>\n<!-- 6&#45;&gt;8 -->\n<g id=\"edge8\" class=\"edge\">\n<title>6&#45;&gt;8</title>\n<path fill=\"none\" stroke=\"black\" d=\"M192.6,-103.73C193.43,-95.43 194.31,-86.67 195.15,-78.28\"/>\n<polygon fill=\"black\" stroke=\"black\" points=\"198.64,-78.6 196.15,-68.3 191.67,-77.9 198.64,-78.6\"/>\n</g>\n<!-- 10 -->\n<g id=\"node11\" class=\"node\">\n<title>10</title>\n<path fill=\"#39e581\" stroke=\"black\" d=\"M408,-68C408,-68 311,-68 311,-68 305,-68 299,-62 299,-56 299,-56 299,-12 299,-12 299,-6 305,0 311,0 311,0 408,0 408,0 414,0 420,-6 420,-12 420,-12 420,-56 420,-56 420,-62 414,-68 408,-68\"/>\n<text text-anchor=\"start\" x=\"331.5\" y=\"-52.8\" font-family=\"Helvetica,sans-Serif\" font-size=\"14.00\">gini = 0.0</text>\n<text text-anchor=\"start\" x=\"322\" y=\"-37.8\" font-family=\"Helvetica,sans-Serif\" font-size=\"14.00\">samples = 6</text>\n<text text-anchor=\"start\" x=\"312.5\" y=\"-22.8\" font-family=\"Helvetica,sans-Serif\" font-size=\"14.00\">value = [0, 6, 0]</text>\n<text text-anchor=\"start\" x=\"307\" y=\"-7.8\" font-family=\"Helvetica,sans-Serif\" font-size=\"14.00\">class = versicolor</text>\n</g>\n<!-- 9&#45;&gt;10 -->\n<g id=\"edge10\" class=\"edge\">\n<title>9&#45;&gt;10</title>\n<path fill=\"none\" stroke=\"black\" d=\"M366.4,-103.73C365.57,-95.43 364.69,-86.67 363.85,-78.28\"/>\n<polygon fill=\"black\" stroke=\"black\" points=\"367.33,-77.9 362.85,-68.3 360.36,-78.6 367.33,-77.9\"/>\n</g>\n<!-- 11 -->\n<g id=\"node12\" class=\"node\">\n<title>11</title>\n<path fill=\"#ab7bee\" stroke=\"black\" d=\"M539,-68C539,-68 450,-68 450,-68 444,-68 438,-62 438,-56 438,-56 438,-12 438,-12 438,-6 444,0 450,0 450,0 539,0 539,0 545,0 551,-6 551,-12 551,-12 551,-56 551,-56 551,-62 545,-68 539,-68\"/>\n<text text-anchor=\"start\" x=\"459\" y=\"-52.8\" font-family=\"Helvetica,sans-Serif\" font-size=\"14.00\">gini = 0.375</text>\n<text text-anchor=\"start\" x=\"457\" y=\"-37.8\" font-family=\"Helvetica,sans-Serif\" font-size=\"14.00\">samples = 4</text>\n<text text-anchor=\"start\" x=\"447.5\" y=\"-22.8\" font-family=\"Helvetica,sans-Serif\" font-size=\"14.00\">value = [0, 1, 3]</text>\n<text text-anchor=\"start\" x=\"446\" y=\"-7.8\" font-family=\"Helvetica,sans-Serif\" font-size=\"14.00\">class = virginica</text>\n</g>\n<!-- 9&#45;&gt;11 -->\n<g id=\"edge11\" class=\"edge\">\n<title>9&#45;&gt;11</title>\n<path fill=\"none\" stroke=\"black\" d=\"M416.67,-103.73C427.31,-94.33 438.62,-84.35 449.22,-74.99\"/>\n<polygon fill=\"black\" stroke=\"black\" points=\"451.61,-77.54 456.79,-68.3 446.98,-72.3 451.61,-77.54\"/>\n</g>\n<!-- 13 -->\n<g id=\"node14\" class=\"node\">\n<title>13</title>\n<path fill=\"#8c4ae7\" stroke=\"black\" d=\"M616.5,-306C616.5,-306 476.5,-306 476.5,-306 470.5,-306 464.5,-300 464.5,-294 464.5,-294 464.5,-235 464.5,-235 464.5,-229 470.5,-223 476.5,-223 476.5,-223 616.5,-223 616.5,-223 622.5,-223 628.5,-229 628.5,-235 628.5,-235 628.5,-294 628.5,-294 628.5,-300 622.5,-306 616.5,-306\"/>\n<text text-anchor=\"start\" x=\"472.5\" y=\"-290.8\" font-family=\"Helvetica,sans-Serif\" font-size=\"14.00\">sepal width (cm) ≤ 2.937</text>\n<text text-anchor=\"start\" x=\"511\" y=\"-275.8\" font-family=\"Helvetica,sans-Serif\" font-size=\"14.00\">gini = 0.147</text>\n<text text-anchor=\"start\" x=\"505.5\" y=\"-260.8\" font-family=\"Helvetica,sans-Serif\" font-size=\"14.00\">samples = 25</text>\n<text text-anchor=\"start\" x=\"496\" y=\"-245.8\" font-family=\"Helvetica,sans-Serif\" font-size=\"14.00\">value = [0, 2, 23]</text>\n<text text-anchor=\"start\" x=\"498\" y=\"-230.8\" font-family=\"Helvetica,sans-Serif\" font-size=\"14.00\">class = virginica</text>\n</g>\n<!-- 12&#45;&gt;13 -->\n<g id=\"edge13\" class=\"edge\">\n<title>12&#45;&gt;13</title>\n<path fill=\"none\" stroke=\"black\" d=\"M547.15,-341.91C547.08,-333.65 547.01,-324.86 546.93,-316.3\"/>\n<polygon fill=\"black\" stroke=\"black\" points=\"550.43,-315.99 546.85,-306.02 543.43,-316.05 550.43,-315.99\"/>\n</g>\n<!-- 18 -->\n<g id=\"node19\" class=\"node\">\n<title>18</title>\n<path fill=\"#8139e5\" stroke=\"black\" d=\"M752,-298.5C752,-298.5 659,-298.5 659,-298.5 653,-298.5 647,-292.5 647,-286.5 647,-286.5 647,-242.5 647,-242.5 647,-236.5 653,-230.5 659,-230.5 659,-230.5 752,-230.5 752,-230.5 758,-230.5 764,-236.5 764,-242.5 764,-242.5 764,-286.5 764,-286.5 764,-292.5 758,-298.5 752,-298.5\"/>\n<text text-anchor=\"start\" x=\"677.5\" y=\"-283.3\" font-family=\"Helvetica,sans-Serif\" font-size=\"14.00\">gini = 0.0</text>\n<text text-anchor=\"start\" x=\"664.5\" y=\"-268.3\" font-family=\"Helvetica,sans-Serif\" font-size=\"14.00\">samples = 10</text>\n<text text-anchor=\"start\" x=\"655\" y=\"-253.3\" font-family=\"Helvetica,sans-Serif\" font-size=\"14.00\">value = [0, 0, 10]</text>\n<text text-anchor=\"start\" x=\"657\" y=\"-238.3\" font-family=\"Helvetica,sans-Serif\" font-size=\"14.00\">class = virginica</text>\n</g>\n<!-- 12&#45;&gt;18 -->\n<g id=\"edge18\" class=\"edge\">\n<title>12&#45;&gt;18</title>\n<path fill=\"none\" stroke=\"black\" d=\"M602.32,-341.91C618.56,-329.88 636.31,-316.73 652.44,-304.79\"/>\n<polygon fill=\"black\" stroke=\"black\" points=\"654.76,-307.43 660.71,-298.67 650.59,-301.81 654.76,-307.43\"/>\n</g>\n<!-- 14 -->\n<g id=\"node15\" class=\"node\">\n<title>14</title>\n<path fill=\"#8139e5\" stroke=\"black\" d=\"M586,-179.5C586,-179.5 497,-179.5 497,-179.5 491,-179.5 485,-173.5 485,-167.5 485,-167.5 485,-123.5 485,-123.5 485,-117.5 491,-111.5 497,-111.5 497,-111.5 586,-111.5 586,-111.5 592,-111.5 598,-117.5 598,-123.5 598,-123.5 598,-167.5 598,-167.5 598,-173.5 592,-179.5 586,-179.5\"/>\n<text text-anchor=\"start\" x=\"513.5\" y=\"-164.3\" font-family=\"Helvetica,sans-Serif\" font-size=\"14.00\">gini = 0.0</text>\n<text text-anchor=\"start\" x=\"504\" y=\"-149.3\" font-family=\"Helvetica,sans-Serif\" font-size=\"14.00\">samples = 9</text>\n<text text-anchor=\"start\" x=\"494.5\" y=\"-134.3\" font-family=\"Helvetica,sans-Serif\" font-size=\"14.00\">value = [0, 0, 9]</text>\n<text text-anchor=\"start\" x=\"493\" y=\"-119.3\" font-family=\"Helvetica,sans-Serif\" font-size=\"14.00\">class = virginica</text>\n</g>\n<!-- 13&#45;&gt;14 -->\n<g id=\"edge14\" class=\"edge\">\n<title>13&#45;&gt;14</title>\n<path fill=\"none\" stroke=\"black\" d=\"M544.77,-222.91C544.31,-212.2 543.81,-200.62 543.35,-189.78\"/>\n<polygon fill=\"black\" stroke=\"black\" points=\"546.84,-189.51 542.92,-179.67 539.85,-189.81 546.84,-189.51\"/>\n</g>\n<!-- 15 -->\n<g id=\"node16\" class=\"node\">\n<title>15</title>\n<path fill=\"#9355e9\" stroke=\"black\" d=\"M771,-187C771,-187 628,-187 628,-187 622,-187 616,-181 616,-175 616,-175 616,-116 616,-116 616,-110 622,-104 628,-104 628,-104 771,-104 771,-104 777,-104 783,-110 783,-116 783,-116 783,-175 783,-175 783,-181 777,-187 771,-187\"/>\n<text text-anchor=\"start\" x=\"624\" y=\"-171.8\" font-family=\"Helvetica,sans-Serif\" font-size=\"14.00\">petal length (cm) ≤ 5.345</text>\n<text text-anchor=\"start\" x=\"664\" y=\"-156.8\" font-family=\"Helvetica,sans-Serif\" font-size=\"14.00\">gini = 0.219</text>\n<text text-anchor=\"start\" x=\"658.5\" y=\"-141.8\" font-family=\"Helvetica,sans-Serif\" font-size=\"14.00\">samples = 16</text>\n<text text-anchor=\"start\" x=\"649\" y=\"-126.8\" font-family=\"Helvetica,sans-Serif\" font-size=\"14.00\">value = [0, 2, 14]</text>\n<text text-anchor=\"start\" x=\"651\" y=\"-111.8\" font-family=\"Helvetica,sans-Serif\" font-size=\"14.00\">class = virginica</text>\n</g>\n<!-- 13&#45;&gt;15 -->\n<g id=\"edge15\" class=\"edge\">\n<title>13&#45;&gt;15</title>\n<path fill=\"none\" stroke=\"black\" d=\"M599.58,-222.91C612.04,-213.38 625.42,-203.15 638.21,-193.37\"/>\n<polygon fill=\"black\" stroke=\"black\" points=\"640.69,-195.88 646.51,-187.02 636.44,-190.32 640.69,-195.88\"/>\n</g>\n<!-- 16 -->\n<g id=\"node17\" class=\"node\">\n<title>16</title>\n<path fill=\"#c09cf2\" stroke=\"black\" d=\"M707,-68C707,-68 618,-68 618,-68 612,-68 606,-62 606,-56 606,-56 606,-12 606,-12 606,-6 612,0 618,0 618,0 707,0 707,0 713,0 719,-6 719,-12 719,-12 719,-56 719,-56 719,-62 713,-68 707,-68\"/>\n<text text-anchor=\"start\" x=\"627\" y=\"-52.8\" font-family=\"Helvetica,sans-Serif\" font-size=\"14.00\">gini = 0.444</text>\n<text text-anchor=\"start\" x=\"625\" y=\"-37.8\" font-family=\"Helvetica,sans-Serif\" font-size=\"14.00\">samples = 6</text>\n<text text-anchor=\"start\" x=\"615.5\" y=\"-22.8\" font-family=\"Helvetica,sans-Serif\" font-size=\"14.00\">value = [0, 2, 4]</text>\n<text text-anchor=\"start\" x=\"614\" y=\"-7.8\" font-family=\"Helvetica,sans-Serif\" font-size=\"14.00\">class = virginica</text>\n</g>\n<!-- 15&#45;&gt;16 -->\n<g id=\"edge16\" class=\"edge\">\n<title>15&#45;&gt;16</title>\n<path fill=\"none\" stroke=\"black\" d=\"M685.72,-103.73C682.89,-95.34 679.89,-86.47 677.03,-78.01\"/>\n<polygon fill=\"black\" stroke=\"black\" points=\"680.27,-76.65 673.75,-68.3 673.64,-78.89 680.27,-76.65\"/>\n</g>\n<!-- 17 -->\n<g id=\"node18\" class=\"node\">\n<title>17</title>\n<path fill=\"#8139e5\" stroke=\"black\" d=\"M842,-68C842,-68 749,-68 749,-68 743,-68 737,-62 737,-56 737,-56 737,-12 737,-12 737,-6 743,0 749,0 749,0 842,0 842,0 848,0 854,-6 854,-12 854,-12 854,-56 854,-56 854,-62 848,-68 842,-68\"/>\n<text text-anchor=\"start\" x=\"767.5\" y=\"-52.8\" font-family=\"Helvetica,sans-Serif\" font-size=\"14.00\">gini = 0.0</text>\n<text text-anchor=\"start\" x=\"754.5\" y=\"-37.8\" font-family=\"Helvetica,sans-Serif\" font-size=\"14.00\">samples = 10</text>\n<text text-anchor=\"start\" x=\"745\" y=\"-22.8\" font-family=\"Helvetica,sans-Serif\" font-size=\"14.00\">value = [0, 0, 10]</text>\n<text text-anchor=\"start\" x=\"747\" y=\"-7.8\" font-family=\"Helvetica,sans-Serif\" font-size=\"14.00\">class = virginica</text>\n</g>\n<!-- 15&#45;&gt;17 -->\n<g id=\"edge17\" class=\"edge\">\n<title>15&#45;&gt;17</title>\n<path fill=\"none\" stroke=\"black\" d=\"M735.25,-103.73C743.16,-94.7 751.56,-85.12 759.48,-76.08\"/>\n<polygon fill=\"black\" stroke=\"black\" points=\"762.35,-78.13 766.31,-68.3 757.08,-73.51 762.35,-78.13\"/>\n</g>\n</g>\n</svg>\n",
            "text/plain": [
              "<graphviz.sources.Source at 0x78ec7c1eb8e0>"
            ]
          },
          "metadata": {},
          "execution_count": 30
        }
      ]
    },
    {
      "cell_type": "code",
      "source": [
        "dt_clf = DecisionTreeClassifier(random_state=420)\n",
        "dt_clf = dt_clf.fit(X_train, y_train)\n",
        "np.round(dt_clf.score(X_test,y_test),3)\n",
        "\n",
        "dot_data = tree.export_graphviz(dt_clf, out_file=None,\n",
        "                                feature_names=iris.feature_names,\n",
        "                                class_names=iris.target_names,\n",
        "                                filled=True, rounded=True,\n",
        "                                special_characters=True)\n",
        "graph = graphviz.Source(dot_data)\n",
        "graph"
      ],
      "metadata": {
        "colab": {
          "base_uri": "https://localhost:8080/",
          "height": 917
        },
        "id": "dh5g4ZSAOTfS",
        "outputId": "b879962d-dfce-4480-8189-5ea7a1d94c0b"
      },
      "id": "dh5g4ZSAOTfS",
      "execution_count": 29,
      "outputs": [
        {
          "output_type": "execute_result",
          "data": {
            "image/svg+xml": "<?xml version=\"1.0\" encoding=\"UTF-8\" standalone=\"no\"?>\n<!DOCTYPE svg PUBLIC \"-//W3C//DTD SVG 1.1//EN\"\n \"http://www.w3.org/Graphics/SVG/1.1/DTD/svg11.dtd\">\n<!-- Generated by graphviz version 2.43.0 (0)\n -->\n<!-- Title: Tree Pages: 1 -->\n<svg width=\"852pt\" height=\"671pt\"\n viewBox=\"0.00 0.00 852.00 671.00\" xmlns=\"http://www.w3.org/2000/svg\" xmlns:xlink=\"http://www.w3.org/1999/xlink\">\n<g id=\"graph0\" class=\"graph\" transform=\"scale(1 1) rotate(0) translate(4 667)\">\n<title>Tree</title>\n<polygon fill=\"white\" stroke=\"transparent\" points=\"-4,4 -4,-667 848,-667 848,4 -4,4\"/>\n<!-- 0 -->\n<g id=\"node1\" class=\"node\">\n<title>0</title>\n<path fill=\"#ffffff\" stroke=\"black\" d=\"M513,-663C513,-663 378,-663 378,-663 372,-663 366,-657 366,-651 366,-651 366,-592 366,-592 366,-586 372,-580 378,-580 378,-580 513,-580 513,-580 519,-580 525,-586 525,-592 525,-592 525,-651 525,-651 525,-657 519,-663 513,-663\"/>\n<text text-anchor=\"start\" x=\"374\" y=\"-647.8\" font-family=\"Helvetica,sans-Serif\" font-size=\"14.00\">petal length (cm) ≤ 2.45</text>\n<text text-anchor=\"start\" x=\"410\" y=\"-632.8\" font-family=\"Helvetica,sans-Serif\" font-size=\"14.00\">gini = 0.664</text>\n<text text-anchor=\"start\" x=\"400.5\" y=\"-617.8\" font-family=\"Helvetica,sans-Serif\" font-size=\"14.00\">samples = 105</text>\n<text text-anchor=\"start\" x=\"387.5\" y=\"-602.8\" font-family=\"Helvetica,sans-Serif\" font-size=\"14.00\">value = [31, 37, 37]</text>\n<text text-anchor=\"start\" x=\"393\" y=\"-587.8\" font-family=\"Helvetica,sans-Serif\" font-size=\"14.00\">class = versicolor</text>\n</g>\n<!-- 1 -->\n<g id=\"node2\" class=\"node\">\n<title>1</title>\n<path fill=\"#e58139\" stroke=\"black\" d=\"M415,-536.5C415,-536.5 322,-536.5 322,-536.5 316,-536.5 310,-530.5 310,-524.5 310,-524.5 310,-480.5 310,-480.5 310,-474.5 316,-468.5 322,-468.5 322,-468.5 415,-468.5 415,-468.5 421,-468.5 427,-474.5 427,-480.5 427,-480.5 427,-524.5 427,-524.5 427,-530.5 421,-536.5 415,-536.5\"/>\n<text text-anchor=\"start\" x=\"340.5\" y=\"-521.3\" font-family=\"Helvetica,sans-Serif\" font-size=\"14.00\">gini = 0.0</text>\n<text text-anchor=\"start\" x=\"327.5\" y=\"-506.3\" font-family=\"Helvetica,sans-Serif\" font-size=\"14.00\">samples = 31</text>\n<text text-anchor=\"start\" x=\"318\" y=\"-491.3\" font-family=\"Helvetica,sans-Serif\" font-size=\"14.00\">value = [31, 0, 0]</text>\n<text text-anchor=\"start\" x=\"325\" y=\"-476.3\" font-family=\"Helvetica,sans-Serif\" font-size=\"14.00\">class = setosa</text>\n</g>\n<!-- 0&#45;&gt;1 -->\n<g id=\"edge1\" class=\"edge\">\n<title>0&#45;&gt;1</title>\n<path fill=\"none\" stroke=\"black\" d=\"M418.79,-579.91C411.38,-568.65 403.33,-556.42 395.88,-545.11\"/>\n<polygon fill=\"black\" stroke=\"black\" points=\"398.75,-543.1 390.33,-536.67 392.9,-546.94 398.75,-543.1\"/>\n<text text-anchor=\"middle\" x=\"385.28\" y=\"-557.45\" font-family=\"Helvetica,sans-Serif\" font-size=\"14.00\">True</text>\n</g>\n<!-- 2 -->\n<g id=\"node3\" class=\"node\">\n<title>2</title>\n<path fill=\"#ffffff\" stroke=\"black\" d=\"M587.5,-544C587.5,-544 457.5,-544 457.5,-544 451.5,-544 445.5,-538 445.5,-532 445.5,-532 445.5,-473 445.5,-473 445.5,-467 451.5,-461 457.5,-461 457.5,-461 587.5,-461 587.5,-461 593.5,-461 599.5,-467 599.5,-473 599.5,-473 599.5,-532 599.5,-532 599.5,-538 593.5,-544 587.5,-544\"/>\n<text text-anchor=\"start\" x=\"453.5\" y=\"-528.8\" font-family=\"Helvetica,sans-Serif\" font-size=\"14.00\">petal width (cm) ≤ 1.75</text>\n<text text-anchor=\"start\" x=\"494.5\" y=\"-513.8\" font-family=\"Helvetica,sans-Serif\" font-size=\"14.00\">gini = 0.5</text>\n<text text-anchor=\"start\" x=\"481.5\" y=\"-498.8\" font-family=\"Helvetica,sans-Serif\" font-size=\"14.00\">samples = 74</text>\n<text text-anchor=\"start\" x=\"468\" y=\"-483.8\" font-family=\"Helvetica,sans-Serif\" font-size=\"14.00\">value = [0, 37, 37]</text>\n<text text-anchor=\"start\" x=\"470\" y=\"-468.8\" font-family=\"Helvetica,sans-Serif\" font-size=\"14.00\">class = versicolor</text>\n</g>\n<!-- 0&#45;&gt;2 -->\n<g id=\"edge2\" class=\"edge\">\n<title>0&#45;&gt;2</title>\n<path fill=\"none\" stroke=\"black\" d=\"M472.21,-579.91C478.01,-571.1 484.2,-561.7 490.18,-552.61\"/>\n<polygon fill=\"black\" stroke=\"black\" points=\"493.26,-554.3 495.83,-544.02 487.41,-550.45 493.26,-554.3\"/>\n<text text-anchor=\"middle\" x=\"500.88\" y=\"-564.81\" font-family=\"Helvetica,sans-Serif\" font-size=\"14.00\">False</text>\n</g>\n<!-- 3 -->\n<g id=\"node4\" class=\"node\">\n<title>3</title>\n<path fill=\"#54e992\" stroke=\"black\" d=\"M478,-425C478,-425 343,-425 343,-425 337,-425 331,-419 331,-413 331,-413 331,-354 331,-354 331,-348 337,-342 343,-342 343,-342 478,-342 478,-342 484,-342 490,-348 490,-354 490,-354 490,-413 490,-413 490,-419 484,-425 478,-425\"/>\n<text text-anchor=\"start\" x=\"339\" y=\"-409.8\" font-family=\"Helvetica,sans-Serif\" font-size=\"14.00\">petal length (cm) ≤ 4.95</text>\n<text text-anchor=\"start\" x=\"375\" y=\"-394.8\" font-family=\"Helvetica,sans-Serif\" font-size=\"14.00\">gini = 0.214</text>\n<text text-anchor=\"start\" x=\"369.5\" y=\"-379.8\" font-family=\"Helvetica,sans-Serif\" font-size=\"14.00\">samples = 41</text>\n<text text-anchor=\"start\" x=\"360\" y=\"-364.8\" font-family=\"Helvetica,sans-Serif\" font-size=\"14.00\">value = [0, 36, 5]</text>\n<text text-anchor=\"start\" x=\"358\" y=\"-349.8\" font-family=\"Helvetica,sans-Serif\" font-size=\"14.00\">class = versicolor</text>\n</g>\n<!-- 2&#45;&gt;3 -->\n<g id=\"edge3\" class=\"edge\">\n<title>2&#45;&gt;3</title>\n<path fill=\"none\" stroke=\"black\" d=\"M483.64,-460.91C474.87,-451.74 465.47,-441.93 456.44,-432.49\"/>\n<polygon fill=\"black\" stroke=\"black\" points=\"458.73,-429.82 449.29,-425.02 453.68,-434.66 458.73,-429.82\"/>\n</g>\n<!-- 12 -->\n<g id=\"node13\" class=\"node\">\n<title>12</title>\n<path fill=\"#853fe6\" stroke=\"black\" d=\"M702,-425C702,-425 567,-425 567,-425 561,-425 555,-419 555,-413 555,-413 555,-354 555,-354 555,-348 561,-342 567,-342 567,-342 702,-342 702,-342 708,-342 714,-348 714,-354 714,-354 714,-413 714,-413 714,-419 708,-425 702,-425\"/>\n<text text-anchor=\"start\" x=\"563\" y=\"-409.8\" font-family=\"Helvetica,sans-Serif\" font-size=\"14.00\">petal length (cm) ≤ 4.85</text>\n<text text-anchor=\"start\" x=\"599\" y=\"-394.8\" font-family=\"Helvetica,sans-Serif\" font-size=\"14.00\">gini = 0.059</text>\n<text text-anchor=\"start\" x=\"593.5\" y=\"-379.8\" font-family=\"Helvetica,sans-Serif\" font-size=\"14.00\">samples = 33</text>\n<text text-anchor=\"start\" x=\"584\" y=\"-364.8\" font-family=\"Helvetica,sans-Serif\" font-size=\"14.00\">value = [0, 1, 32]</text>\n<text text-anchor=\"start\" x=\"586\" y=\"-349.8\" font-family=\"Helvetica,sans-Serif\" font-size=\"14.00\">class = virginica</text>\n</g>\n<!-- 2&#45;&gt;12 -->\n<g id=\"edge12\" class=\"edge\">\n<title>2&#45;&gt;12</title>\n<path fill=\"none\" stroke=\"black\" d=\"M561.36,-460.91C570.13,-451.74 579.53,-441.93 588.56,-432.49\"/>\n<polygon fill=\"black\" stroke=\"black\" points=\"591.32,-434.66 595.71,-425.02 586.27,-429.82 591.32,-434.66\"/>\n</g>\n<!-- 4 -->\n<g id=\"node5\" class=\"node\">\n<title>4</title>\n<path fill=\"#3fe685\" stroke=\"black\" d=\"M256.5,-306C256.5,-306 134.5,-306 134.5,-306 128.5,-306 122.5,-300 122.5,-294 122.5,-294 122.5,-235 122.5,-235 122.5,-229 128.5,-223 134.5,-223 134.5,-223 256.5,-223 256.5,-223 262.5,-223 268.5,-229 268.5,-235 268.5,-235 268.5,-294 268.5,-294 268.5,-300 262.5,-306 256.5,-306\"/>\n<text text-anchor=\"start\" x=\"130.5\" y=\"-290.8\" font-family=\"Helvetica,sans-Serif\" font-size=\"14.00\">petal width (cm) ≤ 1.6</text>\n<text text-anchor=\"start\" x=\"160\" y=\"-275.8\" font-family=\"Helvetica,sans-Serif\" font-size=\"14.00\">gini = 0.056</text>\n<text text-anchor=\"start\" x=\"154.5\" y=\"-260.8\" font-family=\"Helvetica,sans-Serif\" font-size=\"14.00\">samples = 35</text>\n<text text-anchor=\"start\" x=\"145\" y=\"-245.8\" font-family=\"Helvetica,sans-Serif\" font-size=\"14.00\">value = [0, 34, 1]</text>\n<text text-anchor=\"start\" x=\"143\" y=\"-230.8\" font-family=\"Helvetica,sans-Serif\" font-size=\"14.00\">class = versicolor</text>\n</g>\n<!-- 3&#45;&gt;4 -->\n<g id=\"edge4\" class=\"edge\">\n<title>3&#45;&gt;4</title>\n<path fill=\"none\" stroke=\"black\" d=\"M335.91,-341.91C317.06,-331.65 296.72,-320.58 277.53,-310.14\"/>\n<polygon fill=\"black\" stroke=\"black\" points=\"278.97,-306.94 268.51,-305.23 275.62,-313.09 278.97,-306.94\"/>\n</g>\n<!-- 7 -->\n<g id=\"node8\" class=\"node\">\n<title>7</title>\n<path fill=\"#c09cf2\" stroke=\"black\" d=\"M475.5,-306C475.5,-306 345.5,-306 345.5,-306 339.5,-306 333.5,-300 333.5,-294 333.5,-294 333.5,-235 333.5,-235 333.5,-229 339.5,-223 345.5,-223 345.5,-223 475.5,-223 475.5,-223 481.5,-223 487.5,-229 487.5,-235 487.5,-235 487.5,-294 487.5,-294 487.5,-300 481.5,-306 475.5,-306\"/>\n<text text-anchor=\"start\" x=\"341.5\" y=\"-290.8\" font-family=\"Helvetica,sans-Serif\" font-size=\"14.00\">petal width (cm) ≤ 1.55</text>\n<text text-anchor=\"start\" x=\"375\" y=\"-275.8\" font-family=\"Helvetica,sans-Serif\" font-size=\"14.00\">gini = 0.444</text>\n<text text-anchor=\"start\" x=\"373\" y=\"-260.8\" font-family=\"Helvetica,sans-Serif\" font-size=\"14.00\">samples = 6</text>\n<text text-anchor=\"start\" x=\"363.5\" y=\"-245.8\" font-family=\"Helvetica,sans-Serif\" font-size=\"14.00\">value = [0, 2, 4]</text>\n<text text-anchor=\"start\" x=\"362\" y=\"-230.8\" font-family=\"Helvetica,sans-Serif\" font-size=\"14.00\">class = virginica</text>\n</g>\n<!-- 3&#45;&gt;7 -->\n<g id=\"edge7\" class=\"edge\">\n<title>3&#45;&gt;7</title>\n<path fill=\"none\" stroke=\"black\" d=\"M410.5,-341.91C410.5,-333.65 410.5,-324.86 410.5,-316.3\"/>\n<polygon fill=\"black\" stroke=\"black\" points=\"414,-316.02 410.5,-306.02 407,-316.02 414,-316.02\"/>\n</g>\n<!-- 5 -->\n<g id=\"node6\" class=\"node\">\n<title>5</title>\n<path fill=\"#39e581\" stroke=\"black\" d=\"M109,-179.5C109,-179.5 12,-179.5 12,-179.5 6,-179.5 0,-173.5 0,-167.5 0,-167.5 0,-123.5 0,-123.5 0,-117.5 6,-111.5 12,-111.5 12,-111.5 109,-111.5 109,-111.5 115,-111.5 121,-117.5 121,-123.5 121,-123.5 121,-167.5 121,-167.5 121,-173.5 115,-179.5 109,-179.5\"/>\n<text text-anchor=\"start\" x=\"32.5\" y=\"-164.3\" font-family=\"Helvetica,sans-Serif\" font-size=\"14.00\">gini = 0.0</text>\n<text text-anchor=\"start\" x=\"19.5\" y=\"-149.3\" font-family=\"Helvetica,sans-Serif\" font-size=\"14.00\">samples = 34</text>\n<text text-anchor=\"start\" x=\"10\" y=\"-134.3\" font-family=\"Helvetica,sans-Serif\" font-size=\"14.00\">value = [0, 34, 0]</text>\n<text text-anchor=\"start\" x=\"8\" y=\"-119.3\" font-family=\"Helvetica,sans-Serif\" font-size=\"14.00\">class = versicolor</text>\n</g>\n<!-- 4&#45;&gt;5 -->\n<g id=\"edge5\" class=\"edge\">\n<title>4&#45;&gt;5</title>\n<path fill=\"none\" stroke=\"black\" d=\"M148.66,-222.91C135.04,-211.1 120.17,-198.22 106.6,-186.45\"/>\n<polygon fill=\"black\" stroke=\"black\" points=\"108.62,-183.57 98.77,-179.67 104.03,-188.86 108.62,-183.57\"/>\n</g>\n<!-- 6 -->\n<g id=\"node7\" class=\"node\">\n<title>6</title>\n<path fill=\"#8139e5\" stroke=\"black\" d=\"M240,-179.5C240,-179.5 151,-179.5 151,-179.5 145,-179.5 139,-173.5 139,-167.5 139,-167.5 139,-123.5 139,-123.5 139,-117.5 145,-111.5 151,-111.5 151,-111.5 240,-111.5 240,-111.5 246,-111.5 252,-117.5 252,-123.5 252,-123.5 252,-167.5 252,-167.5 252,-173.5 246,-179.5 240,-179.5\"/>\n<text text-anchor=\"start\" x=\"167.5\" y=\"-164.3\" font-family=\"Helvetica,sans-Serif\" font-size=\"14.00\">gini = 0.0</text>\n<text text-anchor=\"start\" x=\"158\" y=\"-149.3\" font-family=\"Helvetica,sans-Serif\" font-size=\"14.00\">samples = 1</text>\n<text text-anchor=\"start\" x=\"148.5\" y=\"-134.3\" font-family=\"Helvetica,sans-Serif\" font-size=\"14.00\">value = [0, 0, 1]</text>\n<text text-anchor=\"start\" x=\"147\" y=\"-119.3\" font-family=\"Helvetica,sans-Serif\" font-size=\"14.00\">class = virginica</text>\n</g>\n<!-- 4&#45;&gt;6 -->\n<g id=\"edge6\" class=\"edge\">\n<title>4&#45;&gt;6</title>\n<path fill=\"none\" stroke=\"black\" d=\"M195.5,-222.91C195.5,-212.2 195.5,-200.62 195.5,-189.78\"/>\n<polygon fill=\"black\" stroke=\"black\" points=\"199,-189.67 195.5,-179.67 192,-189.67 199,-189.67\"/>\n</g>\n<!-- 8 -->\n<g id=\"node9\" class=\"node\">\n<title>8</title>\n<path fill=\"#8139e5\" stroke=\"black\" d=\"M371,-179.5C371,-179.5 282,-179.5 282,-179.5 276,-179.5 270,-173.5 270,-167.5 270,-167.5 270,-123.5 270,-123.5 270,-117.5 276,-111.5 282,-111.5 282,-111.5 371,-111.5 371,-111.5 377,-111.5 383,-117.5 383,-123.5 383,-123.5 383,-167.5 383,-167.5 383,-173.5 377,-179.5 371,-179.5\"/>\n<text text-anchor=\"start\" x=\"298.5\" y=\"-164.3\" font-family=\"Helvetica,sans-Serif\" font-size=\"14.00\">gini = 0.0</text>\n<text text-anchor=\"start\" x=\"289\" y=\"-149.3\" font-family=\"Helvetica,sans-Serif\" font-size=\"14.00\">samples = 3</text>\n<text text-anchor=\"start\" x=\"279.5\" y=\"-134.3\" font-family=\"Helvetica,sans-Serif\" font-size=\"14.00\">value = [0, 0, 3]</text>\n<text text-anchor=\"start\" x=\"278\" y=\"-119.3\" font-family=\"Helvetica,sans-Serif\" font-size=\"14.00\">class = virginica</text>\n</g>\n<!-- 7&#45;&gt;8 -->\n<g id=\"edge8\" class=\"edge\">\n<title>7&#45;&gt;8</title>\n<path fill=\"none\" stroke=\"black\" d=\"M381.36,-222.91C373.28,-211.65 364.49,-199.42 356.37,-188.11\"/>\n<polygon fill=\"black\" stroke=\"black\" points=\"358.99,-185.75 350.31,-179.67 353.3,-189.83 358.99,-185.75\"/>\n</g>\n<!-- 9 -->\n<g id=\"node10\" class=\"node\">\n<title>9</title>\n<path fill=\"#9cf2c0\" stroke=\"black\" d=\"M548,-187C548,-187 413,-187 413,-187 407,-187 401,-181 401,-175 401,-175 401,-116 401,-116 401,-110 407,-104 413,-104 413,-104 548,-104 548,-104 554,-104 560,-110 560,-116 560,-116 560,-175 560,-175 560,-181 554,-187 548,-187\"/>\n<text text-anchor=\"start\" x=\"409\" y=\"-171.8\" font-family=\"Helvetica,sans-Serif\" font-size=\"14.00\">petal length (cm) ≤ 5.45</text>\n<text text-anchor=\"start\" x=\"445\" y=\"-156.8\" font-family=\"Helvetica,sans-Serif\" font-size=\"14.00\">gini = 0.444</text>\n<text text-anchor=\"start\" x=\"443\" y=\"-141.8\" font-family=\"Helvetica,sans-Serif\" font-size=\"14.00\">samples = 3</text>\n<text text-anchor=\"start\" x=\"433.5\" y=\"-126.8\" font-family=\"Helvetica,sans-Serif\" font-size=\"14.00\">value = [0, 2, 1]</text>\n<text text-anchor=\"start\" x=\"428\" y=\"-111.8\" font-family=\"Helvetica,sans-Serif\" font-size=\"14.00\">class = versicolor</text>\n</g>\n<!-- 7&#45;&gt;9 -->\n<g id=\"edge9\" class=\"edge\">\n<title>7&#45;&gt;9</title>\n<path fill=\"none\" stroke=\"black\" d=\"M434.79,-222.91C440.05,-214.1 445.68,-204.7 451.12,-195.61\"/>\n<polygon fill=\"black\" stroke=\"black\" points=\"454.13,-197.4 456.26,-187.02 448.12,-193.81 454.13,-197.4\"/>\n</g>\n<!-- 10 -->\n<g id=\"node11\" class=\"node\">\n<title>10</title>\n<path fill=\"#39e581\" stroke=\"black\" d=\"M461,-68C461,-68 364,-68 364,-68 358,-68 352,-62 352,-56 352,-56 352,-12 352,-12 352,-6 358,0 364,0 364,0 461,0 461,0 467,0 473,-6 473,-12 473,-12 473,-56 473,-56 473,-62 467,-68 461,-68\"/>\n<text text-anchor=\"start\" x=\"384.5\" y=\"-52.8\" font-family=\"Helvetica,sans-Serif\" font-size=\"14.00\">gini = 0.0</text>\n<text text-anchor=\"start\" x=\"375\" y=\"-37.8\" font-family=\"Helvetica,sans-Serif\" font-size=\"14.00\">samples = 2</text>\n<text text-anchor=\"start\" x=\"365.5\" y=\"-22.8\" font-family=\"Helvetica,sans-Serif\" font-size=\"14.00\">value = [0, 2, 0]</text>\n<text text-anchor=\"start\" x=\"360\" y=\"-7.8\" font-family=\"Helvetica,sans-Serif\" font-size=\"14.00\">class = versicolor</text>\n</g>\n<!-- 9&#45;&gt;10 -->\n<g id=\"edge10\" class=\"edge\">\n<title>9&#45;&gt;10</title>\n<path fill=\"none\" stroke=\"black\" d=\"M455.18,-103.73C449.74,-94.97 443.99,-85.7 438.52,-76.91\"/>\n<polygon fill=\"black\" stroke=\"black\" points=\"441.43,-74.95 433.18,-68.3 435.48,-78.64 441.43,-74.95\"/>\n</g>\n<!-- 11 -->\n<g id=\"node12\" class=\"node\">\n<title>11</title>\n<path fill=\"#8139e5\" stroke=\"black\" d=\"M592,-68C592,-68 503,-68 503,-68 497,-68 491,-62 491,-56 491,-56 491,-12 491,-12 491,-6 497,0 503,0 503,0 592,0 592,0 598,0 604,-6 604,-12 604,-12 604,-56 604,-56 604,-62 598,-68 592,-68\"/>\n<text text-anchor=\"start\" x=\"519.5\" y=\"-52.8\" font-family=\"Helvetica,sans-Serif\" font-size=\"14.00\">gini = 0.0</text>\n<text text-anchor=\"start\" x=\"510\" y=\"-37.8\" font-family=\"Helvetica,sans-Serif\" font-size=\"14.00\">samples = 1</text>\n<text text-anchor=\"start\" x=\"500.5\" y=\"-22.8\" font-family=\"Helvetica,sans-Serif\" font-size=\"14.00\">value = [0, 0, 1]</text>\n<text text-anchor=\"start\" x=\"499\" y=\"-7.8\" font-family=\"Helvetica,sans-Serif\" font-size=\"14.00\">class = virginica</text>\n</g>\n<!-- 9&#45;&gt;11 -->\n<g id=\"edge11\" class=\"edge\">\n<title>9&#45;&gt;11</title>\n<path fill=\"none\" stroke=\"black\" d=\"M505.45,-103.73C510.81,-94.97 516.48,-85.7 521.86,-76.91\"/>\n<polygon fill=\"black\" stroke=\"black\" points=\"524.89,-78.66 527.12,-68.3 518.92,-75 524.89,-78.66\"/>\n</g>\n<!-- 13 -->\n<g id=\"node14\" class=\"node\">\n<title>13</title>\n<path fill=\"#c09cf2\" stroke=\"black\" d=\"M697,-306C697,-306 572,-306 572,-306 566,-306 560,-300 560,-294 560,-294 560,-235 560,-235 560,-229 566,-223 572,-223 572,-223 697,-223 697,-223 703,-223 709,-229 709,-235 709,-235 709,-294 709,-294 709,-300 703,-306 697,-306\"/>\n<text text-anchor=\"start\" x=\"568\" y=\"-290.8\" font-family=\"Helvetica,sans-Serif\" font-size=\"14.00\">sepal width (cm) ≤ 3.1</text>\n<text text-anchor=\"start\" x=\"599\" y=\"-275.8\" font-family=\"Helvetica,sans-Serif\" font-size=\"14.00\">gini = 0.444</text>\n<text text-anchor=\"start\" x=\"597\" y=\"-260.8\" font-family=\"Helvetica,sans-Serif\" font-size=\"14.00\">samples = 3</text>\n<text text-anchor=\"start\" x=\"587.5\" y=\"-245.8\" font-family=\"Helvetica,sans-Serif\" font-size=\"14.00\">value = [0, 1, 2]</text>\n<text text-anchor=\"start\" x=\"586\" y=\"-230.8\" font-family=\"Helvetica,sans-Serif\" font-size=\"14.00\">class = virginica</text>\n</g>\n<!-- 12&#45;&gt;13 -->\n<g id=\"edge13\" class=\"edge\">\n<title>12&#45;&gt;13</title>\n<path fill=\"none\" stroke=\"black\" d=\"M634.5,-341.91C634.5,-333.65 634.5,-324.86 634.5,-316.3\"/>\n<polygon fill=\"black\" stroke=\"black\" points=\"638,-316.02 634.5,-306.02 631,-316.02 638,-316.02\"/>\n</g>\n<!-- 16 -->\n<g id=\"node17\" class=\"node\">\n<title>16</title>\n<path fill=\"#8139e5\" stroke=\"black\" d=\"M832,-298.5C832,-298.5 739,-298.5 739,-298.5 733,-298.5 727,-292.5 727,-286.5 727,-286.5 727,-242.5 727,-242.5 727,-236.5 733,-230.5 739,-230.5 739,-230.5 832,-230.5 832,-230.5 838,-230.5 844,-236.5 844,-242.5 844,-242.5 844,-286.5 844,-286.5 844,-292.5 838,-298.5 832,-298.5\"/>\n<text text-anchor=\"start\" x=\"757.5\" y=\"-283.3\" font-family=\"Helvetica,sans-Serif\" font-size=\"14.00\">gini = 0.0</text>\n<text text-anchor=\"start\" x=\"744.5\" y=\"-268.3\" font-family=\"Helvetica,sans-Serif\" font-size=\"14.00\">samples = 30</text>\n<text text-anchor=\"start\" x=\"735\" y=\"-253.3\" font-family=\"Helvetica,sans-Serif\" font-size=\"14.00\">value = [0, 0, 30]</text>\n<text text-anchor=\"start\" x=\"737\" y=\"-238.3\" font-family=\"Helvetica,sans-Serif\" font-size=\"14.00\">class = virginica</text>\n</g>\n<!-- 12&#45;&gt;16 -->\n<g id=\"edge16\" class=\"edge\">\n<title>12&#45;&gt;16</title>\n<path fill=\"none\" stroke=\"black\" d=\"M686.89,-341.91C702.27,-329.99 719.07,-316.98 734.37,-305.12\"/>\n<polygon fill=\"black\" stroke=\"black\" points=\"736.93,-307.56 742.69,-298.67 732.65,-302.03 736.93,-307.56\"/>\n</g>\n<!-- 14 -->\n<g id=\"node15\" class=\"node\">\n<title>14</title>\n<path fill=\"#8139e5\" stroke=\"black\" d=\"M679,-179.5C679,-179.5 590,-179.5 590,-179.5 584,-179.5 578,-173.5 578,-167.5 578,-167.5 578,-123.5 578,-123.5 578,-117.5 584,-111.5 590,-111.5 590,-111.5 679,-111.5 679,-111.5 685,-111.5 691,-117.5 691,-123.5 691,-123.5 691,-167.5 691,-167.5 691,-173.5 685,-179.5 679,-179.5\"/>\n<text text-anchor=\"start\" x=\"606.5\" y=\"-164.3\" font-family=\"Helvetica,sans-Serif\" font-size=\"14.00\">gini = 0.0</text>\n<text text-anchor=\"start\" x=\"597\" y=\"-149.3\" font-family=\"Helvetica,sans-Serif\" font-size=\"14.00\">samples = 2</text>\n<text text-anchor=\"start\" x=\"587.5\" y=\"-134.3\" font-family=\"Helvetica,sans-Serif\" font-size=\"14.00\">value = [0, 0, 2]</text>\n<text text-anchor=\"start\" x=\"586\" y=\"-119.3\" font-family=\"Helvetica,sans-Serif\" font-size=\"14.00\">class = virginica</text>\n</g>\n<!-- 13&#45;&gt;14 -->\n<g id=\"edge14\" class=\"edge\">\n<title>13&#45;&gt;14</title>\n<path fill=\"none\" stroke=\"black\" d=\"M634.5,-222.91C634.5,-212.2 634.5,-200.62 634.5,-189.78\"/>\n<polygon fill=\"black\" stroke=\"black\" points=\"638,-189.67 634.5,-179.67 631,-189.67 638,-189.67\"/>\n</g>\n<!-- 15 -->\n<g id=\"node16\" class=\"node\">\n<title>15</title>\n<path fill=\"#39e581\" stroke=\"black\" d=\"M818,-179.5C818,-179.5 721,-179.5 721,-179.5 715,-179.5 709,-173.5 709,-167.5 709,-167.5 709,-123.5 709,-123.5 709,-117.5 715,-111.5 721,-111.5 721,-111.5 818,-111.5 818,-111.5 824,-111.5 830,-117.5 830,-123.5 830,-123.5 830,-167.5 830,-167.5 830,-173.5 824,-179.5 818,-179.5\"/>\n<text text-anchor=\"start\" x=\"741.5\" y=\"-164.3\" font-family=\"Helvetica,sans-Serif\" font-size=\"14.00\">gini = 0.0</text>\n<text text-anchor=\"start\" x=\"732\" y=\"-149.3\" font-family=\"Helvetica,sans-Serif\" font-size=\"14.00\">samples = 1</text>\n<text text-anchor=\"start\" x=\"722.5\" y=\"-134.3\" font-family=\"Helvetica,sans-Serif\" font-size=\"14.00\">value = [0, 1, 0]</text>\n<text text-anchor=\"start\" x=\"717\" y=\"-119.3\" font-family=\"Helvetica,sans-Serif\" font-size=\"14.00\">class = versicolor</text>\n</g>\n<!-- 13&#45;&gt;15 -->\n<g id=\"edge15\" class=\"edge\">\n<title>13&#45;&gt;15</title>\n<path fill=\"none\" stroke=\"black\" d=\"M681.34,-222.91C694.96,-211.1 709.83,-198.22 723.4,-186.45\"/>\n<polygon fill=\"black\" stroke=\"black\" points=\"725.97,-188.86 731.23,-179.67 721.38,-183.57 725.97,-188.86\"/>\n</g>\n</g>\n</svg>\n",
            "text/plain": [
              "<graphviz.sources.Source at 0x78ec7c1ebe80>"
            ]
          },
          "metadata": {},
          "execution_count": 29
        }
      ]
    },
    {
      "cell_type": "code",
      "execution_count": 24,
      "id": "2cee1663",
      "metadata": {
        "id": "2cee1663",
        "colab": {
          "base_uri": "https://localhost:8080/"
        },
        "outputId": "c785f1dd-310c-46bf-f85f-0967919a1931"
      },
      "outputs": [
        {
          "output_type": "execute_result",
          "data": {
            "text/plain": [
              "['__abstractmethods__',\n",
              " '__annotations__',\n",
              " '__class__',\n",
              " '__delattr__',\n",
              " '__dict__',\n",
              " '__dir__',\n",
              " '__doc__',\n",
              " '__eq__',\n",
              " '__format__',\n",
              " '__ge__',\n",
              " '__getattribute__',\n",
              " '__getstate__',\n",
              " '__gt__',\n",
              " '__hash__',\n",
              " '__init__',\n",
              " '__init_subclass__',\n",
              " '__le__',\n",
              " '__lt__',\n",
              " '__module__',\n",
              " '__ne__',\n",
              " '__new__',\n",
              " '__reduce__',\n",
              " '__reduce_ex__',\n",
              " '__repr__',\n",
              " '__setattr__',\n",
              " '__setstate__',\n",
              " '__sizeof__',\n",
              " '__str__',\n",
              " '__subclasshook__',\n",
              " '__weakref__',\n",
              " '_abc_impl',\n",
              " '_check_feature_names',\n",
              " '_check_n_features',\n",
              " '_estimator_type',\n",
              " '_get_param_names',\n",
              " '_get_tags',\n",
              " '_more_tags',\n",
              " '_parameter_constraints',\n",
              " '_prune_tree',\n",
              " '_repr_html_',\n",
              " '_repr_html_inner',\n",
              " '_repr_mimebundle_',\n",
              " '_validate_X_predict',\n",
              " '_validate_data',\n",
              " '_validate_params',\n",
              " 'apply',\n",
              " 'ccp_alpha',\n",
              " 'class_weight',\n",
              " 'classes_',\n",
              " 'cost_complexity_pruning_path',\n",
              " 'criterion',\n",
              " 'decision_path',\n",
              " 'feature_importances_',\n",
              " 'fit',\n",
              " 'get_depth',\n",
              " 'get_n_leaves',\n",
              " 'get_params',\n",
              " 'max_depth',\n",
              " 'max_features',\n",
              " 'max_features_',\n",
              " 'max_leaf_nodes',\n",
              " 'min_impurity_decrease',\n",
              " 'min_samples_leaf',\n",
              " 'min_samples_split',\n",
              " 'min_weight_fraction_leaf',\n",
              " 'n_classes_',\n",
              " 'n_features_in_',\n",
              " 'n_outputs_',\n",
              " 'predict',\n",
              " 'predict_log_proba',\n",
              " 'predict_proba',\n",
              " 'random_state',\n",
              " 'score',\n",
              " 'set_params',\n",
              " 'splitter',\n",
              " 'tree_']"
            ]
          },
          "metadata": {},
          "execution_count": 24
        }
      ],
      "source": [
        "# list all the attributes and methods\n",
        "dir(dt_clf)"
      ]
    },
    {
      "cell_type": "code",
      "execution_count": 26,
      "id": "31080ee5",
      "metadata": {
        "id": "31080ee5",
        "colab": {
          "base_uri": "https://localhost:8080/"
        },
        "outputId": "da51fea9-e36d-45af-f3b7-a96390a209a0"
      },
      "outputs": [
        {
          "output_type": "stream",
          "name": "stdout",
          "text": [
            "Help on DecisionTreeClassifier in module sklearn.tree._classes object:\n",
            "\n",
            "class DecisionTreeClassifier(sklearn.base.ClassifierMixin, BaseDecisionTree)\n",
            " |  DecisionTreeClassifier(*, criterion='gini', splitter='best', max_depth=None, min_samples_split=2, min_samples_leaf=1, min_weight_fraction_leaf=0.0, max_features=None, random_state=None, max_leaf_nodes=None, min_impurity_decrease=0.0, class_weight=None, ccp_alpha=0.0)\n",
            " |  \n",
            " |  A decision tree classifier.\n",
            " |  \n",
            " |  Read more in the :ref:`User Guide <tree>`.\n",
            " |  \n",
            " |  Parameters\n",
            " |  ----------\n",
            " |  criterion : {\"gini\", \"entropy\", \"log_loss\"}, default=\"gini\"\n",
            " |      The function to measure the quality of a split. Supported criteria are\n",
            " |      \"gini\" for the Gini impurity and \"log_loss\" and \"entropy\" both for the\n",
            " |      Shannon information gain, see :ref:`tree_mathematical_formulation`.\n",
            " |  \n",
            " |  splitter : {\"best\", \"random\"}, default=\"best\"\n",
            " |      The strategy used to choose the split at each node. Supported\n",
            " |      strategies are \"best\" to choose the best split and \"random\" to choose\n",
            " |      the best random split.\n",
            " |  \n",
            " |  max_depth : int, default=None\n",
            " |      The maximum depth of the tree. If None, then nodes are expanded until\n",
            " |      all leaves are pure or until all leaves contain less than\n",
            " |      min_samples_split samples.\n",
            " |  \n",
            " |  min_samples_split : int or float, default=2\n",
            " |      The minimum number of samples required to split an internal node:\n",
            " |  \n",
            " |      - If int, then consider `min_samples_split` as the minimum number.\n",
            " |      - If float, then `min_samples_split` is a fraction and\n",
            " |        `ceil(min_samples_split * n_samples)` are the minimum\n",
            " |        number of samples for each split.\n",
            " |  \n",
            " |      .. versionchanged:: 0.18\n",
            " |         Added float values for fractions.\n",
            " |  \n",
            " |  min_samples_leaf : int or float, default=1\n",
            " |      The minimum number of samples required to be at a leaf node.\n",
            " |      A split point at any depth will only be considered if it leaves at\n",
            " |      least ``min_samples_leaf`` training samples in each of the left and\n",
            " |      right branches.  This may have the effect of smoothing the model,\n",
            " |      especially in regression.\n",
            " |  \n",
            " |      - If int, then consider `min_samples_leaf` as the minimum number.\n",
            " |      - If float, then `min_samples_leaf` is a fraction and\n",
            " |        `ceil(min_samples_leaf * n_samples)` are the minimum\n",
            " |        number of samples for each node.\n",
            " |  \n",
            " |      .. versionchanged:: 0.18\n",
            " |         Added float values for fractions.\n",
            " |  \n",
            " |  min_weight_fraction_leaf : float, default=0.0\n",
            " |      The minimum weighted fraction of the sum total of weights (of all\n",
            " |      the input samples) required to be at a leaf node. Samples have\n",
            " |      equal weight when sample_weight is not provided.\n",
            " |  \n",
            " |  max_features : int, float or {\"auto\", \"sqrt\", \"log2\"}, default=None\n",
            " |      The number of features to consider when looking for the best split:\n",
            " |  \n",
            " |          - If int, then consider `max_features` features at each split.\n",
            " |          - If float, then `max_features` is a fraction and\n",
            " |            `max(1, int(max_features * n_features_in_))` features are considered at\n",
            " |            each split.\n",
            " |          - If \"auto\", then `max_features=sqrt(n_features)`.\n",
            " |          - If \"sqrt\", then `max_features=sqrt(n_features)`.\n",
            " |          - If \"log2\", then `max_features=log2(n_features)`.\n",
            " |          - If None, then `max_features=n_features`.\n",
            " |  \n",
            " |          .. deprecated:: 1.1\n",
            " |              The `\"auto\"` option was deprecated in 1.1 and will be removed\n",
            " |              in 1.3.\n",
            " |  \n",
            " |      Note: the search for a split does not stop until at least one\n",
            " |      valid partition of the node samples is found, even if it requires to\n",
            " |      effectively inspect more than ``max_features`` features.\n",
            " |  \n",
            " |  random_state : int, RandomState instance or None, default=None\n",
            " |      Controls the randomness of the estimator. The features are always\n",
            " |      randomly permuted at each split, even if ``splitter`` is set to\n",
            " |      ``\"best\"``. When ``max_features < n_features``, the algorithm will\n",
            " |      select ``max_features`` at random at each split before finding the best\n",
            " |      split among them. But the best found split may vary across different\n",
            " |      runs, even if ``max_features=n_features``. That is the case, if the\n",
            " |      improvement of the criterion is identical for several splits and one\n",
            " |      split has to be selected at random. To obtain a deterministic behaviour\n",
            " |      during fitting, ``random_state`` has to be fixed to an integer.\n",
            " |      See :term:`Glossary <random_state>` for details.\n",
            " |  \n",
            " |  max_leaf_nodes : int, default=None\n",
            " |      Grow a tree with ``max_leaf_nodes`` in best-first fashion.\n",
            " |      Best nodes are defined as relative reduction in impurity.\n",
            " |      If None then unlimited number of leaf nodes.\n",
            " |  \n",
            " |  min_impurity_decrease : float, default=0.0\n",
            " |      A node will be split if this split induces a decrease of the impurity\n",
            " |      greater than or equal to this value.\n",
            " |  \n",
            " |      The weighted impurity decrease equation is the following::\n",
            " |  \n",
            " |          N_t / N * (impurity - N_t_R / N_t * right_impurity\n",
            " |                              - N_t_L / N_t * left_impurity)\n",
            " |  \n",
            " |      where ``N`` is the total number of samples, ``N_t`` is the number of\n",
            " |      samples at the current node, ``N_t_L`` is the number of samples in the\n",
            " |      left child, and ``N_t_R`` is the number of samples in the right child.\n",
            " |  \n",
            " |      ``N``, ``N_t``, ``N_t_R`` and ``N_t_L`` all refer to the weighted sum,\n",
            " |      if ``sample_weight`` is passed.\n",
            " |  \n",
            " |      .. versionadded:: 0.19\n",
            " |  \n",
            " |  class_weight : dict, list of dict or \"balanced\", default=None\n",
            " |      Weights associated with classes in the form ``{class_label: weight}``.\n",
            " |      If None, all classes are supposed to have weight one. For\n",
            " |      multi-output problems, a list of dicts can be provided in the same\n",
            " |      order as the columns of y.\n",
            " |  \n",
            " |      Note that for multioutput (including multilabel) weights should be\n",
            " |      defined for each class of every column in its own dict. For example,\n",
            " |      for four-class multilabel classification weights should be\n",
            " |      [{0: 1, 1: 1}, {0: 1, 1: 5}, {0: 1, 1: 1}, {0: 1, 1: 1}] instead of\n",
            " |      [{1:1}, {2:5}, {3:1}, {4:1}].\n",
            " |  \n",
            " |      The \"balanced\" mode uses the values of y to automatically adjust\n",
            " |      weights inversely proportional to class frequencies in the input data\n",
            " |      as ``n_samples / (n_classes * np.bincount(y))``\n",
            " |  \n",
            " |      For multi-output, the weights of each column of y will be multiplied.\n",
            " |  \n",
            " |      Note that these weights will be multiplied with sample_weight (passed\n",
            " |      through the fit method) if sample_weight is specified.\n",
            " |  \n",
            " |  ccp_alpha : non-negative float, default=0.0\n",
            " |      Complexity parameter used for Minimal Cost-Complexity Pruning. The\n",
            " |      subtree with the largest cost complexity that is smaller than\n",
            " |      ``ccp_alpha`` will be chosen. By default, no pruning is performed. See\n",
            " |      :ref:`minimal_cost_complexity_pruning` for details.\n",
            " |  \n",
            " |      .. versionadded:: 0.22\n",
            " |  \n",
            " |  Attributes\n",
            " |  ----------\n",
            " |  classes_ : ndarray of shape (n_classes,) or list of ndarray\n",
            " |      The classes labels (single output problem),\n",
            " |      or a list of arrays of class labels (multi-output problem).\n",
            " |  \n",
            " |  feature_importances_ : ndarray of shape (n_features,)\n",
            " |      The impurity-based feature importances.\n",
            " |      The higher, the more important the feature.\n",
            " |      The importance of a feature is computed as the (normalized)\n",
            " |      total reduction of the criterion brought by that feature.  It is also\n",
            " |      known as the Gini importance [4]_.\n",
            " |  \n",
            " |      Warning: impurity-based feature importances can be misleading for\n",
            " |      high cardinality features (many unique values). See\n",
            " |      :func:`sklearn.inspection.permutation_importance` as an alternative.\n",
            " |  \n",
            " |  max_features_ : int\n",
            " |      The inferred value of max_features.\n",
            " |  \n",
            " |  n_classes_ : int or list of int\n",
            " |      The number of classes (for single output problems),\n",
            " |      or a list containing the number of classes for each\n",
            " |      output (for multi-output problems).\n",
            " |  \n",
            " |  n_features_in_ : int\n",
            " |      Number of features seen during :term:`fit`.\n",
            " |  \n",
            " |      .. versionadded:: 0.24\n",
            " |  \n",
            " |  feature_names_in_ : ndarray of shape (`n_features_in_`,)\n",
            " |      Names of features seen during :term:`fit`. Defined only when `X`\n",
            " |      has feature names that are all strings.\n",
            " |  \n",
            " |      .. versionadded:: 1.0\n",
            " |  \n",
            " |  n_outputs_ : int\n",
            " |      The number of outputs when ``fit`` is performed.\n",
            " |  \n",
            " |  tree_ : Tree instance\n",
            " |      The underlying Tree object. Please refer to\n",
            " |      ``help(sklearn.tree._tree.Tree)`` for attributes of Tree object and\n",
            " |      :ref:`sphx_glr_auto_examples_tree_plot_unveil_tree_structure.py`\n",
            " |      for basic usage of these attributes.\n",
            " |  \n",
            " |  See Also\n",
            " |  --------\n",
            " |  DecisionTreeRegressor : A decision tree regressor.\n",
            " |  \n",
            " |  Notes\n",
            " |  -----\n",
            " |  The default values for the parameters controlling the size of the trees\n",
            " |  (e.g. ``max_depth``, ``min_samples_leaf``, etc.) lead to fully grown and\n",
            " |  unpruned trees which can potentially be very large on some data sets. To\n",
            " |  reduce memory consumption, the complexity and size of the trees should be\n",
            " |  controlled by setting those parameter values.\n",
            " |  \n",
            " |  The :meth:`predict` method operates using the :func:`numpy.argmax`\n",
            " |  function on the outputs of :meth:`predict_proba`. This means that in\n",
            " |  case the highest predicted probabilities are tied, the classifier will\n",
            " |  predict the tied class with the lowest index in :term:`classes_`.\n",
            " |  \n",
            " |  References\n",
            " |  ----------\n",
            " |  \n",
            " |  .. [1] https://en.wikipedia.org/wiki/Decision_tree_learning\n",
            " |  \n",
            " |  .. [2] L. Breiman, J. Friedman, R. Olshen, and C. Stone, \"Classification\n",
            " |         and Regression Trees\", Wadsworth, Belmont, CA, 1984.\n",
            " |  \n",
            " |  .. [3] T. Hastie, R. Tibshirani and J. Friedman. \"Elements of Statistical\n",
            " |         Learning\", Springer, 2009.\n",
            " |  \n",
            " |  .. [4] L. Breiman, and A. Cutler, \"Random Forests\",\n",
            " |         https://www.stat.berkeley.edu/~breiman/RandomForests/cc_home.htm\n",
            " |  \n",
            " |  Examples\n",
            " |  --------\n",
            " |  >>> from sklearn.datasets import load_iris\n",
            " |  >>> from sklearn.model_selection import cross_val_score\n",
            " |  >>> from sklearn.tree import DecisionTreeClassifier\n",
            " |  >>> clf = DecisionTreeClassifier(random_state=0)\n",
            " |  >>> iris = load_iris()\n",
            " |  >>> cross_val_score(clf, iris.data, iris.target, cv=10)\n",
            " |  ...                             # doctest: +SKIP\n",
            " |  ...\n",
            " |  array([ 1.     ,  0.93...,  0.86...,  0.93...,  0.93...,\n",
            " |          0.93...,  0.93...,  1.     ,  0.93...,  1.      ])\n",
            " |  \n",
            " |  Method resolution order:\n",
            " |      DecisionTreeClassifier\n",
            " |      sklearn.base.ClassifierMixin\n",
            " |      BaseDecisionTree\n",
            " |      sklearn.base.MultiOutputMixin\n",
            " |      sklearn.base.BaseEstimator\n",
            " |      builtins.object\n",
            " |  \n",
            " |  Methods defined here:\n",
            " |  \n",
            " |  __init__(self, *, criterion='gini', splitter='best', max_depth=None, min_samples_split=2, min_samples_leaf=1, min_weight_fraction_leaf=0.0, max_features=None, random_state=None, max_leaf_nodes=None, min_impurity_decrease=0.0, class_weight=None, ccp_alpha=0.0)\n",
            " |      Initialize self.  See help(type(self)) for accurate signature.\n",
            " |  \n",
            " |  fit(self, X, y, sample_weight=None, check_input=True)\n",
            " |      Build a decision tree classifier from the training set (X, y).\n",
            " |      \n",
            " |      Parameters\n",
            " |      ----------\n",
            " |      X : {array-like, sparse matrix} of shape (n_samples, n_features)\n",
            " |          The training input samples. Internally, it will be converted to\n",
            " |          ``dtype=np.float32`` and if a sparse matrix is provided\n",
            " |          to a sparse ``csc_matrix``.\n",
            " |      \n",
            " |      y : array-like of shape (n_samples,) or (n_samples, n_outputs)\n",
            " |          The target values (class labels) as integers or strings.\n",
            " |      \n",
            " |      sample_weight : array-like of shape (n_samples,), default=None\n",
            " |          Sample weights. If None, then samples are equally weighted. Splits\n",
            " |          that would create child nodes with net zero or negative weight are\n",
            " |          ignored while searching for a split in each node. Splits are also\n",
            " |          ignored if they would result in any single class carrying a\n",
            " |          negative weight in either child node.\n",
            " |      \n",
            " |      check_input : bool, default=True\n",
            " |          Allow to bypass several input checking.\n",
            " |          Don't use this parameter unless you know what you're doing.\n",
            " |      \n",
            " |      Returns\n",
            " |      -------\n",
            " |      self : DecisionTreeClassifier\n",
            " |          Fitted estimator.\n",
            " |  \n",
            " |  predict_log_proba(self, X)\n",
            " |      Predict class log-probabilities of the input samples X.\n",
            " |      \n",
            " |      Parameters\n",
            " |      ----------\n",
            " |      X : {array-like, sparse matrix} of shape (n_samples, n_features)\n",
            " |          The input samples. Internally, it will be converted to\n",
            " |          ``dtype=np.float32`` and if a sparse matrix is provided\n",
            " |          to a sparse ``csr_matrix``.\n",
            " |      \n",
            " |      Returns\n",
            " |      -------\n",
            " |      proba : ndarray of shape (n_samples, n_classes) or list of n_outputs             such arrays if n_outputs > 1\n",
            " |          The class log-probabilities of the input samples. The order of the\n",
            " |          classes corresponds to that in the attribute :term:`classes_`.\n",
            " |  \n",
            " |  predict_proba(self, X, check_input=True)\n",
            " |      Predict class probabilities of the input samples X.\n",
            " |      \n",
            " |      The predicted class probability is the fraction of samples of the same\n",
            " |      class in a leaf.\n",
            " |      \n",
            " |      Parameters\n",
            " |      ----------\n",
            " |      X : {array-like, sparse matrix} of shape (n_samples, n_features)\n",
            " |          The input samples. Internally, it will be converted to\n",
            " |          ``dtype=np.float32`` and if a sparse matrix is provided\n",
            " |          to a sparse ``csr_matrix``.\n",
            " |      \n",
            " |      check_input : bool, default=True\n",
            " |          Allow to bypass several input checking.\n",
            " |          Don't use this parameter unless you know what you're doing.\n",
            " |      \n",
            " |      Returns\n",
            " |      -------\n",
            " |      proba : ndarray of shape (n_samples, n_classes) or list of n_outputs             such arrays if n_outputs > 1\n",
            " |          The class probabilities of the input samples. The order of the\n",
            " |          classes corresponds to that in the attribute :term:`classes_`.\n",
            " |  \n",
            " |  ----------------------------------------------------------------------\n",
            " |  Data and other attributes defined here:\n",
            " |  \n",
            " |  __abstractmethods__ = frozenset()\n",
            " |  \n",
            " |  __annotations__ = {'_parameter_constraints': <class 'dict'>}\n",
            " |  \n",
            " |  ----------------------------------------------------------------------\n",
            " |  Methods inherited from sklearn.base.ClassifierMixin:\n",
            " |  \n",
            " |  score(self, X, y, sample_weight=None)\n",
            " |      Return the mean accuracy on the given test data and labels.\n",
            " |      \n",
            " |      In multi-label classification, this is the subset accuracy\n",
            " |      which is a harsh metric since you require for each sample that\n",
            " |      each label set be correctly predicted.\n",
            " |      \n",
            " |      Parameters\n",
            " |      ----------\n",
            " |      X : array-like of shape (n_samples, n_features)\n",
            " |          Test samples.\n",
            " |      \n",
            " |      y : array-like of shape (n_samples,) or (n_samples, n_outputs)\n",
            " |          True labels for `X`.\n",
            " |      \n",
            " |      sample_weight : array-like of shape (n_samples,), default=None\n",
            " |          Sample weights.\n",
            " |      \n",
            " |      Returns\n",
            " |      -------\n",
            " |      score : float\n",
            " |          Mean accuracy of ``self.predict(X)`` w.r.t. `y`.\n",
            " |  \n",
            " |  ----------------------------------------------------------------------\n",
            " |  Data descriptors inherited from sklearn.base.ClassifierMixin:\n",
            " |  \n",
            " |  __dict__\n",
            " |      dictionary for instance variables (if defined)\n",
            " |  \n",
            " |  __weakref__\n",
            " |      list of weak references to the object (if defined)\n",
            " |  \n",
            " |  ----------------------------------------------------------------------\n",
            " |  Methods inherited from BaseDecisionTree:\n",
            " |  \n",
            " |  apply(self, X, check_input=True)\n",
            " |      Return the index of the leaf that each sample is predicted as.\n",
            " |      \n",
            " |      .. versionadded:: 0.17\n",
            " |      \n",
            " |      Parameters\n",
            " |      ----------\n",
            " |      X : {array-like, sparse matrix} of shape (n_samples, n_features)\n",
            " |          The input samples. Internally, it will be converted to\n",
            " |          ``dtype=np.float32`` and if a sparse matrix is provided\n",
            " |          to a sparse ``csr_matrix``.\n",
            " |      \n",
            " |      check_input : bool, default=True\n",
            " |          Allow to bypass several input checking.\n",
            " |          Don't use this parameter unless you know what you're doing.\n",
            " |      \n",
            " |      Returns\n",
            " |      -------\n",
            " |      X_leaves : array-like of shape (n_samples,)\n",
            " |          For each datapoint x in X, return the index of the leaf x\n",
            " |          ends up in. Leaves are numbered within\n",
            " |          ``[0; self.tree_.node_count)``, possibly with gaps in the\n",
            " |          numbering.\n",
            " |  \n",
            " |  cost_complexity_pruning_path(self, X, y, sample_weight=None)\n",
            " |      Compute the pruning path during Minimal Cost-Complexity Pruning.\n",
            " |      \n",
            " |      See :ref:`minimal_cost_complexity_pruning` for details on the pruning\n",
            " |      process.\n",
            " |      \n",
            " |      Parameters\n",
            " |      ----------\n",
            " |      X : {array-like, sparse matrix} of shape (n_samples, n_features)\n",
            " |          The training input samples. Internally, it will be converted to\n",
            " |          ``dtype=np.float32`` and if a sparse matrix is provided\n",
            " |          to a sparse ``csc_matrix``.\n",
            " |      \n",
            " |      y : array-like of shape (n_samples,) or (n_samples, n_outputs)\n",
            " |          The target values (class labels) as integers or strings.\n",
            " |      \n",
            " |      sample_weight : array-like of shape (n_samples,), default=None\n",
            " |          Sample weights. If None, then samples are equally weighted. Splits\n",
            " |          that would create child nodes with net zero or negative weight are\n",
            " |          ignored while searching for a split in each node. Splits are also\n",
            " |          ignored if they would result in any single class carrying a\n",
            " |          negative weight in either child node.\n",
            " |      \n",
            " |      Returns\n",
            " |      -------\n",
            " |      ccp_path : :class:`~sklearn.utils.Bunch`\n",
            " |          Dictionary-like object, with the following attributes.\n",
            " |      \n",
            " |          ccp_alphas : ndarray\n",
            " |              Effective alphas of subtree during pruning.\n",
            " |      \n",
            " |          impurities : ndarray\n",
            " |              Sum of the impurities of the subtree leaves for the\n",
            " |              corresponding alpha value in ``ccp_alphas``.\n",
            " |  \n",
            " |  decision_path(self, X, check_input=True)\n",
            " |      Return the decision path in the tree.\n",
            " |      \n",
            " |      .. versionadded:: 0.18\n",
            " |      \n",
            " |      Parameters\n",
            " |      ----------\n",
            " |      X : {array-like, sparse matrix} of shape (n_samples, n_features)\n",
            " |          The input samples. Internally, it will be converted to\n",
            " |          ``dtype=np.float32`` and if a sparse matrix is provided\n",
            " |          to a sparse ``csr_matrix``.\n",
            " |      \n",
            " |      check_input : bool, default=True\n",
            " |          Allow to bypass several input checking.\n",
            " |          Don't use this parameter unless you know what you're doing.\n",
            " |      \n",
            " |      Returns\n",
            " |      -------\n",
            " |      indicator : sparse matrix of shape (n_samples, n_nodes)\n",
            " |          Return a node indicator CSR matrix where non zero elements\n",
            " |          indicates that the samples goes through the nodes.\n",
            " |  \n",
            " |  get_depth(self)\n",
            " |      Return the depth of the decision tree.\n",
            " |      \n",
            " |      The depth of a tree is the maximum distance between the root\n",
            " |      and any leaf.\n",
            " |      \n",
            " |      Returns\n",
            " |      -------\n",
            " |      self.tree_.max_depth : int\n",
            " |          The maximum depth of the tree.\n",
            " |  \n",
            " |  get_n_leaves(self)\n",
            " |      Return the number of leaves of the decision tree.\n",
            " |      \n",
            " |      Returns\n",
            " |      -------\n",
            " |      self.tree_.n_leaves : int\n",
            " |          Number of leaves.\n",
            " |  \n",
            " |  predict(self, X, check_input=True)\n",
            " |      Predict class or regression value for X.\n",
            " |      \n",
            " |      For a classification model, the predicted class for each sample in X is\n",
            " |      returned. For a regression model, the predicted value based on X is\n",
            " |      returned.\n",
            " |      \n",
            " |      Parameters\n",
            " |      ----------\n",
            " |      X : {array-like, sparse matrix} of shape (n_samples, n_features)\n",
            " |          The input samples. Internally, it will be converted to\n",
            " |          ``dtype=np.float32`` and if a sparse matrix is provided\n",
            " |          to a sparse ``csr_matrix``.\n",
            " |      \n",
            " |      check_input : bool, default=True\n",
            " |          Allow to bypass several input checking.\n",
            " |          Don't use this parameter unless you know what you're doing.\n",
            " |      \n",
            " |      Returns\n",
            " |      -------\n",
            " |      y : array-like of shape (n_samples,) or (n_samples, n_outputs)\n",
            " |          The predicted classes, or the predict values.\n",
            " |  \n",
            " |  ----------------------------------------------------------------------\n",
            " |  Readonly properties inherited from BaseDecisionTree:\n",
            " |  \n",
            " |  feature_importances_\n",
            " |      Return the feature importances.\n",
            " |      \n",
            " |      The importance of a feature is computed as the (normalized) total\n",
            " |      reduction of the criterion brought by that feature.\n",
            " |      It is also known as the Gini importance.\n",
            " |      \n",
            " |      Warning: impurity-based feature importances can be misleading for\n",
            " |      high cardinality features (many unique values). See\n",
            " |      :func:`sklearn.inspection.permutation_importance` as an alternative.\n",
            " |      \n",
            " |      Returns\n",
            " |      -------\n",
            " |      feature_importances_ : ndarray of shape (n_features,)\n",
            " |          Normalized total reduction of criteria by feature\n",
            " |          (Gini importance).\n",
            " |  \n",
            " |  ----------------------------------------------------------------------\n",
            " |  Methods inherited from sklearn.base.BaseEstimator:\n",
            " |  \n",
            " |  __getstate__(self)\n",
            " |  \n",
            " |  __repr__(self, N_CHAR_MAX=700)\n",
            " |      Return repr(self).\n",
            " |  \n",
            " |  __setstate__(self, state)\n",
            " |  \n",
            " |  get_params(self, deep=True)\n",
            " |      Get parameters for this estimator.\n",
            " |      \n",
            " |      Parameters\n",
            " |      ----------\n",
            " |      deep : bool, default=True\n",
            " |          If True, will return the parameters for this estimator and\n",
            " |          contained subobjects that are estimators.\n",
            " |      \n",
            " |      Returns\n",
            " |      -------\n",
            " |      params : dict\n",
            " |          Parameter names mapped to their values.\n",
            " |  \n",
            " |  set_params(self, **params)\n",
            " |      Set the parameters of this estimator.\n",
            " |      \n",
            " |      The method works on simple estimators as well as on nested objects\n",
            " |      (such as :class:`~sklearn.pipeline.Pipeline`). The latter have\n",
            " |      parameters of the form ``<component>__<parameter>`` so that it's\n",
            " |      possible to update each component of a nested object.\n",
            " |      \n",
            " |      Parameters\n",
            " |      ----------\n",
            " |      **params : dict\n",
            " |          Estimator parameters.\n",
            " |      \n",
            " |      Returns\n",
            " |      -------\n",
            " |      self : estimator instance\n",
            " |          Estimator instance.\n",
            "\n"
          ]
        }
      ],
      "source": [
        "help(dt_clf)"
      ]
    },
    {
      "cell_type": "markdown",
      "id": "306d6d53",
      "metadata": {
        "id": "306d6d53"
      },
      "source": [
        "#### Discussion"
      ]
    },
    {
      "cell_type": "markdown",
      "id": "35e35873",
      "metadata": {
        "id": "35e35873"
      },
      "source": [
        "The fitted decision tree classifier is: <br>\n",
        "   - a tree with depth of 7  \n",
        "   - it achieved 0.978 accuracy on the testing set\n",
        "   - petal length is the most important feature in distinguishing samples of three classes, this makes sense because ...(provide some biological explaination)\n",
        "   - sepal length seems to be the most unimportant feature because ... (provide some biological explaination)\n",
        "   - **we can cut some branches after fitting, because it's sensitive to the outliers (eg. the [0,32,1] situation)**\n",
        "\n",
        "After exploring different parameter settings, we find that:\n",
        "   - max_depth helps control the maximum depth of the tree and thus avoids overfitting,...\n",
        "   - min_samples_split sets a threshold on the minimum number of samples required to split an internal node, and this prevents the tree to grow too complex,...\n",
        "   - **use ramdom as the splitter might make the tree go deeper (if there's no maximum depth as a constraint)**"
      ]
    },
    {
      "cell_type": "markdown",
      "id": "23b02f43",
      "metadata": {
        "id": "23b02f43"
      },
      "source": [
        "### Decision tree regressor [group-coding, update the code to your github repo, and post your discussion results on ed]\n",
        "- Please follow the previous steps of building, evaluating, and visualizing decision tree classifier to build a decision tree regressor with the diabetes dataset.\n",
        "    - Decision tree regressor: https://scikit-learn.org/stable/modules/generated/sklearn.tree.DecisionTreeRegressor.html\n",
        "    - Diabetes dataset: https://scikit-learn.org/stable/datasets/toy_dataset.html#diabetes-dataset\n",
        "- Visualize to show how decision tree regressor is different from decision tree classifier.\n",
        "    "
      ]
    },
    {
      "cell_type": "code",
      "execution_count": 31,
      "id": "4953d96e",
      "metadata": {
        "id": "4953d96e"
      },
      "outputs": [],
      "source": [
        "# 1. import the additional related packages\n",
        "from sklearn.datasets import load_diabetes\n",
        "from sklearn.tree import DecisionTreeRegressor"
      ]
    },
    {
      "cell_type": "code",
      "execution_count": 32,
      "id": "5c515452",
      "metadata": {
        "id": "5c515452"
      },
      "outputs": [],
      "source": [
        "# 2. load the dataset\n",
        "diab = load_diabetes()"
      ]
    },
    {
      "cell_type": "code",
      "execution_count": 33,
      "id": "2cccd011",
      "metadata": {
        "colab": {
          "base_uri": "https://localhost:8080/",
          "height": 424
        },
        "id": "2cccd011",
        "outputId": "0c766f97-9102-419a-c9b4-a2e01ebb1fc3"
      },
      "outputs": [
        {
          "output_type": "execute_result",
          "data": {
            "text/plain": [
              "          age       sex       bmi        bp        s1        s2        s3  \\\n",
              "0    0.038076  0.050680  0.061696  0.021872 -0.044223 -0.034821 -0.043401   \n",
              "1   -0.001882 -0.044642 -0.051474 -0.026328 -0.008449 -0.019163  0.074412   \n",
              "2    0.085299  0.050680  0.044451 -0.005670 -0.045599 -0.034194 -0.032356   \n",
              "3   -0.089063 -0.044642 -0.011595 -0.036656  0.012191  0.024991 -0.036038   \n",
              "4    0.005383 -0.044642 -0.036385  0.021872  0.003935  0.015596  0.008142   \n",
              "..        ...       ...       ...       ...       ...       ...       ...   \n",
              "437  0.041708  0.050680  0.019662  0.059744 -0.005697 -0.002566 -0.028674   \n",
              "438 -0.005515  0.050680 -0.015906 -0.067642  0.049341  0.079165 -0.028674   \n",
              "439  0.041708  0.050680 -0.015906  0.017293 -0.037344 -0.013840 -0.024993   \n",
              "440 -0.045472 -0.044642  0.039062  0.001215  0.016318  0.015283 -0.028674   \n",
              "441 -0.045472 -0.044642 -0.073030 -0.081413  0.083740  0.027809  0.173816   \n",
              "\n",
              "           s4        s5        s6  target  \n",
              "0   -0.002592  0.019907 -0.017646   151.0  \n",
              "1   -0.039493 -0.068332 -0.092204    75.0  \n",
              "2   -0.002592  0.002861 -0.025930   141.0  \n",
              "3    0.034309  0.022688 -0.009362   206.0  \n",
              "4   -0.002592 -0.031988 -0.046641   135.0  \n",
              "..        ...       ...       ...     ...  \n",
              "437 -0.002592  0.031193  0.007207   178.0  \n",
              "438  0.034309 -0.018114  0.044485   104.0  \n",
              "439 -0.011080 -0.046883  0.015491   132.0  \n",
              "440  0.026560  0.044529 -0.025930   220.0  \n",
              "441 -0.039493 -0.004222  0.003064    57.0  \n",
              "\n",
              "[442 rows x 11 columns]"
            ],
            "text/html": [
              "\n",
              "  <div id=\"df-b8475b39-8486-48e9-a02e-e83a57a66ce3\" class=\"colab-df-container\">\n",
              "    <div>\n",
              "<style scoped>\n",
              "    .dataframe tbody tr th:only-of-type {\n",
              "        vertical-align: middle;\n",
              "    }\n",
              "\n",
              "    .dataframe tbody tr th {\n",
              "        vertical-align: top;\n",
              "    }\n",
              "\n",
              "    .dataframe thead th {\n",
              "        text-align: right;\n",
              "    }\n",
              "</style>\n",
              "<table border=\"1\" class=\"dataframe\">\n",
              "  <thead>\n",
              "    <tr style=\"text-align: right;\">\n",
              "      <th></th>\n",
              "      <th>age</th>\n",
              "      <th>sex</th>\n",
              "      <th>bmi</th>\n",
              "      <th>bp</th>\n",
              "      <th>s1</th>\n",
              "      <th>s2</th>\n",
              "      <th>s3</th>\n",
              "      <th>s4</th>\n",
              "      <th>s5</th>\n",
              "      <th>s6</th>\n",
              "      <th>target</th>\n",
              "    </tr>\n",
              "  </thead>\n",
              "  <tbody>\n",
              "    <tr>\n",
              "      <th>0</th>\n",
              "      <td>0.038076</td>\n",
              "      <td>0.050680</td>\n",
              "      <td>0.061696</td>\n",
              "      <td>0.021872</td>\n",
              "      <td>-0.044223</td>\n",
              "      <td>-0.034821</td>\n",
              "      <td>-0.043401</td>\n",
              "      <td>-0.002592</td>\n",
              "      <td>0.019907</td>\n",
              "      <td>-0.017646</td>\n",
              "      <td>151.0</td>\n",
              "    </tr>\n",
              "    <tr>\n",
              "      <th>1</th>\n",
              "      <td>-0.001882</td>\n",
              "      <td>-0.044642</td>\n",
              "      <td>-0.051474</td>\n",
              "      <td>-0.026328</td>\n",
              "      <td>-0.008449</td>\n",
              "      <td>-0.019163</td>\n",
              "      <td>0.074412</td>\n",
              "      <td>-0.039493</td>\n",
              "      <td>-0.068332</td>\n",
              "      <td>-0.092204</td>\n",
              "      <td>75.0</td>\n",
              "    </tr>\n",
              "    <tr>\n",
              "      <th>2</th>\n",
              "      <td>0.085299</td>\n",
              "      <td>0.050680</td>\n",
              "      <td>0.044451</td>\n",
              "      <td>-0.005670</td>\n",
              "      <td>-0.045599</td>\n",
              "      <td>-0.034194</td>\n",
              "      <td>-0.032356</td>\n",
              "      <td>-0.002592</td>\n",
              "      <td>0.002861</td>\n",
              "      <td>-0.025930</td>\n",
              "      <td>141.0</td>\n",
              "    </tr>\n",
              "    <tr>\n",
              "      <th>3</th>\n",
              "      <td>-0.089063</td>\n",
              "      <td>-0.044642</td>\n",
              "      <td>-0.011595</td>\n",
              "      <td>-0.036656</td>\n",
              "      <td>0.012191</td>\n",
              "      <td>0.024991</td>\n",
              "      <td>-0.036038</td>\n",
              "      <td>0.034309</td>\n",
              "      <td>0.022688</td>\n",
              "      <td>-0.009362</td>\n",
              "      <td>206.0</td>\n",
              "    </tr>\n",
              "    <tr>\n",
              "      <th>4</th>\n",
              "      <td>0.005383</td>\n",
              "      <td>-0.044642</td>\n",
              "      <td>-0.036385</td>\n",
              "      <td>0.021872</td>\n",
              "      <td>0.003935</td>\n",
              "      <td>0.015596</td>\n",
              "      <td>0.008142</td>\n",
              "      <td>-0.002592</td>\n",
              "      <td>-0.031988</td>\n",
              "      <td>-0.046641</td>\n",
              "      <td>135.0</td>\n",
              "    </tr>\n",
              "    <tr>\n",
              "      <th>...</th>\n",
              "      <td>...</td>\n",
              "      <td>...</td>\n",
              "      <td>...</td>\n",
              "      <td>...</td>\n",
              "      <td>...</td>\n",
              "      <td>...</td>\n",
              "      <td>...</td>\n",
              "      <td>...</td>\n",
              "      <td>...</td>\n",
              "      <td>...</td>\n",
              "      <td>...</td>\n",
              "    </tr>\n",
              "    <tr>\n",
              "      <th>437</th>\n",
              "      <td>0.041708</td>\n",
              "      <td>0.050680</td>\n",
              "      <td>0.019662</td>\n",
              "      <td>0.059744</td>\n",
              "      <td>-0.005697</td>\n",
              "      <td>-0.002566</td>\n",
              "      <td>-0.028674</td>\n",
              "      <td>-0.002592</td>\n",
              "      <td>0.031193</td>\n",
              "      <td>0.007207</td>\n",
              "      <td>178.0</td>\n",
              "    </tr>\n",
              "    <tr>\n",
              "      <th>438</th>\n",
              "      <td>-0.005515</td>\n",
              "      <td>0.050680</td>\n",
              "      <td>-0.015906</td>\n",
              "      <td>-0.067642</td>\n",
              "      <td>0.049341</td>\n",
              "      <td>0.079165</td>\n",
              "      <td>-0.028674</td>\n",
              "      <td>0.034309</td>\n",
              "      <td>-0.018114</td>\n",
              "      <td>0.044485</td>\n",
              "      <td>104.0</td>\n",
              "    </tr>\n",
              "    <tr>\n",
              "      <th>439</th>\n",
              "      <td>0.041708</td>\n",
              "      <td>0.050680</td>\n",
              "      <td>-0.015906</td>\n",
              "      <td>0.017293</td>\n",
              "      <td>-0.037344</td>\n",
              "      <td>-0.013840</td>\n",
              "      <td>-0.024993</td>\n",
              "      <td>-0.011080</td>\n",
              "      <td>-0.046883</td>\n",
              "      <td>0.015491</td>\n",
              "      <td>132.0</td>\n",
              "    </tr>\n",
              "    <tr>\n",
              "      <th>440</th>\n",
              "      <td>-0.045472</td>\n",
              "      <td>-0.044642</td>\n",
              "      <td>0.039062</td>\n",
              "      <td>0.001215</td>\n",
              "      <td>0.016318</td>\n",
              "      <td>0.015283</td>\n",
              "      <td>-0.028674</td>\n",
              "      <td>0.026560</td>\n",
              "      <td>0.044529</td>\n",
              "      <td>-0.025930</td>\n",
              "      <td>220.0</td>\n",
              "    </tr>\n",
              "    <tr>\n",
              "      <th>441</th>\n",
              "      <td>-0.045472</td>\n",
              "      <td>-0.044642</td>\n",
              "      <td>-0.073030</td>\n",
              "      <td>-0.081413</td>\n",
              "      <td>0.083740</td>\n",
              "      <td>0.027809</td>\n",
              "      <td>0.173816</td>\n",
              "      <td>-0.039493</td>\n",
              "      <td>-0.004222</td>\n",
              "      <td>0.003064</td>\n",
              "      <td>57.0</td>\n",
              "    </tr>\n",
              "  </tbody>\n",
              "</table>\n",
              "<p>442 rows × 11 columns</p>\n",
              "</div>\n",
              "    <div class=\"colab-df-buttons\">\n",
              "\n",
              "  <div class=\"colab-df-container\">\n",
              "    <button class=\"colab-df-convert\" onclick=\"convertToInteractive('df-b8475b39-8486-48e9-a02e-e83a57a66ce3')\"\n",
              "            title=\"Convert this dataframe to an interactive table.\"\n",
              "            style=\"display:none;\">\n",
              "\n",
              "  <svg xmlns=\"http://www.w3.org/2000/svg\" height=\"24px\" viewBox=\"0 -960 960 960\">\n",
              "    <path d=\"M120-120v-720h720v720H120Zm60-500h600v-160H180v160Zm220 220h160v-160H400v160Zm0 220h160v-160H400v160ZM180-400h160v-160H180v160Zm440 0h160v-160H620v160ZM180-180h160v-160H180v160Zm440 0h160v-160H620v160Z\"/>\n",
              "  </svg>\n",
              "    </button>\n",
              "\n",
              "  <style>\n",
              "    .colab-df-container {\n",
              "      display:flex;\n",
              "      gap: 12px;\n",
              "    }\n",
              "\n",
              "    .colab-df-convert {\n",
              "      background-color: #E8F0FE;\n",
              "      border: none;\n",
              "      border-radius: 50%;\n",
              "      cursor: pointer;\n",
              "      display: none;\n",
              "      fill: #1967D2;\n",
              "      height: 32px;\n",
              "      padding: 0 0 0 0;\n",
              "      width: 32px;\n",
              "    }\n",
              "\n",
              "    .colab-df-convert:hover {\n",
              "      background-color: #E2EBFA;\n",
              "      box-shadow: 0px 1px 2px rgba(60, 64, 67, 0.3), 0px 1px 3px 1px rgba(60, 64, 67, 0.15);\n",
              "      fill: #174EA6;\n",
              "    }\n",
              "\n",
              "    .colab-df-buttons div {\n",
              "      margin-bottom: 4px;\n",
              "    }\n",
              "\n",
              "    [theme=dark] .colab-df-convert {\n",
              "      background-color: #3B4455;\n",
              "      fill: #D2E3FC;\n",
              "    }\n",
              "\n",
              "    [theme=dark] .colab-df-convert:hover {\n",
              "      background-color: #434B5C;\n",
              "      box-shadow: 0px 1px 3px 1px rgba(0, 0, 0, 0.15);\n",
              "      filter: drop-shadow(0px 1px 2px rgba(0, 0, 0, 0.3));\n",
              "      fill: #FFFFFF;\n",
              "    }\n",
              "  </style>\n",
              "\n",
              "    <script>\n",
              "      const buttonEl =\n",
              "        document.querySelector('#df-b8475b39-8486-48e9-a02e-e83a57a66ce3 button.colab-df-convert');\n",
              "      buttonEl.style.display =\n",
              "        google.colab.kernel.accessAllowed ? 'block' : 'none';\n",
              "\n",
              "      async function convertToInteractive(key) {\n",
              "        const element = document.querySelector('#df-b8475b39-8486-48e9-a02e-e83a57a66ce3');\n",
              "        const dataTable =\n",
              "          await google.colab.kernel.invokeFunction('convertToInteractive',\n",
              "                                                    [key], {});\n",
              "        if (!dataTable) return;\n",
              "\n",
              "        const docLinkHtml = 'Like what you see? Visit the ' +\n",
              "          '<a target=\"_blank\" href=https://colab.research.google.com/notebooks/data_table.ipynb>data table notebook</a>'\n",
              "          + ' to learn more about interactive tables.';\n",
              "        element.innerHTML = '';\n",
              "        dataTable['output_type'] = 'display_data';\n",
              "        await google.colab.output.renderOutput(dataTable, element);\n",
              "        const docLink = document.createElement('div');\n",
              "        docLink.innerHTML = docLinkHtml;\n",
              "        element.appendChild(docLink);\n",
              "      }\n",
              "    </script>\n",
              "  </div>\n",
              "\n",
              "\n",
              "<div id=\"df-5c4a84de-369f-4942-b178-0d9171ea169d\">\n",
              "  <button class=\"colab-df-quickchart\" onclick=\"quickchart('df-5c4a84de-369f-4942-b178-0d9171ea169d')\"\n",
              "            title=\"Suggest charts\"\n",
              "            style=\"display:none;\">\n",
              "\n",
              "<svg xmlns=\"http://www.w3.org/2000/svg\" height=\"24px\"viewBox=\"0 0 24 24\"\n",
              "     width=\"24px\">\n",
              "    <g>\n",
              "        <path d=\"M19 3H5c-1.1 0-2 .9-2 2v14c0 1.1.9 2 2 2h14c1.1 0 2-.9 2-2V5c0-1.1-.9-2-2-2zM9 17H7v-7h2v7zm4 0h-2V7h2v10zm4 0h-2v-4h2v4z\"/>\n",
              "    </g>\n",
              "</svg>\n",
              "  </button>\n",
              "\n",
              "<style>\n",
              "  .colab-df-quickchart {\n",
              "      --bg-color: #E8F0FE;\n",
              "      --fill-color: #1967D2;\n",
              "      --hover-bg-color: #E2EBFA;\n",
              "      --hover-fill-color: #174EA6;\n",
              "      --disabled-fill-color: #AAA;\n",
              "      --disabled-bg-color: #DDD;\n",
              "  }\n",
              "\n",
              "  [theme=dark] .colab-df-quickchart {\n",
              "      --bg-color: #3B4455;\n",
              "      --fill-color: #D2E3FC;\n",
              "      --hover-bg-color: #434B5C;\n",
              "      --hover-fill-color: #FFFFFF;\n",
              "      --disabled-bg-color: #3B4455;\n",
              "      --disabled-fill-color: #666;\n",
              "  }\n",
              "\n",
              "  .colab-df-quickchart {\n",
              "    background-color: var(--bg-color);\n",
              "    border: none;\n",
              "    border-radius: 50%;\n",
              "    cursor: pointer;\n",
              "    display: none;\n",
              "    fill: var(--fill-color);\n",
              "    height: 32px;\n",
              "    padding: 0;\n",
              "    width: 32px;\n",
              "  }\n",
              "\n",
              "  .colab-df-quickchart:hover {\n",
              "    background-color: var(--hover-bg-color);\n",
              "    box-shadow: 0 1px 2px rgba(60, 64, 67, 0.3), 0 1px 3px 1px rgba(60, 64, 67, 0.15);\n",
              "    fill: var(--button-hover-fill-color);\n",
              "  }\n",
              "\n",
              "  .colab-df-quickchart-complete:disabled,\n",
              "  .colab-df-quickchart-complete:disabled:hover {\n",
              "    background-color: var(--disabled-bg-color);\n",
              "    fill: var(--disabled-fill-color);\n",
              "    box-shadow: none;\n",
              "  }\n",
              "\n",
              "  .colab-df-spinner {\n",
              "    border: 2px solid var(--fill-color);\n",
              "    border-color: transparent;\n",
              "    border-bottom-color: var(--fill-color);\n",
              "    animation:\n",
              "      spin 1s steps(1) infinite;\n",
              "  }\n",
              "\n",
              "  @keyframes spin {\n",
              "    0% {\n",
              "      border-color: transparent;\n",
              "      border-bottom-color: var(--fill-color);\n",
              "      border-left-color: var(--fill-color);\n",
              "    }\n",
              "    20% {\n",
              "      border-color: transparent;\n",
              "      border-left-color: var(--fill-color);\n",
              "      border-top-color: var(--fill-color);\n",
              "    }\n",
              "    30% {\n",
              "      border-color: transparent;\n",
              "      border-left-color: var(--fill-color);\n",
              "      border-top-color: var(--fill-color);\n",
              "      border-right-color: var(--fill-color);\n",
              "    }\n",
              "    40% {\n",
              "      border-color: transparent;\n",
              "      border-right-color: var(--fill-color);\n",
              "      border-top-color: var(--fill-color);\n",
              "    }\n",
              "    60% {\n",
              "      border-color: transparent;\n",
              "      border-right-color: var(--fill-color);\n",
              "    }\n",
              "    80% {\n",
              "      border-color: transparent;\n",
              "      border-right-color: var(--fill-color);\n",
              "      border-bottom-color: var(--fill-color);\n",
              "    }\n",
              "    90% {\n",
              "      border-color: transparent;\n",
              "      border-bottom-color: var(--fill-color);\n",
              "    }\n",
              "  }\n",
              "</style>\n",
              "\n",
              "  <script>\n",
              "    async function quickchart(key) {\n",
              "      const quickchartButtonEl =\n",
              "        document.querySelector('#' + key + ' button');\n",
              "      quickchartButtonEl.disabled = true;  // To prevent multiple clicks.\n",
              "      quickchartButtonEl.classList.add('colab-df-spinner');\n",
              "      try {\n",
              "        const charts = await google.colab.kernel.invokeFunction(\n",
              "            'suggestCharts', [key], {});\n",
              "      } catch (error) {\n",
              "        console.error('Error during call to suggestCharts:', error);\n",
              "      }\n",
              "      quickchartButtonEl.classList.remove('colab-df-spinner');\n",
              "      quickchartButtonEl.classList.add('colab-df-quickchart-complete');\n",
              "    }\n",
              "    (() => {\n",
              "      let quickchartButtonEl =\n",
              "        document.querySelector('#df-5c4a84de-369f-4942-b178-0d9171ea169d button');\n",
              "      quickchartButtonEl.style.display =\n",
              "        google.colab.kernel.accessAllowed ? 'block' : 'none';\n",
              "    })();\n",
              "  </script>\n",
              "</div>\n",
              "    </div>\n",
              "  </div>\n"
            ]
          },
          "metadata": {},
          "execution_count": 33
        }
      ],
      "source": [
        "# 2. display the dataset as a pandas dataframe\n",
        "df_diab = pd.DataFrame(diab.data, columns=diab.feature_names)\n",
        "df_diab['target'] = diab.target\n",
        "df_diab"
      ]
    },
    {
      "cell_type": "code",
      "execution_count": 34,
      "id": "cf09554c",
      "metadata": {
        "colab": {
          "base_uri": "https://localhost:8080/",
          "height": 409
        },
        "id": "cf09554c",
        "outputId": "80bd37d6-82b5-4dbd-f018-3dc266e7e3d1"
      },
      "outputs": [
        {
          "output_type": "execute_result",
          "data": {
            "text/plain": [
              "Text(0, 0.5, '#samples')"
            ]
          },
          "metadata": {},
          "execution_count": 34
        },
        {
          "output_type": "display_data",
          "data": {
            "text/plain": [
              "<Figure size 500x400 with 1 Axes>"
            ],
            "image/png": "[encoded data removed]"
          },
          "metadata": {}
        }
      ],
      "source": [
        "# if the target variable is continuous, check the value distribution of the target variable\n",
        "plt.hist(df_diab.target, rwidth=0.8);\n",
        "plt.xlabel('diabetes values', fontsize=12)\n",
        "plt.ylabel(\"#samples\", fontsize=12)"
      ]
    },
    {
      "cell_type": "code",
      "execution_count": 35,
      "id": "00867e8e",
      "metadata": {
        "colab": {
          "base_uri": "https://localhost:8080/"
        },
        "id": "00867e8e",
        "outputId": "571b6d3b-8e9a-411e-ca95-9eb5cba3ff2e"
      },
      "outputs": [
        {
          "output_type": "execute_result",
          "data": {
            "text/plain": [
              "((442, 10), (442,))"
            ]
          },
          "metadata": {},
          "execution_count": 35
        }
      ],
      "source": [
        "# 3. Get the input feature matrix and target variables, prepare for model fitting\n",
        "X,y = diab.data, diab.target\n",
        "X.shape, y.shape"
      ]
    },
    {
      "cell_type": "code",
      "execution_count": 50,
      "id": "69d2eb34",
      "metadata": {
        "id": "69d2eb34",
        "colab": {
          "base_uri": "https://localhost:8080/"
        },
        "outputId": "d71b384a-74f4-4d06-fc9c-65ad3bc86eeb"
      },
      "outputs": [
        {
          "output_type": "execute_result",
          "data": {
            "text/plain": [
              "((353, 10), (89, 10))"
            ]
          },
          "metadata": {},
          "execution_count": 50
        }
      ],
      "source": [
        "# 3. split the data into training and testing set\n",
        "X_train, X_test, y_train, y_test = train_test_split(X, y, test_size=0.2, random_state=42)\n",
        "X_train.shape, X_test.shape"
      ]
    },
    {
      "cell_type": "code",
      "execution_count": 69,
      "id": "15788650",
      "metadata": {
        "id": "15788650",
        "colab": {
          "base_uri": "https://localhost:8080/"
        },
        "outputId": "36e97b56-823c-4378-e759-71b662202e37"
      },
      "outputs": [
        {
          "output_type": "execute_result",
          "data": {
            "text/plain": [
              "0.334"
            ]
          },
          "metadata": {},
          "execution_count": 69
        }
      ],
      "source": [
        "# 4/5/6: fit and evaluate the model performance on the testing set\n",
        "dt_reg = DecisionTreeRegressor(random_state=42, max_depth=5)\n",
        "dt_reg = dt_reg.fit(X_train, y_train)\n",
        "np.round(dt_reg.score(X_test,y_test),3)\n"
      ]
    },
    {
      "cell_type": "code",
      "execution_count": 71,
      "id": "7c63209b",
      "metadata": {
        "id": "7c63209b",
        "colab": {
          "base_uri": "https://localhost:8080/",
          "height": 817
        },
        "outputId": "d173cc5e-b948-4623-d40c-3a5584eb69f5"
      },
      "outputs": [
        {
          "output_type": "execute_result",
          "data": {
            "image/svg+xml": "<?xml version=\"1.0\" encoding=\"UTF-8\" standalone=\"no\"?>\n<!DOCTYPE svg PUBLIC \"-//W3C//DTD SVG 1.1//EN\"\n \"http://www.w3.org/Graphics/SVG/1.1/DTD/svg11.dtd\">\n<!-- Generated by graphviz version 2.43.0 (0)\n -->\n<!-- Title: Tree Pages: 1 -->\n<svg width=\"5321pt\" height=\"581pt\"\n viewBox=\"0.00 0.00 5321.00 581.00\" xmlns=\"http://www.w3.org/2000/svg\" xmlns:xlink=\"http://www.w3.org/1999/xlink\">\n<g id=\"graph0\" class=\"graph\" transform=\"scale(1 1) rotate(0) translate(4 577)\">\n<title>Tree</title>\n<polygon fill=\"white\" stroke=\"transparent\" points=\"-4,4 -4,-577 5317,-577 5317,4 -4,4\"/>\n<!-- 0 -->\n<g id=\"node1\" class=\"node\">\n<title>0</title>\n<path fill=\"#f6d3bb\" stroke=\"black\" d=\"M2897.5,-573C2897.5,-573 2748.5,-573 2748.5,-573 2742.5,-573 2736.5,-567 2736.5,-561 2736.5,-561 2736.5,-517 2736.5,-517 2736.5,-511 2742.5,-505 2748.5,-505 2748.5,-505 2897.5,-505 2897.5,-505 2903.5,-505 2909.5,-511 2909.5,-517 2909.5,-517 2909.5,-561 2909.5,-561 2909.5,-567 2903.5,-573 2897.5,-573\"/>\n<text text-anchor=\"start\" x=\"2787\" y=\"-557.8\" font-family=\"Helvetica,sans-Serif\" font-size=\"14.00\">bmi ≤ 0.005</text>\n<text text-anchor=\"start\" x=\"2744.5\" y=\"-542.8\" font-family=\"Helvetica,sans-Serif\" font-size=\"14.00\">squared_error = 6076.398</text>\n<text text-anchor=\"start\" x=\"2778\" y=\"-527.8\" font-family=\"Helvetica,sans-Serif\" font-size=\"14.00\">samples = 353</text>\n<text text-anchor=\"start\" x=\"2774.5\" y=\"-512.8\" font-family=\"Helvetica,sans-Serif\" font-size=\"14.00\">value = 153.737</text>\n</g>\n<!-- 1 -->\n<g id=\"node2\" class=\"node\">\n<title>1</title>\n<path fill=\"#f9e3d3\" stroke=\"black\" d=\"M2104,-469C2104,-469 1962,-469 1962,-469 1956,-469 1950,-463 1950,-457 1950,-457 1950,-413 1950,-413 1950,-407 1956,-401 1962,-401 1962,-401 2104,-401 2104,-401 2110,-401 2116,-407 2116,-413 2116,-413 2116,-457 2116,-457 2116,-463 2110,-469 2104,-469\"/>\n<text text-anchor=\"start\" x=\"2001\" y=\"-453.8\" font-family=\"Helvetica,sans-Serif\" font-size=\"14.00\">s5 ≤ 0.006</text>\n<text text-anchor=\"start\" x=\"1958\" y=\"-438.8\" font-family=\"Helvetica,sans-Serif\" font-size=\"14.00\">squared_error = 3612.73</text>\n<text text-anchor=\"start\" x=\"1988\" y=\"-423.8\" font-family=\"Helvetica,sans-Serif\" font-size=\"14.00\">samples = 209</text>\n<text text-anchor=\"start\" x=\"1984.5\" y=\"-408.8\" font-family=\"Helvetica,sans-Serif\" font-size=\"14.00\">value = 118.043</text>\n</g>\n<!-- 0&#45;&gt;1 -->\n<g id=\"edge1\" class=\"edge\">\n<title>0&#45;&gt;1</title>\n<path fill=\"none\" stroke=\"black\" d=\"M2736.2,-526.79C2586.27,-507.44 2280.11,-467.91 2126,-448.01\"/>\n<polygon fill=\"black\" stroke=\"black\" points=\"2126.44,-444.54 2116.07,-446.73 2125.54,-451.48 2126.44,-444.54\"/>\n<text text-anchor=\"middle\" x=\"2131.34\" y=\"-462.82\" font-family=\"Helvetica,sans-Serif\" font-size=\"14.00\">True</text>\n</g>\n<!-- 30 -->\n<g id=\"node31\" class=\"node\">\n<title>30</title>\n<path fill=\"#f1bc96\" stroke=\"black\" d=\"M3252.5,-469C3252.5,-469 3103.5,-469 3103.5,-469 3097.5,-469 3091.5,-463 3091.5,-457 3091.5,-457 3091.5,-413 3091.5,-413 3091.5,-407 3097.5,-401 3103.5,-401 3103.5,-401 3252.5,-401 3252.5,-401 3258.5,-401 3264.5,-407 3264.5,-413 3264.5,-413 3264.5,-457 3264.5,-457 3264.5,-463 3258.5,-469 3252.5,-469\"/>\n<text text-anchor=\"start\" x=\"3142\" y=\"-453.8\" font-family=\"Helvetica,sans-Serif\" font-size=\"14.00\">bmi ≤ 0.073</text>\n<text text-anchor=\"start\" x=\"3099.5\" y=\"-438.8\" font-family=\"Helvetica,sans-Serif\" font-size=\"14.00\">squared_error = 5119.262</text>\n<text text-anchor=\"start\" x=\"3133\" y=\"-423.8\" font-family=\"Helvetica,sans-Serif\" font-size=\"14.00\">samples = 144</text>\n<text text-anchor=\"start\" x=\"3129.5\" y=\"-408.8\" font-family=\"Helvetica,sans-Serif\" font-size=\"14.00\">value = 205.542</text>\n</g>\n<!-- 0&#45;&gt;30 -->\n<g id=\"edge30\" class=\"edge\">\n<title>0&#45;&gt;30</title>\n<path fill=\"none\" stroke=\"black\" d=\"M2909.84,-513.05C2961.82,-498.11 3027.99,-479.1 3081.58,-463.7\"/>\n<polygon fill=\"black\" stroke=\"black\" points=\"3082.79,-467 3091.44,-460.87 3080.86,-460.27 3082.79,-467\"/>\n<text text-anchor=\"middle\" x=\"3079.33\" y=\"-479.04\" font-family=\"Helvetica,sans-Serif\" font-size=\"14.00\">False</text>\n</g>\n<!-- 2 -->\n<g id=\"node3\" class=\"node\">\n<title>2</title>\n<path fill=\"#fbebe0\" stroke=\"black\" d=\"M1180.5,-365C1180.5,-365 1031.5,-365 1031.5,-365 1025.5,-365 1019.5,-359 1019.5,-353 1019.5,-353 1019.5,-309 1019.5,-309 1019.5,-303 1025.5,-297 1031.5,-297 1031.5,-297 1180.5,-297 1180.5,-297 1186.5,-297 1192.5,-303 1192.5,-309 1192.5,-309 1192.5,-353 1192.5,-353 1192.5,-359 1186.5,-365 1180.5,-365\"/>\n<text text-anchor=\"start\" x=\"1072\" y=\"-349.8\" font-family=\"Helvetica,sans-Serif\" font-size=\"14.00\">s5 ≤ &#45;0.043</text>\n<text text-anchor=\"start\" x=\"1027.5\" y=\"-334.8\" font-family=\"Helvetica,sans-Serif\" font-size=\"14.00\">squared_error = 2378.339</text>\n<text text-anchor=\"start\" x=\"1061\" y=\"-319.8\" font-family=\"Helvetica,sans-Serif\" font-size=\"14.00\">samples = 152</text>\n<text text-anchor=\"start\" x=\"1057.5\" y=\"-304.8\" font-family=\"Helvetica,sans-Serif\" font-size=\"14.00\">value = 100.559</text>\n</g>\n<!-- 1&#45;&gt;2 -->\n<g id=\"edge2\" class=\"edge\">\n<title>1&#45;&gt;2</title>\n<path fill=\"none\" stroke=\"black\" d=\"M1949.92,-424.86C1778.29,-405.97 1385.42,-362.75 1202.72,-342.64\"/>\n<polygon fill=\"black\" stroke=\"black\" points=\"1202.91,-339.14 1192.59,-341.53 1202.15,-346.1 1202.91,-339.14\"/>\n</g>\n<!-- 17 -->\n<g id=\"node18\" class=\"node\">\n<title>17</title>\n<path fill=\"#f5cfb3\" stroke=\"black\" d=\"M2104,-365C2104,-365 1962,-365 1962,-365 1956,-365 1950,-359 1950,-353 1950,-353 1950,-309 1950,-309 1950,-303 1956,-297 1962,-297 1962,-297 2104,-297 2104,-297 2110,-297 2116,-303 2116,-309 2116,-309 2116,-353 2116,-353 2116,-359 2110,-365 2104,-365\"/>\n<text text-anchor=\"start\" x=\"2005\" y=\"-349.8\" font-family=\"Helvetica,sans-Serif\" font-size=\"14.00\">s4 ≤ 0.09</text>\n<text text-anchor=\"start\" x=\"1958\" y=\"-334.8\" font-family=\"Helvetica,sans-Serif\" font-size=\"14.00\">squared_error = 3915.52</text>\n<text text-anchor=\"start\" x=\"1992\" y=\"-319.8\" font-family=\"Helvetica,sans-Serif\" font-size=\"14.00\">samples = 57</text>\n<text text-anchor=\"start\" x=\"1984.5\" y=\"-304.8\" font-family=\"Helvetica,sans-Serif\" font-size=\"14.00\">value = 164.667</text>\n</g>\n<!-- 1&#45;&gt;17 -->\n<g id=\"edge17\" class=\"edge\">\n<title>1&#45;&gt;17</title>\n<path fill=\"none\" stroke=\"black\" d=\"M2033,-400.88C2033,-392.78 2033,-383.98 2033,-375.47\"/>\n<polygon fill=\"black\" stroke=\"black\" points=\"2036.5,-375.3 2033,-365.3 2029.5,-375.3 2036.5,-375.3\"/>\n</g>\n<!-- 3 -->\n<g id=\"node4\" class=\"node\">\n<title>3</title>\n<path fill=\"#fdf4ed\" stroke=\"black\" d=\"M619.5,-261C619.5,-261 470.5,-261 470.5,-261 464.5,-261 458.5,-255 458.5,-249 458.5,-249 458.5,-205 458.5,-205 458.5,-199 464.5,-193 470.5,-193 470.5,-193 619.5,-193 619.5,-193 625.5,-193 631.5,-199 631.5,-205 631.5,-205 631.5,-249 631.5,-249 631.5,-255 625.5,-261 619.5,-261\"/>\n<text text-anchor=\"start\" x=\"511\" y=\"-245.8\" font-family=\"Helvetica,sans-Serif\" font-size=\"14.00\">s1 ≤ &#45;0.039</text>\n<text text-anchor=\"start\" x=\"466.5\" y=\"-230.8\" font-family=\"Helvetica,sans-Serif\" font-size=\"14.00\">squared_error = 1425.414</text>\n<text text-anchor=\"start\" x=\"504\" y=\"-215.8\" font-family=\"Helvetica,sans-Serif\" font-size=\"14.00\">samples = 49</text>\n<text text-anchor=\"start\" x=\"500\" y=\"-200.8\" font-family=\"Helvetica,sans-Serif\" font-size=\"14.00\">value = 80.878</text>\n</g>\n<!-- 2&#45;&gt;3 -->\n<g id=\"edge3\" class=\"edge\">\n<title>2&#45;&gt;3</title>\n<path fill=\"none\" stroke=\"black\" d=\"M1019.27,-314.23C917.22,-295.68 748.26,-264.96 641.97,-245.63\"/>\n<polygon fill=\"black\" stroke=\"black\" points=\"642.35,-242.14 631.88,-243.8 641.1,-249.03 642.35,-242.14\"/>\n</g>\n<!-- 10 -->\n<g id=\"node11\" class=\"node\">\n<title>10</title>\n<path fill=\"#fae7d9\" stroke=\"black\" d=\"M1180.5,-261C1180.5,-261 1031.5,-261 1031.5,-261 1025.5,-261 1019.5,-255 1019.5,-249 1019.5,-249 1019.5,-205 1019.5,-205 1019.5,-199 1025.5,-193 1031.5,-193 1031.5,-193 1180.5,-193 1180.5,-193 1186.5,-193 1192.5,-199 1192.5,-205 1192.5,-205 1192.5,-249 1192.5,-249 1192.5,-255 1186.5,-261 1180.5,-261\"/>\n<text text-anchor=\"start\" x=\"1074\" y=\"-245.8\" font-family=\"Helvetica,sans-Serif\" font-size=\"14.00\">s3 ≤ 0.025</text>\n<text text-anchor=\"start\" x=\"1027.5\" y=\"-230.8\" font-family=\"Helvetica,sans-Serif\" font-size=\"14.00\">squared_error = 2559.722</text>\n<text text-anchor=\"start\" x=\"1061\" y=\"-215.8\" font-family=\"Helvetica,sans-Serif\" font-size=\"14.00\">samples = 103</text>\n<text text-anchor=\"start\" x=\"1057.5\" y=\"-200.8\" font-family=\"Helvetica,sans-Serif\" font-size=\"14.00\">value = 109.922</text>\n</g>\n<!-- 2&#45;&gt;10 -->\n<g id=\"edge10\" class=\"edge\">\n<title>2&#45;&gt;10</title>\n<path fill=\"none\" stroke=\"black\" d=\"M1106,-296.88C1106,-288.78 1106,-279.98 1106,-271.47\"/>\n<polygon fill=\"black\" stroke=\"black\" points=\"1109.5,-271.3 1106,-261.3 1102.5,-271.3 1109.5,-271.3\"/>\n</g>\n<!-- 4 -->\n<g id=\"node5\" class=\"node\">\n<title>4</title>\n<path fill=\"#fbeee4\" stroke=\"black\" d=\"M341.5,-157C341.5,-157 192.5,-157 192.5,-157 186.5,-157 180.5,-151 180.5,-145 180.5,-145 180.5,-101 180.5,-101 180.5,-95 186.5,-89 192.5,-89 192.5,-89 341.5,-89 341.5,-89 347.5,-89 353.5,-95 353.5,-101 353.5,-101 353.5,-145 353.5,-145 353.5,-151 347.5,-157 341.5,-157\"/>\n<text text-anchor=\"start\" x=\"233\" y=\"-141.8\" font-family=\"Helvetica,sans-Serif\" font-size=\"14.00\">s1 ≤ &#45;0.046</text>\n<text text-anchor=\"start\" x=\"188.5\" y=\"-126.8\" font-family=\"Helvetica,sans-Serif\" font-size=\"14.00\">squared_error = 1663.902</text>\n<text text-anchor=\"start\" x=\"226\" y=\"-111.8\" font-family=\"Helvetica,sans-Serif\" font-size=\"14.00\">samples = 28</text>\n<text text-anchor=\"start\" x=\"226\" y=\"-96.8\" font-family=\"Helvetica,sans-Serif\" font-size=\"14.00\">value = 94.75</text>\n</g>\n<!-- 3&#45;&gt;4 -->\n<g id=\"edge4\" class=\"edge\">\n<title>3&#45;&gt;4</title>\n<path fill=\"none\" stroke=\"black\" d=\"M458.18,-194.15C428.01,-183.07 393.99,-170.6 363.11,-159.26\"/>\n<polygon fill=\"black\" stroke=\"black\" points=\"364.23,-155.95 353.64,-155.79 361.82,-162.52 364.23,-155.95\"/>\n</g>\n<!-- 7 -->\n<g id=\"node8\" class=\"node\">\n<title>7</title>\n<path fill=\"#fefcfa\" stroke=\"black\" d=\"M616,-157C616,-157 474,-157 474,-157 468,-157 462,-151 462,-145 462,-145 462,-101 462,-101 462,-95 468,-89 474,-89 474,-89 616,-89 616,-89 622,-89 628,-95 628,-101 628,-101 628,-145 628,-145 628,-151 622,-157 616,-157\"/>\n<text text-anchor=\"start\" x=\"509\" y=\"-141.8\" font-family=\"Helvetica,sans-Serif\" font-size=\"14.00\">age ≤ 0.033</text>\n<text text-anchor=\"start\" x=\"470\" y=\"-126.8\" font-family=\"Helvetica,sans-Serif\" font-size=\"14.00\">squared_error = 508.712</text>\n<text text-anchor=\"start\" x=\"504\" y=\"-111.8\" font-family=\"Helvetica,sans-Serif\" font-size=\"14.00\">samples = 21</text>\n<text text-anchor=\"start\" x=\"500\" y=\"-96.8\" font-family=\"Helvetica,sans-Serif\" font-size=\"14.00\">value = 62.381</text>\n</g>\n<!-- 3&#45;&gt;7 -->\n<g id=\"edge7\" class=\"edge\">\n<title>3&#45;&gt;7</title>\n<path fill=\"none\" stroke=\"black\" d=\"M545,-192.88C545,-184.78 545,-175.98 545,-167.47\"/>\n<polygon fill=\"black\" stroke=\"black\" points=\"548.5,-167.3 545,-157.3 541.5,-167.3 548.5,-167.3\"/>\n</g>\n<!-- 5 -->\n<g id=\"node6\" class=\"node\">\n<title>5</title>\n<path fill=\"#fcf2eb\" stroke=\"black\" d=\"M154,-53C154,-53 12,-53 12,-53 6,-53 0,-47 0,-41 0,-41 0,-12 0,-12 0,-6 6,0 12,0 12,0 154,0 154,0 160,0 166,-6 166,-12 166,-12 166,-41 166,-41 166,-47 160,-53 154,-53\"/>\n<text text-anchor=\"start\" x=\"8\" y=\"-37.8\" font-family=\"Helvetica,sans-Serif\" font-size=\"14.00\">squared_error = 1058.16</text>\n<text text-anchor=\"start\" x=\"42\" y=\"-22.8\" font-family=\"Helvetica,sans-Serif\" font-size=\"14.00\">samples = 24</text>\n<text text-anchor=\"start\" x=\"38\" y=\"-7.8\" font-family=\"Helvetica,sans-Serif\" font-size=\"14.00\">value = 84.083</text>\n</g>\n<!-- 4&#45;&gt;5 -->\n<g id=\"edge5\" class=\"edge\">\n<title>4&#45;&gt;5</title>\n<path fill=\"none\" stroke=\"black\" d=\"M202.65,-88.95C182.87,-78.79 161.22,-67.67 141.84,-57.72\"/>\n<polygon fill=\"black\" stroke=\"black\" points=\"143.31,-54.54 132.82,-53.09 140.12,-60.77 143.31,-54.54\"/>\n</g>\n<!-- 6 -->\n<g id=\"node7\" class=\"node\">\n<title>6</title>\n<path fill=\"#f6d1b7\" stroke=\"black\" d=\"M338,-53C338,-53 196,-53 196,-53 190,-53 184,-47 184,-41 184,-41 184,-12 184,-12 184,-6 190,0 196,0 196,0 338,0 338,0 344,0 350,-6 350,-12 350,-12 350,-41 350,-41 350,-47 344,-53 338,-53\"/>\n<text text-anchor=\"start\" x=\"192\" y=\"-37.8\" font-family=\"Helvetica,sans-Serif\" font-size=\"14.00\">squared_error = 519.688</text>\n<text text-anchor=\"start\" x=\"229.5\" y=\"-22.8\" font-family=\"Helvetica,sans-Serif\" font-size=\"14.00\">samples = 4</text>\n<text text-anchor=\"start\" x=\"222\" y=\"-7.8\" font-family=\"Helvetica,sans-Serif\" font-size=\"14.00\">value = 158.75</text>\n</g>\n<!-- 4&#45;&gt;6 -->\n<g id=\"edge6\" class=\"edge\">\n<title>4&#45;&gt;6</title>\n<path fill=\"none\" stroke=\"black\" d=\"M267,-88.95C267,-80.72 267,-71.85 267,-63.48\"/>\n<polygon fill=\"black\" stroke=\"black\" points=\"270.5,-63.24 267,-53.24 263.5,-63.24 270.5,-63.24\"/>\n</g>\n<!-- 8 -->\n<g id=\"node9\" class=\"node\">\n<title>8</title>\n<path fill=\"#ffffff\" stroke=\"black\" d=\"M522,-53C522,-53 380,-53 380,-53 374,-53 368,-47 368,-41 368,-41 368,-12 368,-12 368,-6 374,0 380,0 380,0 522,0 522,0 528,0 534,-6 534,-12 534,-12 534,-41 534,-41 534,-47 528,-53 522,-53\"/>\n<text text-anchor=\"start\" x=\"376\" y=\"-37.8\" font-family=\"Helvetica,sans-Serif\" font-size=\"14.00\">squared_error = 243.307</text>\n<text text-anchor=\"start\" x=\"410\" y=\"-22.8\" font-family=\"Helvetica,sans-Serif\" font-size=\"14.00\">samples = 15</text>\n<text text-anchor=\"start\" x=\"413.5\" y=\"-7.8\" font-family=\"Helvetica,sans-Serif\" font-size=\"14.00\">value = 55.4</text>\n</g>\n<!-- 7&#45;&gt;8 -->\n<g id=\"edge8\" class=\"edge\">\n<title>7&#45;&gt;8</title>\n<path fill=\"none\" stroke=\"black\" d=\"M512.12,-88.95C502.93,-79.71 492.95,-69.67 483.76,-60.44\"/>\n<polygon fill=\"black\" stroke=\"black\" points=\"486.13,-57.86 476.6,-53.24 481.17,-62.79 486.13,-57.86\"/>\n</g>\n<!-- 9 -->\n<g id=\"node10\" class=\"node\">\n<title>9</title>\n<path fill=\"#fdf4ee\" stroke=\"black\" d=\"M706,-53C706,-53 564,-53 564,-53 558,-53 552,-47 552,-41 552,-41 552,-12 552,-12 552,-6 558,0 564,0 564,0 706,0 706,0 712,0 718,-6 718,-12 718,-12 718,-41 718,-41 718,-47 712,-53 706,-53\"/>\n<text text-anchor=\"start\" x=\"560\" y=\"-37.8\" font-family=\"Helvetica,sans-Serif\" font-size=\"14.00\">squared_error = 745.806</text>\n<text text-anchor=\"start\" x=\"597.5\" y=\"-22.8\" font-family=\"Helvetica,sans-Serif\" font-size=\"14.00\">samples = 6</text>\n<text text-anchor=\"start\" x=\"590\" y=\"-7.8\" font-family=\"Helvetica,sans-Serif\" font-size=\"14.00\">value = 79.833</text>\n</g>\n<!-- 7&#45;&gt;9 -->\n<g id=\"edge9\" class=\"edge\">\n<title>7&#45;&gt;9</title>\n<path fill=\"none\" stroke=\"black\" d=\"M576.48,-88.95C585.19,-79.8 594.65,-69.87 603.37,-60.71\"/>\n<polygon fill=\"black\" stroke=\"black\" points=\"606.13,-62.89 610.49,-53.24 601.06,-58.06 606.13,-62.89\"/>\n</g>\n<!-- 11 -->\n<g id=\"node12\" class=\"node\">\n<title>11</title>\n<path fill=\"#f9e2d1\" stroke=\"black\" d=\"M1083,-157C1083,-157 941,-157 941,-157 935,-157 929,-151 929,-145 929,-145 929,-101 929,-101 929,-95 935,-89 941,-89 941,-89 1083,-89 1083,-89 1089,-89 1095,-95 1095,-101 1095,-101 1095,-145 1095,-145 1095,-151 1089,-157 1083,-157\"/>\n<text text-anchor=\"start\" x=\"978\" y=\"-141.8\" font-family=\"Helvetica,sans-Serif\" font-size=\"14.00\">s1 ≤ &#45;0.052</text>\n<text text-anchor=\"start\" x=\"937\" y=\"-126.8\" font-family=\"Helvetica,sans-Serif\" font-size=\"14.00\">squared_error = 3012.59</text>\n<text text-anchor=\"start\" x=\"971\" y=\"-111.8\" font-family=\"Helvetica,sans-Serif\" font-size=\"14.00\">samples = 64</text>\n<text text-anchor=\"start\" x=\"963.5\" y=\"-96.8\" font-family=\"Helvetica,sans-Serif\" font-size=\"14.00\">value = 121.859</text>\n</g>\n<!-- 10&#45;&gt;11 -->\n<g id=\"edge11\" class=\"edge\">\n<title>10&#45;&gt;11</title>\n<path fill=\"none\" stroke=\"black\" d=\"M1075.48,-192.88C1067.19,-183.89 1058.12,-174.04 1049.49,-164.68\"/>\n<polygon fill=\"black\" stroke=\"black\" points=\"1052.04,-162.28 1042.69,-157.3 1046.89,-167.02 1052.04,-162.28\"/>\n</g>\n<!-- 14 -->\n<g id=\"node15\" class=\"node\">\n<title>14</title>\n<path fill=\"#fcf0e7\" stroke=\"black\" d=\"M1274.5,-157C1274.5,-157 1125.5,-157 1125.5,-157 1119.5,-157 1113.5,-151 1113.5,-145 1113.5,-145 1113.5,-101 1113.5,-101 1113.5,-95 1119.5,-89 1125.5,-89 1125.5,-89 1274.5,-89 1274.5,-89 1280.5,-89 1286.5,-95 1286.5,-101 1286.5,-101 1286.5,-145 1286.5,-145 1286.5,-151 1280.5,-157 1274.5,-157\"/>\n<text text-anchor=\"start\" x=\"1164\" y=\"-141.8\" font-family=\"Helvetica,sans-Serif\" font-size=\"14.00\">age ≤ 0.004</text>\n<text text-anchor=\"start\" x=\"1121.5\" y=\"-126.8\" font-family=\"Helvetica,sans-Serif\" font-size=\"14.00\">squared_error = 1198.991</text>\n<text text-anchor=\"start\" x=\"1159\" y=\"-111.8\" font-family=\"Helvetica,sans-Serif\" font-size=\"14.00\">samples = 39</text>\n<text text-anchor=\"start\" x=\"1155\" y=\"-96.8\" font-family=\"Helvetica,sans-Serif\" font-size=\"14.00\">value = 90.333</text>\n</g>\n<!-- 10&#45;&gt;14 -->\n<g id=\"edge14\" class=\"edge\">\n<title>10&#45;&gt;14</title>\n<path fill=\"none\" stroke=\"black\" d=\"M1136.52,-192.88C1144.81,-183.89 1153.88,-174.04 1162.51,-164.68\"/>\n<polygon fill=\"black\" stroke=\"black\" points=\"1165.11,-167.02 1169.31,-157.3 1159.96,-162.28 1165.11,-167.02\"/>\n</g>\n<!-- 12 -->\n<g id=\"node13\" class=\"node\">\n<title>12</title>\n<path fill=\"#f6d2b8\" stroke=\"black\" d=\"M897.5,-53C897.5,-53 748.5,-53 748.5,-53 742.5,-53 736.5,-47 736.5,-41 736.5,-41 736.5,-12 736.5,-12 736.5,-6 742.5,0 748.5,0 748.5,0 897.5,0 897.5,0 903.5,0 909.5,-6 909.5,-12 909.5,-12 909.5,-41 909.5,-41 909.5,-47 903.5,-53 897.5,-53\"/>\n<text text-anchor=\"start\" x=\"744.5\" y=\"-37.8\" font-family=\"Helvetica,sans-Serif\" font-size=\"14.00\">squared_error = 2353.056</text>\n<text text-anchor=\"start\" x=\"782\" y=\"-22.8\" font-family=\"Helvetica,sans-Serif\" font-size=\"14.00\">samples = 12</text>\n<text text-anchor=\"start\" x=\"774.5\" y=\"-7.8\" font-family=\"Helvetica,sans-Serif\" font-size=\"14.00\">value = 157.667</text>\n</g>\n<!-- 11&#45;&gt;12 -->\n<g id=\"edge12\" class=\"edge\">\n<title>11&#45;&gt;12</title>\n<path fill=\"none\" stroke=\"black\" d=\"M945.9,-88.95C925.5,-78.75 903.15,-67.57 883.17,-57.59\"/>\n<polygon fill=\"black\" stroke=\"black\" points=\"884.68,-54.43 874.17,-53.09 881.55,-60.69 884.68,-54.43\"/>\n</g>\n<!-- 13 -->\n<g id=\"node14\" class=\"node\">\n<title>13</title>\n<path fill=\"#fae5d6\" stroke=\"black\" d=\"M1088.5,-53C1088.5,-53 939.5,-53 939.5,-53 933.5,-53 927.5,-47 927.5,-41 927.5,-41 927.5,-12 927.5,-12 927.5,-6 933.5,0 939.5,0 939.5,0 1088.5,0 1088.5,0 1094.5,0 1100.5,-6 1100.5,-12 1100.5,-12 1100.5,-41 1100.5,-41 1100.5,-47 1094.5,-53 1088.5,-53\"/>\n<text text-anchor=\"start\" x=\"935.5\" y=\"-37.8\" font-family=\"Helvetica,sans-Serif\" font-size=\"14.00\">squared_error = 2800.625</text>\n<text text-anchor=\"start\" x=\"973\" y=\"-22.8\" font-family=\"Helvetica,sans-Serif\" font-size=\"14.00\">samples = 52</text>\n<text text-anchor=\"start\" x=\"965.5\" y=\"-7.8\" font-family=\"Helvetica,sans-Serif\" font-size=\"14.00\">value = 113.596</text>\n</g>\n<!-- 11&#45;&gt;13 -->\n<g id=\"edge13\" class=\"edge\">\n<title>11&#45;&gt;13</title>\n<path fill=\"none\" stroke=\"black\" d=\"M1012.7,-88.95C1012.87,-80.72 1013.06,-71.85 1013.24,-63.48\"/>\n<polygon fill=\"black\" stroke=\"black\" points=\"1016.74,-63.31 1013.46,-53.24 1009.74,-63.16 1016.74,-63.31\"/>\n</g>\n<!-- 15 -->\n<g id=\"node16\" class=\"node\">\n<title>15</title>\n<path fill=\"#fdf6f1\" stroke=\"black\" d=\"M1265,-53C1265,-53 1131,-53 1131,-53 1125,-53 1119,-47 1119,-41 1119,-41 1119,-12 1119,-12 1119,-6 1125,0 1131,0 1131,0 1265,0 1265,0 1271,0 1277,-6 1277,-12 1277,-12 1277,-41 1277,-41 1277,-47 1271,-53 1265,-53\"/>\n<text text-anchor=\"start\" x=\"1127\" y=\"-37.8\" font-family=\"Helvetica,sans-Serif\" font-size=\"14.00\">squared_error = 683.84</text>\n<text text-anchor=\"start\" x=\"1157\" y=\"-22.8\" font-family=\"Helvetica,sans-Serif\" font-size=\"14.00\">samples = 20</text>\n<text text-anchor=\"start\" x=\"1160.5\" y=\"-7.8\" font-family=\"Helvetica,sans-Serif\" font-size=\"14.00\">value = 75.6</text>\n</g>\n<!-- 14&#45;&gt;15 -->\n<g id=\"edge15\" class=\"edge\">\n<title>14&#45;&gt;15</title>\n<path fill=\"none\" stroke=\"black\" d=\"M1199.3,-88.95C1199.13,-80.72 1198.94,-71.85 1198.76,-63.48\"/>\n<polygon fill=\"black\" stroke=\"black\" points=\"1202.26,-63.16 1198.54,-53.24 1195.26,-63.31 1202.26,-63.16\"/>\n</g>\n<!-- 16 -->\n<g id=\"node17\" class=\"node\">\n<title>16</title>\n<path fill=\"#fae9dc\" stroke=\"black\" d=\"M1456.5,-53C1456.5,-53 1307.5,-53 1307.5,-53 1301.5,-53 1295.5,-47 1295.5,-41 1295.5,-41 1295.5,-12 1295.5,-12 1295.5,-6 1301.5,0 1307.5,0 1307.5,0 1456.5,0 1456.5,0 1462.5,0 1468.5,-6 1468.5,-12 1468.5,-12 1468.5,-41 1468.5,-41 1468.5,-47 1462.5,-53 1456.5,-53\"/>\n<text text-anchor=\"start\" x=\"1303.5\" y=\"-37.8\" font-family=\"Helvetica,sans-Serif\" font-size=\"14.00\">squared_error = 1272.238</text>\n<text text-anchor=\"start\" x=\"1341\" y=\"-22.8\" font-family=\"Helvetica,sans-Serif\" font-size=\"14.00\">samples = 19</text>\n<text text-anchor=\"start\" x=\"1333.5\" y=\"-7.8\" font-family=\"Helvetica,sans-Serif\" font-size=\"14.00\">value = 105.842</text>\n</g>\n<!-- 14&#45;&gt;16 -->\n<g id=\"edge16\" class=\"edge\">\n<title>14&#45;&gt;16</title>\n<path fill=\"none\" stroke=\"black\" d=\"M1263.65,-88.95C1283.21,-78.79 1304.63,-67.67 1323.8,-57.72\"/>\n<polygon fill=\"black\" stroke=\"black\" points=\"1325.46,-60.8 1332.72,-53.09 1322.23,-54.59 1325.46,-60.8\"/>\n</g>\n<!-- 18 -->\n<g id=\"node19\" class=\"node\">\n<title>18</title>\n<path fill=\"#f5d1b6\" stroke=\"black\" d=\"M2010.5,-261C2010.5,-261 1861.5,-261 1861.5,-261 1855.5,-261 1849.5,-255 1849.5,-249 1849.5,-249 1849.5,-205 1849.5,-205 1849.5,-199 1855.5,-193 1861.5,-193 1861.5,-193 2010.5,-193 2010.5,-193 2016.5,-193 2022.5,-199 2022.5,-205 2022.5,-205 2022.5,-249 2022.5,-249 2022.5,-255 2016.5,-261 2010.5,-261\"/>\n<text text-anchor=\"start\" x=\"1905.5\" y=\"-245.8\" font-family=\"Helvetica,sans-Serif\" font-size=\"14.00\">age ≤ &#45;0.0</text>\n<text text-anchor=\"start\" x=\"1857.5\" y=\"-230.8\" font-family=\"Helvetica,sans-Serif\" font-size=\"14.00\">squared_error = 3601.615</text>\n<text text-anchor=\"start\" x=\"1895\" y=\"-215.8\" font-family=\"Helvetica,sans-Serif\" font-size=\"14.00\">samples = 54</text>\n<text text-anchor=\"start\" x=\"1887.5\" y=\"-200.8\" font-family=\"Helvetica,sans-Serif\" font-size=\"14.00\">value = 159.574</text>\n</g>\n<!-- 17&#45;&gt;18 -->\n<g id=\"edge18\" class=\"edge\">\n<title>17&#45;&gt;18</title>\n<path fill=\"none\" stroke=\"black\" d=\"M2001.51,-296.88C1992.95,-287.89 1983.59,-278.04 1974.68,-268.68\"/>\n<polygon fill=\"black\" stroke=\"black\" points=\"1977.09,-266.13 1967.67,-261.3 1972.02,-270.96 1977.09,-266.13\"/>\n</g>\n<!-- 25 -->\n<g id=\"node26\" class=\"node\">\n<title>25</title>\n<path fill=\"#eda673\" stroke=\"black\" d=\"M2202,-261C2202,-261 2060,-261 2060,-261 2054,-261 2048,-255 2048,-249 2048,-249 2048,-205 2048,-205 2048,-199 2054,-193 2060,-193 2060,-193 2202,-193 2202,-193 2208,-193 2214,-199 2214,-205 2214,-205 2214,-249 2214,-249 2214,-255 2208,-261 2202,-261\"/>\n<text text-anchor=\"start\" x=\"2100.5\" y=\"-245.8\" font-family=\"Helvetica,sans-Serif\" font-size=\"14.00\">s3 ≤ &#45;0.06</text>\n<text text-anchor=\"start\" x=\"2056\" y=\"-230.8\" font-family=\"Helvetica,sans-Serif\" font-size=\"14.00\">squared_error = 696.222</text>\n<text text-anchor=\"start\" x=\"2093.5\" y=\"-215.8\" font-family=\"Helvetica,sans-Serif\" font-size=\"14.00\">samples = 3</text>\n<text text-anchor=\"start\" x=\"2082.5\" y=\"-200.8\" font-family=\"Helvetica,sans-Serif\" font-size=\"14.00\">value = 256.333</text>\n</g>\n<!-- 17&#45;&gt;25 -->\n<g id=\"edge25\" class=\"edge\">\n<title>17&#45;&gt;25</title>\n<path fill=\"none\" stroke=\"black\" d=\"M2064.82,-296.88C2073.46,-287.89 2082.92,-278.04 2091.92,-268.68\"/>\n<polygon fill=\"black\" stroke=\"black\" points=\"2094.6,-270.94 2099.01,-261.3 2089.55,-266.09 2094.6,-270.94\"/>\n</g>\n<!-- 19 -->\n<g id=\"node20\" class=\"node\">\n<title>19</title>\n<path fill=\"#f8dcc8\" stroke=\"black\" d=\"M1813,-157C1813,-157 1671,-157 1671,-157 1665,-157 1659,-151 1659,-145 1659,-145 1659,-101 1659,-101 1659,-95 1665,-89 1671,-89 1671,-89 1813,-89 1813,-89 1819,-89 1825,-95 1825,-101 1825,-101 1825,-145 1825,-145 1825,-151 1819,-157 1813,-157\"/>\n<text text-anchor=\"start\" x=\"1704\" y=\"-141.8\" font-family=\"Helvetica,sans-Serif\" font-size=\"14.00\">age ≤ &#45;0.055</text>\n<text text-anchor=\"start\" x=\"1667\" y=\"-126.8\" font-family=\"Helvetica,sans-Serif\" font-size=\"14.00\">squared_error = 2098.63</text>\n<text text-anchor=\"start\" x=\"1701\" y=\"-111.8\" font-family=\"Helvetica,sans-Serif\" font-size=\"14.00\">samples = 21</text>\n<text text-anchor=\"start\" x=\"1697\" y=\"-96.8\" font-family=\"Helvetica,sans-Serif\" font-size=\"14.00\">value = 134.81</text>\n</g>\n<!-- 18&#45;&gt;19 -->\n<g id=\"edge19\" class=\"edge\">\n<title>18&#45;&gt;19</title>\n<path fill=\"none\" stroke=\"black\" d=\"M1873.01,-192.88C1854.2,-182.99 1833.43,-172.07 1814.08,-161.9\"/>\n<polygon fill=\"black\" stroke=\"black\" points=\"1815.48,-158.68 1805,-157.12 1812.22,-164.88 1815.48,-158.68\"/>\n</g>\n<!-- 22 -->\n<g id=\"node23\" class=\"node\">\n<title>22</title>\n<path fill=\"#f4caab\" stroke=\"black\" d=\"M2010.5,-157C2010.5,-157 1861.5,-157 1861.5,-157 1855.5,-157 1849.5,-151 1849.5,-145 1849.5,-145 1849.5,-101 1849.5,-101 1849.5,-95 1855.5,-89 1861.5,-89 1861.5,-89 2010.5,-89 2010.5,-89 2016.5,-89 2022.5,-95 2022.5,-101 2022.5,-101 2022.5,-145 2022.5,-145 2022.5,-151 2016.5,-157 2010.5,-157\"/>\n<text text-anchor=\"start\" x=\"1902\" y=\"-141.8\" font-family=\"Helvetica,sans-Serif\" font-size=\"14.00\">s1 ≤ &#45;0.009</text>\n<text text-anchor=\"start\" x=\"1857.5\" y=\"-126.8\" font-family=\"Helvetica,sans-Serif\" font-size=\"14.00\">squared_error = 3919.434</text>\n<text text-anchor=\"start\" x=\"1895\" y=\"-111.8\" font-family=\"Helvetica,sans-Serif\" font-size=\"14.00\">samples = 33</text>\n<text text-anchor=\"start\" x=\"1887.5\" y=\"-96.8\" font-family=\"Helvetica,sans-Serif\" font-size=\"14.00\">value = 175.333</text>\n</g>\n<!-- 18&#45;&gt;22 -->\n<g id=\"edge22\" class=\"edge\">\n<title>18&#45;&gt;22</title>\n<path fill=\"none\" stroke=\"black\" d=\"M1936,-192.88C1936,-184.78 1936,-175.98 1936,-167.47\"/>\n<polygon fill=\"black\" stroke=\"black\" points=\"1939.5,-167.3 1936,-157.3 1932.5,-167.3 1939.5,-167.3\"/>\n</g>\n<!-- 20 -->\n<g id=\"node21\" class=\"node\">\n<title>20</title>\n<path fill=\"#f2c19e\" stroke=\"black\" d=\"M1625.5,-53C1625.5,-53 1498.5,-53 1498.5,-53 1492.5,-53 1486.5,-47 1486.5,-41 1486.5,-41 1486.5,-12 1486.5,-12 1486.5,-6 1492.5,0 1498.5,0 1498.5,0 1625.5,0 1625.5,0 1631.5,0 1637.5,-6 1637.5,-12 1637.5,-12 1637.5,-41 1637.5,-41 1637.5,-47 1631.5,-53 1625.5,-53\"/>\n<text text-anchor=\"start\" x=\"1494.5\" y=\"-37.8\" font-family=\"Helvetica,sans-Serif\" font-size=\"14.00\">squared_error = 134.0</text>\n<text text-anchor=\"start\" x=\"1524.5\" y=\"-22.8\" font-family=\"Helvetica,sans-Serif\" font-size=\"14.00\">samples = 3</text>\n<text text-anchor=\"start\" x=\"1521\" y=\"-7.8\" font-family=\"Helvetica,sans-Serif\" font-size=\"14.00\">value = 195.0</text>\n</g>\n<!-- 19&#45;&gt;20 -->\n<g id=\"edge20\" class=\"edge\">\n<title>19&#45;&gt;20</title>\n<path fill=\"none\" stroke=\"black\" d=\"M1679.04,-88.95C1659.79,-78.84 1638.72,-67.78 1619.82,-57.86\"/>\n<polygon fill=\"black\" stroke=\"black\" points=\"1621.22,-54.64 1610.74,-53.09 1617.96,-60.83 1621.22,-54.64\"/>\n</g>\n<!-- 21 -->\n<g id=\"node22\" class=\"node\">\n<title>21</title>\n<path fill=\"#f9e0cf\" stroke=\"black\" d=\"M1816.5,-53C1816.5,-53 1667.5,-53 1667.5,-53 1661.5,-53 1655.5,-47 1655.5,-41 1655.5,-41 1655.5,-12 1655.5,-12 1655.5,-6 1661.5,0 1667.5,0 1667.5,0 1816.5,0 1816.5,0 1822.5,0 1828.5,-6 1828.5,-12 1828.5,-12 1828.5,-41 1828.5,-41 1828.5,-47 1822.5,-53 1816.5,-53\"/>\n<text text-anchor=\"start\" x=\"1663.5\" y=\"-37.8\" font-family=\"Helvetica,sans-Serif\" font-size=\"14.00\">squared_error = 1721.617</text>\n<text text-anchor=\"start\" x=\"1701\" y=\"-22.8\" font-family=\"Helvetica,sans-Serif\" font-size=\"14.00\">samples = 18</text>\n<text text-anchor=\"start\" x=\"1693.5\" y=\"-7.8\" font-family=\"Helvetica,sans-Serif\" font-size=\"14.00\">value = 124.778</text>\n</g>\n<!-- 19&#45;&gt;21 -->\n<g id=\"edge21\" class=\"edge\">\n<title>19&#45;&gt;21</title>\n<path fill=\"none\" stroke=\"black\" d=\"M1742,-88.95C1742,-80.72 1742,-71.85 1742,-63.48\"/>\n<polygon fill=\"black\" stroke=\"black\" points=\"1745.5,-63.24 1742,-53.24 1738.5,-63.24 1745.5,-63.24\"/>\n</g>\n<!-- 23 -->\n<g id=\"node24\" class=\"node\">\n<title>23</title>\n<path fill=\"#eead7e\" stroke=\"black\" d=\"M2007.5,-53C2007.5,-53 1858.5,-53 1858.5,-53 1852.5,-53 1846.5,-47 1846.5,-41 1846.5,-41 1846.5,-12 1846.5,-12 1846.5,-6 1852.5,0 1858.5,0 1858.5,0 2007.5,0 2007.5,0 2013.5,0 2019.5,-6 2019.5,-12 2019.5,-12 2019.5,-41 2019.5,-41 2019.5,-47 2013.5,-53 2007.5,-53\"/>\n<text text-anchor=\"start\" x=\"1854.5\" y=\"-37.8\" font-family=\"Helvetica,sans-Serif\" font-size=\"14.00\">squared_error = 1584.245</text>\n<text text-anchor=\"start\" x=\"1895.5\" y=\"-22.8\" font-family=\"Helvetica,sans-Serif\" font-size=\"14.00\">samples = 7</text>\n<text text-anchor=\"start\" x=\"1884.5\" y=\"-7.8\" font-family=\"Helvetica,sans-Serif\" font-size=\"14.00\">value = 240.429</text>\n</g>\n<!-- 22&#45;&gt;23 -->\n<g id=\"edge23\" class=\"edge\">\n<title>22&#45;&gt;23</title>\n<path fill=\"none\" stroke=\"black\" d=\"M1934.95,-88.95C1934.69,-80.72 1934.41,-71.85 1934.14,-63.48\"/>\n<polygon fill=\"black\" stroke=\"black\" points=\"1937.63,-63.12 1933.82,-53.24 1930.64,-63.34 1937.63,-63.12\"/>\n</g>\n<!-- 24 -->\n<g id=\"node25\" class=\"node\">\n<title>24</title>\n<path fill=\"#f6d2b8\" stroke=\"black\" d=\"M2198.5,-53C2198.5,-53 2049.5,-53 2049.5,-53 2043.5,-53 2037.5,-47 2037.5,-41 2037.5,-41 2037.5,-12 2037.5,-12 2037.5,-6 2043.5,0 2049.5,0 2049.5,0 2198.5,0 2198.5,0 2204.5,0 2210.5,-6 2210.5,-12 2210.5,-12 2210.5,-41 2210.5,-41 2210.5,-47 2204.5,-53 2198.5,-53\"/>\n<text text-anchor=\"start\" x=\"2045.5\" y=\"-37.8\" font-family=\"Helvetica,sans-Serif\" font-size=\"14.00\">squared_error = 3100.155</text>\n<text text-anchor=\"start\" x=\"2083\" y=\"-22.8\" font-family=\"Helvetica,sans-Serif\" font-size=\"14.00\">samples = 26</text>\n<text text-anchor=\"start\" x=\"2075.5\" y=\"-7.8\" font-family=\"Helvetica,sans-Serif\" font-size=\"14.00\">value = 157.808</text>\n</g>\n<!-- 22&#45;&gt;24 -->\n<g id=\"edge24\" class=\"edge\">\n<title>22&#45;&gt;24</title>\n<path fill=\"none\" stroke=\"black\" d=\"M2001.75,-88.95C2022.05,-78.75 2044.28,-67.57 2064.15,-57.59\"/>\n<polygon fill=\"black\" stroke=\"black\" points=\"2065.73,-60.71 2073.1,-53.09 2062.59,-54.45 2065.73,-60.71\"/>\n</g>\n<!-- 26 -->\n<g id=\"node27\" class=\"node\">\n<title>26</title>\n<path fill=\"#e9965a\" stroke=\"black\" d=\"M2187,-149.5C2187,-149.5 2075,-149.5 2075,-149.5 2069,-149.5 2063,-143.5 2063,-137.5 2063,-137.5 2063,-108.5 2063,-108.5 2063,-102.5 2069,-96.5 2075,-96.5 2075,-96.5 2187,-96.5 2187,-96.5 2193,-96.5 2199,-102.5 2199,-108.5 2199,-108.5 2199,-137.5 2199,-137.5 2199,-143.5 2193,-149.5 2187,-149.5\"/>\n<text text-anchor=\"start\" x=\"2071\" y=\"-134.3\" font-family=\"Helvetica,sans-Serif\" font-size=\"14.00\">squared_error = 0.0</text>\n<text text-anchor=\"start\" x=\"2093.5\" y=\"-119.3\" font-family=\"Helvetica,sans-Serif\" font-size=\"14.00\">samples = 1</text>\n<text text-anchor=\"start\" x=\"2090\" y=\"-104.3\" font-family=\"Helvetica,sans-Serif\" font-size=\"14.00\">value = 292.0</text>\n</g>\n<!-- 25&#45;&gt;26 -->\n<g id=\"edge26\" class=\"edge\">\n<title>25&#45;&gt;26</title>\n<path fill=\"none\" stroke=\"black\" d=\"M2131,-192.88C2131,-182.33 2131,-170.6 2131,-159.85\"/>\n<polygon fill=\"black\" stroke=\"black\" points=\"2134.5,-159.52 2131,-149.52 2127.5,-159.52 2134.5,-159.52\"/>\n</g>\n<!-- 27 -->\n<g id=\"node28\" class=\"node\">\n<title>27</title>\n<path fill=\"#eeae7f\" stroke=\"black\" d=\"M2360.5,-157C2360.5,-157 2233.5,-157 2233.5,-157 2227.5,-157 2221.5,-151 2221.5,-145 2221.5,-145 2221.5,-101 2221.5,-101 2221.5,-95 2227.5,-89 2233.5,-89 2233.5,-89 2360.5,-89 2360.5,-89 2366.5,-89 2372.5,-95 2372.5,-101 2372.5,-101 2372.5,-145 2372.5,-145 2372.5,-151 2366.5,-157 2360.5,-157\"/>\n<text text-anchor=\"start\" x=\"2263\" y=\"-141.8\" font-family=\"Helvetica,sans-Serif\" font-size=\"14.00\">s3 ≤ &#45;0.051</text>\n<text text-anchor=\"start\" x=\"2229.5\" y=\"-126.8\" font-family=\"Helvetica,sans-Serif\" font-size=\"14.00\">squared_error = 90.25</text>\n<text text-anchor=\"start\" x=\"2259.5\" y=\"-111.8\" font-family=\"Helvetica,sans-Serif\" font-size=\"14.00\">samples = 2</text>\n<text text-anchor=\"start\" x=\"2256\" y=\"-96.8\" font-family=\"Helvetica,sans-Serif\" font-size=\"14.00\">value = 238.5</text>\n</g>\n<!-- 25&#45;&gt;27 -->\n<g id=\"edge27\" class=\"edge\">\n<title>25&#45;&gt;27</title>\n<path fill=\"none\" stroke=\"black\" d=\"M2184.9,-192.88C2200.63,-183.21 2217.97,-172.56 2234.2,-162.59\"/>\n<polygon fill=\"black\" stroke=\"black\" points=\"2236.4,-165.34 2243.09,-157.12 2232.74,-159.38 2236.4,-165.34\"/>\n</g>\n<!-- 28 -->\n<g id=\"node29\" class=\"node\">\n<title>28</title>\n<path fill=\"#edaa79\" stroke=\"black\" d=\"M2353,-53C2353,-53 2241,-53 2241,-53 2235,-53 2229,-47 2229,-41 2229,-41 2229,-12 2229,-12 2229,-6 2235,0 2241,0 2241,0 2353,0 2353,0 2359,0 2365,-6 2365,-12 2365,-12 2365,-41 2365,-41 2365,-47 2359,-53 2353,-53\"/>\n<text text-anchor=\"start\" x=\"2237\" y=\"-37.8\" font-family=\"Helvetica,sans-Serif\" font-size=\"14.00\">squared_error = 0.0</text>\n<text text-anchor=\"start\" x=\"2259.5\" y=\"-22.8\" font-family=\"Helvetica,sans-Serif\" font-size=\"14.00\">samples = 1</text>\n<text text-anchor=\"start\" x=\"2256\" y=\"-7.8\" font-family=\"Helvetica,sans-Serif\" font-size=\"14.00\">value = 248.0</text>\n</g>\n<!-- 27&#45;&gt;28 -->\n<g id=\"edge28\" class=\"edge\">\n<title>27&#45;&gt;28</title>\n<path fill=\"none\" stroke=\"black\" d=\"M2297,-88.95C2297,-80.72 2297,-71.85 2297,-63.48\"/>\n<polygon fill=\"black\" stroke=\"black\" points=\"2300.5,-63.24 2297,-53.24 2293.5,-63.24 2300.5,-63.24\"/>\n</g>\n<!-- 29 -->\n<g id=\"node30\" class=\"node\">\n<title>29</title>\n<path fill=\"#efb286\" stroke=\"black\" d=\"M2507,-53C2507,-53 2395,-53 2395,-53 2389,-53 2383,-47 2383,-41 2383,-41 2383,-12 2383,-12 2383,-6 2389,0 2395,0 2395,0 2507,0 2507,0 2513,0 2519,-6 2519,-12 2519,-12 2519,-41 2519,-41 2519,-47 2513,-53 2507,-53\"/>\n<text text-anchor=\"start\" x=\"2391\" y=\"-37.8\" font-family=\"Helvetica,sans-Serif\" font-size=\"14.00\">squared_error = 0.0</text>\n<text text-anchor=\"start\" x=\"2413.5\" y=\"-22.8\" font-family=\"Helvetica,sans-Serif\" font-size=\"14.00\">samples = 1</text>\n<text text-anchor=\"start\" x=\"2410\" y=\"-7.8\" font-family=\"Helvetica,sans-Serif\" font-size=\"14.00\">value = 229.0</text>\n</g>\n<!-- 27&#45;&gt;29 -->\n<g id=\"edge29\" class=\"edge\">\n<title>27&#45;&gt;29</title>\n<path fill=\"none\" stroke=\"black\" d=\"M2350.86,-88.95C2366.96,-79.07 2384.55,-68.28 2400.43,-58.53\"/>\n<polygon fill=\"black\" stroke=\"black\" points=\"2402.37,-61.45 2409.06,-53.24 2398.7,-55.48 2402.37,-61.45\"/>\n</g>\n<!-- 31 -->\n<g id=\"node32\" class=\"node\">\n<title>31</title>\n<path fill=\"#f3c3a0\" stroke=\"black\" d=\"M3252.5,-365C3252.5,-365 3103.5,-365 3103.5,-365 3097.5,-365 3091.5,-359 3091.5,-353 3091.5,-353 3091.5,-309 3091.5,-309 3091.5,-303 3097.5,-297 3103.5,-297 3103.5,-297 3252.5,-297 3252.5,-297 3258.5,-297 3264.5,-303 3264.5,-309 3264.5,-309 3264.5,-353 3264.5,-353 3264.5,-359 3258.5,-365 3252.5,-365\"/>\n<text text-anchor=\"start\" x=\"3146\" y=\"-349.8\" font-family=\"Helvetica,sans-Serif\" font-size=\"14.00\">s6 ≤ 0.034</text>\n<text text-anchor=\"start\" x=\"3099.5\" y=\"-334.8\" font-family=\"Helvetica,sans-Serif\" font-size=\"14.00\">squared_error = 4557.346</text>\n<text text-anchor=\"start\" x=\"3133\" y=\"-319.8\" font-family=\"Helvetica,sans-Serif\" font-size=\"14.00\">samples = 118</text>\n<text text-anchor=\"start\" x=\"3129.5\" y=\"-304.8\" font-family=\"Helvetica,sans-Serif\" font-size=\"14.00\">value = 191.102</text>\n</g>\n<!-- 30&#45;&gt;31 -->\n<g id=\"edge31\" class=\"edge\">\n<title>30&#45;&gt;31</title>\n<path fill=\"none\" stroke=\"black\" d=\"M3178,-400.88C3178,-392.78 3178,-383.98 3178,-375.47\"/>\n<polygon fill=\"black\" stroke=\"black\" points=\"3181.5,-375.3 3178,-365.3 3174.5,-375.3 3181.5,-375.3\"/>\n</g>\n<!-- 46 -->\n<g id=\"node47\" class=\"node\">\n<title>46</title>\n<path fill=\"#eb9f69\" stroke=\"black\" d=\"M4370.5,-365C4370.5,-365 4221.5,-365 4221.5,-365 4215.5,-365 4209.5,-359 4209.5,-353 4209.5,-353 4209.5,-309 4209.5,-309 4209.5,-303 4215.5,-297 4221.5,-297 4221.5,-297 4370.5,-297 4370.5,-297 4376.5,-297 4382.5,-303 4382.5,-309 4382.5,-309 4382.5,-353 4382.5,-353 4382.5,-359 4376.5,-365 4370.5,-365\"/>\n<text text-anchor=\"start\" x=\"4264\" y=\"-349.8\" font-family=\"Helvetica,sans-Serif\" font-size=\"14.00\">s2 ≤ 0.022</text>\n<text text-anchor=\"start\" x=\"4217.5\" y=\"-334.8\" font-family=\"Helvetica,sans-Serif\" font-size=\"14.00\">squared_error = 2428.302</text>\n<text text-anchor=\"start\" x=\"4255\" y=\"-319.8\" font-family=\"Helvetica,sans-Serif\" font-size=\"14.00\">samples = 26</text>\n<text text-anchor=\"start\" x=\"4247.5\" y=\"-304.8\" font-family=\"Helvetica,sans-Serif\" font-size=\"14.00\">value = 271.077</text>\n</g>\n<!-- 30&#45;&gt;46 -->\n<g id=\"edge46\" class=\"edge\">\n<title>30&#45;&gt;46</title>\n<path fill=\"none\" stroke=\"black\" d=\"M3264.8,-426.08C3470.09,-407.35 3984.36,-360.43 4199.25,-340.83\"/>\n<polygon fill=\"black\" stroke=\"black\" points=\"4199.62,-344.31 4209.26,-339.91 4198.98,-337.34 4199.62,-344.31\"/>\n</g>\n<!-- 32 -->\n<g id=\"node33\" class=\"node\">\n<title>32</title>\n<path fill=\"#f4caab\" stroke=\"black\" d=\"M3167.5,-261C3167.5,-261 3018.5,-261 3018.5,-261 3012.5,-261 3006.5,-255 3006.5,-249 3006.5,-249 3006.5,-205 3006.5,-205 3006.5,-199 3012.5,-193 3018.5,-193 3018.5,-193 3167.5,-193 3167.5,-193 3173.5,-193 3179.5,-199 3179.5,-205 3179.5,-205 3179.5,-249 3179.5,-249 3179.5,-255 3173.5,-261 3167.5,-261\"/>\n<text text-anchor=\"start\" x=\"3059\" y=\"-245.8\" font-family=\"Helvetica,sans-Serif\" font-size=\"14.00\">s5 ≤ &#45;0.038</text>\n<text text-anchor=\"start\" x=\"3014.5\" y=\"-230.8\" font-family=\"Helvetica,sans-Serif\" font-size=\"14.00\">squared_error = 4005.619</text>\n<text text-anchor=\"start\" x=\"3052\" y=\"-215.8\" font-family=\"Helvetica,sans-Serif\" font-size=\"14.00\">samples = 85</text>\n<text text-anchor=\"start\" x=\"3052\" y=\"-200.8\" font-family=\"Helvetica,sans-Serif\" font-size=\"14.00\">value = 175.8</text>\n</g>\n<!-- 31&#45;&gt;32 -->\n<g id=\"edge32\" class=\"edge\">\n<title>31&#45;&gt;32</title>\n<path fill=\"none\" stroke=\"black\" d=\"M3150.4,-296.88C3143.05,-288.07 3135.03,-278.43 3127.36,-269.24\"/>\n<polygon fill=\"black\" stroke=\"black\" points=\"3129.84,-266.74 3120.75,-261.3 3124.46,-271.22 3129.84,-266.74\"/>\n</g>\n<!-- 39 -->\n<g id=\"node40\" class=\"node\">\n<title>39</title>\n<path fill=\"#efb185\" stroke=\"black\" d=\"M3509.5,-261C3509.5,-261 3360.5,-261 3360.5,-261 3354.5,-261 3348.5,-255 3348.5,-249 3348.5,-249 3348.5,-205 3348.5,-205 3348.5,-199 3354.5,-193 3360.5,-193 3360.5,-193 3509.5,-193 3509.5,-193 3515.5,-193 3521.5,-199 3521.5,-205 3521.5,-205 3521.5,-249 3521.5,-249 3521.5,-255 3515.5,-261 3509.5,-261\"/>\n<text text-anchor=\"start\" x=\"3410.5\" y=\"-245.8\" font-family=\"Helvetica,sans-Serif\" font-size=\"14.00\">s5 ≤ 0.0</text>\n<text text-anchor=\"start\" x=\"3356.5\" y=\"-230.8\" font-family=\"Helvetica,sans-Serif\" font-size=\"14.00\">squared_error = 3821.947</text>\n<text text-anchor=\"start\" x=\"3394\" y=\"-215.8\" font-family=\"Helvetica,sans-Serif\" font-size=\"14.00\">samples = 33</text>\n<text text-anchor=\"start\" x=\"3386.5\" y=\"-200.8\" font-family=\"Helvetica,sans-Serif\" font-size=\"14.00\">value = 230.515</text>\n</g>\n<!-- 31&#45;&gt;39 -->\n<g id=\"edge39\" class=\"edge\">\n<title>31&#45;&gt;39</title>\n<path fill=\"none\" stroke=\"black\" d=\"M3261.44,-296.88C3287.16,-286.68 3315.63,-275.38 3341.95,-264.93\"/>\n<polygon fill=\"black\" stroke=\"black\" points=\"3343.54,-268.07 3351.54,-261.12 3340.95,-261.56 3343.54,-268.07\"/>\n</g>\n<!-- 33 -->\n<g id=\"node34\" class=\"node\">\n<title>33</title>\n<path fill=\"#f9e1d0\" stroke=\"black\" d=\"M2879,-157C2879,-157 2737,-157 2737,-157 2731,-157 2725,-151 2725,-145 2725,-145 2725,-101 2725,-101 2725,-95 2731,-89 2737,-89 2737,-89 2879,-89 2879,-89 2885,-89 2891,-95 2891,-101 2891,-101 2891,-145 2891,-145 2891,-151 2885,-157 2879,-157\"/>\n<text text-anchor=\"start\" x=\"2774\" y=\"-141.8\" font-family=\"Helvetica,sans-Serif\" font-size=\"14.00\">s3 ≤ &#45;0.021</text>\n<text text-anchor=\"start\" x=\"2733\" y=\"-126.8\" font-family=\"Helvetica,sans-Serif\" font-size=\"14.00\">squared_error = 2490.65</text>\n<text text-anchor=\"start\" x=\"2767\" y=\"-111.8\" font-family=\"Helvetica,sans-Serif\" font-size=\"14.00\">samples = 10</text>\n<text text-anchor=\"start\" x=\"2767\" y=\"-96.8\" font-family=\"Helvetica,sans-Serif\" font-size=\"14.00\">value = 123.5</text>\n</g>\n<!-- 32&#45;&gt;33 -->\n<g id=\"edge33\" class=\"edge\">\n<title>32&#45;&gt;33</title>\n<path fill=\"none\" stroke=\"black\" d=\"M3006.33,-194.98C2972.95,-183.03 2934.71,-169.35 2900.78,-157.2\"/>\n<polygon fill=\"black\" stroke=\"black\" points=\"2901.92,-153.9 2891.33,-153.82 2899.56,-160.49 2901.92,-153.9\"/>\n</g>\n<!-- 36 -->\n<g id=\"node37\" class=\"node\">\n<title>36</title>\n<path fill=\"#f3c7a6\" stroke=\"black\" d=\"M3167.5,-157C3167.5,-157 3018.5,-157 3018.5,-157 3012.5,-157 3006.5,-151 3006.5,-145 3006.5,-145 3006.5,-101 3006.5,-101 3006.5,-95 3012.5,-89 3018.5,-89 3018.5,-89 3167.5,-89 3167.5,-89 3173.5,-89 3179.5,-95 3179.5,-101 3179.5,-101 3179.5,-145 3179.5,-145 3179.5,-151 3173.5,-157 3167.5,-157\"/>\n<text text-anchor=\"start\" x=\"3061\" y=\"-141.8\" font-family=\"Helvetica,sans-Serif\" font-size=\"14.00\">bp ≤ 0.051</text>\n<text text-anchor=\"start\" x=\"3014.5\" y=\"-126.8\" font-family=\"Helvetica,sans-Serif\" font-size=\"14.00\">squared_error = 3794.282</text>\n<text text-anchor=\"start\" x=\"3052\" y=\"-111.8\" font-family=\"Helvetica,sans-Serif\" font-size=\"14.00\">samples = 75</text>\n<text text-anchor=\"start\" x=\"3044.5\" y=\"-96.8\" font-family=\"Helvetica,sans-Serif\" font-size=\"14.00\">value = 182.773</text>\n</g>\n<!-- 32&#45;&gt;36 -->\n<g id=\"edge36\" class=\"edge\">\n<title>32&#45;&gt;36</title>\n<path fill=\"none\" stroke=\"black\" d=\"M3093,-192.88C3093,-184.78 3093,-175.98 3093,-167.47\"/>\n<polygon fill=\"black\" stroke=\"black\" points=\"3096.5,-167.3 3093,-157.3 3089.5,-167.3 3096.5,-167.3\"/>\n</g>\n<!-- 34 -->\n<g id=\"node35\" class=\"node\">\n<title>34</title>\n<path fill=\"#f5cfb4\" stroke=\"black\" d=\"M2691,-53C2691,-53 2549,-53 2549,-53 2543,-53 2537,-47 2537,-41 2537,-41 2537,-12 2537,-12 2537,-6 2543,0 2549,0 2549,0 2691,0 2691,0 2697,0 2703,-6 2703,-12 2703,-12 2703,-41 2703,-41 2703,-47 2697,-53 2691,-53\"/>\n<text text-anchor=\"start\" x=\"2545\" y=\"-37.8\" font-family=\"Helvetica,sans-Serif\" font-size=\"14.00\">squared_error = 709.556</text>\n<text text-anchor=\"start\" x=\"2582.5\" y=\"-22.8\" font-family=\"Helvetica,sans-Serif\" font-size=\"14.00\">samples = 3</text>\n<text text-anchor=\"start\" x=\"2571.5\" y=\"-7.8\" font-family=\"Helvetica,sans-Serif\" font-size=\"14.00\">value = 163.333</text>\n</g>\n<!-- 33&#45;&gt;34 -->\n<g id=\"edge34\" class=\"edge\">\n<title>33&#45;&gt;34</title>\n<path fill=\"none\" stroke=\"black\" d=\"M2742.25,-88.95C2721.95,-78.75 2699.72,-67.57 2679.85,-57.59\"/>\n<polygon fill=\"black\" stroke=\"black\" points=\"2681.41,-54.45 2670.9,-53.09 2678.27,-60.71 2681.41,-54.45\"/>\n</g>\n<!-- 35 -->\n<g id=\"node36\" class=\"node\">\n<title>35</title>\n<path fill=\"#fae8db\" stroke=\"black\" d=\"M2882.5,-53C2882.5,-53 2733.5,-53 2733.5,-53 2727.5,-53 2721.5,-47 2721.5,-41 2721.5,-41 2721.5,-12 2721.5,-12 2721.5,-6 2727.5,0 2733.5,0 2733.5,0 2882.5,0 2882.5,0 2888.5,0 2894.5,-6 2894.5,-12 2894.5,-12 2894.5,-41 2894.5,-41 2894.5,-47 2888.5,-53 2882.5,-53\"/>\n<text text-anchor=\"start\" x=\"2729.5\" y=\"-37.8\" font-family=\"Helvetica,sans-Serif\" font-size=\"14.00\">squared_error = 2282.531</text>\n<text text-anchor=\"start\" x=\"2770.5\" y=\"-22.8\" font-family=\"Helvetica,sans-Serif\" font-size=\"14.00\">samples = 7</text>\n<text text-anchor=\"start\" x=\"2759.5\" y=\"-7.8\" font-family=\"Helvetica,sans-Serif\" font-size=\"14.00\">value = 106.429</text>\n</g>\n<!-- 33&#45;&gt;35 -->\n<g id=\"edge35\" class=\"edge\">\n<title>33&#45;&gt;35</title>\n<path fill=\"none\" stroke=\"black\" d=\"M2808,-88.95C2808,-80.72 2808,-71.85 2808,-63.48\"/>\n<polygon fill=\"black\" stroke=\"black\" points=\"2811.5,-63.24 2808,-53.24 2804.5,-63.24 2811.5,-63.24\"/>\n</g>\n<!-- 37 -->\n<g id=\"node38\" class=\"node\">\n<title>37</title>\n<path fill=\"#f4cbae\" stroke=\"black\" d=\"M3073.5,-53C3073.5,-53 2924.5,-53 2924.5,-53 2918.5,-53 2912.5,-47 2912.5,-41 2912.5,-41 2912.5,-12 2912.5,-12 2912.5,-6 2918.5,0 2924.5,0 2924.5,0 3073.5,0 3073.5,0 3079.5,0 3085.5,-6 3085.5,-12 3085.5,-12 3085.5,-41 3085.5,-41 3085.5,-47 3079.5,-53 3073.5,-53\"/>\n<text text-anchor=\"start\" x=\"2920.5\" y=\"-37.8\" font-family=\"Helvetica,sans-Serif\" font-size=\"14.00\">squared_error = 3586.841</text>\n<text text-anchor=\"start\" x=\"2958\" y=\"-22.8\" font-family=\"Helvetica,sans-Serif\" font-size=\"14.00\">samples = 58</text>\n<text text-anchor=\"start\" x=\"2950.5\" y=\"-7.8\" font-family=\"Helvetica,sans-Serif\" font-size=\"14.00\">value = 171.672</text>\n</g>\n<!-- 36&#45;&gt;37 -->\n<g id=\"edge37\" class=\"edge\">\n<title>36&#45;&gt;37</title>\n<path fill=\"none\" stroke=\"black\" d=\"M3060.12,-88.95C3050.93,-79.71 3040.95,-69.67 3031.76,-60.44\"/>\n<polygon fill=\"black\" stroke=\"black\" points=\"3034.13,-57.86 3024.6,-53.24 3029.17,-62.79 3034.13,-57.86\"/>\n</g>\n<!-- 38 -->\n<g id=\"node39\" class=\"node\">\n<title>38</title>\n<path fill=\"#f0b68c\" stroke=\"black\" d=\"M3258,-53C3258,-53 3116,-53 3116,-53 3110,-53 3104,-47 3104,-41 3104,-41 3104,-12 3104,-12 3104,-6 3110,0 3116,0 3116,0 3258,0 3258,0 3264,0 3270,-6 3270,-12 3270,-12 3270,-41 3270,-41 3270,-47 3264,-53 3258,-53\"/>\n<text text-anchor=\"start\" x=\"3112\" y=\"-37.8\" font-family=\"Helvetica,sans-Serif\" font-size=\"14.00\">squared_error = 2647.17</text>\n<text text-anchor=\"start\" x=\"3146\" y=\"-22.8\" font-family=\"Helvetica,sans-Serif\" font-size=\"14.00\">samples = 17</text>\n<text text-anchor=\"start\" x=\"3138.5\" y=\"-7.8\" font-family=\"Helvetica,sans-Serif\" font-size=\"14.00\">value = 220.647</text>\n</g>\n<!-- 36&#45;&gt;38 -->\n<g id=\"edge38\" class=\"edge\">\n<title>36&#45;&gt;38</title>\n<path fill=\"none\" stroke=\"black\" d=\"M3125.88,-88.95C3135.07,-79.71 3145.05,-69.67 3154.24,-60.44\"/>\n<polygon fill=\"black\" stroke=\"black\" points=\"3156.83,-62.79 3161.4,-53.24 3151.87,-57.86 3156.83,-62.79\"/>\n</g>\n<!-- 40 -->\n<g id=\"node41\" class=\"node\">\n<title>40</title>\n<path fill=\"#f9e1cf\" stroke=\"black\" d=\"M3506,-157C3506,-157 3364,-157 3364,-157 3358,-157 3352,-151 3352,-145 3352,-145 3352,-101 3352,-101 3352,-95 3358,-89 3364,-89 3364,-89 3506,-89 3506,-89 3512,-89 3518,-95 3518,-101 3518,-101 3518,-145 3518,-145 3518,-151 3512,-157 3506,-157\"/>\n<text text-anchor=\"start\" x=\"3403\" y=\"-141.8\" font-family=\"Helvetica,sans-Serif\" font-size=\"14.00\">s6 ≤ 0.051</text>\n<text text-anchor=\"start\" x=\"3360\" y=\"-126.8\" font-family=\"Helvetica,sans-Serif\" font-size=\"14.00\">squared_error = 843.556</text>\n<text text-anchor=\"start\" x=\"3397.5\" y=\"-111.8\" font-family=\"Helvetica,sans-Serif\" font-size=\"14.00\">samples = 3</text>\n<text text-anchor=\"start\" x=\"3386.5\" y=\"-96.8\" font-family=\"Helvetica,sans-Serif\" font-size=\"14.00\">value = 123.667</text>\n</g>\n<!-- 39&#45;&gt;40 -->\n<g id=\"edge40\" class=\"edge\">\n<title>39&#45;&gt;40</title>\n<path fill=\"none\" stroke=\"black\" d=\"M3435,-192.88C3435,-184.78 3435,-175.98 3435,-167.47\"/>\n<polygon fill=\"black\" stroke=\"black\" points=\"3438.5,-167.3 3435,-157.3 3431.5,-167.3 3438.5,-167.3\"/>\n</g>\n<!-- 43 -->\n<g id=\"node44\" class=\"node\">\n<title>43</title>\n<path fill=\"#eead7e\" stroke=\"black\" d=\"M3769,-157C3769,-157 3627,-157 3627,-157 3621,-157 3615,-151 3615,-145 3615,-145 3615,-101 3615,-101 3615,-95 3621,-89 3627,-89 3627,-89 3769,-89 3769,-89 3775,-89 3781,-95 3781,-101 3781,-101 3781,-145 3781,-145 3781,-151 3775,-157 3769,-157\"/>\n<text text-anchor=\"start\" x=\"3670\" y=\"-141.8\" font-family=\"Helvetica,sans-Serif\" font-size=\"14.00\">s4 ≤ 0.17</text>\n<text text-anchor=\"start\" x=\"3623\" y=\"-126.8\" font-family=\"Helvetica,sans-Serif\" font-size=\"14.00\">squared_error = 2863.96</text>\n<text text-anchor=\"start\" x=\"3657\" y=\"-111.8\" font-family=\"Helvetica,sans-Serif\" font-size=\"14.00\">samples = 30</text>\n<text text-anchor=\"start\" x=\"3657\" y=\"-96.8\" font-family=\"Helvetica,sans-Serif\" font-size=\"14.00\">value = 241.2</text>\n</g>\n<!-- 39&#45;&gt;43 -->\n<g id=\"edge43\" class=\"edge\">\n<title>39&#45;&gt;43</title>\n<path fill=\"none\" stroke=\"black\" d=\"M3520.39,-192.88C3547.49,-182.37 3577.59,-170.7 3605.18,-160\"/>\n<polygon fill=\"black\" stroke=\"black\" points=\"3606.78,-163.13 3614.83,-156.25 3604.24,-156.61 3606.78,-163.13\"/>\n</g>\n<!-- 41 -->\n<g id=\"node42\" class=\"node\">\n<title>41</title>\n<path fill=\"#fcf2ea\" stroke=\"black\" d=\"M3412,-53C3412,-53 3300,-53 3300,-53 3294,-53 3288,-47 3288,-41 3288,-41 3288,-12 3288,-12 3288,-6 3294,0 3300,0 3300,0 3412,0 3412,0 3418,0 3424,-6 3424,-12 3424,-12 3424,-41 3424,-41 3424,-47 3418,-53 3412,-53\"/>\n<text text-anchor=\"start\" x=\"3296\" y=\"-37.8\" font-family=\"Helvetica,sans-Serif\" font-size=\"14.00\">squared_error = 0.0</text>\n<text text-anchor=\"start\" x=\"3318.5\" y=\"-22.8\" font-family=\"Helvetica,sans-Serif\" font-size=\"14.00\">samples = 1</text>\n<text text-anchor=\"start\" x=\"3318.5\" y=\"-7.8\" font-family=\"Helvetica,sans-Serif\" font-size=\"14.00\">value = 85.0</text>\n</g>\n<!-- 40&#45;&gt;41 -->\n<g id=\"edge41\" class=\"edge\">\n<title>40&#45;&gt;41</title>\n<path fill=\"none\" stroke=\"black\" d=\"M3407.37,-88.95C3399.8,-79.89 3391.59,-70.07 3383.99,-60.99\"/>\n<polygon fill=\"black\" stroke=\"black\" points=\"3386.61,-58.66 3377.52,-53.24 3381.24,-63.15 3386.61,-58.66\"/>\n</g>\n<!-- 42 -->\n<g id=\"node43\" class=\"node\">\n<title>42</title>\n<path fill=\"#f7d8c2\" stroke=\"black\" d=\"M3581.5,-53C3581.5,-53 3454.5,-53 3454.5,-53 3448.5,-53 3442.5,-47 3442.5,-41 3442.5,-41 3442.5,-12 3442.5,-12 3442.5,-6 3448.5,0 3454.5,0 3454.5,0 3581.5,0 3581.5,0 3587.5,0 3593.5,-6 3593.5,-12 3593.5,-12 3593.5,-41 3593.5,-41 3593.5,-47 3587.5,-53 3581.5,-53\"/>\n<text text-anchor=\"start\" x=\"3450.5\" y=\"-37.8\" font-family=\"Helvetica,sans-Serif\" font-size=\"14.00\">squared_error = 144.0</text>\n<text text-anchor=\"start\" x=\"3480.5\" y=\"-22.8\" font-family=\"Helvetica,sans-Serif\" font-size=\"14.00\">samples = 2</text>\n<text text-anchor=\"start\" x=\"3477\" y=\"-7.8\" font-family=\"Helvetica,sans-Serif\" font-size=\"14.00\">value = 143.0</text>\n</g>\n<!-- 40&#45;&gt;42 -->\n<g id=\"edge42\" class=\"edge\">\n<title>40&#45;&gt;42</title>\n<path fill=\"none\" stroke=\"black\" d=\"M3464.03,-88.95C3471.98,-79.89 3480.61,-70.07 3488.59,-60.99\"/>\n<polygon fill=\"black\" stroke=\"black\" points=\"3491.43,-63.06 3495.4,-53.24 3486.17,-58.44 3491.43,-63.06\"/>\n</g>\n<!-- 44 -->\n<g id=\"node45\" class=\"node\">\n<title>44</title>\n<path fill=\"#eeaa7a\" stroke=\"black\" d=\"M3772.5,-53C3772.5,-53 3623.5,-53 3623.5,-53 3617.5,-53 3611.5,-47 3611.5,-41 3611.5,-41 3611.5,-12 3611.5,-12 3611.5,-6 3617.5,0 3623.5,0 3623.5,0 3772.5,0 3772.5,0 3778.5,0 3784.5,-6 3784.5,-12 3784.5,-12 3784.5,-41 3784.5,-41 3784.5,-47 3778.5,-53 3772.5,-53\"/>\n<text text-anchor=\"start\" x=\"3619.5\" y=\"-37.8\" font-family=\"Helvetica,sans-Serif\" font-size=\"14.00\">squared_error = 2081.201</text>\n<text text-anchor=\"start\" x=\"3657\" y=\"-22.8\" font-family=\"Helvetica,sans-Serif\" font-size=\"14.00\">samples = 29</text>\n<text text-anchor=\"start\" x=\"3649.5\" y=\"-7.8\" font-family=\"Helvetica,sans-Serif\" font-size=\"14.00\">value = 246.621</text>\n</g>\n<!-- 43&#45;&gt;44 -->\n<g id=\"edge44\" class=\"edge\">\n<title>43&#45;&gt;44</title>\n<path fill=\"none\" stroke=\"black\" d=\"M3698,-88.95C3698,-80.72 3698,-71.85 3698,-63.48\"/>\n<polygon fill=\"black\" stroke=\"black\" points=\"3701.5,-63.24 3698,-53.24 3694.5,-63.24 3701.5,-63.24\"/>\n</g>\n<!-- 45 -->\n<g id=\"node46\" class=\"node\">\n<title>45</title>\n<path fill=\"#fcf2eb\" stroke=\"black\" d=\"M3927,-53C3927,-53 3815,-53 3815,-53 3809,-53 3803,-47 3803,-41 3803,-41 3803,-12 3803,-12 3803,-6 3809,0 3815,0 3815,0 3927,0 3927,0 3933,0 3939,-6 3939,-12 3939,-12 3939,-41 3939,-41 3939,-47 3933,-53 3927,-53\"/>\n<text text-anchor=\"start\" x=\"3811\" y=\"-37.8\" font-family=\"Helvetica,sans-Serif\" font-size=\"14.00\">squared_error = 0.0</text>\n<text text-anchor=\"start\" x=\"3833.5\" y=\"-22.8\" font-family=\"Helvetica,sans-Serif\" font-size=\"14.00\">samples = 1</text>\n<text text-anchor=\"start\" x=\"3833.5\" y=\"-7.8\" font-family=\"Helvetica,sans-Serif\" font-size=\"14.00\">value = 84.0</text>\n</g>\n<!-- 43&#45;&gt;45 -->\n<g id=\"edge45\" class=\"edge\">\n<title>43&#45;&gt;45</title>\n<path fill=\"none\" stroke=\"black\" d=\"M3758.51,-88.95C3776.84,-78.93 3796.9,-67.98 3814.93,-58.13\"/>\n<polygon fill=\"black\" stroke=\"black\" points=\"3817.06,-60.95 3824.16,-53.09 3813.7,-54.81 3817.06,-60.95\"/>\n</g>\n<!-- 47 -->\n<g id=\"node48\" class=\"node\">\n<title>47</title>\n<path fill=\"#e9965b\" stroke=\"black\" d=\"M4363,-261C4363,-261 4229,-261 4229,-261 4223,-261 4217,-255 4217,-249 4217,-249 4217,-205 4217,-205 4217,-199 4223,-193 4229,-193 4229,-193 4363,-193 4363,-193 4369,-193 4375,-199 4375,-205 4375,-205 4375,-249 4375,-249 4375,-255 4369,-261 4363,-261\"/>\n<text text-anchor=\"start\" x=\"4264\" y=\"-245.8\" font-family=\"Helvetica,sans-Serif\" font-size=\"14.00\">s4 ≤ 0.027</text>\n<text text-anchor=\"start\" x=\"4225\" y=\"-230.8\" font-family=\"Helvetica,sans-Serif\" font-size=\"14.00\">squared_error = 962.84</text>\n<text text-anchor=\"start\" x=\"4255\" y=\"-215.8\" font-family=\"Helvetica,sans-Serif\" font-size=\"14.00\">samples = 18</text>\n<text text-anchor=\"start\" x=\"4247.5\" y=\"-200.8\" font-family=\"Helvetica,sans-Serif\" font-size=\"14.00\">value = 291.222</text>\n</g>\n<!-- 46&#45;&gt;47 -->\n<g id=\"edge47\" class=\"edge\">\n<title>46&#45;&gt;47</title>\n<path fill=\"none\" stroke=\"black\" d=\"M4296,-296.88C4296,-288.78 4296,-279.98 4296,-271.47\"/>\n<polygon fill=\"black\" stroke=\"black\" points=\"4299.5,-271.3 4296,-261.3 4292.5,-271.3 4299.5,-271.3\"/>\n</g>\n<!-- 54 -->\n<g id=\"node55\" class=\"node\">\n<title>54</title>\n<path fill=\"#efb388\" stroke=\"black\" d=\"M4902.5,-261C4902.5,-261 4753.5,-261 4753.5,-261 4747.5,-261 4741.5,-255 4741.5,-249 4741.5,-249 4741.5,-205 4741.5,-205 4741.5,-199 4747.5,-193 4753.5,-193 4753.5,-193 4902.5,-193 4902.5,-193 4908.5,-193 4914.5,-199 4914.5,-205 4914.5,-205 4914.5,-249 4914.5,-249 4914.5,-255 4908.5,-261 4902.5,-261\"/>\n<text text-anchor=\"start\" x=\"4796\" y=\"-245.8\" font-family=\"Helvetica,sans-Serif\" font-size=\"14.00\">s6 ≤ 0.051</text>\n<text text-anchor=\"start\" x=\"4749.5\" y=\"-230.8\" font-family=\"Helvetica,sans-Serif\" font-size=\"14.00\">squared_error = 2757.938</text>\n<text text-anchor=\"start\" x=\"4790.5\" y=\"-215.8\" font-family=\"Helvetica,sans-Serif\" font-size=\"14.00\">samples = 8</text>\n<text text-anchor=\"start\" x=\"4783\" y=\"-200.8\" font-family=\"Helvetica,sans-Serif\" font-size=\"14.00\">value = 225.75</text>\n</g>\n<!-- 46&#45;&gt;54 -->\n<g id=\"edge54\" class=\"edge\">\n<title>46&#45;&gt;54</title>\n<path fill=\"none\" stroke=\"black\" d=\"M4382.66,-313.38C4478.3,-295.05 4631.85,-265.61 4731.32,-246.54\"/>\n<polygon fill=\"black\" stroke=\"black\" points=\"4732.22,-249.93 4741.38,-244.61 4730.9,-243.05 4732.22,-249.93\"/>\n</g>\n<!-- 48 -->\n<g id=\"node49\" class=\"node\">\n<title>48</title>\n<path fill=\"#eb9c64\" stroke=\"black\" d=\"M4275,-157C4275,-157 4133,-157 4133,-157 4127,-157 4121,-151 4121,-145 4121,-145 4121,-101 4121,-101 4121,-95 4127,-89 4133,-89 4133,-89 4275,-89 4275,-89 4281,-89 4287,-95 4287,-101 4287,-101 4287,-145 4287,-145 4287,-151 4281,-157 4275,-157\"/>\n<text text-anchor=\"start\" x=\"4169\" y=\"-141.8\" font-family=\"Helvetica,sans-Serif\" font-size=\"14.00\">sex ≤ 0.003</text>\n<text text-anchor=\"start\" x=\"4129\" y=\"-126.8\" font-family=\"Helvetica,sans-Serif\" font-size=\"14.00\">squared_error = 633.785</text>\n<text text-anchor=\"start\" x=\"4163\" y=\"-111.8\" font-family=\"Helvetica,sans-Serif\" font-size=\"14.00\">samples = 11</text>\n<text text-anchor=\"start\" x=\"4155.5\" y=\"-96.8\" font-family=\"Helvetica,sans-Serif\" font-size=\"14.00\">value = 278.182</text>\n</g>\n<!-- 47&#45;&gt;48 -->\n<g id=\"edge48\" class=\"edge\">\n<title>47&#45;&gt;48</title>\n<path fill=\"none\" stroke=\"black\" d=\"M4266.13,-192.88C4258.1,-183.98 4249.31,-174.24 4240.94,-164.96\"/>\n<polygon fill=\"black\" stroke=\"black\" points=\"4243.33,-162.38 4234.03,-157.3 4238.13,-167.07 4243.33,-162.38\"/>\n</g>\n<!-- 51 -->\n<g id=\"node52\" class=\"node\">\n<title>51</title>\n<path fill=\"#e88d4c\" stroke=\"black\" d=\"M4459,-157C4459,-157 4317,-157 4317,-157 4311,-157 4305,-151 4305,-145 4305,-145 4305,-101 4305,-101 4305,-95 4311,-89 4317,-89 4317,-89 4459,-89 4459,-89 4465,-89 4471,-95 4471,-101 4471,-101 4471,-145 4471,-145 4471,-151 4465,-157 4459,-157\"/>\n<text text-anchor=\"start\" x=\"4356\" y=\"-141.8\" font-family=\"Helvetica,sans-Serif\" font-size=\"14.00\">s5 ≤ 0.032</text>\n<text text-anchor=\"start\" x=\"4313\" y=\"-126.8\" font-family=\"Helvetica,sans-Serif\" font-size=\"14.00\">squared_error = 792.776</text>\n<text text-anchor=\"start\" x=\"4350.5\" y=\"-111.8\" font-family=\"Helvetica,sans-Serif\" font-size=\"14.00\">samples = 7</text>\n<text text-anchor=\"start\" x=\"4339.5\" y=\"-96.8\" font-family=\"Helvetica,sans-Serif\" font-size=\"14.00\">value = 311.714</text>\n</g>\n<!-- 47&#45;&gt;51 -->\n<g id=\"edge51\" class=\"edge\">\n<title>47&#45;&gt;51</title>\n<path fill=\"none\" stroke=\"black\" d=\"M4325.87,-192.88C4333.9,-183.98 4342.69,-174.24 4351.06,-164.96\"/>\n<polygon fill=\"black\" stroke=\"black\" points=\"4353.87,-167.07 4357.97,-157.3 4348.67,-162.38 4353.87,-167.07\"/>\n</g>\n<!-- 49 -->\n<g id=\"node50\" class=\"node\">\n<title>49</title>\n<path fill=\"#eca26e\" stroke=\"black\" d=\"M4103,-53C4103,-53 3969,-53 3969,-53 3963,-53 3957,-47 3957,-41 3957,-41 3957,-12 3957,-12 3957,-6 3963,0 3969,0 3969,0 4103,0 4103,0 4109,0 4115,-6 4115,-12 4115,-12 4115,-41 4115,-41 4115,-47 4109,-53 4103,-53\"/>\n<text text-anchor=\"start\" x=\"3965\" y=\"-37.8\" font-family=\"Helvetica,sans-Serif\" font-size=\"14.00\">squared_error = 60.139</text>\n<text text-anchor=\"start\" x=\"3998.5\" y=\"-22.8\" font-family=\"Helvetica,sans-Serif\" font-size=\"14.00\">samples = 6</text>\n<text text-anchor=\"start\" x=\"3987.5\" y=\"-7.8\" font-family=\"Helvetica,sans-Serif\" font-size=\"14.00\">value = 264.167</text>\n</g>\n<!-- 48&#45;&gt;49 -->\n<g id=\"edge49\" class=\"edge\">\n<title>48&#45;&gt;49</title>\n<path fill=\"none\" stroke=\"black\" d=\"M4145.24,-88.95C4127.43,-78.93 4107.96,-67.98 4090.45,-58.13\"/>\n<polygon fill=\"black\" stroke=\"black\" points=\"4091.92,-54.94 4081.49,-53.09 4088.49,-61.04 4091.92,-54.94\"/>\n</g>\n<!-- 50 -->\n<g id=\"node51\" class=\"node\">\n<title>50</title>\n<path fill=\"#e99558\" stroke=\"black\" d=\"M4272.5,-53C4272.5,-53 4145.5,-53 4145.5,-53 4139.5,-53 4133.5,-47 4133.5,-41 4133.5,-41 4133.5,-12 4133.5,-12 4133.5,-6 4139.5,0 4145.5,0 4145.5,0 4272.5,0 4272.5,0 4278.5,0 4284.5,-6 4284.5,-12 4284.5,-12 4284.5,-41 4284.5,-41 4284.5,-47 4278.5,-53 4272.5,-53\"/>\n<text text-anchor=\"start\" x=\"4141.5\" y=\"-37.8\" font-family=\"Helvetica,sans-Serif\" font-size=\"14.00\">squared_error = 803.6</text>\n<text text-anchor=\"start\" x=\"4171.5\" y=\"-22.8\" font-family=\"Helvetica,sans-Serif\" font-size=\"14.00\">samples = 5</text>\n<text text-anchor=\"start\" x=\"4168\" y=\"-7.8\" font-family=\"Helvetica,sans-Serif\" font-size=\"14.00\">value = 295.0</text>\n</g>\n<!-- 48&#45;&gt;50 -->\n<g id=\"edge50\" class=\"edge\">\n<title>48&#45;&gt;50</title>\n<path fill=\"none\" stroke=\"black\" d=\"M4205.75,-88.95C4206.18,-80.72 4206.65,-71.85 4207.1,-63.48\"/>\n<polygon fill=\"black\" stroke=\"black\" points=\"4210.6,-63.41 4207.64,-53.24 4203.61,-63.04 4210.6,-63.41\"/>\n</g>\n<!-- 52 -->\n<g id=\"node53\" class=\"node\">\n<title>52</title>\n<path fill=\"#e58139\" stroke=\"black\" d=\"M4449,-53C4449,-53 4315,-53 4315,-53 4309,-53 4303,-47 4303,-41 4303,-41 4303,-12 4303,-12 4303,-6 4309,0 4315,0 4315,0 4449,0 4449,0 4455,0 4461,-6 4461,-12 4461,-12 4461,-41 4461,-41 4461,-47 4455,-53 4449,-53\"/>\n<text text-anchor=\"start\" x=\"4311\" y=\"-37.8\" font-family=\"Helvetica,sans-Serif\" font-size=\"14.00\">squared_error = 33.556</text>\n<text text-anchor=\"start\" x=\"4344.5\" y=\"-22.8\" font-family=\"Helvetica,sans-Serif\" font-size=\"14.00\">samples = 3</text>\n<text text-anchor=\"start\" x=\"4333.5\" y=\"-7.8\" font-family=\"Helvetica,sans-Serif\" font-size=\"14.00\">value = 339.667</text>\n</g>\n<!-- 51&#45;&gt;52 -->\n<g id=\"edge52\" class=\"edge\">\n<title>51&#45;&gt;52</title>\n<path fill=\"none\" stroke=\"black\" d=\"M4385.9,-88.95C4385.38,-80.72 4384.82,-71.85 4384.28,-63.48\"/>\n<polygon fill=\"black\" stroke=\"black\" points=\"4387.76,-62.99 4383.63,-53.24 4380.77,-63.44 4387.76,-62.99\"/>\n</g>\n<!-- 53 -->\n<g id=\"node54\" class=\"node\">\n<title>53</title>\n<path fill=\"#e9975b\" stroke=\"black\" d=\"M4633,-53C4633,-53 4491,-53 4491,-53 4485,-53 4479,-47 4479,-41 4479,-41 4479,-12 4479,-12 4479,-6 4485,0 4491,0 4491,0 4633,0 4633,0 4639,0 4645,-6 4645,-12 4645,-12 4645,-41 4645,-41 4645,-47 4639,-53 4633,-53\"/>\n<text text-anchor=\"start\" x=\"4487\" y=\"-37.8\" font-family=\"Helvetica,sans-Serif\" font-size=\"14.00\">squared_error = 336.688</text>\n<text text-anchor=\"start\" x=\"4524.5\" y=\"-22.8\" font-family=\"Helvetica,sans-Serif\" font-size=\"14.00\">samples = 4</text>\n<text text-anchor=\"start\" x=\"4517\" y=\"-7.8\" font-family=\"Helvetica,sans-Serif\" font-size=\"14.00\">value = 290.75</text>\n</g>\n<!-- 51&#45;&gt;53 -->\n<g id=\"edge53\" class=\"edge\">\n<title>51&#45;&gt;53</title>\n<path fill=\"none\" stroke=\"black\" d=\"M4448.86,-88.95C4467.3,-78.93 4487.47,-67.98 4505.61,-58.13\"/>\n<polygon fill=\"black\" stroke=\"black\" points=\"4507.77,-60.93 4514.89,-53.09 4504.43,-54.78 4507.77,-60.93\"/>\n</g>\n<!-- 55 -->\n<g id=\"node56\" class=\"node\">\n<title>55</title>\n<path fill=\"#f1bd98\" stroke=\"black\" d=\"M4899,-157C4899,-157 4757,-157 4757,-157 4751,-157 4745,-151 4745,-145 4745,-145 4745,-101 4745,-101 4745,-95 4751,-89 4757,-89 4757,-89 4899,-89 4899,-89 4905,-89 4911,-95 4911,-101 4911,-101 4911,-145 4911,-145 4911,-151 4905,-157 4899,-157\"/>\n<text text-anchor=\"start\" x=\"4792\" y=\"-141.8\" font-family=\"Helvetica,sans-Serif\" font-size=\"14.00\">bmi ≤ 0.096</text>\n<text text-anchor=\"start\" x=\"4753\" y=\"-126.8\" font-family=\"Helvetica,sans-Serif\" font-size=\"14.00\">squared_error = 1636.25</text>\n<text text-anchor=\"start\" x=\"4790.5\" y=\"-111.8\" font-family=\"Helvetica,sans-Serif\" font-size=\"14.00\">samples = 6</text>\n<text text-anchor=\"start\" x=\"4787\" y=\"-96.8\" font-family=\"Helvetica,sans-Serif\" font-size=\"14.00\">value = 203.5</text>\n</g>\n<!-- 54&#45;&gt;55 -->\n<g id=\"edge55\" class=\"edge\">\n<title>54&#45;&gt;55</title>\n<path fill=\"none\" stroke=\"black\" d=\"M4828,-192.88C4828,-184.78 4828,-175.98 4828,-167.47\"/>\n<polygon fill=\"black\" stroke=\"black\" points=\"4831.5,-167.3 4828,-157.3 4824.5,-167.3 4831.5,-167.3\"/>\n</g>\n<!-- 58 -->\n<g id=\"node59\" class=\"node\">\n<title>58</title>\n<path fill=\"#e9965a\" stroke=\"black\" d=\"M5158,-157C5158,-157 5024,-157 5024,-157 5018,-157 5012,-151 5012,-145 5012,-145 5012,-101 5012,-101 5012,-95 5018,-89 5024,-89 5024,-89 5158,-89 5158,-89 5164,-89 5170,-95 5170,-101 5170,-101 5170,-145 5170,-145 5170,-151 5164,-157 5158,-157\"/>\n<text text-anchor=\"start\" x=\"5063\" y=\"-141.8\" font-family=\"Helvetica,sans-Serif\" font-size=\"14.00\">s4 ≤ 0.09</text>\n<text text-anchor=\"start\" x=\"5020\" y=\"-126.8\" font-family=\"Helvetica,sans-Serif\" font-size=\"14.00\">squared_error = 182.25</text>\n<text text-anchor=\"start\" x=\"5053.5\" y=\"-111.8\" font-family=\"Helvetica,sans-Serif\" font-size=\"14.00\">samples = 2</text>\n<text text-anchor=\"start\" x=\"5050\" y=\"-96.8\" font-family=\"Helvetica,sans-Serif\" font-size=\"14.00\">value = 292.5</text>\n</g>\n<!-- 54&#45;&gt;58 -->\n<g id=\"edge58\" class=\"edge\">\n<title>54&#45;&gt;58</title>\n<path fill=\"none\" stroke=\"black\" d=\"M4913.39,-192.88C4941.82,-181.86 4973.55,-169.55 5002.23,-158.43\"/>\n<polygon fill=\"black\" stroke=\"black\" points=\"5003.78,-161.58 5011.83,-154.7 5001.24,-155.06 5003.78,-161.58\"/>\n</g>\n<!-- 56 -->\n<g id=\"node57\" class=\"node\">\n<title>56</title>\n<path fill=\"#f5ccb0\" stroke=\"black\" d=\"M4817,-53C4817,-53 4675,-53 4675,-53 4669,-53 4663,-47 4663,-41 4663,-41 4663,-12 4663,-12 4663,-6 4669,0 4675,0 4675,0 4817,0 4817,0 4823,0 4829,-6 4829,-12 4829,-12 4829,-41 4829,-41 4829,-47 4823,-53 4817,-53\"/>\n<text text-anchor=\"start\" x=\"4671\" y=\"-37.8\" font-family=\"Helvetica,sans-Serif\" font-size=\"14.00\">squared_error = 920.889</text>\n<text text-anchor=\"start\" x=\"4708.5\" y=\"-22.8\" font-family=\"Helvetica,sans-Serif\" font-size=\"14.00\">samples = 3</text>\n<text text-anchor=\"start\" x=\"4697.5\" y=\"-7.8\" font-family=\"Helvetica,sans-Serif\" font-size=\"14.00\">value = 169.333</text>\n</g>\n<!-- 55&#45;&gt;56 -->\n<g id=\"edge56\" class=\"edge\">\n<title>55&#45;&gt;56</title>\n<path fill=\"none\" stroke=\"black\" d=\"M4799.32,-88.95C4791.46,-79.89 4782.94,-70.07 4775.06,-60.99\"/>\n<polygon fill=\"black\" stroke=\"black\" points=\"4777.53,-58.5 4768.33,-53.24 4772.24,-63.08 4777.53,-58.5\"/>\n</g>\n<!-- 57 -->\n<g id=\"node58\" class=\"node\">\n<title>57</title>\n<path fill=\"#eeae80\" stroke=\"black\" d=\"M4993,-53C4993,-53 4859,-53 4859,-53 4853,-53 4847,-47 4847,-41 4847,-41 4847,-12 4847,-12 4847,-6 4853,0 4859,0 4859,0 4993,0 4993,0 4999,0 5005,-6 5005,-12 5005,-12 5005,-41 5005,-41 5005,-47 4999,-53 4993,-53\"/>\n<text text-anchor=\"start\" x=\"4855\" y=\"-37.8\" font-family=\"Helvetica,sans-Serif\" font-size=\"14.00\">squared_error = 16.889</text>\n<text text-anchor=\"start\" x=\"4888.5\" y=\"-22.8\" font-family=\"Helvetica,sans-Serif\" font-size=\"14.00\">samples = 3</text>\n<text text-anchor=\"start\" x=\"4877.5\" y=\"-7.8\" font-family=\"Helvetica,sans-Serif\" font-size=\"14.00\">value = 237.667</text>\n</g>\n<!-- 55&#45;&gt;57 -->\n<g id=\"edge57\" class=\"edge\">\n<title>55&#45;&gt;57</title>\n<path fill=\"none\" stroke=\"black\" d=\"M4862.28,-88.95C4871.86,-79.71 4882.27,-69.67 4891.84,-60.44\"/>\n<polygon fill=\"black\" stroke=\"black\" points=\"4894.54,-62.7 4899.31,-53.24 4889.68,-57.66 4894.54,-62.7\"/>\n</g>\n<!-- 59 -->\n<g id=\"node60\" class=\"node\">\n<title>59</title>\n<path fill=\"#eb9c63\" stroke=\"black\" d=\"M5147,-53C5147,-53 5035,-53 5035,-53 5029,-53 5023,-47 5023,-41 5023,-41 5023,-12 5023,-12 5023,-6 5029,0 5035,0 5035,0 5147,0 5147,0 5153,0 5159,-6 5159,-12 5159,-12 5159,-41 5159,-41 5159,-47 5153,-53 5147,-53\"/>\n<text text-anchor=\"start\" x=\"5031\" y=\"-37.8\" font-family=\"Helvetica,sans-Serif\" font-size=\"14.00\">squared_error = 0.0</text>\n<text text-anchor=\"start\" x=\"5053.5\" y=\"-22.8\" font-family=\"Helvetica,sans-Serif\" font-size=\"14.00\">samples = 1</text>\n<text text-anchor=\"start\" x=\"5050\" y=\"-7.8\" font-family=\"Helvetica,sans-Serif\" font-size=\"14.00\">value = 279.0</text>\n</g>\n<!-- 58&#45;&gt;59 -->\n<g id=\"edge59\" class=\"edge\">\n<title>58&#45;&gt;59</title>\n<path fill=\"none\" stroke=\"black\" d=\"M5091,-88.95C5091,-80.72 5091,-71.85 5091,-63.48\"/>\n<polygon fill=\"black\" stroke=\"black\" points=\"5094.5,-63.24 5091,-53.24 5087.5,-63.24 5094.5,-63.24\"/>\n</g>\n<!-- 60 -->\n<g id=\"node61\" class=\"node\">\n<title>60</title>\n<path fill=\"#e89050\" stroke=\"black\" d=\"M5301,-53C5301,-53 5189,-53 5189,-53 5183,-53 5177,-47 5177,-41 5177,-41 5177,-12 5177,-12 5177,-6 5183,0 5189,0 5189,0 5301,0 5301,0 5307,0 5313,-6 5313,-12 5313,-12 5313,-41 5313,-41 5313,-47 5307,-53 5301,-53\"/>\n<text text-anchor=\"start\" x=\"5185\" y=\"-37.8\" font-family=\"Helvetica,sans-Serif\" font-size=\"14.00\">squared_error = 0.0</text>\n<text text-anchor=\"start\" x=\"5207.5\" y=\"-22.8\" font-family=\"Helvetica,sans-Serif\" font-size=\"14.00\">samples = 1</text>\n<text text-anchor=\"start\" x=\"5204\" y=\"-7.8\" font-family=\"Helvetica,sans-Serif\" font-size=\"14.00\">value = 306.0</text>\n</g>\n<!-- 58&#45;&gt;60 -->\n<g id=\"edge60\" class=\"edge\">\n<title>58&#45;&gt;60</title>\n<path fill=\"none\" stroke=\"black\" d=\"M5144.86,-88.95C5160.96,-79.07 5178.55,-68.28 5194.43,-58.53\"/>\n<polygon fill=\"black\" stroke=\"black\" points=\"5196.37,-61.45 5203.06,-53.24 5192.7,-55.48 5196.37,-61.45\"/>\n</g>\n</g>\n</svg>\n",
            "text/plain": [
              "<graphviz.sources.Source at 0x78ec7c1263b0>"
            ]
          },
          "metadata": {},
          "execution_count": 71
        }
      ],
      "source": [
        "# 7. Visualize the fitted DecisionTreeRegressor\n",
        "\n",
        "dot_data = tree.export_graphviz(dt_reg, out_file=None,\n",
        "                                feature_names=diab.feature_names,\n",
        "                                filled=True, rounded=True,\n",
        "                                special_characters=True)\n",
        "graph = graphviz.Source(dot_data)\n",
        "graph"
      ]
    },
    {
      "cell_type": "code",
      "execution_count": 73,
      "id": "3532b4b6",
      "metadata": {
        "id": "3532b4b6",
        "colab": {
          "base_uri": "https://localhost:8080/",
          "height": 81
        },
        "outputId": "02011a12-2140-42ba-d64a-c4ae07fa61fd"
      },
      "outputs": [
        {
          "output_type": "execute_result",
          "data": {
            "text/plain": [
              "    age  sex   bmi    bp    s1    s2    s3    s4    s5    s6\n",
              "0  0.03  0.0  0.56  0.02  0.06  0.02  0.02  0.04  0.19  0.06"
            ],
            "text/html": [
              "\n",
              "  <div id=\"df-34f157f9-0d48-4f25-9dd9-612104fadffe\" class=\"colab-df-container\">\n",
              "    <div>\n",
              "<style scoped>\n",
              "    .dataframe tbody tr th:only-of-type {\n",
              "        vertical-align: middle;\n",
              "    }\n",
              "\n",
              "    .dataframe tbody tr th {\n",
              "        vertical-align: top;\n",
              "    }\n",
              "\n",
              "    .dataframe thead th {\n",
              "        text-align: right;\n",
              "    }\n",
              "</style>\n",
              "<table border=\"1\" class=\"dataframe\">\n",
              "  <thead>\n",
              "    <tr style=\"text-align: right;\">\n",
              "      <th></th>\n",
              "      <th>age</th>\n",
              "      <th>sex</th>\n",
              "      <th>bmi</th>\n",
              "      <th>bp</th>\n",
              "      <th>s1</th>\n",
              "      <th>s2</th>\n",
              "      <th>s3</th>\n",
              "      <th>s4</th>\n",
              "      <th>s5</th>\n",
              "      <th>s6</th>\n",
              "    </tr>\n",
              "  </thead>\n",
              "  <tbody>\n",
              "    <tr>\n",
              "      <th>0</th>\n",
              "      <td>0.03</td>\n",
              "      <td>0.0</td>\n",
              "      <td>0.56</td>\n",
              "      <td>0.02</td>\n",
              "      <td>0.06</td>\n",
              "      <td>0.02</td>\n",
              "      <td>0.02</td>\n",
              "      <td>0.04</td>\n",
              "      <td>0.19</td>\n",
              "      <td>0.06</td>\n",
              "    </tr>\n",
              "  </tbody>\n",
              "</table>\n",
              "</div>\n",
              "    <div class=\"colab-df-buttons\">\n",
              "\n",
              "  <div class=\"colab-df-container\">\n",
              "    <button class=\"colab-df-convert\" onclick=\"convertToInteractive('df-34f157f9-0d48-4f25-9dd9-612104fadffe')\"\n",
              "            title=\"Convert this dataframe to an interactive table.\"\n",
              "            style=\"display:none;\">\n",
              "\n",
              "  <svg xmlns=\"http://www.w3.org/2000/svg\" height=\"24px\" viewBox=\"0 -960 960 960\">\n",
              "    <path d=\"M120-120v-720h720v720H120Zm60-500h600v-160H180v160Zm220 220h160v-160H400v160Zm0 220h160v-160H400v160ZM180-400h160v-160H180v160Zm440 0h160v-160H620v160ZM180-180h160v-160H180v160Zm440 0h160v-160H620v160Z\"/>\n",
              "  </svg>\n",
              "    </button>\n",
              "\n",
              "  <style>\n",
              "    .colab-df-container {\n",
              "      display:flex;\n",
              "      gap: 12px;\n",
              "    }\n",
              "\n",
              "    .colab-df-convert {\n",
              "      background-color: #E8F0FE;\n",
              "      border: none;\n",
              "      border-radius: 50%;\n",
              "      cursor: pointer;\n",
              "      display: none;\n",
              "      fill: #1967D2;\n",
              "      height: 32px;\n",
              "      padding: 0 0 0 0;\n",
              "      width: 32px;\n",
              "    }\n",
              "\n",
              "    .colab-df-convert:hover {\n",
              "      background-color: #E2EBFA;\n",
              "      box-shadow: 0px 1px 2px rgba(60, 64, 67, 0.3), 0px 1px 3px 1px rgba(60, 64, 67, 0.15);\n",
              "      fill: #174EA6;\n",
              "    }\n",
              "\n",
              "    .colab-df-buttons div {\n",
              "      margin-bottom: 4px;\n",
              "    }\n",
              "\n",
              "    [theme=dark] .colab-df-convert {\n",
              "      background-color: #3B4455;\n",
              "      fill: #D2E3FC;\n",
              "    }\n",
              "\n",
              "    [theme=dark] .colab-df-convert:hover {\n",
              "      background-color: #434B5C;\n",
              "      box-shadow: 0px 1px 3px 1px rgba(0, 0, 0, 0.15);\n",
              "      filter: drop-shadow(0px 1px 2px rgba(0, 0, 0, 0.3));\n",
              "      fill: #FFFFFF;\n",
              "    }\n",
              "  </style>\n",
              "\n",
              "    <script>\n",
              "      const buttonEl =\n",
              "        document.querySelector('#df-34f157f9-0d48-4f25-9dd9-612104fadffe button.colab-df-convert');\n",
              "      buttonEl.style.display =\n",
              "        google.colab.kernel.accessAllowed ? 'block' : 'none';\n",
              "\n",
              "      async function convertToInteractive(key) {\n",
              "        const element = document.querySelector('#df-34f157f9-0d48-4f25-9dd9-612104fadffe');\n",
              "        const dataTable =\n",
              "          await google.colab.kernel.invokeFunction('convertToInteractive',\n",
              "                                                    [key], {});\n",
              "        if (!dataTable) return;\n",
              "\n",
              "        const docLinkHtml = 'Like what you see? Visit the ' +\n",
              "          '<a target=\"_blank\" href=https://colab.research.google.com/notebooks/data_table.ipynb>data table notebook</a>'\n",
              "          + ' to learn more about interactive tables.';\n",
              "        element.innerHTML = '';\n",
              "        dataTable['output_type'] = 'display_data';\n",
              "        await google.colab.output.renderOutput(dataTable, element);\n",
              "        const docLink = document.createElement('div');\n",
              "        docLink.innerHTML = docLinkHtml;\n",
              "        element.appendChild(docLink);\n",
              "      }\n",
              "    </script>\n",
              "  </div>\n",
              "\n",
              "    </div>\n",
              "  </div>\n"
            ]
          },
          "metadata": {},
          "execution_count": 73
        }
      ],
      "source": [
        "# check and interpret feature importance\n",
        "pd.DataFrame([np.round(dt_reg.feature_importances_,2)], columns=diab.feature_names)"
      ]
    },
    {
      "cell_type": "code",
      "execution_count": 72,
      "id": "2c52edfd",
      "metadata": {
        "id": "2c52edfd",
        "colab": {
          "base_uri": "https://localhost:8080/"
        },
        "outputId": "0dd183f2-a2e8-44c4-8861-ef87dd2a5ca1"
      },
      "outputs": [
        {
          "output_type": "execute_result",
          "data": {
            "text/plain": [
              "5"
            ]
          },
          "metadata": {},
          "execution_count": 72
        }
      ],
      "source": [
        "# depth of the fitted tree\n",
        "dt_reg.get_depth()"
      ]
    },
    {
      "cell_type": "code",
      "execution_count": 74,
      "id": "b2d9003e",
      "metadata": {
        "id": "b2d9003e",
        "colab": {
          "base_uri": "https://localhost:8080/"
        },
        "outputId": "a02b9d80-6bfc-41d2-97e3-2eb40d71dfb3"
      },
      "outputs": [
        {
          "output_type": "execute_result",
          "data": {
            "text/plain": [
              "31"
            ]
          },
          "metadata": {},
          "execution_count": 74
        }
      ],
      "source": [
        "# number of leaves in the fitted tree\n",
        "dt_reg.get_n_leaves()"
      ]
    },
    {
      "cell_type": "code",
      "execution_count": 75,
      "id": "9f394d00",
      "metadata": {
        "id": "9f394d00",
        "colab": {
          "base_uri": "https://localhost:8080/"
        },
        "outputId": "b71fd642-e812-4529-8661-e9e56d0cccc2"
      },
      "outputs": [
        {
          "output_type": "execute_result",
          "data": {
            "text/plain": [
              "array([157.80769231, 171.67241379, 157.80769231, 246.62068966,\n",
              "       113.59615385, 105.84210526, 237.66666667, 246.62068966,\n",
              "       195.        , 171.67241379])"
            ]
          },
          "metadata": {},
          "execution_count": 75
        }
      ],
      "source": [
        "# predict the regression value for the given samples\n",
        "dt_reg.predict(X_test[:10])"
      ]
    },
    {
      "cell_type": "code",
      "execution_count": 87,
      "id": "f55a47db",
      "metadata": {
        "id": "f55a47db",
        "colab": {
          "base_uri": "https://localhost:8080/",
          "height": 1000
        },
        "outputId": "659e538a-39f5-4092-ea76-92e09233d4c4"
      },
      "outputs": [
        {
          "output_type": "stream",
          "name": "stdout",
          "text": [
            "0.274\n"
          ]
        },
        {
          "output_type": "execute_result",
          "data": {
            "image/svg+xml": "<?xml version=\"1.0\" encoding=\"UTF-8\" standalone=\"no\"?>\n<!DOCTYPE svg PUBLIC \"-//W3C//DTD SVG 1.1//EN\"\n \"http://www.w3.org/Graphics/SVG/1.1/DTD/svg11.dtd\">\n<!-- Generated by graphviz version 2.43.0 (0)\n -->\n<!-- Title: Tree Pages: 1 -->\n<svg width=\"1898pt\" height=\"789pt\"\n viewBox=\"0.00 0.00 1898.00 789.00\" xmlns=\"http://www.w3.org/2000/svg\" xmlns:xlink=\"http://www.w3.org/1999/xlink\">\n<g id=\"graph0\" class=\"graph\" transform=\"scale(1 1) rotate(0) translate(4 785)\">\n<title>Tree</title>\n<polygon fill=\"white\" stroke=\"transparent\" points=\"-4,4 -4,-785 1894,-785 1894,4 -4,4\"/>\n<!-- 0 -->\n<g id=\"node1\" class=\"node\">\n<title>0</title>\n<path fill=\"#f4c8a8\" stroke=\"black\" d=\"M1187,-781C1187,-781 1035,-781 1035,-781 1029,-781 1023,-775 1023,-769 1023,-769 1023,-725 1023,-725 1023,-719 1029,-713 1035,-713 1035,-713 1187,-713 1187,-713 1193,-713 1199,-719 1199,-725 1199,-725 1199,-769 1199,-769 1199,-775 1193,-781 1187,-781\"/>\n<text text-anchor=\"start\" x=\"1075\" y=\"-765.8\" font-family=\"Helvetica,sans-Serif\" font-size=\"14.00\">bmi ≤ 0.005</text>\n<text text-anchor=\"start\" x=\"1031\" y=\"-750.8\" font-family=\"Helvetica,sans-Serif\" font-size=\"14.00\">friedman_mse = 6076.398</text>\n<text text-anchor=\"start\" x=\"1066\" y=\"-735.8\" font-family=\"Helvetica,sans-Serif\" font-size=\"14.00\">samples = 353</text>\n<text text-anchor=\"start\" x=\"1062.5\" y=\"-720.8\" font-family=\"Helvetica,sans-Serif\" font-size=\"14.00\">value = 153.737</text>\n</g>\n<!-- 1 -->\n<g id=\"node2\" class=\"node\">\n<title>1</title>\n<path fill=\"#f8ddca\" stroke=\"black\" d=\"M989,-677C989,-677 845,-677 845,-677 839,-677 833,-671 833,-665 833,-665 833,-621 833,-621 833,-615 839,-609 845,-609 845,-609 989,-609 989,-609 995,-609 1001,-615 1001,-621 1001,-621 1001,-665 1001,-665 1001,-671 995,-677 989,-677\"/>\n<text text-anchor=\"start\" x=\"885\" y=\"-661.8\" font-family=\"Helvetica,sans-Serif\" font-size=\"14.00\">s5 ≤ 0.006</text>\n<text text-anchor=\"start\" x=\"841\" y=\"-646.8\" font-family=\"Helvetica,sans-Serif\" font-size=\"14.00\">friedman_mse = 3612.73</text>\n<text text-anchor=\"start\" x=\"872\" y=\"-631.8\" font-family=\"Helvetica,sans-Serif\" font-size=\"14.00\">samples = 209</text>\n<text text-anchor=\"start\" x=\"868.5\" y=\"-616.8\" font-family=\"Helvetica,sans-Serif\" font-size=\"14.00\">value = 118.043</text>\n</g>\n<!-- 0&#45;&gt;1 -->\n<g id=\"edge1\" class=\"edge\">\n<title>0&#45;&gt;1</title>\n<path fill=\"none\" stroke=\"black\" d=\"M1048.01,-712.88C1029.2,-702.99 1008.43,-692.07 989.08,-681.9\"/>\n<polygon fill=\"black\" stroke=\"black\" points=\"990.48,-678.68 980,-677.12 987.22,-684.88 990.48,-678.68\"/>\n<text text-anchor=\"middle\" x=\"987.42\" y=\"-697.3\" font-family=\"Helvetica,sans-Serif\" font-size=\"14.00\">True</text>\n</g>\n<!-- 22 -->\n<g id=\"node23\" class=\"node\">\n<title>22</title>\n<path fill=\"#eda977\" stroke=\"black\" d=\"M1327,-677C1327,-677 1175,-677 1175,-677 1169,-677 1163,-671 1163,-665 1163,-665 1163,-621 1163,-621 1163,-615 1169,-609 1175,-609 1175,-609 1327,-609 1327,-609 1333,-609 1339,-615 1339,-621 1339,-621 1339,-665 1339,-665 1339,-671 1333,-677 1327,-677\"/>\n<text text-anchor=\"start\" x=\"1215\" y=\"-661.8\" font-family=\"Helvetica,sans-Serif\" font-size=\"14.00\">bmi ≤ 0.073</text>\n<text text-anchor=\"start\" x=\"1171\" y=\"-646.8\" font-family=\"Helvetica,sans-Serif\" font-size=\"14.00\">friedman_mse = 5119.262</text>\n<text text-anchor=\"start\" x=\"1206\" y=\"-631.8\" font-family=\"Helvetica,sans-Serif\" font-size=\"14.00\">samples = 144</text>\n<text text-anchor=\"start\" x=\"1202.5\" y=\"-616.8\" font-family=\"Helvetica,sans-Serif\" font-size=\"14.00\">value = 205.542</text>\n</g>\n<!-- 0&#45;&gt;22 -->\n<g id=\"edge22\" class=\"edge\">\n<title>0&#45;&gt;22</title>\n<path fill=\"none\" stroke=\"black\" d=\"M1156.45,-712.88C1169.41,-703.44 1183.66,-693.06 1197.07,-683.29\"/>\n<polygon fill=\"black\" stroke=\"black\" points=\"1199.27,-686.02 1205.29,-677.3 1195.15,-680.36 1199.27,-686.02\"/>\n<text text-anchor=\"middle\" x=\"1201.42\" y=\"-698.3\" font-family=\"Helvetica,sans-Serif\" font-size=\"14.00\">False</text>\n</g>\n<!-- 2 -->\n<g id=\"node3\" class=\"node\">\n<title>2</title>\n<path fill=\"#fae8db\" stroke=\"black\" d=\"M615,-573C615,-573 463,-573 463,-573 457,-573 451,-567 451,-561 451,-561 451,-517 451,-517 451,-511 457,-505 463,-505 463,-505 615,-505 615,-505 621,-505 627,-511 627,-517 627,-517 627,-561 627,-561 627,-567 621,-573 615,-573\"/>\n<text text-anchor=\"start\" x=\"505\" y=\"-557.8\" font-family=\"Helvetica,sans-Serif\" font-size=\"14.00\">s5 ≤ &#45;0.043</text>\n<text text-anchor=\"start\" x=\"459\" y=\"-542.8\" font-family=\"Helvetica,sans-Serif\" font-size=\"14.00\">friedman_mse = 2378.339</text>\n<text text-anchor=\"start\" x=\"494\" y=\"-527.8\" font-family=\"Helvetica,sans-Serif\" font-size=\"14.00\">samples = 152</text>\n<text text-anchor=\"start\" x=\"490.5\" y=\"-512.8\" font-family=\"Helvetica,sans-Serif\" font-size=\"14.00\">value = 100.559</text>\n</g>\n<!-- 1&#45;&gt;2 -->\n<g id=\"edge2\" class=\"edge\">\n<title>1&#45;&gt;2</title>\n<path fill=\"none\" stroke=\"black\" d=\"M832.64,-619.24C774.72,-603.61 697.66,-582.81 637.01,-566.45\"/>\n<polygon fill=\"black\" stroke=\"black\" points=\"637.61,-562.98 627.04,-563.76 635.79,-569.74 637.61,-562.98\"/>\n</g>\n<!-- 17 -->\n<g id=\"node18\" class=\"node\">\n<title>17</title>\n<path fill=\"#f2c19e\" stroke=\"black\" d=\"M989,-573C989,-573 845,-573 845,-573 839,-573 833,-567 833,-561 833,-561 833,-517 833,-517 833,-511 839,-505 845,-505 845,-505 989,-505 989,-505 995,-505 1001,-511 1001,-517 1001,-517 1001,-561 1001,-561 1001,-567 995,-573 989,-573\"/>\n<text text-anchor=\"start\" x=\"879\" y=\"-557.8\" font-family=\"Helvetica,sans-Serif\" font-size=\"14.00\">bmi ≤ &#45;0.022</text>\n<text text-anchor=\"start\" x=\"841\" y=\"-542.8\" font-family=\"Helvetica,sans-Serif\" font-size=\"14.00\">friedman_mse = 3915.52</text>\n<text text-anchor=\"start\" x=\"876\" y=\"-527.8\" font-family=\"Helvetica,sans-Serif\" font-size=\"14.00\">samples = 57</text>\n<text text-anchor=\"start\" x=\"868.5\" y=\"-512.8\" font-family=\"Helvetica,sans-Serif\" font-size=\"14.00\">value = 164.667</text>\n</g>\n<!-- 1&#45;&gt;17 -->\n<g id=\"edge17\" class=\"edge\">\n<title>1&#45;&gt;17</title>\n<path fill=\"none\" stroke=\"black\" d=\"M917,-608.88C917,-600.78 917,-591.98 917,-583.47\"/>\n<polygon fill=\"black\" stroke=\"black\" points=\"920.5,-583.3 917,-573.3 913.5,-583.3 920.5,-583.3\"/>\n</g>\n<!-- 3 -->\n<g id=\"node4\" class=\"node\">\n<title>3</title>\n<path fill=\"#fdf4ed\" stroke=\"black\" d=\"M354,-469C354,-469 202,-469 202,-469 196,-469 190,-463 190,-457 190,-457 190,-413 190,-413 190,-407 196,-401 202,-401 202,-401 354,-401 354,-401 360,-401 366,-407 366,-413 366,-413 366,-457 366,-457 366,-463 360,-469 354,-469\"/>\n<text text-anchor=\"start\" x=\"244\" y=\"-453.8\" font-family=\"Helvetica,sans-Serif\" font-size=\"14.00\">s1 ≤ &#45;0.039</text>\n<text text-anchor=\"start\" x=\"198\" y=\"-438.8\" font-family=\"Helvetica,sans-Serif\" font-size=\"14.00\">friedman_mse = 1425.414</text>\n<text text-anchor=\"start\" x=\"237\" y=\"-423.8\" font-family=\"Helvetica,sans-Serif\" font-size=\"14.00\">samples = 49</text>\n<text text-anchor=\"start\" x=\"233\" y=\"-408.8\" font-family=\"Helvetica,sans-Serif\" font-size=\"14.00\">value = 80.878</text>\n</g>\n<!-- 2&#45;&gt;3 -->\n<g id=\"edge3\" class=\"edge\">\n<title>2&#45;&gt;3</title>\n<path fill=\"none\" stroke=\"black\" d=\"M454.26,-504.88C428.03,-494.63 398.98,-483.28 372.15,-472.79\"/>\n<polygon fill=\"black\" stroke=\"black\" points=\"373.35,-469.5 362.76,-469.12 370.8,-476.02 373.35,-469.5\"/>\n</g>\n<!-- 6 -->\n<g id=\"node7\" class=\"node\">\n<title>6</title>\n<path fill=\"#f9e2d2\" stroke=\"black\" d=\"M615,-469C615,-469 463,-469 463,-469 457,-469 451,-463 451,-457 451,-457 451,-413 451,-413 451,-407 457,-401 463,-401 463,-401 615,-401 615,-401 621,-401 627,-407 627,-413 627,-413 627,-457 627,-457 627,-463 621,-469 615,-469\"/>\n<text text-anchor=\"start\" x=\"507\" y=\"-453.8\" font-family=\"Helvetica,sans-Serif\" font-size=\"14.00\">s3 ≤ 0.025</text>\n<text text-anchor=\"start\" x=\"459\" y=\"-438.8\" font-family=\"Helvetica,sans-Serif\" font-size=\"14.00\">friedman_mse = 2559.722</text>\n<text text-anchor=\"start\" x=\"494\" y=\"-423.8\" font-family=\"Helvetica,sans-Serif\" font-size=\"14.00\">samples = 103</text>\n<text text-anchor=\"start\" x=\"490.5\" y=\"-408.8\" font-family=\"Helvetica,sans-Serif\" font-size=\"14.00\">value = 109.922</text>\n</g>\n<!-- 2&#45;&gt;6 -->\n<g id=\"edge6\" class=\"edge\">\n<title>2&#45;&gt;6</title>\n<path fill=\"none\" stroke=\"black\" d=\"M539,-504.88C539,-496.78 539,-487.98 539,-479.47\"/>\n<polygon fill=\"black\" stroke=\"black\" points=\"542.5,-479.3 539,-469.3 535.5,-479.3 542.5,-479.3\"/>\n</g>\n<!-- 4 -->\n<g id=\"node5\" class=\"node\">\n<title>4</title>\n<path fill=\"#fbebe0\" stroke=\"black\" d=\"M164,-357.5C164,-357.5 12,-357.5 12,-357.5 6,-357.5 0,-351.5 0,-345.5 0,-345.5 0,-316.5 0,-316.5 0,-310.5 6,-304.5 12,-304.5 12,-304.5 164,-304.5 164,-304.5 170,-304.5 176,-310.5 176,-316.5 176,-316.5 176,-345.5 176,-345.5 176,-351.5 170,-357.5 164,-357.5\"/>\n<text text-anchor=\"start\" x=\"8\" y=\"-342.3\" font-family=\"Helvetica,sans-Serif\" font-size=\"14.00\">friedman_mse = 1663.902</text>\n<text text-anchor=\"start\" x=\"47\" y=\"-327.3\" font-family=\"Helvetica,sans-Serif\" font-size=\"14.00\">samples = 28</text>\n<text text-anchor=\"start\" x=\"47\" y=\"-312.3\" font-family=\"Helvetica,sans-Serif\" font-size=\"14.00\">value = 94.75</text>\n</g>\n<!-- 3&#45;&gt;4 -->\n<g id=\"edge4\" class=\"edge\">\n<title>3&#45;&gt;4</title>\n<path fill=\"none\" stroke=\"black\" d=\"M216.31,-400.88C193.16,-388.46 166.99,-374.41 144.35,-362.25\"/>\n<polygon fill=\"black\" stroke=\"black\" points=\"146,-359.17 135.54,-357.52 142.69,-365.33 146,-359.17\"/>\n</g>\n<!-- 5 -->\n<g id=\"node6\" class=\"node\">\n<title>5</title>\n<path fill=\"#ffffff\" stroke=\"black\" d=\"M350,-357.5C350,-357.5 206,-357.5 206,-357.5 200,-357.5 194,-351.5 194,-345.5 194,-345.5 194,-316.5 194,-316.5 194,-310.5 200,-304.5 206,-304.5 206,-304.5 350,-304.5 350,-304.5 356,-304.5 362,-310.5 362,-316.5 362,-316.5 362,-345.5 362,-345.5 362,-351.5 356,-357.5 350,-357.5\"/>\n<text text-anchor=\"start\" x=\"202\" y=\"-342.3\" font-family=\"Helvetica,sans-Serif\" font-size=\"14.00\">friedman_mse = 508.712</text>\n<text text-anchor=\"start\" x=\"237\" y=\"-327.3\" font-family=\"Helvetica,sans-Serif\" font-size=\"14.00\">samples = 21</text>\n<text text-anchor=\"start\" x=\"233\" y=\"-312.3\" font-family=\"Helvetica,sans-Serif\" font-size=\"14.00\">value = 62.381</text>\n</g>\n<!-- 3&#45;&gt;5 -->\n<g id=\"edge5\" class=\"edge\">\n<title>3&#45;&gt;5</title>\n<path fill=\"none\" stroke=\"black\" d=\"M278,-400.88C278,-390.33 278,-378.6 278,-367.85\"/>\n<polygon fill=\"black\" stroke=\"black\" points=\"281.5,-367.52 278,-357.52 274.5,-367.52 281.5,-367.52\"/>\n</g>\n<!-- 7 -->\n<g id=\"node8\" class=\"node\">\n<title>7</title>\n<path fill=\"#f8dbc7\" stroke=\"black\" d=\"M536,-365C536,-365 392,-365 392,-365 386,-365 380,-359 380,-353 380,-353 380,-309 380,-309 380,-303 386,-297 392,-297 392,-297 536,-297 536,-297 542,-297 548,-303 548,-309 548,-309 548,-353 548,-353 548,-359 542,-365 536,-365\"/>\n<text text-anchor=\"start\" x=\"430\" y=\"-349.8\" font-family=\"Helvetica,sans-Serif\" font-size=\"14.00\">s1 ≤ &#45;0.044</text>\n<text text-anchor=\"start\" x=\"388\" y=\"-334.8\" font-family=\"Helvetica,sans-Serif\" font-size=\"14.00\">friedman_mse = 3012.59</text>\n<text text-anchor=\"start\" x=\"423\" y=\"-319.8\" font-family=\"Helvetica,sans-Serif\" font-size=\"14.00\">samples = 64</text>\n<text text-anchor=\"start\" x=\"415.5\" y=\"-304.8\" font-family=\"Helvetica,sans-Serif\" font-size=\"14.00\">value = 121.859</text>\n</g>\n<!-- 6&#45;&gt;7 -->\n<g id=\"edge7\" class=\"edge\">\n<title>6&#45;&gt;7</title>\n<path fill=\"none\" stroke=\"black\" d=\"M514.65,-400.88C508.23,-392.15 501.22,-382.62 494.52,-373.51\"/>\n<polygon fill=\"black\" stroke=\"black\" points=\"497.23,-371.28 488.48,-365.3 491.59,-375.43 497.23,-371.28\"/>\n</g>\n<!-- 14 -->\n<g id=\"node15\" class=\"node\">\n<title>14</title>\n<path fill=\"#fceee4\" stroke=\"black\" d=\"M730,-365C730,-365 578,-365 578,-365 572,-365 566,-359 566,-353 566,-353 566,-309 566,-309 566,-303 572,-297 578,-297 578,-297 730,-297 730,-297 736,-297 742,-303 742,-309 742,-309 742,-353 742,-353 742,-359 736,-365 730,-365\"/>\n<text text-anchor=\"start\" x=\"618\" y=\"-349.8\" font-family=\"Helvetica,sans-Serif\" font-size=\"14.00\">age ≤ 0.004</text>\n<text text-anchor=\"start\" x=\"574\" y=\"-334.8\" font-family=\"Helvetica,sans-Serif\" font-size=\"14.00\">friedman_mse = 1198.991</text>\n<text text-anchor=\"start\" x=\"613\" y=\"-319.8\" font-family=\"Helvetica,sans-Serif\" font-size=\"14.00\">samples = 39</text>\n<text text-anchor=\"start\" x=\"609\" y=\"-304.8\" font-family=\"Helvetica,sans-Serif\" font-size=\"14.00\">value = 90.333</text>\n</g>\n<!-- 6&#45;&gt;14 -->\n<g id=\"edge14\" class=\"edge\">\n<title>6&#45;&gt;14</title>\n<path fill=\"none\" stroke=\"black\" d=\"M576.34,-400.88C586.68,-391.71 598.02,-381.65 608.76,-372.12\"/>\n<polygon fill=\"black\" stroke=\"black\" points=\"611.3,-374.55 616.46,-365.3 606.65,-369.32 611.3,-374.55\"/>\n</g>\n<!-- 8 -->\n<g id=\"node9\" class=\"node\">\n<title>8</title>\n<path fill=\"#f5ceb2\" stroke=\"black\" d=\"M347,-253.5C347,-253.5 195,-253.5 195,-253.5 189,-253.5 183,-247.5 183,-241.5 183,-241.5 183,-212.5 183,-212.5 183,-206.5 189,-200.5 195,-200.5 195,-200.5 347,-200.5 347,-200.5 353,-200.5 359,-206.5 359,-212.5 359,-212.5 359,-241.5 359,-241.5 359,-247.5 353,-253.5 347,-253.5\"/>\n<text text-anchor=\"start\" x=\"191\" y=\"-238.3\" font-family=\"Helvetica,sans-Serif\" font-size=\"14.00\">friedman_mse = 2620.484</text>\n<text text-anchor=\"start\" x=\"230\" y=\"-223.3\" font-family=\"Helvetica,sans-Serif\" font-size=\"14.00\">samples = 17</text>\n<text text-anchor=\"start\" x=\"222.5\" y=\"-208.3\" font-family=\"Helvetica,sans-Serif\" font-size=\"14.00\">value = 143.529</text>\n</g>\n<!-- 7&#45;&gt;8 -->\n<g id=\"edge8\" class=\"edge\">\n<title>7&#45;&gt;8</title>\n<path fill=\"none\" stroke=\"black\" d=\"M401.34,-296.88C377.82,-284.46 351.24,-270.41 328.24,-258.25\"/>\n<polygon fill=\"black\" stroke=\"black\" points=\"329.76,-255.1 319.29,-253.52 326.49,-261.29 329.76,-255.1\"/>\n</g>\n<!-- 9 -->\n<g id=\"node10\" class=\"node\">\n<title>9</title>\n<path fill=\"#f9e0ce\" stroke=\"black\" d=\"M541,-261C541,-261 389,-261 389,-261 383,-261 377,-255 377,-249 377,-249 377,-205 377,-205 377,-199 383,-193 389,-193 389,-193 541,-193 541,-193 547,-193 553,-199 553,-205 553,-205 553,-249 553,-249 553,-255 547,-261 541,-261\"/>\n<text text-anchor=\"start\" x=\"433\" y=\"-245.8\" font-family=\"Helvetica,sans-Serif\" font-size=\"14.00\">s2 ≤ 0.021</text>\n<text text-anchor=\"start\" x=\"385\" y=\"-230.8\" font-family=\"Helvetica,sans-Serif\" font-size=\"14.00\">friedman_mse = 2923.127</text>\n<text text-anchor=\"start\" x=\"424\" y=\"-215.8\" font-family=\"Helvetica,sans-Serif\" font-size=\"14.00\">samples = 47</text>\n<text text-anchor=\"start\" x=\"416.5\" y=\"-200.8\" font-family=\"Helvetica,sans-Serif\" font-size=\"14.00\">value = 114.021</text>\n</g>\n<!-- 7&#45;&gt;9 -->\n<g id=\"edge9\" class=\"edge\">\n<title>7&#45;&gt;9</title>\n<path fill=\"none\" stroke=\"black\" d=\"M464.32,-296.88C464.4,-288.78 464.49,-279.98 464.57,-271.47\"/>\n<polygon fill=\"black\" stroke=\"black\" points=\"468.08,-271.33 464.67,-261.3 461.08,-271.26 468.08,-271.33\"/>\n</g>\n<!-- 10 -->\n<g id=\"node11\" class=\"node\">\n<title>10</title>\n<path fill=\"#fae7d9\" stroke=\"black\" d=\"M444,-157C444,-157 292,-157 292,-157 286,-157 280,-151 280,-145 280,-145 280,-101 280,-101 280,-95 286,-89 292,-89 292,-89 444,-89 444,-89 450,-89 456,-95 456,-101 456,-101 456,-145 456,-145 456,-151 450,-157 444,-157\"/>\n<text text-anchor=\"start\" x=\"330\" y=\"-141.8\" font-family=\"Helvetica,sans-Serif\" font-size=\"14.00\">bmi ≤ &#45;0.027</text>\n<text text-anchor=\"start\" x=\"288\" y=\"-126.8\" font-family=\"Helvetica,sans-Serif\" font-size=\"14.00\">friedman_mse = 2227.499</text>\n<text text-anchor=\"start\" x=\"327\" y=\"-111.8\" font-family=\"Helvetica,sans-Serif\" font-size=\"14.00\">samples = 32</text>\n<text text-anchor=\"start\" x=\"319.5\" y=\"-96.8\" font-family=\"Helvetica,sans-Serif\" font-size=\"14.00\">value = 102.469</text>\n</g>\n<!-- 9&#45;&gt;10 -->\n<g id=\"edge10\" class=\"edge\">\n<title>9&#45;&gt;10</title>\n<path fill=\"none\" stroke=\"black\" d=\"M433.51,-192.88C424.95,-183.89 415.59,-174.04 406.68,-164.68\"/>\n<polygon fill=\"black\" stroke=\"black\" points=\"409.09,-162.13 399.67,-157.3 404.02,-166.96 409.09,-162.13\"/>\n</g>\n<!-- 13 -->\n<g id=\"node14\" class=\"node\">\n<title>13</title>\n<path fill=\"#f5d1b7\" stroke=\"black\" d=\"M638,-149.5C638,-149.5 486,-149.5 486,-149.5 480,-149.5 474,-143.5 474,-137.5 474,-137.5 474,-108.5 474,-108.5 474,-102.5 480,-96.5 486,-96.5 486,-96.5 638,-96.5 638,-96.5 644,-96.5 650,-102.5 650,-108.5 650,-108.5 650,-137.5 650,-137.5 650,-143.5 644,-149.5 638,-149.5\"/>\n<text text-anchor=\"start\" x=\"482\" y=\"-134.3\" font-family=\"Helvetica,sans-Serif\" font-size=\"14.00\">friedman_mse = 3515.022</text>\n<text text-anchor=\"start\" x=\"521\" y=\"-119.3\" font-family=\"Helvetica,sans-Serif\" font-size=\"14.00\">samples = 15</text>\n<text text-anchor=\"start\" x=\"513.5\" y=\"-104.3\" font-family=\"Helvetica,sans-Serif\" font-size=\"14.00\">value = 138.667</text>\n</g>\n<!-- 9&#45;&gt;13 -->\n<g id=\"edge13\" class=\"edge\">\n<title>9&#45;&gt;13</title>\n<path fill=\"none\" stroke=\"black\" d=\"M496.49,-192.88C507.47,-181.34 519.79,-168.39 530.75,-156.86\"/>\n<polygon fill=\"black\" stroke=\"black\" points=\"533.38,-159.18 537.73,-149.52 528.3,-154.35 533.38,-159.18\"/>\n</g>\n<!-- 11 -->\n<g id=\"node12\" class=\"node\">\n<title>11</title>\n<path fill=\"#fcefe6\" stroke=\"black\" d=\"M345,-53C345,-53 201,-53 201,-53 195,-53 189,-47 189,-41 189,-41 189,-12 189,-12 189,-6 195,0 201,0 201,0 345,0 345,0 351,0 357,-6 357,-12 357,-12 357,-41 357,-41 357,-47 351,-53 345,-53\"/>\n<text text-anchor=\"start\" x=\"197\" y=\"-37.8\" font-family=\"Helvetica,sans-Serif\" font-size=\"14.00\">friedman_mse = 937.434</text>\n<text text-anchor=\"start\" x=\"232\" y=\"-22.8\" font-family=\"Helvetica,sans-Serif\" font-size=\"14.00\">samples = 16</text>\n<text text-anchor=\"start\" x=\"228\" y=\"-7.8\" font-family=\"Helvetica,sans-Serif\" font-size=\"14.00\">value = 89.062</text>\n</g>\n<!-- 10&#45;&gt;11 -->\n<g id=\"edge11\" class=\"edge\">\n<title>10&#45;&gt;11</title>\n<path fill=\"none\" stroke=\"black\" d=\"M334.77,-88.95C325.49,-79.71 315.39,-69.67 306.11,-60.44\"/>\n<polygon fill=\"black\" stroke=\"black\" points=\"308.43,-57.81 298.87,-53.24 303.49,-62.77 308.43,-57.81\"/>\n</g>\n<!-- 12 -->\n<g id=\"node13\" class=\"node\">\n<title>12</title>\n<path fill=\"#f8dfcc\" stroke=\"black\" d=\"M539,-53C539,-53 387,-53 387,-53 381,-53 375,-47 375,-41 375,-41 375,-12 375,-12 375,-6 381,0 387,0 387,0 539,0 539,0 545,0 551,-6 551,-12 551,-12 551,-41 551,-41 551,-47 545,-53 539,-53\"/>\n<text text-anchor=\"start\" x=\"383\" y=\"-37.8\" font-family=\"Helvetica,sans-Serif\" font-size=\"14.00\">friedman_mse = 3158.109</text>\n<text text-anchor=\"start\" x=\"422\" y=\"-22.8\" font-family=\"Helvetica,sans-Serif\" font-size=\"14.00\">samples = 16</text>\n<text text-anchor=\"start\" x=\"414.5\" y=\"-7.8\" font-family=\"Helvetica,sans-Serif\" font-size=\"14.00\">value = 115.875</text>\n</g>\n<!-- 10&#45;&gt;12 -->\n<g id=\"edge12\" class=\"edge\">\n<title>10&#45;&gt;12</title>\n<path fill=\"none\" stroke=\"black\" d=\"M401.23,-88.95C410.51,-79.71 420.61,-69.67 429.89,-60.44\"/>\n<polygon fill=\"black\" stroke=\"black\" points=\"432.51,-62.77 437.13,-53.24 427.57,-57.81 432.51,-62.77\"/>\n</g>\n<!-- 15 -->\n<g id=\"node16\" class=\"node\">\n<title>15</title>\n<path fill=\"#fdf7f2\" stroke=\"black\" d=\"M721.5,-253.5C721.5,-253.5 584.5,-253.5 584.5,-253.5 578.5,-253.5 572.5,-247.5 572.5,-241.5 572.5,-241.5 572.5,-212.5 572.5,-212.5 572.5,-206.5 578.5,-200.5 584.5,-200.5 584.5,-200.5 721.5,-200.5 721.5,-200.5 727.5,-200.5 733.5,-206.5 733.5,-212.5 733.5,-212.5 733.5,-241.5 733.5,-241.5 733.5,-247.5 727.5,-253.5 721.5,-253.5\"/>\n<text text-anchor=\"start\" x=\"580.5\" y=\"-238.3\" font-family=\"Helvetica,sans-Serif\" font-size=\"14.00\">friedman_mse = 683.84</text>\n<text text-anchor=\"start\" x=\"612\" y=\"-223.3\" font-family=\"Helvetica,sans-Serif\" font-size=\"14.00\">samples = 20</text>\n<text text-anchor=\"start\" x=\"615.5\" y=\"-208.3\" font-family=\"Helvetica,sans-Serif\" font-size=\"14.00\">value = 75.6</text>\n</g>\n<!-- 14&#45;&gt;15 -->\n<g id=\"edge15\" class=\"edge\">\n<title>14&#45;&gt;15</title>\n<path fill=\"none\" stroke=\"black\" d=\"M653.68,-296.88C653.57,-286.33 653.46,-274.6 653.35,-263.85\"/>\n<polygon fill=\"black\" stroke=\"black\" points=\"656.85,-263.49 653.25,-253.52 649.85,-263.55 656.85,-263.49\"/>\n</g>\n<!-- 16 -->\n<g id=\"node17\" class=\"node\">\n<title>16</title>\n<path fill=\"#fae5d6\" stroke=\"black\" d=\"M916,-253.5C916,-253.5 764,-253.5 764,-253.5 758,-253.5 752,-247.5 752,-241.5 752,-241.5 752,-212.5 752,-212.5 752,-206.5 758,-200.5 764,-200.5 764,-200.5 916,-200.5 916,-200.5 922,-200.5 928,-206.5 928,-212.5 928,-212.5 928,-241.5 928,-241.5 928,-247.5 922,-253.5 916,-253.5\"/>\n<text text-anchor=\"start\" x=\"760\" y=\"-238.3\" font-family=\"Helvetica,sans-Serif\" font-size=\"14.00\">friedman_mse = 1272.238</text>\n<text text-anchor=\"start\" x=\"799\" y=\"-223.3\" font-family=\"Helvetica,sans-Serif\" font-size=\"14.00\">samples = 19</text>\n<text text-anchor=\"start\" x=\"791.5\" y=\"-208.3\" font-family=\"Helvetica,sans-Serif\" font-size=\"14.00\">value = 105.842</text>\n</g>\n<!-- 14&#45;&gt;16 -->\n<g id=\"edge16\" class=\"edge\">\n<title>14&#45;&gt;16</title>\n<path fill=\"none\" stroke=\"black\" d=\"M714.39,-296.88C736.95,-284.51 762.44,-270.53 784.54,-258.41\"/>\n<polygon fill=\"black\" stroke=\"black\" points=\"786.38,-261.4 793.46,-253.52 783.01,-255.26 786.38,-261.4\"/>\n</g>\n<!-- 18 -->\n<g id=\"node19\" class=\"node\">\n<title>18</title>\n<path fill=\"#f6d2b8\" stroke=\"black\" d=\"M896,-461.5C896,-461.5 744,-461.5 744,-461.5 738,-461.5 732,-455.5 732,-449.5 732,-449.5 732,-420.5 732,-420.5 732,-414.5 738,-408.5 744,-408.5 744,-408.5 896,-408.5 896,-408.5 902,-408.5 908,-414.5 908,-420.5 908,-420.5 908,-449.5 908,-449.5 908,-455.5 902,-461.5 896,-461.5\"/>\n<text text-anchor=\"start\" x=\"740\" y=\"-446.3\" font-family=\"Helvetica,sans-Serif\" font-size=\"14.00\">friedman_mse = 2591.896</text>\n<text text-anchor=\"start\" x=\"779\" y=\"-431.3\" font-family=\"Helvetica,sans-Serif\" font-size=\"14.00\">samples = 21</text>\n<text text-anchor=\"start\" x=\"771.5\" y=\"-416.3\" font-family=\"Helvetica,sans-Serif\" font-size=\"14.00\">value = 137.095</text>\n</g>\n<!-- 17&#45;&gt;18 -->\n<g id=\"edge18\" class=\"edge\">\n<title>17&#45;&gt;18</title>\n<path fill=\"none\" stroke=\"black\" d=\"M885.51,-504.88C874.53,-493.34 862.21,-480.39 851.25,-468.86\"/>\n<polygon fill=\"black\" stroke=\"black\" points=\"853.7,-466.35 844.27,-461.52 848.62,-471.18 853.7,-466.35\"/>\n</g>\n<!-- 19 -->\n<g id=\"node20\" class=\"node\">\n<title>19</title>\n<path fill=\"#f0b88f\" stroke=\"black\" d=\"M1090,-469C1090,-469 938,-469 938,-469 932,-469 926,-463 926,-457 926,-457 926,-413 926,-413 926,-407 932,-401 938,-401 938,-401 1090,-401 1090,-401 1096,-401 1102,-407 1102,-413 1102,-413 1102,-457 1102,-457 1102,-463 1096,-469 1090,-469\"/>\n<text text-anchor=\"start\" x=\"980\" y=\"-453.8\" font-family=\"Helvetica,sans-Serif\" font-size=\"14.00\">s3 ≤ &#45;0.031</text>\n<text text-anchor=\"start\" x=\"934\" y=\"-438.8\" font-family=\"Helvetica,sans-Serif\" font-size=\"14.00\">friedman_mse = 3985.521</text>\n<text text-anchor=\"start\" x=\"973\" y=\"-423.8\" font-family=\"Helvetica,sans-Serif\" font-size=\"14.00\">samples = 36</text>\n<text text-anchor=\"start\" x=\"969\" y=\"-408.8\" font-family=\"Helvetica,sans-Serif\" font-size=\"14.00\">value = 180.75</text>\n</g>\n<!-- 17&#45;&gt;19 -->\n<g id=\"edge19\" class=\"edge\">\n<title>17&#45;&gt;19</title>\n<path fill=\"none\" stroke=\"black\" d=\"M948.49,-504.88C957.05,-495.89 966.41,-486.04 975.32,-476.68\"/>\n<polygon fill=\"black\" stroke=\"black\" points=\"977.98,-478.96 982.33,-469.3 972.91,-474.13 977.98,-478.96\"/>\n</g>\n<!-- 20 -->\n<g id=\"node21\" class=\"node\">\n<title>20</title>\n<path fill=\"#eead7e\" stroke=\"black\" d=\"M924,-357.5C924,-357.5 772,-357.5 772,-357.5 766,-357.5 760,-351.5 760,-345.5 760,-345.5 760,-316.5 760,-316.5 760,-310.5 766,-304.5 772,-304.5 772,-304.5 924,-304.5 924,-304.5 930,-304.5 936,-310.5 936,-316.5 936,-316.5 936,-345.5 936,-345.5 936,-351.5 930,-357.5 924,-357.5\"/>\n<text text-anchor=\"start\" x=\"768\" y=\"-342.3\" font-family=\"Helvetica,sans-Serif\" font-size=\"14.00\">friedman_mse = 3833.584</text>\n<text text-anchor=\"start\" x=\"807\" y=\"-327.3\" font-family=\"Helvetica,sans-Serif\" font-size=\"14.00\">samples = 19</text>\n<text text-anchor=\"start\" x=\"799.5\" y=\"-312.3\" font-family=\"Helvetica,sans-Serif\" font-size=\"14.00\">value = 198.684</text>\n</g>\n<!-- 19&#45;&gt;20 -->\n<g id=\"edge20\" class=\"edge\">\n<title>19&#45;&gt;20</title>\n<path fill=\"none\" stroke=\"black\" d=\"M960.1,-400.88C940.24,-388.68 917.82,-374.9 898.29,-362.9\"/>\n<polygon fill=\"black\" stroke=\"black\" points=\"899.88,-359.77 889.53,-357.52 896.22,-365.74 899.88,-359.77\"/>\n</g>\n<!-- 21 -->\n<g id=\"node22\" class=\"node\">\n<title>21</title>\n<path fill=\"#f3c4a2\" stroke=\"black\" d=\"M1110,-357.5C1110,-357.5 966,-357.5 966,-357.5 960,-357.5 954,-351.5 954,-345.5 954,-345.5 954,-316.5 954,-316.5 954,-310.5 960,-304.5 966,-304.5 966,-304.5 1110,-304.5 1110,-304.5 1116,-304.5 1122,-310.5 1122,-316.5 1122,-316.5 1122,-345.5 1122,-345.5 1122,-351.5 1116,-357.5 1110,-357.5\"/>\n<text text-anchor=\"start\" x=\"962\" y=\"-342.3\" font-family=\"Helvetica,sans-Serif\" font-size=\"14.00\">friedman_mse = 3394.09</text>\n<text text-anchor=\"start\" x=\"997\" y=\"-327.3\" font-family=\"Helvetica,sans-Serif\" font-size=\"14.00\">samples = 17</text>\n<text text-anchor=\"start\" x=\"989.5\" y=\"-312.3\" font-family=\"Helvetica,sans-Serif\" font-size=\"14.00\">value = 160.706</text>\n</g>\n<!-- 19&#45;&gt;21 -->\n<g id=\"edge21\" class=\"edge\">\n<title>19&#45;&gt;21</title>\n<path fill=\"none\" stroke=\"black\" d=\"M1021.79,-400.88C1024.3,-390.22 1027.09,-378.35 1029.64,-367.52\"/>\n<polygon fill=\"black\" stroke=\"black\" points=\"1033.11,-368.06 1032,-357.52 1026.3,-366.45 1033.11,-368.06\"/>\n</g>\n<!-- 23 -->\n<g id=\"node24\" class=\"node\">\n<title>23</title>\n<path fill=\"#efb185\" stroke=\"black\" d=\"M1327,-573C1327,-573 1175,-573 1175,-573 1169,-573 1163,-567 1163,-561 1163,-561 1163,-517 1163,-517 1163,-511 1169,-505 1175,-505 1175,-505 1327,-505 1327,-505 1333,-505 1339,-511 1339,-517 1339,-517 1339,-561 1339,-561 1339,-567 1333,-573 1327,-573\"/>\n<text text-anchor=\"start\" x=\"1219\" y=\"-557.8\" font-family=\"Helvetica,sans-Serif\" font-size=\"14.00\">s6 ≤ 0.034</text>\n<text text-anchor=\"start\" x=\"1171\" y=\"-542.8\" font-family=\"Helvetica,sans-Serif\" font-size=\"14.00\">friedman_mse = 4557.346</text>\n<text text-anchor=\"start\" x=\"1206\" y=\"-527.8\" font-family=\"Helvetica,sans-Serif\" font-size=\"14.00\">samples = 118</text>\n<text text-anchor=\"start\" x=\"1202.5\" y=\"-512.8\" font-family=\"Helvetica,sans-Serif\" font-size=\"14.00\">value = 191.102</text>\n</g>\n<!-- 22&#45;&gt;23 -->\n<g id=\"edge23\" class=\"edge\">\n<title>22&#45;&gt;23</title>\n<path fill=\"none\" stroke=\"black\" d=\"M1251,-608.88C1251,-600.78 1251,-591.98 1251,-583.47\"/>\n<polygon fill=\"black\" stroke=\"black\" points=\"1254.5,-583.3 1251,-573.3 1247.5,-583.3 1254.5,-583.3\"/>\n</g>\n<!-- 34 -->\n<g id=\"node35\" class=\"node\">\n<title>34</title>\n<path fill=\"#e58139\" stroke=\"black\" d=\"M1521,-565.5C1521,-565.5 1369,-565.5 1369,-565.5 1363,-565.5 1357,-559.5 1357,-553.5 1357,-553.5 1357,-524.5 1357,-524.5 1357,-518.5 1363,-512.5 1369,-512.5 1369,-512.5 1521,-512.5 1521,-512.5 1527,-512.5 1533,-518.5 1533,-524.5 1533,-524.5 1533,-553.5 1533,-553.5 1533,-559.5 1527,-565.5 1521,-565.5\"/>\n<text text-anchor=\"start\" x=\"1365\" y=\"-550.3\" font-family=\"Helvetica,sans-Serif\" font-size=\"14.00\">friedman_mse = 2428.302</text>\n<text text-anchor=\"start\" x=\"1404\" y=\"-535.3\" font-family=\"Helvetica,sans-Serif\" font-size=\"14.00\">samples = 26</text>\n<text text-anchor=\"start\" x=\"1396.5\" y=\"-520.3\" font-family=\"Helvetica,sans-Serif\" font-size=\"14.00\">value = 271.077</text>\n</g>\n<!-- 22&#45;&gt;34 -->\n<g id=\"edge34\" class=\"edge\">\n<title>22&#45;&gt;34</title>\n<path fill=\"none\" stroke=\"black\" d=\"M1313.99,-608.88C1337.62,-596.46 1364.35,-582.41 1387.46,-570.25\"/>\n<polygon fill=\"black\" stroke=\"black\" points=\"1389.24,-573.27 1396.46,-565.52 1385.98,-567.08 1389.24,-573.27\"/>\n</g>\n<!-- 24 -->\n<g id=\"node25\" class=\"node\">\n<title>24</title>\n<path fill=\"#f1bb93\" stroke=\"black\" d=\"M1327,-469C1327,-469 1175,-469 1175,-469 1169,-469 1163,-463 1163,-457 1163,-457 1163,-413 1163,-413 1163,-407 1169,-401 1175,-401 1175,-401 1327,-401 1327,-401 1333,-401 1339,-407 1339,-413 1339,-413 1339,-457 1339,-457 1339,-463 1333,-469 1327,-469\"/>\n<text text-anchor=\"start\" x=\"1219\" y=\"-453.8\" font-family=\"Helvetica,sans-Serif\" font-size=\"14.00\">bp ≤ 0.005</text>\n<text text-anchor=\"start\" x=\"1171\" y=\"-438.8\" font-family=\"Helvetica,sans-Serif\" font-size=\"14.00\">friedman_mse = 4005.619</text>\n<text text-anchor=\"start\" x=\"1210\" y=\"-423.8\" font-family=\"Helvetica,sans-Serif\" font-size=\"14.00\">samples = 85</text>\n<text text-anchor=\"start\" x=\"1210\" y=\"-408.8\" font-family=\"Helvetica,sans-Serif\" font-size=\"14.00\">value = 175.8</text>\n</g>\n<!-- 23&#45;&gt;24 -->\n<g id=\"edge24\" class=\"edge\">\n<title>23&#45;&gt;24</title>\n<path fill=\"none\" stroke=\"black\" d=\"M1251,-504.88C1251,-496.78 1251,-487.98 1251,-479.47\"/>\n<polygon fill=\"black\" stroke=\"black\" points=\"1254.5,-479.3 1251,-469.3 1247.5,-479.3 1254.5,-479.3\"/>\n</g>\n<!-- 31 -->\n<g id=\"node32\" class=\"node\">\n<title>31</title>\n<path fill=\"#ea995f\" stroke=\"black\" d=\"M1688,-469C1688,-469 1536,-469 1536,-469 1530,-469 1524,-463 1524,-457 1524,-457 1524,-413 1524,-413 1524,-407 1530,-401 1536,-401 1536,-401 1688,-401 1688,-401 1694,-401 1700,-407 1700,-413 1700,-413 1700,-457 1700,-457 1700,-463 1694,-469 1688,-469\"/>\n<text text-anchor=\"start\" x=\"1580\" y=\"-453.8\" font-family=\"Helvetica,sans-Serif\" font-size=\"14.00\">bp ≤ 0.029</text>\n<text text-anchor=\"start\" x=\"1532\" y=\"-438.8\" font-family=\"Helvetica,sans-Serif\" font-size=\"14.00\">friedman_mse = 3821.947</text>\n<text text-anchor=\"start\" x=\"1571\" y=\"-423.8\" font-family=\"Helvetica,sans-Serif\" font-size=\"14.00\">samples = 33</text>\n<text text-anchor=\"start\" x=\"1563.5\" y=\"-408.8\" font-family=\"Helvetica,sans-Serif\" font-size=\"14.00\">value = 230.515</text>\n</g>\n<!-- 23&#45;&gt;31 -->\n<g id=\"edge31\" class=\"edge\">\n<title>23&#45;&gt;31</title>\n<path fill=\"none\" stroke=\"black\" d=\"M1339.2,-507.69C1342.16,-506.77 1345.1,-505.87 1348,-505 1402.55,-488.62 1464.1,-472.4 1514.03,-459.81\"/>\n<polygon fill=\"black\" stroke=\"black\" points=\"1515.01,-463.17 1523.86,-457.34 1513.31,-456.38 1515.01,-463.17\"/>\n</g>\n<!-- 25 -->\n<g id=\"node26\" class=\"node\">\n<title>25</title>\n<path fill=\"#f3c6a6\" stroke=\"black\" d=\"M1304,-365C1304,-365 1152,-365 1152,-365 1146,-365 1140,-359 1140,-353 1140,-353 1140,-309 1140,-309 1140,-303 1146,-297 1152,-297 1152,-297 1304,-297 1304,-297 1310,-297 1316,-303 1316,-309 1316,-309 1316,-353 1316,-353 1316,-359 1310,-365 1304,-365\"/>\n<text text-anchor=\"start\" x=\"1192\" y=\"-349.8\" font-family=\"Helvetica,sans-Serif\" font-size=\"14.00\">bmi ≤ 0.034</text>\n<text text-anchor=\"start\" x=\"1148\" y=\"-334.8\" font-family=\"Helvetica,sans-Serif\" font-size=\"14.00\">friedman_mse = 3496.112</text>\n<text text-anchor=\"start\" x=\"1187\" y=\"-319.8\" font-family=\"Helvetica,sans-Serif\" font-size=\"14.00\">samples = 39</text>\n<text text-anchor=\"start\" x=\"1179.5\" y=\"-304.8\" font-family=\"Helvetica,sans-Serif\" font-size=\"14.00\">value = 156.205</text>\n</g>\n<!-- 24&#45;&gt;25 -->\n<g id=\"edge25\" class=\"edge\">\n<title>24&#45;&gt;25</title>\n<path fill=\"none\" stroke=\"black\" d=\"M1243.53,-400.88C1241.68,-392.69 1239.68,-383.79 1237.74,-375.19\"/>\n<polygon fill=\"black\" stroke=\"black\" points=\"1241.12,-374.28 1235.51,-365.3 1234.29,-375.82 1241.12,-374.28\"/>\n</g>\n<!-- 28 -->\n<g id=\"node29\" class=\"node\">\n<title>28</title>\n<path fill=\"#efb084\" stroke=\"black\" d=\"M1498,-365C1498,-365 1346,-365 1346,-365 1340,-365 1334,-359 1334,-353 1334,-353 1334,-309 1334,-309 1334,-303 1340,-297 1346,-297 1346,-297 1498,-297 1498,-297 1504,-297 1510,-303 1510,-309 1510,-309 1510,-353 1510,-353 1510,-359 1504,-365 1498,-365\"/>\n<text text-anchor=\"start\" x=\"1386\" y=\"-349.8\" font-family=\"Helvetica,sans-Serif\" font-size=\"14.00\">bmi ≤ 0.028</text>\n<text text-anchor=\"start\" x=\"1342\" y=\"-334.8\" font-family=\"Helvetica,sans-Serif\" font-size=\"14.00\">friedman_mse = 3836.069</text>\n<text text-anchor=\"start\" x=\"1381\" y=\"-319.8\" font-family=\"Helvetica,sans-Serif\" font-size=\"14.00\">samples = 46</text>\n<text text-anchor=\"start\" x=\"1373.5\" y=\"-304.8\" font-family=\"Helvetica,sans-Serif\" font-size=\"14.00\">value = 192.413</text>\n</g>\n<!-- 24&#45;&gt;28 -->\n<g id=\"edge28\" class=\"edge\">\n<title>24&#45;&gt;28</title>\n<path fill=\"none\" stroke=\"black\" d=\"M1306.52,-400.88C1322.88,-391.12 1340.92,-380.37 1357.77,-370.31\"/>\n<polygon fill=\"black\" stroke=\"black\" points=\"1359.67,-373.25 1366.47,-365.12 1356.09,-367.24 1359.67,-373.25\"/>\n</g>\n<!-- 26 -->\n<g id=\"node27\" class=\"node\">\n<title>26</title>\n<path fill=\"#efb388\" stroke=\"black\" d=\"M1110,-253.5C1110,-253.5 966,-253.5 966,-253.5 960,-253.5 954,-247.5 954,-241.5 954,-241.5 954,-212.5 954,-212.5 954,-206.5 960,-200.5 966,-200.5 966,-200.5 1110,-200.5 1110,-200.5 1116,-200.5 1122,-206.5 1122,-212.5 1122,-212.5 1122,-241.5 1122,-241.5 1122,-247.5 1116,-253.5 1110,-253.5\"/>\n<text text-anchor=\"start\" x=\"962\" y=\"-238.3\" font-family=\"Helvetica,sans-Serif\" font-size=\"14.00\">friedman_mse = 3504.96</text>\n<text text-anchor=\"start\" x=\"997\" y=\"-223.3\" font-family=\"Helvetica,sans-Serif\" font-size=\"14.00\">samples = 20</text>\n<text text-anchor=\"start\" x=\"997\" y=\"-208.3\" font-family=\"Helvetica,sans-Serif\" font-size=\"14.00\">value = 187.8</text>\n</g>\n<!-- 25&#45;&gt;26 -->\n<g id=\"edge26\" class=\"edge\">\n<title>25&#45;&gt;26</title>\n<path fill=\"none\" stroke=\"black\" d=\"M1166.31,-296.88C1143.16,-284.46 1116.99,-270.41 1094.35,-258.25\"/>\n<polygon fill=\"black\" stroke=\"black\" points=\"1096,-255.17 1085.54,-253.52 1092.69,-261.33 1096,-255.17\"/>\n</g>\n<!-- 27 -->\n<g id=\"node28\" class=\"node\">\n<title>27</title>\n<path fill=\"#f7dac6\" stroke=\"black\" d=\"M1304,-253.5C1304,-253.5 1152,-253.5 1152,-253.5 1146,-253.5 1140,-247.5 1140,-241.5 1140,-241.5 1140,-212.5 1140,-212.5 1140,-206.5 1146,-200.5 1152,-200.5 1152,-200.5 1304,-200.5 1304,-200.5 1310,-200.5 1316,-206.5 1316,-212.5 1316,-212.5 1316,-241.5 1316,-241.5 1316,-247.5 1310,-253.5 1304,-253.5\"/>\n<text text-anchor=\"start\" x=\"1148\" y=\"-238.3\" font-family=\"Helvetica,sans-Serif\" font-size=\"14.00\">friedman_mse = 1329.945</text>\n<text text-anchor=\"start\" x=\"1187\" y=\"-223.3\" font-family=\"Helvetica,sans-Serif\" font-size=\"14.00\">samples = 19</text>\n<text text-anchor=\"start\" x=\"1179.5\" y=\"-208.3\" font-family=\"Helvetica,sans-Serif\" font-size=\"14.00\">value = 122.947</text>\n</g>\n<!-- 25&#45;&gt;27 -->\n<g id=\"edge27\" class=\"edge\">\n<title>25&#45;&gt;27</title>\n<path fill=\"none\" stroke=\"black\" d=\"M1228,-296.88C1228,-286.33 1228,-274.6 1228,-263.85\"/>\n<polygon fill=\"black\" stroke=\"black\" points=\"1231.5,-263.52 1228,-253.52 1224.5,-263.52 1231.5,-263.52\"/>\n</g>\n<!-- 29 -->\n<g id=\"node30\" class=\"node\">\n<title>29</title>\n<path fill=\"#f1bb93\" stroke=\"black\" d=\"M1498,-253.5C1498,-253.5 1346,-253.5 1346,-253.5 1340,-253.5 1334,-247.5 1334,-241.5 1334,-241.5 1334,-212.5 1334,-212.5 1334,-206.5 1340,-200.5 1346,-200.5 1346,-200.5 1498,-200.5 1498,-200.5 1504,-200.5 1510,-206.5 1510,-212.5 1510,-212.5 1510,-241.5 1510,-241.5 1510,-247.5 1504,-253.5 1498,-253.5\"/>\n<text text-anchor=\"start\" x=\"1342\" y=\"-238.3\" font-family=\"Helvetica,sans-Serif\" font-size=\"14.00\">friedman_mse = 3947.043</text>\n<text text-anchor=\"start\" x=\"1381\" y=\"-223.3\" font-family=\"Helvetica,sans-Serif\" font-size=\"14.00\">samples = 26</text>\n<text text-anchor=\"start\" x=\"1373.5\" y=\"-208.3\" font-family=\"Helvetica,sans-Serif\" font-size=\"14.00\">value = 175.731</text>\n</g>\n<!-- 28&#45;&gt;29 -->\n<g id=\"edge29\" class=\"edge\">\n<title>28&#45;&gt;29</title>\n<path fill=\"none\" stroke=\"black\" d=\"M1422,-296.88C1422,-286.33 1422,-274.6 1422,-263.85\"/>\n<polygon fill=\"black\" stroke=\"black\" points=\"1425.5,-263.52 1422,-253.52 1418.5,-263.52 1425.5,-263.52\"/>\n</g>\n<!-- 30 -->\n<g id=\"node31\" class=\"node\">\n<title>30</title>\n<path fill=\"#eca36f\" stroke=\"black\" d=\"M1684,-253.5C1684,-253.5 1540,-253.5 1540,-253.5 1534,-253.5 1528,-247.5 1528,-241.5 1528,-241.5 1528,-212.5 1528,-212.5 1528,-206.5 1534,-200.5 1540,-200.5 1540,-200.5 1684,-200.5 1684,-200.5 1690,-200.5 1696,-206.5 1696,-212.5 1696,-212.5 1696,-241.5 1696,-241.5 1696,-247.5 1690,-253.5 1684,-253.5\"/>\n<text text-anchor=\"start\" x=\"1536\" y=\"-238.3\" font-family=\"Helvetica,sans-Serif\" font-size=\"14.00\">friedman_mse = 2859.69</text>\n<text text-anchor=\"start\" x=\"1571\" y=\"-223.3\" font-family=\"Helvetica,sans-Serif\" font-size=\"14.00\">samples = 20</text>\n<text text-anchor=\"start\" x=\"1571\" y=\"-208.3\" font-family=\"Helvetica,sans-Serif\" font-size=\"14.00\">value = 214.1</text>\n</g>\n<!-- 28&#45;&gt;30 -->\n<g id=\"edge30\" class=\"edge\">\n<title>28&#45;&gt;30</title>\n<path fill=\"none\" stroke=\"black\" d=\"M1483.69,-296.88C1506.84,-284.46 1533.01,-270.41 1555.65,-258.25\"/>\n<polygon fill=\"black\" stroke=\"black\" points=\"1557.31,-261.33 1564.46,-253.52 1554,-255.17 1557.31,-261.33\"/>\n</g>\n<!-- 32 -->\n<g id=\"node33\" class=\"node\">\n<title>32</title>\n<path fill=\"#eca470\" stroke=\"black\" d=\"M1684,-357.5C1684,-357.5 1540,-357.5 1540,-357.5 1534,-357.5 1528,-351.5 1528,-345.5 1528,-345.5 1528,-316.5 1528,-316.5 1528,-310.5 1534,-304.5 1540,-304.5 1540,-304.5 1684,-304.5 1684,-304.5 1690,-304.5 1696,-310.5 1696,-316.5 1696,-316.5 1696,-345.5 1696,-345.5 1696,-351.5 1690,-357.5 1684,-357.5\"/>\n<text text-anchor=\"start\" x=\"1536\" y=\"-342.3\" font-family=\"Helvetica,sans-Serif\" font-size=\"14.00\">friedman_mse = 4830.09</text>\n<text text-anchor=\"start\" x=\"1571\" y=\"-327.3\" font-family=\"Helvetica,sans-Serif\" font-size=\"14.00\">samples = 16</text>\n<text text-anchor=\"start\" x=\"1563.5\" y=\"-312.3\" font-family=\"Helvetica,sans-Serif\" font-size=\"14.00\">value = 212.688</text>\n</g>\n<!-- 31&#45;&gt;32 -->\n<g id=\"edge32\" class=\"edge\">\n<title>31&#45;&gt;32</title>\n<path fill=\"none\" stroke=\"black\" d=\"M1612,-400.88C1612,-390.33 1612,-378.6 1612,-367.85\"/>\n<polygon fill=\"black\" stroke=\"black\" points=\"1615.5,-367.52 1612,-357.52 1608.5,-367.52 1615.5,-367.52\"/>\n</g>\n<!-- 33 -->\n<g id=\"node34\" class=\"node\">\n<title>33</title>\n<path fill=\"#e88f50\" stroke=\"black\" d=\"M1878,-357.5C1878,-357.5 1726,-357.5 1726,-357.5 1720,-357.5 1714,-351.5 1714,-345.5 1714,-345.5 1714,-316.5 1714,-316.5 1714,-310.5 1720,-304.5 1726,-304.5 1726,-304.5 1878,-304.5 1878,-304.5 1884,-304.5 1890,-310.5 1890,-316.5 1890,-316.5 1890,-345.5 1890,-345.5 1890,-351.5 1884,-357.5 1878,-357.5\"/>\n<text text-anchor=\"start\" x=\"1722\" y=\"-342.3\" font-family=\"Helvetica,sans-Serif\" font-size=\"14.00\">friedman_mse = 2292.443</text>\n<text text-anchor=\"start\" x=\"1761\" y=\"-327.3\" font-family=\"Helvetica,sans-Serif\" font-size=\"14.00\">samples = 17</text>\n<text text-anchor=\"start\" x=\"1753.5\" y=\"-312.3\" font-family=\"Helvetica,sans-Serif\" font-size=\"14.00\">value = 247.294</text>\n</g>\n<!-- 31&#45;&gt;33 -->\n<g id=\"edge33\" class=\"edge\">\n<title>31&#45;&gt;33</title>\n<path fill=\"none\" stroke=\"black\" d=\"M1673.69,-400.88C1696.84,-388.46 1723.01,-374.41 1745.65,-362.25\"/>\n<polygon fill=\"black\" stroke=\"black\" points=\"1747.31,-365.33 1754.46,-357.52 1744,-359.17 1747.31,-365.33\"/>\n</g>\n</g>\n</svg>\n",
            "text/plain": [
              "<graphviz.sources.Source at 0x78ec7d35b490>"
            ]
          },
          "metadata": {},
          "execution_count": 87
        }
      ],
      "source": [
        "# 8. Finally, play with different parameter settings and explore how model performance changes.\n",
        "# Visualize and compare different decision trees.\n",
        "dt_reg = DecisionTreeRegressor(random_state=42, criterion=\"friedman_mse\", min_samples_leaf=15)\n",
        "dt_reg = dt_reg.fit(X_train, y_train)\n",
        "np.round(dt_reg.score(X_test,y_test),3)\n",
        "\n",
        "dot_data = tree.export_graphviz(dt_reg, out_file=None,\n",
        "                                feature_names=diab.feature_names,\n",
        "                                filled=True, rounded=True,\n",
        "                                special_characters=True)\n",
        "graph = graphviz.Source(dot_data)\n",
        "graph\n",
        "\n",
        "# print(np.round(dt_reg.score(X_test,y_test),3)"
      ]
    },
    {
      "cell_type": "code",
      "source": [
        "dt_reg = DecisionTreeRegressor(random_state=420, min_samples_split=20, max_depth=3)\n",
        "dt_reg = dt_reg.fit(X_train, y_train)\n",
        "np.round(dt_reg.score(X_test,y_test),3)\n",
        "\n",
        "dot_data = tree.export_graphviz(dt_reg, out_file=None,\n",
        "                                feature_names=diab.feature_names,\n",
        "                                filled=True, rounded=True,\n",
        "                                special_characters=True)\n",
        "graph = graphviz.Source(dot_data)\n",
        "graph\n",
        "\n",
        "# print(np.round(dt_reg.score(X_test,y_test),3)"
      ],
      "metadata": {
        "colab": {
          "base_uri": "https://localhost:8080/",
          "height": 519
        },
        "id": "e2yPCl-IjcWS",
        "outputId": "65eef111-765f-4a2c-c955-e38f648f17ab"
      },
      "id": "e2yPCl-IjcWS",
      "execution_count": 85,
      "outputs": [
        {
          "output_type": "execute_result",
          "data": {
            "image/svg+xml": "<?xml version=\"1.0\" encoding=\"UTF-8\" standalone=\"no\"?>\n<!DOCTYPE svg PUBLIC \"-//W3C//DTD SVG 1.1//EN\"\n \"http://www.w3.org/Graphics/SVG/1.1/DTD/svg11.dtd\">\n<!-- Generated by graphviz version 2.43.0 (0)\n -->\n<!-- Title: Tree Pages: 1 -->\n<svg width=\"1498pt\" height=\"373pt\"\n viewBox=\"0.00 0.00 1498.00 373.00\" xmlns=\"http://www.w3.org/2000/svg\" xmlns:xlink=\"http://www.w3.org/1999/xlink\">\n<g id=\"graph0\" class=\"graph\" transform=\"scale(1 1) rotate(0) translate(4 369)\">\n<title>Tree</title>\n<polygon fill=\"white\" stroke=\"transparent\" points=\"-4,4 -4,-369 1494,-369 1494,4 -4,4\"/>\n<!-- 0 -->\n<g id=\"node1\" class=\"node\">\n<title>0</title>\n<path fill=\"#f6d3ba\" stroke=\"black\" d=\"M825,-365C825,-365 676,-365 676,-365 670,-365 664,-359 664,-353 664,-353 664,-309 664,-309 664,-303 670,-297 676,-297 676,-297 825,-297 825,-297 831,-297 837,-303 837,-309 837,-309 837,-353 837,-353 837,-359 831,-365 825,-365\"/>\n<text text-anchor=\"start\" x=\"714.5\" y=\"-349.8\" font-family=\"Helvetica,sans-Serif\" font-size=\"14.00\">bmi ≤ 0.005</text>\n<text text-anchor=\"start\" x=\"672\" y=\"-334.8\" font-family=\"Helvetica,sans-Serif\" font-size=\"14.00\">squared_error = 6076.398</text>\n<text text-anchor=\"start\" x=\"705.5\" y=\"-319.8\" font-family=\"Helvetica,sans-Serif\" font-size=\"14.00\">samples = 353</text>\n<text text-anchor=\"start\" x=\"702\" y=\"-304.8\" font-family=\"Helvetica,sans-Serif\" font-size=\"14.00\">value = 153.737</text>\n</g>\n<!-- 1 -->\n<g id=\"node2\" class=\"node\">\n<title>1</title>\n<path fill=\"#fae9dc\" stroke=\"black\" d=\"M633.5,-261C633.5,-261 491.5,-261 491.5,-261 485.5,-261 479.5,-255 479.5,-249 479.5,-249 479.5,-205 479.5,-205 479.5,-199 485.5,-193 491.5,-193 491.5,-193 633.5,-193 633.5,-193 639.5,-193 645.5,-199 645.5,-205 645.5,-205 645.5,-249 645.5,-249 645.5,-255 639.5,-261 633.5,-261\"/>\n<text text-anchor=\"start\" x=\"530.5\" y=\"-245.8\" font-family=\"Helvetica,sans-Serif\" font-size=\"14.00\">s5 ≤ 0.006</text>\n<text text-anchor=\"start\" x=\"487.5\" y=\"-230.8\" font-family=\"Helvetica,sans-Serif\" font-size=\"14.00\">squared_error = 3612.73</text>\n<text text-anchor=\"start\" x=\"517.5\" y=\"-215.8\" font-family=\"Helvetica,sans-Serif\" font-size=\"14.00\">samples = 209</text>\n<text text-anchor=\"start\" x=\"514\" y=\"-200.8\" font-family=\"Helvetica,sans-Serif\" font-size=\"14.00\">value = 118.043</text>\n</g>\n<!-- 0&#45;&gt;1 -->\n<g id=\"edge1\" class=\"edge\">\n<title>0&#45;&gt;1</title>\n<path fill=\"none\" stroke=\"black\" d=\"M689.46,-296.88C671.23,-286.99 651.1,-276.07 632.35,-265.9\"/>\n<polygon fill=\"black\" stroke=\"black\" points=\"634.01,-262.82 623.55,-261.12 630.67,-268.97 634.01,-262.82\"/>\n<text text-anchor=\"middle\" x=\"630.66\" y=\"-281.39\" font-family=\"Helvetica,sans-Serif\" font-size=\"14.00\">True</text>\n</g>\n<!-- 8 -->\n<g id=\"node9\" class=\"node\">\n<title>8</title>\n<path fill=\"#f0b48a\" stroke=\"black\" d=\"M1011,-261C1011,-261 862,-261 862,-261 856,-261 850,-255 850,-249 850,-249 850,-205 850,-205 850,-199 856,-193 862,-193 862,-193 1011,-193 1011,-193 1017,-193 1023,-199 1023,-205 1023,-205 1023,-249 1023,-249 1023,-255 1017,-261 1011,-261\"/>\n<text text-anchor=\"start\" x=\"900.5\" y=\"-245.8\" font-family=\"Helvetica,sans-Serif\" font-size=\"14.00\">bmi ≤ 0.073</text>\n<text text-anchor=\"start\" x=\"858\" y=\"-230.8\" font-family=\"Helvetica,sans-Serif\" font-size=\"14.00\">squared_error = 5119.262</text>\n<text text-anchor=\"start\" x=\"891.5\" y=\"-215.8\" font-family=\"Helvetica,sans-Serif\" font-size=\"14.00\">samples = 144</text>\n<text text-anchor=\"start\" x=\"888\" y=\"-200.8\" font-family=\"Helvetica,sans-Serif\" font-size=\"14.00\">value = 205.542</text>\n</g>\n<!-- 0&#45;&gt;8 -->\n<g id=\"edge8\" class=\"edge\">\n<title>0&#45;&gt;8</title>\n<path fill=\"none\" stroke=\"black\" d=\"M810.89,-296.88C828.85,-287.04 848.66,-276.17 867.14,-266.03\"/>\n<polygon fill=\"black\" stroke=\"black\" points=\"869.01,-269 876.1,-261.12 865.65,-262.86 869.01,-269\"/>\n<text text-anchor=\"middle\" x=\"869.1\" y=\"-281.42\" font-family=\"Helvetica,sans-Serif\" font-size=\"14.00\">False</text>\n</g>\n<!-- 2 -->\n<g id=\"node3\" class=\"node\">\n<title>2</title>\n<path fill=\"#fdf3ec\" stroke=\"black\" d=\"M352,-157C352,-157 203,-157 203,-157 197,-157 191,-151 191,-145 191,-145 191,-101 191,-101 191,-95 197,-89 203,-89 203,-89 352,-89 352,-89 358,-89 364,-95 364,-101 364,-101 364,-145 364,-145 364,-151 358,-157 352,-157\"/>\n<text text-anchor=\"start\" x=\"243.5\" y=\"-141.8\" font-family=\"Helvetica,sans-Serif\" font-size=\"14.00\">s5 ≤ &#45;0.043</text>\n<text text-anchor=\"start\" x=\"199\" y=\"-126.8\" font-family=\"Helvetica,sans-Serif\" font-size=\"14.00\">squared_error = 2378.339</text>\n<text text-anchor=\"start\" x=\"232.5\" y=\"-111.8\" font-family=\"Helvetica,sans-Serif\" font-size=\"14.00\">samples = 152</text>\n<text text-anchor=\"start\" x=\"229\" y=\"-96.8\" font-family=\"Helvetica,sans-Serif\" font-size=\"14.00\">value = 100.559</text>\n</g>\n<!-- 1&#45;&gt;2 -->\n<g id=\"edge2\" class=\"edge\">\n<title>1&#45;&gt;2</title>\n<path fill=\"none\" stroke=\"black\" d=\"M479.3,-196.22C446.26,-184.4 408.04,-170.72 373.81,-158.47\"/>\n<polygon fill=\"black\" stroke=\"black\" points=\"374.87,-155.13 364.27,-155.06 372.51,-161.72 374.87,-155.13\"/>\n</g>\n<!-- 5 -->\n<g id=\"node6\" class=\"node\">\n<title>5</title>\n<path fill=\"#f5cdb0\" stroke=\"black\" d=\"M633.5,-157C633.5,-157 491.5,-157 491.5,-157 485.5,-157 479.5,-151 479.5,-145 479.5,-145 479.5,-101 479.5,-101 479.5,-95 485.5,-89 491.5,-89 491.5,-89 633.5,-89 633.5,-89 639.5,-89 645.5,-95 645.5,-101 645.5,-101 645.5,-145 645.5,-145 645.5,-151 639.5,-157 633.5,-157\"/>\n<text text-anchor=\"start\" x=\"534.5\" y=\"-141.8\" font-family=\"Helvetica,sans-Serif\" font-size=\"14.00\">s4 ≤ 0.09</text>\n<text text-anchor=\"start\" x=\"487.5\" y=\"-126.8\" font-family=\"Helvetica,sans-Serif\" font-size=\"14.00\">squared_error = 3915.52</text>\n<text text-anchor=\"start\" x=\"521.5\" y=\"-111.8\" font-family=\"Helvetica,sans-Serif\" font-size=\"14.00\">samples = 57</text>\n<text text-anchor=\"start\" x=\"514\" y=\"-96.8\" font-family=\"Helvetica,sans-Serif\" font-size=\"14.00\">value = 164.667</text>\n</g>\n<!-- 1&#45;&gt;5 -->\n<g id=\"edge5\" class=\"edge\">\n<title>1&#45;&gt;5</title>\n<path fill=\"none\" stroke=\"black\" d=\"M562.5,-192.88C562.5,-184.78 562.5,-175.98 562.5,-167.47\"/>\n<polygon fill=\"black\" stroke=\"black\" points=\"566,-167.3 562.5,-157.3 559,-167.3 566,-167.3\"/>\n</g>\n<!-- 3 -->\n<g id=\"node4\" class=\"node\">\n<title>3</title>\n<path fill=\"#ffffff\" stroke=\"black\" d=\"M161,-53C161,-53 12,-53 12,-53 6,-53 0,-47 0,-41 0,-41 0,-12 0,-12 0,-6 6,0 12,0 12,0 161,0 161,0 167,0 173,-6 173,-12 173,-12 173,-41 173,-41 173,-47 167,-53 161,-53\"/>\n<text text-anchor=\"start\" x=\"8\" y=\"-37.8\" font-family=\"Helvetica,sans-Serif\" font-size=\"14.00\">squared_error = 1425.414</text>\n<text text-anchor=\"start\" x=\"45.5\" y=\"-22.8\" font-family=\"Helvetica,sans-Serif\" font-size=\"14.00\">samples = 49</text>\n<text text-anchor=\"start\" x=\"41.5\" y=\"-7.8\" font-family=\"Helvetica,sans-Serif\" font-size=\"14.00\">value = 80.878</text>\n</g>\n<!-- 2&#45;&gt;3 -->\n<g id=\"edge3\" class=\"edge\">\n<title>2&#45;&gt;3</title>\n<path fill=\"none\" stroke=\"black\" d=\"M210.7,-88.95C190.08,-78.75 167.5,-67.57 147.31,-57.59\"/>\n<polygon fill=\"black\" stroke=\"black\" points=\"148.73,-54.38 138.21,-53.09 145.63,-60.66 148.73,-54.38\"/>\n</g>\n<!-- 4 -->\n<g id=\"node5\" class=\"node\">\n<title>4</title>\n<path fill=\"#fbeee4\" stroke=\"black\" d=\"M352,-53C352,-53 203,-53 203,-53 197,-53 191,-47 191,-41 191,-41 191,-12 191,-12 191,-6 197,0 203,0 203,0 352,0 352,0 358,0 364,-6 364,-12 364,-12 364,-41 364,-41 364,-47 358,-53 352,-53\"/>\n<text text-anchor=\"start\" x=\"199\" y=\"-37.8\" font-family=\"Helvetica,sans-Serif\" font-size=\"14.00\">squared_error = 2559.722</text>\n<text text-anchor=\"start\" x=\"232.5\" y=\"-22.8\" font-family=\"Helvetica,sans-Serif\" font-size=\"14.00\">samples = 103</text>\n<text text-anchor=\"start\" x=\"229\" y=\"-7.8\" font-family=\"Helvetica,sans-Serif\" font-size=\"14.00\">value = 109.922</text>\n</g>\n<!-- 2&#45;&gt;4 -->\n<g id=\"edge4\" class=\"edge\">\n<title>2&#45;&gt;4</title>\n<path fill=\"none\" stroke=\"black\" d=\"M277.5,-88.95C277.5,-80.72 277.5,-71.85 277.5,-63.48\"/>\n<polygon fill=\"black\" stroke=\"black\" points=\"281,-63.24 277.5,-53.24 274,-63.24 281,-63.24\"/>\n</g>\n<!-- 6 -->\n<g id=\"node7\" class=\"node\">\n<title>6</title>\n<path fill=\"#f5d0b5\" stroke=\"black\" d=\"M543,-53C543,-53 394,-53 394,-53 388,-53 382,-47 382,-41 382,-41 382,-12 382,-12 382,-6 388,0 394,0 394,0 543,0 543,0 549,0 555,-6 555,-12 555,-12 555,-41 555,-41 555,-47 549,-53 543,-53\"/>\n<text text-anchor=\"start\" x=\"390\" y=\"-37.8\" font-family=\"Helvetica,sans-Serif\" font-size=\"14.00\">squared_error = 3601.615</text>\n<text text-anchor=\"start\" x=\"427.5\" y=\"-22.8\" font-family=\"Helvetica,sans-Serif\" font-size=\"14.00\">samples = 54</text>\n<text text-anchor=\"start\" x=\"420\" y=\"-7.8\" font-family=\"Helvetica,sans-Serif\" font-size=\"14.00\">value = 159.574</text>\n</g>\n<!-- 5&#45;&gt;6 -->\n<g id=\"edge6\" class=\"edge\">\n<title>5&#45;&gt;6</title>\n<path fill=\"none\" stroke=\"black\" d=\"M529.62,-88.95C520.43,-79.71 510.45,-69.67 501.26,-60.44\"/>\n<polygon fill=\"black\" stroke=\"black\" points=\"503.63,-57.86 494.1,-53.24 498.67,-62.79 503.63,-57.86\"/>\n</g>\n<!-- 7 -->\n<g id=\"node8\" class=\"node\">\n<title>7</title>\n<path fill=\"#e9965a\" stroke=\"black\" d=\"M727.5,-53C727.5,-53 585.5,-53 585.5,-53 579.5,-53 573.5,-47 573.5,-41 573.5,-41 573.5,-12 573.5,-12 573.5,-6 579.5,0 585.5,0 585.5,0 727.5,0 727.5,0 733.5,0 739.5,-6 739.5,-12 739.5,-12 739.5,-41 739.5,-41 739.5,-47 733.5,-53 727.5,-53\"/>\n<text text-anchor=\"start\" x=\"581.5\" y=\"-37.8\" font-family=\"Helvetica,sans-Serif\" font-size=\"14.00\">squared_error = 696.222</text>\n<text text-anchor=\"start\" x=\"619\" y=\"-22.8\" font-family=\"Helvetica,sans-Serif\" font-size=\"14.00\">samples = 3</text>\n<text text-anchor=\"start\" x=\"608\" y=\"-7.8\" font-family=\"Helvetica,sans-Serif\" font-size=\"14.00\">value = 256.333</text>\n</g>\n<!-- 5&#45;&gt;7 -->\n<g id=\"edge7\" class=\"edge\">\n<title>5&#45;&gt;7</title>\n<path fill=\"none\" stroke=\"black\" d=\"M595.38,-88.95C604.57,-79.71 614.55,-69.67 623.74,-60.44\"/>\n<polygon fill=\"black\" stroke=\"black\" points=\"626.33,-62.79 630.9,-53.24 621.37,-57.86 626.33,-62.79\"/>\n</g>\n<!-- 9 -->\n<g id=\"node10\" class=\"node\">\n<title>9</title>\n<path fill=\"#f1bd97\" stroke=\"black\" d=\"M1011,-157C1011,-157 862,-157 862,-157 856,-157 850,-151 850,-145 850,-145 850,-101 850,-101 850,-95 856,-89 862,-89 862,-89 1011,-89 1011,-89 1017,-89 1023,-95 1023,-101 1023,-101 1023,-145 1023,-145 1023,-151 1017,-157 1011,-157\"/>\n<text text-anchor=\"start\" x=\"904.5\" y=\"-141.8\" font-family=\"Helvetica,sans-Serif\" font-size=\"14.00\">s6 ≤ 0.034</text>\n<text text-anchor=\"start\" x=\"858\" y=\"-126.8\" font-family=\"Helvetica,sans-Serif\" font-size=\"14.00\">squared_error = 4557.346</text>\n<text text-anchor=\"start\" x=\"891.5\" y=\"-111.8\" font-family=\"Helvetica,sans-Serif\" font-size=\"14.00\">samples = 118</text>\n<text text-anchor=\"start\" x=\"888\" y=\"-96.8\" font-family=\"Helvetica,sans-Serif\" font-size=\"14.00\">value = 191.102</text>\n</g>\n<!-- 8&#45;&gt;9 -->\n<g id=\"edge9\" class=\"edge\">\n<title>8&#45;&gt;9</title>\n<path fill=\"none\" stroke=\"black\" d=\"M936.5,-192.88C936.5,-184.78 936.5,-175.98 936.5,-167.47\"/>\n<polygon fill=\"black\" stroke=\"black\" points=\"940,-167.3 936.5,-157.3 933,-167.3 940,-167.3\"/>\n</g>\n<!-- 12 -->\n<g id=\"node13\" class=\"node\">\n<title>12</title>\n<path fill=\"#e78d4c\" stroke=\"black\" d=\"M1294,-157C1294,-157 1145,-157 1145,-157 1139,-157 1133,-151 1133,-145 1133,-145 1133,-101 1133,-101 1133,-95 1139,-89 1145,-89 1145,-89 1294,-89 1294,-89 1300,-89 1306,-95 1306,-101 1306,-101 1306,-145 1306,-145 1306,-151 1300,-157 1294,-157\"/>\n<text text-anchor=\"start\" x=\"1187.5\" y=\"-141.8\" font-family=\"Helvetica,sans-Serif\" font-size=\"14.00\">s2 ≤ 0.022</text>\n<text text-anchor=\"start\" x=\"1141\" y=\"-126.8\" font-family=\"Helvetica,sans-Serif\" font-size=\"14.00\">squared_error = 2428.302</text>\n<text text-anchor=\"start\" x=\"1178.5\" y=\"-111.8\" font-family=\"Helvetica,sans-Serif\" font-size=\"14.00\">samples = 26</text>\n<text text-anchor=\"start\" x=\"1171\" y=\"-96.8\" font-family=\"Helvetica,sans-Serif\" font-size=\"14.00\">value = 271.077</text>\n</g>\n<!-- 8&#45;&gt;12 -->\n<g id=\"edge12\" class=\"edge\">\n<title>8&#45;&gt;12</title>\n<path fill=\"none\" stroke=\"black\" d=\"M1023.33,-194.7C1054.98,-183.3 1090.94,-170.34 1123.35,-158.66\"/>\n<polygon fill=\"black\" stroke=\"black\" points=\"1124.61,-161.92 1132.83,-155.24 1122.24,-155.34 1124.61,-161.92\"/>\n</g>\n<!-- 10 -->\n<g id=\"node11\" class=\"node\">\n<title>10</title>\n<path fill=\"#f3c6a6\" stroke=\"black\" d=\"M919,-53C919,-53 770,-53 770,-53 764,-53 758,-47 758,-41 758,-41 758,-12 758,-12 758,-6 764,0 770,0 770,0 919,0 919,0 925,0 931,-6 931,-12 931,-12 931,-41 931,-41 931,-47 925,-53 919,-53\"/>\n<text text-anchor=\"start\" x=\"766\" y=\"-37.8\" font-family=\"Helvetica,sans-Serif\" font-size=\"14.00\">squared_error = 4005.619</text>\n<text text-anchor=\"start\" x=\"803.5\" y=\"-22.8\" font-family=\"Helvetica,sans-Serif\" font-size=\"14.00\">samples = 85</text>\n<text text-anchor=\"start\" x=\"803.5\" y=\"-7.8\" font-family=\"Helvetica,sans-Serif\" font-size=\"14.00\">value = 175.8</text>\n</g>\n<!-- 9&#45;&gt;10 -->\n<g id=\"edge10\" class=\"edge\">\n<title>9&#45;&gt;10</title>\n<path fill=\"none\" stroke=\"black\" d=\"M904.32,-88.95C895.33,-79.71 885.56,-69.67 876.57,-60.44\"/>\n<polygon fill=\"black\" stroke=\"black\" points=\"879.04,-57.96 869.56,-53.24 874.02,-62.84 879.04,-57.96\"/>\n</g>\n<!-- 11 -->\n<g id=\"node12\" class=\"node\">\n<title>11</title>\n<path fill=\"#eda572\" stroke=\"black\" d=\"M1110,-53C1110,-53 961,-53 961,-53 955,-53 949,-47 949,-41 949,-41 949,-12 949,-12 949,-6 955,0 961,0 961,0 1110,0 1110,0 1116,0 1122,-6 1122,-12 1122,-12 1122,-41 1122,-41 1122,-47 1116,-53 1110,-53\"/>\n<text text-anchor=\"start\" x=\"957\" y=\"-37.8\" font-family=\"Helvetica,sans-Serif\" font-size=\"14.00\">squared_error = 3821.947</text>\n<text text-anchor=\"start\" x=\"994.5\" y=\"-22.8\" font-family=\"Helvetica,sans-Serif\" font-size=\"14.00\">samples = 33</text>\n<text text-anchor=\"start\" x=\"987\" y=\"-7.8\" font-family=\"Helvetica,sans-Serif\" font-size=\"14.00\">value = 230.515</text>\n</g>\n<!-- 9&#45;&gt;11 -->\n<g id=\"edge11\" class=\"edge\">\n<title>9&#45;&gt;11</title>\n<path fill=\"none\" stroke=\"black\" d=\"M971.13,-88.95C980.9,-79.62 991.53,-69.47 1001.28,-60.16\"/>\n<polygon fill=\"black\" stroke=\"black\" points=\"1003.72,-62.67 1008.54,-53.24 998.89,-57.61 1003.72,-62.67\"/>\n</g>\n<!-- 13 -->\n<g id=\"node14\" class=\"node\">\n<title>13</title>\n<path fill=\"#e58139\" stroke=\"black\" d=\"M1286.5,-53C1286.5,-53 1152.5,-53 1152.5,-53 1146.5,-53 1140.5,-47 1140.5,-41 1140.5,-41 1140.5,-12 1140.5,-12 1140.5,-6 1146.5,0 1152.5,0 1152.5,0 1286.5,0 1286.5,0 1292.5,0 1298.5,-6 1298.5,-12 1298.5,-12 1298.5,-41 1298.5,-41 1298.5,-47 1292.5,-53 1286.5,-53\"/>\n<text text-anchor=\"start\" x=\"1148.5\" y=\"-37.8\" font-family=\"Helvetica,sans-Serif\" font-size=\"14.00\">squared_error = 962.84</text>\n<text text-anchor=\"start\" x=\"1178.5\" y=\"-22.8\" font-family=\"Helvetica,sans-Serif\" font-size=\"14.00\">samples = 18</text>\n<text text-anchor=\"start\" x=\"1171\" y=\"-7.8\" font-family=\"Helvetica,sans-Serif\" font-size=\"14.00\">value = 291.222</text>\n</g>\n<!-- 12&#45;&gt;13 -->\n<g id=\"edge13\" class=\"edge\">\n<title>12&#45;&gt;13</title>\n<path fill=\"none\" stroke=\"black\" d=\"M1219.5,-88.95C1219.5,-80.72 1219.5,-71.85 1219.5,-63.48\"/>\n<polygon fill=\"black\" stroke=\"black\" points=\"1223,-63.24 1219.5,-53.24 1216,-63.24 1223,-63.24\"/>\n</g>\n<!-- 14 -->\n<g id=\"node15\" class=\"node\">\n<title>14</title>\n<path fill=\"#eda877\" stroke=\"black\" d=\"M1478,-53C1478,-53 1329,-53 1329,-53 1323,-53 1317,-47 1317,-41 1317,-41 1317,-12 1317,-12 1317,-6 1323,0 1329,0 1329,0 1478,0 1478,0 1484,0 1490,-6 1490,-12 1490,-12 1490,-41 1490,-41 1490,-47 1484,-53 1478,-53\"/>\n<text text-anchor=\"start\" x=\"1325\" y=\"-37.8\" font-family=\"Helvetica,sans-Serif\" font-size=\"14.00\">squared_error = 2757.938</text>\n<text text-anchor=\"start\" x=\"1366\" y=\"-22.8\" font-family=\"Helvetica,sans-Serif\" font-size=\"14.00\">samples = 8</text>\n<text text-anchor=\"start\" x=\"1358.5\" y=\"-7.8\" font-family=\"Helvetica,sans-Serif\" font-size=\"14.00\">value = 225.75</text>\n</g>\n<!-- 12&#45;&gt;14 -->\n<g id=\"edge14\" class=\"edge\">\n<title>12&#45;&gt;14</title>\n<path fill=\"none\" stroke=\"black\" d=\"M1283.85,-88.95C1303.63,-78.79 1325.28,-67.67 1344.66,-57.72\"/>\n<polygon fill=\"black\" stroke=\"black\" points=\"1346.38,-60.77 1353.68,-53.09 1343.19,-54.54 1346.38,-60.77\"/>\n</g>\n</g>\n</svg>\n",
            "text/plain": [
              "<graphviz.sources.Source at 0x78ec791463e0>"
            ]
          },
          "metadata": {},
          "execution_count": 85
        }
      ]
    },
    {
      "cell_type": "code",
      "execution_count": 53,
      "id": "eb87de2f",
      "metadata": {
        "id": "eb87de2f",
        "colab": {
          "base_uri": "https://localhost:8080/"
        },
        "outputId": "60f858eb-efbb-4f69-d095-de73fd98426a"
      },
      "outputs": [
        {
          "output_type": "execute_result",
          "data": {
            "text/plain": [
              "['__abstractmethods__',\n",
              " '__annotations__',\n",
              " '__class__',\n",
              " '__delattr__',\n",
              " '__dict__',\n",
              " '__dir__',\n",
              " '__doc__',\n",
              " '__eq__',\n",
              " '__format__',\n",
              " '__ge__',\n",
              " '__getattribute__',\n",
              " '__getstate__',\n",
              " '__gt__',\n",
              " '__hash__',\n",
              " '__init__',\n",
              " '__init_subclass__',\n",
              " '__le__',\n",
              " '__lt__',\n",
              " '__module__',\n",
              " '__ne__',\n",
              " '__new__',\n",
              " '__reduce__',\n",
              " '__reduce_ex__',\n",
              " '__repr__',\n",
              " '__setattr__',\n",
              " '__setstate__',\n",
              " '__sizeof__',\n",
              " '__str__',\n",
              " '__subclasshook__',\n",
              " '__weakref__',\n",
              " '_abc_impl',\n",
              " '_check_feature_names',\n",
              " '_check_n_features',\n",
              " '_compute_partial_dependence_recursion',\n",
              " '_estimator_type',\n",
              " '_get_param_names',\n",
              " '_get_tags',\n",
              " '_more_tags',\n",
              " '_parameter_constraints',\n",
              " '_prune_tree',\n",
              " '_repr_html_',\n",
              " '_repr_html_inner',\n",
              " '_repr_mimebundle_',\n",
              " '_validate_X_predict',\n",
              " '_validate_data',\n",
              " '_validate_params',\n",
              " 'apply',\n",
              " 'ccp_alpha',\n",
              " 'class_weight',\n",
              " 'cost_complexity_pruning_path',\n",
              " 'criterion',\n",
              " 'decision_path',\n",
              " 'feature_importances_',\n",
              " 'fit',\n",
              " 'get_depth',\n",
              " 'get_n_leaves',\n",
              " 'get_params',\n",
              " 'max_depth',\n",
              " 'max_features',\n",
              " 'max_leaf_nodes',\n",
              " 'min_impurity_decrease',\n",
              " 'min_samples_leaf',\n",
              " 'min_samples_split',\n",
              " 'min_weight_fraction_leaf',\n",
              " 'predict',\n",
              " 'random_state',\n",
              " 'score',\n",
              " 'set_params',\n",
              " 'splitter']"
            ]
          },
          "metadata": {},
          "execution_count": 53
        }
      ],
      "source": [
        "# list all the attributes and methods\n",
        "dir(dt_clf)"
      ]
    },
    {
      "cell_type": "code",
      "execution_count": 76,
      "id": "689a0865",
      "metadata": {
        "id": "689a0865",
        "colab": {
          "base_uri": "https://localhost:8080/"
        },
        "outputId": "0eb5fd1e-7fd8-47e5-a265-f5c55b0cf556"
      },
      "outputs": [
        {
          "output_type": "stream",
          "name": "stdout",
          "text": [
            "Help on DecisionTreeRegressor in module sklearn.tree._classes object:\n",
            "\n",
            "class DecisionTreeRegressor(sklearn.base.RegressorMixin, BaseDecisionTree)\n",
            " |  DecisionTreeRegressor(*, criterion='squared_error', splitter='best', max_depth=None, min_samples_split=2, min_samples_leaf=1, min_weight_fraction_leaf=0.0, max_features=None, random_state=None, max_leaf_nodes=None, min_impurity_decrease=0.0, ccp_alpha=0.0)\n",
            " |  \n",
            " |  A decision tree regressor.\n",
            " |  \n",
            " |  Read more in the :ref:`User Guide <tree>`.\n",
            " |  \n",
            " |  Parameters\n",
            " |  ----------\n",
            " |  criterion : {\"squared_error\", \"friedman_mse\", \"absolute_error\",             \"poisson\"}, default=\"squared_error\"\n",
            " |      The function to measure the quality of a split. Supported criteria\n",
            " |      are \"squared_error\" for the mean squared error, which is equal to\n",
            " |      variance reduction as feature selection criterion and minimizes the L2\n",
            " |      loss using the mean of each terminal node, \"friedman_mse\", which uses\n",
            " |      mean squared error with Friedman's improvement score for potential\n",
            " |      splits, \"absolute_error\" for the mean absolute error, which minimizes\n",
            " |      the L1 loss using the median of each terminal node, and \"poisson\" which\n",
            " |      uses reduction in Poisson deviance to find splits.\n",
            " |  \n",
            " |      .. versionadded:: 0.18\n",
            " |         Mean Absolute Error (MAE) criterion.\n",
            " |  \n",
            " |      .. versionadded:: 0.24\n",
            " |          Poisson deviance criterion.\n",
            " |  \n",
            " |  splitter : {\"best\", \"random\"}, default=\"best\"\n",
            " |      The strategy used to choose the split at each node. Supported\n",
            " |      strategies are \"best\" to choose the best split and \"random\" to choose\n",
            " |      the best random split.\n",
            " |  \n",
            " |  max_depth : int, default=None\n",
            " |      The maximum depth of the tree. If None, then nodes are expanded until\n",
            " |      all leaves are pure or until all leaves contain less than\n",
            " |      min_samples_split samples.\n",
            " |  \n",
            " |  min_samples_split : int or float, default=2\n",
            " |      The minimum number of samples required to split an internal node:\n",
            " |  \n",
            " |      - If int, then consider `min_samples_split` as the minimum number.\n",
            " |      - If float, then `min_samples_split` is a fraction and\n",
            " |        `ceil(min_samples_split * n_samples)` are the minimum\n",
            " |        number of samples for each split.\n",
            " |  \n",
            " |      .. versionchanged:: 0.18\n",
            " |         Added float values for fractions.\n",
            " |  \n",
            " |  min_samples_leaf : int or float, default=1\n",
            " |      The minimum number of samples required to be at a leaf node.\n",
            " |      A split point at any depth will only be considered if it leaves at\n",
            " |      least ``min_samples_leaf`` training samples in each of the left and\n",
            " |      right branches.  This may have the effect of smoothing the model,\n",
            " |      especially in regression.\n",
            " |  \n",
            " |      - If int, then consider `min_samples_leaf` as the minimum number.\n",
            " |      - If float, then `min_samples_leaf` is a fraction and\n",
            " |        `ceil(min_samples_leaf * n_samples)` are the minimum\n",
            " |        number of samples for each node.\n",
            " |  \n",
            " |      .. versionchanged:: 0.18\n",
            " |         Added float values for fractions.\n",
            " |  \n",
            " |  min_weight_fraction_leaf : float, default=0.0\n",
            " |      The minimum weighted fraction of the sum total of weights (of all\n",
            " |      the input samples) required to be at a leaf node. Samples have\n",
            " |      equal weight when sample_weight is not provided.\n",
            " |  \n",
            " |  max_features : int, float or {\"auto\", \"sqrt\", \"log2\"}, default=None\n",
            " |      The number of features to consider when looking for the best split:\n",
            " |  \n",
            " |      - If int, then consider `max_features` features at each split.\n",
            " |      - If float, then `max_features` is a fraction and\n",
            " |        `max(1, int(max_features * n_features_in_))` features are considered at each\n",
            " |        split.\n",
            " |      - If \"auto\", then `max_features=n_features`.\n",
            " |      - If \"sqrt\", then `max_features=sqrt(n_features)`.\n",
            " |      - If \"log2\", then `max_features=log2(n_features)`.\n",
            " |      - If None, then `max_features=n_features`.\n",
            " |  \n",
            " |      .. deprecated:: 1.1\n",
            " |          The `\"auto\"` option was deprecated in 1.1 and will be removed\n",
            " |          in 1.3.\n",
            " |  \n",
            " |      Note: the search for a split does not stop until at least one\n",
            " |      valid partition of the node samples is found, even if it requires to\n",
            " |      effectively inspect more than ``max_features`` features.\n",
            " |  \n",
            " |  random_state : int, RandomState instance or None, default=None\n",
            " |      Controls the randomness of the estimator. The features are always\n",
            " |      randomly permuted at each split, even if ``splitter`` is set to\n",
            " |      ``\"best\"``. When ``max_features < n_features``, the algorithm will\n",
            " |      select ``max_features`` at random at each split before finding the best\n",
            " |      split among them. But the best found split may vary across different\n",
            " |      runs, even if ``max_features=n_features``. That is the case, if the\n",
            " |      improvement of the criterion is identical for several splits and one\n",
            " |      split has to be selected at random. To obtain a deterministic behaviour\n",
            " |      during fitting, ``random_state`` has to be fixed to an integer.\n",
            " |      See :term:`Glossary <random_state>` for details.\n",
            " |  \n",
            " |  max_leaf_nodes : int, default=None\n",
            " |      Grow a tree with ``max_leaf_nodes`` in best-first fashion.\n",
            " |      Best nodes are defined as relative reduction in impurity.\n",
            " |      If None then unlimited number of leaf nodes.\n",
            " |  \n",
            " |  min_impurity_decrease : float, default=0.0\n",
            " |      A node will be split if this split induces a decrease of the impurity\n",
            " |      greater than or equal to this value.\n",
            " |  \n",
            " |      The weighted impurity decrease equation is the following::\n",
            " |  \n",
            " |          N_t / N * (impurity - N_t_R / N_t * right_impurity\n",
            " |                              - N_t_L / N_t * left_impurity)\n",
            " |  \n",
            " |      where ``N`` is the total number of samples, ``N_t`` is the number of\n",
            " |      samples at the current node, ``N_t_L`` is the number of samples in the\n",
            " |      left child, and ``N_t_R`` is the number of samples in the right child.\n",
            " |  \n",
            " |      ``N``, ``N_t``, ``N_t_R`` and ``N_t_L`` all refer to the weighted sum,\n",
            " |      if ``sample_weight`` is passed.\n",
            " |  \n",
            " |      .. versionadded:: 0.19\n",
            " |  \n",
            " |  ccp_alpha : non-negative float, default=0.0\n",
            " |      Complexity parameter used for Minimal Cost-Complexity Pruning. The\n",
            " |      subtree with the largest cost complexity that is smaller than\n",
            " |      ``ccp_alpha`` will be chosen. By default, no pruning is performed. See\n",
            " |      :ref:`minimal_cost_complexity_pruning` for details.\n",
            " |  \n",
            " |      .. versionadded:: 0.22\n",
            " |  \n",
            " |  Attributes\n",
            " |  ----------\n",
            " |  feature_importances_ : ndarray of shape (n_features,)\n",
            " |      The feature importances.\n",
            " |      The higher, the more important the feature.\n",
            " |      The importance of a feature is computed as the\n",
            " |      (normalized) total reduction of the criterion brought\n",
            " |      by that feature. It is also known as the Gini importance [4]_.\n",
            " |  \n",
            " |      Warning: impurity-based feature importances can be misleading for\n",
            " |      high cardinality features (many unique values). See\n",
            " |      :func:`sklearn.inspection.permutation_importance` as an alternative.\n",
            " |  \n",
            " |  max_features_ : int\n",
            " |      The inferred value of max_features.\n",
            " |  \n",
            " |  n_features_in_ : int\n",
            " |      Number of features seen during :term:`fit`.\n",
            " |  \n",
            " |      .. versionadded:: 0.24\n",
            " |  \n",
            " |  feature_names_in_ : ndarray of shape (`n_features_in_`,)\n",
            " |      Names of features seen during :term:`fit`. Defined only when `X`\n",
            " |      has feature names that are all strings.\n",
            " |  \n",
            " |      .. versionadded:: 1.0\n",
            " |  \n",
            " |  n_outputs_ : int\n",
            " |      The number of outputs when ``fit`` is performed.\n",
            " |  \n",
            " |  tree_ : Tree instance\n",
            " |      The underlying Tree object. Please refer to\n",
            " |      ``help(sklearn.tree._tree.Tree)`` for attributes of Tree object and\n",
            " |      :ref:`sphx_glr_auto_examples_tree_plot_unveil_tree_structure.py`\n",
            " |      for basic usage of these attributes.\n",
            " |  \n",
            " |  See Also\n",
            " |  --------\n",
            " |  DecisionTreeClassifier : A decision tree classifier.\n",
            " |  \n",
            " |  Notes\n",
            " |  -----\n",
            " |  The default values for the parameters controlling the size of the trees\n",
            " |  (e.g. ``max_depth``, ``min_samples_leaf``, etc.) lead to fully grown and\n",
            " |  unpruned trees which can potentially be very large on some data sets. To\n",
            " |  reduce memory consumption, the complexity and size of the trees should be\n",
            " |  controlled by setting those parameter values.\n",
            " |  \n",
            " |  References\n",
            " |  ----------\n",
            " |  \n",
            " |  .. [1] https://en.wikipedia.org/wiki/Decision_tree_learning\n",
            " |  \n",
            " |  .. [2] L. Breiman, J. Friedman, R. Olshen, and C. Stone, \"Classification\n",
            " |         and Regression Trees\", Wadsworth, Belmont, CA, 1984.\n",
            " |  \n",
            " |  .. [3] T. Hastie, R. Tibshirani and J. Friedman. \"Elements of Statistical\n",
            " |         Learning\", Springer, 2009.\n",
            " |  \n",
            " |  .. [4] L. Breiman, and A. Cutler, \"Random Forests\",\n",
            " |         https://www.stat.berkeley.edu/~breiman/RandomForests/cc_home.htm\n",
            " |  \n",
            " |  Examples\n",
            " |  --------\n",
            " |  >>> from sklearn.datasets import load_diabetes\n",
            " |  >>> from sklearn.model_selection import cross_val_score\n",
            " |  >>> from sklearn.tree import DecisionTreeRegressor\n",
            " |  >>> X, y = load_diabetes(return_X_y=True)\n",
            " |  >>> regressor = DecisionTreeRegressor(random_state=0)\n",
            " |  >>> cross_val_score(regressor, X, y, cv=10)\n",
            " |  ...                    # doctest: +SKIP\n",
            " |  ...\n",
            " |  array([-0.39..., -0.46...,  0.02...,  0.06..., -0.50...,\n",
            " |         0.16...,  0.11..., -0.73..., -0.30..., -0.00...])\n",
            " |  \n",
            " |  Method resolution order:\n",
            " |      DecisionTreeRegressor\n",
            " |      sklearn.base.RegressorMixin\n",
            " |      BaseDecisionTree\n",
            " |      sklearn.base.MultiOutputMixin\n",
            " |      sklearn.base.BaseEstimator\n",
            " |      builtins.object\n",
            " |  \n",
            " |  Methods defined here:\n",
            " |  \n",
            " |  __init__(self, *, criterion='squared_error', splitter='best', max_depth=None, min_samples_split=2, min_samples_leaf=1, min_weight_fraction_leaf=0.0, max_features=None, random_state=None, max_leaf_nodes=None, min_impurity_decrease=0.0, ccp_alpha=0.0)\n",
            " |      Initialize self.  See help(type(self)) for accurate signature.\n",
            " |  \n",
            " |  fit(self, X, y, sample_weight=None, check_input=True)\n",
            " |      Build a decision tree regressor from the training set (X, y).\n",
            " |      \n",
            " |      Parameters\n",
            " |      ----------\n",
            " |      X : {array-like, sparse matrix} of shape (n_samples, n_features)\n",
            " |          The training input samples. Internally, it will be converted to\n",
            " |          ``dtype=np.float32`` and if a sparse matrix is provided\n",
            " |          to a sparse ``csc_matrix``.\n",
            " |      \n",
            " |      y : array-like of shape (n_samples,) or (n_samples, n_outputs)\n",
            " |          The target values (real numbers). Use ``dtype=np.float64`` and\n",
            " |          ``order='C'`` for maximum efficiency.\n",
            " |      \n",
            " |      sample_weight : array-like of shape (n_samples,), default=None\n",
            " |          Sample weights. If None, then samples are equally weighted. Splits\n",
            " |          that would create child nodes with net zero or negative weight are\n",
            " |          ignored while searching for a split in each node.\n",
            " |      \n",
            " |      check_input : bool, default=True\n",
            " |          Allow to bypass several input checking.\n",
            " |          Don't use this parameter unless you know what you're doing.\n",
            " |      \n",
            " |      Returns\n",
            " |      -------\n",
            " |      self : DecisionTreeRegressor\n",
            " |          Fitted estimator.\n",
            " |  \n",
            " |  ----------------------------------------------------------------------\n",
            " |  Data and other attributes defined here:\n",
            " |  \n",
            " |  __abstractmethods__ = frozenset()\n",
            " |  \n",
            " |  __annotations__ = {'_parameter_constraints': <class 'dict'>}\n",
            " |  \n",
            " |  ----------------------------------------------------------------------\n",
            " |  Methods inherited from sklearn.base.RegressorMixin:\n",
            " |  \n",
            " |  score(self, X, y, sample_weight=None)\n",
            " |      Return the coefficient of determination of the prediction.\n",
            " |      \n",
            " |      The coefficient of determination :math:`R^2` is defined as\n",
            " |      :math:`(1 - \\frac{u}{v})`, where :math:`u` is the residual\n",
            " |      sum of squares ``((y_true - y_pred)** 2).sum()`` and :math:`v`\n",
            " |      is the total sum of squares ``((y_true - y_true.mean()) ** 2).sum()``.\n",
            " |      The best possible score is 1.0 and it can be negative (because the\n",
            " |      model can be arbitrarily worse). A constant model that always predicts\n",
            " |      the expected value of `y`, disregarding the input features, would get\n",
            " |      a :math:`R^2` score of 0.0.\n",
            " |      \n",
            " |      Parameters\n",
            " |      ----------\n",
            " |      X : array-like of shape (n_samples, n_features)\n",
            " |          Test samples. For some estimators this may be a precomputed\n",
            " |          kernel matrix or a list of generic objects instead with shape\n",
            " |          ``(n_samples, n_samples_fitted)``, where ``n_samples_fitted``\n",
            " |          is the number of samples used in the fitting for the estimator.\n",
            " |      \n",
            " |      y : array-like of shape (n_samples,) or (n_samples, n_outputs)\n",
            " |          True values for `X`.\n",
            " |      \n",
            " |      sample_weight : array-like of shape (n_samples,), default=None\n",
            " |          Sample weights.\n",
            " |      \n",
            " |      Returns\n",
            " |      -------\n",
            " |      score : float\n",
            " |          :math:`R^2` of ``self.predict(X)`` w.r.t. `y`.\n",
            " |      \n",
            " |      Notes\n",
            " |      -----\n",
            " |      The :math:`R^2` score used when calling ``score`` on a regressor uses\n",
            " |      ``multioutput='uniform_average'`` from version 0.23 to keep consistent\n",
            " |      with default value of :func:`~sklearn.metrics.r2_score`.\n",
            " |      This influences the ``score`` method of all the multioutput\n",
            " |      regressors (except for\n",
            " |      :class:`~sklearn.multioutput.MultiOutputRegressor`).\n",
            " |  \n",
            " |  ----------------------------------------------------------------------\n",
            " |  Data descriptors inherited from sklearn.base.RegressorMixin:\n",
            " |  \n",
            " |  __dict__\n",
            " |      dictionary for instance variables (if defined)\n",
            " |  \n",
            " |  __weakref__\n",
            " |      list of weak references to the object (if defined)\n",
            " |  \n",
            " |  ----------------------------------------------------------------------\n",
            " |  Methods inherited from BaseDecisionTree:\n",
            " |  \n",
            " |  apply(self, X, check_input=True)\n",
            " |      Return the index of the leaf that each sample is predicted as.\n",
            " |      \n",
            " |      .. versionadded:: 0.17\n",
            " |      \n",
            " |      Parameters\n",
            " |      ----------\n",
            " |      X : {array-like, sparse matrix} of shape (n_samples, n_features)\n",
            " |          The input samples. Internally, it will be converted to\n",
            " |          ``dtype=np.float32`` and if a sparse matrix is provided\n",
            " |          to a sparse ``csr_matrix``.\n",
            " |      \n",
            " |      check_input : bool, default=True\n",
            " |          Allow to bypass several input checking.\n",
            " |          Don't use this parameter unless you know what you're doing.\n",
            " |      \n",
            " |      Returns\n",
            " |      -------\n",
            " |      X_leaves : array-like of shape (n_samples,)\n",
            " |          For each datapoint x in X, return the index of the leaf x\n",
            " |          ends up in. Leaves are numbered within\n",
            " |          ``[0; self.tree_.node_count)``, possibly with gaps in the\n",
            " |          numbering.\n",
            " |  \n",
            " |  cost_complexity_pruning_path(self, X, y, sample_weight=None)\n",
            " |      Compute the pruning path during Minimal Cost-Complexity Pruning.\n",
            " |      \n",
            " |      See :ref:`minimal_cost_complexity_pruning` for details on the pruning\n",
            " |      process.\n",
            " |      \n",
            " |      Parameters\n",
            " |      ----------\n",
            " |      X : {array-like, sparse matrix} of shape (n_samples, n_features)\n",
            " |          The training input samples. Internally, it will be converted to\n",
            " |          ``dtype=np.float32`` and if a sparse matrix is provided\n",
            " |          to a sparse ``csc_matrix``.\n",
            " |      \n",
            " |      y : array-like of shape (n_samples,) or (n_samples, n_outputs)\n",
            " |          The target values (class labels) as integers or strings.\n",
            " |      \n",
            " |      sample_weight : array-like of shape (n_samples,), default=None\n",
            " |          Sample weights. If None, then samples are equally weighted. Splits\n",
            " |          that would create child nodes with net zero or negative weight are\n",
            " |          ignored while searching for a split in each node. Splits are also\n",
            " |          ignored if they would result in any single class carrying a\n",
            " |          negative weight in either child node.\n",
            " |      \n",
            " |      Returns\n",
            " |      -------\n",
            " |      ccp_path : :class:`~sklearn.utils.Bunch`\n",
            " |          Dictionary-like object, with the following attributes.\n",
            " |      \n",
            " |          ccp_alphas : ndarray\n",
            " |              Effective alphas of subtree during pruning.\n",
            " |      \n",
            " |          impurities : ndarray\n",
            " |              Sum of the impurities of the subtree leaves for the\n",
            " |              corresponding alpha value in ``ccp_alphas``.\n",
            " |  \n",
            " |  decision_path(self, X, check_input=True)\n",
            " |      Return the decision path in the tree.\n",
            " |      \n",
            " |      .. versionadded:: 0.18\n",
            " |      \n",
            " |      Parameters\n",
            " |      ----------\n",
            " |      X : {array-like, sparse matrix} of shape (n_samples, n_features)\n",
            " |          The input samples. Internally, it will be converted to\n",
            " |          ``dtype=np.float32`` and if a sparse matrix is provided\n",
            " |          to a sparse ``csr_matrix``.\n",
            " |      \n",
            " |      check_input : bool, default=True\n",
            " |          Allow to bypass several input checking.\n",
            " |          Don't use this parameter unless you know what you're doing.\n",
            " |      \n",
            " |      Returns\n",
            " |      -------\n",
            " |      indicator : sparse matrix of shape (n_samples, n_nodes)\n",
            " |          Return a node indicator CSR matrix where non zero elements\n",
            " |          indicates that the samples goes through the nodes.\n",
            " |  \n",
            " |  get_depth(self)\n",
            " |      Return the depth of the decision tree.\n",
            " |      \n",
            " |      The depth of a tree is the maximum distance between the root\n",
            " |      and any leaf.\n",
            " |      \n",
            " |      Returns\n",
            " |      -------\n",
            " |      self.tree_.max_depth : int\n",
            " |          The maximum depth of the tree.\n",
            " |  \n",
            " |  get_n_leaves(self)\n",
            " |      Return the number of leaves of the decision tree.\n",
            " |      \n",
            " |      Returns\n",
            " |      -------\n",
            " |      self.tree_.n_leaves : int\n",
            " |          Number of leaves.\n",
            " |  \n",
            " |  predict(self, X, check_input=True)\n",
            " |      Predict class or regression value for X.\n",
            " |      \n",
            " |      For a classification model, the predicted class for each sample in X is\n",
            " |      returned. For a regression model, the predicted value based on X is\n",
            " |      returned.\n",
            " |      \n",
            " |      Parameters\n",
            " |      ----------\n",
            " |      X : {array-like, sparse matrix} of shape (n_samples, n_features)\n",
            " |          The input samples. Internally, it will be converted to\n",
            " |          ``dtype=np.float32`` and if a sparse matrix is provided\n",
            " |          to a sparse ``csr_matrix``.\n",
            " |      \n",
            " |      check_input : bool, default=True\n",
            " |          Allow to bypass several input checking.\n",
            " |          Don't use this parameter unless you know what you're doing.\n",
            " |      \n",
            " |      Returns\n",
            " |      -------\n",
            " |      y : array-like of shape (n_samples,) or (n_samples, n_outputs)\n",
            " |          The predicted classes, or the predict values.\n",
            " |  \n",
            " |  ----------------------------------------------------------------------\n",
            " |  Readonly properties inherited from BaseDecisionTree:\n",
            " |  \n",
            " |  feature_importances_\n",
            " |      Return the feature importances.\n",
            " |      \n",
            " |      The importance of a feature is computed as the (normalized) total\n",
            " |      reduction of the criterion brought by that feature.\n",
            " |      It is also known as the Gini importance.\n",
            " |      \n",
            " |      Warning: impurity-based feature importances can be misleading for\n",
            " |      high cardinality features (many unique values). See\n",
            " |      :func:`sklearn.inspection.permutation_importance` as an alternative.\n",
            " |      \n",
            " |      Returns\n",
            " |      -------\n",
            " |      feature_importances_ : ndarray of shape (n_features,)\n",
            " |          Normalized total reduction of criteria by feature\n",
            " |          (Gini importance).\n",
            " |  \n",
            " |  ----------------------------------------------------------------------\n",
            " |  Methods inherited from sklearn.base.BaseEstimator:\n",
            " |  \n",
            " |  __getstate__(self)\n",
            " |  \n",
            " |  __repr__(self, N_CHAR_MAX=700)\n",
            " |      Return repr(self).\n",
            " |  \n",
            " |  __setstate__(self, state)\n",
            " |  \n",
            " |  get_params(self, deep=True)\n",
            " |      Get parameters for this estimator.\n",
            " |      \n",
            " |      Parameters\n",
            " |      ----------\n",
            " |      deep : bool, default=True\n",
            " |          If True, will return the parameters for this estimator and\n",
            " |          contained subobjects that are estimators.\n",
            " |      \n",
            " |      Returns\n",
            " |      -------\n",
            " |      params : dict\n",
            " |          Parameter names mapped to their values.\n",
            " |  \n",
            " |  set_params(self, **params)\n",
            " |      Set the parameters of this estimator.\n",
            " |      \n",
            " |      The method works on simple estimators as well as on nested objects\n",
            " |      (such as :class:`~sklearn.pipeline.Pipeline`). The latter have\n",
            " |      parameters of the form ``<component>__<parameter>`` so that it's\n",
            " |      possible to update each component of a nested object.\n",
            " |      \n",
            " |      Parameters\n",
            " |      ----------\n",
            " |      **params : dict\n",
            " |          Estimator parameters.\n",
            " |      \n",
            " |      Returns\n",
            " |      -------\n",
            " |      self : estimator instance\n",
            " |          Estimator instance.\n",
            "\n"
          ]
        }
      ],
      "source": [
        "help(dt_clf)"
      ]
    },
    {
      "cell_type": "markdown",
      "id": "53d88aec",
      "metadata": {
        "id": "53d88aec"
      },
      "source": [
        "#### Discussion\n",
        "- compare decision tree classifier and regressor, what differences do you observe?\n",
        " + **The regressor's accuracy is much lower than classifier. Also, it's more complicated and is deeper if you don't set \"max_depth\".**\n",
        "- what parameter settings have you explored and how does each parameter affect the regressor performance?\n",
        " + **I explored criterion, max_depth, min_samples_split, and min_samples_leaf. Criterion: Affects split quality and error handling in the model. Max_depth: Balances between complexity and overfitting risk. (not \"the deeper, the better\"). Min_samples_split: Higher values reduce model complexity but may miss details.Min_samples_leaf: Prevents overfitting, but too high a value can oversimplify the model.**\n",
        "- can you interpret the feature importance under the context of this task?  \n",
        " + **BMI is an predominant factor for diabetes - it fits with my common sense. We need to do some execrise more to keep healthy. Sex is seemingly have no relation with diabetes.**\n",
        "- what else do you find interesting?\n",
        " + **Age is related to diabetes a little bit, that might be why we need to pay more attention to our health when we're getting more and more mature.**"
      ]
    },
    {
      "cell_type": "markdown",
      "id": "74d84d53",
      "metadata": {
        "id": "74d84d53"
      },
      "source": [
        "### Random Forest classifer/regressor [take-home assignment, update to your github repo]\n",
        "For a random forest classifier:\n",
        "- use the prepared iris dataset (X_train, y_train, X_test, y_test)\n",
        "- train a [RandomForestClassifier] on the training set\n",
        "    - (https://scikit-learn.org/stable/modules/generated/sklearn.ensemble.RandomForestClassifier.html)\n",
        "- report the model performance on the testing set\n",
        "- compare the performance of a decision tree classifier and a random forest classifier"
      ]
    },
    {
      "cell_type": "code",
      "execution_count": 88,
      "id": "91fad4c2",
      "metadata": {
        "id": "91fad4c2"
      },
      "outputs": [],
      "source": [
        "from sklearn.ensemble import RandomForestClassifier"
      ]
    },
    {
      "cell_type": "code",
      "source": [
        "X,y = iris.data, iris.target\n",
        "X_train, X_test, y_train, y_test = train_test_split(X, y, test_size=0.2, random_state=42)"
      ],
      "metadata": {
        "id": "j6RiMyO0pkea"
      },
      "id": "j6RiMyO0pkea",
      "execution_count": 114,
      "outputs": []
    },
    {
      "cell_type": "code",
      "execution_count": 126,
      "id": "2e1cc402",
      "metadata": {
        "id": "2e1cc402"
      },
      "outputs": [],
      "source": [
        "# train a random forest classier\n",
        "# set n_estimators = 1000, criterion = 'entropy', random_state = 42, and keep all the other parameters with the default value.\n",
        "\n",
        "rf_clf = RandomForestClassifier(n_estimators=1000, criterion='entropy',  random_state=42)\n"
      ]
    },
    {
      "cell_type": "code",
      "execution_count": 127,
      "id": "dd6902c0",
      "metadata": {
        "id": "dd6902c0",
        "colab": {
          "base_uri": "https://localhost:8080/"
        },
        "outputId": "6dd88f7a-5b75-4f92-8427-3955cbac703d"
      },
      "outputs": [
        {
          "output_type": "execute_result",
          "data": {
            "text/plain": [
              "1.0"
            ]
          },
          "metadata": {},
          "execution_count": 127
        }
      ],
      "source": [
        "# evaluate the random forest classifier on test set (round to the 3rd decimal, e.g., 0.971, 0.020)\n",
        "\n",
        "rf_clf = rf_clf.fit(X_train, y_train)\n",
        "np.round(rf_clf.score(X_test,y_test),3)"
      ]
    },
    {
      "cell_type": "code",
      "execution_count": 130,
      "id": "c86593bb",
      "metadata": {
        "id": "c86593bb",
        "colab": {
          "base_uri": "https://localhost:8080/"
        },
        "outputId": "f5ec01d5-cf41-4443-8986-be05d4d05113"
      },
      "outputs": [
        {
          "output_type": "execute_result",
          "data": {
            "text/plain": [
              "0.967"
            ]
          },
          "metadata": {},
          "execution_count": 130
        }
      ],
      "source": [
        "# try different model parameters (e.g., n_estimators) and check the results\n",
        "\n",
        "rf_clf = RandomForestClassifier(n_estimators=5, criterion='entropy',  random_state=42)\n",
        "rf_clf = rf_clf.fit(X_train, y_train)\n",
        "\n",
        "np.round(rf_clf.score(X_test,y_test),3)"
      ]
    },
    {
      "cell_type": "markdown",
      "id": "5bd71471",
      "metadata": {
        "id": "5bd71471"
      },
      "source": [
        "#### Discussion\n",
        "After comparing decision tree classifier and random forest classifier, share your thoughts and insights. E.g.,\n",
        "- which performed better?\n",
        "  + **Random classifier performed better with a score of 1.0 if the n_estimator is high enough.**\n",
        "- how does model parameter affect the model performance in the random forest classifier?\n",
        " + **More trees (higher n_estimator) can improve the model's performance (but I doubt that they only increase computational cost if it's too high).**"
      ]
    },
    {
      "cell_type": "markdown",
      "id": "a91276b1",
      "metadata": {
        "id": "a91276b1"
      },
      "source": [
        "### [Optional] take-home practice"
      ]
    },
    {
      "cell_type": "markdown",
      "id": "85610d5e",
      "metadata": {
        "id": "85610d5e"
      },
      "source": [
        "The following part provides a practice of calculating entropy and information gain from scratch. You can refer to the slides to review these concepts.\n",
        "\n",
        "For each of the designed function, we provide the function header, docstring, and expected results for the running examples. You can use the running example to check the correctness of your code. We have included all the necessary packages, but you are free to add any additional package when necessary. <br>"
      ]
    },
    {
      "cell_type": "code",
      "execution_count": 21,
      "id": "d553f07e",
      "metadata": {
        "id": "d553f07e"
      },
      "outputs": [],
      "source": [
        "def get_proportion(ct):\n",
        "    \"\"\"\n",
        "    Calculate the class distribution based on the number of samples in each class.\n",
        "    ct: a list of integers indicating the number of samples in each class\n",
        "        binary class: ct = [ct1, ct2]\n",
        "        multi-class: ct = [ct1, ct2, ...]\n",
        "    return: a list/array of numbers indicating the proportions of samples in each class\n",
        "    \"\"\"\n",
        "    ### your code here\n"
      ]
    },
    {
      "cell_type": "code",
      "execution_count": 22,
      "id": "2b3c1bcd",
      "metadata": {
        "id": "2b3c1bcd"
      },
      "outputs": [],
      "source": [
        "get_proportion([5,5])"
      ]
    },
    {
      "cell_type": "code",
      "execution_count": 23,
      "id": "ae0759bf",
      "metadata": {
        "id": "ae0759bf"
      },
      "outputs": [],
      "source": [
        "get_proportion([3,2])"
      ]
    },
    {
      "cell_type": "code",
      "execution_count": null,
      "id": "62539073",
      "metadata": {
        "id": "62539073"
      },
      "outputs": [],
      "source": [
        "def calculate_entropy(prop):\n",
        "    \"\"\"\n",
        "    Calculate the entropy at each node.\n",
        "    prop: a list of numbers indicating the proportion of samples in each class\n",
        "        binary case: [p, 1-p]\n",
        "        multi-class cases: [p1, p2, ...pn], where p1 + p2 + ... + pn = 1\n",
        "    return:\n",
        "        a float representing the entropy for the current sample distribution\n",
        "        please round to 3 digits after the decimal point\n",
        "    \"\"\"\n",
        "    ### your code here\n"
      ]
    },
    {
      "cell_type": "code",
      "execution_count": null,
      "id": "99d45174",
      "metadata": {
        "id": "99d45174"
      },
      "outputs": [],
      "source": [
        "calculate_entropy([0.5,0.5])"
      ]
    },
    {
      "cell_type": "code",
      "execution_count": null,
      "id": "a50cdd87",
      "metadata": {
        "id": "a50cdd87"
      },
      "outputs": [],
      "source": [
        "calculate_entropy([0.6,0.4])"
      ]
    },
    {
      "cell_type": "code",
      "execution_count": null,
      "id": "f1b97f75",
      "metadata": {
        "id": "f1b97f75"
      },
      "outputs": [],
      "source": [
        "calculate_entropy(get_proportion([3,5,2]))"
      ]
    },
    {
      "cell_type": "code",
      "execution_count": null,
      "id": "3e83bb8d",
      "metadata": {
        "id": "3e83bb8d"
      },
      "outputs": [],
      "source": [
        "def calculate_IG(root_counts, leaves_counts):\n",
        "    \"\"\"\n",
        "    Calculate information gain of splitting on a specific feature.\n",
        "    root_counts:\n",
        "        a list if integers indicating the number of samples for each class at the root node\n",
        "        e.g., root_counts = [3,2]\n",
        "    leaves_counts:\n",
        "        a list of lists, each sublist shows the sample distribution at each leaf node\n",
        "        E.g., in the slides, if we split on X1, leaves_counts = [[2,1],[1,1]]\n",
        "    return:\n",
        "        a float indicating the information gain of splitting on the current decision node:\n",
        "        please round to the 3rd decimal, e.g., 0.971, 0.020\n",
        "    note:\n",
        "        you will use the above helper functions in the calculation\n",
        "    \"\"\"\n",
        "    ### your code here\n"
      ]
    },
    {
      "cell_type": "code",
      "execution_count": null,
      "id": "cb91699c",
      "metadata": {
        "id": "cb91699c"
      },
      "outputs": [],
      "source": [
        "# running example for spliting on X1\n",
        "calculate_IG([3,2], [[2,1], [1,1]])"
      ]
    },
    {
      "cell_type": "code",
      "execution_count": null,
      "id": "118c50c4",
      "metadata": {
        "id": "118c50c4"
      },
      "outputs": [],
      "source": [
        "# running example for spliting on X2\n",
        "calculate_IG([3,2], [[2,2], [1,0]])"
      ]
    },
    {
      "cell_type": "code",
      "execution_count": null,
      "id": "7bdb45a8",
      "metadata": {
        "id": "7bdb45a8"
      },
      "outputs": [],
      "source": [
        "# running example for spliting on X3\n",
        "calculate_IG([3,2], [[3,0], [0,2]])"
      ]
    },
    {
      "cell_type": "code",
      "execution_count": null,
      "id": "ce377fdd",
      "metadata": {
        "id": "ce377fdd"
      },
      "outputs": [],
      "source": [
        "# running example for spliting on Outlook\n",
        "calculate_IG([9,5], [[2,3], [4,0], [3,2]])"
      ]
    },
    {
      "cell_type": "code",
      "execution_count": null,
      "id": "d7694cf8",
      "metadata": {
        "id": "d7694cf8"
      },
      "outputs": [],
      "source": []
    }
  ],
  "metadata": {
    "kernelspec": {
      "display_name": "Python 3",
      "language": "python",
      "name": "python3"
    },
    "language_info": {
      "codemirror_mode": {
        "name": "ipython",
        "version": 3
      },
      "file_extension": ".py",
      "mimetype": "text/x-python",
      "name": "python",
      "nbconvert_exporter": "python",
      "pygments_lexer": "ipython3",
      "version": "3.11.5"
    },
    "toc": {
      "base_numbering": 1,
      "nav_menu": {},
      "number_sections": true,
      "sideBar": true,
      "skip_h1_title": false,
      "title_cell": "Table of Contents",
      "title_sidebar": "Contents",
      "toc_cell": false,
      "toc_position": {},
      "toc_section_display": true,
      "toc_window_display": false
    },
    "colab": {
      "provenance": []
    }
  },
  "nbformat": 4,
  "nbformat_minor": 5
}