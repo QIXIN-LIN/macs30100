{
  "nbformat": 4,
  "nbformat_minor": 0,
  "metadata": {
    "colab": {
      "provenance": [],
      "machine_shape": "hm"
    },
    "kernelspec": {
      "name": "python3",
      "display_name": "Python 3"
    },
    "language_info": {
      "name": "python"
    }
  },
  "cells": [
    {
      "cell_type": "code",
      "execution_count": 13,
      "metadata": {
        "id": "O_4N9R6axl-O"
      },
      "outputs": [],
      "source": [
        "import numpy as np\n",
        "import pandas as pd\n",
        "import os\n",
        "from PIL import Image\n",
        "from sklearn.model_selection import train_test_split\n",
        "from sklearn.linear_model import LogisticRegression\n",
        "from sklearn.ensemble import RandomForestClassifier"
      ]
    },
    {
      "cell_type": "code",
      "source": [
        "# Unzip the image dataset\n",
        "\n",
        "# Just run once\n",
        "\n",
        "'''\n",
        "%cd /content\n",
        "!gdown --id '13shxKy6WSeAa7dPhccnSG9aoFZ76lVPT' --output fairface-img-margin025-trainval.zip\n",
        "!unzip fairface-img-margin025-trainval.zip"
      ],
      "metadata": {
        "id": "FK18SS90zQqP"
      },
      "execution_count": null,
      "outputs": []
    },
    {
      "cell_type": "code",
      "source": [
        "# Download the csv label file for the subset\n",
        "\n",
        "# Just run once\n",
        "\n",
        "'''\n",
        "%cd /content\n",
        "!gdown --id '1bwKY_aVMRIQ_IcrFnpsTG-E3ZE7iAM8t' --output fairface_subset.csv"
      ],
      "metadata": {
        "colab": {
          "base_uri": "https://localhost:8080/"
        },
        "id": "Cqmf7RP8_pmg",
        "outputId": "3797f1c7-369e-4ce7-98de-ab843b0752e5"
      },
      "execution_count": 2,
      "outputs": [
        {
          "output_type": "stream",
          "name": "stdout",
          "text": [
            "/content\n",
            "/usr/local/lib/python3.10/dist-packages/gdown/cli.py:138: FutureWarning: Option `--id` was deprecated in version 4.3.1 and will be removed in 5.0. You don't need to pass it anymore to use a file ID.\n",
            "  warnings.warn(\n",
            "Downloading...\n",
            "From: https://drive.google.com/uc?id=1bwKY_aVMRIQ_IcrFnpsTG-E3ZE7iAM8t\n",
            "To: /content/fairface_subset.csv\n",
            "100% 279k/279k [00:00<00:00, 89.7MB/s]\n"
          ]
        }
      ]
    },
    {
      "cell_type": "code",
      "source": [
        "# Load labels\n",
        "file_path = 'fairface_subset.csv'\n",
        "labels_df = pd.read_csv(file_path)\n",
        "\n",
        "labels_df.shape"
      ],
      "metadata": {
        "colab": {
          "base_uri": "https://localhost:8080/"
        },
        "id": "GRS2uGMhjtdm",
        "outputId": "72b85457-9c49-490b-aef0-c85eeec81e3e"
      },
      "execution_count": 5,
      "outputs": [
        {
          "output_type": "execute_result",
          "data": {
            "text/plain": [
              "(6300, 5)"
            ]
          },
          "metadata": {},
          "execution_count": 5
        }
      ]
    },
    {
      "cell_type": "code",
      "source": [
        "# Preprocess images\n",
        "def load_and_preprocess_image(image_path):\n",
        "  # Load image\n",
        "  image = Image.open(image_path)\n",
        "  image = image.resize((64, 64))\n",
        "\n",
        "  # Convert to grayscale\n",
        "  image = image.convert('L')\n",
        "\n",
        "  # Convert to numpy array and flatten\n",
        "  image_array = np.array(image).flatten()\n",
        "  return image_array\n",
        "\n",
        "\n",
        "images = [load_and_preprocess_image(f'{fname}') for fname in labels_df['file']]"
      ],
      "metadata": {
        "id": "mpe4JxSakrrF"
      },
      "execution_count": 6,
      "outputs": []
    },
    {
      "cell_type": "code",
      "source": [
        "# Create feature matrix X and labels y\n",
        "X = np.stack(images, axis=0)\n",
        "y = labels_df['gender'].values\n",
        "\n",
        "# Split data into training and testing sets\n",
        "X_train, X_test, y_train, y_test = train_test_split(X, y, test_size=0.2, random_state=42)"
      ],
      "metadata": {
        "id": "2v2pk61r0yEN"
      },
      "execution_count": 9,
      "outputs": []
    },
    {
      "cell_type": "markdown",
      "source": [
        "# Implementing Tree-based and Linear Models"
      ],
      "metadata": {
        "id": "Nw20zAkR2_8K"
      }
    },
    {
      "cell_type": "markdown",
      "source": [
        "## Tree-based models"
      ],
      "metadata": {
        "id": "gSmMaGa01EZB"
      }
    },
    {
      "cell_type": "code",
      "source": [
        "# Use random forest model\n",
        "clf_rf = RandomForestClassifier(n_estimators=100, random_state=42, bootstrap=False)\n",
        "clf_rf.fit(X_train, y_train)\n",
        "rf_predictions = clf_rf.predict(X_test)\n",
        "\n",
        "# Evaluate Random Forest\n",
        "print(\"Random Forest Performance:\" + str(np.round(clf_rf.score(X_test,y_test),3)))"
      ],
      "metadata": {
        "colab": {
          "base_uri": "https://localhost:8080/"
        },
        "id": "zAtqGthH1Mv5",
        "outputId": "1b014b33-dee5-4992-bfff-95f173a2a732"
      },
      "execution_count": 14,
      "outputs": [
        {
          "output_type": "stream",
          "name": "stdout",
          "text": [
            "Random Forest Performance:0.703\n"
          ]
        }
      ]
    },
    {
      "cell_type": "markdown",
      "source": [
        "## Linear models"
      ],
      "metadata": {
        "id": "kQfD1z6K1OE1"
      }
    },
    {
      "cell_type": "code",
      "source": [
        "# Choose the best hyper-parameter I found in the previous check-in point\n",
        "clf_linear = LogisticRegression(random_state=0, solver='saga', penalty='l1', C=0.01, max_iter=50)\n",
        "\n",
        "# Fit the model to the training data\n",
        "clf_linear.fit(X_train, y_train)\n",
        "\n",
        "# Get the score\n",
        "clf_linear.score(X_test, y_test)"
      ],
      "metadata": {
        "colab": {
          "base_uri": "https://localhost:8080/"
        },
        "id": "_3kVA7y_1QzV",
        "outputId": "8f12fb60-8e27-477d-d4dd-972529c9be63"
      },
      "execution_count": 12,
      "outputs": [
        {
          "output_type": "stream",
          "name": "stderr",
          "text": [
            "/usr/local/lib/python3.10/dist-packages/sklearn/linear_model/_sag.py:350: ConvergenceWarning: The max_iter was reached which means the coef_ did not converge\n",
            "  warnings.warn(\n"
          ]
        },
        {
          "output_type": "execute_result",
          "data": {
            "text/plain": [
              "0.7357142857142858"
            ]
          },
          "metadata": {},
          "execution_count": 12
        }
      ]
    },
    {
      "cell_type": "markdown",
      "source": [
        "# Re-calculate Model Performance Using Different Evaluation Metrics"
      ],
      "metadata": {
        "id": "50e6AKBf3Dd3"
      }
    },
    {
      "cell_type": "markdown",
      "source": [
        "## Precision/Recall/F1"
      ],
      "metadata": {
        "id": "wNf6YT593Goj"
      }
    },
    {
      "cell_type": "code",
      "source": [
        "from sklearn.metrics import classification_report\n",
        "\n",
        "# For the tree-based model\n",
        "preds_rf = clf_rf.predict(X_test)\n",
        "report_rf = classification_report(y_test, preds_rf, target_names=['Female', 'Male'])  # Adjust target names accordingly\n",
        "print(\"Random Forest Classification Report\")\n",
        "print(report_rf)\n",
        "\n",
        "# For the linear model\n",
        "preds_linear = clf_linear.predict(X_test)\n",
        "report_linear = classification_report(y_test, preds_linear, target_names=['Female', 'Male'])  # Adjust target names accordingly\n",
        "print(\"\\nLogistic Regression Classification Report\")\n",
        "print(report_linear)"
      ],
      "metadata": {
        "colab": {
          "base_uri": "https://localhost:8080/"
        },
        "id": "MIE9BoFr3I_O",
        "outputId": "90d2c367-6e0d-4de0-8a98-1d1f9f8de29a"
      },
      "execution_count": 19,
      "outputs": [
        {
          "output_type": "stream",
          "name": "stdout",
          "text": [
            "Random Forest Classification Report\n",
            "              precision    recall  f1-score   support\n",
            "\n",
            "      Female       0.70      0.70      0.70       624\n",
            "        Male       0.71      0.70      0.71       636\n",
            "\n",
            "    accuracy                           0.70      1260\n",
            "   macro avg       0.70      0.70      0.70      1260\n",
            "weighted avg       0.70      0.70      0.70      1260\n",
            "\n",
            "\n",
            "Logistic Regression Classification Report\n",
            "              precision    recall  f1-score   support\n",
            "\n",
            "      Female       0.73      0.73      0.73       624\n",
            "        Male       0.74      0.74      0.74       636\n",
            "\n",
            "    accuracy                           0.74      1260\n",
            "   macro avg       0.74      0.74      0.74      1260\n",
            "weighted avg       0.74      0.74      0.74      1260\n",
            "\n"
          ]
        }
      ]
    },
    {
      "cell_type": "markdown",
      "source": [
        "## Confusion Matrix"
      ],
      "metadata": {
        "id": "IfHEvzeH5O7E"
      }
    },
    {
      "cell_type": "code",
      "source": [
        "from sklearn.metrics import confusion_matrix\n",
        "import seaborn as sns\n",
        "import matplotlib.pyplot as plt\n",
        "\n",
        "# For the tree-based model\n",
        "preds_rf = clf_rf.predict(X_test)\n",
        "conf_matrix_rf = confusion_matrix(y_test, preds_rf)\n",
        "\n",
        "# Plotting the confusion matrix for the tree-based model\n",
        "plt.figure(figsize=(10, 7))\n",
        "sns.heatmap(conf_matrix_rf, annot=True, fmt=\"d\", cmap=\"Blues\", xticklabels=['Female', 'Male'], yticklabels=['Female', 'Male'])\n",
        "plt.title(\"Confusion Matrix for Random Forest\")\n",
        "plt.ylabel('True Label')\n",
        "plt.xlabel('Predicted Label')\n",
        "plt.show()\n",
        "\n",
        "# For the linear model\n",
        "preds_linear = clf_linear.predict(X_test)\n",
        "conf_matrix_linear = confusion_matrix(y_test, preds_linear)\n",
        "\n",
        "# Plotting the confusion matrix for the linear model\n",
        "plt.figure(figsize=(10, 7))\n",
        "sns.heatmap(conf_matrix_linear, annot=True, fmt=\"d\", cmap=\"Blues\", xticklabels=['Female', 'Male'], yticklabels=['Female', 'Male'])\n",
        "plt.title(\"Confusion Matrix for Logistic Regression\")\n",
        "plt.ylabel('True Label')\n",
        "plt.xlabel('Predicted Label')\n",
        "plt.show()"
      ],
      "metadata": {
        "colab": {
          "base_uri": "https://localhost:8080/",
          "height": 1000
        },
        "id": "2TuF-orD5Q5o",
        "outputId": "3b5286b1-45a7-4d5d-8438-f5a2d01bb36b"
      },
      "execution_count": 20,
      "outputs": [
        {
          "output_type": "display_data",
          "data": {
            "text/plain": [
              "<Figure size 1000x700 with 2 Axes>"
            ],
            "image/png": "[encoded data removed]"
          },
          "metadata": {}
        },
        {
          "output_type": "display_data",
          "data": {
            "text/plain": [
              "<Figure size 1000x700 with 2 Axes>"
            ],
            "image/png": "[encoded data removed]"
          },
          "metadata": {}
        }
      ]
    },
    {
      "cell_type": "markdown",
      "source": [
        "# Interpret Model Performance"
      ],
      "metadata": {
        "id": "pSCZuzyeBVpa"
      }
    },
    {
      "cell_type": "markdown",
      "source": [
        "## Random Forest Classification Report:\n",
        "+ Precision, Recall, and F1-Score: The Random Forest model has similar precision, recall, and F1-scores for both classes ('Female' and 'Male'). This indicates a balanced performance across the classes.\n",
        "+ Accuracy: The overall accuracy is 0.70, which means that 70% of the predictions made by the model were correct.\n",
        "\n",
        "## Logistic Regression Classification Report:\n",
        "+ Precision, Recall, and F1-Score: The Logistic Regression model shows slightly higher precision, recall, and F1-scores compared to the Random Forest model. This suggests that the Logistic Regression may be a bit better at distinguishing between the 'Female' and 'Male' classes.\n",
        "+ Accuracy: The overall accuracy is 0.74, which is slightly higher than the Random Forest model, indicating that Logistic Regression has a slight edge in the overall correct predictions.\n",
        "\n",
        "## Advantages and Disadvantages:\n",
        "+ Random Forest:\n",
        "  + Advantages:\n",
        "    + Capable of modeling complex relationships due to the ensemble of decision trees.\n",
        "    + Usually has good performance without the need for extensive data preprocessing, such as normalization.\n",
        "    + Less likely to overfit compared to individual decision trees.\n",
        "  + Disadvantages:\n",
        "    + More computationally intensive to train due to the ensemble of trees.\n",
        "    + Model interpretability is lower than logistic regression; it's harder to understand the relationship between input variables and the prediction.\n",
        "+ Logistic Regression:\n",
        "  + Advantages:\n",
        "    + It is a simple model that is easy to implement, interpret, and explain.\n",
        "    + Training is usually faster compared to Random Forest.\n",
        "    + Works well when the relationship between the features and the target is approximately linear.\n",
        "  + Disadvantages:\n",
        "    + May underperform if the relationship between features and the target is highly non-linear or complex.\n",
        "    + Requires careful feature selection and preprocessing to perform at its best.\n",
        "\n",
        "## Interpretation:\n",
        "+ The Logistic Regression model is performing slightly better than the Random Forest model in this case. This could be due to several reasons, such as:\n",
        " + The relationship between the features and the target might be closer to linear, which logistic regression can capture better.\n",
        " + The dataset might not have complex interactions and nonlinearities that Random Forest can exploit.\n",
        " + It's also possible that the hyperparameters for the Random Forest are not well-tuned, leading to suboptimal performance.\n"
      ],
      "metadata": {
        "id": "4UEaXS82AW3j"
      }
    },
    {
      "cell_type": "markdown",
      "source": [
        "# Apply GridSearchCV for Hyperparameter Tuning"
      ],
      "metadata": {
        "id": "OP7TK5HHGz2V"
      }
    },
    {
      "cell_type": "markdown",
      "source": [
        "## Random Forest"
      ],
      "metadata": {
        "id": "pqubsmNFG2Q2"
      }
    },
    {
      "cell_type": "code",
      "source": [
        "from sklearn.model_selection import GridSearchCV\n",
        "from sklearn.ensemble import RandomForestClassifier\n",
        "\n",
        "# Define the parameter grid for RandomForestClassifier\n",
        "param_grid_rf = {\n",
        "    'n_estimators': [10, 50, 100, 200],\n",
        "    'max_depth': [None, 10, 20, 30],\n",
        "    'min_samples_split': [2, 5, 10],\n",
        "    'min_samples_leaf': [1, 2, 4]\n",
        "}\n",
        "\n",
        "# Initialize the RandomForestClassifier\n",
        "rf = RandomForestClassifier(random_state=42)\n",
        "\n",
        "# Initialize the GridSearchCV object\n",
        "grid_search_rf = GridSearchCV(estimator=rf, param_grid=param_grid_rf, cv=5, n_jobs=-1, verbose=2, scoring='accuracy')\n",
        "\n",
        "# Fit the grid search to the data\n",
        "grid_search_rf.fit(X_train, y_train)\n",
        "\n",
        "# Get the best parameters and best score\n",
        "best_params_rf = grid_search_rf.best_params_\n",
        "best_score_rf = grid_search_rf.best_score_\n"
      ],
      "metadata": {
        "colab": {
          "base_uri": "https://localhost:8080/"
        },
        "id": "J_L0VOEs_cKS",
        "outputId": "3cb7ec88-ddd0-4e0e-ce8b-66823c68b605"
      },
      "execution_count": 25,
      "outputs": [
        {
          "output_type": "stream",
          "name": "stdout",
          "text": [
            "Fitting 5 folds for each of 144 candidates, totalling 720 fits\n"
          ]
        }
      ]
    },
    {
      "cell_type": "code",
      "source": [
        "print(best_params_rf)\n",
        "print(best_score_rf)"
      ],
      "metadata": {
        "colab": {
          "base_uri": "https://localhost:8080/"
        },
        "id": "CB49yfvPg2Wc",
        "outputId": "b0f97d27-8cc2-48d5-9bc9-27045e8369ba"
      },
      "execution_count": 29,
      "outputs": [
        {
          "output_type": "stream",
          "name": "stdout",
          "text": [
            "{'max_depth': None, 'min_samples_leaf': 4, 'min_samples_split': 2, 'n_estimators': 200}\n",
            "0.697420634920635\n"
          ]
        }
      ]
    },
    {
      "cell_type": "markdown",
      "source": [
        "This score is lower than the score above (0.703) - so I will just stick to the original hyperparameters (n_estimators=100, random_state=42, bootstrap=False)"
      ],
      "metadata": {
        "id": "wsz4OTWxhnt8"
      }
    },
    {
      "cell_type": "markdown",
      "source": [
        "## Linear Model"
      ],
      "metadata": {
        "id": "qnJK07pakevi"
      }
    },
    {
      "cell_type": "code",
      "source": [
        "from sklearn.linear_model import LogisticRegression\n",
        "\n",
        "# Define the parameter grid for LogisticRegression\n",
        "param_grid_lr = {\n",
        "    'C': [0.001, 0.01, 0.1, 1, 10, 100],\n",
        "    'solver': ['saga', 'liblinear'],\n",
        "    'max_iter': [100, 1000, 2000]\n",
        "}\n",
        "\n",
        "# Initialize the LogisticRegression\n",
        "lr = LogisticRegression(random_state=42)\n",
        "\n",
        "# Initialize the GridSearchCV object\n",
        "grid_search_lr = GridSearchCV(estimator=lr, param_grid=param_grid_lr, cv=5, n_jobs=-1, verbose=2, scoring='accuracy')\n",
        "\n",
        "# Fit the grid search to the data\n",
        "grid_search_lr.fit(X_train, y_train)\n",
        "\n",
        "# Get the best parameters and best score\n",
        "best_params_lr = grid_search_lr.best_params_\n",
        "best_score_lr = grid_search_lr.best_score_\n"
      ],
      "metadata": {
        "colab": {
          "base_uri": "https://localhost:8080/",
          "height": 373
        },
        "id": "RQOZn7cpAWC8",
        "outputId": "672c4fa8-a1f1-4a59-824f-c4dc27714f87"
      },
      "execution_count": 32,
      "outputs": [
        {
          "output_type": "stream",
          "name": "stdout",
          "text": [
            "Fitting 5 folds for each of 36 candidates, totalling 180 fits\n"
          ]
        },
        {
          "output_type": "error",
          "ename": "KeyboardInterrupt",
          "evalue": "",
          "traceback": [
            "\u001b[0;31m---------------------------------------------------------------------------\u001b[0m",
            "\u001b[0;31mKeyboardInterrupt\u001b[0m                         Traceback (most recent call last)",
            "\u001b[0;32m<ipython-input-32-43e63e91cab0>\u001b[0m in \u001b[0;36m<cell line: 17>\u001b[0;34m()\u001b[0m\n\u001b[1;32m     15\u001b[0m \u001b[0;34m\u001b[0m\u001b[0m\n\u001b[1;32m     16\u001b[0m \u001b[0;31m# Fit the grid search to the data\u001b[0m\u001b[0;34m\u001b[0m\u001b[0;34m\u001b[0m\u001b[0m\n\u001b[0;32m---> 17\u001b[0;31m \u001b[0mgrid_search_lr\u001b[0m\u001b[0;34m.\u001b[0m\u001b[0mfit\u001b[0m\u001b[0;34m(\u001b[0m\u001b[0mX_train\u001b[0m\u001b[0;34m,\u001b[0m \u001b[0my_train\u001b[0m\u001b[0;34m)\u001b[0m\u001b[0;34m\u001b[0m\u001b[0;34m\u001b[0m\u001b[0m\n\u001b[0m\u001b[1;32m     18\u001b[0m \u001b[0;34m\u001b[0m\u001b[0m\n\u001b[1;32m     19\u001b[0m \u001b[0;31m# Get the best parameters and best score\u001b[0m\u001b[0;34m\u001b[0m\u001b[0;34m\u001b[0m\u001b[0m\n",
            "\u001b[0;32m/usr/local/lib/python3.10/dist-packages/sklearn/model_selection/_search.py\u001b[0m in \u001b[0;36mfit\u001b[0;34m(self, X, y, groups, **fit_params)\u001b[0m\n\u001b[1;32m    872\u001b[0m                 \u001b[0;32mreturn\u001b[0m \u001b[0mresults\u001b[0m\u001b[0;34m\u001b[0m\u001b[0;34m\u001b[0m\u001b[0m\n\u001b[1;32m    873\u001b[0m \u001b[0;34m\u001b[0m\u001b[0m\n\u001b[0;32m--> 874\u001b[0;31m             \u001b[0mself\u001b[0m\u001b[0;34m.\u001b[0m\u001b[0m_run_search\u001b[0m\u001b[0;34m(\u001b[0m\u001b[0mevaluate_candidates\u001b[0m\u001b[0;34m)\u001b[0m\u001b[0;34m\u001b[0m\u001b[0;34m\u001b[0m\u001b[0m\n\u001b[0m\u001b[1;32m    875\u001b[0m \u001b[0;34m\u001b[0m\u001b[0m\n\u001b[1;32m    876\u001b[0m             \u001b[0;31m# multimetric is determined here because in the case of a callable\u001b[0m\u001b[0;34m\u001b[0m\u001b[0;34m\u001b[0m\u001b[0m\n",
            "\u001b[0;32m/usr/local/lib/python3.10/dist-packages/sklearn/model_selection/_search.py\u001b[0m in \u001b[0;36m_run_search\u001b[0;34m(self, evaluate_candidates)\u001b[0m\n\u001b[1;32m   1386\u001b[0m     \u001b[0;32mdef\u001b[0m \u001b[0m_run_search\u001b[0m\u001b[0;34m(\u001b[0m\u001b[0mself\u001b[0m\u001b[0;34m,\u001b[0m \u001b[0mevaluate_candidates\u001b[0m\u001b[0;34m)\u001b[0m\u001b[0;34m:\u001b[0m\u001b[0;34m\u001b[0m\u001b[0;34m\u001b[0m\u001b[0m\n\u001b[1;32m   1387\u001b[0m         \u001b[0;34m\"\"\"Search all candidates in param_grid\"\"\"\u001b[0m\u001b[0;34m\u001b[0m\u001b[0;34m\u001b[0m\u001b[0m\n\u001b[0;32m-> 1388\u001b[0;31m         \u001b[0mevaluate_candidates\u001b[0m\u001b[0;34m(\u001b[0m\u001b[0mParameterGrid\u001b[0m\u001b[0;34m(\u001b[0m\u001b[0mself\u001b[0m\u001b[0;34m.\u001b[0m\u001b[0mparam_grid\u001b[0m\u001b[0;34m)\u001b[0m\u001b[0;34m)\u001b[0m\u001b[0;34m\u001b[0m\u001b[0;34m\u001b[0m\u001b[0m\n\u001b[0m\u001b[1;32m   1389\u001b[0m \u001b[0;34m\u001b[0m\u001b[0m\n\u001b[1;32m   1390\u001b[0m \u001b[0;34m\u001b[0m\u001b[0m\n",
            "\u001b[0;32m/usr/local/lib/python3.10/dist-packages/sklearn/model_selection/_search.py\u001b[0m in \u001b[0;36mevaluate_candidates\u001b[0;34m(candidate_params, cv, more_results)\u001b[0m\n\u001b[1;32m    819\u001b[0m                     )\n\u001b[1;32m    820\u001b[0m \u001b[0;34m\u001b[0m\u001b[0m\n\u001b[0;32m--> 821\u001b[0;31m                 out = parallel(\n\u001b[0m\u001b[1;32m    822\u001b[0m                     delayed(_fit_and_score)(\n\u001b[1;32m    823\u001b[0m                         \u001b[0mclone\u001b[0m\u001b[0;34m(\u001b[0m\u001b[0mbase_estimator\u001b[0m\u001b[0;34m)\u001b[0m\u001b[0;34m,\u001b[0m\u001b[0;34m\u001b[0m\u001b[0;34m\u001b[0m\u001b[0m\n",
            "\u001b[0;32m/usr/local/lib/python3.10/dist-packages/sklearn/utils/parallel.py\u001b[0m in \u001b[0;36m__call__\u001b[0;34m(self, iterable)\u001b[0m\n\u001b[1;32m     61\u001b[0m             \u001b[0;32mfor\u001b[0m \u001b[0mdelayed_func\u001b[0m\u001b[0;34m,\u001b[0m \u001b[0margs\u001b[0m\u001b[0;34m,\u001b[0m \u001b[0mkwargs\u001b[0m \u001b[0;32min\u001b[0m \u001b[0miterable\u001b[0m\u001b[0;34m\u001b[0m\u001b[0;34m\u001b[0m\u001b[0m\n\u001b[1;32m     62\u001b[0m         )\n\u001b[0;32m---> 63\u001b[0;31m         \u001b[0;32mreturn\u001b[0m \u001b[0msuper\u001b[0m\u001b[0;34m(\u001b[0m\u001b[0;34m)\u001b[0m\u001b[0;34m.\u001b[0m\u001b[0m__call__\u001b[0m\u001b[0;34m(\u001b[0m\u001b[0miterable_with_config\u001b[0m\u001b[0;34m)\u001b[0m\u001b[0;34m\u001b[0m\u001b[0;34m\u001b[0m\u001b[0m\n\u001b[0m\u001b[1;32m     64\u001b[0m \u001b[0;34m\u001b[0m\u001b[0m\n\u001b[1;32m     65\u001b[0m \u001b[0;34m\u001b[0m\u001b[0m\n",
            "\u001b[0;32m/usr/local/lib/python3.10/dist-packages/joblib/parallel.py\u001b[0m in \u001b[0;36m__call__\u001b[0;34m(self, iterable)\u001b[0m\n\u001b[1;32m   1950\u001b[0m         \u001b[0mnext\u001b[0m\u001b[0;34m(\u001b[0m\u001b[0moutput\u001b[0m\u001b[0;34m)\u001b[0m\u001b[0;34m\u001b[0m\u001b[0;34m\u001b[0m\u001b[0m\n\u001b[1;32m   1951\u001b[0m \u001b[0;34m\u001b[0m\u001b[0m\n\u001b[0;32m-> 1952\u001b[0;31m         \u001b[0;32mreturn\u001b[0m \u001b[0moutput\u001b[0m \u001b[0;32mif\u001b[0m \u001b[0mself\u001b[0m\u001b[0;34m.\u001b[0m\u001b[0mreturn_generator\u001b[0m \u001b[0;32melse\u001b[0m \u001b[0mlist\u001b[0m\u001b[0;34m(\u001b[0m\u001b[0moutput\u001b[0m\u001b[0;34m)\u001b[0m\u001b[0;34m\u001b[0m\u001b[0;34m\u001b[0m\u001b[0m\n\u001b[0m\u001b[1;32m   1953\u001b[0m \u001b[0;34m\u001b[0m\u001b[0m\n\u001b[1;32m   1954\u001b[0m     \u001b[0;32mdef\u001b[0m \u001b[0m__repr__\u001b[0m\u001b[0;34m(\u001b[0m\u001b[0mself\u001b[0m\u001b[0;34m)\u001b[0m\u001b[0;34m:\u001b[0m\u001b[0;34m\u001b[0m\u001b[0;34m\u001b[0m\u001b[0m\n",
            "\u001b[0;32m/usr/local/lib/python3.10/dist-packages/joblib/parallel.py\u001b[0m in \u001b[0;36m_get_outputs\u001b[0;34m(self, iterator, pre_dispatch)\u001b[0m\n\u001b[1;32m   1593\u001b[0m \u001b[0;34m\u001b[0m\u001b[0m\n\u001b[1;32m   1594\u001b[0m             \u001b[0;32mwith\u001b[0m \u001b[0mself\u001b[0m\u001b[0;34m.\u001b[0m\u001b[0m_backend\u001b[0m\u001b[0;34m.\u001b[0m\u001b[0mretrieval_context\u001b[0m\u001b[0;34m(\u001b[0m\u001b[0;34m)\u001b[0m\u001b[0;34m:\u001b[0m\u001b[0;34m\u001b[0m\u001b[0;34m\u001b[0m\u001b[0m\n\u001b[0;32m-> 1595\u001b[0;31m                 \u001b[0;32myield\u001b[0m \u001b[0;32mfrom\u001b[0m \u001b[0mself\u001b[0m\u001b[0;34m.\u001b[0m\u001b[0m_retrieve\u001b[0m\u001b[0;34m(\u001b[0m\u001b[0;34m)\u001b[0m\u001b[0;34m\u001b[0m\u001b[0;34m\u001b[0m\u001b[0m\n\u001b[0m\u001b[1;32m   1596\u001b[0m \u001b[0;34m\u001b[0m\u001b[0m\n\u001b[1;32m   1597\u001b[0m         \u001b[0;32mexcept\u001b[0m \u001b[0mGeneratorExit\u001b[0m\u001b[0;34m:\u001b[0m\u001b[0;34m\u001b[0m\u001b[0;34m\u001b[0m\u001b[0m\n",
            "\u001b[0;32m/usr/local/lib/python3.10/dist-packages/joblib/parallel.py\u001b[0m in \u001b[0;36m_retrieve\u001b[0;34m(self)\u001b[0m\n\u001b[1;32m   1705\u001b[0m                 (self._jobs[0].get_status(\n\u001b[1;32m   1706\u001b[0m                     timeout=self.timeout) == TASK_PENDING)):\n\u001b[0;32m-> 1707\u001b[0;31m                 \u001b[0mtime\u001b[0m\u001b[0;34m.\u001b[0m\u001b[0msleep\u001b[0m\u001b[0;34m(\u001b[0m\u001b[0;36m0.01\u001b[0m\u001b[0;34m)\u001b[0m\u001b[0;34m\u001b[0m\u001b[0;34m\u001b[0m\u001b[0m\n\u001b[0m\u001b[1;32m   1708\u001b[0m                 \u001b[0;32mcontinue\u001b[0m\u001b[0;34m\u001b[0m\u001b[0;34m\u001b[0m\u001b[0m\n\u001b[1;32m   1709\u001b[0m \u001b[0;34m\u001b[0m\u001b[0m\n",
            "\u001b[0;31mKeyboardInterrupt\u001b[0m: "
          ]
        }
      ]
    },
    {
      "cell_type": "markdown",
      "source": [
        "I failed to run the code above - seems like it would take hours (maybe because there're too many features in the image dataset).\n",
        "\n",
        "I'm glad that I just found the best parameter before in P.2.2. I will use the (random_state=0, solver='saga', penalty='l1', C=0.01, max_iter=50) to validate the model performance."
      ],
      "metadata": {
        "id": "QQX-KV8fgtNZ"
      }
    },
    {
      "cell_type": "markdown",
      "source": [
        "# Apply KFold Cross Validation"
      ],
      "metadata": {
        "id": "yEjfF_Uhh8fJ"
      }
    },
    {
      "cell_type": "markdown",
      "source": [
        "## Random Forest"
      ],
      "metadata": {
        "id": "halU2yh4kLNp"
      }
    },
    {
      "cell_type": "code",
      "source": [
        "from sklearn.model_selection import cross_val_score, KFold\n",
        "\n",
        "clf_rf = RandomForestClassifier(n_estimators=100, random_state=42)\n",
        "\n",
        "# Setup KFold cross-validation\n",
        "kf = KFold(n_splits=5, shuffle=True, random_state=42)\n",
        "\n",
        "# Perform cross-validation\n",
        "cv_scores_rf = cross_val_score(clf_rf, X, y, cv=kf, scoring='accuracy')\n",
        "\n",
        "# Print the average of the cross-validation scores\n",
        "print(f'Random Forest CV Accuracy: {cv_scores_rf.mean()} ± {cv_scores_rf.std()}')\n"
      ],
      "metadata": {
        "colab": {
          "base_uri": "https://localhost:8080/"
        },
        "id": "WudITJcdh8O_",
        "outputId": "72831753-36a0-4515-bb55-5a6e9583b5c5"
      },
      "execution_count": 30,
      "outputs": [
        {
          "output_type": "stream",
          "name": "stdout",
          "text": [
            "Random Forest CV Accuracy: 0.6887301587301587 ± 0.011439589045541071\n"
          ]
        }
      ]
    },
    {
      "cell_type": "markdown",
      "source": [
        "## Linear model"
      ],
      "metadata": {
        "id": "5O4RZ0lWkR4M"
      }
    },
    {
      "cell_type": "code",
      "source": [
        "clf_linear = LogisticRegression(solver='saga', penalty='l1', C=0.01, max_iter=50, random_state=42)\n",
        "\n",
        "# Perform cross-validation\n",
        "cv_scores_linear = cross_val_score(clf_linear, X, y, cv=kf, scoring='accuracy')\n",
        "\n",
        "# Print the average of the cross-validation scores\n",
        "print(f'Logistic Regression CV Accuracy: {cv_scores_linear.mean()} ± {cv_scores_linear.std()}')"
      ],
      "metadata": {
        "colab": {
          "base_uri": "https://localhost:8080/"
        },
        "id": "iejgS7koj5-R",
        "outputId": "b255f8e0-2093-4be0-a6e4-da55998438b0"
      },
      "execution_count": 31,
      "outputs": [
        {
          "output_type": "stream",
          "name": "stderr",
          "text": [
            "/usr/local/lib/python3.10/dist-packages/sklearn/linear_model/_sag.py:350: ConvergenceWarning: The max_iter was reached which means the coef_ did not converge\n",
            "  warnings.warn(\n",
            "/usr/local/lib/python3.10/dist-packages/sklearn/linear_model/_sag.py:350: ConvergenceWarning: The max_iter was reached which means the coef_ did not converge\n",
            "  warnings.warn(\n",
            "/usr/local/lib/python3.10/dist-packages/sklearn/linear_model/_sag.py:350: ConvergenceWarning: The max_iter was reached which means the coef_ did not converge\n",
            "  warnings.warn(\n",
            "/usr/local/lib/python3.10/dist-packages/sklearn/linear_model/_sag.py:350: ConvergenceWarning: The max_iter was reached which means the coef_ did not converge\n",
            "  warnings.warn(\n"
          ]
        },
        {
          "output_type": "stream",
          "name": "stdout",
          "text": [
            "Logistic Regression CV Accuracy: 0.7288888888888889 ± 0.007179798652634077\n"
          ]
        },
        {
          "output_type": "stream",
          "name": "stderr",
          "text": [
            "/usr/local/lib/python3.10/dist-packages/sklearn/linear_model/_sag.py:350: ConvergenceWarning: The max_iter was reached which means the coef_ did not converge\n",
            "  warnings.warn(\n"
          ]
        }
      ]
    },
    {
      "cell_type": "markdown",
      "source": [
        "Looks like linear model performs better!"
      ],
      "metadata": {
        "id": "jOKZtEqFlAT8"
      }
    }
  ]
}